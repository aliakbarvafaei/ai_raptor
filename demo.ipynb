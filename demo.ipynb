{
 "cells": [
  {
   "cell_type": "markdown",
   "id": "912cd8c6-d405-4dfe-8897-46108e6a6af7",
   "metadata": {},
   "source": [
    "# RAPTOR: Recursive Abstractive Processing for Tree-Organized Retrieval"
   ]
  },
  {
   "cell_type": "code",
   "execution_count": 1,
   "id": "631b09a3",
   "metadata": {},
   "outputs": [],
   "source": [
    "# NOTE: An OpenAI API key must be set here for application initialization, even if not in use.\n",
    "# If you're not utilizing OpenAI models, assign a placeholder string (e.g., \"not_used\").\n",
    "import os\n",
    "# os.environ[\"OPENAI_API_KEY\"]"
   ]
  },
  {
   "cell_type": "code",
   "execution_count": 2,
   "id": "e2d7d995-7beb-40b5-9a44-afd350b7d221",
   "metadata": {},
   "outputs": [
    {
     "name": "stdout",
     "output_type": "stream",
     "text": [
      "The wife of a rich man fell sick, and as she felt that her end\n",
      "was drawing near, she called her only\n"
     ]
    }
   ],
   "source": [
    "# Cinderella story defined in sample.txt\n",
    "with open('demo/sample.txt', 'r') as file:\n",
    "    text = file.read()\n",
    "\n",
    "print(text[:100])"
   ]
  },
  {
   "cell_type": "markdown",
   "id": "c7d51ebd-5597-4fdd-8c37-32636395081b",
   "metadata": {},
   "source": [
    "1) **Building**: RAPTOR recursively embeds, clusters, and summarizes chunks of text to construct a tree with varying levels of summarization from the bottom up. You can create a tree from the text in 'sample.txt' using `RA.add_documents(text)`.\n",
    "\n",
    "2) **Querying**: At inference time, the RAPTOR model retrieves information from this tree, integrating data across lengthy documents at different abstraction levels. You can perform queries on the tree with `RA.answer_question`."
   ]
  },
  {
   "cell_type": "markdown",
   "id": "f4f58830-9004-48a4-b50e-61a855511d24",
   "metadata": {},
   "source": [
    "### Building the tree"
   ]
  },
  {
   "cell_type": "code",
   "execution_count": 3,
   "id": "3753fcf9-0a8e-4ab3-bf3a-6be38ef6cd1e",
   "metadata": {},
   "outputs": [
    {
     "name": "stderr",
     "output_type": "stream",
     "text": [
      "2025-01-27 22:54:15,114 - Loading faiss with AVX2 support.\n",
      "2025-01-27 22:54:15,419 - Successfully loaded faiss with AVX2 support.\n"
     ]
    }
   ],
   "source": [
    "from raptor import RetrievalAugmentation "
   ]
  },
  {
   "cell_type": "code",
   "execution_count": null,
   "id": "7e843edf",
   "metadata": {},
   "outputs": [],
   "source": [
    "RA = RetrievalAugmentation()\n",
    "\n",
    "# construct the tree\n",
    "RA.add_documents(text)"
   ]
  },
  {
   "cell_type": "markdown",
   "id": "f219d60a-1f0b-4cee-89eb-2ae026f13e63",
   "metadata": {},
   "source": [
    "### Querying from the tree\n",
    "\n",
    "```python\n",
    "question = # any question\n",
    "RA.answer_question(question)\n",
    "```"
   ]
  },
  {
   "cell_type": "code",
   "execution_count": null,
   "id": "1b4037c5-ad5a-424b-80e4-a67b8e00773b",
   "metadata": {},
   "outputs": [],
   "source": [
    "question = \"How did Cinderella reach her happy ending ?\"\n",
    "\n",
    "answer = RA.answer_question(question=question)\n",
    "\n",
    "print(\"Answer: \", answer)"
   ]
  },
  {
   "cell_type": "code",
   "execution_count": null,
   "id": "f5be7e57",
   "metadata": {},
   "outputs": [],
   "source": [
    "# Save the tree by calling RA.save(\"path/to/save\")\n",
    "SAVE_PATH = \"demo/cinderella\"\n",
    "RA.save(SAVE_PATH)"
   ]
  },
  {
   "cell_type": "code",
   "execution_count": null,
   "id": "2e845de9",
   "metadata": {},
   "outputs": [],
   "source": [
    "# load back the tree by passing it into RetrievalAugmentation\n",
    "\n",
    "RA = RetrievalAugmentation(tree=SAVE_PATH)\n",
    "\n",
    "answer = RA.answer_question(question=question)\n",
    "print(\"Answer: \", answer)"
   ]
  },
  {
   "cell_type": "markdown",
   "id": "277ab6ea-1c79-4ed1-97de-1c2e39d6db2e",
   "metadata": {},
   "source": [
    "## Using other Open Source Models for Summarization/QA/Embeddings\n",
    "\n",
    "If you want to use other models such as Llama or Mistral, you can very easily define your own models and use them with RAPTOR. "
   ]
  },
  {
   "cell_type": "code",
   "execution_count": 4,
   "id": "f86cbe7e",
   "metadata": {},
   "outputs": [],
   "source": [
    "import torch\n",
    "from raptor import BaseSummarizationModel, BaseQAModel, BaseEmbeddingModel, RetrievalAugmentationConfig\n",
    "from transformers import AutoTokenizer, pipeline"
   ]
  },
  {
   "cell_type": "code",
   "execution_count": 5,
   "id": "fe5cef43",
   "metadata": {},
   "outputs": [
    {
     "data": {
      "application/vnd.jupyter.widget-view+json": {
       "model_id": "15c00c6ac9cb4ae6868c8eedcacd4e31",
       "version_major": 2,
       "version_minor": 0
      },
      "text/plain": [
       "VBox(children=(HTML(value='<center> <img\\nsrc=https://huggingface.co/front/assets/huggingface_logo-noborder.sv…"
      ]
     },
     "metadata": {},
     "output_type": "display_data"
    },
    {
     "name": "stderr",
     "output_type": "stream",
     "text": [
      "Token has not been saved to git credential helper.\n",
      "2025-01-27 22:54:41,121 - Token has not been saved to git credential helper.\n"
     ]
    }
   ],
   "source": [
    "# if you want to use the Gemma, you will need to authenticate with HuggingFace, Skip this step, if you have the model already downloaded\n",
    "from huggingface_hub import login\n",
    "login()"
   ]
  },
  {
   "cell_type": "code",
   "execution_count": 7,
   "id": "245b91a5",
   "metadata": {},
   "outputs": [],
   "source": [
    "from transformers import AutoTokenizer, pipeline\n",
    "import torch\n",
    "\n",
    "# You can define your own Summarization model by extending the base Summarization Class. \n",
    "class GEMMASummarizationModel(BaseSummarizationModel):\n",
    "    def __init__(self, model_name=\"google/gemma-2b-it\"):\n",
    "        # Initialize the tokenizer and the pipeline for the GEMMA model\n",
    "        self.tokenizer = AutoTokenizer.from_pretrained(model_name)\n",
    "        self.summarization_pipeline = pipeline(\n",
    "            \"text-generation\",\n",
    "            model=model_name,\n",
    "            model_kwargs={\"torch_dtype\": torch.bfloat16},\n",
    "            device=torch.device('cuda' if torch.cuda.is_available() else 'cpu'),  # Use \"cpu\" if CUDA is not available\n",
    "        )\n",
    "\n",
    "    def summarize(self, context, max_tokens=150):\n",
    "        # Format the prompt for summarization\n",
    "        messages=[\n",
    "            {\"role\": \"user\", \"content\": f\"Write a summary of the following, including as many key details as possible: {context}:\"}\n",
    "        ]\n",
    "        \n",
    "        prompt = self.tokenizer.apply_chat_template(messages, tokenize=False, add_generation_prompt=True)\n",
    "        \n",
    "        # Generate the summary using the pipeline\n",
    "        outputs = self.summarization_pipeline(\n",
    "            prompt,\n",
    "            max_new_tokens=max_tokens,\n",
    "            do_sample=True,\n",
    "            temperature=0.7,\n",
    "            top_k=50,\n",
    "            top_p=0.95\n",
    "        )\n",
    "        \n",
    "        # Extracting and returning the generated summary\n",
    "        summary = outputs[0][\"generated_text\"].strip()\n",
    "        return summary\n"
   ]
  },
  {
   "cell_type": "code",
   "execution_count": 8,
   "id": "a171496d",
   "metadata": {},
   "outputs": [],
   "source": [
    "class GEMMAQAModel(BaseQAModel):\n",
    "    def __init__(self, model_name= \"google/gemma-2b-it\"):\n",
    "        # Initialize the tokenizer and the pipeline for the model\n",
    "        self.tokenizer = AutoTokenizer.from_pretrained(model_name)\n",
    "        self.qa_pipeline = pipeline(\n",
    "            \"text-generation\",\n",
    "            model=model_name,\n",
    "            model_kwargs={\"torch_dtype\": torch.bfloat16},\n",
    "            device=torch.device('cuda' if torch.cuda.is_available() else 'cpu'),\n",
    "        )\n",
    "\n",
    "    def answer_question(self, context, question):\n",
    "        # Apply the chat template for the context and question\n",
    "        messages=[\n",
    "              {\"role\": \"user\", \"content\": f\"Given Context: {context} Give the best full answer amongst the option to question {question}\"}\n",
    "        ]\n",
    "        prompt = self.tokenizer.apply_chat_template(messages, tokenize=False, add_generation_prompt=True)\n",
    "        \n",
    "        # Generate the answer using the pipeline\n",
    "        outputs = self.qa_pipeline(\n",
    "            prompt,\n",
    "            max_new_tokens=256,\n",
    "            do_sample=True,\n",
    "            temperature=0.7,\n",
    "            top_k=50,\n",
    "            top_p=0.95\n",
    "        )\n",
    "        \n",
    "        # Extracting and returning the generated answer\n",
    "        answer = outputs[0][\"generated_text\"][len(prompt):]\n",
    "        return answer"
   ]
  },
  {
   "cell_type": "code",
   "execution_count": 9,
   "id": "878f7c7b",
   "metadata": {},
   "outputs": [],
   "source": [
    "from sentence_transformers import SentenceTransformer\n",
    "class SBertEmbeddingModel(BaseEmbeddingModel):\n",
    "    def __init__(self, model_name=\"BAAI/bge-small-en-v1.5\"):\n",
    "        self.model = SentenceTransformer(model_name)\n",
    "\n",
    "    def create_embedding(self, text):\n",
    "        return self.model.encode(text)\n"
   ]
  },
  {
   "cell_type": "code",
   "execution_count": 10,
   "id": "255791ce",
   "metadata": {},
   "outputs": [
    {
     "data": {
      "application/vnd.jupyter.widget-view+json": {
       "model_id": "a3dd01b22124410f9582d40c43bbbd0d",
       "version_major": 2,
       "version_minor": 0
      },
      "text/plain": [
       "Loading checkpoint shards:   0%|          | 0/2 [00:00<?, ?it/s]"
      ]
     },
     "metadata": {},
     "output_type": "display_data"
    },
    {
     "name": "stderr",
     "output_type": "stream",
     "text": [
      "Device set to use cpu\n"
     ]
    },
    {
     "data": {
      "application/vnd.jupyter.widget-view+json": {
       "model_id": "942b852b31254ddd94e305fa6907cfa9",
       "version_major": 2,
       "version_minor": 0
      },
      "text/plain": [
       "Loading checkpoint shards:   0%|          | 0/2 [00:00<?, ?it/s]"
      ]
     },
     "metadata": {},
     "output_type": "display_data"
    },
    {
     "name": "stderr",
     "output_type": "stream",
     "text": [
      "Device set to use cpu\n",
      "2025-01-27 19:19:49,220 - Use pytorch device_name: cpu\n",
      "2025-01-27 19:19:49,222 - Load pretrained SentenceTransformer: BAAI/bge-small-en-v1.5\n"
     ]
    }
   ],
   "source": [
    "RAC = RetrievalAugmentationConfig(summarization_model=GEMMASummarizationModel(), qa_model=GEMMAQAModel(), embedding_model=SBertEmbeddingModel())"
   ]
  },
  {
   "cell_type": "code",
   "execution_count": 11,
   "id": "fee46f1d",
   "metadata": {},
   "outputs": [
    {
     "name": "stderr",
     "output_type": "stream",
     "text": [
      "2025-01-27 19:20:05,904 - Successfully initialized TreeBuilder with Config \n",
      "        TreeBuilderConfig:\n",
      "            Tokenizer: <Encoding 'cl100k_base'>\n",
      "            Max Tokens: 100\n",
      "            Num Layers: 5\n",
      "            Threshold: 0.5\n",
      "            Top K: 5\n",
      "            Selection Mode: top_k\n",
      "            Summarization Length: 100\n",
      "            Summarization Model: <__main__.GEMMASummarizationModel object at 0x000001C0FEB4EAD0>\n",
      "            Embedding Models: {'EMB': <__main__.SBertEmbeddingModel object at 0x000001C0FD770A90>}\n",
      "            Cluster Embedding Model: EMB\n",
      "        \n",
      "        Reduction Dimension: 10\n",
      "        Clustering Algorithm: RAPTOR_Clustering\n",
      "        Clustering Parameters: {}\n",
      "        \n",
      "2025-01-27 19:20:05,907 - Successfully initialized ClusterTreeBuilder with Config \n",
      "        TreeBuilderConfig:\n",
      "            Tokenizer: <Encoding 'cl100k_base'>\n",
      "            Max Tokens: 100\n",
      "            Num Layers: 5\n",
      "            Threshold: 0.5\n",
      "            Top K: 5\n",
      "            Selection Mode: top_k\n",
      "            Summarization Length: 100\n",
      "            Summarization Model: <__main__.GEMMASummarizationModel object at 0x000001C0FEB4EAD0>\n",
      "            Embedding Models: {'EMB': <__main__.SBertEmbeddingModel object at 0x000001C0FD770A90>}\n",
      "            Cluster Embedding Model: EMB\n",
      "        \n",
      "        Reduction Dimension: 10\n",
      "        Clustering Algorithm: RAPTOR_Clustering\n",
      "        Clustering Parameters: {}\n",
      "        \n",
      "2025-01-27 19:20:05,909 - Successfully initialized RetrievalAugmentation with Config \n",
      "        RetrievalAugmentationConfig:\n",
      "            \n",
      "        TreeBuilderConfig:\n",
      "            Tokenizer: <Encoding 'cl100k_base'>\n",
      "            Max Tokens: 100\n",
      "            Num Layers: 5\n",
      "            Threshold: 0.5\n",
      "            Top K: 5\n",
      "            Selection Mode: top_k\n",
      "            Summarization Length: 100\n",
      "            Summarization Model: <__main__.GEMMASummarizationModel object at 0x000001C0FEB4EAD0>\n",
      "            Embedding Models: {'EMB': <__main__.SBertEmbeddingModel object at 0x000001C0FD770A90>}\n",
      "            Cluster Embedding Model: EMB\n",
      "        \n",
      "        Reduction Dimension: 10\n",
      "        Clustering Algorithm: RAPTOR_Clustering\n",
      "        Clustering Parameters: {}\n",
      "        \n",
      "            \n",
      "            \n",
      "        TreeRetrieverConfig:\n",
      "            Tokenizer: <Encoding 'cl100k_base'>\n",
      "            Threshold: 0.5\n",
      "            Top K: 5\n",
      "            Selection Mode: top_k\n",
      "            Context Embedding Model: EMB\n",
      "            Embedding Model: <__main__.SBertEmbeddingModel object at 0x000001C0FD770A90>\n",
      "            Num Layers: None\n",
      "            Start Layer: None\n",
      "        \n",
      "            \n",
      "            QA Model: <__main__.GEMMAQAModel object at 0x000001C0FD81BD60>\n",
      "            Tree Builder Type: cluster\n",
      "        \n"
     ]
    }
   ],
   "source": [
    "RA = RetrievalAugmentation(config=RAC)"
   ]
  },
  {
   "cell_type": "code",
   "execution_count": 18,
   "id": "afe05daf",
   "metadata": {},
   "outputs": [
    {
     "name": "stderr",
     "output_type": "stream",
     "text": [
      "2025-01-27 18:47:30,953 - Creating Leaf Nodes\n"
     ]
    },
    {
     "data": {
      "application/vnd.jupyter.widget-view+json": {
       "model_id": "a7d7e2726f354c588d24ea8a5693cafb",
       "version_major": 2,
       "version_minor": 0
      },
      "text/plain": [
       "Batches:   0%|          | 0/1 [00:00<?, ?it/s]"
      ]
     },
     "metadata": {},
     "output_type": "display_data"
    },
    {
     "data": {
      "application/vnd.jupyter.widget-view+json": {
       "model_id": "42b84b59cf344a54bc250b05317d0c98",
       "version_major": 2,
       "version_minor": 0
      },
      "text/plain": [
       "Batches:   0%|          | 0/1 [00:00<?, ?it/s]"
      ]
     },
     "metadata": {},
     "output_type": "display_data"
    },
    {
     "data": {
      "application/vnd.jupyter.widget-view+json": {
       "model_id": "8296522e0de048169d72b0fafa48e2cc",
       "version_major": 2,
       "version_minor": 0
      },
      "text/plain": [
       "Batches:   0%|          | 0/1 [00:00<?, ?it/s]"
      ]
     },
     "metadata": {},
     "output_type": "display_data"
    },
    {
     "data": {
      "application/vnd.jupyter.widget-view+json": {
       "model_id": "078835b946f842c8a69aa610643a056a",
       "version_major": 2,
       "version_minor": 0
      },
      "text/plain": [
       "Batches:   0%|          | 0/1 [00:00<?, ?it/s]"
      ]
     },
     "metadata": {},
     "output_type": "display_data"
    },
    {
     "data": {
      "application/vnd.jupyter.widget-view+json": {
       "model_id": "1c052e3b0790480289b18260436c67e2",
       "version_major": 2,
       "version_minor": 0
      },
      "text/plain": [
       "Batches:   0%|          | 0/1 [00:00<?, ?it/s]"
      ]
     },
     "metadata": {},
     "output_type": "display_data"
    },
    {
     "data": {
      "application/vnd.jupyter.widget-view+json": {
       "model_id": "cf62f42422c1492f90f54349549d3e14",
       "version_major": 2,
       "version_minor": 0
      },
      "text/plain": [
       "Batches:   0%|          | 0/1 [00:00<?, ?it/s]"
      ]
     },
     "metadata": {},
     "output_type": "display_data"
    },
    {
     "data": {
      "application/vnd.jupyter.widget-view+json": {
       "model_id": "828c569a8c4a4d81b4177ae1ef75b70c",
       "version_major": 2,
       "version_minor": 0
      },
      "text/plain": [
       "Batches:   0%|          | 0/1 [00:00<?, ?it/s]"
      ]
     },
     "metadata": {},
     "output_type": "display_data"
    },
    {
     "data": {
      "application/vnd.jupyter.widget-view+json": {
       "model_id": "cd04b044b9bd40ac9afb71f9a28a5ed5",
       "version_major": 2,
       "version_minor": 0
      },
      "text/plain": [
       "Batches:   0%|          | 0/1 [00:00<?, ?it/s]"
      ]
     },
     "metadata": {},
     "output_type": "display_data"
    },
    {
     "data": {
      "application/vnd.jupyter.widget-view+json": {
       "model_id": "d7e19b0ec46e4a11a7f3f8fe08b32890",
       "version_major": 2,
       "version_minor": 0
      },
      "text/plain": [
       "Batches:   0%|          | 0/1 [00:00<?, ?it/s]"
      ]
     },
     "metadata": {},
     "output_type": "display_data"
    },
    {
     "data": {
      "application/vnd.jupyter.widget-view+json": {
       "model_id": "628873ddd4174d8caab0d5b9b9969cb7",
       "version_major": 2,
       "version_minor": 0
      },
      "text/plain": [
       "Batches:   0%|          | 0/1 [00:00<?, ?it/s]"
      ]
     },
     "metadata": {},
     "output_type": "display_data"
    },
    {
     "data": {
      "application/vnd.jupyter.widget-view+json": {
       "model_id": "915fbc0cf5e944fabbc4acf8b13c94f8",
       "version_major": 2,
       "version_minor": 0
      },
      "text/plain": [
       "Batches:   0%|          | 0/1 [00:00<?, ?it/s]"
      ]
     },
     "metadata": {},
     "output_type": "display_data"
    },
    {
     "data": {
      "application/vnd.jupyter.widget-view+json": {
       "model_id": "86c38a20173a45ff90080519e909f878",
       "version_major": 2,
       "version_minor": 0
      },
      "text/plain": [
       "Batches:   0%|          | 0/1 [00:00<?, ?it/s]"
      ]
     },
     "metadata": {},
     "output_type": "display_data"
    },
    {
     "data": {
      "application/vnd.jupyter.widget-view+json": {
       "model_id": "83fd5e3e3be64d62869cf308ea3f579e",
       "version_major": 2,
       "version_minor": 0
      },
      "text/plain": [
       "Batches:   0%|          | 0/1 [00:00<?, ?it/s]"
      ]
     },
     "metadata": {},
     "output_type": "display_data"
    },
    {
     "data": {
      "application/vnd.jupyter.widget-view+json": {
       "model_id": "b55e73b1993c4e549e8e20f28a74a679",
       "version_major": 2,
       "version_minor": 0
      },
      "text/plain": [
       "Batches:   0%|          | 0/1 [00:00<?, ?it/s]"
      ]
     },
     "metadata": {},
     "output_type": "display_data"
    },
    {
     "data": {
      "application/vnd.jupyter.widget-view+json": {
       "model_id": "de2cc167f4674e7f86c64e159b256a23",
       "version_major": 2,
       "version_minor": 0
      },
      "text/plain": [
       "Batches:   0%|          | 0/1 [00:00<?, ?it/s]"
      ]
     },
     "metadata": {},
     "output_type": "display_data"
    },
    {
     "data": {
      "application/vnd.jupyter.widget-view+json": {
       "model_id": "8ad57953721c4f2ca71f11fddf6453a9",
       "version_major": 2,
       "version_minor": 0
      },
      "text/plain": [
       "Batches:   0%|          | 0/1 [00:00<?, ?it/s]"
      ]
     },
     "metadata": {},
     "output_type": "display_data"
    },
    {
     "data": {
      "application/vnd.jupyter.widget-view+json": {
       "model_id": "6250d58572b64ae79e393a9a3764641a",
       "version_major": 2,
       "version_minor": 0
      },
      "text/plain": [
       "Batches:   0%|          | 0/1 [00:00<?, ?it/s]"
      ]
     },
     "metadata": {},
     "output_type": "display_data"
    },
    {
     "data": {
      "application/vnd.jupyter.widget-view+json": {
       "model_id": "87046b3deda24e6eab6505dbd3795f67",
       "version_major": 2,
       "version_minor": 0
      },
      "text/plain": [
       "Batches:   0%|          | 0/1 [00:00<?, ?it/s]"
      ]
     },
     "metadata": {},
     "output_type": "display_data"
    },
    {
     "data": {
      "application/vnd.jupyter.widget-view+json": {
       "model_id": "1bb72c6f40184f00bd7f5af1a19ff7ba",
       "version_major": 2,
       "version_minor": 0
      },
      "text/plain": [
       "Batches:   0%|          | 0/1 [00:00<?, ?it/s]"
      ]
     },
     "metadata": {},
     "output_type": "display_data"
    },
    {
     "data": {
      "application/vnd.jupyter.widget-view+json": {
       "model_id": "658301e1d9b14200ab957877b6016828",
       "version_major": 2,
       "version_minor": 0
      },
      "text/plain": [
       "Batches:   0%|          | 0/1 [00:00<?, ?it/s]"
      ]
     },
     "metadata": {},
     "output_type": "display_data"
    },
    {
     "data": {
      "application/vnd.jupyter.widget-view+json": {
       "model_id": "86a543535e6448c991c518bb90e47dda",
       "version_major": 2,
       "version_minor": 0
      },
      "text/plain": [
       "Batches:   0%|          | 0/1 [00:00<?, ?it/s]"
      ]
     },
     "metadata": {},
     "output_type": "display_data"
    },
    {
     "data": {
      "application/vnd.jupyter.widget-view+json": {
       "model_id": "66d6407ae3dd41ac866763c1a28c6762",
       "version_major": 2,
       "version_minor": 0
      },
      "text/plain": [
       "Batches:   0%|          | 0/1 [00:00<?, ?it/s]"
      ]
     },
     "metadata": {},
     "output_type": "display_data"
    },
    {
     "data": {
      "application/vnd.jupyter.widget-view+json": {
       "model_id": "a4e174c5ba824439a0bb4839cae5a359",
       "version_major": 2,
       "version_minor": 0
      },
      "text/plain": [
       "Batches:   0%|          | 0/1 [00:00<?, ?it/s]"
      ]
     },
     "metadata": {},
     "output_type": "display_data"
    },
    {
     "data": {
      "application/vnd.jupyter.widget-view+json": {
       "model_id": "9f1357d946ef4933a407ff7d84e53613",
       "version_major": 2,
       "version_minor": 0
      },
      "text/plain": [
       "Batches:   0%|          | 0/1 [00:00<?, ?it/s]"
      ]
     },
     "metadata": {},
     "output_type": "display_data"
    },
    {
     "data": {
      "application/vnd.jupyter.widget-view+json": {
       "model_id": "abf369e7c0e84f808af83a3c77ed3578",
       "version_major": 2,
       "version_minor": 0
      },
      "text/plain": [
       "Batches:   0%|          | 0/1 [00:00<?, ?it/s]"
      ]
     },
     "metadata": {},
     "output_type": "display_data"
    },
    {
     "data": {
      "application/vnd.jupyter.widget-view+json": {
       "model_id": "5aa2075496334273a1c403e8aede6b44",
       "version_major": 2,
       "version_minor": 0
      },
      "text/plain": [
       "Batches:   0%|          | 0/1 [00:00<?, ?it/s]"
      ]
     },
     "metadata": {},
     "output_type": "display_data"
    },
    {
     "data": {
      "application/vnd.jupyter.widget-view+json": {
       "model_id": "862ee4af819e46f58ac9394cae4d343d",
       "version_major": 2,
       "version_minor": 0
      },
      "text/plain": [
       "Batches:   0%|          | 0/1 [00:00<?, ?it/s]"
      ]
     },
     "metadata": {},
     "output_type": "display_data"
    },
    {
     "data": {
      "application/vnd.jupyter.widget-view+json": {
       "model_id": "a501ed3c2d62433aa260ab15b3ad51ca",
       "version_major": 2,
       "version_minor": 0
      },
      "text/plain": [
       "Batches:   0%|          | 0/1 [00:00<?, ?it/s]"
      ]
     },
     "metadata": {},
     "output_type": "display_data"
    },
    {
     "data": {
      "application/vnd.jupyter.widget-view+json": {
       "model_id": "57593086a3264fb7af04bdce9ba37ae5",
       "version_major": 2,
       "version_minor": 0
      },
      "text/plain": [
       "Batches:   0%|          | 0/1 [00:00<?, ?it/s]"
      ]
     },
     "metadata": {},
     "output_type": "display_data"
    },
    {
     "data": {
      "application/vnd.jupyter.widget-view+json": {
       "model_id": "f44643bae4a543ac90e69ec08f0918c1",
       "version_major": 2,
       "version_minor": 0
      },
      "text/plain": [
       "Batches:   0%|          | 0/1 [00:00<?, ?it/s]"
      ]
     },
     "metadata": {},
     "output_type": "display_data"
    },
    {
     "data": {
      "application/vnd.jupyter.widget-view+json": {
       "model_id": "f3e19ea1dffe4d9c9a39fba67d2dc2b8",
       "version_major": 2,
       "version_minor": 0
      },
      "text/plain": [
       "Batches:   0%|          | 0/1 [00:00<?, ?it/s]"
      ]
     },
     "metadata": {},
     "output_type": "display_data"
    },
    {
     "data": {
      "application/vnd.jupyter.widget-view+json": {
       "model_id": "353e8e578fff4c169946fcfe71683737",
       "version_major": 2,
       "version_minor": 0
      },
      "text/plain": [
       "Batches:   0%|          | 0/1 [00:00<?, ?it/s]"
      ]
     },
     "metadata": {},
     "output_type": "display_data"
    },
    {
     "data": {
      "application/vnd.jupyter.widget-view+json": {
       "model_id": "851aff5790414a1cb694d07927f64caa",
       "version_major": 2,
       "version_minor": 0
      },
      "text/plain": [
       "Batches:   0%|          | 0/1 [00:00<?, ?it/s]"
      ]
     },
     "metadata": {},
     "output_type": "display_data"
    },
    {
     "data": {
      "application/vnd.jupyter.widget-view+json": {
       "model_id": "aa7e975bf2e14b1991d7ff22b94a32c8",
       "version_major": 2,
       "version_minor": 0
      },
      "text/plain": [
       "Batches:   0%|          | 0/1 [00:00<?, ?it/s]"
      ]
     },
     "metadata": {},
     "output_type": "display_data"
    },
    {
     "data": {
      "application/vnd.jupyter.widget-view+json": {
       "model_id": "45bd58073e63459e89e78634ec6b8455",
       "version_major": 2,
       "version_minor": 0
      },
      "text/plain": [
       "Batches:   0%|          | 0/1 [00:00<?, ?it/s]"
      ]
     },
     "metadata": {},
     "output_type": "display_data"
    },
    {
     "name": "stderr",
     "output_type": "stream",
     "text": [
      "2025-01-27 18:47:44,908 - Created 35 Leaf Embeddings\n",
      "2025-01-27 18:47:44,910 - Building All Nodes\n",
      "2025-01-27 18:47:44,919 - Using Cluster TreeBuilder\n",
      "2025-01-27 18:47:44,921 - Constructing Layer 0\n",
      "i:\\AI_Project\\raptor\\.venv\\lib\\site-packages\\sklearn\\utils\\deprecation.py:151: FutureWarning: 'force_all_finite' was renamed to 'ensure_all_finite' in 1.6 and will be removed in 1.8.\n",
      "  warnings.warn(\n",
      "i:\\AI_Project\\raptor\\.venv\\lib\\site-packages\\threadpoolctl.py:1214: RuntimeWarning: \n",
      "Found Intel OpenMP ('libiomp') and LLVM OpenMP ('libomp') loaded at\n",
      "the same time. Both libraries are known to be incompatible and this\n",
      "can cause random crashes or deadlocks on Linux when loaded in the\n",
      "same Python program.\n",
      "Using threadpoolctl may cause crashes or deadlocks. For more\n",
      "information and possible workarounds, please see\n",
      "    https://github.com/joblib/threadpoolctl/blob/master/multiple_openmp.md\n",
      "\n",
      "  warnings.warn(msg, RuntimeWarning)\n",
      "2025-01-27 18:48:12,514 - Summarization Length: 100\n"
     ]
    }
   ],
   "source": [
    "with open('demo/sample.txt', 'r') as file:\n",
    "    text = file.read()\n",
    "    \n",
    "RA.add_documents(text)"
   ]
  },
  {
   "cell_type": "code",
   "execution_count": null,
   "id": "7eee5847",
   "metadata": {},
   "outputs": [],
   "source": [
    "question = \"How did Cinderella reach her happy ending?\"\n",
    "\n",
    "answer = RA.answer_question(question=question)\n",
    "\n",
    "print(\"Answer: \", answer)"
   ]
  },
  {
   "cell_type": "code",
   "execution_count": 10,
   "id": "524c22ba",
   "metadata": {},
   "outputs": [
    {
     "name": "stderr",
     "output_type": "stream",
     "text": [
      "2025-01-27 22:55:49,518 - Use pytorch device_name: cpu\n",
      "2025-01-27 22:55:49,521 - Load pretrained SentenceTransformer: BAAI/bge-small-en-v1.5\n",
      "2025-01-27 22:55:54,450 - Successfully initialized TreeBuilder with Config \n",
      "        TreeBuilderConfig:\n",
      "            Tokenizer: <Encoding 'cl100k_base'>\n",
      "            Max Tokens: 100\n",
      "            Num Layers: 5\n",
      "            Threshold: 0.5\n",
      "            Top K: 5\n",
      "            Selection Mode: top_k\n",
      "            Summarization Length: 100\n",
      "            Summarization Model: <raptor.SummarizationModels.OllamaSummarizationModelV2 object at 0x0000020ECD82BA00>\n",
      "            Embedding Models: {'EMB': <__main__.SBertEmbeddingModel object at 0x0000020ECD82A650>}\n",
      "            Cluster Embedding Model: EMB\n",
      "        \n",
      "        Reduction Dimension: 10\n",
      "        Clustering Algorithm: RAPTOR_Clustering\n",
      "        Clustering Parameters: {}\n",
      "        \n",
      "2025-01-27 22:55:54,453 - Successfully initialized ClusterTreeBuilder with Config \n",
      "        TreeBuilderConfig:\n",
      "            Tokenizer: <Encoding 'cl100k_base'>\n",
      "            Max Tokens: 100\n",
      "            Num Layers: 5\n",
      "            Threshold: 0.5\n",
      "            Top K: 5\n",
      "            Selection Mode: top_k\n",
      "            Summarization Length: 100\n",
      "            Summarization Model: <raptor.SummarizationModels.OllamaSummarizationModelV2 object at 0x0000020ECD82BA00>\n",
      "            Embedding Models: {'EMB': <__main__.SBertEmbeddingModel object at 0x0000020ECD82A650>}\n",
      "            Cluster Embedding Model: EMB\n",
      "        \n",
      "        Reduction Dimension: 10\n",
      "        Clustering Algorithm: RAPTOR_Clustering\n",
      "        Clustering Parameters: {}\n",
      "        \n",
      "2025-01-27 22:55:54,456 - Successfully initialized RetrievalAugmentation with Config \n",
      "        RetrievalAugmentationConfig:\n",
      "            \n",
      "        TreeBuilderConfig:\n",
      "            Tokenizer: <Encoding 'cl100k_base'>\n",
      "            Max Tokens: 100\n",
      "            Num Layers: 5\n",
      "            Threshold: 0.5\n",
      "            Top K: 5\n",
      "            Selection Mode: top_k\n",
      "            Summarization Length: 100\n",
      "            Summarization Model: <raptor.SummarizationModels.OllamaSummarizationModelV2 object at 0x0000020ECD82BA00>\n",
      "            Embedding Models: {'EMB': <__main__.SBertEmbeddingModel object at 0x0000020ECD82A650>}\n",
      "            Cluster Embedding Model: EMB\n",
      "        \n",
      "        Reduction Dimension: 10\n",
      "        Clustering Algorithm: RAPTOR_Clustering\n",
      "        Clustering Parameters: {}\n",
      "        \n",
      "            \n",
      "            \n",
      "        TreeRetrieverConfig:\n",
      "            Tokenizer: <Encoding 'cl100k_base'>\n",
      "            Threshold: 0.5\n",
      "            Top K: 5\n",
      "            Selection Mode: top_k\n",
      "            Context Embedding Model: EMB\n",
      "            Embedding Model: <__main__.SBertEmbeddingModel object at 0x0000020ECD82A650>\n",
      "            Num Layers: None\n",
      "            Start Layer: None\n",
      "        \n",
      "            \n",
      "            QA Model: <raptor.QAModels.OllamaQAModelV2 object at 0x0000020ECD82B6A0>\n",
      "            Tree Builder Type: cluster\n",
      "        \n",
      "2025-01-27 22:55:54,494 - Creating Leaf Nodes\n"
     ]
    },
    {
     "data": {
      "application/vnd.jupyter.widget-view+json": {
       "model_id": "3114c500302e44d99f092a2e79ba278c",
       "version_major": 2,
       "version_minor": 0
      },
      "text/plain": [
       "Batches:   0%|          | 0/1 [00:00<?, ?it/s]"
      ]
     },
     "metadata": {},
     "output_type": "display_data"
    },
    {
     "data": {
      "application/vnd.jupyter.widget-view+json": {
       "model_id": "d66d8682c3a147f0ab912396a5514db1",
       "version_major": 2,
       "version_minor": 0
      },
      "text/plain": [
       "Batches:   0%|          | 0/1 [00:00<?, ?it/s]"
      ]
     },
     "metadata": {},
     "output_type": "display_data"
    },
    {
     "data": {
      "application/vnd.jupyter.widget-view+json": {
       "model_id": "c508d260432646a493506e79cfd6c658",
       "version_major": 2,
       "version_minor": 0
      },
      "text/plain": [
       "Batches:   0%|          | 0/1 [00:00<?, ?it/s]"
      ]
     },
     "metadata": {},
     "output_type": "display_data"
    },
    {
     "data": {
      "application/vnd.jupyter.widget-view+json": {
       "model_id": "38306a3a5cbd4b3ea2e3dfe231be7150",
       "version_major": 2,
       "version_minor": 0
      },
      "text/plain": [
       "Batches:   0%|          | 0/1 [00:00<?, ?it/s]"
      ]
     },
     "metadata": {},
     "output_type": "display_data"
    },
    {
     "data": {
      "application/vnd.jupyter.widget-view+json": {
       "model_id": "2f50b99c10a6411ea8f5274b588e6eda",
       "version_major": 2,
       "version_minor": 0
      },
      "text/plain": [
       "Batches:   0%|          | 0/1 [00:00<?, ?it/s]"
      ]
     },
     "metadata": {},
     "output_type": "display_data"
    },
    {
     "data": {
      "application/vnd.jupyter.widget-view+json": {
       "model_id": "2ce04f61e4024586939b5884c0e99489",
       "version_major": 2,
       "version_minor": 0
      },
      "text/plain": [
       "Batches:   0%|          | 0/1 [00:00<?, ?it/s]"
      ]
     },
     "metadata": {},
     "output_type": "display_data"
    },
    {
     "data": {
      "application/vnd.jupyter.widget-view+json": {
       "model_id": "0f41186e352c4c41a0368bb65138f71d",
       "version_major": 2,
       "version_minor": 0
      },
      "text/plain": [
       "Batches:   0%|          | 0/1 [00:00<?, ?it/s]"
      ]
     },
     "metadata": {},
     "output_type": "display_data"
    },
    {
     "data": {
      "application/vnd.jupyter.widget-view+json": {
       "model_id": "13a3da16185c4287ac1762e4469621df",
       "version_major": 2,
       "version_minor": 0
      },
      "text/plain": [
       "Batches:   0%|          | 0/1 [00:00<?, ?it/s]"
      ]
     },
     "metadata": {},
     "output_type": "display_data"
    },
    {
     "data": {
      "application/vnd.jupyter.widget-view+json": {
       "model_id": "83ec3e7d20c24ac88c1a19d88fcbf39b",
       "version_major": 2,
       "version_minor": 0
      },
      "text/plain": [
       "Batches:   0%|          | 0/1 [00:00<?, ?it/s]"
      ]
     },
     "metadata": {},
     "output_type": "display_data"
    },
    {
     "data": {
      "application/vnd.jupyter.widget-view+json": {
       "model_id": "3cbcf54b52de459eaa8c425f8fd9bdcc",
       "version_major": 2,
       "version_minor": 0
      },
      "text/plain": [
       "Batches:   0%|          | 0/1 [00:00<?, ?it/s]"
      ]
     },
     "metadata": {},
     "output_type": "display_data"
    },
    {
     "data": {
      "application/vnd.jupyter.widget-view+json": {
       "model_id": "a184d4dc2ff94e338ec9bce103749fe3",
       "version_major": 2,
       "version_minor": 0
      },
      "text/plain": [
       "Batches:   0%|          | 0/1 [00:00<?, ?it/s]"
      ]
     },
     "metadata": {},
     "output_type": "display_data"
    },
    {
     "data": {
      "application/vnd.jupyter.widget-view+json": {
       "model_id": "a528d4efa30647c7860bf2f1040b75a2",
       "version_major": 2,
       "version_minor": 0
      },
      "text/plain": [
       "Batches:   0%|          | 0/1 [00:00<?, ?it/s]"
      ]
     },
     "metadata": {},
     "output_type": "display_data"
    },
    {
     "data": {
      "application/vnd.jupyter.widget-view+json": {
       "model_id": "4b3b8547cff54323833edbf05ea42399",
       "version_major": 2,
       "version_minor": 0
      },
      "text/plain": [
       "Batches:   0%|          | 0/1 [00:00<?, ?it/s]"
      ]
     },
     "metadata": {},
     "output_type": "display_data"
    },
    {
     "data": {
      "application/vnd.jupyter.widget-view+json": {
       "model_id": "9f2558deb14b4373b6392687f8ac3a3b",
       "version_major": 2,
       "version_minor": 0
      },
      "text/plain": [
       "Batches:   0%|          | 0/1 [00:00<?, ?it/s]"
      ]
     },
     "metadata": {},
     "output_type": "display_data"
    },
    {
     "data": {
      "application/vnd.jupyter.widget-view+json": {
       "model_id": "3ab0141ce9294a24ae5fc736f79213ec",
       "version_major": 2,
       "version_minor": 0
      },
      "text/plain": [
       "Batches:   0%|          | 0/1 [00:00<?, ?it/s]"
      ]
     },
     "metadata": {},
     "output_type": "display_data"
    },
    {
     "data": {
      "application/vnd.jupyter.widget-view+json": {
       "model_id": "1702f3cb0b4249039fc4982b359852ab",
       "version_major": 2,
       "version_minor": 0
      },
      "text/plain": [
       "Batches:   0%|          | 0/1 [00:00<?, ?it/s]"
      ]
     },
     "metadata": {},
     "output_type": "display_data"
    },
    {
     "data": {
      "application/vnd.jupyter.widget-view+json": {
       "model_id": "7154ff497864468fba822b4eb3c4493d",
       "version_major": 2,
       "version_minor": 0
      },
      "text/plain": [
       "Batches:   0%|          | 0/1 [00:00<?, ?it/s]"
      ]
     },
     "metadata": {},
     "output_type": "display_data"
    },
    {
     "data": {
      "application/vnd.jupyter.widget-view+json": {
       "model_id": "8509943309484ce7bf93bbf382f2b35f",
       "version_major": 2,
       "version_minor": 0
      },
      "text/plain": [
       "Batches:   0%|          | 0/1 [00:00<?, ?it/s]"
      ]
     },
     "metadata": {},
     "output_type": "display_data"
    },
    {
     "data": {
      "application/vnd.jupyter.widget-view+json": {
       "model_id": "d1f97e22012844348e5a462549a4e950",
       "version_major": 2,
       "version_minor": 0
      },
      "text/plain": [
       "Batches:   0%|          | 0/1 [00:00<?, ?it/s]"
      ]
     },
     "metadata": {},
     "output_type": "display_data"
    },
    {
     "data": {
      "application/vnd.jupyter.widget-view+json": {
       "model_id": "d9c5d04544df4f69a5714bb3fb2aca64",
       "version_major": 2,
       "version_minor": 0
      },
      "text/plain": [
       "Batches:   0%|          | 0/1 [00:00<?, ?it/s]"
      ]
     },
     "metadata": {},
     "output_type": "display_data"
    },
    {
     "data": {
      "application/vnd.jupyter.widget-view+json": {
       "model_id": "3d04aad9821c49d5bd34ab6b5db8bf05",
       "version_major": 2,
       "version_minor": 0
      },
      "text/plain": [
       "Batches:   0%|          | 0/1 [00:00<?, ?it/s]"
      ]
     },
     "metadata": {},
     "output_type": "display_data"
    },
    {
     "data": {
      "application/vnd.jupyter.widget-view+json": {
       "model_id": "d9770663958342b3bd0f9608a3c44748",
       "version_major": 2,
       "version_minor": 0
      },
      "text/plain": [
       "Batches:   0%|          | 0/1 [00:00<?, ?it/s]"
      ]
     },
     "metadata": {},
     "output_type": "display_data"
    },
    {
     "data": {
      "application/vnd.jupyter.widget-view+json": {
       "model_id": "aa9815453ba746e79ba0425a8450f7b4",
       "version_major": 2,
       "version_minor": 0
      },
      "text/plain": [
       "Batches:   0%|          | 0/1 [00:00<?, ?it/s]"
      ]
     },
     "metadata": {},
     "output_type": "display_data"
    },
    {
     "data": {
      "application/vnd.jupyter.widget-view+json": {
       "model_id": "7d03eec6d17e4e9bb667167f48ebdb9b",
       "version_major": 2,
       "version_minor": 0
      },
      "text/plain": [
       "Batches:   0%|          | 0/1 [00:00<?, ?it/s]"
      ]
     },
     "metadata": {},
     "output_type": "display_data"
    },
    {
     "data": {
      "application/vnd.jupyter.widget-view+json": {
       "model_id": "60b52076e68d426888d7a004861957af",
       "version_major": 2,
       "version_minor": 0
      },
      "text/plain": [
       "Batches:   0%|          | 0/1 [00:00<?, ?it/s]"
      ]
     },
     "metadata": {},
     "output_type": "display_data"
    },
    {
     "data": {
      "application/vnd.jupyter.widget-view+json": {
       "model_id": "5e957fd2c2ce43c29671a4f97683b469",
       "version_major": 2,
       "version_minor": 0
      },
      "text/plain": [
       "Batches:   0%|          | 0/1 [00:00<?, ?it/s]"
      ]
     },
     "metadata": {},
     "output_type": "display_data"
    },
    {
     "data": {
      "application/vnd.jupyter.widget-view+json": {
       "model_id": "314056d6d6474a629a319e0fb3d1c5d9",
       "version_major": 2,
       "version_minor": 0
      },
      "text/plain": [
       "Batches:   0%|          | 0/1 [00:00<?, ?it/s]"
      ]
     },
     "metadata": {},
     "output_type": "display_data"
    },
    {
     "data": {
      "application/vnd.jupyter.widget-view+json": {
       "model_id": "4258eca9fd7d422983cb3b620abcb88e",
       "version_major": 2,
       "version_minor": 0
      },
      "text/plain": [
       "Batches:   0%|          | 0/1 [00:00<?, ?it/s]"
      ]
     },
     "metadata": {},
     "output_type": "display_data"
    },
    {
     "data": {
      "application/vnd.jupyter.widget-view+json": {
       "model_id": "55e8dbe67c2a469ab8936ee1c116be3f",
       "version_major": 2,
       "version_minor": 0
      },
      "text/plain": [
       "Batches:   0%|          | 0/1 [00:00<?, ?it/s]"
      ]
     },
     "metadata": {},
     "output_type": "display_data"
    },
    {
     "data": {
      "application/vnd.jupyter.widget-view+json": {
       "model_id": "8501ae247d2a4ca2acd2b6269baa7ff5",
       "version_major": 2,
       "version_minor": 0
      },
      "text/plain": [
       "Batches:   0%|          | 0/1 [00:00<?, ?it/s]"
      ]
     },
     "metadata": {},
     "output_type": "display_data"
    },
    {
     "data": {
      "application/vnd.jupyter.widget-view+json": {
       "model_id": "2f082fc4ba0247518af6c9eeb86bcafe",
       "version_major": 2,
       "version_minor": 0
      },
      "text/plain": [
       "Batches:   0%|          | 0/1 [00:00<?, ?it/s]"
      ]
     },
     "metadata": {},
     "output_type": "display_data"
    },
    {
     "data": {
      "application/vnd.jupyter.widget-view+json": {
       "model_id": "265a2cc6b58141dc9973074ef05e6c27",
       "version_major": 2,
       "version_minor": 0
      },
      "text/plain": [
       "Batches:   0%|          | 0/1 [00:00<?, ?it/s]"
      ]
     },
     "metadata": {},
     "output_type": "display_data"
    },
    {
     "data": {
      "application/vnd.jupyter.widget-view+json": {
       "model_id": "c71e945e993e43dbbf160dd3d36633d7",
       "version_major": 2,
       "version_minor": 0
      },
      "text/plain": [
       "Batches:   0%|          | 0/1 [00:00<?, ?it/s]"
      ]
     },
     "metadata": {},
     "output_type": "display_data"
    },
    {
     "data": {
      "application/vnd.jupyter.widget-view+json": {
       "model_id": "6db211cb843c4280b8b982542b0ceac3",
       "version_major": 2,
       "version_minor": 0
      },
      "text/plain": [
       "Batches:   0%|          | 0/1 [00:00<?, ?it/s]"
      ]
     },
     "metadata": {},
     "output_type": "display_data"
    },
    {
     "data": {
      "application/vnd.jupyter.widget-view+json": {
       "model_id": "9f452456faae4f6785925f36bddcad9e",
       "version_major": 2,
       "version_minor": 0
      },
      "text/plain": [
       "Batches:   0%|          | 0/1 [00:00<?, ?it/s]"
      ]
     },
     "metadata": {},
     "output_type": "display_data"
    },
    {
     "name": "stderr",
     "output_type": "stream",
     "text": [
      "2025-01-27 22:56:06,995 - Created 35 Leaf Embeddings\n",
      "2025-01-27 22:56:06,998 - Building All Nodes\n",
      "2025-01-27 22:56:07,005 - Using Cluster TreeBuilder\n",
      "2025-01-27 22:56:07,007 - Constructing Layer 0\n",
      "i:\\AI_Project\\raptor\\.venv\\lib\\site-packages\\sklearn\\utils\\deprecation.py:151: FutureWarning: 'force_all_finite' was renamed to 'ensure_all_finite' in 1.6 and will be removed in 1.8.\n",
      "  warnings.warn(\n",
      "i:\\AI_Project\\raptor\\.venv\\lib\\site-packages\\threadpoolctl.py:1214: RuntimeWarning: \n",
      "Found Intel OpenMP ('libiomp') and LLVM OpenMP ('libomp') loaded at\n",
      "the same time. Both libraries are known to be incompatible and this\n",
      "can cause random crashes or deadlocks on Linux when loaded in the\n",
      "same Python program.\n",
      "Using threadpoolctl may cause crashes or deadlocks. For more\n",
      "information and possible workarounds, please see\n",
      "    https://github.com/joblib/threadpoolctl/blob/master/multiple_openmp.md\n",
      "\n",
      "  warnings.warn(msg, RuntimeWarning)\n",
      "2025-01-27 22:56:29,615 - Summarization Length: 100\n",
      "2025-01-27 23:00:59,908 - Node Texts Length: 961, Summarized Text Length: 432\n"
     ]
    },
    {
     "data": {
      "application/vnd.jupyter.widget-view+json": {
       "model_id": "1a133a97d79e448594a926d916fced7a",
       "version_major": 2,
       "version_minor": 0
      },
      "text/plain": [
       "Batches:   0%|          | 0/1 [00:00<?, ?it/s]"
      ]
     },
     "metadata": {},
     "output_type": "display_data"
    },
    {
     "name": "stderr",
     "output_type": "stream",
     "text": [
      "2025-01-27 23:03:50,128 - Node Texts Length: 676, Summarized Text Length: 429\n"
     ]
    },
    {
     "data": {
      "application/vnd.jupyter.widget-view+json": {
       "model_id": "a84b3a783db4417bb71d7f2057aa6801",
       "version_major": 2,
       "version_minor": 0
      },
      "text/plain": [
       "Batches:   0%|          | 0/1 [00:00<?, ?it/s]"
      ]
     },
     "metadata": {},
     "output_type": "display_data"
    },
    {
     "name": "stderr",
     "output_type": "stream",
     "text": [
      "2025-01-27 23:06:05,907 - Node Texts Length: 500, Summarized Text Length: 375\n"
     ]
    },
    {
     "data": {
      "application/vnd.jupyter.widget-view+json": {
       "model_id": "b28540b961d3406b9a651c82d927be7e",
       "version_major": 2,
       "version_minor": 0
      },
      "text/plain": [
       "Batches:   0%|          | 0/1 [00:00<?, ?it/s]"
      ]
     },
     "metadata": {},
     "output_type": "display_data"
    },
    {
     "name": "stderr",
     "output_type": "stream",
     "text": [
      "2025-01-27 23:08:16,198 - Node Texts Length: 580, Summarized Text Length: 307\n"
     ]
    },
    {
     "data": {
      "application/vnd.jupyter.widget-view+json": {
       "model_id": "5f309a2cb34042ceb5c9695349d7f50b",
       "version_major": 2,
       "version_minor": 0
      },
      "text/plain": [
       "Batches:   0%|          | 0/1 [00:00<?, ?it/s]"
      ]
     },
     "metadata": {},
     "output_type": "display_data"
    },
    {
     "name": "stderr",
     "output_type": "stream",
     "text": [
      "2025-01-27 23:11:01,063 - Node Texts Length: 564, Summarized Text Length: 479\n"
     ]
    },
    {
     "data": {
      "application/vnd.jupyter.widget-view+json": {
       "model_id": "a429b35961f2404f9d2ed0ce8259bdc5",
       "version_major": 2,
       "version_minor": 0
      },
      "text/plain": [
       "Batches:   0%|          | 0/1 [00:00<?, ?it/s]"
      ]
     },
     "metadata": {},
     "output_type": "display_data"
    },
    {
     "name": "stderr",
     "output_type": "stream",
     "text": [
      "2025-01-27 23:11:02,155 - Constructing Layer 1\n",
      "2025-01-27 23:11:02,157 - Stopping Layer construction: Cannot Create More Layers. Total Layers in tree: 1\n",
      "2025-01-27 23:11:02,281 - Successfully initialized TreeRetriever with Config \n",
      "        TreeRetrieverConfig:\n",
      "            Tokenizer: <Encoding 'cl100k_base'>\n",
      "            Threshold: 0.5\n",
      "            Top K: 5\n",
      "            Selection Mode: top_k\n",
      "            Context Embedding Model: EMB\n",
      "            Embedding Model: <__main__.SBertEmbeddingModel object at 0x0000020ECD82A650>\n",
      "            Num Layers: None\n",
      "            Start Layer: None\n",
      "        \n",
      "2025-01-27 23:11:02,308 - Using collapsed_tree\n"
     ]
    },
    {
     "data": {
      "application/vnd.jupyter.widget-view+json": {
       "model_id": "5c4aabd4fbe6494bbd9ed5a3acf4ef61",
       "version_major": 2,
       "version_minor": 0
      },
      "text/plain": [
       "Batches:   0%|          | 0/1 [00:00<?, ?it/s]"
      ]
     },
     "metadata": {},
     "output_type": "display_data"
    },
    {
     "name": "stdout",
     "output_type": "stream",
     "text": [
      "Answer:  Cinderella reached her happy ending by attending the king's wedding ceremony disguised in a beautiful dress provided by the birds from the hazel-tree. She caught the eye of the prince (later referred to as the king's son), and he instantly fell in love with her beauty. They were married, and Cinderella rode away on the horse with him, accompanied by two white doves that had played an important role in their courtship.\n",
      "\n",
      "The birds' actions served as a test of Cinderella's honesty and kindness, and when they cried \"no blood is in the shoe\" after she put it on, it was revealed that the shoe did not fit one of her stepsisters, who were then punished by having her eyes pecked out by pigeons. This poetic justice allowed Cinderella to be chosen by the prince as his bride, securing her happy ending.\n",
      "\n",
      "In this version of the story, Cinderella's kindness and honesty are rewarded with true love and a life of happiness, while those who mistreat her suffer consequences for their actions.\n"
     ]
    }
   ],
   "source": [
    "from raptor import OllamaQAModelV2, OllamaSummarizationModelV2\n",
    "qa_llm = 'llama3.2:latest'\n",
    "qa_model = OllamaQAModelV2(model_name= qa_llm)\n",
    "summarization_llm = 'llama3.2:latest'\n",
    "summarization_model = OllamaSummarizationModelV2(model_name= summarization_llm)\n",
    "\n",
    "RAC = RetrievalAugmentationConfig(qa_model=qa_model, summarization_model=summarization_model, embedding_model=SBertEmbeddingModel())\n",
    "RA = RetrievalAugmentation(config=RAC)"
   ]
  },
  {
   "cell_type": "code",
   "execution_count": 14,
   "id": "fbb83621",
   "metadata": {},
   "outputs": [
    {
     "name": "stderr",
     "output_type": "stream",
     "text": [
      "2025-01-27 23:27:22,127 - Creating Leaf Nodes\n"
     ]
    },
    {
     "data": {
      "application/vnd.jupyter.widget-view+json": {
       "model_id": "a3440d7908794399ac8da2a9fcc152fd",
       "version_major": 2,
       "version_minor": 0
      },
      "text/plain": [
       "Batches:   0%|          | 0/1 [00:00<?, ?it/s]"
      ]
     },
     "metadata": {},
     "output_type": "display_data"
    },
    {
     "data": {
      "application/vnd.jupyter.widget-view+json": {
       "model_id": "61122e92966a4081b814822dfb232e5f",
       "version_major": 2,
       "version_minor": 0
      },
      "text/plain": [
       "Batches:   0%|          | 0/1 [00:00<?, ?it/s]"
      ]
     },
     "metadata": {},
     "output_type": "display_data"
    },
    {
     "data": {
      "application/vnd.jupyter.widget-view+json": {
       "model_id": "c9c01586d7c14c288d06c6185dca7d46",
       "version_major": 2,
       "version_minor": 0
      },
      "text/plain": [
       "Batches:   0%|          | 0/1 [00:00<?, ?it/s]"
      ]
     },
     "metadata": {},
     "output_type": "display_data"
    },
    {
     "data": {
      "application/vnd.jupyter.widget-view+json": {
       "model_id": "92b67792776447c5973538554e0a1ce4",
       "version_major": 2,
       "version_minor": 0
      },
      "text/plain": [
       "Batches:   0%|          | 0/1 [00:00<?, ?it/s]"
      ]
     },
     "metadata": {},
     "output_type": "display_data"
    },
    {
     "data": {
      "application/vnd.jupyter.widget-view+json": {
       "model_id": "477d64661d5a451f894ca9b70ba22c65",
       "version_major": 2,
       "version_minor": 0
      },
      "text/plain": [
       "Batches:   0%|          | 0/1 [00:00<?, ?it/s]"
      ]
     },
     "metadata": {},
     "output_type": "display_data"
    },
    {
     "data": {
      "application/vnd.jupyter.widget-view+json": {
       "model_id": "1932e6db3046472bbee1b3a0deefc046",
       "version_major": 2,
       "version_minor": 0
      },
      "text/plain": [
       "Batches:   0%|          | 0/1 [00:00<?, ?it/s]"
      ]
     },
     "metadata": {},
     "output_type": "display_data"
    },
    {
     "data": {
      "application/vnd.jupyter.widget-view+json": {
       "model_id": "761253644ddd44baad38383d15135c35",
       "version_major": 2,
       "version_minor": 0
      },
      "text/plain": [
       "Batches:   0%|          | 0/1 [00:00<?, ?it/s]"
      ]
     },
     "metadata": {},
     "output_type": "display_data"
    },
    {
     "data": {
      "application/vnd.jupyter.widget-view+json": {
       "model_id": "789c43ab818e4204ac75d817bd544011",
       "version_major": 2,
       "version_minor": 0
      },
      "text/plain": [
       "Batches:   0%|          | 0/1 [00:00<?, ?it/s]"
      ]
     },
     "metadata": {},
     "output_type": "display_data"
    },
    {
     "data": {
      "application/vnd.jupyter.widget-view+json": {
       "model_id": "bf5ff9e08c754bd490c25641ad06e30a",
       "version_major": 2,
       "version_minor": 0
      },
      "text/plain": [
       "Batches:   0%|          | 0/1 [00:00<?, ?it/s]"
      ]
     },
     "metadata": {},
     "output_type": "display_data"
    },
    {
     "data": {
      "application/vnd.jupyter.widget-view+json": {
       "model_id": "5cab12acfac04b5692fe97a64fd0c1a1",
       "version_major": 2,
       "version_minor": 0
      },
      "text/plain": [
       "Batches:   0%|          | 0/1 [00:00<?, ?it/s]"
      ]
     },
     "metadata": {},
     "output_type": "display_data"
    },
    {
     "data": {
      "application/vnd.jupyter.widget-view+json": {
       "model_id": "4572427c05ab4412a9a0b721ce6e8eda",
       "version_major": 2,
       "version_minor": 0
      },
      "text/plain": [
       "Batches:   0%|          | 0/1 [00:00<?, ?it/s]"
      ]
     },
     "metadata": {},
     "output_type": "display_data"
    },
    {
     "data": {
      "application/vnd.jupyter.widget-view+json": {
       "model_id": "1a402bbb630a4cd39aac052ba03b5d82",
       "version_major": 2,
       "version_minor": 0
      },
      "text/plain": [
       "Batches:   0%|          | 0/1 [00:00<?, ?it/s]"
      ]
     },
     "metadata": {},
     "output_type": "display_data"
    },
    {
     "data": {
      "application/vnd.jupyter.widget-view+json": {
       "model_id": "233917d9fb2c44af830750ec1b02cabd",
       "version_major": 2,
       "version_minor": 0
      },
      "text/plain": [
       "Batches:   0%|          | 0/1 [00:00<?, ?it/s]"
      ]
     },
     "metadata": {},
     "output_type": "display_data"
    },
    {
     "data": {
      "application/vnd.jupyter.widget-view+json": {
       "model_id": "c5863b25eeb4449ca04828aea3f3a8f2",
       "version_major": 2,
       "version_minor": 0
      },
      "text/plain": [
       "Batches:   0%|          | 0/1 [00:00<?, ?it/s]"
      ]
     },
     "metadata": {},
     "output_type": "display_data"
    },
    {
     "data": {
      "application/vnd.jupyter.widget-view+json": {
       "model_id": "a44b6eb8110b4e5f80c75aa558f114bf",
       "version_major": 2,
       "version_minor": 0
      },
      "text/plain": [
       "Batches:   0%|          | 0/1 [00:00<?, ?it/s]"
      ]
     },
     "metadata": {},
     "output_type": "display_data"
    },
    {
     "data": {
      "application/vnd.jupyter.widget-view+json": {
       "model_id": "f3032678c97442a3a1d6836421910900",
       "version_major": 2,
       "version_minor": 0
      },
      "text/plain": [
       "Batches:   0%|          | 0/1 [00:00<?, ?it/s]"
      ]
     },
     "metadata": {},
     "output_type": "display_data"
    },
    {
     "data": {
      "application/vnd.jupyter.widget-view+json": {
       "model_id": "152e25eca49a447a929919055511bd58",
       "version_major": 2,
       "version_minor": 0
      },
      "text/plain": [
       "Batches:   0%|          | 0/1 [00:00<?, ?it/s]"
      ]
     },
     "metadata": {},
     "output_type": "display_data"
    },
    {
     "data": {
      "application/vnd.jupyter.widget-view+json": {
       "model_id": "1ddf745d0dc742848ce431c8b5a707ec",
       "version_major": 2,
       "version_minor": 0
      },
      "text/plain": [
       "Batches:   0%|          | 0/1 [00:00<?, ?it/s]"
      ]
     },
     "metadata": {},
     "output_type": "display_data"
    },
    {
     "data": {
      "application/vnd.jupyter.widget-view+json": {
       "model_id": "8434628103b643f89a882df02d5ec94d",
       "version_major": 2,
       "version_minor": 0
      },
      "text/plain": [
       "Batches:   0%|          | 0/1 [00:00<?, ?it/s]"
      ]
     },
     "metadata": {},
     "output_type": "display_data"
    },
    {
     "data": {
      "application/vnd.jupyter.widget-view+json": {
       "model_id": "2ef584782f314b3bac960e5e612ce63a",
       "version_major": 2,
       "version_minor": 0
      },
      "text/plain": [
       "Batches:   0%|          | 0/1 [00:00<?, ?it/s]"
      ]
     },
     "metadata": {},
     "output_type": "display_data"
    },
    {
     "data": {
      "application/vnd.jupyter.widget-view+json": {
       "model_id": "d67bf40f75ee49b08507c527cc7897f1",
       "version_major": 2,
       "version_minor": 0
      },
      "text/plain": [
       "Batches:   0%|          | 0/1 [00:00<?, ?it/s]"
      ]
     },
     "metadata": {},
     "output_type": "display_data"
    },
    {
     "data": {
      "application/vnd.jupyter.widget-view+json": {
       "model_id": "0acdb83cd3674a7398715907b03b8a9c",
       "version_major": 2,
       "version_minor": 0
      },
      "text/plain": [
       "Batches:   0%|          | 0/1 [00:00<?, ?it/s]"
      ]
     },
     "metadata": {},
     "output_type": "display_data"
    },
    {
     "data": {
      "application/vnd.jupyter.widget-view+json": {
       "model_id": "278c6207b79347bd918d8d5b254871ab",
       "version_major": 2,
       "version_minor": 0
      },
      "text/plain": [
       "Batches:   0%|          | 0/1 [00:00<?, ?it/s]"
      ]
     },
     "metadata": {},
     "output_type": "display_data"
    },
    {
     "data": {
      "application/vnd.jupyter.widget-view+json": {
       "model_id": "4c085e512c3b45708687aecbf46e5cfb",
       "version_major": 2,
       "version_minor": 0
      },
      "text/plain": [
       "Batches:   0%|          | 0/1 [00:00<?, ?it/s]"
      ]
     },
     "metadata": {},
     "output_type": "display_data"
    },
    {
     "data": {
      "application/vnd.jupyter.widget-view+json": {
       "model_id": "374918848a03454c9a68167de08ec8e2",
       "version_major": 2,
       "version_minor": 0
      },
      "text/plain": [
       "Batches:   0%|          | 0/1 [00:00<?, ?it/s]"
      ]
     },
     "metadata": {},
     "output_type": "display_data"
    },
    {
     "data": {
      "application/vnd.jupyter.widget-view+json": {
       "model_id": "39bb9164f9b14d1dad9c713cd857d4db",
       "version_major": 2,
       "version_minor": 0
      },
      "text/plain": [
       "Batches:   0%|          | 0/1 [00:00<?, ?it/s]"
      ]
     },
     "metadata": {},
     "output_type": "display_data"
    },
    {
     "data": {
      "application/vnd.jupyter.widget-view+json": {
       "model_id": "d90cdd1f477847c0aae14dfec8250cc2",
       "version_major": 2,
       "version_minor": 0
      },
      "text/plain": [
       "Batches:   0%|          | 0/1 [00:00<?, ?it/s]"
      ]
     },
     "metadata": {},
     "output_type": "display_data"
    },
    {
     "data": {
      "application/vnd.jupyter.widget-view+json": {
       "model_id": "748c6728b9114063b7f0e8035872c577",
       "version_major": 2,
       "version_minor": 0
      },
      "text/plain": [
       "Batches:   0%|          | 0/1 [00:00<?, ?it/s]"
      ]
     },
     "metadata": {},
     "output_type": "display_data"
    },
    {
     "data": {
      "application/vnd.jupyter.widget-view+json": {
       "model_id": "f0d747e4873c432bb1aa40a9b9d194e5",
       "version_major": 2,
       "version_minor": 0
      },
      "text/plain": [
       "Batches:   0%|          | 0/1 [00:00<?, ?it/s]"
      ]
     },
     "metadata": {},
     "output_type": "display_data"
    },
    {
     "data": {
      "application/vnd.jupyter.widget-view+json": {
       "model_id": "43d4e6de9bc24b8aa4bc423f70324e78",
       "version_major": 2,
       "version_minor": 0
      },
      "text/plain": [
       "Batches:   0%|          | 0/1 [00:00<?, ?it/s]"
      ]
     },
     "metadata": {},
     "output_type": "display_data"
    },
    {
     "data": {
      "application/vnd.jupyter.widget-view+json": {
       "model_id": "d5362a97ee9e435d9abe6663240b9116",
       "version_major": 2,
       "version_minor": 0
      },
      "text/plain": [
       "Batches:   0%|          | 0/1 [00:00<?, ?it/s]"
      ]
     },
     "metadata": {},
     "output_type": "display_data"
    },
    {
     "data": {
      "application/vnd.jupyter.widget-view+json": {
       "model_id": "d35edcfdefaf4f85a839e9789eeee42c",
       "version_major": 2,
       "version_minor": 0
      },
      "text/plain": [
       "Batches:   0%|          | 0/1 [00:00<?, ?it/s]"
      ]
     },
     "metadata": {},
     "output_type": "display_data"
    },
    {
     "data": {
      "application/vnd.jupyter.widget-view+json": {
       "model_id": "053e51444dba4292a82f892c1a30bce3",
       "version_major": 2,
       "version_minor": 0
      },
      "text/plain": [
       "Batches:   0%|          | 0/1 [00:00<?, ?it/s]"
      ]
     },
     "metadata": {},
     "output_type": "display_data"
    },
    {
     "data": {
      "application/vnd.jupyter.widget-view+json": {
       "model_id": "afeee6e131db4d3e8fc3f98e20f78227",
       "version_major": 2,
       "version_minor": 0
      },
      "text/plain": [
       "Batches:   0%|          | 0/1 [00:00<?, ?it/s]"
      ]
     },
     "metadata": {},
     "output_type": "display_data"
    },
    {
     "data": {
      "application/vnd.jupyter.widget-view+json": {
       "model_id": "c477dcc8a1c44834b29a84bda211a2f9",
       "version_major": 2,
       "version_minor": 0
      },
      "text/plain": [
       "Batches:   0%|          | 0/1 [00:00<?, ?it/s]"
      ]
     },
     "metadata": {},
     "output_type": "display_data"
    },
    {
     "name": "stderr",
     "output_type": "stream",
     "text": [
      "2025-01-27 23:27:36,624 - Created 35 Leaf Embeddings\n",
      "2025-01-27 23:27:36,628 - Building All Nodes\n",
      "2025-01-27 23:27:36,827 - Using Cluster TreeBuilder\n",
      "2025-01-27 23:27:36,829 - Constructing Layer 0\n",
      "i:\\AI_Project\\raptor\\.venv\\lib\\site-packages\\sklearn\\utils\\deprecation.py:151: FutureWarning:\n",
      "\n",
      "'force_all_finite' was renamed to 'ensure_all_finite' in 1.6 and will be removed in 1.8.\n",
      "\n",
      "2025-01-27 23:27:52,945 - Summarization Length: 100\n",
      "2025-01-27 23:31:17,024 - Node Texts Length: 961, Summarized Text Length: 383\n"
     ]
    },
    {
     "data": {
      "application/vnd.jupyter.widget-view+json": {
       "model_id": "b8cefa721da74ec5882d86f856e3977f",
       "version_major": 2,
       "version_minor": 0
      },
      "text/plain": [
       "Batches:   0%|          | 0/1 [00:00<?, ?it/s]"
      ]
     },
     "metadata": {},
     "output_type": "display_data"
    },
    {
     "name": "stderr",
     "output_type": "stream",
     "text": [
      "2025-01-27 23:33:58,460 - Node Texts Length: 676, Summarized Text Length: 374\n"
     ]
    },
    {
     "data": {
      "application/vnd.jupyter.widget-view+json": {
       "model_id": "ad42312e27a3430eaa823c8a59825947",
       "version_major": 2,
       "version_minor": 0
      },
      "text/plain": [
       "Batches:   0%|          | 0/1 [00:00<?, ?it/s]"
      ]
     },
     "metadata": {},
     "output_type": "display_data"
    },
    {
     "name": "stderr",
     "output_type": "stream",
     "text": [
      "2025-01-27 23:36:25,694 - Node Texts Length: 500, Summarized Text Length: 421\n"
     ]
    },
    {
     "data": {
      "application/vnd.jupyter.widget-view+json": {
       "model_id": "98293aa5fa7b405fa30d13f69d867284",
       "version_major": 2,
       "version_minor": 0
      },
      "text/plain": [
       "Batches:   0%|          | 0/1 [00:00<?, ?it/s]"
      ]
     },
     "metadata": {},
     "output_type": "display_data"
    },
    {
     "name": "stderr",
     "output_type": "stream",
     "text": [
      "2025-01-27 23:38:24,736 - Node Texts Length: 580, Summarized Text Length: 256\n"
     ]
    },
    {
     "data": {
      "application/vnd.jupyter.widget-view+json": {
       "model_id": "51ebe9c17c784249a7e3012675754d5c",
       "version_major": 2,
       "version_minor": 0
      },
      "text/plain": [
       "Batches:   0%|          | 0/1 [00:00<?, ?it/s]"
      ]
     },
     "metadata": {},
     "output_type": "display_data"
    },
    {
     "name": "stderr",
     "output_type": "stream",
     "text": [
      "2025-01-27 23:40:53,936 - Node Texts Length: 564, Summarized Text Length: 416\n"
     ]
    },
    {
     "data": {
      "application/vnd.jupyter.widget-view+json": {
       "model_id": "773e420fb29a4401afc45b774b291046",
       "version_major": 2,
       "version_minor": 0
      },
      "text/plain": [
       "Batches:   0%|          | 0/1 [00:00<?, ?it/s]"
      ]
     },
     "metadata": {},
     "output_type": "display_data"
    },
    {
     "name": "stderr",
     "output_type": "stream",
     "text": [
      "2025-01-27 23:40:54,516 - Successfully initialized TreeRetriever with Config \n",
      "        TreeRetrieverConfig:\n",
      "            Tokenizer: <Encoding 'cl100k_base'>\n",
      "            Threshold: 0.5\n",
      "            Top K: 5\n",
      "            Selection Mode: top_k\n",
      "            Context Embedding Model: EMB\n",
      "            Embedding Model: <__main__.SBertEmbeddingModel object at 0x0000020ECD82A650>\n",
      "            Num Layers: None\n",
      "            Start Layer: None\n",
      "        \n"
     ]
    }
   ],
   "source": [
    "with open('demo/sample.txt', 'r') as file:\n",
    "    text = file.read()\n",
    "    \n",
    "RA.add_documents(text)"
   ]
  },
  {
   "cell_type": "code",
   "execution_count": 13,
   "id": "b5f30bb1",
   "metadata": {},
   "outputs": [
    {
     "data": {
      "application/vnd.jupyter.widget-view+json": {
       "model_id": "50dddb05c17f4b7a83eb0bf64d2d4e6c",
       "version_major": 2,
       "version_minor": 0
      },
      "text/plain": [
       "Batches:   0%|          | 0/1 [00:00<?, ?it/s]"
      ]
     },
     "metadata": {},
     "output_type": "display_data"
    },
    {
     "name": "stdout",
     "output_type": "stream",
     "text": [
      "Answer:  Cinderella reached her happy ending through a combination of hard work, kindness, and the intervention of magical beings. Here's a summary of how she got there:\n",
      "\n",
      "1. **The birds' help**: In the garden, the pigeons helped Cinderella prepare for a meal, which seemed to be an unusual and magical occurrence. Later, when her stepsisters asked her to join them at the wedding, the birds again appeared, this time as punishment for their wickedness.\n",
      "2. **The hazel tree's gift**: When Cinderella planted the branch from the hazel-bush on her mother's grave, it grew into a handsome tree that would provide her with guidance and support.\n",
      "3. **Her kindness and prayer**: Throughout the story, Cinderella went to the hazel tree three times a day, wept, and prayed for help. A little white bird always came on the tree and threw down what she had wished for.\n",
      "4. **The magical bird's gift**: On one of her visits to the hazel tree, the bird gave her a beautiful dress that made her look stunning at the wedding.\n",
      "5. **The king's son's choice**: At the wedding, when every girl was summoned to dance with the prince, Cinderella appeared, and the king took her by the hand without hesitation.\n",
      "6. **Poetic justice**: As they rode away together, two white doves cried out that the shoe was not too small for Cinderella, signifying that she was indeed the true bride.\n",
      "\n",
      "In essence, Cinderella's happy ending came about through a combination of her own kindness and hard work, the magical intervention of the birds, and the poetic justice that befell her wicked step-sisters.\n"
     ]
    }
   ],
   "source": [
    "question = \"How did Cinderella reach her happy ending?\"\n",
    "answer = RA.answer_question(question=question, collapse_tree=False)\n",
    "print(\"Answer: \", answer)"
   ]
  },
  {
   "cell_type": "code",
   "execution_count": 11,
   "id": "f637b58b",
   "metadata": {},
   "outputs": [
    {
     "name": "stderr",
     "output_type": "stream",
     "text": [
      "2025-01-27 23:16:16,153 - Tree successfully saved to demo/cinderella2\n"
     ]
    }
   ],
   "source": [
    "SAVE_PATH = \"demo/cinderella2\"\n",
    "RA.save(SAVE_PATH)"
   ]
  },
  {
   "cell_type": "code",
   "execution_count": 15,
   "id": "51dab410",
   "metadata": {},
   "outputs": [
    {
     "data": {
      "application/vnd.plotly.v1+json": {
       "config": {
        "plotlyServerURL": "https://plot.ly"
       },
       "data": [
        {
         "hoverinfo": "none",
         "line": {
          "color": "rgb(210,210,210)",
          "width": 1
         },
         "mode": "lines",
         "type": "scatter",
         "x": [
          -5,
          0,
          null,
          0,
          -4,
          null,
          0,
          -3,
          null,
          0,
          -2,
          null,
          0,
          -1,
          null,
          0,
          0,
          null,
          0,
          1,
          null,
          0,
          2,
          null,
          0,
          3,
          null,
          0,
          4,
          null,
          0,
          5,
          null,
          -5,
          -31.833333333333336,
          null,
          -31.833333333333336,
          -34.833333333333336,
          null,
          -31.833333333333336,
          -33.833333333333336,
          null,
          -31.833333333333336,
          -32.833333333333336,
          null,
          -31.833333333333336,
          -31.833333333333336,
          null,
          -31.833333333333336,
          -30.833333333333336,
          null,
          -31.833333333333336,
          -29.833333333333336,
          null,
          -31.833333333333336,
          -28.833333333333336,
          null,
          -5,
          -25.333333333333336,
          null,
          -25.333333333333336,
          -27.833333333333336,
          null,
          -25.333333333333336,
          -26.833333333333336,
          null,
          -25.333333333333336,
          -25.833333333333336,
          null,
          -25.333333333333336,
          -24.833333333333336,
          null,
          -25.333333333333336,
          -23.833333333333336,
          null,
          -25.333333333333336,
          -22.833333333333336,
          null,
          -5,
          -19.333333333333336,
          null,
          -19.333333333333336,
          -21.833333333333336,
          null,
          -19.333333333333336,
          -20.833333333333336,
          null,
          -19.333333333333336,
          -19.833333333333336,
          null,
          -19.333333333333336,
          -18.833333333333336,
          null,
          -19.333333333333336,
          -17.833333333333336,
          null,
          -19.333333333333336,
          -16.833333333333336,
          null,
          -5,
          -13.333333333333336,
          null,
          -13.333333333333336,
          -15.833333333333336,
          null,
          -13.333333333333336,
          -14.833333333333336,
          null,
          -13.333333333333336,
          -13.833333333333336,
          null,
          -13.333333333333336,
          -12.833333333333336,
          null,
          -13.333333333333336,
          -11.833333333333336,
          null,
          -13.333333333333336,
          -10.833333333333336,
          null,
          -5,
          -5.333333333333336,
          null,
          -5.333333333333336,
          -9.833333333333336,
          null,
          -5.333333333333336,
          -8.833333333333336,
          null,
          -5.333333333333336,
          -7.833333333333336,
          null,
          -5.333333333333336,
          -6.833333333333336,
          null,
          -5.333333333333336,
          -5.833333333333336,
          null,
          -5.333333333333336,
          -4.833333333333336,
          null,
          -5.333333333333336,
          -3.8333333333333357,
          null,
          -5.333333333333336,
          -2.8333333333333357,
          null,
          -5.333333333333336,
          -1.8333333333333357,
          null,
          -5.333333333333336,
          -0.8333333333333357,
          null,
          -5,
          3.1666666666666643,
          null,
          3.1666666666666643,
          0.1666666666666643,
          null,
          3.1666666666666643,
          1.1666666666666643,
          null,
          3.1666666666666643,
          2.1666666666666643,
          null,
          3.1666666666666643,
          3.1666666666666643,
          null,
          3.1666666666666643,
          4.166666666666664,
          null,
          3.1666666666666643,
          5.166666666666664,
          null,
          3.1666666666666643,
          6.166666666666664,
          null,
          -5,
          9.666666666666664,
          null,
          9.666666666666664,
          7.166666666666664,
          null,
          9.666666666666664,
          8.166666666666664,
          null,
          9.666666666666664,
          9.166666666666664,
          null,
          9.666666666666664,
          10.166666666666664,
          null,
          9.666666666666664,
          11.166666666666664,
          null,
          9.666666666666664,
          12.166666666666664,
          null,
          -5,
          15.666666666666664,
          null,
          15.666666666666664,
          13.166666666666664,
          null,
          15.666666666666664,
          14.166666666666664,
          null,
          15.666666666666664,
          15.166666666666664,
          null,
          15.666666666666664,
          16.166666666666664,
          null,
          15.666666666666664,
          17.166666666666664,
          null,
          15.666666666666664,
          18.166666666666664,
          null,
          -5,
          21.666666666666664,
          null,
          21.666666666666664,
          19.166666666666664,
          null,
          21.666666666666664,
          20.166666666666664,
          null,
          21.666666666666664,
          21.166666666666664,
          null,
          21.666666666666664,
          22.166666666666664,
          null,
          21.666666666666664,
          23.166666666666664,
          null,
          21.666666666666664,
          24.166666666666664,
          null
         ],
         "y": [
          5,
          6,
          null,
          6,
          5,
          null,
          6,
          5,
          null,
          6,
          5,
          null,
          6,
          5,
          null,
          6,
          5,
          null,
          6,
          5,
          null,
          6,
          5,
          null,
          6,
          5,
          null,
          6,
          5,
          null,
          6,
          5,
          null,
          5,
          4,
          null,
          4,
          3,
          null,
          4,
          3,
          null,
          4,
          3,
          null,
          4,
          3,
          null,
          4,
          3,
          null,
          4,
          3,
          null,
          4,
          3,
          null,
          5,
          4,
          null,
          4,
          3,
          null,
          4,
          3,
          null,
          4,
          3,
          null,
          4,
          3,
          null,
          4,
          3,
          null,
          4,
          3,
          null,
          5,
          4,
          null,
          4,
          3,
          null,
          4,
          3,
          null,
          4,
          3,
          null,
          4,
          3,
          null,
          4,
          3,
          null,
          4,
          3,
          null,
          5,
          4,
          null,
          4,
          3,
          null,
          4,
          3,
          null,
          4,
          3,
          null,
          4,
          3,
          null,
          4,
          3,
          null,
          4,
          3,
          null,
          5,
          4,
          null,
          4,
          3,
          null,
          4,
          3,
          null,
          4,
          3,
          null,
          4,
          3,
          null,
          4,
          3,
          null,
          4,
          3,
          null,
          4,
          3,
          null,
          4,
          3,
          null,
          4,
          3,
          null,
          4,
          3,
          null,
          5,
          4,
          null,
          4,
          3,
          null,
          4,
          3,
          null,
          4,
          3,
          null,
          4,
          3,
          null,
          4,
          3,
          null,
          4,
          3,
          null,
          4,
          3,
          null,
          5,
          4,
          null,
          4,
          3,
          null,
          4,
          3,
          null,
          4,
          3,
          null,
          4,
          3,
          null,
          4,
          3,
          null,
          4,
          3,
          null,
          5,
          4,
          null,
          4,
          3,
          null,
          4,
          3,
          null,
          4,
          3,
          null,
          4,
          3,
          null,
          4,
          3,
          null,
          4,
          3,
          null,
          5,
          4,
          null,
          4,
          3,
          null,
          4,
          3,
          null,
          4,
          3,
          null,
          4,
          3,
          null,
          4,
          3,
          null,
          4,
          3,
          null
         ]
        },
        {
         "hoverinfo": "text",
         "marker": {
          "color": "#6175c1",
          "line": {
           "color": "rgb(50,50,50)",
           "width": 1
          },
          "size": 18,
          "symbol": "circle-dot"
         },
         "mode": "markers",
         "name": "nodes",
         "opacity": 0.8,
         "text": [
          "Node Index: -1, Node Text: TOP_ROOT_NODE",
          "Node Index: 35, Node Text: The text describes the story of Cinderella, a young g<br>irl who is mistreated by her stepmother and stepsisters. The stepmother takes aw<br>ay Cinderella's beautiful clothes and replaces them with an old grey bedgown, fo<br>rcing her to do hard labor from morning till night. Despite this, Cinderella rem<br>ains kind and obedient.<br><br>When the king invites all the beautiful young girls in the country to a festival<br> for his son to choose a bride, Cinderella's stepsisters are excited to attend. <br>Cinderella is also invited, but she wants to join them at the dance. However, he<br>r stepmother forbids her from doing so, making Cinderella feel sad and isolated.<br><br>The little white bird that had been visiting Cinderella under the hazel tree gra<br>nts her wish by throwing down beautiful clothes and slippers every day before th<br>e festival. On the first day of the festival, the stepsisters and mother attend,<br> while Cinderella appears in a golden dress and golden slippers that were given <br>to her by the bird.<br><br>Cinderella charms everyone at the festival, including the king's son, who falls <br>in love with her. When it comes time for the celebration to end, Cinderella wish<br>es to leave, but the king's son asks her to stay as his partner on the dance flo<br>or.<br><br>The story highlights Cinderella's kindness and goodness, which ultimately lead t<br>o her happiness. The bird's magical assistance and Cinderella's own humility and<br> obedience play significant roles in her transformation from a mistreated girl t<br>o a beloved bride.<br><br>The text also contrasts the cruel treatment of Cinderella by her stepmother and <br>stepsisters with her kindness and generosity towards others, including the littl<br>e white bird that is a symbol of hope and magic. The story's message about the i<br>mportance of treating others with kindness and respect is conveyed through Cinde<br>rella's transformation from a mistreated girl to a happy bride.<br><br>The tale also highlights the theme of social class and status, as Cinderella's s<br>tepsisters are depicted as arrogant and entitled, while Cinderella is kind and h<br>umble despite her difficult circumstances. The story suggests that true beauty a<br>nd worth come from within, rather than from external appearances or social stand<br>ing.",
          "Node Index: 2, Node Text:   They took her pretty clothes away from her, put an o<br>ld grey bedgown on her, and gave her wooden shoes   Just look at the proud princ<br>ess, how decked out she is, they cried, and laughed, and led her into the kitche<br>n There she had to do hard work from morning till night, get up before daybreak,<br> carry water, light fires, cook and wash   Besides this, the sisters did her eve<br>ry imaginable injury - they mocked her",
          "Node Index: 4, Node Text: asked his two step-daughters what he should bring back<br> for them Beautiful dresses, said one, pearls and jewels, said the second And yo<br>u, cinderella, said he, what will you have   Father break off for me the first b<br>ranch which knocks against your hat on your way home   So he bought beautiful dr<br>esses, pearls and jewels for his two step-daughters, and on his way home, as he <br>was riding through a green thicket, a hazel twig brushed against him and",
          "Node Index: 5, Node Text: knocked off his hat   Then he broke off the branch and<br> took it with him   When he reached home he gave his step-daughters the things w<br>hich they had wished for, and to cinderella he gave the branch from the hazel-bu<br>sh   Cinderella thanked him, went to her mother's grave and planted the branch o<br>n it, and wept so much that the tears fell down on it and watered it   And it gr<br>ew and became a handsome tree",
          "Node Index: 6, Node Text:  Thrice a day cinderella went and sat beneath it, and <br>wept and prayed, and a little white bird always came on the tree, and if cindere<br>lla expressed a wish, the bird threw down to her what she had wished for It happ<br>ened, however, that the king gave orders for a festival which was to last three <br>days, and to which all the beautiful young girls in the country were invited, in<br> order that his son might choose himself a bride",
          "Node Index: 7, Node Text:   When the two step-sisters heard that they too were t<br>o appear among the number, they were delighted, called cinderella and said, comb<br> our hair for us, brush our shoes and fasten our buckles, for we are going to th<br>e wedding at the king's palace Cinderella obeyed, but wept, because she too woul<br>d have liked to go with them to the dance, and begged her step-mother to allow h<br>er to do so",
          "Node Index: 15, Node Text: Then the bird threw a gold and silver dress down to h<br>er, and slippers embroidered with silk and silver   She put on the dress with al<br>l speed, and went to the wedding   Her step-sisters and the step-mother however <br>did not know her, and thought she must be a foreign princess, for she looked so <br>beautiful in the golden dress They never once thought of cinderella, and believe<br>d that she was sitting at home in the dirt, picking lentils out of the ashes   T<br>he",
          "Node Index: 18, Node Text: a dim little oil-lamp was burning on the mantle-piece<br>, for cinderella had jumped quickly down from the back of the pigeon-house and h<br>ad run to the little hazel-tree, and there she had taken off her beautiful cloth<br>es and laid them on the grave, and the bird had taken them away again, and then <br>she had seated herself in the kitchen amongst the ashes in her grey gown Next da<br>y when the festival began afresh, and her parents and",
          "Node Index: 19, Node Text: the step-sisters had gone once more, cinderella went <br>to the hazel-tree and said -      shiver and quiver, my little tree,      silver<br> and gold throw down over me Then the bird threw down a much more beautiful dres<br>s than on the preceding day  And when cinderella appeared at the wedding in this<br> dress, every one was astonished at her beauty   The king's son had waited until<br> she came, and instantly took her by the hand",
          "Node Index: 22, Node Text: kitchen, cinderella lay there among the ashes, as usu<br>al, for she had jumped down on the other side of the tree, had taken the beautif<br>ul dress to the bird on the little hazel-tree, and put on her grey gown On the t<br>hird day, when the parents and sisters had gone away, cinderella went once more <br>to her mother's grave and said to the little tree -      shiver and quiver, my l<br>ittle tree,      silver and gold throw down over me",
          "Node Index: 23, Node Text: And now the bird threw down to her a dress which was <br>more splendid and magnificent than any she had yet had, and the slippers were go<br>lden   And when she went to the festival in the dress, no one knew how to speak <br>for astonishment   The king's son danced with her only, and if any one invited h<br>er to dance, he said this is my partner When evening came, cinderella wished to <br>leave, and the king's",
          "Node Index: 36, Node Text: The story begins with a king's father who, while sear<br>ching for his son's bride, holds up a golden slipper as a test of suitability. H<br>e announces that only the maiden whose foot fits perfectly into the shoe will be<br>come his daughter-in-law.<br><br>The first sister tries to put on the shoe, but her big toe doesn't fit and she i<br>s forced to cut it off with a knife so that she can wear the shoe. Despite the p<br>ain, she proceeds to the king's son on horseback as his bride. However, when the<br>y pass by the hazel-tree, two pigeons cry out that there is blood in the shoe, i<br>ndicating that the first sister is not the true bride.<br><br>The second sister tries to put on the shoe, but her heel doesn't fit and she is <br>forced to cut off a bit of it with a knife. Again, despite the pain, she proceed<br>s to the king's son as his bride. However, when they pass by the hazel-tree agai<br>n, two pigeons cry out that there is blood in the shoe once more, indicating tha<br>t the second sister is also not the true bride.<br><br>The first and second sisters' stepmother and stepsisters are horrified at their <br>daughters' failures to fit into the shoe, but the king's father refuses to give <br>up. He then turns his attention to Cinderella, the youngest daughter, who has be<br>en watching from a distance. She takes off her foot from the heavy wooden shoe t<br>hat she had worn as a servant girl and attempts to put it into the golden slippe<br>r.<br><br>To everyone's surprise, the shoe fits perfectly on Cinderella's foot, and when s<br>he rises up, the king recognizes her as the beautiful maiden who had danced with<br> him at the ball. Overjoyed, he takes Cinderella on horseback as his bride, and <br>they ride away together.<br><br>As they pass by the hazel-tree once more, two white doves cry out that there is <br>no blood in the shoe, indicating that Cinderella is indeed the true bride. The s<br>tepmother and stepsisters are left behind, still mourning their failed attempts <br>to win the king's son's hand.",
          "Node Index: 32, Node Text: however, took cinderella on his horse and rode away w<br>ith her   As they passed by the hazel-tree, the two white doves cried -      tur<br>n and peep, turn and peep,      no blood is in the shoe,      the shoe is not to<br>o small for her,      the true bride rides with you, and when they had cried tha<br>t, the two came flying down and placed themselves on cinderella's shoulders, one<br> on the right,",
          "Node Index: 25, Node Text: the father, and said to him, no one shall be my wife <br>but she whose foot this golden slipper fits   Then were the two sisters glad, fo<br>r they had pretty feet   The eldest went with the shoe into her room and wanted <br>to try it on, and her mother stood by   But she could not get her big toe into i<br>t, and the shoe was too small for her   Then her mother gave her a knife and sai<br>d, cut the toe off,",
          "Node Index: 26, Node Text: when you are queen you will have no more need to go o<br>n foot   The maiden cut the toe off, forced the foot into the shoe, swallowed th<br>e pain, and went out to the king's son   Then he took her on his his horse as hi<br>s bride and rode away with her   They were obliged, however, to pass the grave, <br>and there, on the hazel-tree, sat the two pigeons and cried -      turn and peep<br>, turn and peep,",
          "Node Index: 27, Node Text:      there's blood within the shoe,      the shoe it <br>is too small for her,      the true bride waits for you Then he looked at her fo<br>ot and saw how the blood was trickling from it   He turned his horse round and t<br>ook the false bride home again, and said she was not the true one, and that the <br>other sister was to put the shoe on   Then this one went into her chamber and go<br>t her toes safely into the shoe, but her heel was too large",
          "Node Index: 28, Node Text:   So her mother gave her a knife and said,  cut a bit<br> off your heel, when you are queen you will have no more need to go on foot   Th<br>e maiden cut a bit off her heel, forced her foot into the shoe, swallowed the pa<br>in, and went out to the king's son   He took her on his horse as his bride, and <br>rode away with her, but when they passed by the hazel-tree, the two pigeons sat <br>on it and cried -",
          "Node Index: 29, Node Text:      turn and peep, turn and peep,      there's blood<br> within the shoe,      the shoe it is too small for her,      the true bride wai<br>ts for you He looked down at her foot and saw how the blood was running out of h<br>er shoe, and how it had stained her white stocking quite red   Then he turned hi<br>s horse and took the false bride home again   This also is not the right one, sa<br>id he, have you no other daughter",
          "Node Index: 31, Node Text: before the king's son, who gave her the golden shoe  <br> Then she seated herself on a stool, drew her foot out of the heavy wooden shoe,<br> and put it into the slipper, which fitted like a glove   And when she rose up a<br>nd the king's son looked at her face he recognized the beautiful maiden who had <br>danced with him and cried, that is the true bride   The step-mother and the two <br>sisters were horrified and became pale with rage, he,",
          "Node Index: 37, Node Text: The text appears to be a retelling of the classic fai<br>ry tale \"Cinderella\". Here is a detailed summary:<br><br>The story begins with Cinderella's stepmother and stepsisters attempting to prep<br>are for a festival. In an unusual and seemingly magical way, birds (pigeons, tur<br>tle-doves, and other birds) gather in the garden to help Cinderella collect grai<br>ns of good quality into a dish, while separating the bad seeds from the crop.<br><br>After completing their task, the birds fly away, leaving Cinderella's stepmother<br> and stepsisters impressed and hoping to join them. However, when Cinderella goe<br>s through the back-door into the garden again, the birds come once more, this ti<br>me to help her prepare lentils for a dish.<br><br>As Cinderella prepares the meal, it is implied that she is being helped by the b<br>irds, who seem to be working together to complete their task efficiently. When t<br>he wedding of the king's son is announced, Cinderella's stepsisters try to ingra<br>tiate themselves with her in an attempt to share in her good fortune.<br><br>However, things take a dark turn when the two false sisters ask Cinderella to jo<br>in them at church for the wedding ceremony. As they walk back together, the pige<br>ons peck out one eye from each of their daughters, seemingly as punishment for t<br>heir wickedness and falsehood.<br><br>When the ceremony resumes, and the couples approach the altar, it is revealed th<br>at the stepsisters are now blind due to the birds' actions. This serves as a for<br>m of poetic justice, highlighting the consequences of their deceitful behavior.<br><br>Throughout the story, the birds play a significant role in Cinderella's life, se<br>eming to offer her assistance and support in various ways. Their actions also se<br>rve as a symbol of the consequences faced by those who are wicked or false, whil<br>e Cinderella remains innocent and kind-hearted throughout the narrative.",
          "Node Index: 33, Node Text: the other on the left, and remained sitting there Whe<br>n the wedding with the king's son was to be celebrated, the two false sisters ca<br>me and wanted to get into favor with cinderella and share her good fortune   Whe<br>n the betrothed couple went to church, the elder was at the right side and the y<br>ounger at the left, and the pigeons pecked out one eye from each of them   After<br>wards as they came back the elder was at",
          "Node Index: 34, Node Text: the left, and the younger at the right, and then the <br>pigeons pecked out the other eye from each   And thus, for their wickedness and <br>falsehood, they were punished with blindness all their days",
          "Node Index: 9, Node Text: back-door into the garden, and called, you tame pigeon<br>s, you turtle-doves, and all you birds beneath the sky, come and help me to pick<br>      the good into the pot,      the bad into the crop Then two white pigeons c<br>ame in by the kitchen window, and afterwards the turtle-doves, and at last all t<br>he birds beneath the sky, came whirring and crowding in, and alighted amongst th<br>e ashes",
          "Node Index: 10, Node Text: And the pigeons nodded with their heads and began pic<br>k, pick, pick, pick, and the rest began also pick, pick, pick, pick, and gathere<br>d all the good grains into the dish   Hardly had one hour passed before they had<br> finished, and all flew out again   Then the girl took the dish to her step-moth<br>er, and was glad, and believed that now she would be allowed to go with them to <br>the festival",
          "Node Index: 12, Node Text: dishes of lentils amongst the ashes, the maiden went <br>through the back-door into the garden and cried, you tame pigeons, you turtle-do<br>ves, and all you birds beneath the sky, come and help me to pick      the good i<br>nto the pot,      the bad into the crop Then two white pigeons came in by the ki<br>tchen-window, and afterwards the turtle-doves, and at length all the birds benea<br>th the",
          "Node Index: 13, Node Text: sky, came whirring and crowding in, and alighted amon<br>gst the ashes   And the doves nodded with their heads and began pick, pick, pick<br>, pick, and the others began also pick, pick, pick, pick, and gathered all the g<br>ood seeds into the dishes, and before half an hour was over they had already fin<br>ished, and all flew out again Then the maiden was delighted, and believed that s<br>he might now go with them to the wedding",
          "Node Index: 38, Node Text: The story begins with a wealthy man who has fallen il<br>l, leaving his young daughter without an immediate family member. The girl is ad<br>vised by her late mother to be good and pious, ensuring the protection of a high<br>er power will always be near her. She visits her mother's grave daily and remain<br>s devoted to their relationship.<br><br>However, after the winter season passes and spring arrives, the wealthy man marr<br>ies again, bringing with him two beautiful but morally corrupt step-daughters. T<br>he father treats his younger daughter harshly, forcing her to do all household c<br>hores and even sleep in the cinders by the hearth. This degrading treatment earn<br>s her the nickname \"Cinderella.\"<br><br>As fate would have it, the wealthy man announces that he will be attending a fes<br>tival, but he also tells Cinderella that she cannot attend due to her unsightly <br>appearance and lack of clothes. The step-mother mocks her, saying she will only <br>bring shame if she participates in any celebration.<br><br>Determined to improve her situation, Cinderella proposes an alternative challeng<br>e: if the step-mother can complete a task within an hour, Cinderella will be all<br>owed to join them at the festival. Despite knowing full well that she cannot suc<br>ceed, the step-mother agrees to take on the test and watches as Cinderella sets <br>to work diligently in the ashes.<br><br>In contrast to her mother's hopeful wishes, it appears that the story of Cindere<br>lla is one of woe and hardship, with an unfortunate girl facing cruel treatment <br>from those who are supposed to care for her.",
          "Node Index: 0, Node Text: The wife of a rich man fell sick, and as she felt that<br> her end was drawing near, she called her only daughter to her bedside and said,<br> dear child, be good and pious, and then the good God will always protect you, a<br>nd I will look down on you from heaven and be near you   Thereupon she closed he<br>r eyes and departed   Every day the maiden went out to her mother's grave, and w<br>ept, and she remained pious and good   When winter came",
          "Node Index: 1, Node Text: the snow spread a white sheet over the grave, and by t<br>he time the spring sun had drawn it off again, the man had taken another wife Th<br>e woman had brought with her into the house two daughters, who were beautiful an<br>d fair of face, but vile and black of heart Now began a bad time for the poor st<br>ep-child   Is the stupid goose to sit in the parlor with us, they said   He who <br>wants to eat bread must earn it   Out with the kitchen-wench",
          "Node Index: 3, Node Text: and emptied her peas and lentils into the ashes, so th<br>at she was forced to sit and pick them out again   In the evening when she had w<br>orked till she was weary she had no bed to go to, but had to sleep by the hearth<br> in the cinders   And as on that account she always looked dusty and dirty, they<br> called her cinderella It happened that the father was once going to the fair, a<br>nd he",
          "Node Index: 8, Node Text:   You go, cinderella, said she, covered in dust and di<br>rt as you are, and would go to the festival   You have no clothes and shoes, and<br> yet would dance   As, however, cinderella went on asking, the step-mother said <br>at last, I have emptied a dish of lentils into the ashes for you, if you have pi<br>cked them out again in two hours, you shall go with us   The maiden went through<br> the",
          "Node Index: 11, Node Text: But the step-mother said, no, cinderella, you have no<br> clothes and you can not dance   You would only be laughed at   And as cinderell<br>a wept at this, the step-mother said, if you can pick two dishes of lentils out <br>of the ashes for me in one hour, you shall go with us   And she thought to herse<br>lf, that she most certainly cannot do again   When the step-mother had emptied t<br>he two",
          "Node Index: 14, Node Text:   But the step-mother said, all this will not help   <br>You cannot go with us, for you have no clothes and can not dance   We should be <br>ashamed of you   On this she turned her back on cinderella, and hurried away wit<br>h her two proud daughters As no one was now at home, cinderella went to her moth<br>er's grave beneath the hazel-tree, and cried -      shiver and quiver, little tr<br>ee,      silver and gold throw down over me",
          "Node Index: 39, Node Text: The story begins with a prince who approaches Cindere<br>lla (the \"unknown maiden\") and dances with her. He is smitten with her and refus<br>es to let anyone else come near her during the dance. However, when she tries to<br> leave at nightfall, he allows another suitor to accompany her, but she escapes <br>from him.<br><br>The next day, the king's son tells Cinderella's father that his daughter has ent<br>ered the pigeon-house, leading him to suspect that it might be Cinderella. The f<br>ather is instructed to cut down the tree where Cinderella had climbed using an a<br>xe and pickaxe, but there is no one inside.<br><br>Later, when the king's son follows Cinderella as she tries to leave the house, s<br>he escapes from him again. This time, she leads him on a wild goose chase throug<br>h the garden, climbing up a pear tree to evade her pursuer. The father eventuall<br>y cuts down the tree, but still, there is no sign of Cinderella.<br><br>Undeterred, the king's son employs a ruse to catch Cinderella. He applies pitch <br>to the staircase and causes it to be slippery, resulting in Cinderella's left sl<br>ipper getting stuck when she tries to run down. The king's son picks up the slip<br>per, which is small, dainty, and all golden.<br><br>The next morning, the king's son takes the slipper to a nearby village to find C<br>inderella's identity. However, instead of finding the true bride, he meets Cinde<br>rella in person. She first cleans herself using soap and water before being summ<br>oned by her stepmother. The story ends with Cinderella being prepared for marria<br>ge, but it is unclear whether she will ultimately marry the king's son or not.<br><br>Some possible interpretations of this text include:<br><br>* The use of fairy tales to critique social class structures: The prince's behav<br>ior can be seen as a commentary on the privileged treatment given to members of <br>royalty.<br>* The theme of escape and freedom: Cinderella's repeated escapes from her pursue<br>rs symbolize her desire for independence and autonomy.<br>* The significance of cleanliness and hygiene: Cinderella's transformation from <br>a dirty, ash-covered girl to a clean and presentable one may represent a transit<br>ion from poverty to prosperity or from being unloved to being loved.<br><br>However, it is also possible that the text was written simply as entertainment, <br>without any deeper meaning or social commentary.",
          "Node Index: 16, Node Text: prince approached her, took her by the hand and dance<br>d with her He would dance with no other maiden, and never let loose of her hand,<br> and if any one else came to invite her, he said, this is my partner She danced <br>till it was evening, and then she wanted to go home But the king's son said, I w<br>ill go with you and bear you company, for he wished to see to whom the beautiful<br> maiden belonged She escaped from him, however, and sprang into the",
          "Node Index: 17, Node Text: pigeon-house   The king's son waited until her father<br> came, and then he told him that the unknown maiden had leapt into the pigeon-ho<br>use   The old man thought, can it be cinderella   And they had to bring him an a<br>xe and a pickaxe that he might hew the pigeon-house to pieces, but no one was in<br>side it   And when they got home cinderella lay in her dirty clothes among the a<br>shes, and",
          "Node Index: 20, Node Text: and danced with no one but her   When others came and<br> invited her, he said, this is my partner   When evening came she wished to leav<br>e, and the king's son followed her and wanted to see into which house she went  <br> But she sprang away from him, and into the garden behind the house   Therein st<br>ood a beautiful tall tree on which hung the most magnificent pears   She clamber<br>ed so nimbly",
          "Node Index: 21, Node Text: between the branches like a squirrel that the king's <br>son did not know where she was gone   He waited until her father came, and said <br>to him, the unknown maiden has escaped from me, and I believe she has climbed up<br> the pear-tree   The father thought, can it be cinderella   And had an axe broug<br>ht and cut the tree down, but no one was on it   And when they got into the",
          "Node Index: 24, Node Text: son was anxious to go with her, but she escaped from <br>him so quickly that he could not follow her   The king's son, however, had emplo<br>yed a ruse, and had caused the whole staircase to be smeared with pitch, and the<br>re, when she ran down, had the maiden's left slipper remained stuck   The king's<br> son picked it up, and it was small and dainty, and all golden   Next morning, h<br>e went with it to",
          "Node Index: 30, Node Text:   No, said the man, there is still a little stunted k<br>itchen-wench which my late wife left behind her, but she cannot possibly be the <br>bride   The king's son said he was to send her up to him, but the mother answere<br>d, oh, no, she is much too dirty, she cannot show herself   But he absolutely in<br>sisted on it, and cinderella had to be called   She first washed her hands and f<br>ace clean, and then went and bowed down",
          "Node Index: 115, Node Text: The text tells the story of Cinderella, a young woma<br>n who is treated poorly by her stepmother and stepsisters. They force her to do <br>menial tasks, such as cleaning and cooking, while dressing themselves in fine cl<br>othes. Despite their cruelty, Cinderella remains kind and gentle.<br><br>One day, Cinderella's father passes away, leaving behind two daughters from his <br>previous marriage, the stepsisters, who are delighted by their newfound wealth. <br>However, they take Cinderella's wishes for granted and refuse to share their goo<br>d fortune with her.<br><br>Cinderella's fairy godmother appears in the form of a little white bird that liv<br>es on a magical hazel tree near her mother's grave. The bird brings Cinderella g<br>ifts from the tree whenever she wishes for something. When the king invites all <br>young women in the country to attend a three-day festival, where his son will ch<br>oose a bride, the stepsisters are thrilled to be invited.<br><br>Cinderella begs her stepmother to allow her to go to the festival with her steps<br>isters, but is refused. However, the bird throws down beautiful clothes and slip<br>pers for Cinderella, which she quickly puts on and attends the festival. The ste<br>psisters and their mother do not recognize her in her new attire, thinking she m<br>ust be a foreign princess.<br><br>At the festival, Cinderella's beauty and kindness capture the attention of the k<br>ing's son, who falls deeply in love with her. However, when the clock strikes mi<br>dnight, Cinderella must leave abruptly, leaving behind one of her glass slippers<br>. The king sends out his servants to find the owner of the slipper, and Cinderel<br>la is eventually found.<br><br>In the end, Cinderella marries the prince, and the stepsisters are punished for <br>their cruelty towards her. The story ends with Cinderella living happily ever af<br>ter with her prince, while the little hazel tree remains a symbol of her kindnes<br>s and generosity.",
          "Node Index: 42, Node Text:   They took her pretty clothes away from her, put an <br>old grey bedgown on her, and gave her wooden shoes   Just look at the proud prin<br>cess, how decked out she is, they cried, and laughed, and led her into the kitch<br>en There she had to do hard work from morning till night, get up before daybreak<br>, carry water, light fires, cook and wash   Besides this, the sisters did her ev<br>ery imaginable injury - they mocked her",
          "Node Index: 44, Node Text: asked his two step-daughters what he should bring bac<br>k for them Beautiful dresses, said one, pearls and jewels, said the second And y<br>ou, cinderella, said he, what will you have   Father break off for me the first <br>branch which knocks against your hat on your way home   So he bought beautiful d<br>resses, pearls and jewels for his two step-daughters, and on his way home, as he<br> was riding through a green thicket, a hazel twig brushed against him and",
          "Node Index: 45, Node Text: knocked off his hat   Then he broke off the branch an<br>d took it with him   When he reached home he gave his step-daughters the things <br>which they had wished for, and to cinderella he gave the branch from the hazel-b<br>ush   Cinderella thanked him, went to her mother's grave and planted the branch <br>on it, and wept so much that the tears fell down on it and watered it   And it g<br>rew and became a handsome tree",
          "Node Index: 46, Node Text:  Thrice a day cinderella went and sat beneath it, and<br> wept and prayed, and a little white bird always came on the tree, and if cinder<br>ella expressed a wish, the bird threw down to her what she had wished for It hap<br>pened, however, that the king gave orders for a festival which was to last three<br> days, and to which all the beautiful young girls in the country were invited, i<br>n order that his son might choose himself a bride",
          "Node Index: 47, Node Text:   When the two step-sisters heard that they too were <br>to appear among the number, they were delighted, called cinderella and said, com<br>b our hair for us, brush our shoes and fasten our buckles, for we are going to t<br>he wedding at the king's palace Cinderella obeyed, but wept, because she too wou<br>ld have liked to go with them to the dance, and begged her step-mother to allow <br>her to do so",
          "Node Index: 55, Node Text: Then the bird threw a gold and silver dress down to h<br>er, and slippers embroidered with silk and silver   She put on the dress with al<br>l speed, and went to the wedding   Her step-sisters and the step-mother however <br>did not know her, and thought she must be a foreign princess, for she looked so <br>beautiful in the golden dress They never once thought of cinderella, and believe<br>d that she was sitting at home in the dirt, picking lentils out of the ashes   T<br>he",
          "Node Index: 58, Node Text: a dim little oil-lamp was burning on the mantle-piece<br>, for cinderella had jumped quickly down from the back of the pigeon-house and h<br>ad run to the little hazel-tree, and there she had taken off her beautiful cloth<br>es and laid them on the grave, and the bird had taken them away again, and then <br>she had seated herself in the kitchen amongst the ashes in her grey gown Next da<br>y when the festival began afresh, and her parents and",
          "Node Index: 59, Node Text: the step-sisters had gone once more, cinderella went <br>to the hazel-tree and said -      shiver and quiver, my little tree,      silver<br> and gold throw down over me Then the bird threw down a much more beautiful dres<br>s than on the preceding day  And when cinderella appeared at the wedding in this<br> dress, every one was astonished at her beauty   The king's son had waited until<br> she came, and instantly took her by the hand",
          "Node Index: 62, Node Text: kitchen, cinderella lay there among the ashes, as usu<br>al, for she had jumped down on the other side of the tree, had taken the beautif<br>ul dress to the bird on the little hazel-tree, and put on her grey gown On the t<br>hird day, when the parents and sisters had gone away, cinderella went once more <br>to her mother's grave and said to the little tree -      shiver and quiver, my l<br>ittle tree,      silver and gold throw down over me",
          "Node Index: 63, Node Text: And now the bird threw down to her a dress which was <br>more splendid and magnificent than any she had yet had, and the slippers were go<br>lden   And when she went to the festival in the dress, no one knew how to speak <br>for astonishment   The king's son danced with her only, and if any one invited h<br>er to dance, he said this is my partner When evening came, cinderella wished to <br>leave, and the king's",
          "Node Index: 116, Node Text: The story begins with a father who announces to his <br>daughters that he will only consider them for marriage if their feet fit into a <br>golden slipper. The first daughter, eager to try out her foot in the shoe, attem<br>pts to force it onto her foot but is unable to do so due to its large size. In a<br>n attempt to make the shoe fit, she is given permission by her mother to cut off<br> her big toe and have it sewn into the shoe. Despite this, the toe doesn't fit p<br>roperly, causing blood to appear inside the shoe.<br><br>The first daughter is taken back home by the prince, who realizes that his horse<br>'s stable was where the false bride had been examined earlier. He then returns t<br>he first daughter and instructs her sister to try on the golden slipper.<br><br>The second daughter attempts to wear the shoe but finds it too small for her hee<br>l. Her mother advises her to cut off a bit of her heel, which will also not fit <br>properly in the shoe. Despite this, the prince decides that there must be anothe<br>r daughter who is the true bride and instructs his servants to bring out all the<br> daughters.<br><br>However, it's clear that none of the princesses except one have been told about <br>the magic of the golden slipper before trying it on, as they were simply told th<br>eir feet had pretty shapes. <br><br>In this instance, Cinderella was aware that her foot fit perfectly in the shoe a<br>nd thus knew she must be the true bride. The step-mother and sisters were horrif<br>ied at being discovered to be imposter brides. However, the prince takes cindere<br>lla on his horse, as he believes that she is indeed the true bride and had done <br>this before he actually proposed marriage.<br><br>The two white doves in this story appear in the second part of this narrative to<br> serve as a harbinger for Cinderella's arrival at the royal palace",
          "Node Index: 65, Node Text: the father, and said to him, no one shall be my wife <br>but she whose foot this golden slipper fits   Then were the two sisters glad, fo<br>r they had pretty feet   The eldest went with the shoe into her room and wanted <br>to try it on, and her mother stood by   But she could not get her big toe into i<br>t, and the shoe was too small for her   Then her mother gave her a knife and sai<br>d, cut the toe off,",
          "Node Index: 66, Node Text: when you are queen you will have no more need to go o<br>n foot   The maiden cut the toe off, forced the foot into the shoe, swallowed th<br>e pain, and went out to the king's son   Then he took her on his his horse as hi<br>s bride and rode away with her   They were obliged, however, to pass the grave, <br>and there, on the hazel-tree, sat the two pigeons and cried -      turn and peep<br>, turn and peep,",
          "Node Index: 67, Node Text:      there's blood within the shoe,      the shoe it <br>is too small for her,      the true bride waits for you Then he looked at her fo<br>ot and saw how the blood was trickling from it   He turned his horse round and t<br>ook the false bride home again, and said she was not the true one, and that the <br>other sister was to put the shoe on   Then this one went into her chamber and go<br>t her toes safely into the shoe, but her heel was too large",
          "Node Index: 68, Node Text:   So her mother gave her a knife and said,  cut a bit<br> off your heel, when you are queen you will have no more need to go on foot   Th<br>e maiden cut a bit off her heel, forced her foot into the shoe, swallowed the pa<br>in, and went out to the king's son   He took her on his horse as his bride, and <br>rode away with her, but when they passed by the hazel-tree, the two pigeons sat <br>on it and cried -",
          "Node Index: 69, Node Text:      turn and peep, turn and peep,      there's blood<br> within the shoe,      the shoe it is too small for her,      the true bride wai<br>ts for you He looked down at her foot and saw how the blood was running out of h<br>er shoe, and how it had stained her white stocking quite red   Then he turned hi<br>s horse and took the false bride home again   This also is not the right one, sa<br>id he, have you no other daughter",
          "Node Index: 71, Node Text: before the king's son, who gave her the golden shoe  <br> Then she seated herself on a stool, drew her foot out of the heavy wooden shoe,<br> and put it into the slipper, which fitted like a glove   And when she rose up a<br>nd the king's son looked at her face he recognized the beautiful maiden who had <br>danced with him and cried, that is the true bride   The step-mother and the two <br>sisters were horrified and became pale with rage, he,",
          "Node Index: 72, Node Text: however, took cinderella on his horse and rode away w<br>ith her   As they passed by the hazel-tree, the two white doves cried -      tur<br>n and peep, turn and peep,      no blood is in the shoe,      the shoe is not to<br>o small for her,      the true bride rides with you, and when they had cried tha<br>t, the two came flying down and placed themselves on cinderella's shoulders, one<br> on the right,",
          "Node Index: 117, Node Text: This text appears to be a retelling of the classic f<br>airy tale \"The Pea in the Pod\" or \"Cinderella\". However, there are some signific<br>ant differences between this version and the traditional story.<br><br>In this adaptation, Cinderella is not present at all, and instead, two sisters w<br>ho appear to be false versions of Cinderella are trying to get into favor with a<br> king's son. The narrative focuses on the interactions between these two sisters<br> and their relationship with birds that help them pick out good seeds from ashes<br>.<br><br>The story begins with one of the sisters approaching a garden through the back-d<br>oor, where she summons birds to help her sort good seeds from bad ones. However,<br> despite the assistance of the birds, the seeds are not actually sorted, but rat<br>her gathered in dishes (referred to as \"pots\" or \"dishes\"). This suggests that t<br>he sisters may be trying to deceive others about their intentions.<br><br>The story continues with the two sisters attending a wedding, where they try to <br>gain favor with Cinderella-like individuals. However, instead of being punished <br>for their wickedness, the birds intervene and peck out one eye from each sister <br>as punishment for their deceitfulness.<br><br>In contrast to traditional versions of \"Cinderella\", where the titular character<br> is often portrayed as kind, hardworking, and ultimately rewarded with happiness<br>, this version presents a darker and more sinister tone. The story seems to emph<br>asize the consequences of deceit and falsehood, rather than the virtues of kindn<br>ess and hard work.<br><br>It's worth noting that this adaptation appears to be inspired by the traditional<br> fairy tale \"The Pea in the Pod\", which tells the story of two spoiled and wicke<br>d stepsisters who try to deceive their stepdaughter into thinking they are kinde<br>r than they actually are. In the original story, the birds are not depicted as p<br>ecking out the stepsisters' eyes, but rather, one pea is hidden under a pile of <br>mattresses to test whether the stepsister is truly kind-hearted.<br><br>Overall, this adaptation presents a unique and darker take on classic fairy tale<br> themes, emphasizing the consequences of deceit and falsehood.",
          "Node Index: 73, Node Text: the other on the left, and remained sitting there Whe<br>n the wedding with the king's son was to be celebrated, the two false sisters ca<br>me and wanted to get into favor with cinderella and share her good fortune   Whe<br>n the betrothed couple went to church, the elder was at the right side and the y<br>ounger at the left, and the pigeons pecked out one eye from each of them   After<br>wards as they came back the elder was at",
          "Node Index: 74, Node Text: the left, and the younger at the right, and then the <br>pigeons pecked out the other eye from each   And thus, for their wickedness and <br>falsehood, they were punished with blindness all their days",
          "Node Index: 49, Node Text: back-door into the garden, and called, you tame pigeo<br>ns, you turtle-doves, and all you birds beneath the sky, come and help me to pic<br>k      the good into the pot,      the bad into the crop Then two white pigeons <br>came in by the kitchen window, and afterwards the turtle-doves, and at last all <br>the birds beneath the sky, came whirring and crowding in, and alighted amongst t<br>he ashes",
          "Node Index: 50, Node Text: And the pigeons nodded with their heads and began pic<br>k, pick, pick, pick, and the rest began also pick, pick, pick, pick, and gathere<br>d all the good grains into the dish   Hardly had one hour passed before they had<br> finished, and all flew out again   Then the girl took the dish to her step-moth<br>er, and was glad, and believed that now she would be allowed to go with them to <br>the festival",
          "Node Index: 52, Node Text: dishes of lentils amongst the ashes, the maiden went <br>through the back-door into the garden and cried, you tame pigeons, you turtle-do<br>ves, and all you birds beneath the sky, come and help me to pick      the good i<br>nto the pot,      the bad into the crop Then two white pigeons came in by the ki<br>tchen-window, and afterwards the turtle-doves, and at length all the birds benea<br>th the",
          "Node Index: 53, Node Text: sky, came whirring and crowding in, and alighted amon<br>gst the ashes   And the doves nodded with their heads and began pick, pick, pick<br>, pick, and the others began also pick, pick, pick, pick, and gathered all the g<br>ood seeds into the dishes, and before half an hour was over they had already fin<br>ished, and all flew out again Then the maiden was delighted, and believed that s<br>he might now go with them to the wedding",
          "Node Index: 118, Node Text: The summary is as follows:<br><br>A wealthy man's wife falls ill and, before she dies, she instructs their only da<br>ughter on how to live a virtuous life. After her death, the daughter continues t<br>o visit her mother's grave daily, maintaining her pious and good demeanor.<br><br>When winter arrives, the stepmother marries again and brings two new daughters i<br>nto the household. The stepdaughter from the first marriage is subjected to hars<br>h treatment by the family, including being forced to live in a small kitchen are<br>a with no bed, sleeping on cinders by the hearth. She is ridiculed for her appea<br>rance and is treated poorly.<br><br>One day, the father announces that he will attend a fair, but informs his stepda<br>ughter that she cannot go due to her poor condition. However, when the stepmothe<br>r offers her a chance to redeem herself by picking lentils out of the ashes in e<br>xchange for permission to attend the fair, the daughter accepts and manages to c<br>omplete the task within the given time.<br><br>Despite this success, the stepmother remains unsatisfied with the daughter's eff<br>orts and refuses to allow her to join them at the fair. The stepdaughter is hear<br>tbroken and returns to her mother's grave under a hazel tree, where she prays fo<br>r help and comfort from above.",
          "Node Index: 40, Node Text: The wife of a rich man fell sick, and as she felt tha<br>t her end was drawing near, she called her only daughter to her bedside and said<br>, dear child, be good and pious, and then the good God will always protect you, <br>and I will look down on you from heaven and be near you   Thereupon she closed h<br>er eyes and departed   Every day the maiden went out to her mother's grave, and <br>wept, and she remained pious and good   When winter came",
          "Node Index: 41, Node Text: the snow spread a white sheet over the grave, and by <br>the time the spring sun had drawn it off again, the man had taken another wife T<br>he woman had brought with her into the house two daughters, who were beautiful a<br>nd fair of face, but vile and black of heart Now began a bad time for the poor s<br>tep-child   Is the stupid goose to sit in the parlor with us, they said   He who<br> wants to eat bread must earn it   Out with the kitchen-wench",
          "Node Index: 43, Node Text: and emptied her peas and lentils into the ashes, so t<br>hat she was forced to sit and pick them out again   In the evening when she had <br>worked till she was weary she had no bed to go to, but had to sleep by the heart<br>h in the cinders   And as on that account she always looked dusty and dirty, the<br>y called her cinderella It happened that the father was once going to the fair, <br>and he",
          "Node Index: 48, Node Text:   You go, cinderella, said she, covered in dust and d<br>irt as you are, and would go to the festival   You have no clothes and shoes, an<br>d yet would dance   As, however, cinderella went on asking, the step-mother said<br> at last, I have emptied a dish of lentils into the ashes for you, if you have p<br>icked them out again in two hours, you shall go with us   The maiden went throug<br>h the",
          "Node Index: 51, Node Text: But the step-mother said, no, cinderella, you have no<br> clothes and you can not dance   You would only be laughed at   And as cinderell<br>a wept at this, the step-mother said, if you can pick two dishes of lentils out <br>of the ashes for me in one hour, you shall go with us   And she thought to herse<br>lf, that she most certainly cannot do again   When the step-mother had emptied t<br>he two",
          "Node Index: 54, Node Text:   But the step-mother said, all this will not help   <br>You cannot go with us, for you have no clothes and can not dance   We should be <br>ashamed of you   On this she turned her back on cinderella, and hurried away wit<br>h her two proud daughters As no one was now at home, cinderella went to her moth<br>er's grave beneath the hazel-tree, and cried -      shiver and quiver, little tr<br>ee,      silver and gold throw down over me",
          "Node Index: 119, Node Text: The text appears to be a summary or retelling of the<br> classic fairy tale \"Cinderella.\" Here's a detailed summary:<br><br>The story begins with the prince approaching Cinderella and asking her to dance.<br> The prince becomes smitten with Cinderella and dances with no other maiden, hol<br>ding onto her hand throughout their time together. However, when the evening com<br>es to an end, Cinderella wants to leave, but the king's son, who is also in love<br> with her, offers to accompany her home.<br><br>Cinderella escapes from the king's son and runs into a pigeon house, where she b<br>elieves she can hide. The king's son informs her father about the escape, and th<br>ey bring an axe and pickaxe to break open the pigeon house. However, when they a<br>rrive, Cinderella is not found inside.<br><br>The story repeats itself as the king's son follows Cinderella again and tries to<br> see into which house she goes. She escapes from him once more and runs into a g<br>arden behind her father's house, where she climbs up a tall pear tree. The king'<br>s son believes that this might be Cinderella, but when he cuts down the tree, th<br>ere is no one on it.<br><br>In the next attempt to capture Cinderella, the king's son employs a ruse by smea<br>ring pitch on the staircase. When Cinderella runs down, her left slipper gets st<br>uck in the mess. The king's son picks up the slipper and finds that it is small,<br> dainty, and golden.<br><br>The story then shifts to the king's son trying to find the owner of the slipper.<br> He visits a nearby house where he finds Cinderella's mother, who tells him abou<br>t her late wife, who left behind a young kitchen wench named Cinderella. The kin<br>g's son wants to see Cinderella, but her mother refuses because she is too dirty<br>.<br><br>Cinderella eventually cleans herself up and goes to meet the king's son. This ma<br>rks a turning point in the story, as it suggests that Cinderella might be the on<br>e who owns the lost slipper.",
          "Node Index: 64, Node Text: son was anxious to go with her, but she escaped from <br>him so quickly that he could not follow her   The king's son, however, had emplo<br>yed a ruse, and had caused the whole staircase to be smeared with pitch, and the<br>re, when she ran down, had the maiden's left slipper remained stuck   The king's<br> son picked it up, and it was small and dainty, and all golden   Next morning, h<br>e went with it to",
          "Node Index: 70, Node Text:   No, said the man, there is still a little stunted k<br>itchen-wench which my late wife left behind her, but she cannot possibly be the <br>bride   The king's son said he was to send her up to him, but the mother answere<br>d, oh, no, she is much too dirty, she cannot show herself   But he absolutely in<br>sisted on it, and cinderella had to be called   She first washed her hands and f<br>ace clean, and then went and bowed down",
          "Node Index: 56, Node Text: prince approached her, took her by the hand and dance<br>d with her He would dance with no other maiden, and never let loose of her hand,<br> and if any one else came to invite her, he said, this is my partner She danced <br>till it was evening, and then she wanted to go home But the king's son said, I w<br>ill go with you and bear you company, for he wished to see to whom the beautiful<br> maiden belonged She escaped from him, however, and sprang into the",
          "Node Index: 57, Node Text: pigeon-house   The king's son waited until her father<br> came, and then he told him that the unknown maiden had leapt into the pigeon-ho<br>use   The old man thought, can it be cinderella   And they had to bring him an a<br>xe and a pickaxe that he might hew the pigeon-house to pieces, but no one was in<br>side it   And when they got home cinderella lay in her dirty clothes among the a<br>shes, and",
          "Node Index: 60, Node Text: and danced with no one but her   When others came and<br> invited her, he said, this is my partner   When evening came she wished to leav<br>e, and the king's son followed her and wanted to see into which house she went  <br> But she sprang away from him, and into the garden behind the house   Therein st<br>ood a beautiful tall tree on which hung the most magnificent pears   She clamber<br>ed so nimbly",
          "Node Index: 61, Node Text: between the branches like a squirrel that the king's <br>son did not know where she was gone   He waited until her father came, and said <br>to him, the unknown maiden has escaped from me, and I believe she has climbed up<br> the pear-tree   The father thought, can it be cinderella   And had an axe broug<br>ht and cut the tree down, but no one was on it   And when they got into the"
         ],
         "type": "scatter",
         "x": [
          -5,
          0,
          -4,
          -3,
          -2,
          -1,
          0,
          1,
          2,
          3,
          4,
          5,
          -31.833333333333336,
          -34.833333333333336,
          -33.833333333333336,
          -32.833333333333336,
          -31.833333333333336,
          -30.833333333333336,
          -29.833333333333336,
          -28.833333333333336,
          -25.333333333333336,
          -27.833333333333336,
          -26.833333333333336,
          -25.833333333333336,
          -24.833333333333336,
          -23.833333333333336,
          -22.833333333333336,
          -19.333333333333336,
          -21.833333333333336,
          -20.833333333333336,
          -19.833333333333336,
          -18.833333333333336,
          -17.833333333333336,
          -16.833333333333336,
          -13.333333333333336,
          -15.833333333333336,
          -14.833333333333336,
          -13.833333333333336,
          -12.833333333333336,
          -11.833333333333336,
          -10.833333333333336,
          -5.333333333333336,
          -9.833333333333336,
          -8.833333333333336,
          -7.833333333333336,
          -6.833333333333336,
          -5.833333333333336,
          -4.833333333333336,
          -3.8333333333333357,
          -2.8333333333333357,
          -1.8333333333333357,
          -0.8333333333333357,
          3.1666666666666643,
          0.1666666666666643,
          1.1666666666666643,
          2.1666666666666643,
          3.1666666666666643,
          4.166666666666664,
          5.166666666666664,
          6.166666666666664,
          9.666666666666664,
          7.166666666666664,
          8.166666666666664,
          9.166666666666664,
          10.166666666666664,
          11.166666666666664,
          12.166666666666664,
          15.666666666666664,
          13.166666666666664,
          14.166666666666664,
          15.166666666666664,
          16.166666666666664,
          17.166666666666664,
          18.166666666666664,
          21.666666666666664,
          19.166666666666664,
          20.166666666666664,
          21.166666666666664,
          22.166666666666664,
          23.166666666666664,
          24.166666666666664
         ],
         "y": [
          5,
          6,
          5,
          5,
          5,
          5,
          5,
          5,
          5,
          5,
          5,
          5,
          4,
          3,
          3,
          3,
          3,
          3,
          3,
          3,
          4,
          3,
          3,
          3,
          3,
          3,
          3,
          4,
          3,
          3,
          3,
          3,
          3,
          3,
          4,
          3,
          3,
          3,
          3,
          3,
          3,
          4,
          3,
          3,
          3,
          3,
          3,
          3,
          3,
          3,
          3,
          3,
          4,
          3,
          3,
          3,
          3,
          3,
          3,
          3,
          4,
          3,
          3,
          3,
          3,
          3,
          3,
          4,
          3,
          3,
          3,
          3,
          3,
          3,
          4,
          3,
          3,
          3,
          3,
          3,
          3
         ]
        }
       ],
       "layout": {
        "font": {
         "size": 12
        },
        "hovermode": "closest",
        "margin": {
         "b": 85,
         "l": 40,
         "r": 40,
         "t": 100
        },
        "plot_bgcolor": "rgb(248,248,248)",
        "showlegend": false,
        "template": {
         "data": {
          "bar": [
           {
            "error_x": {
             "color": "#2a3f5f"
            },
            "error_y": {
             "color": "#2a3f5f"
            },
            "marker": {
             "line": {
              "color": "#E5ECF6",
              "width": 0.5
             },
             "pattern": {
              "fillmode": "overlay",
              "size": 10,
              "solidity": 0.2
             }
            },
            "type": "bar"
           }
          ],
          "barpolar": [
           {
            "marker": {
             "line": {
              "color": "#E5ECF6",
              "width": 0.5
             },
             "pattern": {
              "fillmode": "overlay",
              "size": 10,
              "solidity": 0.2
             }
            },
            "type": "barpolar"
           }
          ],
          "carpet": [
           {
            "aaxis": {
             "endlinecolor": "#2a3f5f",
             "gridcolor": "white",
             "linecolor": "white",
             "minorgridcolor": "white",
             "startlinecolor": "#2a3f5f"
            },
            "baxis": {
             "endlinecolor": "#2a3f5f",
             "gridcolor": "white",
             "linecolor": "white",
             "minorgridcolor": "white",
             "startlinecolor": "#2a3f5f"
            },
            "type": "carpet"
           }
          ],
          "choropleth": [
           {
            "colorbar": {
             "outlinewidth": 0,
             "ticks": ""
            },
            "type": "choropleth"
           }
          ],
          "contour": [
           {
            "colorbar": {
             "outlinewidth": 0,
             "ticks": ""
            },
            "colorscale": [
             [
              0,
              "#0d0887"
             ],
             [
              0.1111111111111111,
              "#46039f"
             ],
             [
              0.2222222222222222,
              "#7201a8"
             ],
             [
              0.3333333333333333,
              "#9c179e"
             ],
             [
              0.4444444444444444,
              "#bd3786"
             ],
             [
              0.5555555555555556,
              "#d8576b"
             ],
             [
              0.6666666666666666,
              "#ed7953"
             ],
             [
              0.7777777777777778,
              "#fb9f3a"
             ],
             [
              0.8888888888888888,
              "#fdca26"
             ],
             [
              1,
              "#f0f921"
             ]
            ],
            "type": "contour"
           }
          ],
          "contourcarpet": [
           {
            "colorbar": {
             "outlinewidth": 0,
             "ticks": ""
            },
            "type": "contourcarpet"
           }
          ],
          "heatmap": [
           {
            "colorbar": {
             "outlinewidth": 0,
             "ticks": ""
            },
            "colorscale": [
             [
              0,
              "#0d0887"
             ],
             [
              0.1111111111111111,
              "#46039f"
             ],
             [
              0.2222222222222222,
              "#7201a8"
             ],
             [
              0.3333333333333333,
              "#9c179e"
             ],
             [
              0.4444444444444444,
              "#bd3786"
             ],
             [
              0.5555555555555556,
              "#d8576b"
             ],
             [
              0.6666666666666666,
              "#ed7953"
             ],
             [
              0.7777777777777778,
              "#fb9f3a"
             ],
             [
              0.8888888888888888,
              "#fdca26"
             ],
             [
              1,
              "#f0f921"
             ]
            ],
            "type": "heatmap"
           }
          ],
          "heatmapgl": [
           {
            "colorbar": {
             "outlinewidth": 0,
             "ticks": ""
            },
            "colorscale": [
             [
              0,
              "#0d0887"
             ],
             [
              0.1111111111111111,
              "#46039f"
             ],
             [
              0.2222222222222222,
              "#7201a8"
             ],
             [
              0.3333333333333333,
              "#9c179e"
             ],
             [
              0.4444444444444444,
              "#bd3786"
             ],
             [
              0.5555555555555556,
              "#d8576b"
             ],
             [
              0.6666666666666666,
              "#ed7953"
             ],
             [
              0.7777777777777778,
              "#fb9f3a"
             ],
             [
              0.8888888888888888,
              "#fdca26"
             ],
             [
              1,
              "#f0f921"
             ]
            ],
            "type": "heatmapgl"
           }
          ],
          "histogram": [
           {
            "marker": {
             "pattern": {
              "fillmode": "overlay",
              "size": 10,
              "solidity": 0.2
             }
            },
            "type": "histogram"
           }
          ],
          "histogram2d": [
           {
            "colorbar": {
             "outlinewidth": 0,
             "ticks": ""
            },
            "colorscale": [
             [
              0,
              "#0d0887"
             ],
             [
              0.1111111111111111,
              "#46039f"
             ],
             [
              0.2222222222222222,
              "#7201a8"
             ],
             [
              0.3333333333333333,
              "#9c179e"
             ],
             [
              0.4444444444444444,
              "#bd3786"
             ],
             [
              0.5555555555555556,
              "#d8576b"
             ],
             [
              0.6666666666666666,
              "#ed7953"
             ],
             [
              0.7777777777777778,
              "#fb9f3a"
             ],
             [
              0.8888888888888888,
              "#fdca26"
             ],
             [
              1,
              "#f0f921"
             ]
            ],
            "type": "histogram2d"
           }
          ],
          "histogram2dcontour": [
           {
            "colorbar": {
             "outlinewidth": 0,
             "ticks": ""
            },
            "colorscale": [
             [
              0,
              "#0d0887"
             ],
             [
              0.1111111111111111,
              "#46039f"
             ],
             [
              0.2222222222222222,
              "#7201a8"
             ],
             [
              0.3333333333333333,
              "#9c179e"
             ],
             [
              0.4444444444444444,
              "#bd3786"
             ],
             [
              0.5555555555555556,
              "#d8576b"
             ],
             [
              0.6666666666666666,
              "#ed7953"
             ],
             [
              0.7777777777777778,
              "#fb9f3a"
             ],
             [
              0.8888888888888888,
              "#fdca26"
             ],
             [
              1,
              "#f0f921"
             ]
            ],
            "type": "histogram2dcontour"
           }
          ],
          "mesh3d": [
           {
            "colorbar": {
             "outlinewidth": 0,
             "ticks": ""
            },
            "type": "mesh3d"
           }
          ],
          "parcoords": [
           {
            "line": {
             "colorbar": {
              "outlinewidth": 0,
              "ticks": ""
             }
            },
            "type": "parcoords"
           }
          ],
          "pie": [
           {
            "automargin": true,
            "type": "pie"
           }
          ],
          "scatter": [
           {
            "fillpattern": {
             "fillmode": "overlay",
             "size": 10,
             "solidity": 0.2
            },
            "type": "scatter"
           }
          ],
          "scatter3d": [
           {
            "line": {
             "colorbar": {
              "outlinewidth": 0,
              "ticks": ""
             }
            },
            "marker": {
             "colorbar": {
              "outlinewidth": 0,
              "ticks": ""
             }
            },
            "type": "scatter3d"
           }
          ],
          "scattercarpet": [
           {
            "marker": {
             "colorbar": {
              "outlinewidth": 0,
              "ticks": ""
             }
            },
            "type": "scattercarpet"
           }
          ],
          "scattergeo": [
           {
            "marker": {
             "colorbar": {
              "outlinewidth": 0,
              "ticks": ""
             }
            },
            "type": "scattergeo"
           }
          ],
          "scattergl": [
           {
            "marker": {
             "colorbar": {
              "outlinewidth": 0,
              "ticks": ""
             }
            },
            "type": "scattergl"
           }
          ],
          "scattermapbox": [
           {
            "marker": {
             "colorbar": {
              "outlinewidth": 0,
              "ticks": ""
             }
            },
            "type": "scattermapbox"
           }
          ],
          "scatterpolar": [
           {
            "marker": {
             "colorbar": {
              "outlinewidth": 0,
              "ticks": ""
             }
            },
            "type": "scatterpolar"
           }
          ],
          "scatterpolargl": [
           {
            "marker": {
             "colorbar": {
              "outlinewidth": 0,
              "ticks": ""
             }
            },
            "type": "scatterpolargl"
           }
          ],
          "scatterternary": [
           {
            "marker": {
             "colorbar": {
              "outlinewidth": 0,
              "ticks": ""
             }
            },
            "type": "scatterternary"
           }
          ],
          "surface": [
           {
            "colorbar": {
             "outlinewidth": 0,
             "ticks": ""
            },
            "colorscale": [
             [
              0,
              "#0d0887"
             ],
             [
              0.1111111111111111,
              "#46039f"
             ],
             [
              0.2222222222222222,
              "#7201a8"
             ],
             [
              0.3333333333333333,
              "#9c179e"
             ],
             [
              0.4444444444444444,
              "#bd3786"
             ],
             [
              0.5555555555555556,
              "#d8576b"
             ],
             [
              0.6666666666666666,
              "#ed7953"
             ],
             [
              0.7777777777777778,
              "#fb9f3a"
             ],
             [
              0.8888888888888888,
              "#fdca26"
             ],
             [
              1,
              "#f0f921"
             ]
            ],
            "type": "surface"
           }
          ],
          "table": [
           {
            "cells": {
             "fill": {
              "color": "#EBF0F8"
             },
             "line": {
              "color": "white"
             }
            },
            "header": {
             "fill": {
              "color": "#C8D4E3"
             },
             "line": {
              "color": "white"
             }
            },
            "type": "table"
           }
          ]
         },
         "layout": {
          "annotationdefaults": {
           "arrowcolor": "#2a3f5f",
           "arrowhead": 0,
           "arrowwidth": 1
          },
          "autotypenumbers": "strict",
          "coloraxis": {
           "colorbar": {
            "outlinewidth": 0,
            "ticks": ""
           }
          },
          "colorscale": {
           "diverging": [
            [
             0,
             "#8e0152"
            ],
            [
             0.1,
             "#c51b7d"
            ],
            [
             0.2,
             "#de77ae"
            ],
            [
             0.3,
             "#f1b6da"
            ],
            [
             0.4,
             "#fde0ef"
            ],
            [
             0.5,
             "#f7f7f7"
            ],
            [
             0.6,
             "#e6f5d0"
            ],
            [
             0.7,
             "#b8e186"
            ],
            [
             0.8,
             "#7fbc41"
            ],
            [
             0.9,
             "#4d9221"
            ],
            [
             1,
             "#276419"
            ]
           ],
           "sequential": [
            [
             0,
             "#0d0887"
            ],
            [
             0.1111111111111111,
             "#46039f"
            ],
            [
             0.2222222222222222,
             "#7201a8"
            ],
            [
             0.3333333333333333,
             "#9c179e"
            ],
            [
             0.4444444444444444,
             "#bd3786"
            ],
            [
             0.5555555555555556,
             "#d8576b"
            ],
            [
             0.6666666666666666,
             "#ed7953"
            ],
            [
             0.7777777777777778,
             "#fb9f3a"
            ],
            [
             0.8888888888888888,
             "#fdca26"
            ],
            [
             1,
             "#f0f921"
            ]
           ],
           "sequentialminus": [
            [
             0,
             "#0d0887"
            ],
            [
             0.1111111111111111,
             "#46039f"
            ],
            [
             0.2222222222222222,
             "#7201a8"
            ],
            [
             0.3333333333333333,
             "#9c179e"
            ],
            [
             0.4444444444444444,
             "#bd3786"
            ],
            [
             0.5555555555555556,
             "#d8576b"
            ],
            [
             0.6666666666666666,
             "#ed7953"
            ],
            [
             0.7777777777777778,
             "#fb9f3a"
            ],
            [
             0.8888888888888888,
             "#fdca26"
            ],
            [
             1,
             "#f0f921"
            ]
           ]
          },
          "colorway": [
           "#636efa",
           "#EF553B",
           "#00cc96",
           "#ab63fa",
           "#FFA15A",
           "#19d3f3",
           "#FF6692",
           "#B6E880",
           "#FF97FF",
           "#FECB52"
          ],
          "font": {
           "color": "#2a3f5f"
          },
          "geo": {
           "bgcolor": "white",
           "lakecolor": "white",
           "landcolor": "#E5ECF6",
           "showlakes": true,
           "showland": true,
           "subunitcolor": "white"
          },
          "hoverlabel": {
           "align": "left"
          },
          "hovermode": "closest",
          "mapbox": {
           "style": "light"
          },
          "paper_bgcolor": "white",
          "plot_bgcolor": "#E5ECF6",
          "polar": {
           "angularaxis": {
            "gridcolor": "white",
            "linecolor": "white",
            "ticks": ""
           },
           "bgcolor": "#E5ECF6",
           "radialaxis": {
            "gridcolor": "white",
            "linecolor": "white",
            "ticks": ""
           }
          },
          "scene": {
           "xaxis": {
            "backgroundcolor": "#E5ECF6",
            "gridcolor": "white",
            "gridwidth": 2,
            "linecolor": "white",
            "showbackground": true,
            "ticks": "",
            "zerolinecolor": "white"
           },
           "yaxis": {
            "backgroundcolor": "#E5ECF6",
            "gridcolor": "white",
            "gridwidth": 2,
            "linecolor": "white",
            "showbackground": true,
            "ticks": "",
            "zerolinecolor": "white"
           },
           "zaxis": {
            "backgroundcolor": "#E5ECF6",
            "gridcolor": "white",
            "gridwidth": 2,
            "linecolor": "white",
            "showbackground": true,
            "ticks": "",
            "zerolinecolor": "white"
           }
          },
          "shapedefaults": {
           "line": {
            "color": "#2a3f5f"
           }
          },
          "ternary": {
           "aaxis": {
            "gridcolor": "white",
            "linecolor": "white",
            "ticks": ""
           },
           "baxis": {
            "gridcolor": "white",
            "linecolor": "white",
            "ticks": ""
           },
           "bgcolor": "#E5ECF6",
           "caxis": {
            "gridcolor": "white",
            "linecolor": "white",
            "ticks": ""
           }
          },
          "title": {
           "x": 0.05
          },
          "xaxis": {
           "automargin": true,
           "gridcolor": "white",
           "linecolor": "white",
           "ticks": "",
           "title": {
            "standoff": 15
           },
           "zerolinecolor": "white",
           "zerolinewidth": 2
          },
          "yaxis": {
           "automargin": true,
           "gridcolor": "white",
           "linecolor": "white",
           "ticks": "",
           "title": {
            "standoff": 15
           },
           "zerolinecolor": "white",
           "zerolinewidth": 2
          }
         }
        },
        "title": {
         "text": "Tree Visualization"
        },
        "xaxis": {
         "showgrid": false,
         "showline": false,
         "showticklabels": false,
         "zeroline": false
        },
        "yaxis": {
         "showgrid": false,
         "showline": false,
         "showticklabels": false,
         "zeroline": false
        }
       }
      }
     },
     "metadata": {},
     "output_type": "display_data"
    }
   ],
   "source": [
    "## Now see the tree build in action\n",
    "RA.visualize_tree()"
   ]
  }
 ],
 "metadata": {
  "kernelspec": {
   "display_name": ".venv",
   "language": "python",
   "name": "python3"
  },
  "language_info": {
   "codemirror_mode": {
    "name": "ipython",
    "version": 3
   },
   "file_extension": ".py",
   "mimetype": "text/x-python",
   "name": "python",
   "nbconvert_exporter": "python",
   "pygments_lexer": "ipython3",
   "version": "3.10.9"
  }
 },
 "nbformat": 4,
 "nbformat_minor": 5
}
