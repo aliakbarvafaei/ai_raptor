{
 "cells": [
  {
   "cell_type": "markdown",
   "id": "912cd8c6-d405-4dfe-8897-46108e6a6af7",
   "metadata": {},
   "source": [
    "# RAPTOR: Recursive Abstractive Processing for Tree-Organized Retrieval"
   ]
  },
  {
   "cell_type": "code",
   "execution_count": 1,
   "id": "e2d7d995-7beb-40b5-9a44-afd350b7d221",
   "metadata": {},
   "outputs": [
    {
     "name": "stdout",
     "output_type": "stream",
     "text": [
      "میلاد فخرالدینی در گفت‌وگو با «فوتبال 360»؛ با گل‌گهر به آسیا فکر می‌کنیم\n",
      "09 بهمن 1403 ساعت 08:00\n",
      "6 \n"
     ]
    }
   ],
   "source": [
    "# Cinderella story defined in sample.txt\n",
    "with open('demo/data4.txt', 'r', encoding=\"utf-8\") as file:\n",
    "    text = file.read()\n",
    "\n",
    "print(text[:100])"
   ]
  },
  {
   "cell_type": "markdown",
   "id": "c7d51ebd-5597-4fdd-8c37-32636395081b",
   "metadata": {},
   "source": [
    "1) **Building**: RAPTOR recursively embeds, clusters, and summarizes chunks of text to construct a tree with varying levels of summarization from the bottom up. You can create a tree from the text in 'sample.txt' using `RA.add_documents(text)`.\n",
    "\n",
    "2) **Querying**: At inference time, the RAPTOR model retrieves information from this tree, integrating data across lengthy documents at different abstraction levels. You can perform queries on the tree with `RA.answer_question`."
   ]
  },
  {
   "cell_type": "markdown",
   "id": "f4f58830-9004-48a4-b50e-61a855511d24",
   "metadata": {},
   "source": [
    "### Building the tree"
   ]
  },
  {
   "cell_type": "code",
   "execution_count": 2,
   "id": "3753fcf9-0a8e-4ab3-bf3a-6be38ef6cd1e",
   "metadata": {},
   "outputs": [
    {
     "name": "stderr",
     "output_type": "stream",
     "text": [
      "2025-02-01 19:24:29,148 - Loading faiss with AVX2 support.\n",
      "2025-02-01 19:24:29,603 - Successfully loaded faiss with AVX2 support.\n"
     ]
    }
   ],
   "source": [
    "from raptor import RetrievalAugmentation, BaseEmbeddingModel, RetrievalAugmentationConfig"
   ]
  },
  {
   "cell_type": "code",
   "execution_count": 3,
   "id": "36639c44",
   "metadata": {},
   "outputs": [],
   "source": [
    "from sentence_transformers import SentenceTransformer\n",
    "class SBertEmbeddingModel(BaseEmbeddingModel):\n",
    "    def __init__(self, model_name=\"sentence-transformers/multi-qa-mpnet-base-cos-v1\"):\n",
    "        self.model = SentenceTransformer(model_name)\n",
    "\n",
    "    def create_embedding(self, text):\n",
    "        return self.model.encode(text)\n"
   ]
  },
  {
   "cell_type": "code",
   "execution_count": 4,
   "id": "ceaa4227",
   "metadata": {},
   "outputs": [
    {
     "name": "stderr",
     "output_type": "stream",
     "text": [
      "2025-02-01 19:24:47,785 - Use pytorch device_name: cpu\n",
      "2025-02-01 19:24:47,788 - Load pretrained SentenceTransformer: sentence-transformers/multi-qa-mpnet-base-cos-v1\n"
     ]
    },
    {
     "name": "stderr",
     "output_type": "stream",
     "text": [
      "2025-02-01 19:24:54,306 - Successfully initialized TreeBuilder with Config \n",
      "        TreeBuilderConfig:\n",
      "            Tokenizer: <Encoding 'cl100k_base'>\n",
      "            Max Tokens: 100\n",
      "            Num Layers: 5\n",
      "            Threshold: 0.5\n",
      "            Top K: 5\n",
      "            Selection Mode: top_k\n",
      "            Summarization Length: 100\n",
      "            Summarization Model: <raptor.SummarizationModels.GPT3TurboSummarizationModel object at 0x000001E7FB405780>\n",
      "            Embedding Models: {'EMB': <__main__.SBertEmbeddingModel object at 0x000001E7FB405990>}\n",
      "            Cluster Embedding Model: EMB\n",
      "        \n",
      "        Reduction Dimension: 10\n",
      "        Clustering Algorithm: RAPTOR_Clustering\n",
      "        Clustering Parameters: {}\n",
      "        \n",
      "2025-02-01 19:24:54,308 - Successfully initialized ClusterTreeBuilder with Config \n",
      "        TreeBuilderConfig:\n",
      "            Tokenizer: <Encoding 'cl100k_base'>\n",
      "            Max Tokens: 100\n",
      "            Num Layers: 5\n",
      "            Threshold: 0.5\n",
      "            Top K: 5\n",
      "            Selection Mode: top_k\n",
      "            Summarization Length: 100\n",
      "            Summarization Model: <raptor.SummarizationModels.GPT3TurboSummarizationModel object at 0x000001E7FB405780>\n",
      "            Embedding Models: {'EMB': <__main__.SBertEmbeddingModel object at 0x000001E7FB405990>}\n",
      "            Cluster Embedding Model: EMB\n",
      "        \n",
      "        Reduction Dimension: 10\n",
      "        Clustering Algorithm: RAPTOR_Clustering\n",
      "        Clustering Parameters: {}\n",
      "        \n",
      "2025-02-01 19:24:54,311 - Successfully initialized RetrievalAugmentation with Config \n",
      "        RetrievalAugmentationConfig:\n",
      "            \n",
      "        TreeBuilderConfig:\n",
      "            Tokenizer: <Encoding 'cl100k_base'>\n",
      "            Max Tokens: 100\n",
      "            Num Layers: 5\n",
      "            Threshold: 0.5\n",
      "            Top K: 5\n",
      "            Selection Mode: top_k\n",
      "            Summarization Length: 100\n",
      "            Summarization Model: <raptor.SummarizationModels.GPT3TurboSummarizationModel object at 0x000001E7FB405780>\n",
      "            Embedding Models: {'EMB': <__main__.SBertEmbeddingModel object at 0x000001E7FB405990>}\n",
      "            Cluster Embedding Model: EMB\n",
      "        \n",
      "        Reduction Dimension: 10\n",
      "        Clustering Algorithm: RAPTOR_Clustering\n",
      "        Clustering Parameters: {}\n",
      "        \n",
      "            \n",
      "            \n",
      "        TreeRetrieverConfig:\n",
      "            Tokenizer: <Encoding 'cl100k_base'>\n",
      "            Threshold: 0.5\n",
      "            Top K: 5\n",
      "            Selection Mode: top_k\n",
      "            Context Embedding Model: EMB\n",
      "            Embedding Model: <__main__.SBertEmbeddingModel object at 0x000001E7FB405990>\n",
      "            Num Layers: None\n",
      "            Start Layer: None\n",
      "        \n",
      "            \n",
      "            QA Model: <raptor.QAModels.GPT3TurboQAModel object at 0x000001E7FC3127D0>\n",
      "            Tree Builder Type: cluster\n",
      "        \n",
      "2025-02-01 19:24:54,377 - Creating Leaf Nodes\n"
     ]
    },
    {
     "data": {
      "application/vnd.jupyter.widget-view+json": {
       "model_id": "af775d70f9914e23b55e70b4d3844408",
       "version_major": 2,
       "version_minor": 0
      },
      "text/plain": [
       "Batches:   0%|          | 0/1 [00:00<?, ?it/s]"
      ]
     },
     "metadata": {},
     "output_type": "display_data"
    },
    {
     "data": {
      "application/vnd.jupyter.widget-view+json": {
       "model_id": "ecd43027f6e249c587722d5037f92d79",
       "version_major": 2,
       "version_minor": 0
      },
      "text/plain": [
       "Batches:   0%|          | 0/1 [00:00<?, ?it/s]"
      ]
     },
     "metadata": {},
     "output_type": "display_data"
    },
    {
     "data": {
      "application/vnd.jupyter.widget-view+json": {
       "model_id": "fac7abe817ae48398e42764a39e6b3d2",
       "version_major": 2,
       "version_minor": 0
      },
      "text/plain": [
       "Batches:   0%|          | 0/1 [00:00<?, ?it/s]"
      ]
     },
     "metadata": {},
     "output_type": "display_data"
    },
    {
     "data": {
      "application/vnd.jupyter.widget-view+json": {
       "model_id": "33c2b55fb59f408db6ded5c107461b0d",
       "version_major": 2,
       "version_minor": 0
      },
      "text/plain": [
       "Batches:   0%|          | 0/1 [00:00<?, ?it/s]"
      ]
     },
     "metadata": {},
     "output_type": "display_data"
    },
    {
     "data": {
      "application/vnd.jupyter.widget-view+json": {
       "model_id": "a4b31121be1441efbc24703670244ac5",
       "version_major": 2,
       "version_minor": 0
      },
      "text/plain": [
       "Batches:   0%|          | 0/1 [00:00<?, ?it/s]"
      ]
     },
     "metadata": {},
     "output_type": "display_data"
    },
    {
     "data": {
      "application/vnd.jupyter.widget-view+json": {
       "model_id": "27257bbf59a84057b106edd605b2b13f",
       "version_major": 2,
       "version_minor": 0
      },
      "text/plain": [
       "Batches:   0%|          | 0/1 [00:00<?, ?it/s]"
      ]
     },
     "metadata": {},
     "output_type": "display_data"
    },
    {
     "data": {
      "application/vnd.jupyter.widget-view+json": {
       "model_id": "a8028518e89543b18d800fb77c3ee2ca",
       "version_major": 2,
       "version_minor": 0
      },
      "text/plain": [
       "Batches:   0%|          | 0/1 [00:00<?, ?it/s]"
      ]
     },
     "metadata": {},
     "output_type": "display_data"
    },
    {
     "data": {
      "application/vnd.jupyter.widget-view+json": {
       "model_id": "839124c0d09747d9bd25f7fb2958fff3",
       "version_major": 2,
       "version_minor": 0
      },
      "text/plain": [
       "Batches:   0%|          | 0/1 [00:00<?, ?it/s]"
      ]
     },
     "metadata": {},
     "output_type": "display_data"
    },
    {
     "data": {
      "application/vnd.jupyter.widget-view+json": {
       "model_id": "e176f0430a0547f6aecf99fa1af36a68",
       "version_major": 2,
       "version_minor": 0
      },
      "text/plain": [
       "Batches:   0%|          | 0/1 [00:00<?, ?it/s]"
      ]
     },
     "metadata": {},
     "output_type": "display_data"
    },
    {
     "data": {
      "application/vnd.jupyter.widget-view+json": {
       "model_id": "7a4138257d154195b82f1cfd93882a67",
       "version_major": 2,
       "version_minor": 0
      },
      "text/plain": [
       "Batches:   0%|          | 0/1 [00:00<?, ?it/s]"
      ]
     },
     "metadata": {},
     "output_type": "display_data"
    },
    {
     "data": {
      "application/vnd.jupyter.widget-view+json": {
       "model_id": "b4ed2cfedf9a4b0cacf858fc1c38a517",
       "version_major": 2,
       "version_minor": 0
      },
      "text/plain": [
       "Batches:   0%|          | 0/1 [00:00<?, ?it/s]"
      ]
     },
     "metadata": {},
     "output_type": "display_data"
    },
    {
     "data": {
      "application/vnd.jupyter.widget-view+json": {
       "model_id": "fe6ba14b7a43474f97576ea08906f4ac",
       "version_major": 2,
       "version_minor": 0
      },
      "text/plain": [
       "Batches:   0%|          | 0/1 [00:00<?, ?it/s]"
      ]
     },
     "metadata": {},
     "output_type": "display_data"
    },
    {
     "data": {
      "application/vnd.jupyter.widget-view+json": {
       "model_id": "9fa068af72374ce099ced3487cf9c6f5",
       "version_major": 2,
       "version_minor": 0
      },
      "text/plain": [
       "Batches:   0%|          | 0/1 [00:00<?, ?it/s]"
      ]
     },
     "metadata": {},
     "output_type": "display_data"
    },
    {
     "data": {
      "application/vnd.jupyter.widget-view+json": {
       "model_id": "0a5713c859e94476b93034691525fcba",
       "version_major": 2,
       "version_minor": 0
      },
      "text/plain": [
       "Batches:   0%|          | 0/1 [00:00<?, ?it/s]"
      ]
     },
     "metadata": {},
     "output_type": "display_data"
    },
    {
     "data": {
      "application/vnd.jupyter.widget-view+json": {
       "model_id": "c707e1d61a854beb9e283cb4372886f5",
       "version_major": 2,
       "version_minor": 0
      },
      "text/plain": [
       "Batches:   0%|          | 0/1 [00:00<?, ?it/s]"
      ]
     },
     "metadata": {},
     "output_type": "display_data"
    },
    {
     "data": {
      "application/vnd.jupyter.widget-view+json": {
       "model_id": "07cb82cba2d64691902fdad94b755a80",
       "version_major": 2,
       "version_minor": 0
      },
      "text/plain": [
       "Batches:   0%|          | 0/1 [00:00<?, ?it/s]"
      ]
     },
     "metadata": {},
     "output_type": "display_data"
    },
    {
     "data": {
      "application/vnd.jupyter.widget-view+json": {
       "model_id": "d5043a190026415da497130799324e85",
       "version_major": 2,
       "version_minor": 0
      },
      "text/plain": [
       "Batches:   0%|          | 0/1 [00:00<?, ?it/s]"
      ]
     },
     "metadata": {},
     "output_type": "display_data"
    },
    {
     "data": {
      "application/vnd.jupyter.widget-view+json": {
       "model_id": "00e9a292f8864bffabd827f0fa3b1a31",
       "version_major": 2,
       "version_minor": 0
      },
      "text/plain": [
       "Batches:   0%|          | 0/1 [00:00<?, ?it/s]"
      ]
     },
     "metadata": {},
     "output_type": "display_data"
    },
    {
     "data": {
      "application/vnd.jupyter.widget-view+json": {
       "model_id": "dc368a8466da4cbc9cb1e257f5670da7",
       "version_major": 2,
       "version_minor": 0
      },
      "text/plain": [
       "Batches:   0%|          | 0/1 [00:00<?, ?it/s]"
      ]
     },
     "metadata": {},
     "output_type": "display_data"
    },
    {
     "data": {
      "application/vnd.jupyter.widget-view+json": {
       "model_id": "e1c5daf8a5124532ba020d07d3c58c1b",
       "version_major": 2,
       "version_minor": 0
      },
      "text/plain": [
       "Batches:   0%|          | 0/1 [00:00<?, ?it/s]"
      ]
     },
     "metadata": {},
     "output_type": "display_data"
    },
    {
     "data": {
      "application/vnd.jupyter.widget-view+json": {
       "model_id": "91fc4de1221c4634ba38d483b7666d3d",
       "version_major": 2,
       "version_minor": 0
      },
      "text/plain": [
       "Batches:   0%|          | 0/1 [00:00<?, ?it/s]"
      ]
     },
     "metadata": {},
     "output_type": "display_data"
    },
    {
     "data": {
      "application/vnd.jupyter.widget-view+json": {
       "model_id": "f32bccab477e4bed8f61b82777c6dcd2",
       "version_major": 2,
       "version_minor": 0
      },
      "text/plain": [
       "Batches:   0%|          | 0/1 [00:00<?, ?it/s]"
      ]
     },
     "metadata": {},
     "output_type": "display_data"
    },
    {
     "data": {
      "application/vnd.jupyter.widget-view+json": {
       "model_id": "6c164761aeb1437db852aa68082cbc39",
       "version_major": 2,
       "version_minor": 0
      },
      "text/plain": [
       "Batches:   0%|          | 0/1 [00:00<?, ?it/s]"
      ]
     },
     "metadata": {},
     "output_type": "display_data"
    },
    {
     "data": {
      "application/vnd.jupyter.widget-view+json": {
       "model_id": "78439a29e32a46b2b9851f3cbac1877f",
       "version_major": 2,
       "version_minor": 0
      },
      "text/plain": [
       "Batches:   0%|          | 0/1 [00:00<?, ?it/s]"
      ]
     },
     "metadata": {},
     "output_type": "display_data"
    },
    {
     "data": {
      "application/vnd.jupyter.widget-view+json": {
       "model_id": "704124c5973d446b9fa1c12c1c51e48e",
       "version_major": 2,
       "version_minor": 0
      },
      "text/plain": [
       "Batches:   0%|          | 0/1 [00:00<?, ?it/s]"
      ]
     },
     "metadata": {},
     "output_type": "display_data"
    },
    {
     "data": {
      "application/vnd.jupyter.widget-view+json": {
       "model_id": "2c98d6c123094bdc9e126afa62ce4263",
       "version_major": 2,
       "version_minor": 0
      },
      "text/plain": [
       "Batches:   0%|          | 0/1 [00:00<?, ?it/s]"
      ]
     },
     "metadata": {},
     "output_type": "display_data"
    },
    {
     "data": {
      "application/vnd.jupyter.widget-view+json": {
       "model_id": "204e9c50fcaa46f9899297f51a75a615",
       "version_major": 2,
       "version_minor": 0
      },
      "text/plain": [
       "Batches:   0%|          | 0/1 [00:00<?, ?it/s]"
      ]
     },
     "metadata": {},
     "output_type": "display_data"
    },
    {
     "data": {
      "application/vnd.jupyter.widget-view+json": {
       "model_id": "d085b437335d467fa9d0905b4c965136",
       "version_major": 2,
       "version_minor": 0
      },
      "text/plain": [
       "Batches:   0%|          | 0/1 [00:00<?, ?it/s]"
      ]
     },
     "metadata": {},
     "output_type": "display_data"
    },
    {
     "data": {
      "application/vnd.jupyter.widget-view+json": {
       "model_id": "3798f09d973d424ebe718eecf767a355",
       "version_major": 2,
       "version_minor": 0
      },
      "text/plain": [
       "Batches:   0%|          | 0/1 [00:00<?, ?it/s]"
      ]
     },
     "metadata": {},
     "output_type": "display_data"
    },
    {
     "data": {
      "application/vnd.jupyter.widget-view+json": {
       "model_id": "9b88b84b796548609aadcc65558a75ff",
       "version_major": 2,
       "version_minor": 0
      },
      "text/plain": [
       "Batches:   0%|          | 0/1 [00:00<?, ?it/s]"
      ]
     },
     "metadata": {},
     "output_type": "display_data"
    },
    {
     "data": {
      "application/vnd.jupyter.widget-view+json": {
       "model_id": "5813696724a94f19929ea5fb0f169c5b",
       "version_major": 2,
       "version_minor": 0
      },
      "text/plain": [
       "Batches:   0%|          | 0/1 [00:00<?, ?it/s]"
      ]
     },
     "metadata": {},
     "output_type": "display_data"
    },
    {
     "data": {
      "application/vnd.jupyter.widget-view+json": {
       "model_id": "3080a82f6b3140e9ab4868a4325069b3",
       "version_major": 2,
       "version_minor": 0
      },
      "text/plain": [
       "Batches:   0%|          | 0/1 [00:00<?, ?it/s]"
      ]
     },
     "metadata": {},
     "output_type": "display_data"
    },
    {
     "data": {
      "application/vnd.jupyter.widget-view+json": {
       "model_id": "cdf4df208dae4a8eb1b7396d9c6d9419",
       "version_major": 2,
       "version_minor": 0
      },
      "text/plain": [
       "Batches:   0%|          | 0/1 [00:00<?, ?it/s]"
      ]
     },
     "metadata": {},
     "output_type": "display_data"
    },
    {
     "data": {
      "application/vnd.jupyter.widget-view+json": {
       "model_id": "fef396a054d54ef391d43cc4c6af9115",
       "version_major": 2,
       "version_minor": 0
      },
      "text/plain": [
       "Batches:   0%|          | 0/1 [00:00<?, ?it/s]"
      ]
     },
     "metadata": {},
     "output_type": "display_data"
    },
    {
     "data": {
      "application/vnd.jupyter.widget-view+json": {
       "model_id": "cca5943aac87459389d7a531b9bd3be3",
       "version_major": 2,
       "version_minor": 0
      },
      "text/plain": [
       "Batches:   0%|          | 0/1 [00:00<?, ?it/s]"
      ]
     },
     "metadata": {},
     "output_type": "display_data"
    },
    {
     "data": {
      "application/vnd.jupyter.widget-view+json": {
       "model_id": "42c7e5373bb84ef0a894de877679604d",
       "version_major": 2,
       "version_minor": 0
      },
      "text/plain": [
       "Batches:   0%|          | 0/1 [00:00<?, ?it/s]"
      ]
     },
     "metadata": {},
     "output_type": "display_data"
    },
    {
     "data": {
      "application/vnd.jupyter.widget-view+json": {
       "model_id": "0750eaecff6645aeabd1283b6103a6fe",
       "version_major": 2,
       "version_minor": 0
      },
      "text/plain": [
       "Batches:   0%|          | 0/1 [00:00<?, ?it/s]"
      ]
     },
     "metadata": {},
     "output_type": "display_data"
    },
    {
     "data": {
      "application/vnd.jupyter.widget-view+json": {
       "model_id": "043411ad0705400a9e4df8edc0de51f9",
       "version_major": 2,
       "version_minor": 0
      },
      "text/plain": [
       "Batches:   0%|          | 0/1 [00:00<?, ?it/s]"
      ]
     },
     "metadata": {},
     "output_type": "display_data"
    },
    {
     "data": {
      "application/vnd.jupyter.widget-view+json": {
       "model_id": "bfb9f6ef17a743e0a4f4e77713572192",
       "version_major": 2,
       "version_minor": 0
      },
      "text/plain": [
       "Batches:   0%|          | 0/1 [00:00<?, ?it/s]"
      ]
     },
     "metadata": {},
     "output_type": "display_data"
    },
    {
     "data": {
      "application/vnd.jupyter.widget-view+json": {
       "model_id": "d933d5dc8eaf4aed85a060620e0f6a80",
       "version_major": 2,
       "version_minor": 0
      },
      "text/plain": [
       "Batches:   0%|          | 0/1 [00:00<?, ?it/s]"
      ]
     },
     "metadata": {},
     "output_type": "display_data"
    },
    {
     "data": {
      "application/vnd.jupyter.widget-view+json": {
       "model_id": "a1baf2b523314addaa9c859b976248bb",
       "version_major": 2,
       "version_minor": 0
      },
      "text/plain": [
       "Batches:   0%|          | 0/1 [00:00<?, ?it/s]"
      ]
     },
     "metadata": {},
     "output_type": "display_data"
    },
    {
     "data": {
      "application/vnd.jupyter.widget-view+json": {
       "model_id": "eabffc1c75804bccac5b4aa4af87583c",
       "version_major": 2,
       "version_minor": 0
      },
      "text/plain": [
       "Batches:   0%|          | 0/1 [00:00<?, ?it/s]"
      ]
     },
     "metadata": {},
     "output_type": "display_data"
    },
    {
     "data": {
      "application/vnd.jupyter.widget-view+json": {
       "model_id": "9be802c9f5b447a3ac69f7fb7c3866dc",
       "version_major": 2,
       "version_minor": 0
      },
      "text/plain": [
       "Batches:   0%|          | 0/1 [00:00<?, ?it/s]"
      ]
     },
     "metadata": {},
     "output_type": "display_data"
    },
    {
     "data": {
      "application/vnd.jupyter.widget-view+json": {
       "model_id": "738fb008c71b43b688bce9b7c8a96907",
       "version_major": 2,
       "version_minor": 0
      },
      "text/plain": [
       "Batches:   0%|          | 0/1 [00:00<?, ?it/s]"
      ]
     },
     "metadata": {},
     "output_type": "display_data"
    },
    {
     "data": {
      "application/vnd.jupyter.widget-view+json": {
       "model_id": "92183f314c3749d1a613c5ac2a2ce318",
       "version_major": 2,
       "version_minor": 0
      },
      "text/plain": [
       "Batches:   0%|          | 0/1 [00:00<?, ?it/s]"
      ]
     },
     "metadata": {},
     "output_type": "display_data"
    },
    {
     "data": {
      "application/vnd.jupyter.widget-view+json": {
       "model_id": "7dabc4f171db41bd9809d56d82d06098",
       "version_major": 2,
       "version_minor": 0
      },
      "text/plain": [
       "Batches:   0%|          | 0/1 [00:00<?, ?it/s]"
      ]
     },
     "metadata": {},
     "output_type": "display_data"
    },
    {
     "data": {
      "application/vnd.jupyter.widget-view+json": {
       "model_id": "56a85d47c62447b3aee5d20a4529437d",
       "version_major": 2,
       "version_minor": 0
      },
      "text/plain": [
       "Batches:   0%|          | 0/1 [00:00<?, ?it/s]"
      ]
     },
     "metadata": {},
     "output_type": "display_data"
    },
    {
     "data": {
      "application/vnd.jupyter.widget-view+json": {
       "model_id": "02f7244b33054aa288da5a5fa5d0665f",
       "version_major": 2,
       "version_minor": 0
      },
      "text/plain": [
       "Batches:   0%|          | 0/1 [00:00<?, ?it/s]"
      ]
     },
     "metadata": {},
     "output_type": "display_data"
    },
    {
     "data": {
      "application/vnd.jupyter.widget-view+json": {
       "model_id": "3f9e6151a1f74affb9e2e97f65f20682",
       "version_major": 2,
       "version_minor": 0
      },
      "text/plain": [
       "Batches:   0%|          | 0/1 [00:00<?, ?it/s]"
      ]
     },
     "metadata": {},
     "output_type": "display_data"
    },
    {
     "data": {
      "application/vnd.jupyter.widget-view+json": {
       "model_id": "a48865d167234be9b7bbeb8cd370e786",
       "version_major": 2,
       "version_minor": 0
      },
      "text/plain": [
       "Batches:   0%|          | 0/1 [00:00<?, ?it/s]"
      ]
     },
     "metadata": {},
     "output_type": "display_data"
    },
    {
     "data": {
      "application/vnd.jupyter.widget-view+json": {
       "model_id": "673117686c054251b81efd28ef603183",
       "version_major": 2,
       "version_minor": 0
      },
      "text/plain": [
       "Batches:   0%|          | 0/1 [00:00<?, ?it/s]"
      ]
     },
     "metadata": {},
     "output_type": "display_data"
    },
    {
     "data": {
      "application/vnd.jupyter.widget-view+json": {
       "model_id": "5b8ff07ccf60406181ea2b8f19c08dd3",
       "version_major": 2,
       "version_minor": 0
      },
      "text/plain": [
       "Batches:   0%|          | 0/1 [00:00<?, ?it/s]"
      ]
     },
     "metadata": {},
     "output_type": "display_data"
    },
    {
     "data": {
      "application/vnd.jupyter.widget-view+json": {
       "model_id": "6555ab11808b465a87b33906250f33bc",
       "version_major": 2,
       "version_minor": 0
      },
      "text/plain": [
       "Batches:   0%|          | 0/1 [00:00<?, ?it/s]"
      ]
     },
     "metadata": {},
     "output_type": "display_data"
    },
    {
     "data": {
      "application/vnd.jupyter.widget-view+json": {
       "model_id": "ddde3e57a4914ad09433c0770245b8dd",
       "version_major": 2,
       "version_minor": 0
      },
      "text/plain": [
       "Batches:   0%|          | 0/1 [00:00<?, ?it/s]"
      ]
     },
     "metadata": {},
     "output_type": "display_data"
    },
    {
     "data": {
      "application/vnd.jupyter.widget-view+json": {
       "model_id": "8a28800bdf6a40b096b6d87496170253",
       "version_major": 2,
       "version_minor": 0
      },
      "text/plain": [
       "Batches:   0%|          | 0/1 [00:00<?, ?it/s]"
      ]
     },
     "metadata": {},
     "output_type": "display_data"
    },
    {
     "data": {
      "application/vnd.jupyter.widget-view+json": {
       "model_id": "37265231a5f1491a8e321338a5c4cefb",
       "version_major": 2,
       "version_minor": 0
      },
      "text/plain": [
       "Batches:   0%|          | 0/1 [00:00<?, ?it/s]"
      ]
     },
     "metadata": {},
     "output_type": "display_data"
    },
    {
     "data": {
      "application/vnd.jupyter.widget-view+json": {
       "model_id": "248e565a9f674cce90061d8a14c859ed",
       "version_major": 2,
       "version_minor": 0
      },
      "text/plain": [
       "Batches:   0%|          | 0/1 [00:00<?, ?it/s]"
      ]
     },
     "metadata": {},
     "output_type": "display_data"
    },
    {
     "data": {
      "application/vnd.jupyter.widget-view+json": {
       "model_id": "6a7b1a7c2eac4b45a42e6ebaac7feee3",
       "version_major": 2,
       "version_minor": 0
      },
      "text/plain": [
       "Batches:   0%|          | 0/1 [00:00<?, ?it/s]"
      ]
     },
     "metadata": {},
     "output_type": "display_data"
    },
    {
     "data": {
      "application/vnd.jupyter.widget-view+json": {
       "model_id": "bd1e45c4768641a081bd83f0eab34938",
       "version_major": 2,
       "version_minor": 0
      },
      "text/plain": [
       "Batches:   0%|          | 0/1 [00:00<?, ?it/s]"
      ]
     },
     "metadata": {},
     "output_type": "display_data"
    },
    {
     "data": {
      "application/vnd.jupyter.widget-view+json": {
       "model_id": "e4bb5a1e01d1429395a235dcd19b14dc",
       "version_major": 2,
       "version_minor": 0
      },
      "text/plain": [
       "Batches:   0%|          | 0/1 [00:00<?, ?it/s]"
      ]
     },
     "metadata": {},
     "output_type": "display_data"
    },
    {
     "data": {
      "application/vnd.jupyter.widget-view+json": {
       "model_id": "2ab5c9d29b174f7ba3c77482ed0f3154",
       "version_major": 2,
       "version_minor": 0
      },
      "text/plain": [
       "Batches:   0%|          | 0/1 [00:00<?, ?it/s]"
      ]
     },
     "metadata": {},
     "output_type": "display_data"
    },
    {
     "data": {
      "application/vnd.jupyter.widget-view+json": {
       "model_id": "e3c5a8da0df64bc189365a5a00e643ed",
       "version_major": 2,
       "version_minor": 0
      },
      "text/plain": [
       "Batches:   0%|          | 0/1 [00:00<?, ?it/s]"
      ]
     },
     "metadata": {},
     "output_type": "display_data"
    },
    {
     "data": {
      "application/vnd.jupyter.widget-view+json": {
       "model_id": "e87af5afa467484cbf87a213367ed9f6",
       "version_major": 2,
       "version_minor": 0
      },
      "text/plain": [
       "Batches:   0%|          | 0/1 [00:00<?, ?it/s]"
      ]
     },
     "metadata": {},
     "output_type": "display_data"
    },
    {
     "data": {
      "application/vnd.jupyter.widget-view+json": {
       "model_id": "d23580ba5f214171a5c564f869c0efa9",
       "version_major": 2,
       "version_minor": 0
      },
      "text/plain": [
       "Batches:   0%|          | 0/1 [00:00<?, ?it/s]"
      ]
     },
     "metadata": {},
     "output_type": "display_data"
    },
    {
     "data": {
      "application/vnd.jupyter.widget-view+json": {
       "model_id": "81901b23cc444e41b5034bc16727b946",
       "version_major": 2,
       "version_minor": 0
      },
      "text/plain": [
       "Batches:   0%|          | 0/1 [00:00<?, ?it/s]"
      ]
     },
     "metadata": {},
     "output_type": "display_data"
    },
    {
     "data": {
      "application/vnd.jupyter.widget-view+json": {
       "model_id": "8e3af2a31c3e453aa5593cb5a8d3014f",
       "version_major": 2,
       "version_minor": 0
      },
      "text/plain": [
       "Batches:   0%|          | 0/1 [00:00<?, ?it/s]"
      ]
     },
     "metadata": {},
     "output_type": "display_data"
    },
    {
     "data": {
      "application/vnd.jupyter.widget-view+json": {
       "model_id": "11aa5307048441239b1fe263ea33e4dc",
       "version_major": 2,
       "version_minor": 0
      },
      "text/plain": [
       "Batches:   0%|          | 0/1 [00:00<?, ?it/s]"
      ]
     },
     "metadata": {},
     "output_type": "display_data"
    },
    {
     "data": {
      "application/vnd.jupyter.widget-view+json": {
       "model_id": "505b126b8b724c3bad07144dc5b546f9",
       "version_major": 2,
       "version_minor": 0
      },
      "text/plain": [
       "Batches:   0%|          | 0/1 [00:00<?, ?it/s]"
      ]
     },
     "metadata": {},
     "output_type": "display_data"
    },
    {
     "data": {
      "application/vnd.jupyter.widget-view+json": {
       "model_id": "64b19d2da4c74102947fd9963103f0aa",
       "version_major": 2,
       "version_minor": 0
      },
      "text/plain": [
       "Batches:   0%|          | 0/1 [00:00<?, ?it/s]"
      ]
     },
     "metadata": {},
     "output_type": "display_data"
    },
    {
     "data": {
      "application/vnd.jupyter.widget-view+json": {
       "model_id": "fd84e03f9983454baee22988a7a7bc73",
       "version_major": 2,
       "version_minor": 0
      },
      "text/plain": [
       "Batches:   0%|          | 0/1 [00:00<?, ?it/s]"
      ]
     },
     "metadata": {},
     "output_type": "display_data"
    },
    {
     "data": {
      "application/vnd.jupyter.widget-view+json": {
       "model_id": "469beb938b3f47e4a003985262504363",
       "version_major": 2,
       "version_minor": 0
      },
      "text/plain": [
       "Batches:   0%|          | 0/1 [00:00<?, ?it/s]"
      ]
     },
     "metadata": {},
     "output_type": "display_data"
    },
    {
     "data": {
      "application/vnd.jupyter.widget-view+json": {
       "model_id": "024c373889134c4dad41a1e83d532632",
       "version_major": 2,
       "version_minor": 0
      },
      "text/plain": [
       "Batches:   0%|          | 0/1 [00:00<?, ?it/s]"
      ]
     },
     "metadata": {},
     "output_type": "display_data"
    },
    {
     "data": {
      "application/vnd.jupyter.widget-view+json": {
       "model_id": "073fd5ec4a5847c69a2de599126af2f0",
       "version_major": 2,
       "version_minor": 0
      },
      "text/plain": [
       "Batches:   0%|          | 0/1 [00:00<?, ?it/s]"
      ]
     },
     "metadata": {},
     "output_type": "display_data"
    },
    {
     "data": {
      "application/vnd.jupyter.widget-view+json": {
       "model_id": "06062ebb29f946dfbe86365e007465e1",
       "version_major": 2,
       "version_minor": 0
      },
      "text/plain": [
       "Batches:   0%|          | 0/1 [00:00<?, ?it/s]"
      ]
     },
     "metadata": {},
     "output_type": "display_data"
    },
    {
     "data": {
      "application/vnd.jupyter.widget-view+json": {
       "model_id": "f792afa094194e3ba95bd058b8bbb832",
       "version_major": 2,
       "version_minor": 0
      },
      "text/plain": [
       "Batches:   0%|          | 0/1 [00:00<?, ?it/s]"
      ]
     },
     "metadata": {},
     "output_type": "display_data"
    },
    {
     "data": {
      "application/vnd.jupyter.widget-view+json": {
       "model_id": "6918324e46b64b30885b843a9d275640",
       "version_major": 2,
       "version_minor": 0
      },
      "text/plain": [
       "Batches:   0%|          | 0/1 [00:00<?, ?it/s]"
      ]
     },
     "metadata": {},
     "output_type": "display_data"
    },
    {
     "data": {
      "application/vnd.jupyter.widget-view+json": {
       "model_id": "642fbcbbdf2f49f0854409a47a1ebade",
       "version_major": 2,
       "version_minor": 0
      },
      "text/plain": [
       "Batches:   0%|          | 0/1 [00:00<?, ?it/s]"
      ]
     },
     "metadata": {},
     "output_type": "display_data"
    },
    {
     "data": {
      "application/vnd.jupyter.widget-view+json": {
       "model_id": "13614ae3ea9a459b8f767ac5cda2d85e",
       "version_major": 2,
       "version_minor": 0
      },
      "text/plain": [
       "Batches:   0%|          | 0/1 [00:00<?, ?it/s]"
      ]
     },
     "metadata": {},
     "output_type": "display_data"
    },
    {
     "data": {
      "application/vnd.jupyter.widget-view+json": {
       "model_id": "488328b331b4464391ddc6eb784d3948",
       "version_major": 2,
       "version_minor": 0
      },
      "text/plain": [
       "Batches:   0%|          | 0/1 [00:00<?, ?it/s]"
      ]
     },
     "metadata": {},
     "output_type": "display_data"
    },
    {
     "data": {
      "application/vnd.jupyter.widget-view+json": {
       "model_id": "021c3456388648289e6c265f9bdf837e",
       "version_major": 2,
       "version_minor": 0
      },
      "text/plain": [
       "Batches:   0%|          | 0/1 [00:00<?, ?it/s]"
      ]
     },
     "metadata": {},
     "output_type": "display_data"
    },
    {
     "data": {
      "application/vnd.jupyter.widget-view+json": {
       "model_id": "81e4705d52c24c2bb114c57a2f46102c",
       "version_major": 2,
       "version_minor": 0
      },
      "text/plain": [
       "Batches:   0%|          | 0/1 [00:00<?, ?it/s]"
      ]
     },
     "metadata": {},
     "output_type": "display_data"
    },
    {
     "data": {
      "application/vnd.jupyter.widget-view+json": {
       "model_id": "3487750cbc604cccaf6f09652f08d936",
       "version_major": 2,
       "version_minor": 0
      },
      "text/plain": [
       "Batches:   0%|          | 0/1 [00:00<?, ?it/s]"
      ]
     },
     "metadata": {},
     "output_type": "display_data"
    },
    {
     "data": {
      "application/vnd.jupyter.widget-view+json": {
       "model_id": "ed619d6fbb114157a081e960a595f4e0",
       "version_major": 2,
       "version_minor": 0
      },
      "text/plain": [
       "Batches:   0%|          | 0/1 [00:00<?, ?it/s]"
      ]
     },
     "metadata": {},
     "output_type": "display_data"
    },
    {
     "data": {
      "application/vnd.jupyter.widget-view+json": {
       "model_id": "b6d1f39b6b36499c900ce0c74105e89a",
       "version_major": 2,
       "version_minor": 0
      },
      "text/plain": [
       "Batches:   0%|          | 0/1 [00:00<?, ?it/s]"
      ]
     },
     "metadata": {},
     "output_type": "display_data"
    },
    {
     "data": {
      "application/vnd.jupyter.widget-view+json": {
       "model_id": "0764ce83481c4e44917383776eb65bb2",
       "version_major": 2,
       "version_minor": 0
      },
      "text/plain": [
       "Batches:   0%|          | 0/1 [00:00<?, ?it/s]"
      ]
     },
     "metadata": {},
     "output_type": "display_data"
    },
    {
     "data": {
      "application/vnd.jupyter.widget-view+json": {
       "model_id": "7767bcdd80b54a85a2a808f23293ab57",
       "version_major": 2,
       "version_minor": 0
      },
      "text/plain": [
       "Batches:   0%|          | 0/1 [00:00<?, ?it/s]"
      ]
     },
     "metadata": {},
     "output_type": "display_data"
    },
    {
     "data": {
      "application/vnd.jupyter.widget-view+json": {
       "model_id": "01b83267f69a4bbab515e8b0138fe066",
       "version_major": 2,
       "version_minor": 0
      },
      "text/plain": [
       "Batches:   0%|          | 0/1 [00:00<?, ?it/s]"
      ]
     },
     "metadata": {},
     "output_type": "display_data"
    },
    {
     "data": {
      "application/vnd.jupyter.widget-view+json": {
       "model_id": "1274a40ebb494b088edd0ea396450ab3",
       "version_major": 2,
       "version_minor": 0
      },
      "text/plain": [
       "Batches:   0%|          | 0/1 [00:00<?, ?it/s]"
      ]
     },
     "metadata": {},
     "output_type": "display_data"
    },
    {
     "data": {
      "application/vnd.jupyter.widget-view+json": {
       "model_id": "d9f482f3cd6e4180ae07dc6a2cdb7cf3",
       "version_major": 2,
       "version_minor": 0
      },
      "text/plain": [
       "Batches:   0%|          | 0/1 [00:00<?, ?it/s]"
      ]
     },
     "metadata": {},
     "output_type": "display_data"
    },
    {
     "data": {
      "application/vnd.jupyter.widget-view+json": {
       "model_id": "bf5a1541d88f4af5964b0379c5f71bf4",
       "version_major": 2,
       "version_minor": 0
      },
      "text/plain": [
       "Batches:   0%|          | 0/1 [00:00<?, ?it/s]"
      ]
     },
     "metadata": {},
     "output_type": "display_data"
    },
    {
     "data": {
      "application/vnd.jupyter.widget-view+json": {
       "model_id": "4ecedaeef5f6474b86249344f914509e",
       "version_major": 2,
       "version_minor": 0
      },
      "text/plain": [
       "Batches:   0%|          | 0/1 [00:00<?, ?it/s]"
      ]
     },
     "metadata": {},
     "output_type": "display_data"
    },
    {
     "data": {
      "application/vnd.jupyter.widget-view+json": {
       "model_id": "36ff725f2de04727bb1c20c41180c17a",
       "version_major": 2,
       "version_minor": 0
      },
      "text/plain": [
       "Batches:   0%|          | 0/1 [00:00<?, ?it/s]"
      ]
     },
     "metadata": {},
     "output_type": "display_data"
    },
    {
     "data": {
      "application/vnd.jupyter.widget-view+json": {
       "model_id": "0394b8d4db394bceaa1208da66e5fc41",
       "version_major": 2,
       "version_minor": 0
      },
      "text/plain": [
       "Batches:   0%|          | 0/1 [00:00<?, ?it/s]"
      ]
     },
     "metadata": {},
     "output_type": "display_data"
    },
    {
     "data": {
      "application/vnd.jupyter.widget-view+json": {
       "model_id": "652bdf65bf93487cb117ae211a13ac59",
       "version_major": 2,
       "version_minor": 0
      },
      "text/plain": [
       "Batches:   0%|          | 0/1 [00:00<?, ?it/s]"
      ]
     },
     "metadata": {},
     "output_type": "display_data"
    },
    {
     "data": {
      "application/vnd.jupyter.widget-view+json": {
       "model_id": "9412854e8b254c4781bbb7315e7ce84b",
       "version_major": 2,
       "version_minor": 0
      },
      "text/plain": [
       "Batches:   0%|          | 0/1 [00:00<?, ?it/s]"
      ]
     },
     "metadata": {},
     "output_type": "display_data"
    },
    {
     "data": {
      "application/vnd.jupyter.widget-view+json": {
       "model_id": "046e812b63794fd6aa42caeeb3b366f2",
       "version_major": 2,
       "version_minor": 0
      },
      "text/plain": [
       "Batches:   0%|          | 0/1 [00:00<?, ?it/s]"
      ]
     },
     "metadata": {},
     "output_type": "display_data"
    },
    {
     "data": {
      "application/vnd.jupyter.widget-view+json": {
       "model_id": "36619c79d776417c8316a44a674b7d53",
       "version_major": 2,
       "version_minor": 0
      },
      "text/plain": [
       "Batches:   0%|          | 0/1 [00:00<?, ?it/s]"
      ]
     },
     "metadata": {},
     "output_type": "display_data"
    },
    {
     "data": {
      "application/vnd.jupyter.widget-view+json": {
       "model_id": "24423f520480476aafb84a38a6431572",
       "version_major": 2,
       "version_minor": 0
      },
      "text/plain": [
       "Batches:   0%|          | 0/1 [00:00<?, ?it/s]"
      ]
     },
     "metadata": {},
     "output_type": "display_data"
    },
    {
     "data": {
      "application/vnd.jupyter.widget-view+json": {
       "model_id": "6e97fae19b894b8696939674f621f3fe",
       "version_major": 2,
       "version_minor": 0
      },
      "text/plain": [
       "Batches:   0%|          | 0/1 [00:00<?, ?it/s]"
      ]
     },
     "metadata": {},
     "output_type": "display_data"
    },
    {
     "data": {
      "application/vnd.jupyter.widget-view+json": {
       "model_id": "253c103d1f4844a6b31bea712c08bc0c",
       "version_major": 2,
       "version_minor": 0
      },
      "text/plain": [
       "Batches:   0%|          | 0/1 [00:00<?, ?it/s]"
      ]
     },
     "metadata": {},
     "output_type": "display_data"
    },
    {
     "data": {
      "application/vnd.jupyter.widget-view+json": {
       "model_id": "c39816b91d3447969b24fb42d151af96",
       "version_major": 2,
       "version_minor": 0
      },
      "text/plain": [
       "Batches:   0%|          | 0/1 [00:00<?, ?it/s]"
      ]
     },
     "metadata": {},
     "output_type": "display_data"
    },
    {
     "data": {
      "application/vnd.jupyter.widget-view+json": {
       "model_id": "5ad17396af17414490d81af9a7fb5d36",
       "version_major": 2,
       "version_minor": 0
      },
      "text/plain": [
       "Batches:   0%|          | 0/1 [00:00<?, ?it/s]"
      ]
     },
     "metadata": {},
     "output_type": "display_data"
    },
    {
     "name": "stderr",
     "output_type": "stream",
     "text": [
      "2025-02-01 19:26:11,334 - Created 102 Leaf Embeddings\n",
      "2025-02-01 19:26:11,337 - Building All Nodes\n",
      "2025-02-01 19:26:11,350 - Using Cluster TreeBuilder\n",
      "2025-02-01 19:26:11,351 - Constructing Layer 0\n",
      "i:\\AI_Project\\raptor\\.venv\\lib\\site-packages\\sklearn\\utils\\deprecation.py:151: FutureWarning: 'force_all_finite' was renamed to 'ensure_all_finite' in 1.6 and will be removed in 1.8.\n",
      "  warnings.warn(\n",
      "i:\\AI_Project\\raptor\\.venv\\lib\\site-packages\\threadpoolctl.py:1214: RuntimeWarning: \n",
      "Found Intel OpenMP ('libiomp') and LLVM OpenMP ('libomp') loaded at\n",
      "the same time. Both libraries are known to be incompatible and this\n",
      "can cause random crashes or deadlocks on Linux when loaded in the\n",
      "same Python program.\n",
      "Using threadpoolctl may cause crashes or deadlocks. For more\n",
      "information and possible workarounds, please see\n",
      "    https://github.com/joblib/threadpoolctl/blob/master/multiple_openmp.md\n",
      "\n",
      "  warnings.warn(msg, RuntimeWarning)\n",
      "i:\\AI_Project\\raptor\\.venv\\lib\\site-packages\\sklearn\\utils\\deprecation.py:151: FutureWarning: 'force_all_finite' was renamed to 'ensure_all_finite' in 1.6 and will be removed in 1.8.\n",
      "  warnings.warn(\n",
      "i:\\AI_Project\\raptor\\.venv\\lib\\site-packages\\sklearn\\utils\\deprecation.py:151: FutureWarning: 'force_all_finite' was renamed to 'ensure_all_finite' in 1.6 and will be removed in 1.8.\n",
      "  warnings.warn(\n",
      "i:\\AI_Project\\raptor\\.venv\\lib\\site-packages\\sklearn\\utils\\deprecation.py:151: FutureWarning: 'force_all_finite' was renamed to 'ensure_all_finite' in 1.6 and will be removed in 1.8.\n",
      "  warnings.warn(\n",
      "i:\\AI_Project\\raptor\\.venv\\lib\\site-packages\\sklearn\\utils\\deprecation.py:151: FutureWarning: 'force_all_finite' was renamed to 'ensure_all_finite' in 1.6 and will be removed in 1.8.\n",
      "  warnings.warn(\n",
      "i:\\AI_Project\\raptor\\.venv\\lib\\site-packages\\sklearn\\utils\\deprecation.py:151: FutureWarning: 'force_all_finite' was renamed to 'ensure_all_finite' in 1.6 and will be removed in 1.8.\n",
      "  warnings.warn(\n",
      "2025-02-01 19:27:19,220 - Summarization Length: 100\n",
      "2025-02-01 19:27:23,138 - HTTP Request: POST https://models.inference.ai.azure.com/chat/completions \"HTTP/1.1 200 OK\"\n",
      "2025-02-01 19:27:23,156 - Node Texts Length: 540, Summarized Text Length: 219\n",
      "2025-02-01 19:27:23,158 - Summarized Text: سعید دقیقی، هم‌تیمی و هم‌بازی قدیمی، پس از صحبت‌ها، متوجه شد که به کمک نیاز دارند و برای یاری به تیم شمس‌آذر رفت. بازی‌های امسال فوتبال بسیار سخت شده و تیم‌ها به هم نزدیک شده‌اند، به طوری که کسب هر امتیاز از هر تیم دشوار است. \n",
      "\n",
      "در بازار نقل و انتقالات زمستانه، روز پرماجرای آبی‌ها با انتقال احمدی به استقلال\n"
     ]
    },
    {
     "data": {
      "application/vnd.jupyter.widget-view+json": {
       "model_id": "c097e6a916eb4deb8132e57f05dc682e",
       "version_major": 2,
       "version_minor": 0
      },
      "text/plain": [
       "Batches:   0%|          | 0/1 [00:00<?, ?it/s]"
      ]
     },
     "metadata": {},
     "output_type": "display_data"
    },
    {
     "name": "stderr",
     "output_type": "stream",
     "text": [
      "2025-02-01 19:27:25,107 - HTTP Request: POST https://models.inference.ai.azure.com/chat/completions \"HTTP/1.1 200 OK\"\n",
      "2025-02-01 19:27:25,112 - Node Texts Length: 407, Summarized Text Length: 246\n",
      "2025-02-01 19:27:25,114 - Summarized Text: در این گفت‌وگو، به چند موضوع حاشیه‌ای اشاره شده که به نظر نمی‌رسد مشکلی خاص در بازی بوجود آورده باشند. شخص مورد نظر در پاسخ به این سؤال که چرا پیشنهاد گل‌گهر را قبول کرده، اظهار می‌کند که به دنبال پیشرفت است و سعی می‌کند انتخاب‌هایی داشته باشد که برای آینده‌اش مؤثر باشند. ایشان همچنین بیان می‌کند که در تلاش است تا تفکرات سرمربی تیم را به بهترین\n"
     ]
    },
    {
     "data": {
      "application/vnd.jupyter.widget-view+json": {
       "model_id": "7cbfbcd6182b46439f987720a8b2dc78",
       "version_major": 2,
       "version_minor": 0
      },
      "text/plain": [
       "Batches:   0%|          | 0/1 [00:00<?, ?it/s]"
      ]
     },
     "metadata": {},
     "output_type": "display_data"
    },
    {
     "name": "stderr",
     "output_type": "stream",
     "text": [
      "2025-02-01 19:27:27,764 - HTTP Request: POST https://models.inference.ai.azure.com/chat/completions \"HTTP/1.1 200 OK\"\n",
      "2025-02-01 19:27:27,771 - Node Texts Length: 557, Summarized Text Length: 100\n",
      "2025-02-01 19:27:27,774 - Summarized Text: In a recent football match, a player who had only practiced for one day prior was surprisingly trusted by the coaching staff to play, which resulted in a victory for the team. At the beginning of the season, the player chose Shams Azar just one day before the transfer window closed, primarily because friends were on that team. The player expressed hope to achieve positive results in the next three games to improve their standings in the league table, with a particular focus on securing a spot in the Asian tournaments\n"
     ]
    },
    {
     "data": {
      "application/vnd.jupyter.widget-view+json": {
       "model_id": "18bed4d6f1ae4f14a6aa1345dbf3fcc7",
       "version_major": 2,
       "version_minor": 0
      },
      "text/plain": [
       "Batches:   0%|          | 0/1 [00:00<?, ?it/s]"
      ]
     },
     "metadata": {},
     "output_type": "display_data"
    },
    {
     "name": "stderr",
     "output_type": "stream",
     "text": [
      "2025-02-01 19:27:29,716 - HTTP Request: POST https://models.inference.ai.azure.com/chat/completions \"HTTP/1.1 200 OK\"\n",
      "2025-02-01 19:27:29,723 - Node Texts Length: 284, Summarized Text Length: 225\n",
      "2025-02-01 19:27:29,726 - Summarized Text: در این متن به تحلیل و بررسی اتفاقات بازی فوتبال پرداخته شده است. تأکید شده که در دنیای فوتبال، همواره اتفاقات غیرمنتظره‌ای پیش می‌آید و بازیکنان تحت فشار زیادی قرار دارند زیرا همه تیم‌ها به دنبال کسب نتیجه هستند. \n",
      "\n",
      "علاوه بر این، اشاره شده که تیم آبی‌پوشان پس از جذب بازیکنانی نظیر جوئل کوجو، محمدرضا آزادی، و صالح ح\n"
     ]
    },
    {
     "data": {
      "application/vnd.jupyter.widget-view+json": {
       "model_id": "efe4b8600e2d4a419bd07f3fba046349",
       "version_major": 2,
       "version_minor": 0
      },
      "text/plain": [
       "Batches:   0%|          | 0/1 [00:00<?, ?it/s]"
      ]
     },
     "metadata": {},
     "output_type": "display_data"
    },
    {
     "name": "stderr",
     "output_type": "stream",
     "text": [
      "2025-02-01 19:27:32,015 - HTTP Request: POST https://models.inference.ai.azure.com/chat/completions \"HTTP/1.1 200 OK\"\n",
      "2025-02-01 19:27:32,024 - Node Texts Length: 1045, Summarized Text Length: 204\n",
      "2025-02-01 19:27:32,026 - Summarized Text: در یکی از بازی‌های اخیر تیم فوتبال پایتخت‌نشین، محمد خدابنده‌لو به طور زودهنگام اخراج شد که منجر به این شد که تیم مجبور باشد یک نیمه را با یک بازیکن کمتر بازی کند. این اخراج اولین کارت قرمز سرخ‌پوشان در دیدارهای مهم این فصل نبود.\n",
      "\n",
      "همچنین، آرمین سهرابیان که در ترکیب نساجی برابر آلومینیوم ا\n"
     ]
    },
    {
     "data": {
      "application/vnd.jupyter.widget-view+json": {
       "model_id": "351d2680a4f844a9913e77f3a4937466",
       "version_major": 2,
       "version_minor": 0
      },
      "text/plain": [
       "Batches:   0%|          | 0/1 [00:00<?, ?it/s]"
      ]
     },
     "metadata": {},
     "output_type": "display_data"
    },
    {
     "name": "stderr",
     "output_type": "stream",
     "text": [
      "2025-02-01 19:27:34,779 - HTTP Request: POST https://models.inference.ai.azure.com/chat/completions \"HTTP/1.1 200 OK\"\n",
      "2025-02-01 19:27:34,789 - Node Texts Length: 1344, Summarized Text Length: 204\n",
      "2025-02-01 19:27:34,791 - Summarized Text: در روزهای اخیر مذاکراتی میان مدیران باشگاه‌های استقلال و نساجی برای انتقال آرمین سهرابیان انجام شد که در نهایت منجر به این انتقال گردید. سهرابیان که در ابتدای فصل بازیکن استقلال بود، پس از یک جدایی پرماجرا به نساجی رفته بود و اکنون با قراردادی یک سال و نیمه دوباره به جمع آبی‌پوشان پایتخت بازگشته است.\n",
      "\n",
      "\n"
     ]
    },
    {
     "data": {
      "application/vnd.jupyter.widget-view+json": {
       "model_id": "c4c7b471e96c49f890499bae87aef26d",
       "version_major": 2,
       "version_minor": 0
      },
      "text/plain": [
       "Batches:   0%|          | 0/1 [00:00<?, ?it/s]"
      ]
     },
     "metadata": {},
     "output_type": "display_data"
    },
    {
     "name": "stderr",
     "output_type": "stream",
     "text": [
      "2025-02-01 19:27:37,265 - HTTP Request: POST https://models.inference.ai.azure.com/chat/completions \"HTTP/1.1 200 OK\"\n",
      "2025-02-01 19:27:37,272 - Node Texts Length: 736, Summarized Text Length: 104\n",
      "2025-02-01 19:27:37,273 - Summarized Text: Following an agreement, Saleh Hardani, who moved from Esteghlal to Sepahan at the beginning of the season, has returned to the capital's blue team. In exchange, Milad Zaki-Pour, who joined Esteghlal before the start of the 24th league, has rejoined Sepahan to continue his season under coach Patrice Carteron.\n",
      "\n",
      "Armin Sohrabian has become Esteghlal's fourth winter signing after Joel Kojo, Mohammad Reza Azadi,\n"
     ]
    },
    {
     "data": {
      "application/vnd.jupyter.widget-view+json": {
       "model_id": "6a5f25675b2f443fb03b0e24178c0ef7",
       "version_major": 2,
       "version_minor": 0
      },
      "text/plain": [
       "Batches:   0%|          | 0/1 [00:00<?, ?it/s]"
      ]
     },
     "metadata": {},
     "output_type": "display_data"
    },
    {
     "name": "stderr",
     "output_type": "stream",
     "text": [
      "2025-02-01 19:27:39,264 - HTTP Request: POST https://models.inference.ai.azure.com/chat/completions \"HTTP/1.1 200 OK\"\n",
      "2025-02-01 19:27:39,270 - Node Texts Length: 669, Summarized Text Length: 219\n",
      "2025-02-01 19:27:39,271 - Summarized Text: وینگر فرانسوی-کنگویی که اخیراً پس از گلزنی به استقلال تهران، قرارداد خود را به مدت دو فصل دیگر تمدید کرد، به یک مهره درآمدزا برای استقلال خوزستان تبدیل شده است. گفته می‌شود که مدیران باشگاه خوزستانی در تلاش هستند تا با دریافت 500 هزار دلار، رضایت‌نامه این بازیکن به نام بیفوما را صادر کنند.\n",
      "\n",
      "این مهاجم 31 ساله پس از یک نیم‌\n"
     ]
    },
    {
     "data": {
      "application/vnd.jupyter.widget-view+json": {
       "model_id": "b92fcb5b3b904d58be99943a04667126",
       "version_major": 2,
       "version_minor": 0
      },
      "text/plain": [
       "Batches:   0%|          | 0/1 [00:00<?, ?it/s]"
      ]
     },
     "metadata": {},
     "output_type": "display_data"
    },
    {
     "name": "stderr",
     "output_type": "stream",
     "text": [
      "2025-02-01 19:27:41,768 - HTTP Request: POST https://models.inference.ai.azure.com/chat/completions \"HTTP/1.1 200 OK\"\n",
      "2025-02-01 19:27:41,774 - Node Texts Length: 441, Summarized Text Length: 235\n",
      "2025-02-01 19:27:41,775 - Summarized Text: در چند سال گذشته، باشگاه و تیم مورد نظر نشان داده‌اند که یک باشگاه بزرگ هستند و امکانات لازم برای ارتقای جایگاه خود را دارند. در این میان، فردی از کادرفنی گل‌گهر به خاطر اعتماد به او و قرار دادن نامش در لیست، ابراز تشکر کرده و امیدوار است که با عملکرد خود بتواند مثمر ثمر باشد.\n",
      "\n",
      "در خبری از باشگاه استقلال، اطلاع داده شد که مهرداد محمدی به دلیل مص\n"
     ]
    },
    {
     "data": {
      "application/vnd.jupyter.widget-view+json": {
       "model_id": "99cb395d19114ad6aa1307c7e8fc42ca",
       "version_major": 2,
       "version_minor": 0
      },
      "text/plain": [
       "Batches:   0%|          | 0/1 [00:00<?, ?it/s]"
      ]
     },
     "metadata": {},
     "output_type": "display_data"
    },
    {
     "name": "stderr",
     "output_type": "stream",
     "text": [
      "2025-02-01 19:27:44,106 - HTTP Request: POST https://models.inference.ai.azure.com/chat/completions \"HTTP/1.1 200 OK\"\n",
      "2025-02-01 19:27:44,112 - Node Texts Length: 470, Summarized Text Length: 213\n",
      "2025-02-01 19:27:44,116 - Summarized Text: در نیمه دوم بازی اخیر، تیم می‌توانست سه گل بزند و برنده شود، اما متأسفانه بازی مساوی شد و به رغم این قضایا، شکر خدا بازی را نباختیم. در بازی مقابل ملوان، اتفاقات عجیبی رخ داد و ملوان با 9 نفر به پایان بازی رسید. درباره این مسابقه نکات جالبی وجود دارد.\n",
      "\n",
      "من تصمیم خود را گرفته‌ام که جوان‌ترها اکنون باید به تیم کمک\n"
     ]
    },
    {
     "data": {
      "application/vnd.jupyter.widget-view+json": {
       "model_id": "39c90a664fd74035b44a4a7b12002ccc",
       "version_major": 2,
       "version_minor": 0
      },
      "text/plain": [
       "Batches:   0%|          | 0/1 [00:00<?, ?it/s]"
      ]
     },
     "metadata": {},
     "output_type": "display_data"
    },
    {
     "name": "stderr",
     "output_type": "stream",
     "text": [
      "2025-02-01 19:27:46,467 - HTTP Request: POST https://models.inference.ai.azure.com/chat/completions \"HTTP/1.1 200 OK\"\n",
      "2025-02-01 19:27:46,473 - Node Texts Length: 349, Summarized Text Length: 230\n",
      "2025-02-01 19:27:46,475 - Summarized Text: در حال حاضر در لیگ، برخی تیم‌ها برای قهرمانی و برخی دیگر برای کسب سهمیه می‌جنگند، که این وضعیت باعث دشواری در کسب امتیاز برای همه تیم‌ها شده است. گیورگی گولسیانی، بازیکن تیم سرخ‌پوشان، تا زمان اخراج عملکرد خوبی داشت، اما پس از آن عملکرد تیم دچار افت شد. \n",
      "\n",
      "مدیران باشگاه استقلال در روز گذشته به فعالیت‌های نقل‌وانت\n"
     ]
    },
    {
     "data": {
      "application/vnd.jupyter.widget-view+json": {
       "model_id": "03ad737ba7e445e1b42cca15f40aa58e",
       "version_major": 2,
       "version_minor": 0
      },
      "text/plain": [
       "Batches:   0%|          | 0/1 [00:00<?, ?it/s]"
      ]
     },
     "metadata": {},
     "output_type": "display_data"
    },
    {
     "name": "stderr",
     "output_type": "stream",
     "text": [
      "2025-02-01 19:27:48,911 - HTTP Request: POST https://models.inference.ai.azure.com/chat/completions \"HTTP/1.1 200 OK\"\n",
      "2025-02-01 19:27:48,919 - Node Texts Length: 366, Summarized Text Length: 234\n",
      "2025-02-01 19:27:48,922 - Summarized Text: متن شامل تصمیم یک فرد برای جدایی از تیم خود است، زمانی که احساس کرده نمی‌تواند به آن کمک کند. او این تصمیم را گرفته و اقداماتی را در این زمینه انجام داده است. این فرد به تیم بسیار محبت‌آمیز اشاره کرده و امیدوار است که آنها بهترین نتایج را کسب کنند.\n",
      "\n",
      "سپس سؤالی درباره ادامه فصل و کار با آقای تارتار در سیرجان می‌شود. در ادامه، خبر از بازگشت آرمین س\n"
     ]
    },
    {
     "data": {
      "application/vnd.jupyter.widget-view+json": {
       "model_id": "1a8d4417bf2b48bda2cc5da034cffc12",
       "version_major": 2,
       "version_minor": 0
      },
      "text/plain": [
       "Batches:   0%|          | 0/1 [00:00<?, ?it/s]"
      ]
     },
     "metadata": {},
     "output_type": "display_data"
    },
    {
     "name": "stderr",
     "output_type": "stream",
     "text": [
      "2025-02-01 19:27:51,606 - HTTP Request: POST https://models.inference.ai.azure.com/chat/completions \"HTTP/1.1 200 OK\"\n",
      "2025-02-01 19:27:51,615 - Node Texts Length: 1400, Summarized Text Length: 199\n",
      "2025-02-01 19:27:51,618 - Summarized Text: میلاد فخرالدینی، بازیکن باسابقه فوتبال ایران، در گفت‌وگویی با «فوتبال 360» از وضعیت خود در تیم گل‌گهر سیرجان صحبت کرد. این تیم در بازار نقل‌وانتقالات زمستانی عملکرد خوبی داشت و فخرالدینی را از شمس‌آذر قزوین به خدمت گرفت تا به کادر مدافع خود به سرمربی مهدی تارتار، تقویت بیشتری ببخ\n"
     ]
    },
    {
     "data": {
      "application/vnd.jupyter.widget-view+json": {
       "model_id": "b3d8ee7ce6d24b61b66f802fe709caf0",
       "version_major": 2,
       "version_minor": 0
      },
      "text/plain": [
       "Batches:   0%|          | 0/1 [00:00<?, ?it/s]"
      ]
     },
     "metadata": {},
     "output_type": "display_data"
    },
    {
     "name": "stderr",
     "output_type": "stream",
     "text": [
      "2025-02-01 19:27:53,947 - HTTP Request: POST https://models.inference.ai.azure.com/chat/completions \"HTTP/1.1 200 OK\"\n",
      "2025-02-01 19:27:53,954 - Node Texts Length: 98, Summarized Text Length: 213\n",
      "2025-02-01 19:27:53,958 - Summarized Text: سروش رفیعی با رونمایی رسمی از چهارمین خرید زمستانی باشگاه استقلال به تیم خود بازگشت. این انتقال شامل بازگشت آرمین سهرابیان به استقلال نیز می‌شود. این خبر به معنای آغاز فصل جدیدی برای سهرابیان در این تیم و خداحافظی از روزهای روشن قبلی‌اش است. این انتقالات نشان‌دهنده تغییرات در ترکیب استقلال و تمرکز بر تقویت تیم در نیم‌\n"
     ]
    },
    {
     "data": {
      "application/vnd.jupyter.widget-view+json": {
       "model_id": "28876836f7d642d6aa9d747b0967a9ee",
       "version_major": 2,
       "version_minor": 0
      },
      "text/plain": [
       "Batches:   0%|          | 0/1 [00:00<?, ?it/s]"
      ]
     },
     "metadata": {},
     "output_type": "display_data"
    },
    {
     "name": "stderr",
     "output_type": "stream",
     "text": [
      "2025-02-01 19:27:57,141 - HTTP Request: POST https://models.inference.ai.azure.com/chat/completions \"HTTP/1.1 200 OK\"\n",
      "2025-02-01 19:27:57,148 - Node Texts Length: 196, Summarized Text Length: 229\n",
      "2025-02-01 19:27:57,150 - Summarized Text: مهدی رحمتی اشاره کرده که بازیکن قبلاً تصمیم به جدایی گرفته بود، اما با پیشنهاد گل‌گهر استقبال کرده و انتخابش را با روی باز انجام داده است. او همچنین بیان کرده که هدف تیم این است که در ادامه فصل نتایج بهتری کسب کند. حضور سهرابیان در تیم باعث شده که جذب غلامی دیگر در دستور کار نباشد و فعالیت‌های نقل و انتقالاتی تیم آبی ادامه خواهد یافت.\n"
     ]
    },
    {
     "data": {
      "application/vnd.jupyter.widget-view+json": {
       "model_id": "ba9f02018d7640838896f0cd317f779e",
       "version_major": 2,
       "version_minor": 0
      },
      "text/plain": [
       "Batches:   0%|          | 0/1 [00:00<?, ?it/s]"
      ]
     },
     "metadata": {},
     "output_type": "display_data"
    },
    {
     "name": "stderr",
     "output_type": "stream",
     "text": [
      "2025-02-01 19:27:58,765 - HTTP Request: POST https://models.inference.ai.azure.com/chat/completions \"HTTP/1.1 429 Too Many Requests\"\n",
      "2025-02-01 19:27:58,769 - Retrying request to /chat/completions in 23.000000 seconds\n",
      "2025-02-01 19:28:27,089 - HTTP Request: POST https://models.inference.ai.azure.com/chat/completions \"HTTP/1.1 200 OK\"\n",
      "2025-02-01 19:28:27,093 - Node Texts Length: 243, Summarized Text Length: 241\n",
      "2025-02-01 19:28:27,095 - Summarized Text: یک بازیکن در مصاحبه‌ای درباره دو بازی آغازین خود برای تیم گل‌گهر صحبت کرده و اظهار داشته است که این دو بازی به شرایط جدول تیم کمک کرده‌اند. او از توانایی تیم برای بازگشت به وضعیت بازی و کسب پیروزی در این دو مسابقه ابراز رضایت کرده و اشاره کرده که حق تیم برای بردن در این بازی‌ها محفوظ بوده است.\n",
      "\n",
      "او همچنین به شرایط خوب خود اشاره می‌کند و بیان می‌کند که با اکثر باز\n"
     ]
    },
    {
     "data": {
      "application/vnd.jupyter.widget-view+json": {
       "model_id": "d8bfa54d756f494fbb6f987d885af19c",
       "version_major": 2,
       "version_minor": 0
      },
      "text/plain": [
       "Batches:   0%|          | 0/1 [00:00<?, ?it/s]"
      ]
     },
     "metadata": {},
     "output_type": "display_data"
    },
    {
     "name": "stderr",
     "output_type": "stream",
     "text": [
      "2025-02-01 19:28:29,241 - HTTP Request: POST https://models.inference.ai.azure.com/chat/completions \"HTTP/1.1 200 OK\"\n",
      "2025-02-01 19:28:29,250 - Node Texts Length: 145, Summarized Text Length: 211\n",
      "2025-02-01 19:28:29,253 - Summarized Text: در نیم‌فصل، شرایط برای من بسیار خوب بود و در این مدت پانزده بازی انجام دادم. در آخرین روز بازار زمستانه، بیفوما به عنوان یک چهره ویژه توجه‌ها را به خود جلب کرد. همچنین تیوی نیز در موقعیتی سرنوشت‌ساز قرار داشت. پس از یک نیم‌فصل خانه‌نشینی، به طور ناگهانی به یک تیم کاندیدای سقوط به لیگ 2 پیوستم\n"
     ]
    },
    {
     "data": {
      "application/vnd.jupyter.widget-view+json": {
       "model_id": "718a3baf458d4e848693b2d6d21aca0c",
       "version_major": 2,
       "version_minor": 0
      },
      "text/plain": [
       "Batches:   0%|          | 0/1 [00:00<?, ?it/s]"
      ]
     },
     "metadata": {},
     "output_type": "display_data"
    },
    {
     "name": "stderr",
     "output_type": "stream",
     "text": [
      "2025-02-01 19:28:31,685 - HTTP Request: POST https://models.inference.ai.azure.com/chat/completions \"HTTP/1.1 200 OK\"\n",
      "2025-02-01 19:28:31,691 - Node Texts Length: 580, Summarized Text Length: 104\n",
      "2025-02-01 19:28:31,693 - Summarized Text: In the winter transfer window, significant developments occurred for Iranian football clubs, notably for Persepolis and Esteghlal. As of February 8, 1403 (Jan 28, 2025), there were key updates:\n",
      "\n",
      "1. **Esteghlal's Transfer Activity**: Esteghlal made headlines by officially unveiling their fourth winter signing, with Sahrabian returning to the team. Additionally, a player named BiFoMa emerged as a notable figure on the final day of the transfer\n"
     ]
    },
    {
     "data": {
      "application/vnd.jupyter.widget-view+json": {
       "model_id": "26ee2ffb3af649d9a272dbad3d3cdf6a",
       "version_major": 2,
       "version_minor": 0
      },
      "text/plain": [
       "Batches:   0%|          | 0/1 [00:00<?, ?it/s]"
      ]
     },
     "metadata": {},
     "output_type": "display_data"
    },
    {
     "name": "stderr",
     "output_type": "stream",
     "text": [
      "2025-02-01 19:28:34,005 - HTTP Request: POST https://models.inference.ai.azure.com/chat/completions \"HTTP/1.1 200 OK\"\n",
      "2025-02-01 19:28:34,012 - Node Texts Length: 314, Summarized Text Length: 193\n",
      "2025-02-01 19:28:34,015 - Summarized Text: مهران احمدی، بازیکن 27 ساله تیم خیبر خرم آباد، با امضای قرارداد دو ساله به تیم استقلال پیوست و او ششمین خرید زمستانی تیم استقلال به شمار می‌رود. \n",
      "\n",
      "در یک بازی، مدافع با تجربه پرسپولیس در دیدار با سپاهان در دقیقه 35 به دلیل بی‌احتیاطی کارت قرمز دریافت کرد و زمین را ترک کرد. این اخراج منجر به\n"
     ]
    },
    {
     "data": {
      "application/vnd.jupyter.widget-view+json": {
       "model_id": "823c6e52ffdc405898fb5124693bd3ea",
       "version_major": 2,
       "version_minor": 0
      },
      "text/plain": [
       "Batches:   0%|          | 0/1 [00:00<?, ?it/s]"
      ]
     },
     "metadata": {},
     "output_type": "display_data"
    },
    {
     "name": "stderr",
     "output_type": "stream",
     "text": [
      "2025-02-01 19:28:36,618 - HTTP Request: POST https://models.inference.ai.azure.com/chat/completions \"HTTP/1.1 200 OK\"\n",
      "2025-02-01 19:28:36,624 - Node Texts Length: 680, Summarized Text Length: 237\n",
      "2025-02-01 19:28:36,626 - Summarized Text: فخرالدینی، مدافع ۳۴ ساله، دارای آمادگی بالا و تجربه گسترده‌ای در تیم‌های مختلف است که به کمک گل‌گهر خواهد آمد. او درباره بازی سنگین با استقلال خوزستان گفت که این بازی در زمین آن تیم بسیار دشوار است و این تیم در خانه خود موفق به شکست بسیاری از تیم‌های بزرگ شده است.\n",
      "\n",
      "او همچنین بیان کرد که در نیم‌فصل تصمیم به جدایی گرفته و این تصمیم را به‌خاطر آمد\n"
     ]
    },
    {
     "data": {
      "application/vnd.jupyter.widget-view+json": {
       "model_id": "0c911c04b1b644c0a7b464c2cafcfd7c",
       "version_major": 2,
       "version_minor": 0
      },
      "text/plain": [
       "Batches:   0%|          | 0/1 [00:00<?, ?it/s]"
      ]
     },
     "metadata": {},
     "output_type": "display_data"
    },
    {
     "name": "stderr",
     "output_type": "stream",
     "text": [
      "2025-02-01 19:28:39,000 - HTTP Request: POST https://models.inference.ai.azure.com/chat/completions \"HTTP/1.1 200 OK\"\n",
      "2025-02-01 19:28:39,006 - Node Texts Length: 321, Summarized Text Length: 189\n",
      "2025-02-01 19:28:39,008 - Summarized Text: در دیدار رفت بین پرسپولیس و تراکتور، هافبک باتجربه پرسپولیس در دقیقه 76 به دلیل تصمیم جنجالی داور وحید کاظمی از زمین اخراج شد. این اتفاق در حالی رخ داد که تیم پرسپولیس، زیر نظر خوان‌کارلوس گاریدو، با یک گل عقب بود. با این حال، پرسپولیس با یک بازگشت فوق‌العاده موفق شد در\n"
     ]
    },
    {
     "data": {
      "application/vnd.jupyter.widget-view+json": {
       "model_id": "804bcc68351746cb97d0592c8aabddeb",
       "version_major": 2,
       "version_minor": 0
      },
      "text/plain": [
       "Batches:   0%|          | 0/1 [00:00<?, ?it/s]"
      ]
     },
     "metadata": {},
     "output_type": "display_data"
    },
    {
     "name": "stderr",
     "output_type": "stream",
     "text": [
      "2025-02-01 19:28:41,085 - HTTP Request: POST https://models.inference.ai.azure.com/chat/completions \"HTTP/1.1 200 OK\"\n",
      "2025-02-01 19:28:41,092 - Node Texts Length: 212, Summarized Text Length: 223\n",
      "2025-02-01 19:28:41,094 - Summarized Text: در شروع فصل، بازی اول برای تمامی تیم‌ها معمولاً دشوار است، زیرا آن‌ها به مدت نزدیک به 20 روز از شرایط بازی دور بوده‌اند. پیروزی در این بازی‌ها بسیار مهم است و می‌تواند به تیم کمک زیادی کند.\n",
      "\n",
      "امیرارسلان مطهری، که بعد از یک‌دهه حضور در سطح اول فوتبال ایران به شهرت رسیده بود، در سن 31 سالگی به طرز ناباورانه‌ای با یک سقوط آزاد روبرو شد\n"
     ]
    },
    {
     "data": {
      "application/vnd.jupyter.widget-view+json": {
       "model_id": "edee11503ebd4937a2da9ac0f8f2fc97",
       "version_major": 2,
       "version_minor": 0
      },
      "text/plain": [
       "Batches:   0%|          | 0/1 [00:00<?, ?it/s]"
      ]
     },
     "metadata": {},
     "output_type": "display_data"
    },
    {
     "name": "stderr",
     "output_type": "stream",
     "text": [
      "2025-02-01 19:28:42,722 - Constructing Layer 1\n",
      "i:\\AI_Project\\raptor\\.venv\\lib\\site-packages\\sklearn\\utils\\deprecation.py:151: FutureWarning: 'force_all_finite' was renamed to 'ensure_all_finite' in 1.6 and will be removed in 1.8.\n",
      "  warnings.warn(\n",
      "2025-02-01 19:28:49,770 - Summarization Length: 100\n",
      "2025-02-01 19:28:51,600 - HTTP Request: POST https://models.inference.ai.azure.com/chat/completions \"HTTP/1.1 200 OK\"\n",
      "2025-02-01 19:28:51,606 - Node Texts Length: 840, Summarized Text Length: 218\n",
      "2025-02-01 19:28:51,607 - Summarized Text: یک مهاجم وینگر فرانسوی-کنگویی به نام بیفوما، پس از گلزنی به استقلال تهران، قرارداد خود را به مدت دو فصل دیگر تمدید کرده است. او به یک مهره درآمدزا برای استقلال خوزستان تبدیل شده و مدیران این باشگاه در تلاش هستند با دریافت 500 هزار دلار، رضایت‌نامه این بازیکن را صادر کنند. این مهاجم 31 ساله، برای فصل جدید در انتخاب‌های خود برتر به\n"
     ]
    },
    {
     "data": {
      "application/vnd.jupyter.widget-view+json": {
       "model_id": "79a7151e36cc47e6a0db85e7731e81ab",
       "version_major": 2,
       "version_minor": 0
      },
      "text/plain": [
       "Batches:   0%|          | 0/1 [00:00<?, ?it/s]"
      ]
     },
     "metadata": {},
     "output_type": "display_data"
    },
    {
     "name": "stderr",
     "output_type": "stream",
     "text": [
      "2025-02-01 19:28:53,613 - HTTP Request: POST https://models.inference.ai.azure.com/chat/completions \"HTTP/1.1 200 OK\"\n",
      "2025-02-01 19:28:53,619 - Node Texts Length: 313, Summarized Text Length: 100\n",
      "2025-02-01 19:28:53,621 - Summarized Text: In a recent football match, a player who had only practiced with the team for one day prior was unexpectedly trusted by the coaching staff to play, contributing to a surprising victory for the team. At the beginning of the season, this player had chosen to join Shams Azar just one day before the transfer window closed, largely due to friendships with teammates. The player expressed a strong desire to achieve positive results in the upcoming three matches, aiming to improve their position in the league standings and secure a spot\n"
     ]
    },
    {
     "data": {
      "application/vnd.jupyter.widget-view+json": {
       "model_id": "56713d6b7b6147d28ee53971a7765b2d",
       "version_major": 2,
       "version_minor": 0
      },
      "text/plain": [
       "Batches:   0%|          | 0/1 [00:00<?, ?it/s]"
      ]
     },
     "metadata": {},
     "output_type": "display_data"
    },
    {
     "name": "stderr",
     "output_type": "stream",
     "text": [
      "2025-02-01 19:28:55,412 - HTTP Request: POST https://models.inference.ai.azure.com/chat/completions \"HTTP/1.1 200 OK\"\n",
      "2025-02-01 19:28:55,421 - Node Texts Length: 1300, Summarized Text Length: 227\n",
      "2025-02-01 19:28:55,423 - Summarized Text: در گزارشی از فعالیت‌های اخیر باشگاه‌های فوتبال ایران، سعید دقیقی، هم‌تیمی و هم‌بازی قدیمی، به تیم شمس‌آذر برای کمک پیوست. رقابت‌ها در این فصل دشوارتر از همیشه بوده و تیم‌ها به هم نزدیک شده‌اند، به طوری که کسب هر امتیاز از هر تیم بسیار سخت است. \n",
      "\n",
      "در بازار نقل و انتقالات زمستانه، روز پرماجرایی برای تیم استقلال رقم خورد که\n"
     ]
    },
    {
     "data": {
      "application/vnd.jupyter.widget-view+json": {
       "model_id": "146934c1c4c94744af548b0e96b8a83d",
       "version_major": 2,
       "version_minor": 0
      },
      "text/plain": [
       "Batches:   0%|          | 0/1 [00:00<?, ?it/s]"
      ]
     },
     "metadata": {},
     "output_type": "display_data"
    },
    {
     "name": "stderr",
     "output_type": "stream",
     "text": [
      "2025-02-01 19:28:57,602 - HTTP Request: POST https://models.inference.ai.azure.com/chat/completions \"HTTP/1.1 200 OK\"\n",
      "2025-02-01 19:28:57,609 - Node Texts Length: 865, Summarized Text Length: 220\n",
      "2025-02-01 19:28:57,611 - Summarized Text: این متن به تحلیل اتفاقات اخیر در دنیای فوتبال و تأثیرات آن بر تیم‌ها و بازیکنان پرداخته است. نکته مورد تأکید این است که در فوتبال، همواره رویدادهای غیرمنتظره‌ای رخ می‌دهد و بازیکنان تحت فشار زیادی هستند زیرا همه تیم‌ها به دنبال کسب نتایج مطلوب‌اند.\n",
      "\n",
      "به‌ویژه به عملکرد تیم آبی‌پوشان اشاره شده که پس از جذب بازیکنانی\n"
     ]
    },
    {
     "data": {
      "application/vnd.jupyter.widget-view+json": {
       "model_id": "5cd93283e7454c8d8d1874fe9ffd318a",
       "version_major": 2,
       "version_minor": 0
      },
      "text/plain": [
       "Batches:   0%|          | 0/1 [00:00<?, ?it/s]"
      ]
     },
     "metadata": {},
     "output_type": "display_data"
    },
    {
     "name": "stderr",
     "output_type": "stream",
     "text": [
      "2025-02-01 19:28:59,707 - HTTP Request: POST https://models.inference.ai.azure.com/chat/completions \"HTTP/1.1 200 OK\"\n",
      "2025-02-01 19:28:59,715 - Node Texts Length: 1182, Summarized Text Length: 100\n",
      "2025-02-01 19:28:59,717 - Summarized Text: In this conversation, several peripheral topics were mentioned that do not seem to have caused any specific issues in the match. The person in question, when asked why they accepted Gol Gohar's offer, stated that they are looking for improvement and are trying to make choices that will be effective for their future. They also mentioned their efforts to align with the head coach's thoughts.\n",
      "\n",
      "In recent years, the club and the team in question have demonstrated that they are a prominent club with the necessary facilities to elevate\n"
     ]
    },
    {
     "data": {
      "application/vnd.jupyter.widget-view+json": {
       "model_id": "56f8f2af9748493cac65f9523d59ca7b",
       "version_major": 2,
       "version_minor": 0
      },
      "text/plain": [
       "Batches:   0%|          | 0/1 [00:00<?, ?it/s]"
      ]
     },
     "metadata": {},
     "output_type": "display_data"
    },
    {
     "name": "stderr",
     "output_type": "stream",
     "text": [
      "2025-02-01 19:29:00,513 - Constructing Layer 2\n",
      "2025-02-01 19:29:00,515 - Stopping Layer construction: Cannot Create More Layers. Total Layers in tree: 2\n",
      "2025-02-01 19:29:00,518 - Successfully initialized TreeRetriever with Config \n",
      "        TreeRetrieverConfig:\n",
      "            Tokenizer: <Encoding 'cl100k_base'>\n",
      "            Threshold: 0.5\n",
      "            Top K: 5\n",
      "            Selection Mode: top_k\n",
      "            Context Embedding Model: EMB\n",
      "            Embedding Model: <__main__.SBertEmbeddingModel object at 0x000001E7FB405990>\n",
      "            Num Layers: None\n",
      "            Start Layer: None\n",
      "        \n"
     ]
    }
   ],
   "source": [
    "RAC = RetrievalAugmentationConfig(embedding_model=SBertEmbeddingModel())\n",
    "RA = RetrievalAugmentation(config=RAC)\n",
    "\n",
    "# construct the tree\n",
    "RA.add_documents(text)"
   ]
  },
  {
   "cell_type": "code",
   "execution_count": 4,
   "id": "7e843edf",
   "metadata": {},
   "outputs": [
    {
     "name": "stderr",
     "output_type": "stream",
     "text": [
      "2025-01-31 15:29:00,253 - Use pytorch device_name: cpu\n",
      "2025-01-31 15:29:00,254 - Load pretrained SentenceTransformer: sentence-transformers/multi-qa-mpnet-base-cos-v1\n"
     ]
    },
    {
     "name": "stderr",
     "output_type": "stream",
     "text": [
      "2025-01-31 15:29:04,840 - Successfully initialized TreeBuilder with Config \n",
      "        TreeBuilderConfig:\n",
      "            Tokenizer: <Encoding 'cl100k_base'>\n",
      "            Max Tokens: 100\n",
      "            Num Layers: 5\n",
      "            Threshold: 0.5\n",
      "            Top K: 5\n",
      "            Selection Mode: top_k\n",
      "            Summarization Length: 100\n",
      "            Summarization Model: <raptor.SummarizationModels.OllamaSummarizationModelV2 object at 0x000001F5FFA81D20>\n",
      "            Embedding Models: {'EMB': <__main__.SBertEmbeddingModel object at 0x000001F5FFA81180>}\n",
      "            Cluster Embedding Model: EMB\n",
      "        \n",
      "        Reduction Dimension: 10\n",
      "        Clustering Algorithm: RAPTOR_Clustering\n",
      "        Clustering Parameters: {}\n",
      "        \n",
      "2025-01-31 15:29:04,842 - Successfully initialized ClusterTreeBuilder with Config \n",
      "        TreeBuilderConfig:\n",
      "            Tokenizer: <Encoding 'cl100k_base'>\n",
      "            Max Tokens: 100\n",
      "            Num Layers: 5\n",
      "            Threshold: 0.5\n",
      "            Top K: 5\n",
      "            Selection Mode: top_k\n",
      "            Summarization Length: 100\n",
      "            Summarization Model: <raptor.SummarizationModels.OllamaSummarizationModelV2 object at 0x000001F5FFA81D20>\n",
      "            Embedding Models: {'EMB': <__main__.SBertEmbeddingModel object at 0x000001F5FFA81180>}\n",
      "            Cluster Embedding Model: EMB\n",
      "        \n",
      "        Reduction Dimension: 10\n",
      "        Clustering Algorithm: RAPTOR_Clustering\n",
      "        Clustering Parameters: {}\n",
      "        \n",
      "2025-01-31 15:29:04,843 - Successfully initialized RetrievalAugmentation with Config \n",
      "        RetrievalAugmentationConfig:\n",
      "            \n",
      "        TreeBuilderConfig:\n",
      "            Tokenizer: <Encoding 'cl100k_base'>\n",
      "            Max Tokens: 100\n",
      "            Num Layers: 5\n",
      "            Threshold: 0.5\n",
      "            Top K: 5\n",
      "            Selection Mode: top_k\n",
      "            Summarization Length: 100\n",
      "            Summarization Model: <raptor.SummarizationModels.OllamaSummarizationModelV2 object at 0x000001F5FFA81D20>\n",
      "            Embedding Models: {'EMB': <__main__.SBertEmbeddingModel object at 0x000001F5FFA81180>}\n",
      "            Cluster Embedding Model: EMB\n",
      "        \n",
      "        Reduction Dimension: 10\n",
      "        Clustering Algorithm: RAPTOR_Clustering\n",
      "        Clustering Parameters: {}\n",
      "        \n",
      "            \n",
      "            \n",
      "        TreeRetrieverConfig:\n",
      "            Tokenizer: <Encoding 'cl100k_base'>\n",
      "            Threshold: 0.5\n",
      "            Top K: 5\n",
      "            Selection Mode: top_k\n",
      "            Context Embedding Model: EMB\n",
      "            Embedding Model: <__main__.SBertEmbeddingModel object at 0x000001F5FFA81180>\n",
      "            Num Layers: None\n",
      "            Start Layer: None\n",
      "        \n",
      "            \n",
      "            QA Model: <raptor.QAModels.OllamaQAModelV2 object at 0x000001F5FFA81ED0>\n",
      "            Tree Builder Type: cluster\n",
      "        \n",
      "2025-01-31 15:29:04,873 - Creating Leaf Nodes\n"
     ]
    },
    {
     "data": {
      "application/vnd.jupyter.widget-view+json": {
       "model_id": "737e9b1920c5479aaa745d62898bfee5",
       "version_major": 2,
       "version_minor": 0
      },
      "text/plain": [
       "Batches:   0%|          | 0/1 [00:00<?, ?it/s]"
      ]
     },
     "metadata": {},
     "output_type": "display_data"
    },
    {
     "data": {
      "application/vnd.jupyter.widget-view+json": {
       "model_id": "c87719b8cb984a059cdf3d4a61c9b0f1",
       "version_major": 2,
       "version_minor": 0
      },
      "text/plain": [
       "Batches:   0%|          | 0/1 [00:00<?, ?it/s]"
      ]
     },
     "metadata": {},
     "output_type": "display_data"
    },
    {
     "data": {
      "application/vnd.jupyter.widget-view+json": {
       "model_id": "b35bd40972fe4e389a1df96b61957992",
       "version_major": 2,
       "version_minor": 0
      },
      "text/plain": [
       "Batches:   0%|          | 0/1 [00:00<?, ?it/s]"
      ]
     },
     "metadata": {},
     "output_type": "display_data"
    },
    {
     "data": {
      "application/vnd.jupyter.widget-view+json": {
       "model_id": "5f160eb4f21743d5b59820e6e9b949fc",
       "version_major": 2,
       "version_minor": 0
      },
      "text/plain": [
       "Batches:   0%|          | 0/1 [00:00<?, ?it/s]"
      ]
     },
     "metadata": {},
     "output_type": "display_data"
    },
    {
     "data": {
      "application/vnd.jupyter.widget-view+json": {
       "model_id": "5a27fd77012e46fab2587cf14234c8e4",
       "version_major": 2,
       "version_minor": 0
      },
      "text/plain": [
       "Batches:   0%|          | 0/1 [00:00<?, ?it/s]"
      ]
     },
     "metadata": {},
     "output_type": "display_data"
    },
    {
     "data": {
      "application/vnd.jupyter.widget-view+json": {
       "model_id": "f2f77bd420cc460dac59e8eabf1e45e0",
       "version_major": 2,
       "version_minor": 0
      },
      "text/plain": [
       "Batches:   0%|          | 0/1 [00:00<?, ?it/s]"
      ]
     },
     "metadata": {},
     "output_type": "display_data"
    },
    {
     "data": {
      "application/vnd.jupyter.widget-view+json": {
       "model_id": "e4aabc90f9b84de3af52a37223d04290",
       "version_major": 2,
       "version_minor": 0
      },
      "text/plain": [
       "Batches:   0%|          | 0/1 [00:00<?, ?it/s]"
      ]
     },
     "metadata": {},
     "output_type": "display_data"
    },
    {
     "data": {
      "application/vnd.jupyter.widget-view+json": {
       "model_id": "631dab9bd922450ea78f793562eda7c2",
       "version_major": 2,
       "version_minor": 0
      },
      "text/plain": [
       "Batches:   0%|          | 0/1 [00:00<?, ?it/s]"
      ]
     },
     "metadata": {},
     "output_type": "display_data"
    },
    {
     "data": {
      "application/vnd.jupyter.widget-view+json": {
       "model_id": "309520dcb16c474c9463e78bcfe013c6",
       "version_major": 2,
       "version_minor": 0
      },
      "text/plain": [
       "Batches:   0%|          | 0/1 [00:00<?, ?it/s]"
      ]
     },
     "metadata": {},
     "output_type": "display_data"
    },
    {
     "data": {
      "application/vnd.jupyter.widget-view+json": {
       "model_id": "4a715fae434245fdbae7250bec0d3581",
       "version_major": 2,
       "version_minor": 0
      },
      "text/plain": [
       "Batches:   0%|          | 0/1 [00:00<?, ?it/s]"
      ]
     },
     "metadata": {},
     "output_type": "display_data"
    },
    {
     "data": {
      "application/vnd.jupyter.widget-view+json": {
       "model_id": "f8a80a7ec7c940ccac956c205d60b1da",
       "version_major": 2,
       "version_minor": 0
      },
      "text/plain": [
       "Batches:   0%|          | 0/1 [00:00<?, ?it/s]"
      ]
     },
     "metadata": {},
     "output_type": "display_data"
    },
    {
     "data": {
      "application/vnd.jupyter.widget-view+json": {
       "model_id": "592f774f07fa445b89ef30268a029a7e",
       "version_major": 2,
       "version_minor": 0
      },
      "text/plain": [
       "Batches:   0%|          | 0/1 [00:00<?, ?it/s]"
      ]
     },
     "metadata": {},
     "output_type": "display_data"
    },
    {
     "data": {
      "application/vnd.jupyter.widget-view+json": {
       "model_id": "60d86e4977364258b54b4604ea44e419",
       "version_major": 2,
       "version_minor": 0
      },
      "text/plain": [
       "Batches:   0%|          | 0/1 [00:00<?, ?it/s]"
      ]
     },
     "metadata": {},
     "output_type": "display_data"
    },
    {
     "data": {
      "application/vnd.jupyter.widget-view+json": {
       "model_id": "c841f9643cef4c41894a5f859cddc9c3",
       "version_major": 2,
       "version_minor": 0
      },
      "text/plain": [
       "Batches:   0%|          | 0/1 [00:00<?, ?it/s]"
      ]
     },
     "metadata": {},
     "output_type": "display_data"
    },
    {
     "data": {
      "application/vnd.jupyter.widget-view+json": {
       "model_id": "87f20b0cdbe2410998c8ed9ae355230d",
       "version_major": 2,
       "version_minor": 0
      },
      "text/plain": [
       "Batches:   0%|          | 0/1 [00:00<?, ?it/s]"
      ]
     },
     "metadata": {},
     "output_type": "display_data"
    },
    {
     "data": {
      "application/vnd.jupyter.widget-view+json": {
       "model_id": "23ccf8645da846238e6ef4088ddc4e54",
       "version_major": 2,
       "version_minor": 0
      },
      "text/plain": [
       "Batches:   0%|          | 0/1 [00:00<?, ?it/s]"
      ]
     },
     "metadata": {},
     "output_type": "display_data"
    },
    {
     "data": {
      "application/vnd.jupyter.widget-view+json": {
       "model_id": "b82c83c078e842a98ccd11be8a1b55a9",
       "version_major": 2,
       "version_minor": 0
      },
      "text/plain": [
       "Batches:   0%|          | 0/1 [00:00<?, ?it/s]"
      ]
     },
     "metadata": {},
     "output_type": "display_data"
    },
    {
     "data": {
      "application/vnd.jupyter.widget-view+json": {
       "model_id": "019788b38ff640358019bb73996d7a11",
       "version_major": 2,
       "version_minor": 0
      },
      "text/plain": [
       "Batches:   0%|          | 0/1 [00:00<?, ?it/s]"
      ]
     },
     "metadata": {},
     "output_type": "display_data"
    },
    {
     "data": {
      "application/vnd.jupyter.widget-view+json": {
       "model_id": "0ecef3e714b0495cb14db903d6aba0a9",
       "version_major": 2,
       "version_minor": 0
      },
      "text/plain": [
       "Batches:   0%|          | 0/1 [00:00<?, ?it/s]"
      ]
     },
     "metadata": {},
     "output_type": "display_data"
    },
    {
     "data": {
      "application/vnd.jupyter.widget-view+json": {
       "model_id": "7481c6224e51491785b0f65bb1bc233c",
       "version_major": 2,
       "version_minor": 0
      },
      "text/plain": [
       "Batches:   0%|          | 0/1 [00:00<?, ?it/s]"
      ]
     },
     "metadata": {},
     "output_type": "display_data"
    },
    {
     "data": {
      "application/vnd.jupyter.widget-view+json": {
       "model_id": "db1e4c4d95e3481d95df79b404e8ddf4",
       "version_major": 2,
       "version_minor": 0
      },
      "text/plain": [
       "Batches:   0%|          | 0/1 [00:00<?, ?it/s]"
      ]
     },
     "metadata": {},
     "output_type": "display_data"
    },
    {
     "data": {
      "application/vnd.jupyter.widget-view+json": {
       "model_id": "7a13fa604ece4d01a321b56370f67a88",
       "version_major": 2,
       "version_minor": 0
      },
      "text/plain": [
       "Batches:   0%|          | 0/1 [00:00<?, ?it/s]"
      ]
     },
     "metadata": {},
     "output_type": "display_data"
    },
    {
     "data": {
      "application/vnd.jupyter.widget-view+json": {
       "model_id": "fdbaae63f74d41ea9290ba250c0b5f52",
       "version_major": 2,
       "version_minor": 0
      },
      "text/plain": [
       "Batches:   0%|          | 0/1 [00:00<?, ?it/s]"
      ]
     },
     "metadata": {},
     "output_type": "display_data"
    },
    {
     "data": {
      "application/vnd.jupyter.widget-view+json": {
       "model_id": "0572ba3253104ac9a913c5c65c16e233",
       "version_major": 2,
       "version_minor": 0
      },
      "text/plain": [
       "Batches:   0%|          | 0/1 [00:00<?, ?it/s]"
      ]
     },
     "metadata": {},
     "output_type": "display_data"
    },
    {
     "data": {
      "application/vnd.jupyter.widget-view+json": {
       "model_id": "90ee76cd26b44e509d9beb2ef00535fd",
       "version_major": 2,
       "version_minor": 0
      },
      "text/plain": [
       "Batches:   0%|          | 0/1 [00:00<?, ?it/s]"
      ]
     },
     "metadata": {},
     "output_type": "display_data"
    },
    {
     "data": {
      "application/vnd.jupyter.widget-view+json": {
       "model_id": "02f45c9927f24cd79e302bab801aa01f",
       "version_major": 2,
       "version_minor": 0
      },
      "text/plain": [
       "Batches:   0%|          | 0/1 [00:00<?, ?it/s]"
      ]
     },
     "metadata": {},
     "output_type": "display_data"
    },
    {
     "data": {
      "application/vnd.jupyter.widget-view+json": {
       "model_id": "e09c294673b2421792ddb9602191186f",
       "version_major": 2,
       "version_minor": 0
      },
      "text/plain": [
       "Batches:   0%|          | 0/1 [00:00<?, ?it/s]"
      ]
     },
     "metadata": {},
     "output_type": "display_data"
    },
    {
     "data": {
      "application/vnd.jupyter.widget-view+json": {
       "model_id": "62494f6c8ee34a398712b2521a3e848b",
       "version_major": 2,
       "version_minor": 0
      },
      "text/plain": [
       "Batches:   0%|          | 0/1 [00:00<?, ?it/s]"
      ]
     },
     "metadata": {},
     "output_type": "display_data"
    },
    {
     "data": {
      "application/vnd.jupyter.widget-view+json": {
       "model_id": "11d944cf25dc4ff8a430b2d639ff00b8",
       "version_major": 2,
       "version_minor": 0
      },
      "text/plain": [
       "Batches:   0%|          | 0/1 [00:00<?, ?it/s]"
      ]
     },
     "metadata": {},
     "output_type": "display_data"
    },
    {
     "data": {
      "application/vnd.jupyter.widget-view+json": {
       "model_id": "988f6cd4eec24a74b45c844da1833447",
       "version_major": 2,
       "version_minor": 0
      },
      "text/plain": [
       "Batches:   0%|          | 0/1 [00:00<?, ?it/s]"
      ]
     },
     "metadata": {},
     "output_type": "display_data"
    },
    {
     "data": {
      "application/vnd.jupyter.widget-view+json": {
       "model_id": "fd4ddbb83a7341868a5d3729a9236424",
       "version_major": 2,
       "version_minor": 0
      },
      "text/plain": [
       "Batches:   0%|          | 0/1 [00:00<?, ?it/s]"
      ]
     },
     "metadata": {},
     "output_type": "display_data"
    },
    {
     "data": {
      "application/vnd.jupyter.widget-view+json": {
       "model_id": "0f5f54cbb74c493397534570e390da90",
       "version_major": 2,
       "version_minor": 0
      },
      "text/plain": [
       "Batches:   0%|          | 0/1 [00:00<?, ?it/s]"
      ]
     },
     "metadata": {},
     "output_type": "display_data"
    },
    {
     "data": {
      "application/vnd.jupyter.widget-view+json": {
       "model_id": "716d35443139459d96a46e47c76efb96",
       "version_major": 2,
       "version_minor": 0
      },
      "text/plain": [
       "Batches:   0%|          | 0/1 [00:00<?, ?it/s]"
      ]
     },
     "metadata": {},
     "output_type": "display_data"
    },
    {
     "data": {
      "application/vnd.jupyter.widget-view+json": {
       "model_id": "dc0a3b94b57f46799aef6c784c5026b8",
       "version_major": 2,
       "version_minor": 0
      },
      "text/plain": [
       "Batches:   0%|          | 0/1 [00:00<?, ?it/s]"
      ]
     },
     "metadata": {},
     "output_type": "display_data"
    },
    {
     "data": {
      "application/vnd.jupyter.widget-view+json": {
       "model_id": "c7cc85f1657d4b96b69d16aefd3ccc76",
       "version_major": 2,
       "version_minor": 0
      },
      "text/plain": [
       "Batches:   0%|          | 0/1 [00:00<?, ?it/s]"
      ]
     },
     "metadata": {},
     "output_type": "display_data"
    },
    {
     "data": {
      "application/vnd.jupyter.widget-view+json": {
       "model_id": "024e6cedcc7942dc9ea0d1716b3a8b09",
       "version_major": 2,
       "version_minor": 0
      },
      "text/plain": [
       "Batches:   0%|          | 0/1 [00:00<?, ?it/s]"
      ]
     },
     "metadata": {},
     "output_type": "display_data"
    },
    {
     "data": {
      "application/vnd.jupyter.widget-view+json": {
       "model_id": "662d692ccbcf4231ac118927ea7de81e",
       "version_major": 2,
       "version_minor": 0
      },
      "text/plain": [
       "Batches:   0%|          | 0/1 [00:00<?, ?it/s]"
      ]
     },
     "metadata": {},
     "output_type": "display_data"
    },
    {
     "data": {
      "application/vnd.jupyter.widget-view+json": {
       "model_id": "c658d57c9ea6496aa0300dc3e3db27de",
       "version_major": 2,
       "version_minor": 0
      },
      "text/plain": [
       "Batches:   0%|          | 0/1 [00:00<?, ?it/s]"
      ]
     },
     "metadata": {},
     "output_type": "display_data"
    },
    {
     "data": {
      "application/vnd.jupyter.widget-view+json": {
       "model_id": "fcfa02c7868441139216cab4e5426b44",
       "version_major": 2,
       "version_minor": 0
      },
      "text/plain": [
       "Batches:   0%|          | 0/1 [00:00<?, ?it/s]"
      ]
     },
     "metadata": {},
     "output_type": "display_data"
    },
    {
     "data": {
      "application/vnd.jupyter.widget-view+json": {
       "model_id": "3a652685c5df4022b5357462e2d83f4b",
       "version_major": 2,
       "version_minor": 0
      },
      "text/plain": [
       "Batches:   0%|          | 0/1 [00:00<?, ?it/s]"
      ]
     },
     "metadata": {},
     "output_type": "display_data"
    },
    {
     "data": {
      "application/vnd.jupyter.widget-view+json": {
       "model_id": "acf0ac27e6b0415f95e31ac73bb008e9",
       "version_major": 2,
       "version_minor": 0
      },
      "text/plain": [
       "Batches:   0%|          | 0/1 [00:00<?, ?it/s]"
      ]
     },
     "metadata": {},
     "output_type": "display_data"
    },
    {
     "data": {
      "application/vnd.jupyter.widget-view+json": {
       "model_id": "3934f93c3c6d4339aa3ba563ef76d301",
       "version_major": 2,
       "version_minor": 0
      },
      "text/plain": [
       "Batches:   0%|          | 0/1 [00:00<?, ?it/s]"
      ]
     },
     "metadata": {},
     "output_type": "display_data"
    },
    {
     "data": {
      "application/vnd.jupyter.widget-view+json": {
       "model_id": "08233b50805245ef93b7d07bfe8f7863",
       "version_major": 2,
       "version_minor": 0
      },
      "text/plain": [
       "Batches:   0%|          | 0/1 [00:00<?, ?it/s]"
      ]
     },
     "metadata": {},
     "output_type": "display_data"
    },
    {
     "data": {
      "application/vnd.jupyter.widget-view+json": {
       "model_id": "84b4c17febbe4c1082899e66d0f115e9",
       "version_major": 2,
       "version_minor": 0
      },
      "text/plain": [
       "Batches:   0%|          | 0/1 [00:00<?, ?it/s]"
      ]
     },
     "metadata": {},
     "output_type": "display_data"
    },
    {
     "data": {
      "application/vnd.jupyter.widget-view+json": {
       "model_id": "11505b9dcd554c0d95c4fd9f94f957d1",
       "version_major": 2,
       "version_minor": 0
      },
      "text/plain": [
       "Batches:   0%|          | 0/1 [00:00<?, ?it/s]"
      ]
     },
     "metadata": {},
     "output_type": "display_data"
    },
    {
     "data": {
      "application/vnd.jupyter.widget-view+json": {
       "model_id": "e320a4001a80432db05c45864743b5f4",
       "version_major": 2,
       "version_minor": 0
      },
      "text/plain": [
       "Batches:   0%|          | 0/1 [00:00<?, ?it/s]"
      ]
     },
     "metadata": {},
     "output_type": "display_data"
    },
    {
     "data": {
      "application/vnd.jupyter.widget-view+json": {
       "model_id": "2bb1e823f6b54c83904b64cf6f100828",
       "version_major": 2,
       "version_minor": 0
      },
      "text/plain": [
       "Batches:   0%|          | 0/1 [00:00<?, ?it/s]"
      ]
     },
     "metadata": {},
     "output_type": "display_data"
    },
    {
     "data": {
      "application/vnd.jupyter.widget-view+json": {
       "model_id": "05b0ec317db74935b31a866e3d4b8452",
       "version_major": 2,
       "version_minor": 0
      },
      "text/plain": [
       "Batches:   0%|          | 0/1 [00:00<?, ?it/s]"
      ]
     },
     "metadata": {},
     "output_type": "display_data"
    },
    {
     "data": {
      "application/vnd.jupyter.widget-view+json": {
       "model_id": "e01279fb78a34664873aafa2fc9c9000",
       "version_major": 2,
       "version_minor": 0
      },
      "text/plain": [
       "Batches:   0%|          | 0/1 [00:00<?, ?it/s]"
      ]
     },
     "metadata": {},
     "output_type": "display_data"
    },
    {
     "data": {
      "application/vnd.jupyter.widget-view+json": {
       "model_id": "358a5e171ec549f2abedb5f3ae0082e7",
       "version_major": 2,
       "version_minor": 0
      },
      "text/plain": [
       "Batches:   0%|          | 0/1 [00:00<?, ?it/s]"
      ]
     },
     "metadata": {},
     "output_type": "display_data"
    },
    {
     "data": {
      "application/vnd.jupyter.widget-view+json": {
       "model_id": "3d07cf6721ed4e6d92b5fd71655c7c6c",
       "version_major": 2,
       "version_minor": 0
      },
      "text/plain": [
       "Batches:   0%|          | 0/1 [00:00<?, ?it/s]"
      ]
     },
     "metadata": {},
     "output_type": "display_data"
    },
    {
     "data": {
      "application/vnd.jupyter.widget-view+json": {
       "model_id": "c8096d90d3c04ef190e782f2d3edc111",
       "version_major": 2,
       "version_minor": 0
      },
      "text/plain": [
       "Batches:   0%|          | 0/1 [00:00<?, ?it/s]"
      ]
     },
     "metadata": {},
     "output_type": "display_data"
    },
    {
     "data": {
      "application/vnd.jupyter.widget-view+json": {
       "model_id": "9825fb94a6d94d408878ff9f90dfdd36",
       "version_major": 2,
       "version_minor": 0
      },
      "text/plain": [
       "Batches:   0%|          | 0/1 [00:00<?, ?it/s]"
      ]
     },
     "metadata": {},
     "output_type": "display_data"
    },
    {
     "data": {
      "application/vnd.jupyter.widget-view+json": {
       "model_id": "4c65ff8613e140deae7b1f7cf5a7ba46",
       "version_major": 2,
       "version_minor": 0
      },
      "text/plain": [
       "Batches:   0%|          | 0/1 [00:00<?, ?it/s]"
      ]
     },
     "metadata": {},
     "output_type": "display_data"
    },
    {
     "data": {
      "application/vnd.jupyter.widget-view+json": {
       "model_id": "76fd1299ce974c39bbfcc4135cc332e3",
       "version_major": 2,
       "version_minor": 0
      },
      "text/plain": [
       "Batches:   0%|          | 0/1 [00:00<?, ?it/s]"
      ]
     },
     "metadata": {},
     "output_type": "display_data"
    },
    {
     "data": {
      "application/vnd.jupyter.widget-view+json": {
       "model_id": "c38554e4aa3c4f1a9a2b7f2388169bec",
       "version_major": 2,
       "version_minor": 0
      },
      "text/plain": [
       "Batches:   0%|          | 0/1 [00:00<?, ?it/s]"
      ]
     },
     "metadata": {},
     "output_type": "display_data"
    },
    {
     "data": {
      "application/vnd.jupyter.widget-view+json": {
       "model_id": "f0c78c181f3949f58b5d22d0881c879f",
       "version_major": 2,
       "version_minor": 0
      },
      "text/plain": [
       "Batches:   0%|          | 0/1 [00:00<?, ?it/s]"
      ]
     },
     "metadata": {},
     "output_type": "display_data"
    },
    {
     "data": {
      "application/vnd.jupyter.widget-view+json": {
       "model_id": "9de89cf8b04b4ff3bd6bee1100051cb5",
       "version_major": 2,
       "version_minor": 0
      },
      "text/plain": [
       "Batches:   0%|          | 0/1 [00:00<?, ?it/s]"
      ]
     },
     "metadata": {},
     "output_type": "display_data"
    },
    {
     "data": {
      "application/vnd.jupyter.widget-view+json": {
       "model_id": "46ada0b6652c4d5c9f1a9c59b0b961ae",
       "version_major": 2,
       "version_minor": 0
      },
      "text/plain": [
       "Batches:   0%|          | 0/1 [00:00<?, ?it/s]"
      ]
     },
     "metadata": {},
     "output_type": "display_data"
    },
    {
     "data": {
      "application/vnd.jupyter.widget-view+json": {
       "model_id": "ca689ae61a20447f8cfc87ec2dbace9f",
       "version_major": 2,
       "version_minor": 0
      },
      "text/plain": [
       "Batches:   0%|          | 0/1 [00:00<?, ?it/s]"
      ]
     },
     "metadata": {},
     "output_type": "display_data"
    },
    {
     "data": {
      "application/vnd.jupyter.widget-view+json": {
       "model_id": "ddf416a6ec6d484b894bb70ce19cea33",
       "version_major": 2,
       "version_minor": 0
      },
      "text/plain": [
       "Batches:   0%|          | 0/1 [00:00<?, ?it/s]"
      ]
     },
     "metadata": {},
     "output_type": "display_data"
    },
    {
     "data": {
      "application/vnd.jupyter.widget-view+json": {
       "model_id": "856318a9a7ae4c9cb4b99f3b9f5a1663",
       "version_major": 2,
       "version_minor": 0
      },
      "text/plain": [
       "Batches:   0%|          | 0/1 [00:00<?, ?it/s]"
      ]
     },
     "metadata": {},
     "output_type": "display_data"
    },
    {
     "data": {
      "application/vnd.jupyter.widget-view+json": {
       "model_id": "3479e7df426f4014b3f9a4397a18d286",
       "version_major": 2,
       "version_minor": 0
      },
      "text/plain": [
       "Batches:   0%|          | 0/1 [00:00<?, ?it/s]"
      ]
     },
     "metadata": {},
     "output_type": "display_data"
    },
    {
     "data": {
      "application/vnd.jupyter.widget-view+json": {
       "model_id": "a6ccc7a5df7e44ada8e990a977327cbe",
       "version_major": 2,
       "version_minor": 0
      },
      "text/plain": [
       "Batches:   0%|          | 0/1 [00:00<?, ?it/s]"
      ]
     },
     "metadata": {},
     "output_type": "display_data"
    },
    {
     "data": {
      "application/vnd.jupyter.widget-view+json": {
       "model_id": "f9fea650712a4143bb9803e3dca9e653",
       "version_major": 2,
       "version_minor": 0
      },
      "text/plain": [
       "Batches:   0%|          | 0/1 [00:00<?, ?it/s]"
      ]
     },
     "metadata": {},
     "output_type": "display_data"
    },
    {
     "data": {
      "application/vnd.jupyter.widget-view+json": {
       "model_id": "521f22702c514e6d9a21e6ff5d125d54",
       "version_major": 2,
       "version_minor": 0
      },
      "text/plain": [
       "Batches:   0%|          | 0/1 [00:00<?, ?it/s]"
      ]
     },
     "metadata": {},
     "output_type": "display_data"
    },
    {
     "data": {
      "application/vnd.jupyter.widget-view+json": {
       "model_id": "d882da5ee9214ece87eb9bfd88079a9d",
       "version_major": 2,
       "version_minor": 0
      },
      "text/plain": [
       "Batches:   0%|          | 0/1 [00:00<?, ?it/s]"
      ]
     },
     "metadata": {},
     "output_type": "display_data"
    },
    {
     "data": {
      "application/vnd.jupyter.widget-view+json": {
       "model_id": "6f9dc8ccbf4f4537a0c2ebadc5cb5751",
       "version_major": 2,
       "version_minor": 0
      },
      "text/plain": [
       "Batches:   0%|          | 0/1 [00:00<?, ?it/s]"
      ]
     },
     "metadata": {},
     "output_type": "display_data"
    },
    {
     "data": {
      "application/vnd.jupyter.widget-view+json": {
       "model_id": "03bb76556ade4f7aae22b99b3bc8066d",
       "version_major": 2,
       "version_minor": 0
      },
      "text/plain": [
       "Batches:   0%|          | 0/1 [00:00<?, ?it/s]"
      ]
     },
     "metadata": {},
     "output_type": "display_data"
    },
    {
     "data": {
      "application/vnd.jupyter.widget-view+json": {
       "model_id": "2c2e25c300e44b36acb9caadeb27d39d",
       "version_major": 2,
       "version_minor": 0
      },
      "text/plain": [
       "Batches:   0%|          | 0/1 [00:00<?, ?it/s]"
      ]
     },
     "metadata": {},
     "output_type": "display_data"
    },
    {
     "data": {
      "application/vnd.jupyter.widget-view+json": {
       "model_id": "1aaa6b0f6de244f1ae0fa93bc60a5ada",
       "version_major": 2,
       "version_minor": 0
      },
      "text/plain": [
       "Batches:   0%|          | 0/1 [00:00<?, ?it/s]"
      ]
     },
     "metadata": {},
     "output_type": "display_data"
    },
    {
     "data": {
      "application/vnd.jupyter.widget-view+json": {
       "model_id": "1fc5c18bbae84971baf268bbf35380d4",
       "version_major": 2,
       "version_minor": 0
      },
      "text/plain": [
       "Batches:   0%|          | 0/1 [00:00<?, ?it/s]"
      ]
     },
     "metadata": {},
     "output_type": "display_data"
    },
    {
     "data": {
      "application/vnd.jupyter.widget-view+json": {
       "model_id": "3e5bda1fb593483c9cfbcc4c7592207a",
       "version_major": 2,
       "version_minor": 0
      },
      "text/plain": [
       "Batches:   0%|          | 0/1 [00:00<?, ?it/s]"
      ]
     },
     "metadata": {},
     "output_type": "display_data"
    },
    {
     "data": {
      "application/vnd.jupyter.widget-view+json": {
       "model_id": "6645df35dbd047a6bb8dc1be7a0f2e3f",
       "version_major": 2,
       "version_minor": 0
      },
      "text/plain": [
       "Batches:   0%|          | 0/1 [00:00<?, ?it/s]"
      ]
     },
     "metadata": {},
     "output_type": "display_data"
    },
    {
     "data": {
      "application/vnd.jupyter.widget-view+json": {
       "model_id": "b06168efffa14ea3abf3e40779dc7ef0",
       "version_major": 2,
       "version_minor": 0
      },
      "text/plain": [
       "Batches:   0%|          | 0/1 [00:00<?, ?it/s]"
      ]
     },
     "metadata": {},
     "output_type": "display_data"
    },
    {
     "data": {
      "application/vnd.jupyter.widget-view+json": {
       "model_id": "b563fc982bb24b01b816e98e7d84429b",
       "version_major": 2,
       "version_minor": 0
      },
      "text/plain": [
       "Batches:   0%|          | 0/1 [00:00<?, ?it/s]"
      ]
     },
     "metadata": {},
     "output_type": "display_data"
    },
    {
     "data": {
      "application/vnd.jupyter.widget-view+json": {
       "model_id": "a4c7306bb975442bb4a40999365ce700",
       "version_major": 2,
       "version_minor": 0
      },
      "text/plain": [
       "Batches:   0%|          | 0/1 [00:00<?, ?it/s]"
      ]
     },
     "metadata": {},
     "output_type": "display_data"
    },
    {
     "data": {
      "application/vnd.jupyter.widget-view+json": {
       "model_id": "1a3a9b41dcd34260b512c354212d05cc",
       "version_major": 2,
       "version_minor": 0
      },
      "text/plain": [
       "Batches:   0%|          | 0/1 [00:00<?, ?it/s]"
      ]
     },
     "metadata": {},
     "output_type": "display_data"
    },
    {
     "data": {
      "application/vnd.jupyter.widget-view+json": {
       "model_id": "221c0b0f9f2342d6be7aaddc23bfa860",
       "version_major": 2,
       "version_minor": 0
      },
      "text/plain": [
       "Batches:   0%|          | 0/1 [00:00<?, ?it/s]"
      ]
     },
     "metadata": {},
     "output_type": "display_data"
    },
    {
     "data": {
      "application/vnd.jupyter.widget-view+json": {
       "model_id": "88cb5b46134541d98ba10dca1ddf984d",
       "version_major": 2,
       "version_minor": 0
      },
      "text/plain": [
       "Batches:   0%|          | 0/1 [00:00<?, ?it/s]"
      ]
     },
     "metadata": {},
     "output_type": "display_data"
    },
    {
     "data": {
      "application/vnd.jupyter.widget-view+json": {
       "model_id": "f9eb12d0b96d4c7993e4c611dde88d06",
       "version_major": 2,
       "version_minor": 0
      },
      "text/plain": [
       "Batches:   0%|          | 0/1 [00:00<?, ?it/s]"
      ]
     },
     "metadata": {},
     "output_type": "display_data"
    },
    {
     "data": {
      "application/vnd.jupyter.widget-view+json": {
       "model_id": "40320acebc084ef183859a0d497639fa",
       "version_major": 2,
       "version_minor": 0
      },
      "text/plain": [
       "Batches:   0%|          | 0/1 [00:00<?, ?it/s]"
      ]
     },
     "metadata": {},
     "output_type": "display_data"
    },
    {
     "data": {
      "application/vnd.jupyter.widget-view+json": {
       "model_id": "0b1a88b732664e3c89d5afa5c106b227",
       "version_major": 2,
       "version_minor": 0
      },
      "text/plain": [
       "Batches:   0%|          | 0/1 [00:00<?, ?it/s]"
      ]
     },
     "metadata": {},
     "output_type": "display_data"
    },
    {
     "data": {
      "application/vnd.jupyter.widget-view+json": {
       "model_id": "9f12951cfa92482993bed58234c066fe",
       "version_major": 2,
       "version_minor": 0
      },
      "text/plain": [
       "Batches:   0%|          | 0/1 [00:00<?, ?it/s]"
      ]
     },
     "metadata": {},
     "output_type": "display_data"
    },
    {
     "data": {
      "application/vnd.jupyter.widget-view+json": {
       "model_id": "7a2bbe65133c45fab52657101ad1c4de",
       "version_major": 2,
       "version_minor": 0
      },
      "text/plain": [
       "Batches:   0%|          | 0/1 [00:00<?, ?it/s]"
      ]
     },
     "metadata": {},
     "output_type": "display_data"
    },
    {
     "data": {
      "application/vnd.jupyter.widget-view+json": {
       "model_id": "42a694a1b6d643edb184ee5946feab94",
       "version_major": 2,
       "version_minor": 0
      },
      "text/plain": [
       "Batches:   0%|          | 0/1 [00:00<?, ?it/s]"
      ]
     },
     "metadata": {},
     "output_type": "display_data"
    },
    {
     "data": {
      "application/vnd.jupyter.widget-view+json": {
       "model_id": "deaf85a0f6014af38609b3962ecfc0d4",
       "version_major": 2,
       "version_minor": 0
      },
      "text/plain": [
       "Batches:   0%|          | 0/1 [00:00<?, ?it/s]"
      ]
     },
     "metadata": {},
     "output_type": "display_data"
    },
    {
     "data": {
      "application/vnd.jupyter.widget-view+json": {
       "model_id": "2404677bb805453b98287dd1d620df29",
       "version_major": 2,
       "version_minor": 0
      },
      "text/plain": [
       "Batches:   0%|          | 0/1 [00:00<?, ?it/s]"
      ]
     },
     "metadata": {},
     "output_type": "display_data"
    },
    {
     "data": {
      "application/vnd.jupyter.widget-view+json": {
       "model_id": "179a3558f1cc486bbb6b0ad37e574e0a",
       "version_major": 2,
       "version_minor": 0
      },
      "text/plain": [
       "Batches:   0%|          | 0/1 [00:00<?, ?it/s]"
      ]
     },
     "metadata": {},
     "output_type": "display_data"
    },
    {
     "data": {
      "application/vnd.jupyter.widget-view+json": {
       "model_id": "247fa6f2922f4ba0915d2a44ab316c68",
       "version_major": 2,
       "version_minor": 0
      },
      "text/plain": [
       "Batches:   0%|          | 0/1 [00:00<?, ?it/s]"
      ]
     },
     "metadata": {},
     "output_type": "display_data"
    },
    {
     "data": {
      "application/vnd.jupyter.widget-view+json": {
       "model_id": "a145707168b44a74976807263e1e5f20",
       "version_major": 2,
       "version_minor": 0
      },
      "text/plain": [
       "Batches:   0%|          | 0/1 [00:00<?, ?it/s]"
      ]
     },
     "metadata": {},
     "output_type": "display_data"
    },
    {
     "data": {
      "application/vnd.jupyter.widget-view+json": {
       "model_id": "29c8b247a2784643a6287987e2269c80",
       "version_major": 2,
       "version_minor": 0
      },
      "text/plain": [
       "Batches:   0%|          | 0/1 [00:00<?, ?it/s]"
      ]
     },
     "metadata": {},
     "output_type": "display_data"
    },
    {
     "data": {
      "application/vnd.jupyter.widget-view+json": {
       "model_id": "4f51a0f274ed4ee8889034a8c2ceed88",
       "version_major": 2,
       "version_minor": 0
      },
      "text/plain": [
       "Batches:   0%|          | 0/1 [00:00<?, ?it/s]"
      ]
     },
     "metadata": {},
     "output_type": "display_data"
    },
    {
     "data": {
      "application/vnd.jupyter.widget-view+json": {
       "model_id": "44041d9fe83a45fbb943dd4cf87b0cce",
       "version_major": 2,
       "version_minor": 0
      },
      "text/plain": [
       "Batches:   0%|          | 0/1 [00:00<?, ?it/s]"
      ]
     },
     "metadata": {},
     "output_type": "display_data"
    },
    {
     "data": {
      "application/vnd.jupyter.widget-view+json": {
       "model_id": "79cd755bc81f48fd8fa7ce17140543a3",
       "version_major": 2,
       "version_minor": 0
      },
      "text/plain": [
       "Batches:   0%|          | 0/1 [00:00<?, ?it/s]"
      ]
     },
     "metadata": {},
     "output_type": "display_data"
    },
    {
     "data": {
      "application/vnd.jupyter.widget-view+json": {
       "model_id": "0f30fb6f79f345a2a618652916c45220",
       "version_major": 2,
       "version_minor": 0
      },
      "text/plain": [
       "Batches:   0%|          | 0/1 [00:00<?, ?it/s]"
      ]
     },
     "metadata": {},
     "output_type": "display_data"
    },
    {
     "data": {
      "application/vnd.jupyter.widget-view+json": {
       "model_id": "7440c5d92e914ee98c5799e9a6b2af4c",
       "version_major": 2,
       "version_minor": 0
      },
      "text/plain": [
       "Batches:   0%|          | 0/1 [00:00<?, ?it/s]"
      ]
     },
     "metadata": {},
     "output_type": "display_data"
    },
    {
     "data": {
      "application/vnd.jupyter.widget-view+json": {
       "model_id": "618f348fceb046d8b9038eb453045f16",
       "version_major": 2,
       "version_minor": 0
      },
      "text/plain": [
       "Batches:   0%|          | 0/1 [00:00<?, ?it/s]"
      ]
     },
     "metadata": {},
     "output_type": "display_data"
    },
    {
     "data": {
      "application/vnd.jupyter.widget-view+json": {
       "model_id": "1c8b761b0c3f4b22b85b8caf213a2ac0",
       "version_major": 2,
       "version_minor": 0
      },
      "text/plain": [
       "Batches:   0%|          | 0/1 [00:00<?, ?it/s]"
      ]
     },
     "metadata": {},
     "output_type": "display_data"
    },
    {
     "data": {
      "application/vnd.jupyter.widget-view+json": {
       "model_id": "0e0a17b580854b7f87031378752f9b9a",
       "version_major": 2,
       "version_minor": 0
      },
      "text/plain": [
       "Batches:   0%|          | 0/1 [00:00<?, ?it/s]"
      ]
     },
     "metadata": {},
     "output_type": "display_data"
    },
    {
     "data": {
      "application/vnd.jupyter.widget-view+json": {
       "model_id": "293bb31decca4bc9adddd8a67f0627ee",
       "version_major": 2,
       "version_minor": 0
      },
      "text/plain": [
       "Batches:   0%|          | 0/1 [00:00<?, ?it/s]"
      ]
     },
     "metadata": {},
     "output_type": "display_data"
    },
    {
     "data": {
      "application/vnd.jupyter.widget-view+json": {
       "model_id": "c52c2bdbfe4a4ad1ad5def88ed42da46",
       "version_major": 2,
       "version_minor": 0
      },
      "text/plain": [
       "Batches:   0%|          | 0/1 [00:00<?, ?it/s]"
      ]
     },
     "metadata": {},
     "output_type": "display_data"
    },
    {
     "name": "stderr",
     "output_type": "stream",
     "text": [
      "2025-01-31 15:29:49,811 - Created 102 Leaf Embeddings\n",
      "2025-01-31 15:29:49,813 - Building All Nodes\n",
      "2025-01-31 15:29:49,827 - Using Cluster TreeBuilder\n",
      "2025-01-31 15:29:49,830 - Constructing Layer 0\n",
      "i:\\AI_Project\\raptor\\.venv\\lib\\site-packages\\sklearn\\utils\\deprecation.py:151: FutureWarning: 'force_all_finite' was renamed to 'ensure_all_finite' in 1.6 and will be removed in 1.8.\n",
      "  warnings.warn(\n",
      "i:\\AI_Project\\raptor\\.venv\\lib\\site-packages\\threadpoolctl.py:1214: RuntimeWarning: \n",
      "Found Intel OpenMP ('libiomp') and LLVM OpenMP ('libomp') loaded at\n",
      "the same time. Both libraries are known to be incompatible and this\n",
      "can cause random crashes or deadlocks on Linux when loaded in the\n",
      "same Python program.\n",
      "Using threadpoolctl may cause crashes or deadlocks. For more\n",
      "information and possible workarounds, please see\n",
      "    https://github.com/joblib/threadpoolctl/blob/master/multiple_openmp.md\n",
      "\n",
      "  warnings.warn(msg, RuntimeWarning)\n",
      "i:\\AI_Project\\raptor\\.venv\\lib\\site-packages\\sklearn\\utils\\deprecation.py:151: FutureWarning: 'force_all_finite' was renamed to 'ensure_all_finite' in 1.6 and will be removed in 1.8.\n",
      "  warnings.warn(\n",
      "i:\\AI_Project\\raptor\\.venv\\lib\\site-packages\\sklearn\\utils\\deprecation.py:151: FutureWarning: 'force_all_finite' was renamed to 'ensure_all_finite' in 1.6 and will be removed in 1.8.\n",
      "  warnings.warn(\n",
      "i:\\AI_Project\\raptor\\.venv\\lib\\site-packages\\sklearn\\utils\\deprecation.py:151: FutureWarning: 'force_all_finite' was renamed to 'ensure_all_finite' in 1.6 and will be removed in 1.8.\n",
      "  warnings.warn(\n",
      "i:\\AI_Project\\raptor\\.venv\\lib\\site-packages\\sklearn\\utils\\deprecation.py:151: FutureWarning: 'force_all_finite' was renamed to 'ensure_all_finite' in 1.6 and will be removed in 1.8.\n",
      "  warnings.warn(\n",
      "2025-01-31 15:30:29,495 - Summarization Length: 100\n",
      "2025-01-31 15:36:40,364 - Node Texts Length: 198, Summarized Text Length: 348\n",
      "2025-01-31 15:36:41,872 - Summarized Text: <think>\n",
      "Alright, I need to help the user summarize this text. Let me first read through it carefully.\n",
      "\n",
      "The text seems to be in Persian and mentions a football match between Parastar and Golestan on November 8, 2023. There are specific details like the time (8 PM), location (Mashhad), referee (Hossein Hakakian), and players involved: Ali Reza Ghorbani for Parastar and Hamidreza Hakakian for Golestan.\n",
      "\n",
      "I should note that Parastar's star player, Hamed Farhadi, was sent off in the first half against a 10-player lineup. Parastar lost with a score of 2-3 to Golestan. The referee is mentioned as Hossein Hakakian, and there are some details about the players' ages.\n",
      "\n",
      "I should structure the summary to include all these points clearly but concisely. I'll make sure it's in English and easy to understand.\n",
      "</think>\n",
      "\n",
      "The text describes a football match between Parastar and Golestan on November 8, 2023 (8 PM) in Mashhad. The referee was Hossein Hakakian. Parastar’s star player, Hamed Farhadi, received a red card in the first half against a team that played with only nine players due to an injury. Despite this, Golestan managed to secure a win with a score of 3-2, despite Parastar managing just two goals. Parastar was led by Ali Reza Ghorbani (age 30) and played against Hamidreza Hakakian for Golestan (age 46).\n"
     ]
    },
    {
     "data": {
      "application/vnd.jupyter.widget-view+json": {
       "model_id": "08e0e25e606d49718ea605c22b06965a",
       "version_major": 2,
       "version_minor": 0
      },
      "text/plain": [
       "Batches:   0%|          | 0/1 [00:03<?, ?it/s]"
      ]
     },
     "metadata": {},
     "output_type": "display_data"
    },
    {
     "name": "stderr",
     "output_type": "stream",
     "text": [
      "2025-01-31 15:44:22,424 - Node Texts Length: 447, Summarized Text Length: 983\n",
      "2025-01-31 15:44:22,482 - Summarized Text: <think>\n",
      "Alright, I need to help the user by writing a detailed summary of the given text. The original text is in Persian and seems to be about a football training session where the user was trusted enough to play a game that resulted in winning. \n",
      "\n",
      "First, I'll read through the text carefully to understand the key points. It mentions the user choosing only one day before the end of winter training because friends were nearby. The match happens at the beginning of the autumn-fall season, specifically on August 28th, which is the last day for purchasing winter clothing in Iran.\n",
      "\n",
      "The police are involved again this chapter, dealing with a known team and forcing them to play against their own players who have rights over an independent event scheduled. There's also mention of specific individuals: Ali Khomeini wearing blue, Mohammad Zakeri wearing red, and Shayan Gholami with the independence flag on his chest.\n",
      "\n",
      "I should structure the summary in a logical flow, starting from the training session to the match details, police involvement, and then the players involved. Making sure to translate terms like \"بازیکن کم تر\" as \"a player with less time,\" etc., accurately into English. Also, I'll need to mention the significance of August 28th in Iran for purchasing winter clothing.\n",
      "\n",
      "I should keep each paragraph concise and focused on one main idea: training, match specifics, police action, and then individual players' actions or appearances. This way, the summary is clear and easy to follow without missing any important details.\n",
      "</think>\n",
      "\n",
      "این متن بخشی از یک روز تمرین فوتبالی است که نوشته شده است. در آن، نویسنده پس از انتخاب تنها یک روز قبل از پایان نقل و انتقالات زمستان، به منطقه خود برگشتید و با یک کادر فنی اعتماد شد تا با او بازی کند. در این بازی، نویسنده هم به سرانجام دست یافت و موفق به بوری این مسابقه شد.\n",
      "\n",
      "در شروع فصل جدید، برای آبی پوش شدن، نویسنده فکر می کند تنها یک روز در انتخابهای نقل و انتقالات زمستان قرار داده است، زیرا دوستانش در آن منطقه بودند. بازگشت به پارک کاری، در پرماجگاه آبیها در بازه استان ساسان در نزدیکترین فصل وintersportive، برای خرید اولین آز站点 زمستانی شاهد بودند. بازگشت به قریب مراسم تاریخ ۲۸ آبان، که در آن روز نمایشگاه شرکت می کردند.\n",
      "\n",
      "در این روز، پرسپولیس برای سومین بار در این فصل، با یک تیم شناختهشده خارجی، قوانین را به جرقه داد و باید با یک بازیکن کم تر (a player with less time) دقیق م jackmanهای قابل توجهی را پیش از مسابقه خود، بازی کند. در شرایطی که در آنidian، آبی پوش شده بودند و در سوی قرارداد با استقلال، فردیانی به نام آرمان رمضانی و گوستاوو بلانکو م wurde که قراردادشان با استقلال را بر سر نمایشگاه خود فسخ کردند.\n"
     ]
    },
    {
     "data": {
      "application/vnd.jupyter.widget-view+json": {
       "model_id": "c1569401d553426594b71a621118cd2d",
       "version_major": 2,
       "version_minor": 0
      },
      "text/plain": [
       "Batches:   0%|          | 0/1 [00:00<?, ?it/s]"
      ]
     },
     "metadata": {},
     "output_type": "display_data"
    },
    {
     "name": "stderr",
     "output_type": "stream",
     "text": [
      "2025-01-31 15:49:18,881 - Node Texts Length: 457, Summarized Text Length: 467\n",
      "2025-01-31 15:49:18,883 - Summarized Text: <think>\n",
      "Alright, I need to write a detailed summary of the provided text. Let me read through it carefully.\n",
      "\n",
      "The text is in Persian and seems to be about a football (soccer) team's situation. The names Sa'eed Hakakian, Hooman Rezaie, Hojatollah Kooei, and Aram Saberi are mentioned as players who helped the team achieve independence or gained trust. There's also mention of other players like Alireza Zolghad and Aboofazl Zali.\n",
      "\n",
      "The text talks about last season being tough for all teams, with hard matches where each goal is valuable because every match is close. The author communicates to these key players and hopes they can lead the team well in their next three games to improve their standing, especially considering an Asian Cup semi-final.\n",
      "\n",
      "There's a focus on Hojatollah Kooei who has the ability to play both central defense and left defense, which is good for strategies.\n",
      "\n",
      "I need to structure this into sections: introduction about the situation, last season's challenges, communication with players, key players' abilities, and future hopes. I'll make sure to translate terms accurately if needed but keep it natural.\n",
      "</think>\n",
      "\n",
      "The text discusses a football (soccer) team that was involved in some challenging matches during the previous season. The team members mentioned—Salman Hakakian, Hojman Rezaie, Hojmart Kooei, and Aram Saberi—appear to have played significant roles in the team's success or growth, as they were able to win trust from the coach. The author communicates with these key players, emphasizing their importance to the team's future performance.\n",
      "\n",
      "The text highlights that last season was particularly tough for all teams, with each match being close and goals being crucial. The author hopes that by leveraging the skills of these key players in the upcoming three matches, the team can improve its standing and secure a better position on the table, especially given the proximity to an Asian Cup semi-final.\n",
      "\n",
      "Notably, Hojmart Kooei is praised for his versatility as he can play both central defense and left defense, which adds flexibility to the team's defensive strategies. The author also expresses optimism about the team's potential to achieve its goals in the upcoming matches.\n"
     ]
    },
    {
     "data": {
      "application/vnd.jupyter.widget-view+json": {
       "model_id": "e5e9f50199204fb3a1f73a9476d42555",
       "version_major": 2,
       "version_minor": 0
      },
      "text/plain": [
       "Batches:   0%|          | 0/1 [00:01<?, ?it/s]"
      ]
     },
     "metadata": {},
     "output_type": "display_data"
    },
    {
     "name": "stderr",
     "output_type": "stream",
     "text": [
      "2025-01-31 15:56:58,986 - Node Texts Length: 375, Summarized Text Length: 821\n",
      "2025-01-31 15:56:59,028 - Summarized Text: <think>\n",
      "Alright, so I need to write a detailed summary of this text. Let me read through it carefully first.\n",
      "\n",
      "The text starts with \"تیمی بسیار دوستداشتنی است و انشالله بهترین نتایج را بتوانند بگیرند.\" which translates to \"This team is very good and hopefully will do their best.\" So the main topic seems to be about a football (soccer) team, specifically their performance.\n",
      "\n",
      "Next, there's a note from someone, probably a supporter or journalist, asking about the continuation of a chapter and working with Mr. Tartar in Sirjan. I'm not sure what \"تغییرات فصل\" means, but it might mean changes to a chapter or section. So they're asking for more information on that.\n",
      "\n",
      "Then, there's a line about Armin Sahaiean being called back to the Ashtāb Team and becoming a petiswoy mossy son. I'm not familiar with these terms in Persian football terminology. Maybe \"Ashtāb\" is a team name or manager? \"Petiswoy\" could be a position, perhaps striker?\n",
      "\n",
      "The next part talks about \"سقوط آزاد ناباورانه امیرارسلان در فوتبال ایران.\" This translates to an unauthorized collapse in Iran's football. The question is about who caused it, mentioning Gita Rastian because he plays the guitar. Maybe he was a manager or someone influential.\n",
      "\n",
      "Then there's another incident: \"سقوط آزاد مطهری از یک تیم مدعو در لیگ برتر به تیمی در قрыв جدول لیگ آزادگان، آن هم در فاصله کمتر از یک فصل، ناباورانه و عجیب است.\" This is about another unauthorized collapse, this time by a team called Mehteri from a relegation group moving to a top league team. It happened quickly and was shocking.\n",
      "\n",
      "I think the main summary should cover:\n",
      "\n",
      "1. A positive start to a football team's season.\n",
      "2. A supporter's questions about an ongoing situation in Sirjan regarding their work with Mr. Tartar.\n",
      "3. Details of two unauthorized collapses, involving Gita Rastian and Mteheri from a relegation group.\n",
      "\n",
      "I need to structure this into sections, maybe using headings for each part as per the user's example. Make sure the translation is accurate and the summary flows logically. Also, include both the football incidents since they seem related but happen at different times.\n",
      "</think>\n",
      "\n",
      "**Summary of Football Incidents and Team Dynamics**\n",
      "\n",
      "1. **Positive Team Start:**\n",
      "   - The text begins with a positive note about a football team, highlighting their good progress and expressing optimism that they will achieve their best results.\n",
      "\n",
      "2. **Supporter's Queries:**\n",
      "   - A supporter seeks information regarding the continuation of a chapter and their collaboration with Mr. Tartar in Sirjan. They express curiosity about ongoing developments or challenges in this context.\n",
      "\n",
      "3. **First incident: Unexplained Collapse:**\n",
      "   - There is an unauthorized collapse mentioned in Iran's football, involving Gita Rastian, possibly due to his role as a manager or influential figure. The question arises about the cause of this sudden and unauthorized event.\n",
      "\n",
      "4. **Second incident: shocking collapse:**\n",
      "   - Another dramatic and rapid collapse occurs when Mteheri from a relegation group moves to a top league team. This incident is described as shocking, quick, and out of character for football dynamics.\n",
      "\n",
      "The summary highlights both the team's positive momentum and the unexpected challenges within the football community, emphasizing the importance of transparency and understanding in such high-stakes environments.\n"
     ]
    },
    {
     "data": {
      "application/vnd.jupyter.widget-view+json": {
       "model_id": "3333b52fa26c4ca98eabc7b3a6b819d2",
       "version_major": 2,
       "version_minor": 0
      },
      "text/plain": [
       "Batches:   0%|          | 0/1 [00:00<?, ?it/s]"
      ]
     },
     "metadata": {},
     "output_type": "display_data"
    },
    {
     "name": "stderr",
     "output_type": "stream",
     "text": [
      "2025-01-31 16:04:41,247 - Node Texts Length: 400, Summarized Text Length: 931\n",
      "2025-01-31 16:04:41,263 - Summarized Text: <think>\n",
      "Alright, so I've been given this text in Persian and asked to write a detailed summary. Let me start by reading through it carefully to understand what's going on.\n",
      "\n",
      "The first sentence is \"من خودم اینجا از همه بیشتر میخواهم تفکرات سرمربی را پیاده کنم و من دنبال این هستم که بدانم سرمربی از من چه میخواهد.\" This translates to something like \"I want to more deeply incorporate my thoughts into the present here, and I'm seeking to understand what the surroundings (sermrb) hope for me.\" So it seems the speaker is reflecting on their interactions or environment.\n",
      "\n",
      "The next part mentions \"با این حال محمد خوششانس بود که همیتیها در بهترین فرم ممکن بودند و حریف از اوج آمادگی به دور بود.\" This is saying \"Mohammad was modest but his companions were in the best possible form, and he was no longer in the peak of his enthusiasm.\" So Mohammad seems to be feeling less enthusiastic now.\n",
      "\n",
      "Then there's a mention of Abayush, who \"باقی بود سریز خود در روز پایانی فعالیت پنجره زمستانه بود\" – meaning \"Abayush remained in his series during the last day of activity at the winter window.\" So maybe he was part of a group or project that continued until then.\n",
      "\n",
      "The text goes on to say, after some agreements with Armin Sarebayan, it's suggested that \"很有可能, احتمالاً استقلالیها حداقل یک بازیکن خارجی دیگر جذب میکنند\" which translates to \"It is probable that the independence groups will at least attract another foreign player.\" This implies some sort of competition or conflict.\n",
      "\n",
      "There's a specific mention about Ali Reza Khoshravi, who had \"بез پیشینه قرارداد خود، سد راه حضور کاوه رضایی هم در جمع آبیپوشان شده بود\" – meaning \"Ali Reza Khoshravi had previously not adhered to his own arrangement, and thus he was in the pool of Abayush's activities.\"\n",
      "\n",
      "Okay, so putting this together: The speaker is reflecting on their surroundings or interactions. They mention Mohammad being modest with others who are in good form but now less enthusiastic. Abayush (Ali Reza Khoshravi) is still involved in an activity during the last day of winter window functions.\n",
      "\n",
      "There's a possible competition between independence groups, possibly including bringing in another foreign player because of Ali Reza's previous actions where he didn't follow his own arrangement and was part of the pool. This might relate to some kind of competition or conflict over resources.\n",
      "\n",
      "I need to make sure I capture these points accurately. The summary should include the speaker's self-reflection, Mohammad's current state, Abayush's continued involvement, and the potential addition of another foreign player due to Ali Reza's situation.\n",
      "</think>\n",
      "\n",
      "The text reflects on a series of interactions or activities, with several key points:\n",
      "\n",
      "1. **Self-Reflection**: The speaker is contemplating their thoughts and feelings about their surroundings, indicating introspection.\n",
      "\n",
      "2. **Mohammad's Modesty**: Mohammad is described as modest, with his companions in the best possible form but now showing reduced enthusiasm.\n",
      "\n",
      "3. **Abayush's Continued Involvement**: Ali Reza Khoshravi (referred to as Abayush) remains engaged during the last day of an activity known as the winter window functions.\n",
      "\n",
      "4. **Potential Competition or Conflict**: There is a suggestion that independence groups may attract another foreign player, likely due to Ali Reza's past actions where he did not adhere to his own previous arrangements and was part of a shared pool.\n",
      "\n",
      "This summary encapsulates the introspective nature of the text, the current state of individuals involved, and hints at potential future developments in their interactions.\n"
     ]
    },
    {
     "data": {
      "application/vnd.jupyter.widget-view+json": {
       "model_id": "567c5fbdc0a04816b64893ba11d1b338",
       "version_major": 2,
       "version_minor": 0
      },
      "text/plain": [
       "Batches:   0%|          | 0/1 [00:01<?, ?it/s]"
      ]
     },
     "metadata": {},
     "output_type": "display_data"
    },
    {
     "name": "stderr",
     "output_type": "stream",
     "text": [
      "2025-01-31 16:08:26,975 - Node Texts Length: 311, Summarized Text Length: 342\n",
      "2025-01-31 16:08:27,171 - Summarized Text: <think>\n",
      "Alright, I need to write a detailed summary of the user's text. Let me read through it carefully.\n",
      "\n",
      "First, there are some Italian phrases at the beginning that don't make much sense in English context. Maybe they're just examples or typos and should be ignored for the summary.\n",
      "\n",
      "The main part is about football matches and related news. The user provided four separate points:\n",
      "\n",
      "1. A match involving 9 players.\n",
      "2. The end of a winter market day at a blue water park.\n",
      "3. A TV personality, Peyman Booy, featured on the evening news that night.\n",
      "4. An incident with an acceleration tape in a football game.\n",
      "\n",
      "I'll need to create a coherent summary that connects these points while keeping each section clear. I should also include specific details like dates and times where relevant.\n",
      "\n",
      "Maybe start with the match, then move to Peyman Booy's appearance, followed by the market event, and finally the acceleration incident. Make sure to mention all key players and events without making it too lengthy.\n",
      "</think>\n",
      "\n",
      "The text discusses several football-related news items from November 8, 2003:\n",
      "\n",
      "1. **Match Report**: A match involving 9 players occurred on this day.\n",
      "\n",
      "2. **Peyman Booy on TV**: The evening news featured Peyman Booy, a prominent Iranian TV personality, discussing the match.\n",
      "\n",
      "3. **Winter Market**: The end of a winter market at a blue water park in Isfahan was highlighted, with plans for it to reopen later that year.\n",
      "\n",
      "4. **Acceleration Incident**: A fan threw an acceleration tape onto the field during a football match, causing an accelerando stop and drawing attention from security officials.\n"
     ]
    },
    {
     "data": {
      "application/vnd.jupyter.widget-view+json": {
       "model_id": "637dc656b1d14503a87340cd21fce6f3",
       "version_major": 2,
       "version_minor": 0
      },
      "text/plain": [
       "Batches:   0%|          | 0/1 [00:01<?, ?it/s]"
      ]
     },
     "metadata": {},
     "output_type": "display_data"
    },
    {
     "name": "stderr",
     "output_type": "stream",
     "text": [
      "2025-01-31 16:15:27,216 - Node Texts Length: 581, Summarized Text Length: 651\n",
      "2025-01-31 16:15:27,237 - Summarized Text: <think>\n",
      "Okay, so I need to write a detailed summary of this text about the football team Beivomaa. Let me read through the text again and try to understand all the key points.\n",
      "\n",
      "First, it mentions that Beivomaa started their season by scoring a goal equal to the national anthem of Iran, which was a strong opening. They also have a history of equalling goals from teams like SS Azar Bahar, MAS Rafsangran, and Ghaloom Sairsian. That's interesting because it shows they've had successful scoring moments in the past.\n",
      "\n",
      "Next, Beivomaa played against Ardak Milan Esfahan, MAS Rafflesegan, and Ghaloom Shahghal in their matches this season. They scored goals in each of these games, which probably contributed to their team spirit or strategy.\n",
      "\n",
      "Then there's a part about Wingering Franprix-Kongamo, the club where Beivomaa is based. After scoring the opening goal equaling the national anthem of Tehran, they extended their contract for two more months. Now, they're aiming to become a champion league club by earning 500,000 euros from fans in Khuzestan.\n",
      "\n",
      "There's also something about Ghaloom Sairsian wanting to buy Beivomaa through a bid led by Sirjanis. They’re trying to bring the team to Sirjan and have some negotiations ongoing with Beivomaa and the Khuzestan Independence Front. If they can reach an agreement on financial matters, moving the team might be possible.\n",
      "\n",
      "I need to make sure I include all these points in the summary without missing any details. I should structure it logically, starting from their opening goal, past performances, current contract extension, financial negotiations with Ghaloom Sairsian, and their plans for the future.\n",
      "\n",
      "Let me start drafting each section step by step, making sure to cover each aspect clearly and concisely.\n",
      "</think>\n",
      "\n",
      "Beivomaa's season began magnificently when they scored a goal equaling Iran's national anthem, setting a high standard. Their history is marked by equaling goals from SS Azar Bahar, MAS Rafflesegan, and Ghaloom Sairsian, showcasing their scoring prowess.\n",
      "\n",
      "During the season, Beivomaa demonstrated resilience by scoring in games against Ardak Milan Esfahan, MAS Rafflesegan, and Ghaloom Shahghal. These goals highlighted their attacking strength and contributed to a competitive spirit within the team.\n",
      "\n",
      "Wingering Franprix-Kongamo, Beivomaa's club, extended their contract for two additional months after their opening goal. Their goal is to transform into a top-tier champion league club by securing 500,000 euros from fans in Khuzestan.\n",
      "\n",
      "Meanwhile, Ghaloom Sairsian is considering a bid to bring Beivomaa to Sirjan, with negotiations ongoing between Beivomaa and the Khuzestan Independence Front. If financial terms are finalized, this could signal a potential relocation, impacting the team's structure and support network.\n",
      "\n",
      "This summary encapsulates Beivomaa's opening success, past achievements, current contractual goals, and future aspirations alongside ongoing negotiations.\n"
     ]
    },
    {
     "data": {
      "application/vnd.jupyter.widget-view+json": {
       "model_id": "11153f6161e741e3914349b628c15b74",
       "version_major": 2,
       "version_minor": 0
      },
      "text/plain": [
       "Batches:   0%|          | 0/1 [00:00<?, ?it/s]"
      ]
     },
     "metadata": {},
     "output_type": "display_data"
    },
    {
     "name": "stderr",
     "output_type": "stream",
     "text": [
      "2025-01-31 16:27:16,593 - Node Texts Length: 736, Summarized Text Length: 1531\n",
      "2025-01-31 16:27:16,598 - Summarized Text: <think>\n",
      "Alright, I'm looking at this query where the user wants a detailed summary of a text in Persian. The passage is about Fardin Aghaei's potential transfer to Golestan and touches on several other topics like his experiences with different teams, the challenges he faced during the invasion of Zahedan, his decision to leave, and some internal conflicts within his management team.\n",
      "\n",
      "First, I need to make sure I understand each part of the text. Fardin is 34 years old, which makes him a solid candidate for an experienced defender in Golestan's youth system. His high level of commitment combined with his experience from various teams suggests he could be a good fit at Golestan.\n",
      "\n",
      "The passage also mentions his involvement in the invasion matches against Zahedan, highlighting how his team played tough and managed to secure victories despite being a smaller unit compared to bigger teams like Tabatabai or Bamgah. It then talks about his personal decision to leave the team around half-way through the season, citing the coach's advice from the day before the players arrived in Ashadian. This part is important because it shows internal conflicts and decisions within management.\n",
      "\n",
      "The text also discusses some of Fardin's teammates' issues, particularly with their performance against large teams. It brings up the coach's plans to challenge these players during the upcoming matches, implying that they might not perform as expected. There's mention of the team's management having mixed feelings about inviting a foreign player due to existing demands but believing it's necessary.\n",
      "\n",
      "Lastly, there's some information about Mousavi Estahghad, one of Golestan's most famous defenders, who was outstanding during the first half against Zahedan and then had an unexpected performance in the second half. This adds context to Fardin's situation as a potential replacement or alternative for such a key player.\n",
      "\n",
      "So, I need to summarize all these points concisely but thoroughly. The summary should cover his age and suitability, his past experiences, the specific matches against Zahedan, his personal decision to leave, internal conflicts within management, teammate issues, coach's plans, team management's stance on inviting foreign players, and Mousavi Estahghad's performance.\n",
      "\n",
      "I also need to make sure that the summary is in Persian, as per the user's request. I'll structure it by first addressing his potential transfer, then move into the specifics of his past performances, personal decisions, internal issues, teammates' problems, coach's strategies, management's dilemma, and Mousavi Estahghad's game.\n",
      "\n",
      "I should ensure that all key points are covered without being too lengthy but providing enough detail to give a comprehensive overview. It's important to highlight both the strengths Fardin brings in terms of experience and potential, as well as the challenges or issues that might arise within his new team.\n",
      "</think>\n",
      "\n",
      "در این متن، مورد بررسی قرار گرفته است که فخرالدینی اگر، با سن ۳۴ سال، به عنوان یک بازیکن با تجربه و آمادگی بالا دریافت میشود، آمید را میتواند در جایگاه گلگهر برای کمک خواهد کرد. بازی با استقلال خوزستان هم به عنوان بازی سنگین و سخت شناخته میشود، و بازی کردن در زمین این تیم نیز دشوار است. همانطور که ذکر شده است، این تیم در خانه خود شاهد کسب بسیاری از بازیهای برنده در مقایسه با تیمهای بزرگی مانند تابatabai یا Bamgah است. با این حال، در نیم可行性 دوم و پس از تصمیم به جدایی گرفتن از تیم، فخرالدینی تصمیم به منافذ شدن خود کرد.\n",
      "\n",
      "در این مرحله، او با استقلال ساختاری مبتنی بر روزهای قرمز و نیکلی، تصمیم به جدایی گرفت و در مقابله با آقای رحمتی گفتید که درست در آن زمان این تصمیم به جریان شد. او همچنین بیان کرد که در کارهای جدایی، تصمیم خود را انجام داد.\n",
      "\n",
      "در این جا، تمرکز پایین برخی از بازیکنان پرسپولیس در بازیها و مسئله نابرابری با آنها را به عنوان یکی از بحثهایی که در این فصل پوشش داده شده است اشاره شده است. همچنین، اureka کارتال باید در این زمینه بیش از پیش کار کند تا مسائل را بهبود دهد.\n",
      "\n",
      "در مورد مدیران باشگاه استقلال نیز بیان شده است که آنها نسبت به جذب تیوی بیفوما تمایل دارند، اما اعتقادشان بر این است که رقم درخواستی بیشتر است و آنها برای جذب بازیکن خارجی در نظر گرفته نیستند.\n",
      "\n",
      "در نهایت، اشاره شده است که مهاجم اسبق استقلال، که به عنوانیکی از برترین گلزنان تاریخ دار بیان میشود، در نیم可行性 اول بازیهای خوزستان همسری و پیشنهاد شد، اما در نیم可行性 دوم، او به نظر میرسد که مسیری که آقای مطهری در پیش گرفت، غیر قابل پیش بینی بود.\n"
     ]
    },
    {
     "data": {
      "application/vnd.jupyter.widget-view+json": {
       "model_id": "94d2d2a0823840598447a862c2590913",
       "version_major": 2,
       "version_minor": 0
      },
      "text/plain": [
       "Batches:   0%|          | 0/1 [00:01<?, ?it/s]"
      ]
     },
     "metadata": {},
     "output_type": "display_data"
    },
    {
     "name": "stderr",
     "output_type": "stream",
     "text": [
      "2025-01-31 16:38:17,926 - Node Texts Length: 1533, Summarized Text Length: 742\n",
      "2025-01-31 16:38:18,086 - Summarized Text: <think>\n",
      "Alright, I need to summarize this text. Let me read through it carefully.\n",
      "\n",
      "First, there are a few players mentioned: صالح حردانی, میلاد زکی-پور, آرمین سهرابیان, and then some about the transfer of players between teams. Then there's information about بیفوما transferring to تهران MLS. After that, another part talks about مطهری, his current situation in a low-tier league, and his recent performance.\n",
      "\n",
      "I should break this down into sections: first the transfers involving حردانی and زکی-پور, then سفرابیان's transfer, followed by the situation of بیفوما to تهران MLS. Then move on to مطهری's recent games and his current status.\n",
      "\n",
      "I need to make sure I include all key points without getting too detailed. For example, حردانی is returning to قلیبودان, and زکی-پور is back to فروگاه. سفرابیان transferred from براب尔 آλομینی Mellat to قرمشپوشان Qahrooman, but then goes back.\n",
      "\n",
      "The part about بیفوما being considered for a major transfer makes that section stand out, so I'll highlight that it's more complex. Then Mehreti is mentioned again with his transfers and recent games; he's not playing anymore.\n",
      "\n",
      "I should also note the time frames: some events are from earlier in the season, others from near the end of the season.\n",
      "\n",
      "Alright, putting this all together into a concise summary.\n",
      "</think>\n",
      "\n",
      "**Summary:**\n",
      "\n",
      "The text details several key developments in football transfers during a specific period. Here's a breakdown:\n",
      "\n",
      "1. **球员转会：**\n",
      "   - ** SALEH Hashadani** (Alakom Alarak) has returned to قلیبودان, while his former teammate **Mehdi Zakipour** is making his debut for فروگاه.\n",
      "   - **Armin Safariyan** transferred from the Alumina team in Erak to قرمشپوشان Qahrooman. He later re-joined قلیبودان after a contract signing, aiming to continue with پایتخت MLS.\n",
      "\n",
      "2. **Baboloo's Transfer Controversy:**\n",
      "   - The transfer of بیفوما (Babooloo) to تهران MLS is complicated by his financial demands. He is considered one of the top candidates for this move, but the deal remains uncertain due to his financial priorities.\n",
      "\n",
      "3. **Mehreti's Return and Recent Performances:**\n",
      "   - مطهری (Mehreti) has returned from a low-tier league after spending 11 months abroad. Despite not playing recently, he scored six goals in crucial games for ترکیب نساجی و آλομینی Mellat.\n",
      "   - His recent performances have been inconsistent, and his status as a returning player is uncertain.\n",
      "\n",
      "4. **Mehreti's Current Status:**\n",
      "   - Mehreti has not actively participated in matches since late October 2023 but continues to train for potential reintegration into the MLS. His performance in the past shows promise, though his career trajectory remains uncertain.\n",
      "\n",
      "This summary captures the main events and players' statuses during the described period.\n"
     ]
    },
    {
     "data": {
      "application/vnd.jupyter.widget-view+json": {
       "model_id": "47e610d7076c4d0890f88401b7ac9179",
       "version_major": 2,
       "version_minor": 0
      },
      "text/plain": [
       "Batches:   0%|          | 0/1 [00:00<?, ?it/s]"
      ]
     },
     "metadata": {},
     "output_type": "display_data"
    },
    {
     "name": "stderr",
     "output_type": "stream",
     "text": [
      "2025-01-31 16:47:50,606 - Node Texts Length: 847, Summarized Text Length: 848\n",
      "2025-01-31 16:47:50,735 - Summarized Text: <think>\n",
      "Okay, I need to write a detailed summary of the given text. Let me read through it carefully.\n",
      "\n",
      "The first part talks about the first match being tough for teams because they were close to 20 days away from their last game. Winning in these initial matches is crucial and will help them. It mentions Mehran Ahmadi, a 27-year-old player from Tabriz, who recently signed with Pish Hahrom Abad on a two-year contract after six summer trials.\n",
      "\n",
      "Then there's an incident involving Hakibak Bateq, a police officer, who was involved in an accident while playing. He collided with Vahid Keshmoutil and made an emergency decision to burn a car during a match where his team was trailing by one goal at halftime but won 2-0 later.\n",
      "\n",
      "The article also discusses Pish Hahrom Abad's performance early on, winning their first game in five matches with Hakibak leading them back. It mentions another incident where Hakibak caused a disturbance and received a red card, prompting the team to go into a new phase of the match.\n",
      "\n",
      "Pish Hahrom Abad then beats Golestan Tehran with two goals before halftime, improving their position in the league standings. The article also talks about players like Ali Gholamian, who made a crucial pass that led to Hakibak's goal and was suspended for his actions causing chaos during the match.\n",
      "\n",
      "The rest of the text is about football clubs fighting for promotion from the second division. It mentions Qom Stab 500,000 Iran Dinars willing to take on the club for a chance at promotion. There's also an update on Mehran Ahmadi who recently returned after his trial and signing with Pish Hahrom Abad.\n",
      "\n",
      "I need to make sure my summary includes all these points: the first match's difficulty, Mehran Ahmadi's recent move, Hakibak Bateq's accident leading to a game-winning goal, the team's recovery from that incident, and the struggles of other teams like Qom Stab 500,000 Iran Dinars.\n",
      "\n",
      "I should structure it with an introduction about first matches being tough, then introduce Mehran Ahmadi. Next, cover Hakibak Bateq's accident and its impact on his team. Then discuss Pish Hahrom Abad's performance early in the season, followed by Qom Stab 500,000 Iran Dinars' situation.\n",
      "\n",
      "I need to ensure each paragraph flows well and covers all key events without missing any important details.\n",
      "</think>\n",
      "\n",
      "The article begins by highlighting the challenges of the first match for football teams, as they are nearing a 20-day gap from their last game. Winning such an initial match is crucial, as it can significantly aid their performance and morale.\n",
      "\n",
      "Mehran Ahmadi, a 27-year-old player from Tabriz, recently signed a two-year contract with Pish Hahrom Abad after securing his release on the sixth summer trial in Qom. His return to the sport following a decade-long absence is noted as a significant development for both him and the club.\n",
      "\n",
      "The narrative shifts focus to Hakibak Bateq, a police officer who was involved in an accident during a match while playing for Pish Hahrom Abad. The collision led to his team making an emergency decision, resulting in a game-winning goal by burning a car when trailing 1-0 at halftime.\n",
      "\n",
      "Despite the incident, Hakibak Bateq's team bounced back, winning their first game in five matches with a late goal. Pish Hahrom Abad demonstrated resilience and focus during this crucial period, securing their promotion fight with an impressive victory.\n",
      "\n",
      "The article also touches on other developments within the league, including the ongoing struggles of clubs like Qom Stab 500,000 Iran Dinars, who are pursuing promotion despite facing financial pressures. Additionally, it mentions Mehran Ahmadi's return to football after a decade, marking a significant milestone for him and his former club.\n",
      "\n",
      "Overall, the piece provides a snapshot of key moments in the league, emphasizing both team resilience and individual player reintegrations.\n"
     ]
    },
    {
     "data": {
      "application/vnd.jupyter.widget-view+json": {
       "model_id": "4014ab09e9144ae4be4426839c8eb3c5",
       "version_major": 2,
       "version_minor": 0
      },
      "text/plain": [
       "Batches:   0%|          | 0/1 [00:00<?, ?it/s]"
      ]
     },
     "metadata": {},
     "output_type": "display_data"
    },
    {
     "name": "stderr",
     "output_type": "stream",
     "text": [
      "2025-01-31 16:58:44,393 - Node Texts Length: 1513, Summarized Text Length: 888\n",
      "2025-01-31 16:58:44,706 - Summarized Text: <think>\n",
      "Alright, I need to summarize this text. First, I'll read through it carefully to understand the main points.\n",
      "\n",
      "The text talks about football matches affecting the Iranian team Tabeshen club. Notably, there's something unusual with the red card given to Mohammad Khodabandehlou, which was unexpected because it wasn't given as a first黄牌. Then, the article discusses various incidents from the last few days, including changes in managers and players of the Isfahanning and Esfahan teams.\n",
      "\n",
      "I see mentions like Ramezanizadeh's transfers to transfer Armin Soroushian, which resulted in his formal relocation. There's also talk about a player named Alireza Shamsi who might be returning from a contract situation. Another interesting point is about Tavoosi Be Broma and her agent Wining-Majakam who seems to have made deals with an external player of poor quality.\n",
      "\n",
      "Then, there are details about players like Ali Karimipour (Mehrab) and Ali Arsalan Metehrari. They had various issues in their last seasons, such as disciplinary problems and contract disputes. Their roles during these times were different from what fans expected.\n",
      "\n",
      "I need to structure this into a coherent summary without losing the key details. I'll organize it by highlighting the main events, the players involved, and the reasons behind their actions or changes.\n",
      "</think>\n",
      "\n",
      "این متن بیانگر برخی از رویدادها و نکات تاریک در مورد بازیهای پیشین است. یکی از نکات اساسی آن، عدم توجه به قرارداد مسعود جمعه است که باعث شد مدیران باشگاه استقلال به دنبال حذف همکاری با او و جذب بازیکن خارجی باکیفیتتر باشند. همچنین، پرماجراها در استقلال خوزستان که در ابتدا به جمع آبیپوشان اهوازی پیوستند، دیده میشوند و نشاندهنده یکی از چهرههای ویژه بازار زمستانه هستند. \n",
      "\n",
      "البته، تمرکز اصلی این متن بر روی سوالات و مشکلات مختلف بازیکنان است، از جمله امیررسلان مطهری که در لیگ برتر و جام حذفی با چالشهای مختلف سرویسته بودند، و Tavoosi Be Broma که به نظر میرسد در حال بازگشت به بازیهای خوبش است. همچنین، ریحانه مطهری فصل گذشته که با مشکلات قلب فنی در بازیهای جمع آبیپوشان تبریز سرویسته بود، نیز به عنوان یکی از رویدادها ذکر شده است.\n",
      "\n",
      "در متن، همچنین اشاره شده که مدیران باشگاه در صدد حذف قرارداد مسعود جمعه هستند و پرسش کردهاند تا بتوانند جمعه را به عنوان یک بازیکن م Pete در نظر بگیرند.\n"
     ]
    },
    {
     "data": {
      "application/vnd.jupyter.widget-view+json": {
       "model_id": "771f0f0428144d70abb5d9ba72c3fbf2",
       "version_major": 2,
       "version_minor": 0
      },
      "text/plain": [
       "Batches:   0%|          | 0/1 [00:01<?, ?it/s]"
      ]
     },
     "metadata": {},
     "output_type": "display_data"
    },
    {
     "name": "stderr",
     "output_type": "stream",
     "text": [
      "2025-01-31 17:03:33,270 - Node Texts Length: 364, Summarized Text Length: 375\n",
      "2025-01-31 17:03:33,314 - Summarized Text: <think>\n",
      "Okay, so I need to write a detailed summary of this text. Let me read it carefully and understand what's going on.\n",
      "\n",
      "The first part is in Persian: \"ممنونم از کادرفنی گلگهر که به من اعتقاد داشتند و من را در لیستشان گذاشتند\" which translates to thanks to the technical committee of Gorgan gas for believing in me and placing me on their list. The person thinks that by their performance, they can make amends and become part of the team.\n",
      "\n",
      "Then there's information about Mehrdad Mohammadi returning to the national basketball team. He was involved in a statement regarding his participation and transfer activities. He mentions he left the exclusion list because of doping accusations. Also, it's noted that Mosoud Saeedi, an international reserve player, might still be with the team.\n",
      "\n",
      "There's also something about numerical superiority: Golestan Mahdilemoochi ranked second in points in the second half, which led to him being placed near the draft lottery spot for exiting the team. Then there's mention of Mohammad Khodabakhshلو as well.\n",
      "\n",
      "I need to structure this into a summary that captures all these elements clearly and concisely.\n",
      "</think>\n",
      "\n",
      "The text provides an overview of Mehrdad Mohammadi's return to the national basketball team after being excluded from the exclusion list due to doping allegations. He expresses hope that his performance can rectify past actions and secure a spot on the team. Additionally, Golestan Mahdilemoochi's second-half points ranking contributes to his proximity in the draft lottery for exiting the team. The inclusion of Mosoud Saeedi as an international reserve player is also noted.\n"
     ]
    },
    {
     "data": {
      "application/vnd.jupyter.widget-view+json": {
       "model_id": "f81738cfc227408f8f1fd22b5a357fde",
       "version_major": 2,
       "version_minor": 0
      },
      "text/plain": [
       "Batches:   0%|          | 0/1 [00:00<?, ?it/s]"
      ]
     },
     "metadata": {},
     "output_type": "display_data"
    },
    {
     "name": "stderr",
     "output_type": "stream",
     "text": [
      "2025-01-31 17:06:16,198 - Node Texts Length: 160, Summarized Text Length: 304\n",
      "2025-01-31 17:06:16,220 - Summarized Text: <think>\n",
      "Alright, so I need to write a detailed summary of this given text. Let me read through the text first.\n",
      "\n",
      "The user provided a passage in Persian, and they want it summarized in English with about 150 words. The original passage talks about someone trying to choose tasks that will have a positive impact on their future. They mention that some teams are vying for leadership, while others aim for gains or points in this tough situation.\n",
      "\n",
      "Hmm, okay, so the main idea is about strategic selection of tasks for personal growth and impact. The person is trying to be forward-thinking because they want their efforts to leave a lasting positive effect on themselves in the future.\n",
      "\n",
      "I should structure the summary to capture both the individual's intention and the competitive environment around them. I'll mention that there are teams competing for leadership, while others focus on gains or points. It's important to highlight the challenge this situation presents and how the person is trying to navigate it with strategic task selection.\n",
      "\n",
      "Let me make sure to translate these elements accurately into English without losing the original meaning. Also, keeping the summary concise but comprehensive will be key.\n",
      "</think>\n",
      "\n",
      "The text discusses an individual’s proactive approach to selecting tasks aimed at positively impacting their future. Despite a competitive environment where various teams are contesting for leadership or gains, this person is determined to choose strategic actions that will leave a lasting positive effect on themselves in the future. The challenge posed by the current situation requires careful consideration and forward-thinking to ensure their efforts resonate constructively.\n"
     ]
    },
    {
     "data": {
      "application/vnd.jupyter.widget-view+json": {
       "model_id": "cf57ce4824444d46a04d8b625ab60515",
       "version_major": 2,
       "version_minor": 0
      },
      "text/plain": [
       "Batches:   0%|          | 0/1 [00:00<?, ?it/s]"
      ]
     },
     "metadata": {},
     "output_type": "display_data"
    },
    {
     "name": "stderr",
     "output_type": "stream",
     "text": [
      "2025-01-31 17:12:44,268 - Node Texts Length: 585, Summarized Text Length: 727\n",
      "2025-01-31 17:12:44,279 - Summarized Text: <think>\n",
      "Alright, I need to write a detailed summary of the given text. Let me read through it carefully first.\n",
      "\n",
      "The text starts with talking about a football match in the second half where they could have won by scoring three goals but unfortunately lost. It mentions regretting not winning and deciding to leave the team because there's no more help to be done. The author then talks about other players like چریمیا, بلانکو, کаکوتو, رضامدین, میلادزکیپور, سامانفلاح, بیف omissionا and mentions their current situation.\n",
      "\n",
      "So the main points are:\n",
      "1. An unfortunate match loss in the second half despite scoring three goals.\n",
      "2. The author regrets not winning but leaves the team because they can't help anymore.\n",
      "3. Other players' current standings and their ongoing struggles.\n",
      "4. Mention of other coaches like مطهری from Chapter 5 who's looking for a new team.\n",
      "\n",
      "I need to capture all these points in my summary, making sure it's detailed yet concise. I should include the emotional aspect (regret) and the current state of both the author's situation and others'. Also, mention the other coaches briefly as they set the context for future decisions.\n",
      "</think>\n",
      "\n",
      "در متن، نویسنده در بخش دوم قرآن از یک بازی قلمه فوتبال خاطر انگیز کرد که امیدوار بود که سه گل بزنی و برنده شود، اما نه به خوبی برنده شد و بازی مساواهی نهایی را انجام داد. او متاسفانه این م spectre را انجام داد و تصمیم گرفت تا بازی از بین برود، زیرا هیچ کمکی به پیشنهاد نمی شد. او همچنین در مورد سایر بازیکنانی مانند جواد چریمیا، بلانکو، کاکوتو، آرمان رمضانی و میلاد زکی پور بحث کرد و اشاره شد که این تیمها در حال حاضر برای عواقب میشودند. همچنین، نام نویسنده در حوزه بازیهای آستانه رezayi به عنوان یکی از تیمهای جذابی محسوب می شد. در نهایت، نویسنده ذکر کرد که مطهری در فصل بعدی به دنبال انتخاب تیم جدید بود و میبود گزینههای مختلفی را بررسی میکند.\n"
     ]
    },
    {
     "data": {
      "application/vnd.jupyter.widget-view+json": {
       "model_id": "c2e0ab96454d4ecb93296699718493a8",
       "version_major": 2,
       "version_minor": 0
      },
      "text/plain": [
       "Batches:   0%|          | 0/1 [00:00<?, ?it/s]"
      ]
     },
     "metadata": {},
     "output_type": "display_data"
    },
    {
     "name": "stderr",
     "output_type": "stream",
     "text": [
      "2025-01-31 17:17:35,505 - Node Texts Length: 398, Summarized Text Length: 391\n",
      "2025-01-31 17:17:35,523 - Summarized Text: <think>\n",
      "Alright, the user has provided a query in Persian and an English summary. They want me to write a detailed summary of the given text about football events.\n",
      "\n",
      "First, I need to understand the content thoroughly. The text discusses the tension and pressure during a football match, emphasizing that both teams are focused on securing a result with significant game pressure. It also mentions an announcement about the goalkeeper's contract extension as one of the ongoing developments.\n",
      "\n",
      "The user has already provided a summary in English, so they might be looking for another version or perhaps want to see if my response matches their expectations. Alternatively, they might need it in Persian but phrased it in English initially by mistake.\n",
      "\n",
      "I should ensure that the summary captures all key points: the high stakes, focus on results, ongoing developments like contract announcements, and the passage of time as the final whistle approaches. It's also important to note the balance between tension and opportunities for both teams or players.\n",
      "\n",
      "I'll structure the summary logically, starting with the main theme (tension in the match), then moving on to the minor but significant updates (goalkeeper's extension), and finally mentioning the countdown to the end of the season window. This flow will make it clear and informative.\n",
      "</think>\n",
      "\n",
      "The text discusses a football match filled with high tension and pressure as both teams are determined to secure a result before the final whistle blows in the winter window. The stakes are elevated, with both sides aware that losing could have significant consequences for their respective standings or transfer dealings. The goalkeeper's extension of his contract is noted as an ongoing development that could impact team dynamics or player morale.\n",
      "\n",
      "The passage of time is also a critical factor, with just hours remaining until the final whistle and the arrival of news about upcoming developments in the transfer market, such as deals for players from other clubs. Despite these challenges, both teams continue to focus on their objectives, knowing that any slip-up could lead to costly consequences.\n"
     ]
    },
    {
     "data": {
      "application/vnd.jupyter.widget-view+json": {
       "model_id": "83c2ec3dc6c746adbdf7747cf13b6e48",
       "version_major": 2,
       "version_minor": 0
      },
      "text/plain": [
       "Batches:   0%|          | 0/1 [00:00<?, ?it/s]"
      ]
     },
     "metadata": {},
     "output_type": "display_data"
    },
    {
     "name": "stderr",
     "output_type": "stream",
     "text": [
      "2025-01-31 17:21:05,222 - Node Texts Length: 340, Summarized Text Length: 333\n",
      "2025-01-31 17:21:05,223 - Summarized Text: <think>\n",
      "Alright, I need to summarize this text. Let's read through it carefully.\n",
      "\n",
      "First part talks about the association and team being successful in previous years and having opportunities to improve their standing. Then mentions Georgiy Golosiany as a good manager with a plan for promotion but an unexpected fall after that.\n",
      "\n",
      "Next, it says the association continued its activities post-graduation, and there was an important exchange deal between two associations.\n",
      "\n",
      "Lastly, Wingma TAM, from westernistan, might cancel this team's contract soon, aiming to file for transfer in the winter break before filing for relegation.\n",
      "\n",
      "I need to make sure I cover all these points concisely. Maybe structure it by success story, manager's plan, the exchange deal, and then the potential situation with Wingma TAM.\n",
      "</think>\n",
      "\n",
      "The text discusses a football association and its team, which has demonstrated significant success in recent years, highlighting their potential for further improvement. The team was managed effectively by Georgiy Golosiany during his tenure, but his successor is yet to be confirmed as the club prepares for promotion. However, Golosiany's abrupt departure led to a decline in the team's performance.\n",
      "\n",
      "The association continued its activities post-graduation, establishing a key partnership with another association from westernistan, which underscores their commitment to growth and expansion within the football league.\n",
      "\n",
      "Wingma TAM, the rival association based in westernistan, has reportedly hinted at taking measures against this team, potentially aiming for a transfer before seeking relegation status. This situation highlights ongoing tensions and challenges facing the club as it strives to maintain its standing and improve its position in the league.\n"
     ]
    },
    {
     "data": {
      "application/vnd.jupyter.widget-view+json": {
       "model_id": "c8b917e6b83249c2ac3af93b90cb5036",
       "version_major": 2,
       "version_minor": 0
      },
      "text/plain": [
       "Batches:   0%|          | 0/1 [00:00<?, ?it/s]"
      ]
     },
     "metadata": {},
     "output_type": "display_data"
    },
    {
     "name": "stderr",
     "output_type": "stream",
     "text": [
      "2025-01-31 17:30:58,816 - Node Texts Length: 1400, Summarized Text Length: 761\n",
      "2025-01-31 17:30:59,264 - Summarized Text: <think>\n",
      "Alright, so I need to write a detailed summary of this text. Let me read through it carefully first. The text is about میلاد فخرالدینی participating in a transfer window with Golestan Shahrjan moving to Asيا. There are several points mentioned:\n",
      "\n",
      "1. Golestan Shahrjan had good activity in the winter transfer window.\n",
      "2.米尔اد فخرالدینی played for Golestan Shahrjan and was called up by Golestan Qomayeh.\n",
      "3. He had a good start to the second half, playing two matches.\n",
      "4. He is happy about his inclusion.\n",
      "5. There were mentions of other players being called up due to poor form.\n",
      "6. The transfer window closed at midnight on Monday (I think it was 9 November), so any changes would only happen from Tuesday morning.\n",
      "\n",
      "Wait, in the text, it says \"6 نظر\" which I think is 6 comments or notes, but the main content is about米尔اد and Golestan's transfers. I need to structure this into a summary with key points.\n",
      "\n",
      "I should start by mentioning米尔adian's role as a mediator between Golestan Qomayeh and Golestan Shahrjan. He was included in two matches and is happy, which shows his value. Then talk about the transfer window closure and how players can only be moved after Tuesday. Also, mention other players like Parvandeh and Aslani who were called up due to poor form.\n",
      "\n",
      "I need to make sure I include all these points clearly and concisely in the summary. Maybe break it down into sections for clarity:米尔adian's role, Golestan Qomayeh's performance, the transfer window details, and other related transfers.\n",
      "\n",
      "Also, check if there are any specific stats or notable quotes about米尔adian that should be included. From what I see, he's just happy about being included, which is good enough to mention.\n",
      "\n",
      "Let me organize this:\n",
      "\n",
      "1. Introduction of米尔adian's involvement.\n",
      "2. His positive reception by Golestan Qomayeh.\n",
      "3. His recent match appearances and comments on his inclusion.\n",
      "4. Transfer window details and restrictions post-closure.\n",
      "5. Other players' transfers due to poor form.\n",
      "\n",
      "I think that covers everything. Now, I'll write the summary accordingly.\n",
      "</think>\n",
      "\n",
      "米尔adian在Golestan Shahrjan与Golestan Qomayeh的转会中扮演了重要角色，他多次代表Qomayeh出战，并获得了球队的认可。米尔adian对Golestan Qomayeh的积极态度和专业精神表示赞赏，认为这有助于球队的进步。\n",
      "\n",
      "在Golestan Qomayeh的表现方面，米尔adian played a crucial role as an intermediary between Golestan Shahrjan and Golestan Qomayeh. His contributions have been well-received, with him making appearances in two matches during the second half of the season.\n",
      "\n",
      "The transfer window for winter 2023 closed on Monday night (9 November), which means any changes to players' contracts or transfers would only be effective from Tuesday morning onwards. This includes players like Parvandeh and Aslani, who were called up due to their poor form in the first half of the season.\n",
      "\n",
      "米尔adian's involvement highlights his importance in mediating player movements and maintaining team cohesion. His positivity has been instrumental in helping Golestan Qomayeh navigate this complex process successfully.\n"
     ]
    },
    {
     "data": {
      "application/vnd.jupyter.widget-view+json": {
       "model_id": "20d7a511122e4c039b1ed48cedb1acfb",
       "version_major": 2,
       "version_minor": 0
      },
      "text/plain": [
       "Batches:   0%|          | 0/1 [00:00<?, ?it/s]"
      ]
     },
     "metadata": {},
     "output_type": "display_data"
    },
    {
     "name": "stderr",
     "output_type": "stream",
     "text": [
      "2025-01-31 17:34:37,286 - Node Texts Length: 49, Summarized Text Length: 487\n",
      "2025-01-31 17:34:37,312 - Summarized Text: <think>\n",
      "Okay, so I need to write a detailed summary of this Persian text. The user provided some context about \"سروش رفیعی\" and the dates involved. Let me try to understand what each part means.\n",
      "\n",
      "First, \"سروش رفیعی\" translates to something like \"Highway Resolution.\" The main topic seems to be about formalizing the return of Armenia from itsbasketball, probably a sports league or competition. The key dates are March 29 and May 13, which likely mark the restoration and implementation phases.\n",
      "\n",
      "The user also mentioned that the text is written in Persian by an unknown author. So I need to translate this accurately while maintaining the original meaning. Since it's about formalizing a return after some period away, the summary should highlight the significance of these dates—formalization, implementation, and regional pride.\n",
      "\n",
      "I'll start by translating each part: \"رسمی کردن بازگشت آرمین به استقلال\" means making Armenia's return to independence official. \"روزهای روشن، خداحافظ\" refers to bright days of hope, probably the period leading up to these dates. Then there are specific date references.\n",
      "\n",
      "I should structure the summary in clear paragraphs: introduction about the event, details on March 29 regarding formalization and implementation, and May 13 focusing on the significance of restoring national pride after a period of separation. I need to ensure each paragraph flows logically and covers all key points without getting too detailed.\n",
      "</think>\n",
      "\n",
      "The passage discusses the process of formally returning Armenia to its former independence following a period away from the sport. The event is described as \"Highway Resolution,\" which suggests an emphasis on restoring national pride and unity through sports.\n",
      "\n",
      "On March 29, the restoration of Armenia's participation in the basketball league is made official, with a focus on reuniting the nation under one roof through this sporting event. This date marks the beginning of efforts to formally return to the sport after being away for extended periods.\n",
      "\n",
      "By May 13, the restoration and implementation of the project have been successfully concluded, symbolizing the return of Armenia to its roots and reinforcing national pride among the people who had been separated from the sport during this time. This date is likely significant in marking the triumph of bringing back a piece of history through sports.\n"
     ]
    },
    {
     "data": {
      "application/vnd.jupyter.widget-view+json": {
       "model_id": "b973b4b283e24375886c2596faf4cda8",
       "version_major": 2,
       "version_minor": 0
      },
      "text/plain": [
       "Batches:   0%|          | 0/1 [00:00<?, ?it/s]"
      ]
     },
     "metadata": {},
     "output_type": "display_data"
    },
    {
     "name": "stderr",
     "output_type": "stream",
     "text": [
      "2025-01-31 17:37:20,932 - Node Texts Length: 240, Summarized Text Length: 259\n",
      "2025-01-31 17:37:20,934 - Summarized Text: <think>\n",
      "Alright, I need to write a detailed summary of the given text. Let's break it down.\n",
      "\n",
      "First, there's a reference to Mehdi Rahimi saying that the user decided on divorce before meeting her. So, she chose the engagement ring from Galgheh instead of other options.\n",
      "\n",
      "Then, they're planning better results in the next chapter. The character Sarehian arrived, and someone mentioned Javad Ghaznavi's comment about her previous decision being correct.\n",
      "\n",
      "Next, the focus is on continuing the activities of water transfers. It also mentions a half-hour visit to the reserve and an abrupt presence at the candidate team for promotion to League 2.\n",
      "</think>\n",
      "\n",
      "When Galgheh's proposal arrived for you, you chose it completely without any other options. \n",
      "\n",
      "Mehdi Rahimi mentioned that you had decided on divorce before your wedding, which was correct.\n",
      "\n",
      "The goal now is to achieve better results in this chapter. Sarehian arrived, and someone commented that Javad Ghaznavi had suggested that you made the right decision regarding the ring from Galgheh instead of other options.\n",
      "\n",
      "Additionally, there will be a half-hour visit to the reserve team and an unexpected presence at the candidate team for promotion to League 2.\n"
     ]
    },
    {
     "data": {
      "application/vnd.jupyter.widget-view+json": {
       "model_id": "086cbcc7aca94d51a00cd3f95e563090",
       "version_major": 2,
       "version_minor": 0
      },
      "text/plain": [
       "Batches:   0%|          | 0/1 [00:00<?, ?it/s]"
      ]
     },
     "metadata": {},
     "output_type": "display_data"
    },
    {
     "name": "stderr",
     "output_type": "stream",
     "text": [
      "2025-01-31 17:43:06,449 - Node Texts Length: 219, Summarized Text Length: 759\n",
      "2025-01-31 17:43:06,453 - Summarized Text: <think>\n",
      "Alright, so I need to summarize this text. Let me read through it again carefully.\n",
      "\n",
      "The text is in Persian and has a few lines:\n",
      "\n",
      "\"خدا را شکر در این بازی هم توانستیم به بازی برگردیم *در این بازی حارتان برد برد؟\n",
      "شراط خیلی خوب بود و آنجا پانزده بازی در نیم〖 Fezz حضور داشت\n",
      "خدا را شکر شرایط خوب است و اینجا با اکثر بچهها قبلا هم یک تیم بودم و البته بیشتر رفیق بودم\n",
      "خدا را شکر تیم خیلی خوبی داریم که جوی صمیمی دارد امکانات خیلی خوبی هم داریم\"\n",
      "\n",
      "First, I notice it's divided into lines. The first line is a bit unclear with the asterisk and possibly a typo: \"در این بازی حارتان برد برد؟\" which seems to be incomplete.\n",
      "\n",
      "I'll start by translating each part.\n",
      "\n",
      "1. The first line mentions \"خدا را شکر در این بازی هم توانستیم به بازی برگردیم,\" which translates to \"O ShKMERRA, in this game too we managed to return to the game.\" It's asking if they won.\n",
      "\n",
      "2. The second line talks about good conditions and having fifteen players in a half-hour period at that place.\n",
      "\n",
      "3. Then it says \"خدا را شکر شرایط خوب است\" meaning \"O ShKMERRA, the conditions are good.\"\n",
      "\n",
      "4. Next, \"و اینجا با اکثر بچهها قبلا یک تیم بودم و البته بیشتر رفیق بودم,\" translates to \"and I used to be with most of the kids from here and also was nicer.\"\n",
      "\n",
      "5. Finally, \"خدا را شکر تیم خیلی خوبی داریم که جوی صمیمی دارد امکانات خیلی خوبی هم داریم,\" meaning \"O ShKMERRA, we have an excellent team with a solid mentality and also great chances.\"\n",
      "\n",
      "So the overall context is about a friendly game night where despite being busy, they managed to play. They had good conditions, were well-organized with nicer kids, and a strong team setup.\n",
      "\n",
      "I need to make sure the summary captures all these points clearly in Persian without losing any detail. I should structure it in clear paragraphs: maybe start with the context of the game night, then talk about the conditions, their experience, and finally the team setup.\n",
      "</think>\n",
      "\n",
      "Text Summary:\n",
      "\n",
      "During an enjoyable evening at a local venue, a friendly game night was organized despite being quite busy. The conditions were excellent, allowing for fifteen players to take part within half an hour. The participants shared positive memories of previous gatherings with the same group. Their team was described as strong and well-organized, with a solid mentality and favorable chances ahead.\n"
     ]
    },
    {
     "data": {
      "application/vnd.jupyter.widget-view+json": {
       "model_id": "5b8b8e0c392d4e5ca6dcd26659abbe3a",
       "version_major": 2,
       "version_minor": 0
      },
      "text/plain": [
       "Batches:   0%|          | 0/1 [00:00<?, ?it/s]"
      ]
     },
     "metadata": {},
     "output_type": "display_data"
    },
    {
     "name": "stderr",
     "output_type": "stream",
     "text": [
      "2025-01-31 17:48:08,081 - Node Texts Length: 244, Summarized Text Length: 624\n",
      "2025-01-31 17:48:08,097 - Summarized Text: <think>\n",
      "Alright, I need to write a detailed summary of the provided text. Let's see what we've got here.\n",
      "\n",
      "The text is in Persian and seems to be about a public notice or announcement regarding something related to autumn harvest. The key points are:\n",
      "\n",
      "1. It mentions \"این دو بازی آغازین تو برای گلگاه چطور بود؟\" which translates to \"How were these two games for you at the apple orchard?\" indicating that there were two initial games in an apple orchard.\n",
      "\n",
      "2. The second part says \"این دو بازی هم به شرایط جدولی ما خیلی کمک کرد\" which translates to \"These two games also helped us a lot with our table conditions.\" So, the games contributed significantly to improving the tables at their location.\n",
      "\n",
      "3. The next lines are about the official unveiling (ronomie) of the fourth autumn harvest sale, noting that Sarehaysan is returning home on 8th November 2023, 21:03 hours. This seems to be a date and time in the Persian calendar system.\n",
      "\n",
      "4. The rest mentions \"بیفوما, چهره ویژه روز پایانی بازار زمستانه\" meaning \"A special face on the last day of the autumn market,\" suggesting that this day is particularly memorable or important for them. Then it talks about \"تیوی در سه راهی سرنوشتساز\" which might mean \"Tie in three ways to something serene,\" perhaps indicating a peaceful setting or activities.\n",
      "\n",
      "Putting it all together, I can summarize that the text is announcing the autumn harvest sale's official unveiling after Sarehaysan returns home. The event involves two initial games at an apple orchard that helped improve table arrangements. On this special day, there will be a serene atmosphere with ties to peaceful activities.\n",
      "</think>\n",
      "\n",
      "The text announces the official unveiling of the fourth autumn harvest sale (ronomie) as part of a public notice or announcement. It highlights that Sarehaysan has returned home on 8th November 2023 at 21:03 hours, which is likely in reference to the Iranian calendar system. The mention of \"بیفوما\" suggests anticipation for an eventful day, particularly noting a special face (riyadiat) associated with the last day of the autumn market, indicating significance or memorable moments during this period.\n",
      "\n",
      "Additionally, the text refers to two initial games held at the apple orchard, which contributed to improving table arrangements (شرایط جدولی). These events set the stage for what promises to be an important and serene day marked by ties to peaceful activities (\"تیوی در سه راهی سرنوشتساز\"), suggesting a tranquil atmosphere.\n"
     ]
    },
    {
     "data": {
      "application/vnd.jupyter.widget-view+json": {
       "model_id": "7cb16d2555bc4919ac944e2e051892bd",
       "version_major": 2,
       "version_minor": 0
      },
      "text/plain": [
       "Batches:   0%|          | 0/1 [00:00<?, ?it/s]"
      ]
     },
     "metadata": {},
     "output_type": "display_data"
    },
    {
     "name": "stderr",
     "output_type": "stream",
     "text": [
      "2025-01-31 17:48:13,416 - Constructing Layer 1\n",
      "i:\\AI_Project\\raptor\\.venv\\lib\\site-packages\\sklearn\\utils\\deprecation.py:151: FutureWarning: 'force_all_finite' was renamed to 'ensure_all_finite' in 1.6 and will be removed in 1.8.\n",
      "  warnings.warn(\n",
      "i:\\AI_Project\\raptor\\.venv\\lib\\site-packages\\sklearn\\utils\\deprecation.py:151: FutureWarning: 'force_all_finite' was renamed to 'ensure_all_finite' in 1.6 and will be removed in 1.8.\n",
      "  warnings.warn(\n",
      "2025-01-31 17:49:57,500 - Summarization Length: 100\n",
      "2025-01-31 18:04:51,096 - Node Texts Length: 3502, Summarized Text Length: 332\n",
      "2025-01-31 18:04:52,725 - Summarized Text: <think>\n",
      "Okay, I need to write a detailed summary based on the provided text about football players Hamid Reza Soltani and Ali Mousavi and their contract extension with Golestan. The text mentions various clauses like salary increment, performance bonuses, medical benefits, and international duty responsibilities. It also notes that these were agreed upon in a meeting but not publicly disclosed.\n",
      "\n",
      "Alright, so the summary needs to include all these points: the players' names, the club involved (Golestan), the contract extension details, specific terms mentioned—salary increases, performance bonuses, medical coverage, international duties—and that these were finalized in a meeting without public disclosure. I should structure this clearly, perhaps with each term as a bullet point under the contract extension.\n",
      "\n",
      "I need to ensure accuracy and clarity, making sure all key information is included concisely.\n",
      "</think>\n",
      "\n",
      "**Summary of Contract Extension Details for Golestan Football Players**\n",
      "\n",
      "Two prominent football players associated with Golestan have reportedly extended their contracts with the club. The agreement includes several substantial terms:\n",
      "\n",
      "1. **Salary Increment**: Both players have agreed to an increased salary package, reflecting their contributions and dedication.\n",
      "\n",
      "2. **Performance Bonuses**: Additional performance-based bonuses are included as a recognition of their exceptional performances during the season.\n",
      "\n",
      "3. **Medical Benefits**: Enhanced medical coverage has been provisioned to ensure optimal well-being and recovery for the players.\n",
      "\n",
      "4. **International Duty Responsibilities**: The players have also agreed to assume international duties, which will be supported byGolestan's organizational framework.\n",
      "\n",
      "These clauses were finalized following a meeting between the club and the players but have not been publicly disclosed.\n"
     ]
    },
    {
     "data": {
      "application/vnd.jupyter.widget-view+json": {
       "model_id": "748e47414edf4c8d9052c772c04d576d",
       "version_major": 2,
       "version_minor": 0
      },
      "text/plain": [
       "Batches:   0%|          | 0/1 [00:08<?, ?it/s]"
      ]
     },
     "metadata": {},
     "output_type": "display_data"
    },
    {
     "name": "stderr",
     "output_type": "stream",
     "text": [
      "2025-01-31 18:22:07,477 - Node Texts Length: 2773, Summarized Text Length: 726\n",
      "2025-01-31 18:22:09,136 - Summarized Text: <think>\n",
      "Alright, I need to write a detailed summary based on the given text. Let me start by reading through it carefully to understand all the key points. \n",
      "\n",
      "The text discusses米尔adian's role as an intermediary between Golestan Shahrjan and Golestan Qomayeh during the winter transfer window. He was included in two matches for Qomayeh, which shows his positivity and professionalism. It also mentions that the transfer window closed on Monday night (9 November), so any changes would only take effect from Tuesday morning. Additionally, other players like Parvandeh and Aslani were called up due to poor form in the first half of the season.\n",
      "\n",
      "I need to structure this summary into clear sections for better readability. Maybe start with米尔adian's role and his reception at Qomayeh, followed by the transfer window details and restrictions post-closure. Then mention other players who had their numbers changed because of their performance issues.\n",
      "\n",
      "Let me organize these points logically to ensure a coherent flow in the summary.\n",
      "</think>\n",
      "\n",
      "米尔adian在Golestan Shahrjan与Golestan Qomayeh的转会中发挥了关键作用，多次代表Qomayeh出战并获得了球队的认可。他的表现和态度得到了Qomayeh教练组的高度评价，被认为是球队前进的重要因素。米尔adian在与Qomayeh的比赛中展现了积极的态度和专业精神，这帮助球队保持了较高的竞技水平。\n",
      "\n",
      "Golestan Qomayeh在冬季转会窗口表现出色，米尔adian多次代表球队出战，为俱乐部赢得了更多的积分。他的表现得到了球队教练组的认可，他不仅是中场牵扯者，还是球队的重要屏障。此外，米尔adian还在赛后接受采访时对球队的表现表示满意，并期待未来的挑战。\n",
      "\n",
      "值得注意的是，Golestan Qomayeh的转会窗口在9月11日关闭，这意味着任何转会或合同变动必须从次日上午开始生效。在这个窗口期，有多名球员因队内表现不佳而被调整或离开球队。包括Parvandeh和Aslani在内的多球员因近期的糟糕状态而被俱乐部召入了名单。\n",
      "\n",
      "米尔adian的积极态度和专业精神不仅体现在比赛中，也体现在他对俱乐部未来发展的规划上。他的工作为Golestan Qomayeh在转会市场上的成功奠定了基础，同时也展现了他在职业足球领域的能力和智慧。\n"
     ]
    },
    {
     "data": {
      "application/vnd.jupyter.widget-view+json": {
       "model_id": "71cca4f10f7c4a29b741a2f2ddd11e4a",
       "version_major": 2,
       "version_minor": 0
      },
      "text/plain": [
       "Batches:   0%|          | 0/1 [00:03<?, ?it/s]"
      ]
     },
     "metadata": {},
     "output_type": "display_data"
    },
    {
     "name": "stderr",
     "output_type": "stream",
     "text": [
      "2025-01-31 18:34:58,057 - Node Texts Length: 1221, Summarized Text Length: 316\n",
      "2025-01-31 18:34:58,854 - Summarized Text: <think> Okay, I need to write a detailed summary of the given text about football matches and related news from November 8, 2003. The text includes several points: a match with 9 players, Peyman Booy on TV, an end-of-winter market day at a blue water park in Isfahan, and an incident involving an acceleration tape thrown onto the field during a football match.\n",
      "\n",
      "First, I'll read through each section carefully to understand the key events. The first part mentions a football match with 9 players but provides no further details. Next, it talks about Peyman Booy being featured on the evening news discussing the match. Then, there's information about an end-of-winter market day at a blue water park in Isfahan that closed and plans to reopen later. Finally, during one of these matches, a fan threw an acceleration tape onto the field, causing an accelerando stop.\n",
      "\n",
      "I need to create a coherent summary that covers all these points while ensuring each is clearly explained. I'll start with the match involving 9 players, then mention Peyman Booy's appearance. After that, I'll discuss the winter market incident and finally the acceleration tape incident.\n",
      "\n",
      "I should also note any specific details like dates or locations to make the summary accurate. Since there are no additional details provided for the first match beyond the number of players, I'll focus on the other two events with more information.\n",
      "\n",
      "Finally, I'll ensure that each section is concise and flows logically, providing a clear overview of the news from that day.\n"
     ]
    },
    {
     "data": {
      "application/vnd.jupyter.widget-view+json": {
       "model_id": "ab99556fccc9426c9553652d36d5cf2b",
       "version_major": 2,
       "version_minor": 0
      },
      "text/plain": [
       "Batches:   0%|          | 0/1 [00:06<?, ?it/s]"
      ]
     },
     "metadata": {},
     "output_type": "display_data"
    },
    {
     "name": "stderr",
     "output_type": "stream",
     "text": [
      "2025-01-31 18:53:49,917 - Node Texts Length: 734, Summarized Text Length: 1189\n",
      "2025-01-31 18:53:50,686 - Summarized Text: <think>\n",
      "Alright, I need to write a detailed summary of the given text. Let me read through it carefully first. The text begins with discussing an upcoming football match in the second half where they almost won by scoring three goals but unfortunately lost. The author expresses regret for not winning and decides to leave the team because there's no more help needed. They then mention other players like چریمیا, بلانکو, کاکوتو, رضامدین, میلادزکیپور, سامانفلاح, بیف omissio, and others, noting their current standings and struggles. The author also refers to other coaches like مطهری from Chapter 5 who is looking for a new team.\n",
      "\n",
      "So, the main points I need to capture are:\n",
      "1. The match loss in the second half despite scoring three goals.\n",
      "2. The regret for not winning and leaving the team because they can't help anymore.\n",
      "3. The current standings and struggles of other players mentioned.\n",
      "4. A brief mention of other coaches like مطهری who are seeking a new team.\n",
      "\n",
      "I should structure the summary to include these points, ensuring it's both concise and detailed enough to cover all aspects mentioned in the text. I'll also need to convey the emotional aspect (regret) and the current state of both the author's situation and others'. Additionally, mentioning the other coaches briefly will set the context for future decisions.\n",
      "\n",
      "Here’s how I can organize the summary:\n",
      "\n",
      "- Start with an overview of the match outcome.\n",
      "- Highlight the regret and decision to leave the team.\n",
      "- Discuss the current standings and struggles of other players.\n",
      "- Briefly mention other coaches and their intentions.\n",
      "\n",
      "I need to make sure each point flows logically into the next, maintaining clarity and coherence. Let me ensure that I capture all specific names and details mentioned, such as چریمیا, بلانکو, کاکوتو, رضامدین, میلادزکیپور, سامانفلاح, بیف omissiona, and مطهری.\n",
      "\n",
      "Additionally, I should avoid introducing new information not present in the text. The summary should be based solely on what's provided.\n",
      "\n",
      "Now, putting it all together while keeping each point distinct and well-explained.\n",
      "</think>\n",
      "\n",
      "در این قرآن، نویسنده در بخش دوم بازی فوتبال از یک بازی مEquality در حال حاضر خاطر انگیز شد که باید سه گل بزنید و برنده شود. با این حال، این روزهای پیش بZang game نتیجه گرفت، و آن را به طور منفی ت treating نمود. او متاسفانه برای خود این م spectre را انجام داد و تصمیم گرفت تا بازی را از بین برود، زیرا هیچ کمکی به پیشنهاد نمی شد. همچنین، در مورد سایر بازیکنانی مانند جواد چریمیا، بلانکو، کاکوتو، آرمان رمضانی و میلاد زکی پور بحث کرد و اشاره شد که این تیمها در حال حاضر برای عواقب میشودند. همچنین، نام نویسنده در حوزه بازیهای آستانه رezayi به عنوان یکی از تیمهای جذابی محسوب می شد. در نهایت، نویسنده ذکر کرد که مطهری در فصل بعدی به دنبال انتخاب تیم جدید بود و میبود گزینههای مختلفی را بررسی میکند.\n",
      "\n",
      "در خلاصه، نویسنده از یک بازی شر Uyghur در حال حاضر پرداخت و متاسفانه از این کار بZang نتیجه گرفت. او تصمیم گرفت تا بازی را از بین برود و تمرکز خود را بر دستیابی به هدف خود متمرکز کند. همچنین، نشان میدهد که سایر بازیکنان در حال حاضر در حال مواجهه با مشکلات و کمک نیاز دارند، و منظور از آن است که همه همگی به یک هدف مشترک برآیند.\n"
     ]
    },
    {
     "data": {
      "application/vnd.jupyter.widget-view+json": {
       "model_id": "5255e05948b94c188c5306427c185875",
       "version_major": 2,
       "version_minor": 0
      },
      "text/plain": [
       "Batches:   0%|          | 0/1 [00:03<?, ?it/s]"
      ]
     },
     "metadata": {},
     "output_type": "display_data"
    },
    {
     "name": "stderr",
     "output_type": "stream",
     "text": [
      "2025-01-31 18:58:55,248 - Node Texts Length: 309, Summarized Text Length: 371\n",
      "2025-01-31 18:58:55,369 - Summarized Text: <think>\n",
      "Alright, let's tackle this query step by step. The user has provided a text in Persian, which translates roughly to discussing an individual's proactive approach to selecting tasks aimed at positively impacting their future amidst competition. They want a detailed summary of about 150 words in English.\n",
      "\n",
      "First, I need to understand the main points of the text. It seems the person is in a competitive situation where teams are vying for leadership, gains, or points. However, they're determined to choose tasks that will have a positive impact on their future. The challenge here is to capture both the individual's intention and the competitive environment accurately.\n",
      "\n",
      "Next, I should consider the audience and context. It seems like this might be an academic or motivational piece, perhaps discussing strategic planning or personal development in a competitive setting. The user likely wants a concise yet comprehensive summary that highlights the key elements without unnecessary details.\n",
      "\n",
      "I also need to ensure that the translation is accurate from Persian to English while maintaining the original meaning. Additionally, the summary should flow naturally and be easy to understand, even for readers who may not be familiar with the context or terminology used in the original text.\n",
      "\n",
      "Finally, I'll structure the summary to first introduce the individual's proactive approach, then describe the competitive environment they're navigating, and conclude with their determination to achieve a positive impact on their future. Keeping it concise but thorough will meet the user's requirements.\n",
      "</think>\n",
      "\n",
      "The passage discusses an individual’s proactive approach to selecting tasks aimed at positively impacting their future. Despite a competitive environment where various teams are contesting for leadership or gains, this person is determined to choose strategic actions that align with their long-term goals and aspirations. The text highlights the challenge posed by the current situation, which requires careful consideration to ensure their efforts resonate constructively and leave a lasting positive impact on themselves in the future.\n"
     ]
    },
    {
     "data": {
      "application/vnd.jupyter.widget-view+json": {
       "model_id": "f014d05180624a0c9457a2badbf25f62",
       "version_major": 2,
       "version_minor": 0
      },
      "text/plain": [
       "Batches:   0%|          | 0/1 [00:04<?, ?it/s]"
      ]
     },
     "metadata": {},
     "output_type": "display_data"
    },
    {
     "name": "stderr",
     "output_type": "stream",
     "text": [
      "2025-01-31 19:07:50,032 - Node Texts Length: 1384, Summarized Text Length: 435\n",
      "2025-01-31 19:07:50,192 - Summarized Text: <think>\n",
      "Alright, let's tackle this query step by step. The user has provided a text in Persian and an English summary they want me to write. My goal is to create a detailed summary of the given text about football events, emphasizing tension, pressure, and ongoing developments like contract announcements.\n",
      "\n",
      "First, I need to understand the content thoroughly. The text discusses a football match with high stakes—both teams are focused on securing results as the final whistle approaches in the winter window. It mentions an announcement about the goalkeeper's contract extension as one of the ongoing developments. \n",
      "\n",
      "Next, I should consider what the user is asking for. They provided their own summary in English and now expect another detailed version. Perhaps they want to see if my response aligns with theirs or needs adjustments.\n",
      "\n",
      "I'll structure the summary by starting with the main theme: the tension and pressure during the match. Then, I'll move on to the minor but significant updates about the goalkeeper's contract extension. Finally, I'll mention the countdown to the final whistle as a key factor in the players' focus.\n",
      "\n",
      "Ensuring clarity and flow is essential. Each paragraph should cover one main idea without overlapping information. This way, the summary remains concise yet comprehensive, capturing all critical points from the text.\n",
      "</think>\n",
      "\n",
      "The text describes a football match played under intense tension and pressure, with both teams aware of the significance of securing a result as the final whistle approaches in the winter transfer window. The stakes are high, with each team determined to avoid defeat for reasons that could impact their positions or transfer dealings. Additionally, an announcement regarding the goalkeeper's contract extension is noted as one of the ongoing developments affecting team dynamics and player morale.\n",
      "\n",
      "The passage of time also adds urgency, with just hours remaining until the final whistle and the arrival of news about potential deals for players from other clubs. This creates a sense of immediacy in the match, as both teams continue to focus on their objectives. Despite the challenges posed by the high stakes, the goalkeeper's contract extension and the countdown to the end of the season window serve as critical factors influencing the players' performance and team strategies during the final moments of the game.\n"
     ]
    },
    {
     "data": {
      "application/vnd.jupyter.widget-view+json": {
       "model_id": "63d2afb293aa4388a9092bf29d11b1a0",
       "version_major": 2,
       "version_minor": 0
      },
      "text/plain": [
       "Batches:   0%|          | 0/1 [00:00<?, ?it/s]"
      ]
     },
     "metadata": {},
     "output_type": "display_data"
    },
    {
     "name": "stderr",
     "output_type": "stream",
     "text": [
      "2025-01-31 19:18:28,892 - Node Texts Length: 661, Summarized Text Length: 955\n",
      "2025-01-31 19:18:29,045 - Summarized Text: <think>\n",
      "Alright, so I need to help write a detailed summary of this text about Beivomaa, which is an Iranian football club. Let me start by reading through the provided text carefully to understand all the key points.\n",
      "\n",
      "First, Beivomaa started their season with a goal equaling Iran's national anthem, which was \"Ode to June 23.\" This seems like a strong opening and sets a positive tone for the team. They've also scored goals in matches against teams named Ardak Milan Esfahan, MAS Rafflesegan, and Ghaloom Sairsian in their history. These past performances show consistency and strength in attack.\n",
      "\n",
      "Moving on, Beivomaa has played several games this season, all of which they have scored in, including against Ardak Milan Esfahan, MAS Rafflesegan, and Ghaloom Sairsian. This indicates that their scoring ability is a key part of their game plan and contributes to their competitive standing within the league.\n",
      "\n",
      "The text mentions Wingering Franprix-Kongamo, Beivomaa's club based in Sirjan, and their contract extension after scoring the opening goal equaling Iran's anthem. The club aims to become a champion league club by earning 500,000 euros from fans in Khuzestan. This long-term vision suggests they're looking to elevate their status both geographically and financially.\n",
      "\n",
      "There's also talk about Ghaloom Sairsian expressing interest in Beivomaa through a bid led by Sirjanis. The club is considering moving to Sirjan, with negotiations ongoing between Beivomaa and the Khuzestan Independence Front. This could bring significant changes to the team's structure, fan base, and support system if the deal is finalized.\n",
      "\n",
      "I need to ensure that my summary includes all these points: their opening goal, past scoring achievements, current performance in games, contract extension, financial goals, and the ongoing negotiations regarding a potential relocation. I should present this information in a coherent and concise manner, highlighting Beivomaa's strengths and future aspirations.\n",
      "\n",
      "Let me structure it by first introducing Beivomaa's strong start to the season, followed by their past scoring successes. Then, I'll discuss their current performance, contract extension, financial goals, and finally touch on the potential relocation negotiations. This logical flow will make the summary easy to follow and comprehensive in covering all aspects of Beivomaa's situation.\n",
      "\n",
      "I should also use clear and concise language to avoid unnecessary jargon, ensuring that the summary is accessible even to those who may not be familiar with football terminology or the specific clubs involved. By focusing on key achievements and future plans without getting bogged down in minor details, the summary will effectively convey Beivomaa's current standing and aspirations.\n",
      "\n",
      "Finally, I'll review the summary to ensure it accurately reflects all information provided, maintains a logical flow, and covers each of the main points mentioned in the text. This way, anyone reading the summary can quickly grasp Beivomaa's progress and future potential.\n",
      "</think>\n",
      "\n",
      "**Beivomaa: A Journey Highlighting Achievements and Future Plans**\n",
      "\n",
      "Beivomaa, an Iranian football club based in Sirjan, kicked off their season with a remarkable goal equaling Iran's national anthem \"Ode to June 23,\" setting the tone for a promising campaign. Their history is marked by consistent scoring performances against prominent teams such as Ardak Milan Esfahan, MAS Rafflesegan, and Ghaloom Sairsian, showcasing their attacking prowess.\n",
      "\n",
      "In their current season, Beivomaa has continued this trend of excellence, scoring in key matches against Ardak Milan Esfahani, MAS Rafflesegan, and Ghaloom Sairsian, highlighting their ability to dominate the game. Their strong start has bolstered team morale and competitive spirit.\n",
      "\n",
      "Wingering Franprix-Kongamo's contract was extended for an additional two months after scoring that iconic goal equaling Iran's anthem, signaling a commitment to sustained success. The club's ambition is to elevate its status by earning 500,000 euros from fans in Khuzestan, aiming to achieve champion league recognition.\n",
      "\n",
      "Ghaloom Sairsian has expressed interest in Beivomaa through a bid led by Sirjanis, with negotiations ongoing between the club and the Khuzestan Independence Front. These discussions could lead to a potential relocation to Sirjan, altering the team's structure and support network significantly if finalized.\n",
      "\n",
      "In summary, Beivomaa's strong opening, past scoring successes, current performance, contract extension, financial goals, and ongoing relocation negotiations underscore their determination to achieve future milestones and elevate their status in the footballing community.\n"
     ]
    },
    {
     "data": {
      "application/vnd.jupyter.widget-view+json": {
       "model_id": "a6c97e4b284d41558b7f1981ac769c64",
       "version_major": 2,
       "version_minor": 0
      },
      "text/plain": [
       "Batches:   0%|          | 0/1 [00:01<?, ?it/s]"
      ]
     },
     "metadata": {},
     "output_type": "display_data"
    },
    {
     "name": "stderr",
     "output_type": "stream",
     "text": [
      "2025-01-31 19:34:00,348 - Node Texts Length: 3197, Summarized Text Length: 567\n",
      "2025-01-31 19:34:00,779 - Summarized Text: <think>\n",
      "Alright, so I need to write a detailed summary of this text. Let me first read through it carefully to understand the main points.\n",
      "\n",
      "The text starts with \"این دو بازی آغازین تو برای گلگاه چطور بود؟\" which translates to \"How were these two games for you at the apple orchard?\" It seems like there are two initial games at an apple orchard, and it's asking about their conditions. Then it says \"این دو بازی هم به شرایط جدولی ما خیلی کمک کرد\" meaning these two games also helped us a lot with our table conditions.\n",
      "\n",
      "Next, the text mentions \"ronomie\" which I think is the official unveiling of something. It says Sarehaysan will return home on 8th November at 21:03 hours in the Iranian calendar system. That's important as it's a specific date and time.\n",
      "\n",
      "Then there's \"بیفوما, چهره ویژه روز پایانی بازار زمستانه\" which translates to \"A special face on the last day of the autumn market.\" This suggests that this particular day is memorable or important for them. Following that, it mentions \"تیوی در سه راهی سرنوشتساز\" meaning \"Tie in three ways to something serene,\" implying a peaceful atmosphere.\n",
      "\n",
      "So putting it all together, I can summarize that the text is announcing an autumn harvest sale's official unveiling after Sarehaysan returns home on November 8 at 21:03. The event includes two initial games that improved table arrangements and marks a special day with ties to serene activities.\n",
      "\n",
      "I need to make sure the summary captures all these elements clearly without losing any important details.\n",
      "</think>\n",
      "\n",
      "The text announces the official unveiling of the fourth autumn harvest sale (ronomie) as part of an autumn market. It highlights that Sarehaysan has returned home on November 8, 2023, at 21:03 in the Iranian calendar system. The event includes two initial games held at the apple orchard, which contributed to improving table arrangements (شرایط جدولی). On this special day, referred to as \"بیفوما,\" there will be a ties-in with serene activities (\"تیوی در سه راهی سرنوشتساز\"), suggesting an tranquil atmosphere. This marks the last day of the autumn market, emphasizing its significance and memorable aspects for those involved in the event.\n"
     ]
    },
    {
     "data": {
      "application/vnd.jupyter.widget-view+json": {
       "model_id": "14704bf4be9b4750a01d782151aef6a2",
       "version_major": 2,
       "version_minor": 0
      },
      "text/plain": [
       "Batches:   0%|          | 0/1 [00:05<?, ?it/s]"
      ]
     },
     "metadata": {},
     "output_type": "display_data"
    },
    {
     "name": "stderr",
     "output_type": "stream",
     "text": [
      "2025-01-31 19:34:19,787 - Constructing Layer 2\n",
      "2025-01-31 19:34:20,040 - Stopping Layer construction: Cannot Create More Layers. Total Layers in tree: 2\n",
      "2025-01-31 19:34:24,316 - Successfully initialized TreeRetriever with Config \n",
      "        TreeRetrieverConfig:\n",
      "            Tokenizer: <Encoding 'cl100k_base'>\n",
      "            Threshold: 0.5\n",
      "            Top K: 5\n",
      "            Selection Mode: top_k\n",
      "            Context Embedding Model: EMB\n",
      "            Embedding Model: <__main__.SBertEmbeddingModel object at 0x000001F5FFA81180>\n",
      "            Num Layers: None\n",
      "            Start Layer: None\n",
      "        \n"
     ]
    }
   ],
   "source": [
    "from raptor import OllamaQAModelV2, OllamaSummarizationModelV2\n",
    "qa_llm = 'deepseek-r1:7b'\n",
    "qa_model = OllamaQAModelV2(model_name= qa_llm)\n",
    "summarization_llm = 'deepseek-r1:7b'\n",
    "summarization_model = OllamaSummarizationModelV2(model_name= summarization_llm)\n",
    "\n",
    "RAC = RetrievalAugmentationConfig(qa_model=qa_model, summarization_model=summarization_model, embedding_model=SBertEmbeddingModel())\n",
    "RA = RetrievalAugmentation(config=RAC)\n",
    "\n",
    "# construct the tree\n",
    "RA.add_documents(text)"
   ]
  },
  {
   "cell_type": "code",
   "execution_count": 5,
   "id": "a84d1836",
   "metadata": {},
   "outputs": [
    {
     "data": {
      "application/vnd.plotly.v1+json": {
       "config": {
        "plotlyServerURL": "https://plot.ly"
       },
       "data": [
        {
         "hoverinfo": "text",
         "marker": {
          "color": "#6175c1",
          "line": {
           "color": "rgb(50,50,50)",
           "width": 1
          },
          "size": 18,
          "symbol": "circle-dot"
         },
         "mode": "markers",
         "name": "nodes",
         "opacity": 0.8,
         "text": [
          "Node Index: -1, Node Text: TOP_ROOT_NODE",
          "Node Index: 124, Node Text: یک مهاجم وینگر فرانسوی-کنگویی به نام بیفوما، پس از گ<br>لزنی به استقلال تهران، قرارداد خود را به مدت دو فصل دیگر تمدید کرده است. او به ی<br>ک مهره درآمدزا برای استقلال خوزستان تبدیل شده و مدیران این باشگاه در تلاش هستند <br>با دریافت 500 هزار دلار، رضایت‌نامه این بازیکن را صادر کنند. این مهاجم 31 ساله، <br>برای فصل جدید در انتخاب‌های خود برتر به",
          "Node Index: 120, Node Text: مهران احمدی، بازیکن 27 ساله تیم خیبر خرم آباد، با ام<br>ضای قرارداد دو ساله به تیم استقلال پیوست و او ششمین خرید زمستانی تیم استقلال به <br>شمار می‌رود. <br><br>در یک بازی، مدافع با تجربه پرسپولیس در دیدار با سپاهان در دقیقه 35 به دلیل بی‌اح<br>تیاطی کارت قرمز دریافت کرد و زمین را ترک کرد. این اخراج منجر به",
          "Node Index: 49, Node Text: مدافع باتجربه پرسپولیس در مصاف با سپاهان بی‌احتیاطی ب<br>دهنگامی را انجام داد و در دقیقه 35 با کارت قرمز مواجه شد و از زمین بیرون رفت تا <br>دیدار با طلایی‌پوشان وارد فاز جدیدی شود",
          "Node Index: 53, Node Text: پرسپولیس همانند بازی رفت با تراکتور، پس از اخراج یک ب<br>ازیکنش، توانست به یک گل دیگر دست پیدا کند و با برد شیرین 2-0 در بالای جدول به وض<br>عیت خود سروسامان ببخشد",
          "Node Index: 37, Node Text:  مهران احمدی بازیکن 27 ساله تیم خیبرخرم آباد با عقد ق<br>راردادی دو ساله به استقلال پیوست  احمدی ششمین خرید زمستانی استقلال محسوب می‌شد",
          "Node Index: 114, Node Text: میلاد فخرالدینی، بازیکن باسابقه فوتبال ایران، در گفت<br>‌وگویی با «فوتبال 360» از وضعیت خود در تیم گل‌گهر سیرجان صحبت کرد. این تیم در با<br>زار نقل‌وانتقالات زمستانی عملکرد خوبی داشت و فخرالدینی را از شمس‌آذر قزوین به خد<br>مت گرفت تا به کادر مدافع خود به سرمربی مهدی تارتار، تقویت بیشتری ببخ",
          "Node Index: 0, Node Text: میلاد فخرالدینی در گفت‌وگو با «فوتبال 360»؛ با گل‌گهر <br>به آسیا فکر می‌کنیم 09 بهمن 1403 ساعت 08:00 6 نظر",
          "Node Index: 1, Node Text: به گزارش فوتبال 360، گل‌گهر سیرجان در بازار نقل‌وانتقا<br>لات زمستانی فوتبال ایران فعالیت خوبی داشت و در این فرایند، میلاد فخرالدینی بازیک<br>ن باسابقه تیم شمس‌آذر قزوین که در مدت اخیر برای تیم‌های متفاوتی بازی کرده را به <br>خدمت گرفت تا مهدی تارتار، یک مدافع‌ کنار باتجربه را به تیمش اضافه کند",
          "Node Index: 34, Node Text: به گزارش فوتبال 360، استقلال که در پنجره نقل‌وانتقالا<br>تی زمستان بسیار فعال نشان داد، در آخرین ساعات دوشنبه‌شب که آخرین روز مهلت نقل‌وا<br>نتقالات بود یک بازیکن دیگر هم جذب کرد",
          "Node Index: 3, Node Text: گل‌گهر در نیم‌فصل اول فقط مجید عیدی را در دفاع راست دا<br>شت و عملا ذخیره‌ای برای او نداشت و حالا با اضافه شدن میلاد فخرالدینی، تارتار از <br>این جناح خیال آسوده‌تری دارد و البته او در دو مسابقه اخیر این تیم در آغاز نیم‌فص<br>ل دوم به میدان رفت و در چنین شرایطی با او در فوتبال 360 گفت‌وگو داشتیم و درباره <br>وضعیتش در تیم جدیدش صحبت کردیم",
          "Node Index: 4, Node Text: میلاد فخرالدینی در گفت‌وگو با «فوتبال 360»؛ با گل‌گهر <br>به آسیا فکر می‌کنیم فخرالدینی از حضور در جمع شاگردان تارتار کاملا رضایت دارد",
          "Node Index: 74, Node Text: به گزارش فوتبال 360، پنجره نقل‌وانتقالات زمستانه به ر<br>وز پایانی کار خود رسیده و اگر بازیکنی بخواهد از تیمی جدا شود، باید تا پایان وقت <br>امروز بتواند فسخ قرارداد خود را بگیرد و از فردا (سه‌شنبه) فقط جابه‌جایی بازیکنان<br> آزاد مجاز خواهد بود و بازیکنان دارای قرارداد حتی در صورت فسخ قراردادشان هم نمی‌<br>توانند تغییر تیم بدهند",
          "Node Index: 45, Node Text: به گزارش فوتبال 360، پرسپولیس در مصاف حساس برابر تراک<br>تور به برتری شیرین 2 بر صفر دست یافت تا فاصله‌اش با این تیم در بالای جدول کاهش پ<br>یدا کند",
          "Node Index: 89, Node Text: به گزارش فوتبال 360، بازار نقل‌وانتقالات زمستانه فوتب<br>ال ایران روز گذشته و در دلِ حواشی پرشمار تقابل پرسپولیس - تراکتور، تحت‌تاثیر یک <br>خبر غیرمنتظره قرار گرفت؛ «امیرارسلان مطهری به نیروی زمینی تهران پیوست»",
          "Node Index: 58, Node Text: به گزارش فوتبال 360، استقلالی‌ها بعد از گذراندن یک نی<br>م‌فصل ناامیدکننده، با توپ پُر وارد بازار نقل‌وانتقالات زمستانه شدند و در گام نخس<br>ت، خط حمله استقلال تقویت شد؛ به‌طوری‌که جوئل کوجو و محمدرضا آزادی قرارداد خود با<br> استقلال را رسمی کردند تا سیمای خط حمله آبی‌پوشان نسبت به نیم‌فصل نخست دستخوش تغ<br>ییر و تحولی جدی شود",
          "Node Index: 123, Node Text: در شروع فصل، بازی اول برای تمامی تیم‌ها معمولاً دشوا<br>ر است، زیرا آن‌ها به مدت نزدیک به 20 روز از شرایط بازی دور بوده‌اند. پیروزی در ا<br>ین بازی‌ها بسیار مهم است و می‌تواند به تیم کمک زیادی کند.<br><br>امیرارسلان مطهری، که بعد از یک‌دهه حضور در سطح اول فوتبال ایران به شهرت رسیده بو<br>د، در سن 31 سالگی به طرز ناباورانه‌ای با یک سقوط آزاد روبرو شد",
          "Node Index: 88, Node Text: بعد از یک‌دهه حضور در سطح اول فوتبال ایران، امیرارسلا<br>ن مطهری در 31 سالگی یک سقوط آزاد ناباورانه را تجربه کرد و به یکی از تیم‌های در ح<br>ال سقوط به لیگ دو رفت",
          "Node Index: 5, Node Text: معمولا بازی اول برای همه تیم‌ها سخت است چون تیم‌ها نزد<br>یک به 20 روز از شرایط بازی دور بودند و بردن در بازی‌های اول خیلی مهم است و خیلی <br>به تیم کمک خواهد کرد",
          "Node Index: 109, Node Text: وینگر فرانسوی-کنگویی که اخیراً پس از گلزنی به استقلا<br>ل تهران، قرارداد خود را به مدت دو فصل دیگر تمدید کرد، به یک مهره درآمدزا برای اس<br>تقلال خوزستان تبدیل شده است. گفته می‌شود که مدیران باشگاه خوزستانی در تلاش هستند<br> تا با دریافت 500 هزار دلار، رضایت‌نامه این بازیکن به نام بیفوما را صادر کنند.<br><br>این مهاجم 31 ساله پس از یک نیم‌",
          "Node Index: 80, Node Text: وینگر فرانسوی-کنگویی که بعد از گلزنی برابر استقلال ته<br>ران، قرارداد خود را به مدت 2 فصل دیگر تمدید کرد، حالا به یک مهره درآمدزا برای اس<br>تقلال خوزستان تبدیل شده و گفته می‌شود که مدیران باشگاه خوزستانی درصدد آن هستند ت<br>ا با دریافت 500 هزار دلار، رضایت‌نامه بیفوما را صادر کنند",
          "Node Index: 99, Node Text: مطهری در طول یک‌دهه اخیر نزدیک به 300 بازی در لیگ برت<br>ر، جام حذفی، لیگ قهرمانان آسیا و سوپرجام فوتبال ایران با لباس تیم‌های نفت تهران،<br> ذوب‌آهن اصفهان، استقلال تهران و تراکتور تبریز انجام داد که 64 گل از جمله 4 گل ا<br>و در داربی پایتخت در کارنامه این مهاجم گلزن دیده می‌شود و روی 25 گل هم در نقش گل<br>‌ساز یا پنالتی‌گیر درخشیده تا جمعاً روی 89 گل موثر باشد",
          "Node Index: 96, Node Text: مهاجم 31 ساله بعد از یک نیم‌فصل خانه‌نشینی، نه‌تنها ب<br>ازهم در انتخاب تیم لیگ برتری موفق نبود بلکه راه یکی از تیم‌های بحران‌زده لیگ آزا<br>دگان را در پیش گرفت و به نیروی زمینی تهران پیوست؛ تیمی که از 18 بازی در این فصل <br>فقط 12 امتیاز به‌دست آورده و در رتبه شانزدهم جدول 18 تیمی لیگ آزادگان است و در م<br>سیر سقوط به لیگ دسته دوم قرار دارد",
          "Node Index: 125, Node Text: In a recent football match, a player who had only pr<br>acticed with the team for one day prior was unexpectedly trusted by the coaching<br> staff to play, contributing to a surprising victory for the team. At the beginn<br>ing of the season, this player had chosen to join Shams Azar just one day before<br> the transfer window closed, largely due to friendships with teammates. The play<br>er expressed a strong desire to achieve positive results in the upcoming three m<br>atches, aiming to improve their position in the league standings and secure a sp<br>ot",
          "Node Index: 104, Node Text: In a recent football match, a player who had only pr<br>acticed for one day prior was surprisingly trusted by the coaching staff to play<br>, which resulted in a victory for the team. At the beginning of the season, the <br>player chose Shams Azar just one day before the transfer window closed, primaril<br>y because friends were on that team. The player expressed hope to achieve positi<br>ve results in the next three games to improve their standings in the league tabl<br>e, with a particular focus on securing a spot in the Asian tournaments",
          "Node Index: 32, Node Text:  انشالله بتوانیم در سه بازی بعدی نتیجه لازم را بگیریم<br> و شرایط خودمان را در جدول بهتر کنیم و قطعا یک نیم‌نگاه ویژه به سهمیه آسیایی دار<br>یم",
          "Node Index: 98, Node Text:  سقوط آزاد امیرارسلان مطهری از یک تیم مدعی در لیگ برت<br>ر به تیمی در قعر جدول لیگ آزادگان، آن‌هم در فاصله کمتر از یک فصل، ناباورانه و عج<br>یب است",
          "Node Index: 7, Node Text:  در بازی قبلی که من فقط یک روز تمرین کرده بودم و باز، <br>کادرفنی به من اعتماد کردند و به من بازی دادند که توانستیم آن مسابقه را ببریم",
          "Node Index: 43, Node Text: پرسپولیس برای سومین‌بار در این فصل مقابل یک تیم شناخت<br>ه‌شده اخراجی داد و مجبور شد دقایق قابل توجهی را با یک بازیکن کم‌تر ادامه دهد",
          "Node Index: 19, Node Text: من در ابتدای فصل، فکر می‌کنم تنها یک روز قبل از پایان<br> نقل‌وانتقالات شمس‌آذر را انتخاب کردم چون دوستانم آنجا بودند",
          "Node Index: 92, Node Text: سقوط آزاد ناباورانه امیرارسلان در فوتبال ایران؛ «به ک<br>جا چنین شتابان آقای گیتاریست؟» شورش امیرارسلان علیه محبوبیت نزد آبی‌ها",
          "Node Index: 108, Node Text: Following an agreement, Saleh Hardani, who moved fro<br>m Esteghlal to Sepahan at the beginning of the season, has returned to the capit<br>al's blue team. In exchange, Milad Zaki-Pour, who joined Esteghlal before the st<br>art of the 24th league, has rejoined Sepahan to continue his season under coach <br>Patrice Carteron.<br><br>Armin Sohrabian has become Esteghlal's fourth winter signing after Joel Kojo, Mo<br>hammad Reza Azadi,",
          "Node Index: 100, Node Text: با این وجود، او حالا دیگر قرار نیست در سطح فوتبال ای<br>ران بازی کند و باید دید بعد از حضور در نیروی زمینی، مطهریِ 31 ساله احیا می‌شود و<br> دوباره به چرخه بازیکنان لیگ برتری باز می‌گردد یا سقوط آزاد او شتاب می‌گیرد و رف<br>ته‌رفته رسماً از صحنه فوتبال ایران کنار می‌رود",
          "Node Index: 67, Node Text: سهرابیان بعد از جوئل کوجو، محمدرضا آزادی و صالح حردان<br>ی، چهارمین خرید زمستانی استقلال محسوب می‌شود و با توجه به جذب آرمین سهرابیان، به<br> نظر می‌رسد که فرآیند انتقال عارف غلامی به استقلال منتفی شده باشد",
          "Node Index: 85, Node Text: با این اوصاف، پروسه انتقال بیفوما به استقلال تهران پی<br>چیده‌تر از 2 تیم دیگر به نظر می‌رسد اما با این وجود، احتمالاً طی ساعات آینده خبر<br> جدایی بیفوما از استقلال خوزستان به صورت رسمی اعلام خواهد شد و باید دید از میان <br>3 مقصد مذکور، ستاره گلزن و گل‌ساز آبی‌پوشان اهوازی کدام تیم را انتخاب می‌کند",
          "Node Index: 61, Node Text: براساس توافق انجام‌شده، صالح حردانی که در ابتدای فصل <br>از استقلال به سپاهان رفته بود، مجدداً به جمع آبی‌پوشان پایتخت بازگشت و در سوی مق<br>ابل، میلاد زکی‌پور که پیش از شروع لیگ بیست‌وچهارم آبی‌پوش شده بود، مجدداً به سپا<br>هان بازگشت تا در ادامه فصل جاری کارش را در جمع شاگردان پاتریس کارترون دنبال کند",
          "Node Index: 119, Node Text: In the winter transfer window, significant developme<br>nts occurred for Iranian football clubs, notably for Persepolis and Esteghlal. A<br>s of February 8, 1403 (Jan 28, 2025), there were key updates:<br><br>1. **Esteghlal's Transfer Activity**: Esteghlal made headlines by officially unv<br>eiling their fourth winter signing, with Sahrabian returning to the team. Additi<br>onally, a player named BiFoMa emerged as a notable figure on the final day of th<br>e transfer",
          "Node Index: 33, Node Text: پایان روز پرماجرای آبی‌ها در بازار زمستانه؛ احمدی آبی<br>‌پوش شد، محمدی بازگشت 09 بهمن 1403 ساعت 01:00 46 نظر",
          "Node Index: 72, Node Text: بیفوما، چهره ویژه روز پایانی بازار زمستانه؛ تیوی در س<br>ه راهی سرنوشت‌ساز 08 بهمن 1403 ساعت 09:30 60 نظر",
          "Node Index: 41, Node Text: تنها نقطه تاریک پرسپولیس در مصاف با تراکتور؛ بازهم کا<br>رت قرمز در یک بازی حساس 08 بهمن 1403 ساعت 20:30 212 نظر",
          "Node Index: 42, Node Text: تنها نقطه تاریک پرسپولیس در مصاف با تراکتور؛ بازهم کا<br>رت قرمز در یک بازی حساس",
          "Node Index: 52, Node Text: هافبک 25 ساله پرسپولیس در سومین بازی حساس این فصل با <br>اشتباهی بدهنگام تیمش را در نیمه نخست 10 نفره کرد",
          "Node Index: 87, Node Text: سقوط آزاد ناباورانه امیرارسلان در فوتبال ایران؛ «به ک<br>جا چنین شتابان آقای گیتاریست؟» 08 بهمن 1403 ساعت 10:00 75 نظر",
          "Node Index: 56, Node Text: رونمایی رسمی از چهارمین خرید زمستانی استقلال؛ سهرابیا<br>ن به خانه بازگشت 08 بهمن 1403 ساعت 21:03 372 نظر",
          "Node Index: 95, Node Text:  به‌ویژه آنکه او پیشتر با عدم فسخ قرارداد خود، سد راه<br> حضور کاوه رضایی هم در جمع آبی‌پوشان شده بود",
          "Node Index: 126, Node Text: در گزارشی از فعالیت‌های اخیر باشگاه‌های فوتبال ایران<br>، سعید دقیقی، هم‌تیمی و هم‌بازی قدیمی، به تیم شمس‌آذر برای کمک پیوست. رقابت‌ها د<br>ر این فصل دشوارتر از همیشه بوده و تیم‌ها به هم نزدیک شده‌اند، به طوری که کسب هر <br>امتیاز از هر تیم بسیار سخت است. <br><br>در بازار نقل و انتقالات زمستانه، روز پرماجرایی برای تیم استقلال رقم خورد که",
          "Node Index: 102, Node Text: سعید دقیقی، هم‌تیمی و هم‌بازی قدیمی، پس از صحبت‌ها، <br>متوجه شد که به کمک نیاز دارند و برای یاری به تیم شمس‌آذر رفت. بازی‌های امسال فوت<br>بال بسیار سخت شده و تیم‌ها به هم نزدیک شده‌اند، به طوری که کسب هر امتیاز از هر ت<br>یم دشوار است. <br><br>در بازار نقل و انتقالات زمستانه، روز پرماجرای آبی‌ها با انتقال احمدی به استقلال",
          "Node Index: 35, Node Text: پایان روز پرماجرای آبی‌ها در بازار زمستانه؛ احمدی آبی<br>‌پوش شد، محمدی بازگشت مهران احمدی، ششمین خرید زمستانی استقلال محسوب می‌شود",
          "Node Index: 36, Node Text: صالح حردانی، محمدرضا آزادی، آرمین سهرابیان، جوئل کوجو<br>؛ مهران احمدی و ابوالفضل زلیخایی بازیکنانی بودند که استقلال موفق به جذب آنها شد",
          "Node Index: 69, Node Text: سهرابیان در شرایطی با استقلال به توافق رسید که او هم <br>توانایی بازی در پست دفاع میانی و هم در پست دفاع چپ را دارد",
          "Node Index: 20, Node Text:  سعید دقیقی، هم‌تیمی و هم‌بازی قدیمی من بودند و پس از<br> صحبتی که داشتم، متوجه شدم به من نیاز دارند و رفتم برای کمک کردن به شمس‌آذر",
          "Node Index: 60, Node Text:  در شرایطی کوجو و آزادی آبی‌پوش شدند که در سوی مقابل،<br> آرمان رمضانی و گوستاوو بلانکو قراردادشان با استقلال را فسخ کردند",
          "Node Index: 30, Node Text:  بازی‌های امسال خیلی سخت شدند و یعنی همه تیم‌ها به یک<br>دیگر نزدیک شدند و امتیاز گرفتن از هر تیم در حد یک امتیاز هم سخت است",
          "Node Index: 107, Node Text: در روزهای اخیر مذاکراتی میان مدیران باشگاه‌های استقل<br>ال و نساجی برای انتقال آرمین سهرابیان انجام شد که در نهایت منجر به این انتقال گر<br>دید. سهرابیان که در ابتدای فصل بازیکن استقلال بود، پس از یک جدایی پرماجرا به نسا<br>جی رفته بود و اکنون با قراردادی یک سال و نیمه دوباره به جمع آبی‌پوشان پایتخت باز<br>گشته است.<br><br>",
          "Node Index: 64, Node Text: در روزهای گذشته رایزنی‌های گسترده‌ای میان مدیران باشگ<br>اه استقلال و نساجی برای انتقال آرمین سهرابیان انجام شده بود که سرانجام جابه‌جایی<br> سهرابیان رسمی شد؛ آن‌هم در شرایطی‌که این مدافع باتجربه در ابتدای فصل عضو استقلا<br>ل بود اما جدایی پرماجرایی از استقلال به مقصد نساجی داشت و حالا او بعد از رایزنی‌<br>های انجام‌شده دوباره با قراردادی یک سال و نیمه به جمع آبی‌پوشان پایتخت بازگشت",
          "Node Index: 70, Node Text: البته که مدیران باشگاه درصدد آن هستند تا قرارداد مسعو<br>د جمعه را به صورت توافقی فسخ کنند؛ چرا که براساس آخرین خبرها، جمعه عملکرد قابل‌ق<br>بولی نداشته و همین مسئله باعث شده تا مدیران باشگاه استقلال به دنبال قطع همکاری ب<br>ا او و جذب بازیکن خارجی باکیفیت‌تر نسبت به جمعه باشند",
          "Node Index: 76, Node Text: تیوی بیفوما، وینگر-مهاجم استقلال خوزستان که در ابتدای<br> فصل به جمع آبی‌پوشان اهوازی پیوست، بعد از گذراندن یک نیم‌فصل پرماجرا در استقلال<br> خوزستان، حالا توجهات را بیش از پیش به سوی خود جلب کرده است؛ به‌طوری‌که می‌توان <br>از بیفوما به عنوان یکی از چهره‌های ویژه بازار زمستانه یاد کرد و از همان روز آغاز<br>ین فعالیت پنجره زمستانه، خبرهای ضدونقیض و پرشماری درباره آینده کاری تیوی بیفوما <br>به گوش می‌رسید که همچنان هم ادامه دارد و به نظر می‌رسد که او در جمع آبی‌پوشان اه<br>وازی ماندنی نیست",
          "Node Index: 91, Node Text: امیرارسلان مطهری فصل گذشته و بعد از عدم رضایت جواد نک<br>ونام از سطح فنی او، راهی تراکتور تبریز شد و به نظر می‌رسید که بتواند در جمع سرخ‌<br>پوشان تبریزی، عرض‌اندام کند و به روزهای خوبش بازگردد اما شرایط کاملاً برخلاف تصو<br>رات پیش رفت؛ به‌طوری‌که مطهری در 8 بازی برای تراکتور در لیگ برتر و جام حذفی فقط <br>192 دقیقه فرصت بازی به‌دست آورد که در این فرصت هم او که در نقش گلزن درخشید و نه <br>در قامت گل‌ساز چهره موفقی بود تا پایان کابوس‌واری را در لیگ بیست‌وسوم تجربه کند",
          "Node Index: 93, Node Text: البته تمرکز اصلی امیرارسلان مطهری، محکوم‌کردن باشگاه <br>استقلال در دادگاه‌های بین‌المللی بود و او امید داشت که بتواند غرامت سنگینی از آب<br>ی‌ها بگیرد که این اصرار او به محکوم‌کردن آبی‌ها به مذاق هواداران استقلال خوش نیا<br>مد و مطهری که یکی از چهره‌های محبوب خط حمله استقلال در یک‌دهه اخیر بود، به سرعت <br>محبوبیت خود نزد آبی‌ها را از دست داد",
          "Node Index: 111, Node Text: در نیمه دوم بازی اخیر، تیم می‌توانست سه گل بزند و بر<br>نده شود، اما متأسفانه بازی مساوی شد و به رغم این قضایا، شکر خدا بازی را نباختیم.<br> در بازی مقابل ملوان، اتفاقات عجیبی رخ داد و ملوان با 9 نفر به پایان بازی رسید. <br>درباره این مسابقه نکات جالبی وجود دارد.<br><br>من تصمیم خود را گرفته‌ام که جوان‌ترها اکنون باید به تیم کمک",
          "Node Index: 38, Node Text:  در آن‌سو گوستاوو بلانکو، گائل کاکوتا، آرمان رمضانی و<br> میلاد زکی‌پور از استقلال جدا شدند  سامان فلاح هم به صورت قرضی به ملوان رفت",
          "Node Index: 10, Node Text: در نیمه دوم می‌توانستیم 3 گل بزنیم و برنده باشیم اما <br>متاسفانه نشد و بازی مساوی شد  خدا را شکر با همه این‌ها بازی را نباختیم",
          "Node Index: 11, Node Text: *در بازی با ملوان بحث‌های عجیبی صورت گرفت و ملوان 9 ن<br>فره شد، از اتفاقات آن مسابقه صحبت کنیم",
          "Node Index: 78, Node Text: تیوی بیفوما بعد از ثبت 3 گل و 3 پاس گل، حالا در کانون<br> توجهات قرار گرفته و در مسیر جدایی از استقلال خوزستان است و تلاش‌های زیادی از اب<br>تدای پنجره زمستانی برای تحقق این مسئله انجام داده است",
          "Node Index: 24, Node Text:  من دیگر تصمیمم را گرفته بودم و رفتم  به هر حال جوان‌<br>ها الان باید به تیم کمک کنند و آرزوی موفقیت برای این تیم خوب و جوان دارم",
          "Node Index: 113, Node Text: متن شامل تصمیم یک فرد برای جدایی از تیم خود است، زما<br>نی که احساس کرده نمی‌تواند به آن کمک کند. او این تصمیم را گرفته و اقداماتی را در<br> این زمینه انجام داده است. این فرد به تیم بسیار محبت‌آمیز اشاره کرده و امیدوار ا<br>ست که آنها بهترین نتایج را کسب کنند.<br><br>سپس سؤالی درباره ادامه فصل و کار با آقای تارتار در سیرجان می‌شود. در ادامه، خبر <br>از بازگشت آرمین س",
          "Node Index: 25, Node Text:  تیمی بسیار دوست‌داشتنی است و انشالله بهترین نتایج را<br> بتوانند بگیرند *نظرت درباره ادامه فصل و کار کردن با آقای تارتار در سیرجان چیست؟",
          "Node Index: 59, Node Text: براساس توافق انجام‌شده میان دو باشگاه استقلال و نساجی<br>، آرمین سهرابیان به جمع آبی‌پوشان پایتخت بازگشت و شاگرد پیتسو موسیمانه شد",
          "Node Index: 94, Node Text: مطهری از ابتدای فصل به دنبال انتخاب تیم جدید بود و نا<br>م او در حوالی تیم‌های مختلف از جمله هوادار و مس رفسنجان به گوش می‌رسید",
          "Node Index: 23, Node Text:  من دیگر تصمیم را گرفته بودم و جایی که دیگر نتوانم کم<br>ک کنم، ترجیح می‌دهم از تیم جدا شوند  من این تصمیم را گرفتم و کارهایش را انجام دا<br>دیم",
          "Node Index: 115, Node Text: سروش رفیعی با رونمایی رسمی از چهارمین خرید زمستانی ب<br>اشگاه استقلال به تیم خود بازگشت. این انتقال شامل بازگشت آرمین سهرابیان به استقلا<br>ل نیز می‌شود. این خبر به معنای آغاز فصل جدیدی برای سهرابیان در این تیم و خداحافظ<br>ی از روزهای روشن قبلی‌اش است. این انتقالات نشان‌دهنده تغییرات در ترکیب استقلال و<br> تمرکز بر تقویت تیم در نیم‌",
          "Node Index: 57, Node Text: رونمایی رسمی از چهارمین خرید زمستانی استقلال؛ سهرابیا<br>ن به خانه بازگشت",
          "Node Index: 101, Node Text: روزهای روشن، خداحافظ",
          "Node Index: 63, Node Text: رسمی‌شدن بازگشت آرمین به استقلال",
          "Node Index: 47, Node Text: سروش رفیعی",
          "Node Index: 118, Node Text: در نیم‌فصل، شرایط برای من بسیار خوب بود و در این مدت<br> پانزده بازی انجام دادم. در آخرین روز بازار زمستانه، بیفوما به عنوان یک چهره ویژ<br>ه توجه‌ها را به خود جلب کرد. همچنین تیوی نیز در موقعیتی سرنوشت‌ساز قرار داشت. پس<br> از یک نیم‌فصل خانه‌نشینی، به طور ناگهانی به یک تیم کاندیدای سقوط به لیگ 2 پیوست<br>م",
          "Node Index: 73, Node Text: بیفوما، چهره ویژه روز پایانی بازار زمستانه؛ تیوی در س<br>ه راهی سرنوشت‌ساز",
          "Node Index: 22, Node Text:  شرایط خیلی خوب بود و آنجا پانزده بازی در نیم‌فصل حضو<br>ر داشتم",
          "Node Index: 97, Node Text: نیم‌فصل خانه‌نشینی و ناگهان حضور در تیم کاندیدای سقوط<br> به لیگ 2",
          "Node Index: 127, Node Text: این متن به تحلیل اتفاقات اخیر در دنیای فوتبال و تأثی<br>رات آن بر تیم‌ها و بازیکنان پرداخته است. نکته مورد تأکید این است که در فوتبال، ه<br>مواره رویدادهای غیرمنتظره‌ای رخ می‌دهد و بازیکنان تحت فشار زیادی هستند زیرا همه <br>تیم‌ها به دنبال کسب نتایج مطلوب‌اند.<br><br>به‌ویژه به عملکرد تیم آبی‌پوشان اشاره شده که پس از جذب بازیکنانی",
          "Node Index: 105, Node Text: در این متن به تحلیل و بررسی اتفاقات بازی فوتبال پردا<br>خته شده است. تأکید شده که در دنیای فوتبال، همواره اتفاقات غیرمنتظره‌ای پیش می‌آی<br>د و بازیکنان تحت فشار زیادی قرار دارند زیرا همه تیم‌ها به دنبال کسب نتیجه هستند.<br> <br><br>علاوه بر این، اشاره شده که تیم آبی‌پوشان پس از جذب بازیکنانی نظیر جوئل کوجو، محم<br>درضا آزادی، و صالح ح",
          "Node Index: 65, Node Text: آبی‌پوشان بعد از جذب جوئل کوجو، محمدرضا آزادی و صالح <br>حردانی، به دنبال تقویت فهرست خود در روز پایانی فعالیت پنجره زمستانه بودند",
          "Node Index: 12, Node Text: در مورد اتفاقات بازی، هم واضح است که این فوتبال است و<br> همیشه اتفاقاتی پیش می‌آید  همه به دنبال نتیجه گرفتن هستند و فشار روی بازیکنان ز<br>یاد است",
          "Node Index: 79, Node Text:  حالا در ساعت حساس مانده تا لحظه پایان مهلت فعالیت تی<br>م‌ها در پنجره زمستانه، خبرهای ضدونقیضی از آینده بازیکنان مختلف به گوش می‌رسد",
          "Node Index: 106, Node Text: در یکی از بازی‌های اخیر تیم فوتبال پایتخت‌نشین، محمد<br> خدابنده‌لو به طور زودهنگام اخراج شد که منجر به این شد که تیم مجبور باشد یک نیمه<br> را با یک بازیکن کمتر بازی کند. این اخراج اولین کارت قرمز سرخ‌پوشان در دیدارهای <br>مهم این فصل نبود.<br><br>همچنین، آرمین سهرابیان که در ترکیب نساجی برابر آلومینیوم ا",
          "Node Index: 66, Node Text: آرمین سهرابیان که امروز در ترکیب نساجی برابر آلومینیو<br>م اراک هم به میدان رفت، بعد از انجام این بازی، رسماً از جمع قرمزپوشان قائمشهری ج<br>دا شد و با امضای قراردادی رسمی به استقلال بازگشت تا در ادامه لیگ بیست‌وچهارم کار<br>ش را در جمع آبی‌پوشان پایتخت ادامه بدهد",
          "Node Index: 44, Node Text: یکی از معدود نکات تاریک این بازی برای تیم پایتخت‌نشین<br> اخراج زودهنگام محمد خدابنده‌لو بود که باعث شد این تیم یک نیمه را با یک بازیکن ک<br>متر بازی کند و عجیب است که این اخراج، اولین کارت قرمزی نبود که سرخ‌پوشان در دیدا<br>رهای مهم این فصل دریافت می‌کردند",
          "Node Index: 77, Node Text: بیفوما که کار خود در فوتبال ایران را با گلزنی برابر ا<br>ستقلال تهران آغاز کرد، سابقه گلزنی برابر شمس‌آذر قزوین و مس رفسنجان را هم دارد و<br> در نقش گل‌ساز مقابل تیم‌های چادرملو اردکان، مس رفسنجان و گل‌گهر سیرجان هم درخشی<br>ده و هفته گذشته، روی گل تیمش برابر آلومینیوم اراک هم نقش‌آفرین بود",
          "Node Index: 81, Node Text: البته که خواسته‌های مالی خودِ این بازیکن باعث شده تا <br>پروسه جدایی‌اش از تیم خوزستانی پیچیده شود اما حالا در روز پایانی فعالیت بازار زم<br>ستانه، گفته می‌شود که تیوی بیفوما در آستانه جدایی از استقلال خوزستان است",
          "Node Index: 82, Node Text: گل‌گهر سیرجان، تیم دست به نقد برای خرید تیوی بیفوما ا<br>ست و گفته می‌شود مطابق با درخواست مهدی تارتار، سیرجانی‌ها وارد مذاکره با بیفوما <br>و باشگاه استقلال خوزستان شده‌اند و اگر در زمینه مسائل مالی به توافق برسند، انتقا<br>ل بیفوما به جمع سرمه‌ای‌پوشان سیرجانی دور از ذهن نیست",
          "Node Index: 90, Node Text: مهاجم اسبق استقلال که یکی از برترین گلزنان تاریخ دارب<br>ی پایتخت محسوب می‌شود، در نیم‌فصل نخست خانه‌نشین بود و به نظر می‌رسید که در نیم‌<br>فصل دوم به چرخه بازیکنان لیگ برتری بازگردد اما مسیری که مطهری در پیش گرفت، غیرقا<br>بل پیش‌بینی بود",
          "Node Index: 117, Node Text: یک بازیکن در مصاحبه‌ای درباره دو بازی آغازین خود برا<br>ی تیم گل‌گهر صحبت کرده و اظهار داشته است که این دو بازی به شرایط جدول تیم کمک کر<br>ده‌اند. او از توانایی تیم برای بازگشت به وضعیت بازی و کسب پیروزی در این دو مسابق<br>ه ابراز رضایت کرده و اشاره کرده که حق تیم برای بردن در این بازی‌ها محفوظ بوده اس<br>ت.<br><br>او همچنین به شرایط خوب خود اشاره می‌کند و بیان می‌کند که با اکثر باز",
          "Node Index: 9, Node Text:  خدا را شکر در این بازی هم توانستیم به بازی برگردیم *د<br>ر این بازی حقتان برد بود؟",
          "Node Index: 26, Node Text: خدا را شکر شرایطم خوب است و اینجا با اکثر بچه‌‎ها قبل<br>ا هم‌تیمی بودم و البته بیشتر رفیق بودم",
          "Node Index: 27, Node Text:  خدا را شکر تیم خیلی خوبی داریم که جوی صمیمی دارد  ام<br>کانات خیلی خوبی هم داریم",
          "Node Index: 6, Node Text: *این دو بازی آغازین تو برای گل‌گهر چطور بود؟  این دو ب<br>ازی هم به شرایط جدولی ما خیلی کمک کرد",
          "Node Index: 122, Node Text: در دیدار رفت بین پرسپولیس و تراکتور، هافبک باتجربه پ<br>رسپولیس در دقیقه 76 به دلیل تصمیم جنجالی داور وحید کاظمی از زمین اخراج شد. این ا<br>تفاق در حالی رخ داد که تیم پرسپولیس، زیر نظر خوان‌کارلوس گاریدو، با یک گل عقب بو<br>د. با این حال، پرسپولیس با یک بازگشت فوق‌العاده موفق شد در",
          "Node Index: 48, Node Text:  با این حال تیم تهرانی بازگشت فوق‌العاده‌ای به بازی د<br>اشت و موفق شد در دقیقه 89 توسط ایوب العملود از شکست فرار کند و با امتیاز به خانه<br> بازگردد",
          "Node Index: 86, Node Text: آبی‌های خوزستانی 500 هزار دلار می‌خواهند شانس گل‌گهر <br>برای جذب بیفوما؛ بیشتر از همه رقبا پیشنهاد استقلال هم روی میز است اما ",
          "Node Index: 46, Node Text: هافبک باتجربه پرسپولیس در دقیقه 76 دیدار رفت برابر تر<br>اکتور توسط وحید کاظمی و طی تصمیمی جنجالی از زمین اخراج شد و این اتفاق در حالی رخ<br> داد که تیم تحت هدایت خوان‌کارلوس گاریدو با یک گل عقب بود",
          "Node Index: 128, Node Text: In this conversation, several peripheral topics were<br> mentioned that do not seem to have caused any specific issues in the match. The<br> person in question, when asked why they accepted Gol Gohar's offer, stated that<br> they are looking for improvement and are trying to make choices that will be ef<br>fective for their future. They also mentioned their efforts to align with the he<br>ad coach's thoughts.<br><br>In recent years, the club and the team in question have demonstrated that they a<br>re a prominent club with the necessary facilities to elevate",
          "Node Index: 103, Node Text: در این گفت‌وگو، به چند موضوع حاشیه‌ای اشاره شده که ب<br>ه نظر نمی‌رسد مشکلی خاص در بازی بوجود آورده باشند. شخص مورد نظر در پاسخ به این س<br>ؤال که چرا پیشنهاد گل‌گهر را قبول کرده، اظهار می‌کند که به دنبال پیشرفت است و سع<br>ی می‌کند انتخاب‌هایی داشته باشد که برای آینده‌اش مؤثر باشند. ایشان همچنین بیان م<br>ی‌کند که در تلاش است تا تفکرات سرمربی تیم را به بهترین",
          "Node Index: 71, Node Text:  بعد از توافق با آرمین سهرابیان، گفته می‌شود که احتما<br>لاً استقلالی‌ها حداقل یک بازیکن خارجی دیگر جذب می‌کنند",
          "Node Index: 13, Node Text:  با همه این موضوعات باید بدانیم که این حاشیه‌ها همیشه<br> هست و مشکل خاصی هم در این بازی به وجود نیامد *چه شد که پیشنهاد گل‌گهر را قبول ک<br>ردی؟",
          "Node Index: 16, Node Text:  من هم دنبال پیشرفت هستم و سعی می‌کنم همیشه انتخابی د<br>اشته باشم که بتوانم در آینده برای خودم تاثیرگذار باشد",
          "Node Index: 55, Node Text:  با این حال محمد خوش‌شانس بود که هم‌تیمی‌هایش در بهتر<br>ین فرم ممکن بودند و حریف از اوج آمادگی به دور بود",
          "Node Index: 28, Node Text:  من خودم اینجا از همه بیشتر می‌خواهم تفکرات سرمربی را<br> پیاده کنم و من دنبال این هستم که بدانم سرمربی از من چه می‌خواهد",
          "Node Index: 110, Node Text: در چند سال گذشته، باشگاه و تیم مورد نظر نشان داده‌ان<br>د که یک باشگاه بزرگ هستند و امکانات لازم برای ارتقای جایگاه خود را دارند. در این<br> میان، فردی از کادرفنی گل‌گهر به خاطر اعتماد به او و قرار دادن نامش در لیست، ابر<br>از تشکر کرده و امیدوار است که با عملکرد خود بتواند مثمر ثمر باشد.<br><br>در خبری از باشگاه استقلال، اطلاع داده شد که مهرداد محمدی به دلیل مص",
          "Node Index: 39, Node Text: بازگشت مهرداد محمدی باشگاه استقلال در بیانیه خود دربا<br>ره فعالیت‌های نقل‌وانتقالاتی از بازگشت مهرداد محمدی به لیست نفرات تیم خبر داد",
          "Node Index: 40, Node Text:  محمدی به دلیل مصدومیت از لیست استقلال خارج شده بود  <br>همچنین به نظر می‌رسد که مسعود جمعه بازیکن خارجی استقلال در این تیم ماندنی شده اس<br>ت",
          "Node Index: 15, Node Text:  این باشگاه و این تیم در چند سال گذشته نشان داده که ب<br>اشگاه بزرگی است و امکانات لازم را برای ارتقای جایگاه خود دارد",
          "Node Index: 17, Node Text:  ممنونم از کادرفنی گل‌گهر که به من اعتقاد داشتند و من<br> را در لیستشان گذاشتند  انشالله بتوانم با عملکردم، جبران کنم و بتوانم برای تیم م<br>فید باشم",
          "Node Index: 51, Node Text:  ماحصل برتری عددی سپاهان، گل مهدی لیموچی در نیمه دوم <br>بود که باعث شد گاریدو در آستانه اخراج قرار بگیرد محمد خدابنده‌لو",
          "Node Index: 112, Node Text: در حال حاضر در لیگ، برخی تیم‌ها برای قهرمانی و برخی <br>دیگر برای کسب سهمیه می‌جنگند، که این وضعیت باعث دشواری در کسب امتیاز برای همه تی<br>م‌ها شده است. گیورگی گولسیانی، بازیکن تیم سرخ‌پوشان، تا زمان اخراج عملکرد خوبی د<br>اشت، اما پس از آن عملکرد تیم دچار افت شد. <br><br>مدیران باشگاه استقلال در روز گذشته به فعالیت‌های نقل‌وانت",
          "Node Index: 50, Node Text: گیورگی گولسیانی  سرخ‌پوشان تا زمان اخراج، عملکرد خوبی<br> داشت اما بعد از آن شاهد افت این تیم بودیم",
          "Node Index: 75, Node Text: وینگر-مهاجم استقلال خوزستان احتمالاً قراردادش را با ا<br>ین تیم به‌زودی فسخ می‌کند و در روز پایانی پنجره زمستانه به دنبال ثبت یک انتقال خ<br>برساز است",
          "Node Index: 62, Node Text: مدیران باشگاه استقلال روز گذشته به فعالیت نقل‌وانتقال<br>اتی خود ادامه دادند و یک معاوضه مهم میان دو باشگاه استقلال و سپاهان انجام شد",
          "Node Index: 31, Node Text:  الان هم یک سری از تیم‌ها برای قهرمانی می‌جنگند و برخ<br>ی دیگر برای کسب سهمیه  واقعا امتیاز گرفتن در این وضعیت سخت است",
          "Node Index: 116, Node Text: مهدی رحمتی اشاره کرده که بازیکن قبلاً تصمیم به جدایی<br> گرفته بود، اما با پیشنهاد گل‌گهر استقبال کرده و انتخابش را با روی باز انجام داد<br>ه است. او همچنین بیان کرده که هدف تیم این است که در ادامه فصل نتایج بهتری کسب کن<br>د. حضور سهرابیان در تیم باعث شده که جذب غلامی دیگر در دستور کار نباشد و فعالیت‌ه<br>ای نقل و انتقالاتی تیم آبی ادامه خواهد یافت.",
          "Node Index: 18, Node Text: *مهدی رحمتی گفته بود که تو پیش از آمدنش تصمیم به جدای<br>ی گرفتی، درست است؟",
          "Node Index: 68, Node Text: سهرابیان آمد، جذب غلامی منتفی شد؟ فعالیت نقل‌وانتقالا<br>تی آبی‌ها ادامه خواهد داشت",
          "Node Index: 29, Node Text:  ما می‌خواهیم در ادامه فصل نتایج بهتری بگیریم",
          "Node Index: 14, Node Text: وقتی پیشنهاد گل‌گهر برای من رسید، با روی باز کاملا ان<br>تخاب کردم",
          "Node Index: 121, Node Text: فخرالدینی، مدافع ۳۴ ساله، دارای آمادگی بالا و تجربه <br>گسترده‌ای در تیم‌های مختلف است که به کمک گل‌گهر خواهد آمد. او درباره بازی سنگین <br>با استقلال خوزستان گفت که این بازی در زمین آن تیم بسیار دشوار است و این تیم در خ<br>انه خود موفق به شکست بسیاری از تیم‌های بزرگ شده است.<br><br>او همچنین بیان کرد که در نیم‌فصل تصمیم به جدایی گرفته و این تصمیم را به‌خاطر آمد",
          "Node Index: 2, Node Text: فخرالدینی اگر چه ۳۴ ساله است و این برای یک مدافع سن با<br>لایی محسوب می‌شود اما آمادگی بالای او به همراه تجربه خوبی که در تیم‌های مختلف کس<br>ب کرده، بدون تردید به کمک گل‌گهر خواهد آمد",
          "Node Index: 8, Node Text:  بازی با استقلال خوزستان هم بازی سنگینی بود و بازی کرد<br>ن در زمین این تیم سخت است، دیدید که این تیم در خانه خود خیلی از تیم‌های بزرگ را <br>برده",
          "Node Index: 83, Node Text: ضمن آنکه همچنان باشگاه فولاد هم درصدد توافق با تیم هم<br>‌استانی خود است و از قرمزپوشان اهوازی به عنوان دیگر مشتری خرید تیوی بیفوما در پن<br>جره زمستانی یاد می‌شود",
          "Node Index: 84, Node Text: مدیران باشگاه استقلال هم نسبت به جذب تیوی بیفوما تمای<br>ل دارند اما اعتقادشان بر این است که رقم درخواستی بیفوما بیش از رقمی است که آن‌ها<br> برای جذب بازیکن خارجی در نظر گرفته‌اند",
          "Node Index: 21, Node Text: با این حال وقتی به نیم‌فصل رسیدیم، تصمیم به جدایی گرف<br>تم و همانطور که آقای رحمتی گفت، درست روز قبل از آمدن ایشان به شمس‌آذر من این تصم<br>یم را گرفتم و کارهای جدایی را انجام دادم",
          "Node Index: 54, Node Text: تمرکز پایین برخی از بازیکنان پرسپولیس در بازی‌های بزر<br>گ حسابی آن‌ها را در این فصل با چالش روبرو کرده و اسماعیل کارتال باید روی این قضی<br>ه بیش از پیش کار کند"
         ],
         "type": "scatter",
         "x": [
          0,
          -39.593333333333334,
          -47.468333333333334,
          -48.468333333333334,
          -47.468333333333334,
          -46.468333333333334,
          -41.468333333333334,
          -45.468333333333334,
          -44.468333333333334,
          -43.468333333333334,
          -42.468333333333334,
          -41.468333333333334,
          -40.468333333333334,
          -39.468333333333334,
          -38.468333333333334,
          -37.468333333333334,
          -35.968333333333334,
          -36.468333333333334,
          -35.468333333333334,
          -33.468333333333334,
          -34.468333333333334,
          -33.468333333333334,
          -32.468333333333334,
          -23.635,
          -28.968333333333334,
          -31.468333333333334,
          -30.468333333333334,
          -29.468333333333334,
          -28.468333333333334,
          -27.468333333333334,
          -26.468333333333334,
          -23.968333333333334,
          -25.468333333333334,
          -24.468333333333334,
          -23.468333333333334,
          -22.468333333333334,
          -17.968333333333334,
          -21.468333333333334,
          -20.468333333333334,
          -19.468333333333334,
          -18.468333333333334,
          -17.468333333333334,
          -16.468333333333334,
          -15.468333333333334,
          -14.468333333333334,
          1.1149999999999949,
          -10.968333333333339,
          -13.468333333333339,
          -12.468333333333339,
          -11.468333333333339,
          -10.468333333333339,
          -9.468333333333339,
          -8.468333333333339,
          -5.468333333333339,
          -7.468333333333339,
          -6.468333333333339,
          -5.468333333333339,
          -4.468333333333339,
          -3.468333333333339,
          -0.46833333333333904,
          -2.468333333333339,
          -1.468333333333339,
          -0.46833333333333904,
          0.531666666666661,
          1.531666666666661,
          4.031666666666661,
          2.531666666666661,
          3.531666666666661,
          4.531666666666661,
          5.531666666666661,
          8.031666666666661,
          6.531666666666661,
          7.531666666666661,
          8.531666666666661,
          9.531666666666661,
          11.531666666666661,
          10.531666666666661,
          11.531666666666661,
          12.531666666666661,
          21.28166666666666,
          14.53166666666666,
          13.53166666666666,
          14.53166666666666,
          15.53166666666666,
          19.03166666666666,
          16.53166666666666,
          17.53166666666666,
          18.53166666666666,
          19.53166666666666,
          20.53166666666666,
          21.53166666666666,
          24.03166666666666,
          22.53166666666666,
          23.53166666666666,
          24.53166666666666,
          25.53166666666666,
          27.53166666666666,
          26.53166666666666,
          27.53166666666666,
          28.53166666666666,
          40.83166666666668,
          31.531666666666677,
          29.531666666666677,
          30.531666666666677,
          31.531666666666677,
          32.53166666666668,
          33.53166666666668,
          36.53166666666668,
          34.53166666666668,
          35.53166666666668,
          36.53166666666668,
          37.53166666666668,
          38.53166666666668,
          41.03166666666668,
          39.53166666666668,
          40.53166666666668,
          41.53166666666668,
          42.53166666666668,
          45.03166666666668,
          43.53166666666668,
          44.53166666666668,
          45.53166666666668,
          46.53166666666668,
          50.03166666666668,
          47.53166666666668,
          48.53166666666668,
          49.53166666666668,
          50.53166666666668,
          51.53166666666668,
          52.53166666666668
         ],
         "y": [
          6,
          5,
          4,
          3,
          3,
          3,
          4,
          3,
          3,
          3,
          3,
          3,
          3,
          3,
          3,
          3,
          4,
          3,
          3,
          4,
          3,
          3,
          3,
          5,
          4,
          3,
          3,
          3,
          3,
          3,
          3,
          4,
          3,
          3,
          3,
          3,
          4,
          3,
          3,
          3,
          3,
          3,
          3,
          3,
          3,
          5,
          4,
          3,
          3,
          3,
          3,
          3,
          3,
          4,
          3,
          3,
          3,
          3,
          3,
          4,
          3,
          3,
          3,
          3,
          3,
          4,
          3,
          3,
          3,
          3,
          4,
          3,
          3,
          3,
          3,
          4,
          3,
          3,
          3,
          5,
          4,
          3,
          3,
          3,
          4,
          3,
          3,
          3,
          3,
          3,
          3,
          4,
          3,
          3,
          3,
          3,
          4,
          3,
          3,
          3,
          5,
          4,
          3,
          3,
          3,
          3,
          3,
          4,
          3,
          3,
          3,
          3,
          3,
          4,
          3,
          3,
          3,
          3,
          4,
          3,
          3,
          3,
          3,
          4,
          3,
          3,
          3,
          3,
          3,
          3
         ]
        }
       ],
       "layout": {
        "annotations": [
         {
          "arrowcolor": "rgb(210,210,210)",
          "arrowhead": 2,
          "arrowsize": 1.5,
          "arrowwidth": 1,
          "ax": 0,
          "axref": "x",
          "ay": 6,
          "ayref": "y",
          "showarrow": true,
          "x": -39.593333333333334,
          "xref": "x",
          "y": 5,
          "yref": "y"
         },
         {
          "arrowcolor": "rgb(210,210,210)",
          "arrowhead": 2,
          "arrowsize": 1.5,
          "arrowwidth": 1,
          "ax": -39.593333333333334,
          "axref": "x",
          "ay": 5,
          "ayref": "y",
          "showarrow": true,
          "x": -47.468333333333334,
          "xref": "x",
          "y": 4,
          "yref": "y"
         },
         {
          "arrowcolor": "rgb(210,210,210)",
          "arrowhead": 2,
          "arrowsize": 1.5,
          "arrowwidth": 1,
          "ax": -47.468333333333334,
          "axref": "x",
          "ay": 4,
          "ayref": "y",
          "showarrow": true,
          "x": -48.468333333333334,
          "xref": "x",
          "y": 3,
          "yref": "y"
         },
         {
          "arrowcolor": "rgb(210,210,210)",
          "arrowhead": 2,
          "arrowsize": 1.5,
          "arrowwidth": 1,
          "ax": -47.468333333333334,
          "axref": "x",
          "ay": 4,
          "ayref": "y",
          "showarrow": true,
          "x": -47.468333333333334,
          "xref": "x",
          "y": 3,
          "yref": "y"
         },
         {
          "arrowcolor": "rgb(210,210,210)",
          "arrowhead": 2,
          "arrowsize": 1.5,
          "arrowwidth": 1,
          "ax": -47.468333333333334,
          "axref": "x",
          "ay": 4,
          "ayref": "y",
          "showarrow": true,
          "x": -46.468333333333334,
          "xref": "x",
          "y": 3,
          "yref": "y"
         },
         {
          "arrowcolor": "rgb(210,210,210)",
          "arrowhead": 2,
          "arrowsize": 1.5,
          "arrowwidth": 1,
          "ax": -39.593333333333334,
          "axref": "x",
          "ay": 5,
          "ayref": "y",
          "showarrow": true,
          "x": -41.468333333333334,
          "xref": "x",
          "y": 4,
          "yref": "y"
         },
         {
          "arrowcolor": "rgb(210,210,210)",
          "arrowhead": 2,
          "arrowsize": 1.5,
          "arrowwidth": 1,
          "ax": -41.468333333333334,
          "axref": "x",
          "ay": 4,
          "ayref": "y",
          "showarrow": true,
          "x": -45.468333333333334,
          "xref": "x",
          "y": 3,
          "yref": "y"
         },
         {
          "arrowcolor": "rgb(210,210,210)",
          "arrowhead": 2,
          "arrowsize": 1.5,
          "arrowwidth": 1,
          "ax": -41.468333333333334,
          "axref": "x",
          "ay": 4,
          "ayref": "y",
          "showarrow": true,
          "x": -44.468333333333334,
          "xref": "x",
          "y": 3,
          "yref": "y"
         },
         {
          "arrowcolor": "rgb(210,210,210)",
          "arrowhead": 2,
          "arrowsize": 1.5,
          "arrowwidth": 1,
          "ax": -41.468333333333334,
          "axref": "x",
          "ay": 4,
          "ayref": "y",
          "showarrow": true,
          "x": -43.468333333333334,
          "xref": "x",
          "y": 3,
          "yref": "y"
         },
         {
          "arrowcolor": "rgb(210,210,210)",
          "arrowhead": 2,
          "arrowsize": 1.5,
          "arrowwidth": 1,
          "ax": -41.468333333333334,
          "axref": "x",
          "ay": 4,
          "ayref": "y",
          "showarrow": true,
          "x": -42.468333333333334,
          "xref": "x",
          "y": 3,
          "yref": "y"
         },
         {
          "arrowcolor": "rgb(210,210,210)",
          "arrowhead": 2,
          "arrowsize": 1.5,
          "arrowwidth": 1,
          "ax": -41.468333333333334,
          "axref": "x",
          "ay": 4,
          "ayref": "y",
          "showarrow": true,
          "x": -41.468333333333334,
          "xref": "x",
          "y": 3,
          "yref": "y"
         },
         {
          "arrowcolor": "rgb(210,210,210)",
          "arrowhead": 2,
          "arrowsize": 1.5,
          "arrowwidth": 1,
          "ax": -41.468333333333334,
          "axref": "x",
          "ay": 4,
          "ayref": "y",
          "showarrow": true,
          "x": -40.468333333333334,
          "xref": "x",
          "y": 3,
          "yref": "y"
         },
         {
          "arrowcolor": "rgb(210,210,210)",
          "arrowhead": 2,
          "arrowsize": 1.5,
          "arrowwidth": 1,
          "ax": -41.468333333333334,
          "axref": "x",
          "ay": 4,
          "ayref": "y",
          "showarrow": true,
          "x": -39.468333333333334,
          "xref": "x",
          "y": 3,
          "yref": "y"
         },
         {
          "arrowcolor": "rgb(210,210,210)",
          "arrowhead": 2,
          "arrowsize": 1.5,
          "arrowwidth": 1,
          "ax": -41.468333333333334,
          "axref": "x",
          "ay": 4,
          "ayref": "y",
          "showarrow": true,
          "x": -38.468333333333334,
          "xref": "x",
          "y": 3,
          "yref": "y"
         },
         {
          "arrowcolor": "rgb(210,210,210)",
          "arrowhead": 2,
          "arrowsize": 1.5,
          "arrowwidth": 1,
          "ax": -41.468333333333334,
          "axref": "x",
          "ay": 4,
          "ayref": "y",
          "showarrow": true,
          "x": -37.468333333333334,
          "xref": "x",
          "y": 3,
          "yref": "y"
         },
         {
          "arrowcolor": "rgb(210,210,210)",
          "arrowhead": 2,
          "arrowsize": 1.5,
          "arrowwidth": 1,
          "ax": -39.593333333333334,
          "axref": "x",
          "ay": 5,
          "ayref": "y",
          "showarrow": true,
          "x": -35.968333333333334,
          "xref": "x",
          "y": 4,
          "yref": "y"
         },
         {
          "arrowcolor": "rgb(210,210,210)",
          "arrowhead": 2,
          "arrowsize": 1.5,
          "arrowwidth": 1,
          "ax": -35.968333333333334,
          "axref": "x",
          "ay": 4,
          "ayref": "y",
          "showarrow": true,
          "x": -36.468333333333334,
          "xref": "x",
          "y": 3,
          "yref": "y"
         },
         {
          "arrowcolor": "rgb(210,210,210)",
          "arrowhead": 2,
          "arrowsize": 1.5,
          "arrowwidth": 1,
          "ax": -35.968333333333334,
          "axref": "x",
          "ay": 4,
          "ayref": "y",
          "showarrow": true,
          "x": -35.468333333333334,
          "xref": "x",
          "y": 3,
          "yref": "y"
         },
         {
          "arrowcolor": "rgb(210,210,210)",
          "arrowhead": 2,
          "arrowsize": 1.5,
          "arrowwidth": 1,
          "ax": -39.593333333333334,
          "axref": "x",
          "ay": 5,
          "ayref": "y",
          "showarrow": true,
          "x": -33.468333333333334,
          "xref": "x",
          "y": 4,
          "yref": "y"
         },
         {
          "arrowcolor": "rgb(210,210,210)",
          "arrowhead": 2,
          "arrowsize": 1.5,
          "arrowwidth": 1,
          "ax": -33.468333333333334,
          "axref": "x",
          "ay": 4,
          "ayref": "y",
          "showarrow": true,
          "x": -34.468333333333334,
          "xref": "x",
          "y": 3,
          "yref": "y"
         },
         {
          "arrowcolor": "rgb(210,210,210)",
          "arrowhead": 2,
          "arrowsize": 1.5,
          "arrowwidth": 1,
          "ax": -33.468333333333334,
          "axref": "x",
          "ay": 4,
          "ayref": "y",
          "showarrow": true,
          "x": -33.468333333333334,
          "xref": "x",
          "y": 3,
          "yref": "y"
         },
         {
          "arrowcolor": "rgb(210,210,210)",
          "arrowhead": 2,
          "arrowsize": 1.5,
          "arrowwidth": 1,
          "ax": -33.468333333333334,
          "axref": "x",
          "ay": 4,
          "ayref": "y",
          "showarrow": true,
          "x": -32.468333333333334,
          "xref": "x",
          "y": 3,
          "yref": "y"
         },
         {
          "arrowcolor": "rgb(210,210,210)",
          "arrowhead": 2,
          "arrowsize": 1.5,
          "arrowwidth": 1,
          "ax": 0,
          "axref": "x",
          "ay": 6,
          "ayref": "y",
          "showarrow": true,
          "x": -23.635,
          "xref": "x",
          "y": 5,
          "yref": "y"
         },
         {
          "arrowcolor": "rgb(210,210,210)",
          "arrowhead": 2,
          "arrowsize": 1.5,
          "arrowwidth": 1,
          "ax": -23.635,
          "axref": "x",
          "ay": 5,
          "ayref": "y",
          "showarrow": true,
          "x": -28.968333333333334,
          "xref": "x",
          "y": 4,
          "yref": "y"
         },
         {
          "arrowcolor": "rgb(210,210,210)",
          "arrowhead": 2,
          "arrowsize": 1.5,
          "arrowwidth": 1,
          "ax": -28.968333333333334,
          "axref": "x",
          "ay": 4,
          "ayref": "y",
          "showarrow": true,
          "x": -31.468333333333334,
          "xref": "x",
          "y": 3,
          "yref": "y"
         },
         {
          "arrowcolor": "rgb(210,210,210)",
          "arrowhead": 2,
          "arrowsize": 1.5,
          "arrowwidth": 1,
          "ax": -28.968333333333334,
          "axref": "x",
          "ay": 4,
          "ayref": "y",
          "showarrow": true,
          "x": -30.468333333333334,
          "xref": "x",
          "y": 3,
          "yref": "y"
         },
         {
          "arrowcolor": "rgb(210,210,210)",
          "arrowhead": 2,
          "arrowsize": 1.5,
          "arrowwidth": 1,
          "ax": -28.968333333333334,
          "axref": "x",
          "ay": 4,
          "ayref": "y",
          "showarrow": true,
          "x": -29.468333333333334,
          "xref": "x",
          "y": 3,
          "yref": "y"
         },
         {
          "arrowcolor": "rgb(210,210,210)",
          "arrowhead": 2,
          "arrowsize": 1.5,
          "arrowwidth": 1,
          "ax": -28.968333333333334,
          "axref": "x",
          "ay": 4,
          "ayref": "y",
          "showarrow": true,
          "x": -28.468333333333334,
          "xref": "x",
          "y": 3,
          "yref": "y"
         },
         {
          "arrowcolor": "rgb(210,210,210)",
          "arrowhead": 2,
          "arrowsize": 1.5,
          "arrowwidth": 1,
          "ax": -28.968333333333334,
          "axref": "x",
          "ay": 4,
          "ayref": "y",
          "showarrow": true,
          "x": -27.468333333333334,
          "xref": "x",
          "y": 3,
          "yref": "y"
         },
         {
          "arrowcolor": "rgb(210,210,210)",
          "arrowhead": 2,
          "arrowsize": 1.5,
          "arrowwidth": 1,
          "ax": -28.968333333333334,
          "axref": "x",
          "ay": 4,
          "ayref": "y",
          "showarrow": true,
          "x": -26.468333333333334,
          "xref": "x",
          "y": 3,
          "yref": "y"
         },
         {
          "arrowcolor": "rgb(210,210,210)",
          "arrowhead": 2,
          "arrowsize": 1.5,
          "arrowwidth": 1,
          "ax": -23.635,
          "axref": "x",
          "ay": 5,
          "ayref": "y",
          "showarrow": true,
          "x": -23.968333333333334,
          "xref": "x",
          "y": 4,
          "yref": "y"
         },
         {
          "arrowcolor": "rgb(210,210,210)",
          "arrowhead": 2,
          "arrowsize": 1.5,
          "arrowwidth": 1,
          "ax": -23.968333333333334,
          "axref": "x",
          "ay": 4,
          "ayref": "y",
          "showarrow": true,
          "x": -25.468333333333334,
          "xref": "x",
          "y": 3,
          "yref": "y"
         },
         {
          "arrowcolor": "rgb(210,210,210)",
          "arrowhead": 2,
          "arrowsize": 1.5,
          "arrowwidth": 1,
          "ax": -23.968333333333334,
          "axref": "x",
          "ay": 4,
          "ayref": "y",
          "showarrow": true,
          "x": -24.468333333333334,
          "xref": "x",
          "y": 3,
          "yref": "y"
         },
         {
          "arrowcolor": "rgb(210,210,210)",
          "arrowhead": 2,
          "arrowsize": 1.5,
          "arrowwidth": 1,
          "ax": -23.968333333333334,
          "axref": "x",
          "ay": 4,
          "ayref": "y",
          "showarrow": true,
          "x": -23.468333333333334,
          "xref": "x",
          "y": 3,
          "yref": "y"
         },
         {
          "arrowcolor": "rgb(210,210,210)",
          "arrowhead": 2,
          "arrowsize": 1.5,
          "arrowwidth": 1,
          "ax": -23.968333333333334,
          "axref": "x",
          "ay": 4,
          "ayref": "y",
          "showarrow": true,
          "x": -22.468333333333334,
          "xref": "x",
          "y": 3,
          "yref": "y"
         },
         {
          "arrowcolor": "rgb(210,210,210)",
          "arrowhead": 2,
          "arrowsize": 1.5,
          "arrowwidth": 1,
          "ax": -23.635,
          "axref": "x",
          "ay": 5,
          "ayref": "y",
          "showarrow": true,
          "x": -17.968333333333334,
          "xref": "x",
          "y": 4,
          "yref": "y"
         },
         {
          "arrowcolor": "rgb(210,210,210)",
          "arrowhead": 2,
          "arrowsize": 1.5,
          "arrowwidth": 1,
          "ax": -17.968333333333334,
          "axref": "x",
          "ay": 4,
          "ayref": "y",
          "showarrow": true,
          "x": -21.468333333333334,
          "xref": "x",
          "y": 3,
          "yref": "y"
         },
         {
          "arrowcolor": "rgb(210,210,210)",
          "arrowhead": 2,
          "arrowsize": 1.5,
          "arrowwidth": 1,
          "ax": -17.968333333333334,
          "axref": "x",
          "ay": 4,
          "ayref": "y",
          "showarrow": true,
          "x": -20.468333333333334,
          "xref": "x",
          "y": 3,
          "yref": "y"
         },
         {
          "arrowcolor": "rgb(210,210,210)",
          "arrowhead": 2,
          "arrowsize": 1.5,
          "arrowwidth": 1,
          "ax": -17.968333333333334,
          "axref": "x",
          "ay": 4,
          "ayref": "y",
          "showarrow": true,
          "x": -19.468333333333334,
          "xref": "x",
          "y": 3,
          "yref": "y"
         },
         {
          "arrowcolor": "rgb(210,210,210)",
          "arrowhead": 2,
          "arrowsize": 1.5,
          "arrowwidth": 1,
          "ax": -17.968333333333334,
          "axref": "x",
          "ay": 4,
          "ayref": "y",
          "showarrow": true,
          "x": -18.468333333333334,
          "xref": "x",
          "y": 3,
          "yref": "y"
         },
         {
          "arrowcolor": "rgb(210,210,210)",
          "arrowhead": 2,
          "arrowsize": 1.5,
          "arrowwidth": 1,
          "ax": -17.968333333333334,
          "axref": "x",
          "ay": 4,
          "ayref": "y",
          "showarrow": true,
          "x": -17.468333333333334,
          "xref": "x",
          "y": 3,
          "yref": "y"
         },
         {
          "arrowcolor": "rgb(210,210,210)",
          "arrowhead": 2,
          "arrowsize": 1.5,
          "arrowwidth": 1,
          "ax": -17.968333333333334,
          "axref": "x",
          "ay": 4,
          "ayref": "y",
          "showarrow": true,
          "x": -16.468333333333334,
          "xref": "x",
          "y": 3,
          "yref": "y"
         },
         {
          "arrowcolor": "rgb(210,210,210)",
          "arrowhead": 2,
          "arrowsize": 1.5,
          "arrowwidth": 1,
          "ax": -17.968333333333334,
          "axref": "x",
          "ay": 4,
          "ayref": "y",
          "showarrow": true,
          "x": -15.468333333333334,
          "xref": "x",
          "y": 3,
          "yref": "y"
         },
         {
          "arrowcolor": "rgb(210,210,210)",
          "arrowhead": 2,
          "arrowsize": 1.5,
          "arrowwidth": 1,
          "ax": -17.968333333333334,
          "axref": "x",
          "ay": 4,
          "ayref": "y",
          "showarrow": true,
          "x": -14.468333333333334,
          "xref": "x",
          "y": 3,
          "yref": "y"
         },
         {
          "arrowcolor": "rgb(210,210,210)",
          "arrowhead": 2,
          "arrowsize": 1.5,
          "arrowwidth": 1,
          "ax": 0,
          "axref": "x",
          "ay": 6,
          "ayref": "y",
          "showarrow": true,
          "x": 1.1149999999999949,
          "xref": "x",
          "y": 5,
          "yref": "y"
         },
         {
          "arrowcolor": "rgb(210,210,210)",
          "arrowhead": 2,
          "arrowsize": 1.5,
          "arrowwidth": 1,
          "ax": 1.1149999999999949,
          "axref": "x",
          "ay": 5,
          "ayref": "y",
          "showarrow": true,
          "x": -10.968333333333339,
          "xref": "x",
          "y": 4,
          "yref": "y"
         },
         {
          "arrowcolor": "rgb(210,210,210)",
          "arrowhead": 2,
          "arrowsize": 1.5,
          "arrowwidth": 1,
          "ax": -10.968333333333339,
          "axref": "x",
          "ay": 4,
          "ayref": "y",
          "showarrow": true,
          "x": -13.468333333333339,
          "xref": "x",
          "y": 3,
          "yref": "y"
         },
         {
          "arrowcolor": "rgb(210,210,210)",
          "arrowhead": 2,
          "arrowsize": 1.5,
          "arrowwidth": 1,
          "ax": -10.968333333333339,
          "axref": "x",
          "ay": 4,
          "ayref": "y",
          "showarrow": true,
          "x": -12.468333333333339,
          "xref": "x",
          "y": 3,
          "yref": "y"
         },
         {
          "arrowcolor": "rgb(210,210,210)",
          "arrowhead": 2,
          "arrowsize": 1.5,
          "arrowwidth": 1,
          "ax": -10.968333333333339,
          "axref": "x",
          "ay": 4,
          "ayref": "y",
          "showarrow": true,
          "x": -11.468333333333339,
          "xref": "x",
          "y": 3,
          "yref": "y"
         },
         {
          "arrowcolor": "rgb(210,210,210)",
          "arrowhead": 2,
          "arrowsize": 1.5,
          "arrowwidth": 1,
          "ax": -10.968333333333339,
          "axref": "x",
          "ay": 4,
          "ayref": "y",
          "showarrow": true,
          "x": -10.468333333333339,
          "xref": "x",
          "y": 3,
          "yref": "y"
         },
         {
          "arrowcolor": "rgb(210,210,210)",
          "arrowhead": 2,
          "arrowsize": 1.5,
          "arrowwidth": 1,
          "ax": -10.968333333333339,
          "axref": "x",
          "ay": 4,
          "ayref": "y",
          "showarrow": true,
          "x": -9.468333333333339,
          "xref": "x",
          "y": 3,
          "yref": "y"
         },
         {
          "arrowcolor": "rgb(210,210,210)",
          "arrowhead": 2,
          "arrowsize": 1.5,
          "arrowwidth": 1,
          "ax": -10.968333333333339,
          "axref": "x",
          "ay": 4,
          "ayref": "y",
          "showarrow": true,
          "x": -8.468333333333339,
          "xref": "x",
          "y": 3,
          "yref": "y"
         },
         {
          "arrowcolor": "rgb(210,210,210)",
          "arrowhead": 2,
          "arrowsize": 1.5,
          "arrowwidth": 1,
          "ax": 1.1149999999999949,
          "axref": "x",
          "ay": 5,
          "ayref": "y",
          "showarrow": true,
          "x": -5.468333333333339,
          "xref": "x",
          "y": 4,
          "yref": "y"
         },
         {
          "arrowcolor": "rgb(210,210,210)",
          "arrowhead": 2,
          "arrowsize": 1.5,
          "arrowwidth": 1,
          "ax": -5.468333333333339,
          "axref": "x",
          "ay": 4,
          "ayref": "y",
          "showarrow": true,
          "x": -7.468333333333339,
          "xref": "x",
          "y": 3,
          "yref": "y"
         },
         {
          "arrowcolor": "rgb(210,210,210)",
          "arrowhead": 2,
          "arrowsize": 1.5,
          "arrowwidth": 1,
          "ax": -5.468333333333339,
          "axref": "x",
          "ay": 4,
          "ayref": "y",
          "showarrow": true,
          "x": -6.468333333333339,
          "xref": "x",
          "y": 3,
          "yref": "y"
         },
         {
          "arrowcolor": "rgb(210,210,210)",
          "arrowhead": 2,
          "arrowsize": 1.5,
          "arrowwidth": 1,
          "ax": -5.468333333333339,
          "axref": "x",
          "ay": 4,
          "ayref": "y",
          "showarrow": true,
          "x": -5.468333333333339,
          "xref": "x",
          "y": 3,
          "yref": "y"
         },
         {
          "arrowcolor": "rgb(210,210,210)",
          "arrowhead": 2,
          "arrowsize": 1.5,
          "arrowwidth": 1,
          "ax": -5.468333333333339,
          "axref": "x",
          "ay": 4,
          "ayref": "y",
          "showarrow": true,
          "x": -4.468333333333339,
          "xref": "x",
          "y": 3,
          "yref": "y"
         },
         {
          "arrowcolor": "rgb(210,210,210)",
          "arrowhead": 2,
          "arrowsize": 1.5,
          "arrowwidth": 1,
          "ax": -5.468333333333339,
          "axref": "x",
          "ay": 4,
          "ayref": "y",
          "showarrow": true,
          "x": -3.468333333333339,
          "xref": "x",
          "y": 3,
          "yref": "y"
         },
         {
          "arrowcolor": "rgb(210,210,210)",
          "arrowhead": 2,
          "arrowsize": 1.5,
          "arrowwidth": 1,
          "ax": 1.1149999999999949,
          "axref": "x",
          "ay": 5,
          "ayref": "y",
          "showarrow": true,
          "x": -0.46833333333333904,
          "xref": "x",
          "y": 4,
          "yref": "y"
         },
         {
          "arrowcolor": "rgb(210,210,210)",
          "arrowhead": 2,
          "arrowsize": 1.5,
          "arrowwidth": 1,
          "ax": -0.46833333333333904,
          "axref": "x",
          "ay": 4,
          "ayref": "y",
          "showarrow": true,
          "x": -2.468333333333339,
          "xref": "x",
          "y": 3,
          "yref": "y"
         },
         {
          "arrowcolor": "rgb(210,210,210)",
          "arrowhead": 2,
          "arrowsize": 1.5,
          "arrowwidth": 1,
          "ax": -0.46833333333333904,
          "axref": "x",
          "ay": 4,
          "ayref": "y",
          "showarrow": true,
          "x": -1.468333333333339,
          "xref": "x",
          "y": 3,
          "yref": "y"
         },
         {
          "arrowcolor": "rgb(210,210,210)",
          "arrowhead": 2,
          "arrowsize": 1.5,
          "arrowwidth": 1,
          "ax": -0.46833333333333904,
          "axref": "x",
          "ay": 4,
          "ayref": "y",
          "showarrow": true,
          "x": -0.46833333333333904,
          "xref": "x",
          "y": 3,
          "yref": "y"
         },
         {
          "arrowcolor": "rgb(210,210,210)",
          "arrowhead": 2,
          "arrowsize": 1.5,
          "arrowwidth": 1,
          "ax": -0.46833333333333904,
          "axref": "x",
          "ay": 4,
          "ayref": "y",
          "showarrow": true,
          "x": 0.531666666666661,
          "xref": "x",
          "y": 3,
          "yref": "y"
         },
         {
          "arrowcolor": "rgb(210,210,210)",
          "arrowhead": 2,
          "arrowsize": 1.5,
          "arrowwidth": 1,
          "ax": -0.46833333333333904,
          "axref": "x",
          "ay": 4,
          "ayref": "y",
          "showarrow": true,
          "x": 1.531666666666661,
          "xref": "x",
          "y": 3,
          "yref": "y"
         },
         {
          "arrowcolor": "rgb(210,210,210)",
          "arrowhead": 2,
          "arrowsize": 1.5,
          "arrowwidth": 1,
          "ax": 1.1149999999999949,
          "axref": "x",
          "ay": 5,
          "ayref": "y",
          "showarrow": true,
          "x": 4.031666666666661,
          "xref": "x",
          "y": 4,
          "yref": "y"
         },
         {
          "arrowcolor": "rgb(210,210,210)",
          "arrowhead": 2,
          "arrowsize": 1.5,
          "arrowwidth": 1,
          "ax": 4.031666666666661,
          "axref": "x",
          "ay": 4,
          "ayref": "y",
          "showarrow": true,
          "x": 2.531666666666661,
          "xref": "x",
          "y": 3,
          "yref": "y"
         },
         {
          "arrowcolor": "rgb(210,210,210)",
          "arrowhead": 2,
          "arrowsize": 1.5,
          "arrowwidth": 1,
          "ax": 4.031666666666661,
          "axref": "x",
          "ay": 4,
          "ayref": "y",
          "showarrow": true,
          "x": 3.531666666666661,
          "xref": "x",
          "y": 3,
          "yref": "y"
         },
         {
          "arrowcolor": "rgb(210,210,210)",
          "arrowhead": 2,
          "arrowsize": 1.5,
          "arrowwidth": 1,
          "ax": 4.031666666666661,
          "axref": "x",
          "ay": 4,
          "ayref": "y",
          "showarrow": true,
          "x": 4.531666666666661,
          "xref": "x",
          "y": 3,
          "yref": "y"
         },
         {
          "arrowcolor": "rgb(210,210,210)",
          "arrowhead": 2,
          "arrowsize": 1.5,
          "arrowwidth": 1,
          "ax": 4.031666666666661,
          "axref": "x",
          "ay": 4,
          "ayref": "y",
          "showarrow": true,
          "x": 5.531666666666661,
          "xref": "x",
          "y": 3,
          "yref": "y"
         },
         {
          "arrowcolor": "rgb(210,210,210)",
          "arrowhead": 2,
          "arrowsize": 1.5,
          "arrowwidth": 1,
          "ax": 1.1149999999999949,
          "axref": "x",
          "ay": 5,
          "ayref": "y",
          "showarrow": true,
          "x": 8.031666666666661,
          "xref": "x",
          "y": 4,
          "yref": "y"
         },
         {
          "arrowcolor": "rgb(210,210,210)",
          "arrowhead": 2,
          "arrowsize": 1.5,
          "arrowwidth": 1,
          "ax": 8.031666666666661,
          "axref": "x",
          "ay": 4,
          "ayref": "y",
          "showarrow": true,
          "x": 6.531666666666661,
          "xref": "x",
          "y": 3,
          "yref": "y"
         },
         {
          "arrowcolor": "rgb(210,210,210)",
          "arrowhead": 2,
          "arrowsize": 1.5,
          "arrowwidth": 1,
          "ax": 8.031666666666661,
          "axref": "x",
          "ay": 4,
          "ayref": "y",
          "showarrow": true,
          "x": 7.531666666666661,
          "xref": "x",
          "y": 3,
          "yref": "y"
         },
         {
          "arrowcolor": "rgb(210,210,210)",
          "arrowhead": 2,
          "arrowsize": 1.5,
          "arrowwidth": 1,
          "ax": 8.031666666666661,
          "axref": "x",
          "ay": 4,
          "ayref": "y",
          "showarrow": true,
          "x": 8.531666666666661,
          "xref": "x",
          "y": 3,
          "yref": "y"
         },
         {
          "arrowcolor": "rgb(210,210,210)",
          "arrowhead": 2,
          "arrowsize": 1.5,
          "arrowwidth": 1,
          "ax": 8.031666666666661,
          "axref": "x",
          "ay": 4,
          "ayref": "y",
          "showarrow": true,
          "x": 9.531666666666661,
          "xref": "x",
          "y": 3,
          "yref": "y"
         },
         {
          "arrowcolor": "rgb(210,210,210)",
          "arrowhead": 2,
          "arrowsize": 1.5,
          "arrowwidth": 1,
          "ax": 1.1149999999999949,
          "axref": "x",
          "ay": 5,
          "ayref": "y",
          "showarrow": true,
          "x": 11.531666666666661,
          "xref": "x",
          "y": 4,
          "yref": "y"
         },
         {
          "arrowcolor": "rgb(210,210,210)",
          "arrowhead": 2,
          "arrowsize": 1.5,
          "arrowwidth": 1,
          "ax": 11.531666666666661,
          "axref": "x",
          "ay": 4,
          "ayref": "y",
          "showarrow": true,
          "x": 10.531666666666661,
          "xref": "x",
          "y": 3,
          "yref": "y"
         },
         {
          "arrowcolor": "rgb(210,210,210)",
          "arrowhead": 2,
          "arrowsize": 1.5,
          "arrowwidth": 1,
          "ax": 11.531666666666661,
          "axref": "x",
          "ay": 4,
          "ayref": "y",
          "showarrow": true,
          "x": 11.531666666666661,
          "xref": "x",
          "y": 3,
          "yref": "y"
         },
         {
          "arrowcolor": "rgb(210,210,210)",
          "arrowhead": 2,
          "arrowsize": 1.5,
          "arrowwidth": 1,
          "ax": 11.531666666666661,
          "axref": "x",
          "ay": 4,
          "ayref": "y",
          "showarrow": true,
          "x": 12.531666666666661,
          "xref": "x",
          "y": 3,
          "yref": "y"
         },
         {
          "arrowcolor": "rgb(210,210,210)",
          "arrowhead": 2,
          "arrowsize": 1.5,
          "arrowwidth": 1,
          "ax": 0,
          "axref": "x",
          "ay": 6,
          "ayref": "y",
          "showarrow": true,
          "x": 21.28166666666666,
          "xref": "x",
          "y": 5,
          "yref": "y"
         },
         {
          "arrowcolor": "rgb(210,210,210)",
          "arrowhead": 2,
          "arrowsize": 1.5,
          "arrowwidth": 1,
          "ax": 21.28166666666666,
          "axref": "x",
          "ay": 5,
          "ayref": "y",
          "showarrow": true,
          "x": 14.53166666666666,
          "xref": "x",
          "y": 4,
          "yref": "y"
         },
         {
          "arrowcolor": "rgb(210,210,210)",
          "arrowhead": 2,
          "arrowsize": 1.5,
          "arrowwidth": 1,
          "ax": 14.53166666666666,
          "axref": "x",
          "ay": 4,
          "ayref": "y",
          "showarrow": true,
          "x": 13.53166666666666,
          "xref": "x",
          "y": 3,
          "yref": "y"
         },
         {
          "arrowcolor": "rgb(210,210,210)",
          "arrowhead": 2,
          "arrowsize": 1.5,
          "arrowwidth": 1,
          "ax": 14.53166666666666,
          "axref": "x",
          "ay": 4,
          "ayref": "y",
          "showarrow": true,
          "x": 14.53166666666666,
          "xref": "x",
          "y": 3,
          "yref": "y"
         },
         {
          "arrowcolor": "rgb(210,210,210)",
          "arrowhead": 2,
          "arrowsize": 1.5,
          "arrowwidth": 1,
          "ax": 14.53166666666666,
          "axref": "x",
          "ay": 4,
          "ayref": "y",
          "showarrow": true,
          "x": 15.53166666666666,
          "xref": "x",
          "y": 3,
          "yref": "y"
         },
         {
          "arrowcolor": "rgb(210,210,210)",
          "arrowhead": 2,
          "arrowsize": 1.5,
          "arrowwidth": 1,
          "ax": 21.28166666666666,
          "axref": "x",
          "ay": 5,
          "ayref": "y",
          "showarrow": true,
          "x": 19.03166666666666,
          "xref": "x",
          "y": 4,
          "yref": "y"
         },
         {
          "arrowcolor": "rgb(210,210,210)",
          "arrowhead": 2,
          "arrowsize": 1.5,
          "arrowwidth": 1,
          "ax": 19.03166666666666,
          "axref": "x",
          "ay": 4,
          "ayref": "y",
          "showarrow": true,
          "x": 16.53166666666666,
          "xref": "x",
          "y": 3,
          "yref": "y"
         },
         {
          "arrowcolor": "rgb(210,210,210)",
          "arrowhead": 2,
          "arrowsize": 1.5,
          "arrowwidth": 1,
          "ax": 19.03166666666666,
          "axref": "x",
          "ay": 4,
          "ayref": "y",
          "showarrow": true,
          "x": 17.53166666666666,
          "xref": "x",
          "y": 3,
          "yref": "y"
         },
         {
          "arrowcolor": "rgb(210,210,210)",
          "arrowhead": 2,
          "arrowsize": 1.5,
          "arrowwidth": 1,
          "ax": 19.03166666666666,
          "axref": "x",
          "ay": 4,
          "ayref": "y",
          "showarrow": true,
          "x": 18.53166666666666,
          "xref": "x",
          "y": 3,
          "yref": "y"
         },
         {
          "arrowcolor": "rgb(210,210,210)",
          "arrowhead": 2,
          "arrowsize": 1.5,
          "arrowwidth": 1,
          "ax": 19.03166666666666,
          "axref": "x",
          "ay": 4,
          "ayref": "y",
          "showarrow": true,
          "x": 19.53166666666666,
          "xref": "x",
          "y": 3,
          "yref": "y"
         },
         {
          "arrowcolor": "rgb(210,210,210)",
          "arrowhead": 2,
          "arrowsize": 1.5,
          "arrowwidth": 1,
          "ax": 19.03166666666666,
          "axref": "x",
          "ay": 4,
          "ayref": "y",
          "showarrow": true,
          "x": 20.53166666666666,
          "xref": "x",
          "y": 3,
          "yref": "y"
         },
         {
          "arrowcolor": "rgb(210,210,210)",
          "arrowhead": 2,
          "arrowsize": 1.5,
          "arrowwidth": 1,
          "ax": 19.03166666666666,
          "axref": "x",
          "ay": 4,
          "ayref": "y",
          "showarrow": true,
          "x": 21.53166666666666,
          "xref": "x",
          "y": 3,
          "yref": "y"
         },
         {
          "arrowcolor": "rgb(210,210,210)",
          "arrowhead": 2,
          "arrowsize": 1.5,
          "arrowwidth": 1,
          "ax": 21.28166666666666,
          "axref": "x",
          "ay": 5,
          "ayref": "y",
          "showarrow": true,
          "x": 24.03166666666666,
          "xref": "x",
          "y": 4,
          "yref": "y"
         },
         {
          "arrowcolor": "rgb(210,210,210)",
          "arrowhead": 2,
          "arrowsize": 1.5,
          "arrowwidth": 1,
          "ax": 24.03166666666666,
          "axref": "x",
          "ay": 4,
          "ayref": "y",
          "showarrow": true,
          "x": 22.53166666666666,
          "xref": "x",
          "y": 3,
          "yref": "y"
         },
         {
          "arrowcolor": "rgb(210,210,210)",
          "arrowhead": 2,
          "arrowsize": 1.5,
          "arrowwidth": 1,
          "ax": 24.03166666666666,
          "axref": "x",
          "ay": 4,
          "ayref": "y",
          "showarrow": true,
          "x": 23.53166666666666,
          "xref": "x",
          "y": 3,
          "yref": "y"
         },
         {
          "arrowcolor": "rgb(210,210,210)",
          "arrowhead": 2,
          "arrowsize": 1.5,
          "arrowwidth": 1,
          "ax": 24.03166666666666,
          "axref": "x",
          "ay": 4,
          "ayref": "y",
          "showarrow": true,
          "x": 24.53166666666666,
          "xref": "x",
          "y": 3,
          "yref": "y"
         },
         {
          "arrowcolor": "rgb(210,210,210)",
          "arrowhead": 2,
          "arrowsize": 1.5,
          "arrowwidth": 1,
          "ax": 24.03166666666666,
          "axref": "x",
          "ay": 4,
          "ayref": "y",
          "showarrow": true,
          "x": 25.53166666666666,
          "xref": "x",
          "y": 3,
          "yref": "y"
         },
         {
          "arrowcolor": "rgb(210,210,210)",
          "arrowhead": 2,
          "arrowsize": 1.5,
          "arrowwidth": 1,
          "ax": 21.28166666666666,
          "axref": "x",
          "ay": 5,
          "ayref": "y",
          "showarrow": true,
          "x": 27.53166666666666,
          "xref": "x",
          "y": 4,
          "yref": "y"
         },
         {
          "arrowcolor": "rgb(210,210,210)",
          "arrowhead": 2,
          "arrowsize": 1.5,
          "arrowwidth": 1,
          "ax": 27.53166666666666,
          "axref": "x",
          "ay": 4,
          "ayref": "y",
          "showarrow": true,
          "x": 26.53166666666666,
          "xref": "x",
          "y": 3,
          "yref": "y"
         },
         {
          "arrowcolor": "rgb(210,210,210)",
          "arrowhead": 2,
          "arrowsize": 1.5,
          "arrowwidth": 1,
          "ax": 27.53166666666666,
          "axref": "x",
          "ay": 4,
          "ayref": "y",
          "showarrow": true,
          "x": 27.53166666666666,
          "xref": "x",
          "y": 3,
          "yref": "y"
         },
         {
          "arrowcolor": "rgb(210,210,210)",
          "arrowhead": 2,
          "arrowsize": 1.5,
          "arrowwidth": 1,
          "ax": 27.53166666666666,
          "axref": "x",
          "ay": 4,
          "ayref": "y",
          "showarrow": true,
          "x": 28.53166666666666,
          "xref": "x",
          "y": 3,
          "yref": "y"
         },
         {
          "arrowcolor": "rgb(210,210,210)",
          "arrowhead": 2,
          "arrowsize": 1.5,
          "arrowwidth": 1,
          "ax": 0,
          "axref": "x",
          "ay": 6,
          "ayref": "y",
          "showarrow": true,
          "x": 40.83166666666668,
          "xref": "x",
          "y": 5,
          "yref": "y"
         },
         {
          "arrowcolor": "rgb(210,210,210)",
          "arrowhead": 2,
          "arrowsize": 1.5,
          "arrowwidth": 1,
          "ax": 40.83166666666668,
          "axref": "x",
          "ay": 5,
          "ayref": "y",
          "showarrow": true,
          "x": 31.531666666666677,
          "xref": "x",
          "y": 4,
          "yref": "y"
         },
         {
          "arrowcolor": "rgb(210,210,210)",
          "arrowhead": 2,
          "arrowsize": 1.5,
          "arrowwidth": 1,
          "ax": 31.531666666666677,
          "axref": "x",
          "ay": 4,
          "ayref": "y",
          "showarrow": true,
          "x": 29.531666666666677,
          "xref": "x",
          "y": 3,
          "yref": "y"
         },
         {
          "arrowcolor": "rgb(210,210,210)",
          "arrowhead": 2,
          "arrowsize": 1.5,
          "arrowwidth": 1,
          "ax": 31.531666666666677,
          "axref": "x",
          "ay": 4,
          "ayref": "y",
          "showarrow": true,
          "x": 30.531666666666677,
          "xref": "x",
          "y": 3,
          "yref": "y"
         },
         {
          "arrowcolor": "rgb(210,210,210)",
          "arrowhead": 2,
          "arrowsize": 1.5,
          "arrowwidth": 1,
          "ax": 31.531666666666677,
          "axref": "x",
          "ay": 4,
          "ayref": "y",
          "showarrow": true,
          "x": 31.531666666666677,
          "xref": "x",
          "y": 3,
          "yref": "y"
         },
         {
          "arrowcolor": "rgb(210,210,210)",
          "arrowhead": 2,
          "arrowsize": 1.5,
          "arrowwidth": 1,
          "ax": 31.531666666666677,
          "axref": "x",
          "ay": 4,
          "ayref": "y",
          "showarrow": true,
          "x": 32.53166666666668,
          "xref": "x",
          "y": 3,
          "yref": "y"
         },
         {
          "arrowcolor": "rgb(210,210,210)",
          "arrowhead": 2,
          "arrowsize": 1.5,
          "arrowwidth": 1,
          "ax": 31.531666666666677,
          "axref": "x",
          "ay": 4,
          "ayref": "y",
          "showarrow": true,
          "x": 33.53166666666668,
          "xref": "x",
          "y": 3,
          "yref": "y"
         },
         {
          "arrowcolor": "rgb(210,210,210)",
          "arrowhead": 2,
          "arrowsize": 1.5,
          "arrowwidth": 1,
          "ax": 40.83166666666668,
          "axref": "x",
          "ay": 5,
          "ayref": "y",
          "showarrow": true,
          "x": 36.53166666666668,
          "xref": "x",
          "y": 4,
          "yref": "y"
         },
         {
          "arrowcolor": "rgb(210,210,210)",
          "arrowhead": 2,
          "arrowsize": 1.5,
          "arrowwidth": 1,
          "ax": 36.53166666666668,
          "axref": "x",
          "ay": 4,
          "ayref": "y",
          "showarrow": true,
          "x": 34.53166666666668,
          "xref": "x",
          "y": 3,
          "yref": "y"
         },
         {
          "arrowcolor": "rgb(210,210,210)",
          "arrowhead": 2,
          "arrowsize": 1.5,
          "arrowwidth": 1,
          "ax": 36.53166666666668,
          "axref": "x",
          "ay": 4,
          "ayref": "y",
          "showarrow": true,
          "x": 35.53166666666668,
          "xref": "x",
          "y": 3,
          "yref": "y"
         },
         {
          "arrowcolor": "rgb(210,210,210)",
          "arrowhead": 2,
          "arrowsize": 1.5,
          "arrowwidth": 1,
          "ax": 36.53166666666668,
          "axref": "x",
          "ay": 4,
          "ayref": "y",
          "showarrow": true,
          "x": 36.53166666666668,
          "xref": "x",
          "y": 3,
          "yref": "y"
         },
         {
          "arrowcolor": "rgb(210,210,210)",
          "arrowhead": 2,
          "arrowsize": 1.5,
          "arrowwidth": 1,
          "ax": 36.53166666666668,
          "axref": "x",
          "ay": 4,
          "ayref": "y",
          "showarrow": true,
          "x": 37.53166666666668,
          "xref": "x",
          "y": 3,
          "yref": "y"
         },
         {
          "arrowcolor": "rgb(210,210,210)",
          "arrowhead": 2,
          "arrowsize": 1.5,
          "arrowwidth": 1,
          "ax": 36.53166666666668,
          "axref": "x",
          "ay": 4,
          "ayref": "y",
          "showarrow": true,
          "x": 38.53166666666668,
          "xref": "x",
          "y": 3,
          "yref": "y"
         },
         {
          "arrowcolor": "rgb(210,210,210)",
          "arrowhead": 2,
          "arrowsize": 1.5,
          "arrowwidth": 1,
          "ax": 40.83166666666668,
          "axref": "x",
          "ay": 5,
          "ayref": "y",
          "showarrow": true,
          "x": 41.03166666666668,
          "xref": "x",
          "y": 4,
          "yref": "y"
         },
         {
          "arrowcolor": "rgb(210,210,210)",
          "arrowhead": 2,
          "arrowsize": 1.5,
          "arrowwidth": 1,
          "ax": 41.03166666666668,
          "axref": "x",
          "ay": 4,
          "ayref": "y",
          "showarrow": true,
          "x": 39.53166666666668,
          "xref": "x",
          "y": 3,
          "yref": "y"
         },
         {
          "arrowcolor": "rgb(210,210,210)",
          "arrowhead": 2,
          "arrowsize": 1.5,
          "arrowwidth": 1,
          "ax": 41.03166666666668,
          "axref": "x",
          "ay": 4,
          "ayref": "y",
          "showarrow": true,
          "x": 40.53166666666668,
          "xref": "x",
          "y": 3,
          "yref": "y"
         },
         {
          "arrowcolor": "rgb(210,210,210)",
          "arrowhead": 2,
          "arrowsize": 1.5,
          "arrowwidth": 1,
          "ax": 41.03166666666668,
          "axref": "x",
          "ay": 4,
          "ayref": "y",
          "showarrow": true,
          "x": 41.53166666666668,
          "xref": "x",
          "y": 3,
          "yref": "y"
         },
         {
          "arrowcolor": "rgb(210,210,210)",
          "arrowhead": 2,
          "arrowsize": 1.5,
          "arrowwidth": 1,
          "ax": 41.03166666666668,
          "axref": "x",
          "ay": 4,
          "ayref": "y",
          "showarrow": true,
          "x": 42.53166666666668,
          "xref": "x",
          "y": 3,
          "yref": "y"
         },
         {
          "arrowcolor": "rgb(210,210,210)",
          "arrowhead": 2,
          "arrowsize": 1.5,
          "arrowwidth": 1,
          "ax": 40.83166666666668,
          "axref": "x",
          "ay": 5,
          "ayref": "y",
          "showarrow": true,
          "x": 45.03166666666668,
          "xref": "x",
          "y": 4,
          "yref": "y"
         },
         {
          "arrowcolor": "rgb(210,210,210)",
          "arrowhead": 2,
          "arrowsize": 1.5,
          "arrowwidth": 1,
          "ax": 45.03166666666668,
          "axref": "x",
          "ay": 4,
          "ayref": "y",
          "showarrow": true,
          "x": 43.53166666666668,
          "xref": "x",
          "y": 3,
          "yref": "y"
         },
         {
          "arrowcolor": "rgb(210,210,210)",
          "arrowhead": 2,
          "arrowsize": 1.5,
          "arrowwidth": 1,
          "ax": 45.03166666666668,
          "axref": "x",
          "ay": 4,
          "ayref": "y",
          "showarrow": true,
          "x": 44.53166666666668,
          "xref": "x",
          "y": 3,
          "yref": "y"
         },
         {
          "arrowcolor": "rgb(210,210,210)",
          "arrowhead": 2,
          "arrowsize": 1.5,
          "arrowwidth": 1,
          "ax": 45.03166666666668,
          "axref": "x",
          "ay": 4,
          "ayref": "y",
          "showarrow": true,
          "x": 45.53166666666668,
          "xref": "x",
          "y": 3,
          "yref": "y"
         },
         {
          "arrowcolor": "rgb(210,210,210)",
          "arrowhead": 2,
          "arrowsize": 1.5,
          "arrowwidth": 1,
          "ax": 45.03166666666668,
          "axref": "x",
          "ay": 4,
          "ayref": "y",
          "showarrow": true,
          "x": 46.53166666666668,
          "xref": "x",
          "y": 3,
          "yref": "y"
         },
         {
          "arrowcolor": "rgb(210,210,210)",
          "arrowhead": 2,
          "arrowsize": 1.5,
          "arrowwidth": 1,
          "ax": 40.83166666666668,
          "axref": "x",
          "ay": 5,
          "ayref": "y",
          "showarrow": true,
          "x": 50.03166666666668,
          "xref": "x",
          "y": 4,
          "yref": "y"
         },
         {
          "arrowcolor": "rgb(210,210,210)",
          "arrowhead": 2,
          "arrowsize": 1.5,
          "arrowwidth": 1,
          "ax": 50.03166666666668,
          "axref": "x",
          "ay": 4,
          "ayref": "y",
          "showarrow": true,
          "x": 47.53166666666668,
          "xref": "x",
          "y": 3,
          "yref": "y"
         },
         {
          "arrowcolor": "rgb(210,210,210)",
          "arrowhead": 2,
          "arrowsize": 1.5,
          "arrowwidth": 1,
          "ax": 50.03166666666668,
          "axref": "x",
          "ay": 4,
          "ayref": "y",
          "showarrow": true,
          "x": 48.53166666666668,
          "xref": "x",
          "y": 3,
          "yref": "y"
         },
         {
          "arrowcolor": "rgb(210,210,210)",
          "arrowhead": 2,
          "arrowsize": 1.5,
          "arrowwidth": 1,
          "ax": 50.03166666666668,
          "axref": "x",
          "ay": 4,
          "ayref": "y",
          "showarrow": true,
          "x": 49.53166666666668,
          "xref": "x",
          "y": 3,
          "yref": "y"
         },
         {
          "arrowcolor": "rgb(210,210,210)",
          "arrowhead": 2,
          "arrowsize": 1.5,
          "arrowwidth": 1,
          "ax": 50.03166666666668,
          "axref": "x",
          "ay": 4,
          "ayref": "y",
          "showarrow": true,
          "x": 50.53166666666668,
          "xref": "x",
          "y": 3,
          "yref": "y"
         },
         {
          "arrowcolor": "rgb(210,210,210)",
          "arrowhead": 2,
          "arrowsize": 1.5,
          "arrowwidth": 1,
          "ax": 50.03166666666668,
          "axref": "x",
          "ay": 4,
          "ayref": "y",
          "showarrow": true,
          "x": 51.53166666666668,
          "xref": "x",
          "y": 3,
          "yref": "y"
         },
         {
          "arrowcolor": "rgb(210,210,210)",
          "arrowhead": 2,
          "arrowsize": 1.5,
          "arrowwidth": 1,
          "ax": 50.03166666666668,
          "axref": "x",
          "ay": 4,
          "ayref": "y",
          "showarrow": true,
          "x": 52.53166666666668,
          "xref": "x",
          "y": 3,
          "yref": "y"
         }
        ],
        "font": {
         "size": 12
        },
        "hovermode": "closest",
        "margin": {
         "b": 85,
         "l": 40,
         "r": 40,
         "t": 100
        },
        "plot_bgcolor": "rgb(248,248,248)",
        "showlegend": false,
        "template": {
         "data": {
          "bar": [
           {
            "error_x": {
             "color": "#2a3f5f"
            },
            "error_y": {
             "color": "#2a3f5f"
            },
            "marker": {
             "line": {
              "color": "#E5ECF6",
              "width": 0.5
             },
             "pattern": {
              "fillmode": "overlay",
              "size": 10,
              "solidity": 0.2
             }
            },
            "type": "bar"
           }
          ],
          "barpolar": [
           {
            "marker": {
             "line": {
              "color": "#E5ECF6",
              "width": 0.5
             },
             "pattern": {
              "fillmode": "overlay",
              "size": 10,
              "solidity": 0.2
             }
            },
            "type": "barpolar"
           }
          ],
          "carpet": [
           {
            "aaxis": {
             "endlinecolor": "#2a3f5f",
             "gridcolor": "white",
             "linecolor": "white",
             "minorgridcolor": "white",
             "startlinecolor": "#2a3f5f"
            },
            "baxis": {
             "endlinecolor": "#2a3f5f",
             "gridcolor": "white",
             "linecolor": "white",
             "minorgridcolor": "white",
             "startlinecolor": "#2a3f5f"
            },
            "type": "carpet"
           }
          ],
          "choropleth": [
           {
            "colorbar": {
             "outlinewidth": 0,
             "ticks": ""
            },
            "type": "choropleth"
           }
          ],
          "contour": [
           {
            "colorbar": {
             "outlinewidth": 0,
             "ticks": ""
            },
            "colorscale": [
             [
              0,
              "#0d0887"
             ],
             [
              0.1111111111111111,
              "#46039f"
             ],
             [
              0.2222222222222222,
              "#7201a8"
             ],
             [
              0.3333333333333333,
              "#9c179e"
             ],
             [
              0.4444444444444444,
              "#bd3786"
             ],
             [
              0.5555555555555556,
              "#d8576b"
             ],
             [
              0.6666666666666666,
              "#ed7953"
             ],
             [
              0.7777777777777778,
              "#fb9f3a"
             ],
             [
              0.8888888888888888,
              "#fdca26"
             ],
             [
              1,
              "#f0f921"
             ]
            ],
            "type": "contour"
           }
          ],
          "contourcarpet": [
           {
            "colorbar": {
             "outlinewidth": 0,
             "ticks": ""
            },
            "type": "contourcarpet"
           }
          ],
          "heatmap": [
           {
            "colorbar": {
             "outlinewidth": 0,
             "ticks": ""
            },
            "colorscale": [
             [
              0,
              "#0d0887"
             ],
             [
              0.1111111111111111,
              "#46039f"
             ],
             [
              0.2222222222222222,
              "#7201a8"
             ],
             [
              0.3333333333333333,
              "#9c179e"
             ],
             [
              0.4444444444444444,
              "#bd3786"
             ],
             [
              0.5555555555555556,
              "#d8576b"
             ],
             [
              0.6666666666666666,
              "#ed7953"
             ],
             [
              0.7777777777777778,
              "#fb9f3a"
             ],
             [
              0.8888888888888888,
              "#fdca26"
             ],
             [
              1,
              "#f0f921"
             ]
            ],
            "type": "heatmap"
           }
          ],
          "heatmapgl": [
           {
            "colorbar": {
             "outlinewidth": 0,
             "ticks": ""
            },
            "colorscale": [
             [
              0,
              "#0d0887"
             ],
             [
              0.1111111111111111,
              "#46039f"
             ],
             [
              0.2222222222222222,
              "#7201a8"
             ],
             [
              0.3333333333333333,
              "#9c179e"
             ],
             [
              0.4444444444444444,
              "#bd3786"
             ],
             [
              0.5555555555555556,
              "#d8576b"
             ],
             [
              0.6666666666666666,
              "#ed7953"
             ],
             [
              0.7777777777777778,
              "#fb9f3a"
             ],
             [
              0.8888888888888888,
              "#fdca26"
             ],
             [
              1,
              "#f0f921"
             ]
            ],
            "type": "heatmapgl"
           }
          ],
          "histogram": [
           {
            "marker": {
             "pattern": {
              "fillmode": "overlay",
              "size": 10,
              "solidity": 0.2
             }
            },
            "type": "histogram"
           }
          ],
          "histogram2d": [
           {
            "colorbar": {
             "outlinewidth": 0,
             "ticks": ""
            },
            "colorscale": [
             [
              0,
              "#0d0887"
             ],
             [
              0.1111111111111111,
              "#46039f"
             ],
             [
              0.2222222222222222,
              "#7201a8"
             ],
             [
              0.3333333333333333,
              "#9c179e"
             ],
             [
              0.4444444444444444,
              "#bd3786"
             ],
             [
              0.5555555555555556,
              "#d8576b"
             ],
             [
              0.6666666666666666,
              "#ed7953"
             ],
             [
              0.7777777777777778,
              "#fb9f3a"
             ],
             [
              0.8888888888888888,
              "#fdca26"
             ],
             [
              1,
              "#f0f921"
             ]
            ],
            "type": "histogram2d"
           }
          ],
          "histogram2dcontour": [
           {
            "colorbar": {
             "outlinewidth": 0,
             "ticks": ""
            },
            "colorscale": [
             [
              0,
              "#0d0887"
             ],
             [
              0.1111111111111111,
              "#46039f"
             ],
             [
              0.2222222222222222,
              "#7201a8"
             ],
             [
              0.3333333333333333,
              "#9c179e"
             ],
             [
              0.4444444444444444,
              "#bd3786"
             ],
             [
              0.5555555555555556,
              "#d8576b"
             ],
             [
              0.6666666666666666,
              "#ed7953"
             ],
             [
              0.7777777777777778,
              "#fb9f3a"
             ],
             [
              0.8888888888888888,
              "#fdca26"
             ],
             [
              1,
              "#f0f921"
             ]
            ],
            "type": "histogram2dcontour"
           }
          ],
          "mesh3d": [
           {
            "colorbar": {
             "outlinewidth": 0,
             "ticks": ""
            },
            "type": "mesh3d"
           }
          ],
          "parcoords": [
           {
            "line": {
             "colorbar": {
              "outlinewidth": 0,
              "ticks": ""
             }
            },
            "type": "parcoords"
           }
          ],
          "pie": [
           {
            "automargin": true,
            "type": "pie"
           }
          ],
          "scatter": [
           {
            "fillpattern": {
             "fillmode": "overlay",
             "size": 10,
             "solidity": 0.2
            },
            "type": "scatter"
           }
          ],
          "scatter3d": [
           {
            "line": {
             "colorbar": {
              "outlinewidth": 0,
              "ticks": ""
             }
            },
            "marker": {
             "colorbar": {
              "outlinewidth": 0,
              "ticks": ""
             }
            },
            "type": "scatter3d"
           }
          ],
          "scattercarpet": [
           {
            "marker": {
             "colorbar": {
              "outlinewidth": 0,
              "ticks": ""
             }
            },
            "type": "scattercarpet"
           }
          ],
          "scattergeo": [
           {
            "marker": {
             "colorbar": {
              "outlinewidth": 0,
              "ticks": ""
             }
            },
            "type": "scattergeo"
           }
          ],
          "scattergl": [
           {
            "marker": {
             "colorbar": {
              "outlinewidth": 0,
              "ticks": ""
             }
            },
            "type": "scattergl"
           }
          ],
          "scattermapbox": [
           {
            "marker": {
             "colorbar": {
              "outlinewidth": 0,
              "ticks": ""
             }
            },
            "type": "scattermapbox"
           }
          ],
          "scatterpolar": [
           {
            "marker": {
             "colorbar": {
              "outlinewidth": 0,
              "ticks": ""
             }
            },
            "type": "scatterpolar"
           }
          ],
          "scatterpolargl": [
           {
            "marker": {
             "colorbar": {
              "outlinewidth": 0,
              "ticks": ""
             }
            },
            "type": "scatterpolargl"
           }
          ],
          "scatterternary": [
           {
            "marker": {
             "colorbar": {
              "outlinewidth": 0,
              "ticks": ""
             }
            },
            "type": "scatterternary"
           }
          ],
          "surface": [
           {
            "colorbar": {
             "outlinewidth": 0,
             "ticks": ""
            },
            "colorscale": [
             [
              0,
              "#0d0887"
             ],
             [
              0.1111111111111111,
              "#46039f"
             ],
             [
              0.2222222222222222,
              "#7201a8"
             ],
             [
              0.3333333333333333,
              "#9c179e"
             ],
             [
              0.4444444444444444,
              "#bd3786"
             ],
             [
              0.5555555555555556,
              "#d8576b"
             ],
             [
              0.6666666666666666,
              "#ed7953"
             ],
             [
              0.7777777777777778,
              "#fb9f3a"
             ],
             [
              0.8888888888888888,
              "#fdca26"
             ],
             [
              1,
              "#f0f921"
             ]
            ],
            "type": "surface"
           }
          ],
          "table": [
           {
            "cells": {
             "fill": {
              "color": "#EBF0F8"
             },
             "line": {
              "color": "white"
             }
            },
            "header": {
             "fill": {
              "color": "#C8D4E3"
             },
             "line": {
              "color": "white"
             }
            },
            "type": "table"
           }
          ]
         },
         "layout": {
          "annotationdefaults": {
           "arrowcolor": "#2a3f5f",
           "arrowhead": 0,
           "arrowwidth": 1
          },
          "autotypenumbers": "strict",
          "coloraxis": {
           "colorbar": {
            "outlinewidth": 0,
            "ticks": ""
           }
          },
          "colorscale": {
           "diverging": [
            [
             0,
             "#8e0152"
            ],
            [
             0.1,
             "#c51b7d"
            ],
            [
             0.2,
             "#de77ae"
            ],
            [
             0.3,
             "#f1b6da"
            ],
            [
             0.4,
             "#fde0ef"
            ],
            [
             0.5,
             "#f7f7f7"
            ],
            [
             0.6,
             "#e6f5d0"
            ],
            [
             0.7,
             "#b8e186"
            ],
            [
             0.8,
             "#7fbc41"
            ],
            [
             0.9,
             "#4d9221"
            ],
            [
             1,
             "#276419"
            ]
           ],
           "sequential": [
            [
             0,
             "#0d0887"
            ],
            [
             0.1111111111111111,
             "#46039f"
            ],
            [
             0.2222222222222222,
             "#7201a8"
            ],
            [
             0.3333333333333333,
             "#9c179e"
            ],
            [
             0.4444444444444444,
             "#bd3786"
            ],
            [
             0.5555555555555556,
             "#d8576b"
            ],
            [
             0.6666666666666666,
             "#ed7953"
            ],
            [
             0.7777777777777778,
             "#fb9f3a"
            ],
            [
             0.8888888888888888,
             "#fdca26"
            ],
            [
             1,
             "#f0f921"
            ]
           ],
           "sequentialminus": [
            [
             0,
             "#0d0887"
            ],
            [
             0.1111111111111111,
             "#46039f"
            ],
            [
             0.2222222222222222,
             "#7201a8"
            ],
            [
             0.3333333333333333,
             "#9c179e"
            ],
            [
             0.4444444444444444,
             "#bd3786"
            ],
            [
             0.5555555555555556,
             "#d8576b"
            ],
            [
             0.6666666666666666,
             "#ed7953"
            ],
            [
             0.7777777777777778,
             "#fb9f3a"
            ],
            [
             0.8888888888888888,
             "#fdca26"
            ],
            [
             1,
             "#f0f921"
            ]
           ]
          },
          "colorway": [
           "#636efa",
           "#EF553B",
           "#00cc96",
           "#ab63fa",
           "#FFA15A",
           "#19d3f3",
           "#FF6692",
           "#B6E880",
           "#FF97FF",
           "#FECB52"
          ],
          "font": {
           "color": "#2a3f5f"
          },
          "geo": {
           "bgcolor": "white",
           "lakecolor": "white",
           "landcolor": "#E5ECF6",
           "showlakes": true,
           "showland": true,
           "subunitcolor": "white"
          },
          "hoverlabel": {
           "align": "left"
          },
          "hovermode": "closest",
          "mapbox": {
           "style": "light"
          },
          "paper_bgcolor": "white",
          "plot_bgcolor": "#E5ECF6",
          "polar": {
           "angularaxis": {
            "gridcolor": "white",
            "linecolor": "white",
            "ticks": ""
           },
           "bgcolor": "#E5ECF6",
           "radialaxis": {
            "gridcolor": "white",
            "linecolor": "white",
            "ticks": ""
           }
          },
          "scene": {
           "xaxis": {
            "backgroundcolor": "#E5ECF6",
            "gridcolor": "white",
            "gridwidth": 2,
            "linecolor": "white",
            "showbackground": true,
            "ticks": "",
            "zerolinecolor": "white"
           },
           "yaxis": {
            "backgroundcolor": "#E5ECF6",
            "gridcolor": "white",
            "gridwidth": 2,
            "linecolor": "white",
            "showbackground": true,
            "ticks": "",
            "zerolinecolor": "white"
           },
           "zaxis": {
            "backgroundcolor": "#E5ECF6",
            "gridcolor": "white",
            "gridwidth": 2,
            "linecolor": "white",
            "showbackground": true,
            "ticks": "",
            "zerolinecolor": "white"
           }
          },
          "shapedefaults": {
           "line": {
            "color": "#2a3f5f"
           }
          },
          "ternary": {
           "aaxis": {
            "gridcolor": "white",
            "linecolor": "white",
            "ticks": ""
           },
           "baxis": {
            "gridcolor": "white",
            "linecolor": "white",
            "ticks": ""
           },
           "bgcolor": "#E5ECF6",
           "caxis": {
            "gridcolor": "white",
            "linecolor": "white",
            "ticks": ""
           }
          },
          "title": {
           "x": 0.05
          },
          "xaxis": {
           "automargin": true,
           "gridcolor": "white",
           "linecolor": "white",
           "ticks": "",
           "title": {
            "standoff": 15
           },
           "zerolinecolor": "white",
           "zerolinewidth": 2
          },
          "yaxis": {
           "automargin": true,
           "gridcolor": "white",
           "linecolor": "white",
           "ticks": "",
           "title": {
            "standoff": 15
           },
           "zerolinecolor": "white",
           "zerolinewidth": 2
          }
         }
        },
        "title": {
         "text": "Tree Visualization"
        },
        "xaxis": {
         "showgrid": false,
         "showline": false,
         "showticklabels": false,
         "zeroline": false
        },
        "yaxis": {
         "showgrid": false,
         "showline": false,
         "showticklabels": false,
         "zeroline": false
        }
       }
      }
     },
     "metadata": {},
     "output_type": "display_data"
    }
   ],
   "source": [
    "RA.visualize_tree()"
   ]
  },
  {
   "cell_type": "markdown",
   "id": "f219d60a-1f0b-4cee-89eb-2ae026f13e63",
   "metadata": {},
   "source": [
    "### Querying from the tree\n",
    "\n",
    "```python\n",
    "question = # any question\n",
    "RA.answer_question(question)\n",
    "```"
   ]
  },
  {
   "cell_type": "code",
   "execution_count": 21,
   "id": "1b4037c5-ad5a-424b-80e4-a67b8e00773b",
   "metadata": {},
   "outputs": [
    {
     "data": {
      "application/vnd.jupyter.widget-view+json": {
       "model_id": "3b73e59b393a455182da6e1f1b394cf8",
       "version_major": 2,
       "version_minor": 0
      },
      "text/plain": [
       "Batches:   0%|          | 0/1 [00:00<?, ?it/s]"
      ]
     },
     "metadata": {},
     "output_type": "display_data"
    },
    {
     "name": "stderr",
     "output_type": "stream",
     "text": [
      "2025-02-01 19:41:04,869 - HTTP Request: POST https://models.inference.ai.azure.com/chat/completions \"HTTP/1.1 200 OK\"\n"
     ]
    },
    {
     "name": "stdout",
     "output_type": "stream",
     "text": [
      "Answer:  هافبک باتجربه پرسپولیس، محمد خدابنده‌لو، در یکی از بازی‌های اخیر به طور زودهنگام اخراج شد. اما در متن به دقیقه دقیق اخراج او اشاره‌ای نشده است.\n"
     ]
    }
   ],
   "source": [
    "question = \"هافبک باتجربه پرسپولیس در چه دقیقه ای و توسط چه کسی از بازی اخراج شد؟\"\n",
    "\n",
    "answer = RA.answer_question(question=question, collapse_tree=False)\n",
    "\n",
    "print(\"Answer: \", answer)"
   ]
  },
  {
   "cell_type": "code",
   "execution_count": 6,
   "id": "f5be7e57",
   "metadata": {},
   "outputs": [
    {
     "name": "stderr",
     "output_type": "stream",
     "text": [
      "2025-02-01 19:30:23,084 - Tree successfully saved to demo/football360_gpt-4o-mini\n"
     ]
    }
   ],
   "source": [
    "# Save the tree by calling RA.save(\"path/to/save\")\n",
    "SAVE_PATH = \"demo/football360_gpt-4o-mini\"\n",
    "RA.save(SAVE_PATH)"
   ]
  },
  {
   "cell_type": "code",
   "execution_count": null,
   "id": "2e845de9",
   "metadata": {},
   "outputs": [],
   "source": [
    "# load back the tree by passing it into RetrievalAugmentation\n",
    "\n",
    "RA = RetrievalAugmentation(tree=SAVE_PATH)\n",
    "\n",
    "answer = RA.answer_question(question=question)\n",
    "print(\"Answer: \", answer)"
   ]
  },
  {
   "cell_type": "markdown",
   "id": "277ab6ea-1c79-4ed1-97de-1c2e39d6db2e",
   "metadata": {},
   "source": [
    "## Using other Open Source Models for Summarization/QA/Embeddings\n",
    "\n",
    "If you want to use other models such as Llama or Mistral, you can very easily define your own models and use them with RAPTOR. "
   ]
  },
  {
   "cell_type": "code",
   "execution_count": 1,
   "id": "f86cbe7e",
   "metadata": {},
   "outputs": [
    {
     "name": "stderr",
     "output_type": "stream",
     "text": [
      "2025-01-28 18:01:16,680 - Loading faiss with AVX2 support.\n",
      "2025-01-28 18:01:16,799 - Successfully loaded faiss with AVX2 support.\n"
     ]
    }
   ],
   "source": [
    "import torch\n",
    "from raptor import BaseSummarizationModel, BaseQAModel, BaseEmbeddingModel, RetrievalAugmentationConfig, RetrievalAugmentation\n",
    "from transformers import AutoTokenizer, pipeline"
   ]
  },
  {
   "cell_type": "code",
   "execution_count": 3,
   "id": "fe5cef43",
   "metadata": {},
   "outputs": [
    {
     "data": {
      "application/vnd.jupyter.widget-view+json": {
       "model_id": "505bb7353d6145acbff5798308419d11",
       "version_major": 2,
       "version_minor": 0
      },
      "text/plain": [
       "VBox(children=(HTML(value='<center> <img\\nsrc=https://huggingface.co/front/assets/huggingface_logo-noborder.sv…"
      ]
     },
     "metadata": {},
     "output_type": "display_data"
    },
    {
     "name": "stderr",
     "output_type": "stream",
     "text": [
      "Token has not been saved to git credential helper.\n",
      "2025-01-28 13:30:31,671 - Token has not been saved to git credential helper.\n"
     ]
    }
   ],
   "source": [
    "# if you want to use the Gemma, you will need to authenticate with HuggingFace, Skip this step, if you have the model already downloaded\n",
    "from huggingface_hub import login\n",
    "login()"
   ]
  },
  {
   "cell_type": "code",
   "execution_count": 4,
   "id": "245b91a5",
   "metadata": {},
   "outputs": [],
   "source": [
    "from transformers import AutoTokenizer, pipeline\n",
    "import torch\n",
    "\n",
    "# You can define your own Summarization model by extending the base Summarization Class. \n",
    "class GEMMASummarizationModel(BaseSummarizationModel):\n",
    "    def __init__(self, model_name=\"google/gemma-2b-it\"):\n",
    "        # Initialize the tokenizer and the pipeline for the GEMMA model\n",
    "        self.tokenizer = AutoTokenizer.from_pretrained(model_name)\n",
    "        self.summarization_pipeline = pipeline(\n",
    "            \"text-generation\",\n",
    "            model=model_name,\n",
    "            model_kwargs={\"torch_dtype\": torch.bfloat16},\n",
    "            device=torch.device('cuda' if torch.cuda.is_available() else 'cpu'),  # Use \"cpu\" if CUDA is not available\n",
    "        )\n",
    "\n",
    "    def summarize(self, context, max_tokens=150):\n",
    "        # Format the prompt for summarization\n",
    "        messages=[\n",
    "            {\"role\": \"user\", \"content\": f\"Write a summary of the following, including as many key details as possible: {context}:\"}\n",
    "        ]\n",
    "        \n",
    "        prompt = self.tokenizer.apply_chat_template(messages, tokenize=False, add_generation_prompt=True)\n",
    "        \n",
    "        # Generate the summary using the pipeline\n",
    "        outputs = self.summarization_pipeline(\n",
    "            prompt,\n",
    "            max_new_tokens=max_tokens,\n",
    "            do_sample=True,\n",
    "            temperature=0.7,\n",
    "            top_k=50,\n",
    "            top_p=0.95\n",
    "        )\n",
    "        \n",
    "        # Extracting and returning the generated summary\n",
    "        summary = outputs[0][\"generated_text\"].strip()\n",
    "        return summary\n"
   ]
  },
  {
   "cell_type": "code",
   "execution_count": 5,
   "id": "a171496d",
   "metadata": {},
   "outputs": [],
   "source": [
    "class GEMMAQAModel(BaseQAModel):\n",
    "    def __init__(self, model_name= \"google/gemma-2b-it\"):\n",
    "        # Initialize the tokenizer and the pipeline for the model\n",
    "        self.tokenizer = AutoTokenizer.from_pretrained(model_name)\n",
    "        self.qa_pipeline = pipeline(\n",
    "            \"text-generation\",\n",
    "            model=model_name,\n",
    "            model_kwargs={\"torch_dtype\": torch.bfloat16},\n",
    "            device=torch.device('cuda' if torch.cuda.is_available() else 'cpu'),\n",
    "        )\n",
    "\n",
    "    def answer_question(self, context, question):\n",
    "        # Apply the chat template for the context and question\n",
    "        messages=[\n",
    "              {\"role\": \"user\", \"content\": f\"Given Context: {context} Give the best full answer amongst the option to question {question}\"}\n",
    "        ]\n",
    "        prompt = self.tokenizer.apply_chat_template(messages, tokenize=False, add_generation_prompt=True)\n",
    "        \n",
    "        # Generate the answer using the pipeline\n",
    "        outputs = self.qa_pipeline(\n",
    "            prompt,\n",
    "            max_new_tokens=256,\n",
    "            do_sample=True,\n",
    "            temperature=0.7,\n",
    "            top_k=50,\n",
    "            top_p=0.95\n",
    "        )\n",
    "        \n",
    "        # Extracting and returning the generated answer\n",
    "        answer = outputs[0][\"generated_text\"][len(prompt):]\n",
    "        return answer"
   ]
  },
  {
   "cell_type": "code",
   "execution_count": 2,
   "id": "878f7c7b",
   "metadata": {},
   "outputs": [],
   "source": [
    "from sentence_transformers import SentenceTransformer\n",
    "class SBertEmbeddingModel(BaseEmbeddingModel):\n",
    "    def __init__(self, model_name=\"BAAI/bge-small-en-v1.5\"):\n",
    "        self.model = SentenceTransformer(model_name)\n",
    "\n",
    "    def create_embedding(self, text):\n",
    "        return self.model.encode(text)\n"
   ]
  },
  {
   "cell_type": "code",
   "execution_count": 8,
   "id": "255791ce",
   "metadata": {},
   "outputs": [
    {
     "data": {
      "application/vnd.jupyter.widget-view+json": {
       "model_id": "02abb4c43a834ab4b3ce03090f4c6127",
       "version_major": 2,
       "version_minor": 0
      },
      "text/plain": [
       "Loading checkpoint shards:   0%|          | 0/2 [00:00<?, ?it/s]"
      ]
     },
     "metadata": {},
     "output_type": "display_data"
    },
    {
     "name": "stderr",
     "output_type": "stream",
     "text": [
      "Device set to use cpu\n"
     ]
    },
    {
     "data": {
      "application/vnd.jupyter.widget-view+json": {
       "model_id": "5149b0820871479081173cf85a267f6a",
       "version_major": 2,
       "version_minor": 0
      },
      "text/plain": [
       "Loading checkpoint shards:   0%|          | 0/2 [00:00<?, ?it/s]"
      ]
     },
     "metadata": {},
     "output_type": "display_data"
    },
    {
     "name": "stderr",
     "output_type": "stream",
     "text": [
      "Device set to use cpu\n",
      "2025-01-28 11:25:09,865 - Use pytorch device_name: cpu\n",
      "2025-01-28 11:25:09,868 - Load pretrained SentenceTransformer: BAAI/bge-small-en-v1.5\n"
     ]
    }
   ],
   "source": [
    "RAC = RetrievalAugmentationConfig(summarization_model=GEMMASummarizationModel(), qa_model=GEMMAQAModel(), embedding_model=SBertEmbeddingModel())"
   ]
  },
  {
   "cell_type": "code",
   "execution_count": 9,
   "id": "fee46f1d",
   "metadata": {},
   "outputs": [
    {
     "name": "stderr",
     "output_type": "stream",
     "text": [
      "2025-01-28 11:25:25,518 - Successfully initialized TreeBuilder with Config \n",
      "        TreeBuilderConfig:\n",
      "            Tokenizer: <Encoding 'cl100k_base'>\n",
      "            Max Tokens: 100\n",
      "            Num Layers: 5\n",
      "            Threshold: 0.5\n",
      "            Top K: 5\n",
      "            Selection Mode: top_k\n",
      "            Summarization Length: 100\n",
      "            Summarization Model: <__main__.GEMMASummarizationModel object at 0x000001AB0D0CF790>\n",
      "            Embedding Models: {'EMB': <__main__.SBertEmbeddingModel object at 0x000001AB18E50A60>}\n",
      "            Cluster Embedding Model: EMB\n",
      "        \n",
      "        Reduction Dimension: 10\n",
      "        Clustering Algorithm: RAPTOR_Clustering\n",
      "        Clustering Parameters: {}\n",
      "        \n",
      "2025-01-28 11:25:25,520 - Successfully initialized ClusterTreeBuilder with Config \n",
      "        TreeBuilderConfig:\n",
      "            Tokenizer: <Encoding 'cl100k_base'>\n",
      "            Max Tokens: 100\n",
      "            Num Layers: 5\n",
      "            Threshold: 0.5\n",
      "            Top K: 5\n",
      "            Selection Mode: top_k\n",
      "            Summarization Length: 100\n",
      "            Summarization Model: <__main__.GEMMASummarizationModel object at 0x000001AB0D0CF790>\n",
      "            Embedding Models: {'EMB': <__main__.SBertEmbeddingModel object at 0x000001AB18E50A60>}\n",
      "            Cluster Embedding Model: EMB\n",
      "        \n",
      "        Reduction Dimension: 10\n",
      "        Clustering Algorithm: RAPTOR_Clustering\n",
      "        Clustering Parameters: {}\n",
      "        \n",
      "2025-01-28 11:25:25,521 - Successfully initialized RetrievalAugmentation with Config \n",
      "        RetrievalAugmentationConfig:\n",
      "            \n",
      "        TreeBuilderConfig:\n",
      "            Tokenizer: <Encoding 'cl100k_base'>\n",
      "            Max Tokens: 100\n",
      "            Num Layers: 5\n",
      "            Threshold: 0.5\n",
      "            Top K: 5\n",
      "            Selection Mode: top_k\n",
      "            Summarization Length: 100\n",
      "            Summarization Model: <__main__.GEMMASummarizationModel object at 0x000001AB0D0CF790>\n",
      "            Embedding Models: {'EMB': <__main__.SBertEmbeddingModel object at 0x000001AB18E50A60>}\n",
      "            Cluster Embedding Model: EMB\n",
      "        \n",
      "        Reduction Dimension: 10\n",
      "        Clustering Algorithm: RAPTOR_Clustering\n",
      "        Clustering Parameters: {}\n",
      "        \n",
      "            \n",
      "            \n",
      "        TreeRetrieverConfig:\n",
      "            Tokenizer: <Encoding 'cl100k_base'>\n",
      "            Threshold: 0.5\n",
      "            Top K: 5\n",
      "            Selection Mode: top_k\n",
      "            Context Embedding Model: EMB\n",
      "            Embedding Model: <__main__.SBertEmbeddingModel object at 0x000001AB18E50A60>\n",
      "            Num Layers: None\n",
      "            Start Layer: None\n",
      "        \n",
      "            \n",
      "            QA Model: <__main__.GEMMAQAModel object at 0x000001AB18E50A90>\n",
      "            Tree Builder Type: cluster\n",
      "        \n"
     ]
    }
   ],
   "source": [
    "RA = RetrievalAugmentation(config=RAC)"
   ]
  },
  {
   "cell_type": "code",
   "execution_count": 18,
   "id": "afe05daf",
   "metadata": {},
   "outputs": [
    {
     "name": "stderr",
     "output_type": "stream",
     "text": [
      "2025-01-27 18:47:30,953 - Creating Leaf Nodes\n"
     ]
    },
    {
     "data": {
      "application/vnd.jupyter.widget-view+json": {
       "model_id": "a7d7e2726f354c588d24ea8a5693cafb",
       "version_major": 2,
       "version_minor": 0
      },
      "text/plain": [
       "Batches:   0%|          | 0/1 [00:00<?, ?it/s]"
      ]
     },
     "metadata": {},
     "output_type": "display_data"
    },
    {
     "data": {
      "application/vnd.jupyter.widget-view+json": {
       "model_id": "42b84b59cf344a54bc250b05317d0c98",
       "version_major": 2,
       "version_minor": 0
      },
      "text/plain": [
       "Batches:   0%|          | 0/1 [00:00<?, ?it/s]"
      ]
     },
     "metadata": {},
     "output_type": "display_data"
    },
    {
     "data": {
      "application/vnd.jupyter.widget-view+json": {
       "model_id": "8296522e0de048169d72b0fafa48e2cc",
       "version_major": 2,
       "version_minor": 0
      },
      "text/plain": [
       "Batches:   0%|          | 0/1 [00:00<?, ?it/s]"
      ]
     },
     "metadata": {},
     "output_type": "display_data"
    },
    {
     "data": {
      "application/vnd.jupyter.widget-view+json": {
       "model_id": "078835b946f842c8a69aa610643a056a",
       "version_major": 2,
       "version_minor": 0
      },
      "text/plain": [
       "Batches:   0%|          | 0/1 [00:00<?, ?it/s]"
      ]
     },
     "metadata": {},
     "output_type": "display_data"
    },
    {
     "data": {
      "application/vnd.jupyter.widget-view+json": {
       "model_id": "1c052e3b0790480289b18260436c67e2",
       "version_major": 2,
       "version_minor": 0
      },
      "text/plain": [
       "Batches:   0%|          | 0/1 [00:00<?, ?it/s]"
      ]
     },
     "metadata": {},
     "output_type": "display_data"
    },
    {
     "data": {
      "application/vnd.jupyter.widget-view+json": {
       "model_id": "cf62f42422c1492f90f54349549d3e14",
       "version_major": 2,
       "version_minor": 0
      },
      "text/plain": [
       "Batches:   0%|          | 0/1 [00:00<?, ?it/s]"
      ]
     },
     "metadata": {},
     "output_type": "display_data"
    },
    {
     "data": {
      "application/vnd.jupyter.widget-view+json": {
       "model_id": "828c569a8c4a4d81b4177ae1ef75b70c",
       "version_major": 2,
       "version_minor": 0
      },
      "text/plain": [
       "Batches:   0%|          | 0/1 [00:00<?, ?it/s]"
      ]
     },
     "metadata": {},
     "output_type": "display_data"
    },
    {
     "data": {
      "application/vnd.jupyter.widget-view+json": {
       "model_id": "cd04b044b9bd40ac9afb71f9a28a5ed5",
       "version_major": 2,
       "version_minor": 0
      },
      "text/plain": [
       "Batches:   0%|          | 0/1 [00:00<?, ?it/s]"
      ]
     },
     "metadata": {},
     "output_type": "display_data"
    },
    {
     "data": {
      "application/vnd.jupyter.widget-view+json": {
       "model_id": "d7e19b0ec46e4a11a7f3f8fe08b32890",
       "version_major": 2,
       "version_minor": 0
      },
      "text/plain": [
       "Batches:   0%|          | 0/1 [00:00<?, ?it/s]"
      ]
     },
     "metadata": {},
     "output_type": "display_data"
    },
    {
     "data": {
      "application/vnd.jupyter.widget-view+json": {
       "model_id": "628873ddd4174d8caab0d5b9b9969cb7",
       "version_major": 2,
       "version_minor": 0
      },
      "text/plain": [
       "Batches:   0%|          | 0/1 [00:00<?, ?it/s]"
      ]
     },
     "metadata": {},
     "output_type": "display_data"
    },
    {
     "data": {
      "application/vnd.jupyter.widget-view+json": {
       "model_id": "915fbc0cf5e944fabbc4acf8b13c94f8",
       "version_major": 2,
       "version_minor": 0
      },
      "text/plain": [
       "Batches:   0%|          | 0/1 [00:00<?, ?it/s]"
      ]
     },
     "metadata": {},
     "output_type": "display_data"
    },
    {
     "data": {
      "application/vnd.jupyter.widget-view+json": {
       "model_id": "86c38a20173a45ff90080519e909f878",
       "version_major": 2,
       "version_minor": 0
      },
      "text/plain": [
       "Batches:   0%|          | 0/1 [00:00<?, ?it/s]"
      ]
     },
     "metadata": {},
     "output_type": "display_data"
    },
    {
     "data": {
      "application/vnd.jupyter.widget-view+json": {
       "model_id": "83fd5e3e3be64d62869cf308ea3f579e",
       "version_major": 2,
       "version_minor": 0
      },
      "text/plain": [
       "Batches:   0%|          | 0/1 [00:00<?, ?it/s]"
      ]
     },
     "metadata": {},
     "output_type": "display_data"
    },
    {
     "data": {
      "application/vnd.jupyter.widget-view+json": {
       "model_id": "b55e73b1993c4e549e8e20f28a74a679",
       "version_major": 2,
       "version_minor": 0
      },
      "text/plain": [
       "Batches:   0%|          | 0/1 [00:00<?, ?it/s]"
      ]
     },
     "metadata": {},
     "output_type": "display_data"
    },
    {
     "data": {
      "application/vnd.jupyter.widget-view+json": {
       "model_id": "de2cc167f4674e7f86c64e159b256a23",
       "version_major": 2,
       "version_minor": 0
      },
      "text/plain": [
       "Batches:   0%|          | 0/1 [00:00<?, ?it/s]"
      ]
     },
     "metadata": {},
     "output_type": "display_data"
    },
    {
     "data": {
      "application/vnd.jupyter.widget-view+json": {
       "model_id": "8ad57953721c4f2ca71f11fddf6453a9",
       "version_major": 2,
       "version_minor": 0
      },
      "text/plain": [
       "Batches:   0%|          | 0/1 [00:00<?, ?it/s]"
      ]
     },
     "metadata": {},
     "output_type": "display_data"
    },
    {
     "data": {
      "application/vnd.jupyter.widget-view+json": {
       "model_id": "6250d58572b64ae79e393a9a3764641a",
       "version_major": 2,
       "version_minor": 0
      },
      "text/plain": [
       "Batches:   0%|          | 0/1 [00:00<?, ?it/s]"
      ]
     },
     "metadata": {},
     "output_type": "display_data"
    },
    {
     "data": {
      "application/vnd.jupyter.widget-view+json": {
       "model_id": "87046b3deda24e6eab6505dbd3795f67",
       "version_major": 2,
       "version_minor": 0
      },
      "text/plain": [
       "Batches:   0%|          | 0/1 [00:00<?, ?it/s]"
      ]
     },
     "metadata": {},
     "output_type": "display_data"
    },
    {
     "data": {
      "application/vnd.jupyter.widget-view+json": {
       "model_id": "1bb72c6f40184f00bd7f5af1a19ff7ba",
       "version_major": 2,
       "version_minor": 0
      },
      "text/plain": [
       "Batches:   0%|          | 0/1 [00:00<?, ?it/s]"
      ]
     },
     "metadata": {},
     "output_type": "display_data"
    },
    {
     "data": {
      "application/vnd.jupyter.widget-view+json": {
       "model_id": "658301e1d9b14200ab957877b6016828",
       "version_major": 2,
       "version_minor": 0
      },
      "text/plain": [
       "Batches:   0%|          | 0/1 [00:00<?, ?it/s]"
      ]
     },
     "metadata": {},
     "output_type": "display_data"
    },
    {
     "data": {
      "application/vnd.jupyter.widget-view+json": {
       "model_id": "86a543535e6448c991c518bb90e47dda",
       "version_major": 2,
       "version_minor": 0
      },
      "text/plain": [
       "Batches:   0%|          | 0/1 [00:00<?, ?it/s]"
      ]
     },
     "metadata": {},
     "output_type": "display_data"
    },
    {
     "data": {
      "application/vnd.jupyter.widget-view+json": {
       "model_id": "66d6407ae3dd41ac866763c1a28c6762",
       "version_major": 2,
       "version_minor": 0
      },
      "text/plain": [
       "Batches:   0%|          | 0/1 [00:00<?, ?it/s]"
      ]
     },
     "metadata": {},
     "output_type": "display_data"
    },
    {
     "data": {
      "application/vnd.jupyter.widget-view+json": {
       "model_id": "a4e174c5ba824439a0bb4839cae5a359",
       "version_major": 2,
       "version_minor": 0
      },
      "text/plain": [
       "Batches:   0%|          | 0/1 [00:00<?, ?it/s]"
      ]
     },
     "metadata": {},
     "output_type": "display_data"
    },
    {
     "data": {
      "application/vnd.jupyter.widget-view+json": {
       "model_id": "9f1357d946ef4933a407ff7d84e53613",
       "version_major": 2,
       "version_minor": 0
      },
      "text/plain": [
       "Batches:   0%|          | 0/1 [00:00<?, ?it/s]"
      ]
     },
     "metadata": {},
     "output_type": "display_data"
    },
    {
     "data": {
      "application/vnd.jupyter.widget-view+json": {
       "model_id": "abf369e7c0e84f808af83a3c77ed3578",
       "version_major": 2,
       "version_minor": 0
      },
      "text/plain": [
       "Batches:   0%|          | 0/1 [00:00<?, ?it/s]"
      ]
     },
     "metadata": {},
     "output_type": "display_data"
    },
    {
     "data": {
      "application/vnd.jupyter.widget-view+json": {
       "model_id": "5aa2075496334273a1c403e8aede6b44",
       "version_major": 2,
       "version_minor": 0
      },
      "text/plain": [
       "Batches:   0%|          | 0/1 [00:00<?, ?it/s]"
      ]
     },
     "metadata": {},
     "output_type": "display_data"
    },
    {
     "data": {
      "application/vnd.jupyter.widget-view+json": {
       "model_id": "862ee4af819e46f58ac9394cae4d343d",
       "version_major": 2,
       "version_minor": 0
      },
      "text/plain": [
       "Batches:   0%|          | 0/1 [00:00<?, ?it/s]"
      ]
     },
     "metadata": {},
     "output_type": "display_data"
    },
    {
     "data": {
      "application/vnd.jupyter.widget-view+json": {
       "model_id": "a501ed3c2d62433aa260ab15b3ad51ca",
       "version_major": 2,
       "version_minor": 0
      },
      "text/plain": [
       "Batches:   0%|          | 0/1 [00:00<?, ?it/s]"
      ]
     },
     "metadata": {},
     "output_type": "display_data"
    },
    {
     "data": {
      "application/vnd.jupyter.widget-view+json": {
       "model_id": "57593086a3264fb7af04bdce9ba37ae5",
       "version_major": 2,
       "version_minor": 0
      },
      "text/plain": [
       "Batches:   0%|          | 0/1 [00:00<?, ?it/s]"
      ]
     },
     "metadata": {},
     "output_type": "display_data"
    },
    {
     "data": {
      "application/vnd.jupyter.widget-view+json": {
       "model_id": "f44643bae4a543ac90e69ec08f0918c1",
       "version_major": 2,
       "version_minor": 0
      },
      "text/plain": [
       "Batches:   0%|          | 0/1 [00:00<?, ?it/s]"
      ]
     },
     "metadata": {},
     "output_type": "display_data"
    },
    {
     "data": {
      "application/vnd.jupyter.widget-view+json": {
       "model_id": "f3e19ea1dffe4d9c9a39fba67d2dc2b8",
       "version_major": 2,
       "version_minor": 0
      },
      "text/plain": [
       "Batches:   0%|          | 0/1 [00:00<?, ?it/s]"
      ]
     },
     "metadata": {},
     "output_type": "display_data"
    },
    {
     "data": {
      "application/vnd.jupyter.widget-view+json": {
       "model_id": "353e8e578fff4c169946fcfe71683737",
       "version_major": 2,
       "version_minor": 0
      },
      "text/plain": [
       "Batches:   0%|          | 0/1 [00:00<?, ?it/s]"
      ]
     },
     "metadata": {},
     "output_type": "display_data"
    },
    {
     "data": {
      "application/vnd.jupyter.widget-view+json": {
       "model_id": "851aff5790414a1cb694d07927f64caa",
       "version_major": 2,
       "version_minor": 0
      },
      "text/plain": [
       "Batches:   0%|          | 0/1 [00:00<?, ?it/s]"
      ]
     },
     "metadata": {},
     "output_type": "display_data"
    },
    {
     "data": {
      "application/vnd.jupyter.widget-view+json": {
       "model_id": "aa7e975bf2e14b1991d7ff22b94a32c8",
       "version_major": 2,
       "version_minor": 0
      },
      "text/plain": [
       "Batches:   0%|          | 0/1 [00:00<?, ?it/s]"
      ]
     },
     "metadata": {},
     "output_type": "display_data"
    },
    {
     "data": {
      "application/vnd.jupyter.widget-view+json": {
       "model_id": "45bd58073e63459e89e78634ec6b8455",
       "version_major": 2,
       "version_minor": 0
      },
      "text/plain": [
       "Batches:   0%|          | 0/1 [00:00<?, ?it/s]"
      ]
     },
     "metadata": {},
     "output_type": "display_data"
    },
    {
     "name": "stderr",
     "output_type": "stream",
     "text": [
      "2025-01-27 18:47:44,908 - Created 35 Leaf Embeddings\n",
      "2025-01-27 18:47:44,910 - Building All Nodes\n",
      "2025-01-27 18:47:44,919 - Using Cluster TreeBuilder\n",
      "2025-01-27 18:47:44,921 - Constructing Layer 0\n",
      "i:\\AI_Project\\raptor\\.venv\\lib\\site-packages\\sklearn\\utils\\deprecation.py:151: FutureWarning: 'force_all_finite' was renamed to 'ensure_all_finite' in 1.6 and will be removed in 1.8.\n",
      "  warnings.warn(\n",
      "i:\\AI_Project\\raptor\\.venv\\lib\\site-packages\\threadpoolctl.py:1214: RuntimeWarning: \n",
      "Found Intel OpenMP ('libiomp') and LLVM OpenMP ('libomp') loaded at\n",
      "the same time. Both libraries are known to be incompatible and this\n",
      "can cause random crashes or deadlocks on Linux when loaded in the\n",
      "same Python program.\n",
      "Using threadpoolctl may cause crashes or deadlocks. For more\n",
      "information and possible workarounds, please see\n",
      "    https://github.com/joblib/threadpoolctl/blob/master/multiple_openmp.md\n",
      "\n",
      "  warnings.warn(msg, RuntimeWarning)\n",
      "2025-01-27 18:48:12,514 - Summarization Length: 100\n"
     ]
    }
   ],
   "source": [
    "with open('demo/sample.txt', 'r') as file:\n",
    "    text = file.read()\n",
    "    \n",
    "RA.add_documents(text)"
   ]
  },
  {
   "cell_type": "code",
   "execution_count": null,
   "id": "7eee5847",
   "metadata": {},
   "outputs": [],
   "source": [
    "question = \"How did Cinderella reach her happy ending?\"\n",
    "\n",
    "answer = RA.answer_question(question=question)\n",
    "\n",
    "print(\"Answer: \", answer)"
   ]
  },
  {
   "cell_type": "code",
   "execution_count": 3,
   "id": "524c22ba",
   "metadata": {},
   "outputs": [
    {
     "name": "stderr",
     "output_type": "stream",
     "text": [
      "2025-01-28 18:01:31,000 - Use pytorch device_name: cpu\n",
      "2025-01-28 18:01:31,003 - Load pretrained SentenceTransformer: BAAI/bge-small-en-v1.5\n",
      "2025-01-28 18:01:37,385 - Successfully initialized TreeBuilder with Config \n",
      "        TreeBuilderConfig:\n",
      "            Tokenizer: <Encoding 'cl100k_base'>\n",
      "            Max Tokens: 100\n",
      "            Num Layers: 5\n",
      "            Threshold: 0.5\n",
      "            Top K: 5\n",
      "            Selection Mode: top_k\n",
      "            Summarization Length: 100\n",
      "            Summarization Model: <raptor.SummarizationModels.OllamaSummarizationModelV2 object at 0x000001E7B8173430>\n",
      "            Embedding Models: {'EMB': <__main__.SBertEmbeddingModel object at 0x000001E7B8173370>}\n",
      "            Cluster Embedding Model: EMB\n",
      "        \n",
      "        Reduction Dimension: 10\n",
      "        Clustering Algorithm: RAPTOR_Clustering\n",
      "        Clustering Parameters: {}\n",
      "        \n",
      "2025-01-28 18:01:37,387 - Successfully initialized ClusterTreeBuilder with Config \n",
      "        TreeBuilderConfig:\n",
      "            Tokenizer: <Encoding 'cl100k_base'>\n",
      "            Max Tokens: 100\n",
      "            Num Layers: 5\n",
      "            Threshold: 0.5\n",
      "            Top K: 5\n",
      "            Selection Mode: top_k\n",
      "            Summarization Length: 100\n",
      "            Summarization Model: <raptor.SummarizationModels.OllamaSummarizationModelV2 object at 0x000001E7B8173430>\n",
      "            Embedding Models: {'EMB': <__main__.SBertEmbeddingModel object at 0x000001E7B8173370>}\n",
      "            Cluster Embedding Model: EMB\n",
      "        \n",
      "        Reduction Dimension: 10\n",
      "        Clustering Algorithm: RAPTOR_Clustering\n",
      "        Clustering Parameters: {}\n",
      "        \n",
      "2025-01-28 18:01:37,388 - Successfully initialized TreeRetriever with Config \n",
      "        TreeRetrieverConfig:\n",
      "            Tokenizer: <Encoding 'cl100k_base'>\n",
      "            Threshold: 0.5\n",
      "            Top K: 5\n",
      "            Selection Mode: top_k\n",
      "            Context Embedding Model: EMB\n",
      "            Embedding Model: <__main__.SBertEmbeddingModel object at 0x000001E7B8173370>\n",
      "            Num Layers: None\n",
      "            Start Layer: None\n",
      "        \n",
      "2025-01-28 18:01:37,391 - Successfully initialized RetrievalAugmentation with Config \n",
      "        RetrievalAugmentationConfig:\n",
      "            \n",
      "        TreeBuilderConfig:\n",
      "            Tokenizer: <Encoding 'cl100k_base'>\n",
      "            Max Tokens: 100\n",
      "            Num Layers: 5\n",
      "            Threshold: 0.5\n",
      "            Top K: 5\n",
      "            Selection Mode: top_k\n",
      "            Summarization Length: 100\n",
      "            Summarization Model: <raptor.SummarizationModels.OllamaSummarizationModelV2 object at 0x000001E7B8173430>\n",
      "            Embedding Models: {'EMB': <__main__.SBertEmbeddingModel object at 0x000001E7B8173370>}\n",
      "            Cluster Embedding Model: EMB\n",
      "        \n",
      "        Reduction Dimension: 10\n",
      "        Clustering Algorithm: RAPTOR_Clustering\n",
      "        Clustering Parameters: {}\n",
      "        \n",
      "            \n",
      "            \n",
      "        TreeRetrieverConfig:\n",
      "            Tokenizer: <Encoding 'cl100k_base'>\n",
      "            Threshold: 0.5\n",
      "            Top K: 5\n",
      "            Selection Mode: top_k\n",
      "            Context Embedding Model: EMB\n",
      "            Embedding Model: <__main__.SBertEmbeddingModel object at 0x000001E7B8173370>\n",
      "            Num Layers: None\n",
      "            Start Layer: None\n",
      "        \n",
      "            \n",
      "            QA Model: <raptor.QAModels.OllamaQAModelV2 object at 0x000001E7B8173BE0>\n",
      "            Tree Builder Type: cluster\n",
      "        \n"
     ]
    }
   ],
   "source": [
    "from raptor import OllamaQAModelV2, OllamaSummarizationModelV2\n",
    "qa_llm = 'llama3.2:latest'\n",
    "qa_model = OllamaQAModelV2(model_name= qa_llm)\n",
    "summarization_llm = 'llama3.2:latest'\n",
    "summarization_model = OllamaSummarizationModelV2(model_name= summarization_llm)\n",
    "\n",
    "RAC = RetrievalAugmentationConfig(qa_model=qa_model, summarization_model=summarization_model, embedding_model=SBertEmbeddingModel())\n",
    "RA = RetrievalAugmentation(config=RAC, tree=\"demo/football360\")"
   ]
  },
  {
   "cell_type": "code",
   "execution_count": 5,
   "id": "fbb83621",
   "metadata": {},
   "outputs": [],
   "source": [
    "f = open(\"demo/data4.txt\", \"r\", encoding=\"utf-8\")\n",
    "text = \"\"\n",
    "for x in f:\n",
    "  text += x"
   ]
  },
  {
   "cell_type": "code",
   "execution_count": 6,
   "id": "49c4c14f",
   "metadata": {},
   "outputs": [
    {
     "name": "stderr",
     "output_type": "stream",
     "text": [
      "2025-01-28 17:00:41,397 - Creating Leaf Nodes\n"
     ]
    },
    {
     "data": {
      "application/vnd.jupyter.widget-view+json": {
       "model_id": "084c281d367b47e6aa59101486b34f7f",
       "version_major": 2,
       "version_minor": 0
      },
      "text/plain": [
       "Batches:   0%|          | 0/1 [00:00<?, ?it/s]"
      ]
     },
     "metadata": {},
     "output_type": "display_data"
    },
    {
     "data": {
      "application/vnd.jupyter.widget-view+json": {
       "model_id": "1bd592a9aa4b4c5ba944688d9d8fcd24",
       "version_major": 2,
       "version_minor": 0
      },
      "text/plain": [
       "Batches:   0%|          | 0/1 [00:00<?, ?it/s]"
      ]
     },
     "metadata": {},
     "output_type": "display_data"
    },
    {
     "data": {
      "application/vnd.jupyter.widget-view+json": {
       "model_id": "6c7f1be3a95e40fbbe5b453beb7b96b6",
       "version_major": 2,
       "version_minor": 0
      },
      "text/plain": [
       "Batches:   0%|          | 0/1 [00:00<?, ?it/s]"
      ]
     },
     "metadata": {},
     "output_type": "display_data"
    },
    {
     "data": {
      "application/vnd.jupyter.widget-view+json": {
       "model_id": "7f587e93d2a342d48f1083f160d7e8a2",
       "version_major": 2,
       "version_minor": 0
      },
      "text/plain": [
       "Batches:   0%|          | 0/1 [00:00<?, ?it/s]"
      ]
     },
     "metadata": {},
     "output_type": "display_data"
    },
    {
     "data": {
      "application/vnd.jupyter.widget-view+json": {
       "model_id": "4a1c0b8e29ab4c90bec0aa79e67bfdc4",
       "version_major": 2,
       "version_minor": 0
      },
      "text/plain": [
       "Batches:   0%|          | 0/1 [00:00<?, ?it/s]"
      ]
     },
     "metadata": {},
     "output_type": "display_data"
    },
    {
     "data": {
      "application/vnd.jupyter.widget-view+json": {
       "model_id": "eefdb800b0514ab999a84d40129bcbd7",
       "version_major": 2,
       "version_minor": 0
      },
      "text/plain": [
       "Batches:   0%|          | 0/1 [00:00<?, ?it/s]"
      ]
     },
     "metadata": {},
     "output_type": "display_data"
    },
    {
     "data": {
      "application/vnd.jupyter.widget-view+json": {
       "model_id": "ba1b100ad0914ddd96b94de1d8fcac39",
       "version_major": 2,
       "version_minor": 0
      },
      "text/plain": [
       "Batches:   0%|          | 0/1 [00:00<?, ?it/s]"
      ]
     },
     "metadata": {},
     "output_type": "display_data"
    },
    {
     "data": {
      "application/vnd.jupyter.widget-view+json": {
       "model_id": "fbd55aeab0ff4ce9b33eeaedab139d86",
       "version_major": 2,
       "version_minor": 0
      },
      "text/plain": [
       "Batches:   0%|          | 0/1 [00:00<?, ?it/s]"
      ]
     },
     "metadata": {},
     "output_type": "display_data"
    },
    {
     "data": {
      "application/vnd.jupyter.widget-view+json": {
       "model_id": "870b15968bd1445594369c87e9a57d1b",
       "version_major": 2,
       "version_minor": 0
      },
      "text/plain": [
       "Batches:   0%|          | 0/1 [00:00<?, ?it/s]"
      ]
     },
     "metadata": {},
     "output_type": "display_data"
    },
    {
     "data": {
      "application/vnd.jupyter.widget-view+json": {
       "model_id": "5eb7150938c14c89bbafcd9f2244ac05",
       "version_major": 2,
       "version_minor": 0
      },
      "text/plain": [
       "Batches:   0%|          | 0/1 [00:00<?, ?it/s]"
      ]
     },
     "metadata": {},
     "output_type": "display_data"
    },
    {
     "data": {
      "application/vnd.jupyter.widget-view+json": {
       "model_id": "4b859e1914b24c65a6b88e2ce4d7103f",
       "version_major": 2,
       "version_minor": 0
      },
      "text/plain": [
       "Batches:   0%|          | 0/1 [00:00<?, ?it/s]"
      ]
     },
     "metadata": {},
     "output_type": "display_data"
    },
    {
     "data": {
      "application/vnd.jupyter.widget-view+json": {
       "model_id": "146dea81b46e43e1a7c522dce25909ca",
       "version_major": 2,
       "version_minor": 0
      },
      "text/plain": [
       "Batches:   0%|          | 0/1 [00:00<?, ?it/s]"
      ]
     },
     "metadata": {},
     "output_type": "display_data"
    },
    {
     "data": {
      "application/vnd.jupyter.widget-view+json": {
       "model_id": "c8f158b768aa43919ab0f3adf2af3902",
       "version_major": 2,
       "version_minor": 0
      },
      "text/plain": [
       "Batches:   0%|          | 0/1 [00:00<?, ?it/s]"
      ]
     },
     "metadata": {},
     "output_type": "display_data"
    },
    {
     "data": {
      "application/vnd.jupyter.widget-view+json": {
       "model_id": "ffacba2d1e0f42b29952976a86971adb",
       "version_major": 2,
       "version_minor": 0
      },
      "text/plain": [
       "Batches:   0%|          | 0/1 [00:00<?, ?it/s]"
      ]
     },
     "metadata": {},
     "output_type": "display_data"
    },
    {
     "data": {
      "application/vnd.jupyter.widget-view+json": {
       "model_id": "7ce6cd6380c344c2b88862fc28d83b95",
       "version_major": 2,
       "version_minor": 0
      },
      "text/plain": [
       "Batches:   0%|          | 0/1 [00:00<?, ?it/s]"
      ]
     },
     "metadata": {},
     "output_type": "display_data"
    },
    {
     "data": {
      "application/vnd.jupyter.widget-view+json": {
       "model_id": "8a2b28e9bc9d44ee9dcb796c75e2d6fb",
       "version_major": 2,
       "version_minor": 0
      },
      "text/plain": [
       "Batches:   0%|          | 0/1 [00:00<?, ?it/s]"
      ]
     },
     "metadata": {},
     "output_type": "display_data"
    },
    {
     "data": {
      "application/vnd.jupyter.widget-view+json": {
       "model_id": "28f1aaa248d549bb8a6eca7eeb2857c3",
       "version_major": 2,
       "version_minor": 0
      },
      "text/plain": [
       "Batches:   0%|          | 0/1 [00:00<?, ?it/s]"
      ]
     },
     "metadata": {},
     "output_type": "display_data"
    },
    {
     "data": {
      "application/vnd.jupyter.widget-view+json": {
       "model_id": "5c731325c29f40009de079a556107ce4",
       "version_major": 2,
       "version_minor": 0
      },
      "text/plain": [
       "Batches:   0%|          | 0/1 [00:00<?, ?it/s]"
      ]
     },
     "metadata": {},
     "output_type": "display_data"
    },
    {
     "data": {
      "application/vnd.jupyter.widget-view+json": {
       "model_id": "927e2e6f761c49aa86875a4caeee573e",
       "version_major": 2,
       "version_minor": 0
      },
      "text/plain": [
       "Batches:   0%|          | 0/1 [00:00<?, ?it/s]"
      ]
     },
     "metadata": {},
     "output_type": "display_data"
    },
    {
     "data": {
      "application/vnd.jupyter.widget-view+json": {
       "model_id": "efc3695401054da194b8ca41b68e1691",
       "version_major": 2,
       "version_minor": 0
      },
      "text/plain": [
       "Batches:   0%|          | 0/1 [00:00<?, ?it/s]"
      ]
     },
     "metadata": {},
     "output_type": "display_data"
    },
    {
     "data": {
      "application/vnd.jupyter.widget-view+json": {
       "model_id": "c0672265a82b4d3cb6f6f24855711db7",
       "version_major": 2,
       "version_minor": 0
      },
      "text/plain": [
       "Batches:   0%|          | 0/1 [00:00<?, ?it/s]"
      ]
     },
     "metadata": {},
     "output_type": "display_data"
    },
    {
     "data": {
      "application/vnd.jupyter.widget-view+json": {
       "model_id": "304d1efa35ed4d5da2266e0a41928619",
       "version_major": 2,
       "version_minor": 0
      },
      "text/plain": [
       "Batches:   0%|          | 0/1 [00:00<?, ?it/s]"
      ]
     },
     "metadata": {},
     "output_type": "display_data"
    },
    {
     "data": {
      "application/vnd.jupyter.widget-view+json": {
       "model_id": "a8d8648cfd3b42eb9354267b1a822980",
       "version_major": 2,
       "version_minor": 0
      },
      "text/plain": [
       "Batches:   0%|          | 0/1 [00:00<?, ?it/s]"
      ]
     },
     "metadata": {},
     "output_type": "display_data"
    },
    {
     "data": {
      "application/vnd.jupyter.widget-view+json": {
       "model_id": "be36a0420ef94012ad574ea1f3b8fbf3",
       "version_major": 2,
       "version_minor": 0
      },
      "text/plain": [
       "Batches:   0%|          | 0/1 [00:00<?, ?it/s]"
      ]
     },
     "metadata": {},
     "output_type": "display_data"
    },
    {
     "data": {
      "application/vnd.jupyter.widget-view+json": {
       "model_id": "2170c59741be4870afaf72a68f0918c1",
       "version_major": 2,
       "version_minor": 0
      },
      "text/plain": [
       "Batches:   0%|          | 0/1 [00:00<?, ?it/s]"
      ]
     },
     "metadata": {},
     "output_type": "display_data"
    },
    {
     "data": {
      "application/vnd.jupyter.widget-view+json": {
       "model_id": "8bc3fd2adf6d4ee9a9d4b7fab8686051",
       "version_major": 2,
       "version_minor": 0
      },
      "text/plain": [
       "Batches:   0%|          | 0/1 [00:00<?, ?it/s]"
      ]
     },
     "metadata": {},
     "output_type": "display_data"
    },
    {
     "data": {
      "application/vnd.jupyter.widget-view+json": {
       "model_id": "01597c40474547e8b69b5ceaf7806dce",
       "version_major": 2,
       "version_minor": 0
      },
      "text/plain": [
       "Batches:   0%|          | 0/1 [00:00<?, ?it/s]"
      ]
     },
     "metadata": {},
     "output_type": "display_data"
    },
    {
     "data": {
      "application/vnd.jupyter.widget-view+json": {
       "model_id": "3de1f2f5724d40339cf5f6cfe68ebb13",
       "version_major": 2,
       "version_minor": 0
      },
      "text/plain": [
       "Batches:   0%|          | 0/1 [00:00<?, ?it/s]"
      ]
     },
     "metadata": {},
     "output_type": "display_data"
    },
    {
     "data": {
      "application/vnd.jupyter.widget-view+json": {
       "model_id": "46bd520ee1e7401385211a57065e4d51",
       "version_major": 2,
       "version_minor": 0
      },
      "text/plain": [
       "Batches:   0%|          | 0/1 [00:00<?, ?it/s]"
      ]
     },
     "metadata": {},
     "output_type": "display_data"
    },
    {
     "data": {
      "application/vnd.jupyter.widget-view+json": {
       "model_id": "73759cf3bc574f579baccef6aee7e32a",
       "version_major": 2,
       "version_minor": 0
      },
      "text/plain": [
       "Batches:   0%|          | 0/1 [00:00<?, ?it/s]"
      ]
     },
     "metadata": {},
     "output_type": "display_data"
    },
    {
     "data": {
      "application/vnd.jupyter.widget-view+json": {
       "model_id": "ef91fa26aab54878b4f27a55e50ea628",
       "version_major": 2,
       "version_minor": 0
      },
      "text/plain": [
       "Batches:   0%|          | 0/1 [00:00<?, ?it/s]"
      ]
     },
     "metadata": {},
     "output_type": "display_data"
    },
    {
     "data": {
      "application/vnd.jupyter.widget-view+json": {
       "model_id": "4e4eccd04b08422f82d6c834045183dc",
       "version_major": 2,
       "version_minor": 0
      },
      "text/plain": [
       "Batches:   0%|          | 0/1 [00:00<?, ?it/s]"
      ]
     },
     "metadata": {},
     "output_type": "display_data"
    },
    {
     "data": {
      "application/vnd.jupyter.widget-view+json": {
       "model_id": "c6616b4a60544c10a8337c2d55d3b74a",
       "version_major": 2,
       "version_minor": 0
      },
      "text/plain": [
       "Batches:   0%|          | 0/1 [00:00<?, ?it/s]"
      ]
     },
     "metadata": {},
     "output_type": "display_data"
    },
    {
     "data": {
      "application/vnd.jupyter.widget-view+json": {
       "model_id": "1186823a7b354e15b4ffc3cbfa361d2b",
       "version_major": 2,
       "version_minor": 0
      },
      "text/plain": [
       "Batches:   0%|          | 0/1 [00:00<?, ?it/s]"
      ]
     },
     "metadata": {},
     "output_type": "display_data"
    },
    {
     "data": {
      "application/vnd.jupyter.widget-view+json": {
       "model_id": "4e854cd639db4a9b83df7e9a74ad3c5c",
       "version_major": 2,
       "version_minor": 0
      },
      "text/plain": [
       "Batches:   0%|          | 0/1 [00:00<?, ?it/s]"
      ]
     },
     "metadata": {},
     "output_type": "display_data"
    },
    {
     "data": {
      "application/vnd.jupyter.widget-view+json": {
       "model_id": "11a599820b1140fcb5f74d326c1d305a",
       "version_major": 2,
       "version_minor": 0
      },
      "text/plain": [
       "Batches:   0%|          | 0/1 [00:00<?, ?it/s]"
      ]
     },
     "metadata": {},
     "output_type": "display_data"
    },
    {
     "data": {
      "application/vnd.jupyter.widget-view+json": {
       "model_id": "a8f62113f504499dafececda7f53383d",
       "version_major": 2,
       "version_minor": 0
      },
      "text/plain": [
       "Batches:   0%|          | 0/1 [00:00<?, ?it/s]"
      ]
     },
     "metadata": {},
     "output_type": "display_data"
    },
    {
     "data": {
      "application/vnd.jupyter.widget-view+json": {
       "model_id": "3740c94a457e42e2973556c8d4f8fddd",
       "version_major": 2,
       "version_minor": 0
      },
      "text/plain": [
       "Batches:   0%|          | 0/1 [00:00<?, ?it/s]"
      ]
     },
     "metadata": {},
     "output_type": "display_data"
    },
    {
     "data": {
      "application/vnd.jupyter.widget-view+json": {
       "model_id": "4d21bc254a9b43bea7aa6f4613f2fb7a",
       "version_major": 2,
       "version_minor": 0
      },
      "text/plain": [
       "Batches:   0%|          | 0/1 [00:00<?, ?it/s]"
      ]
     },
     "metadata": {},
     "output_type": "display_data"
    },
    {
     "data": {
      "application/vnd.jupyter.widget-view+json": {
       "model_id": "90cad7024a98426da4e9c6ad55280bc8",
       "version_major": 2,
       "version_minor": 0
      },
      "text/plain": [
       "Batches:   0%|          | 0/1 [00:00<?, ?it/s]"
      ]
     },
     "metadata": {},
     "output_type": "display_data"
    },
    {
     "data": {
      "application/vnd.jupyter.widget-view+json": {
       "model_id": "db20e3c7d1c249faaa270b6220895d45",
       "version_major": 2,
       "version_minor": 0
      },
      "text/plain": [
       "Batches:   0%|          | 0/1 [00:00<?, ?it/s]"
      ]
     },
     "metadata": {},
     "output_type": "display_data"
    },
    {
     "data": {
      "application/vnd.jupyter.widget-view+json": {
       "model_id": "57b6f367183a40f7b5bad56bfb6bf1eb",
       "version_major": 2,
       "version_minor": 0
      },
      "text/plain": [
       "Batches:   0%|          | 0/1 [00:00<?, ?it/s]"
      ]
     },
     "metadata": {},
     "output_type": "display_data"
    },
    {
     "data": {
      "application/vnd.jupyter.widget-view+json": {
       "model_id": "93e303ac82d5446c863d0374759b0f4a",
       "version_major": 2,
       "version_minor": 0
      },
      "text/plain": [
       "Batches:   0%|          | 0/1 [00:00<?, ?it/s]"
      ]
     },
     "metadata": {},
     "output_type": "display_data"
    },
    {
     "data": {
      "application/vnd.jupyter.widget-view+json": {
       "model_id": "209defce5374436a86e75bc4989c5ee3",
       "version_major": 2,
       "version_minor": 0
      },
      "text/plain": [
       "Batches:   0%|          | 0/1 [00:00<?, ?it/s]"
      ]
     },
     "metadata": {},
     "output_type": "display_data"
    },
    {
     "data": {
      "application/vnd.jupyter.widget-view+json": {
       "model_id": "d6b7dfe0d949417fa1c0672b630a1fc2",
       "version_major": 2,
       "version_minor": 0
      },
      "text/plain": [
       "Batches:   0%|          | 0/1 [00:00<?, ?it/s]"
      ]
     },
     "metadata": {},
     "output_type": "display_data"
    },
    {
     "data": {
      "application/vnd.jupyter.widget-view+json": {
       "model_id": "4f37824edb1b47d795d21e0d0c648f00",
       "version_major": 2,
       "version_minor": 0
      },
      "text/plain": [
       "Batches:   0%|          | 0/1 [00:00<?, ?it/s]"
      ]
     },
     "metadata": {},
     "output_type": "display_data"
    },
    {
     "data": {
      "application/vnd.jupyter.widget-view+json": {
       "model_id": "6f174e523a4c4622880ca8c3cf47ba9b",
       "version_major": 2,
       "version_minor": 0
      },
      "text/plain": [
       "Batches:   0%|          | 0/1 [00:00<?, ?it/s]"
      ]
     },
     "metadata": {},
     "output_type": "display_data"
    },
    {
     "data": {
      "application/vnd.jupyter.widget-view+json": {
       "model_id": "f0a2f765d10148f2af0d84cdbd9d37c6",
       "version_major": 2,
       "version_minor": 0
      },
      "text/plain": [
       "Batches:   0%|          | 0/1 [00:00<?, ?it/s]"
      ]
     },
     "metadata": {},
     "output_type": "display_data"
    },
    {
     "data": {
      "application/vnd.jupyter.widget-view+json": {
       "model_id": "416712605d6144e7931fd1b75349d3d6",
       "version_major": 2,
       "version_minor": 0
      },
      "text/plain": [
       "Batches:   0%|          | 0/1 [00:00<?, ?it/s]"
      ]
     },
     "metadata": {},
     "output_type": "display_data"
    },
    {
     "data": {
      "application/vnd.jupyter.widget-view+json": {
       "model_id": "0537b5c211284c9798e0ae35e4e4d54e",
       "version_major": 2,
       "version_minor": 0
      },
      "text/plain": [
       "Batches:   0%|          | 0/1 [00:00<?, ?it/s]"
      ]
     },
     "metadata": {},
     "output_type": "display_data"
    },
    {
     "data": {
      "application/vnd.jupyter.widget-view+json": {
       "model_id": "23ba4f1f052d4acda1705f44c097172d",
       "version_major": 2,
       "version_minor": 0
      },
      "text/plain": [
       "Batches:   0%|          | 0/1 [00:00<?, ?it/s]"
      ]
     },
     "metadata": {},
     "output_type": "display_data"
    },
    {
     "data": {
      "application/vnd.jupyter.widget-view+json": {
       "model_id": "0ce1bca2a1524cfdb333d6ecf0d7758c",
       "version_major": 2,
       "version_minor": 0
      },
      "text/plain": [
       "Batches:   0%|          | 0/1 [00:00<?, ?it/s]"
      ]
     },
     "metadata": {},
     "output_type": "display_data"
    },
    {
     "data": {
      "application/vnd.jupyter.widget-view+json": {
       "model_id": "e0381051b58c4178b37f2b9eb34ee220",
       "version_major": 2,
       "version_minor": 0
      },
      "text/plain": [
       "Batches:   0%|          | 0/1 [00:00<?, ?it/s]"
      ]
     },
     "metadata": {},
     "output_type": "display_data"
    },
    {
     "data": {
      "application/vnd.jupyter.widget-view+json": {
       "model_id": "11a4dd2493944d6994d93bef84dbdf6a",
       "version_major": 2,
       "version_minor": 0
      },
      "text/plain": [
       "Batches:   0%|          | 0/1 [00:00<?, ?it/s]"
      ]
     },
     "metadata": {},
     "output_type": "display_data"
    },
    {
     "data": {
      "application/vnd.jupyter.widget-view+json": {
       "model_id": "4d832862993d4da38de4e2f8a903e1ff",
       "version_major": 2,
       "version_minor": 0
      },
      "text/plain": [
       "Batches:   0%|          | 0/1 [00:00<?, ?it/s]"
      ]
     },
     "metadata": {},
     "output_type": "display_data"
    },
    {
     "data": {
      "application/vnd.jupyter.widget-view+json": {
       "model_id": "5ccca326b7794b01bfe003bea0808635",
       "version_major": 2,
       "version_minor": 0
      },
      "text/plain": [
       "Batches:   0%|          | 0/1 [00:00<?, ?it/s]"
      ]
     },
     "metadata": {},
     "output_type": "display_data"
    },
    {
     "data": {
      "application/vnd.jupyter.widget-view+json": {
       "model_id": "e1c88041c0d74dd2a9c7e52fee39c68d",
       "version_major": 2,
       "version_minor": 0
      },
      "text/plain": [
       "Batches:   0%|          | 0/1 [00:00<?, ?it/s]"
      ]
     },
     "metadata": {},
     "output_type": "display_data"
    },
    {
     "data": {
      "application/vnd.jupyter.widget-view+json": {
       "model_id": "b53f0dc3602b4788837a1c08be7aba66",
       "version_major": 2,
       "version_minor": 0
      },
      "text/plain": [
       "Batches:   0%|          | 0/1 [00:00<?, ?it/s]"
      ]
     },
     "metadata": {},
     "output_type": "display_data"
    },
    {
     "data": {
      "application/vnd.jupyter.widget-view+json": {
       "model_id": "db303f9381c94664afa5d59175753abc",
       "version_major": 2,
       "version_minor": 0
      },
      "text/plain": [
       "Batches:   0%|          | 0/1 [00:00<?, ?it/s]"
      ]
     },
     "metadata": {},
     "output_type": "display_data"
    },
    {
     "data": {
      "application/vnd.jupyter.widget-view+json": {
       "model_id": "a35236929fb74d539f88224a115246a2",
       "version_major": 2,
       "version_minor": 0
      },
      "text/plain": [
       "Batches:   0%|          | 0/1 [00:00<?, ?it/s]"
      ]
     },
     "metadata": {},
     "output_type": "display_data"
    },
    {
     "data": {
      "application/vnd.jupyter.widget-view+json": {
       "model_id": "2350516fe4c6486183d97cd4ebf28462",
       "version_major": 2,
       "version_minor": 0
      },
      "text/plain": [
       "Batches:   0%|          | 0/1 [00:00<?, ?it/s]"
      ]
     },
     "metadata": {},
     "output_type": "display_data"
    },
    {
     "data": {
      "application/vnd.jupyter.widget-view+json": {
       "model_id": "b9f558ec764d4e05955fc63da103e84a",
       "version_major": 2,
       "version_minor": 0
      },
      "text/plain": [
       "Batches:   0%|          | 0/1 [00:00<?, ?it/s]"
      ]
     },
     "metadata": {},
     "output_type": "display_data"
    },
    {
     "data": {
      "application/vnd.jupyter.widget-view+json": {
       "model_id": "60d52eba761b4700ae7a56795862c74a",
       "version_major": 2,
       "version_minor": 0
      },
      "text/plain": [
       "Batches:   0%|          | 0/1 [00:00<?, ?it/s]"
      ]
     },
     "metadata": {},
     "output_type": "display_data"
    },
    {
     "data": {
      "application/vnd.jupyter.widget-view+json": {
       "model_id": "add13f90d5f6400ab0a524ec06ac19ae",
       "version_major": 2,
       "version_minor": 0
      },
      "text/plain": [
       "Batches:   0%|          | 0/1 [00:00<?, ?it/s]"
      ]
     },
     "metadata": {},
     "output_type": "display_data"
    },
    {
     "data": {
      "application/vnd.jupyter.widget-view+json": {
       "model_id": "bc321a07bba744a5a31880988aceace6",
       "version_major": 2,
       "version_minor": 0
      },
      "text/plain": [
       "Batches:   0%|          | 0/1 [00:00<?, ?it/s]"
      ]
     },
     "metadata": {},
     "output_type": "display_data"
    },
    {
     "data": {
      "application/vnd.jupyter.widget-view+json": {
       "model_id": "700c6ac928974e73bc8c03fc2b47161b",
       "version_major": 2,
       "version_minor": 0
      },
      "text/plain": [
       "Batches:   0%|          | 0/1 [00:00<?, ?it/s]"
      ]
     },
     "metadata": {},
     "output_type": "display_data"
    },
    {
     "data": {
      "application/vnd.jupyter.widget-view+json": {
       "model_id": "d412542e5ea94a658938a79d57da4fa3",
       "version_major": 2,
       "version_minor": 0
      },
      "text/plain": [
       "Batches:   0%|          | 0/1 [00:00<?, ?it/s]"
      ]
     },
     "metadata": {},
     "output_type": "display_data"
    },
    {
     "data": {
      "application/vnd.jupyter.widget-view+json": {
       "model_id": "e724371b8a724a47937b4a72e4d2daa1",
       "version_major": 2,
       "version_minor": 0
      },
      "text/plain": [
       "Batches:   0%|          | 0/1 [00:00<?, ?it/s]"
      ]
     },
     "metadata": {},
     "output_type": "display_data"
    },
    {
     "data": {
      "application/vnd.jupyter.widget-view+json": {
       "model_id": "6d688a6c3556453cac2ad905c1fbdfe0",
       "version_major": 2,
       "version_minor": 0
      },
      "text/plain": [
       "Batches:   0%|          | 0/1 [00:00<?, ?it/s]"
      ]
     },
     "metadata": {},
     "output_type": "display_data"
    },
    {
     "data": {
      "application/vnd.jupyter.widget-view+json": {
       "model_id": "1186723aff5d4342a66c786a1866b116",
       "version_major": 2,
       "version_minor": 0
      },
      "text/plain": [
       "Batches:   0%|          | 0/1 [00:00<?, ?it/s]"
      ]
     },
     "metadata": {},
     "output_type": "display_data"
    },
    {
     "data": {
      "application/vnd.jupyter.widget-view+json": {
       "model_id": "89c0da4dbb0c4315bad7ab3d353077f4",
       "version_major": 2,
       "version_minor": 0
      },
      "text/plain": [
       "Batches:   0%|          | 0/1 [00:00<?, ?it/s]"
      ]
     },
     "metadata": {},
     "output_type": "display_data"
    },
    {
     "data": {
      "application/vnd.jupyter.widget-view+json": {
       "model_id": "a87e676af5df44268e0ee419a8e86438",
       "version_major": 2,
       "version_minor": 0
      },
      "text/plain": [
       "Batches:   0%|          | 0/1 [00:00<?, ?it/s]"
      ]
     },
     "metadata": {},
     "output_type": "display_data"
    },
    {
     "data": {
      "application/vnd.jupyter.widget-view+json": {
       "model_id": "3d745c74d0424b168d51d11078719bfc",
       "version_major": 2,
       "version_minor": 0
      },
      "text/plain": [
       "Batches:   0%|          | 0/1 [00:00<?, ?it/s]"
      ]
     },
     "metadata": {},
     "output_type": "display_data"
    },
    {
     "data": {
      "application/vnd.jupyter.widget-view+json": {
       "model_id": "bc7cadcdb5a94db5a8d41c0eef1befaf",
       "version_major": 2,
       "version_minor": 0
      },
      "text/plain": [
       "Batches:   0%|          | 0/1 [00:00<?, ?it/s]"
      ]
     },
     "metadata": {},
     "output_type": "display_data"
    },
    {
     "data": {
      "application/vnd.jupyter.widget-view+json": {
       "model_id": "9be270d4e74d4961aa13cc84966d2915",
       "version_major": 2,
       "version_minor": 0
      },
      "text/plain": [
       "Batches:   0%|          | 0/1 [00:00<?, ?it/s]"
      ]
     },
     "metadata": {},
     "output_type": "display_data"
    },
    {
     "data": {
      "application/vnd.jupyter.widget-view+json": {
       "model_id": "730841e0d1164b55808afa399c267d34",
       "version_major": 2,
       "version_minor": 0
      },
      "text/plain": [
       "Batches:   0%|          | 0/1 [00:00<?, ?it/s]"
      ]
     },
     "metadata": {},
     "output_type": "display_data"
    },
    {
     "data": {
      "application/vnd.jupyter.widget-view+json": {
       "model_id": "46fda35cc5ab416a811d6e2a6d5930d6",
       "version_major": 2,
       "version_minor": 0
      },
      "text/plain": [
       "Batches:   0%|          | 0/1 [00:00<?, ?it/s]"
      ]
     },
     "metadata": {},
     "output_type": "display_data"
    },
    {
     "data": {
      "application/vnd.jupyter.widget-view+json": {
       "model_id": "5c509e5bb80d4c358ed3f58f8231fdc3",
       "version_major": 2,
       "version_minor": 0
      },
      "text/plain": [
       "Batches:   0%|          | 0/1 [00:00<?, ?it/s]"
      ]
     },
     "metadata": {},
     "output_type": "display_data"
    },
    {
     "data": {
      "application/vnd.jupyter.widget-view+json": {
       "model_id": "eabc4a041ab14bbab36585c9d8f7610a",
       "version_major": 2,
       "version_minor": 0
      },
      "text/plain": [
       "Batches:   0%|          | 0/1 [00:00<?, ?it/s]"
      ]
     },
     "metadata": {},
     "output_type": "display_data"
    },
    {
     "data": {
      "application/vnd.jupyter.widget-view+json": {
       "model_id": "a6ac67a445e240a188071188113b4edf",
       "version_major": 2,
       "version_minor": 0
      },
      "text/plain": [
       "Batches:   0%|          | 0/1 [00:00<?, ?it/s]"
      ]
     },
     "metadata": {},
     "output_type": "display_data"
    },
    {
     "data": {
      "application/vnd.jupyter.widget-view+json": {
       "model_id": "beee9cf27ad14c6da2ad703aab9072f2",
       "version_major": 2,
       "version_minor": 0
      },
      "text/plain": [
       "Batches:   0%|          | 0/1 [00:00<?, ?it/s]"
      ]
     },
     "metadata": {},
     "output_type": "display_data"
    },
    {
     "data": {
      "application/vnd.jupyter.widget-view+json": {
       "model_id": "22cced89b65747579b1b89ab98368bba",
       "version_major": 2,
       "version_minor": 0
      },
      "text/plain": [
       "Batches:   0%|          | 0/1 [00:00<?, ?it/s]"
      ]
     },
     "metadata": {},
     "output_type": "display_data"
    },
    {
     "data": {
      "application/vnd.jupyter.widget-view+json": {
       "model_id": "7a0abe0db9314f3c812a608ed3b3c7b9",
       "version_major": 2,
       "version_minor": 0
      },
      "text/plain": [
       "Batches:   0%|          | 0/1 [00:00<?, ?it/s]"
      ]
     },
     "metadata": {},
     "output_type": "display_data"
    },
    {
     "data": {
      "application/vnd.jupyter.widget-view+json": {
       "model_id": "c1412a28994b4e4a9864ba774fb09832",
       "version_major": 2,
       "version_minor": 0
      },
      "text/plain": [
       "Batches:   0%|          | 0/1 [00:00<?, ?it/s]"
      ]
     },
     "metadata": {},
     "output_type": "display_data"
    },
    {
     "data": {
      "application/vnd.jupyter.widget-view+json": {
       "model_id": "f431c15f4d6048138bac029080e6723a",
       "version_major": 2,
       "version_minor": 0
      },
      "text/plain": [
       "Batches:   0%|          | 0/1 [00:00<?, ?it/s]"
      ]
     },
     "metadata": {},
     "output_type": "display_data"
    },
    {
     "data": {
      "application/vnd.jupyter.widget-view+json": {
       "model_id": "2d59a98866e94e19a191544dd2a9499f",
       "version_major": 2,
       "version_minor": 0
      },
      "text/plain": [
       "Batches:   0%|          | 0/1 [00:00<?, ?it/s]"
      ]
     },
     "metadata": {},
     "output_type": "display_data"
    },
    {
     "data": {
      "application/vnd.jupyter.widget-view+json": {
       "model_id": "4fb3d128ad484bef9cc1023caf3a5792",
       "version_major": 2,
       "version_minor": 0
      },
      "text/plain": [
       "Batches:   0%|          | 0/1 [00:00<?, ?it/s]"
      ]
     },
     "metadata": {},
     "output_type": "display_data"
    },
    {
     "data": {
      "application/vnd.jupyter.widget-view+json": {
       "model_id": "51cd6243c6544738bfe864bb6b889bd5",
       "version_major": 2,
       "version_minor": 0
      },
      "text/plain": [
       "Batches:   0%|          | 0/1 [00:00<?, ?it/s]"
      ]
     },
     "metadata": {},
     "output_type": "display_data"
    },
    {
     "data": {
      "application/vnd.jupyter.widget-view+json": {
       "model_id": "9be07973ce5347c58daa8a00995c843c",
       "version_major": 2,
       "version_minor": 0
      },
      "text/plain": [
       "Batches:   0%|          | 0/1 [00:00<?, ?it/s]"
      ]
     },
     "metadata": {},
     "output_type": "display_data"
    },
    {
     "data": {
      "application/vnd.jupyter.widget-view+json": {
       "model_id": "de909b72c9fd4489b0e400e618e25b5d",
       "version_major": 2,
       "version_minor": 0
      },
      "text/plain": [
       "Batches:   0%|          | 0/1 [00:00<?, ?it/s]"
      ]
     },
     "metadata": {},
     "output_type": "display_data"
    },
    {
     "data": {
      "application/vnd.jupyter.widget-view+json": {
       "model_id": "1a58e69d5d474c008e3032d147ed19f6",
       "version_major": 2,
       "version_minor": 0
      },
      "text/plain": [
       "Batches:   0%|          | 0/1 [00:00<?, ?it/s]"
      ]
     },
     "metadata": {},
     "output_type": "display_data"
    },
    {
     "data": {
      "application/vnd.jupyter.widget-view+json": {
       "model_id": "26da66a04e4d40139fbe9de37ba4dfda",
       "version_major": 2,
       "version_minor": 0
      },
      "text/plain": [
       "Batches:   0%|          | 0/1 [00:00<?, ?it/s]"
      ]
     },
     "metadata": {},
     "output_type": "display_data"
    },
    {
     "data": {
      "application/vnd.jupyter.widget-view+json": {
       "model_id": "5121e81ee9de4231a2e33bd3d62c6c51",
       "version_major": 2,
       "version_minor": 0
      },
      "text/plain": [
       "Batches:   0%|          | 0/1 [00:00<?, ?it/s]"
      ]
     },
     "metadata": {},
     "output_type": "display_data"
    },
    {
     "data": {
      "application/vnd.jupyter.widget-view+json": {
       "model_id": "94c57eb3d87f4d3cb17fa0781f0f704c",
       "version_major": 2,
       "version_minor": 0
      },
      "text/plain": [
       "Batches:   0%|          | 0/1 [00:00<?, ?it/s]"
      ]
     },
     "metadata": {},
     "output_type": "display_data"
    },
    {
     "data": {
      "application/vnd.jupyter.widget-view+json": {
       "model_id": "c13940b4d80c46558cfc396b840b3659",
       "version_major": 2,
       "version_minor": 0
      },
      "text/plain": [
       "Batches:   0%|          | 0/1 [00:00<?, ?it/s]"
      ]
     },
     "metadata": {},
     "output_type": "display_data"
    },
    {
     "data": {
      "application/vnd.jupyter.widget-view+json": {
       "model_id": "5769877cb35a4f4e87444ae88b8114a3",
       "version_major": 2,
       "version_minor": 0
      },
      "text/plain": [
       "Batches:   0%|          | 0/1 [00:00<?, ?it/s]"
      ]
     },
     "metadata": {},
     "output_type": "display_data"
    },
    {
     "data": {
      "application/vnd.jupyter.widget-view+json": {
       "model_id": "d1141c62b29449d2b257514f4e7a1586",
       "version_major": 2,
       "version_minor": 0
      },
      "text/plain": [
       "Batches:   0%|          | 0/1 [00:00<?, ?it/s]"
      ]
     },
     "metadata": {},
     "output_type": "display_data"
    },
    {
     "data": {
      "application/vnd.jupyter.widget-view+json": {
       "model_id": "599b9d99f41a4e7787b345eb62c134db",
       "version_major": 2,
       "version_minor": 0
      },
      "text/plain": [
       "Batches:   0%|          | 0/1 [00:00<?, ?it/s]"
      ]
     },
     "metadata": {},
     "output_type": "display_data"
    },
    {
     "data": {
      "application/vnd.jupyter.widget-view+json": {
       "model_id": "1d5127e96ae94c61b53c6f45fb52afcf",
       "version_major": 2,
       "version_minor": 0
      },
      "text/plain": [
       "Batches:   0%|          | 0/1 [00:00<?, ?it/s]"
      ]
     },
     "metadata": {},
     "output_type": "display_data"
    },
    {
     "data": {
      "application/vnd.jupyter.widget-view+json": {
       "model_id": "9abcf73190db42e58639688f73531efa",
       "version_major": 2,
       "version_minor": 0
      },
      "text/plain": [
       "Batches:   0%|          | 0/1 [00:00<?, ?it/s]"
      ]
     },
     "metadata": {},
     "output_type": "display_data"
    },
    {
     "data": {
      "application/vnd.jupyter.widget-view+json": {
       "model_id": "adf0ad9e343647f395ea286e4197a116",
       "version_major": 2,
       "version_minor": 0
      },
      "text/plain": [
       "Batches:   0%|          | 0/1 [00:00<?, ?it/s]"
      ]
     },
     "metadata": {},
     "output_type": "display_data"
    },
    {
     "data": {
      "application/vnd.jupyter.widget-view+json": {
       "model_id": "50136db938f04055840909bc6e66aa5e",
       "version_major": 2,
       "version_minor": 0
      },
      "text/plain": [
       "Batches:   0%|          | 0/1 [00:00<?, ?it/s]"
      ]
     },
     "metadata": {},
     "output_type": "display_data"
    },
    {
     "name": "stderr",
     "output_type": "stream",
     "text": [
      "2025-01-28 17:01:13,348 - Created 102 Leaf Embeddings\n",
      "2025-01-28 17:01:13,351 - Building All Nodes\n",
      "2025-01-28 17:01:13,368 - Using Cluster TreeBuilder\n",
      "2025-01-28 17:01:13,370 - Constructing Layer 0\n",
      "i:\\AI_Project\\raptor\\.venv\\lib\\site-packages\\sklearn\\utils\\deprecation.py:151: FutureWarning: 'force_all_finite' was renamed to 'ensure_all_finite' in 1.6 and will be removed in 1.8.\n",
      "  warnings.warn(\n",
      "i:\\AI_Project\\raptor\\.venv\\lib\\site-packages\\threadpoolctl.py:1214: RuntimeWarning: \n",
      "Found Intel OpenMP ('libiomp') and LLVM OpenMP ('libomp') loaded at\n",
      "the same time. Both libraries are known to be incompatible and this\n",
      "can cause random crashes or deadlocks on Linux when loaded in the\n",
      "same Python program.\n",
      "Using threadpoolctl may cause crashes or deadlocks. For more\n",
      "information and possible workarounds, please see\n",
      "    https://github.com/joblib/threadpoolctl/blob/master/multiple_openmp.md\n",
      "\n",
      "  warnings.warn(msg, RuntimeWarning)\n",
      "i:\\AI_Project\\raptor\\.venv\\lib\\site-packages\\sklearn\\utils\\deprecation.py:151: FutureWarning: 'force_all_finite' was renamed to 'ensure_all_finite' in 1.6 and will be removed in 1.8.\n",
      "  warnings.warn(\n",
      "i:\\AI_Project\\raptor\\.venv\\lib\\site-packages\\sklearn\\utils\\deprecation.py:151: FutureWarning: 'force_all_finite' was renamed to 'ensure_all_finite' in 1.6 and will be removed in 1.8.\n",
      "  warnings.warn(\n",
      "2025-01-28 17:01:52,409 - Summarization Length: 100\n",
      "2025-01-28 17:03:46,554 - Node Texts Length: 959, Summarized Text Length: 637\n"
     ]
    },
    {
     "data": {
      "application/vnd.jupyter.widget-view+json": {
       "model_id": "6eae4d2ce95c458a97f61eb408e95eda",
       "version_major": 2,
       "version_minor": 0
      },
      "text/plain": [
       "Batches:   0%|          | 0/1 [00:00<?, ?it/s]"
      ]
     },
     "metadata": {},
     "output_type": "display_data"
    },
    {
     "name": "stderr",
     "output_type": "stream",
     "text": [
      "2025-01-28 17:06:34,609 - Node Texts Length: 1400, Summarized Text Length: 929\n"
     ]
    },
    {
     "data": {
      "application/vnd.jupyter.widget-view+json": {
       "model_id": "f93fb467ba264122859c13fa85d4b98f",
       "version_major": 2,
       "version_minor": 0
      },
      "text/plain": [
       "Batches:   0%|          | 0/1 [00:00<?, ?it/s]"
      ]
     },
     "metadata": {},
     "output_type": "display_data"
    },
    {
     "name": "stderr",
     "output_type": "stream",
     "text": [
      "2025-01-28 17:07:35,762 - Node Texts Length: 398, Summarized Text Length: 168\n"
     ]
    },
    {
     "data": {
      "application/vnd.jupyter.widget-view+json": {
       "model_id": "c31e0ce1b7b84d67afb72346ea941acf",
       "version_major": 2,
       "version_minor": 0
      },
      "text/plain": [
       "Batches:   0%|          | 0/1 [00:00<?, ?it/s]"
      ]
     },
     "metadata": {},
     "output_type": "display_data"
    },
    {
     "name": "stderr",
     "output_type": "stream",
     "text": [
      "2025-01-28 17:08:54,634 - Node Texts Length: 553, Summarized Text Length: 456\n"
     ]
    },
    {
     "data": {
      "application/vnd.jupyter.widget-view+json": {
       "model_id": "7ca0af010c7f4d9a84ed99c876c21fb4",
       "version_major": 2,
       "version_minor": 0
      },
      "text/plain": [
       "Batches:   0%|          | 0/1 [00:00<?, ?it/s]"
      ]
     },
     "metadata": {},
     "output_type": "display_data"
    },
    {
     "name": "stderr",
     "output_type": "stream",
     "text": [
      "2025-01-28 17:09:35,165 - Node Texts Length: 302, Summarized Text Length: 223\n"
     ]
    },
    {
     "data": {
      "application/vnd.jupyter.widget-view+json": {
       "model_id": "0d8768a6eab54172a64b7d892dee84b1",
       "version_major": 2,
       "version_minor": 0
      },
      "text/plain": [
       "Batches:   0%|          | 0/1 [00:00<?, ?it/s]"
      ]
     },
     "metadata": {},
     "output_type": "display_data"
    },
    {
     "name": "stderr",
     "output_type": "stream",
     "text": [
      "2025-01-28 17:10:08,725 - Node Texts Length: 131, Summarized Text Length: 260\n"
     ]
    },
    {
     "data": {
      "application/vnd.jupyter.widget-view+json": {
       "model_id": "d358807dad71416695360520814bd277",
       "version_major": 2,
       "version_minor": 0
      },
      "text/plain": [
       "Batches:   0%|          | 0/1 [00:00<?, ?it/s]"
      ]
     },
     "metadata": {},
     "output_type": "display_data"
    },
    {
     "name": "stderr",
     "output_type": "stream",
     "text": [
      "2025-01-28 17:11:09,783 - Node Texts Length: 364, Summarized Text Length: 482\n"
     ]
    },
    {
     "data": {
      "application/vnd.jupyter.widget-view+json": {
       "model_id": "874b36b985e64328b4f659f6de62cf45",
       "version_major": 2,
       "version_minor": 0
      },
      "text/plain": [
       "Batches:   0%|          | 0/1 [00:00<?, ?it/s]"
      ]
     },
     "metadata": {},
     "output_type": "display_data"
    },
    {
     "name": "stderr",
     "output_type": "stream",
     "text": [
      "2025-01-28 17:12:03,845 - Node Texts Length: 339, Summarized Text Length: 200\n"
     ]
    },
    {
     "data": {
      "application/vnd.jupyter.widget-view+json": {
       "model_id": "5f88357af84e4a8594c246dd7d1d3640",
       "version_major": 2,
       "version_minor": 0
      },
      "text/plain": [
       "Batches:   0%|          | 0/1 [00:00<?, ?it/s]"
      ]
     },
     "metadata": {},
     "output_type": "display_data"
    },
    {
     "name": "stderr",
     "output_type": "stream",
     "text": [
      "2025-01-28 17:13:17,244 - Node Texts Length: 556, Summarized Text Length: 456\n"
     ]
    },
    {
     "data": {
      "application/vnd.jupyter.widget-view+json": {
       "model_id": "4438ebadd447407399807f316fc80511",
       "version_major": 2,
       "version_minor": 0
      },
      "text/plain": [
       "Batches:   0%|          | 0/1 [00:00<?, ?it/s]"
      ]
     },
     "metadata": {},
     "output_type": "display_data"
    },
    {
     "name": "stderr",
     "output_type": "stream",
     "text": [
      "2025-01-28 17:14:05,164 - Node Texts Length: 326, Summarized Text Length: 306\n"
     ]
    },
    {
     "data": {
      "application/vnd.jupyter.widget-view+json": {
       "model_id": "36d479b451244ba5a3e6356ee80b522c",
       "version_major": 2,
       "version_minor": 0
      },
      "text/plain": [
       "Batches:   0%|          | 0/1 [00:00<?, ?it/s]"
      ]
     },
     "metadata": {},
     "output_type": "display_data"
    },
    {
     "name": "stderr",
     "output_type": "stream",
     "text": [
      "2025-01-28 17:15:53,484 - Node Texts Length: 1144, Summarized Text Length: 451\n"
     ]
    },
    {
     "data": {
      "application/vnd.jupyter.widget-view+json": {
       "model_id": "d88986a986c2405e97bb42536a4ca5cb",
       "version_major": 2,
       "version_minor": 0
      },
      "text/plain": [
       "Batches:   0%|          | 0/1 [00:00<?, ?it/s]"
      ]
     },
     "metadata": {},
     "output_type": "display_data"
    },
    {
     "name": "stderr",
     "output_type": "stream",
     "text": [
      "2025-01-28 17:18:47,109 - Node Texts Length: 1105, Summarized Text Length: 924\n"
     ]
    },
    {
     "data": {
      "application/vnd.jupyter.widget-view+json": {
       "model_id": "8eaa31ff72ab415eaa217f5c33cb21be",
       "version_major": 2,
       "version_minor": 0
      },
      "text/plain": [
       "Batches:   0%|          | 0/1 [00:00<?, ?it/s]"
      ]
     },
     "metadata": {},
     "output_type": "display_data"
    },
    {
     "name": "stderr",
     "output_type": "stream",
     "text": [
      "2025-01-28 17:21:15,862 - Node Texts Length: 1050, Summarized Text Length: 969\n"
     ]
    },
    {
     "data": {
      "application/vnd.jupyter.widget-view+json": {
       "model_id": "8e97a7690a5843ce97d83645c0f783a7",
       "version_major": 2,
       "version_minor": 0
      },
      "text/plain": [
       "Batches:   0%|          | 0/1 [00:00<?, ?it/s]"
      ]
     },
     "metadata": {},
     "output_type": "display_data"
    },
    {
     "name": "stderr",
     "output_type": "stream",
     "text": [
      "2025-01-28 17:24:29,022 - Node Texts Length: 1945, Summarized Text Length: 851\n"
     ]
    },
    {
     "data": {
      "application/vnd.jupyter.widget-view+json": {
       "model_id": "e7885f31415f41e29fc72f259598709a",
       "version_major": 2,
       "version_minor": 0
      },
      "text/plain": [
       "Batches:   0%|          | 0/1 [00:00<?, ?it/s]"
      ]
     },
     "metadata": {},
     "output_type": "display_data"
    },
    {
     "name": "stderr",
     "output_type": "stream",
     "text": [
      "2025-01-28 17:25:47,806 - Node Texts Length: 412, Summarized Text Length: 542\n"
     ]
    },
    {
     "data": {
      "application/vnd.jupyter.widget-view+json": {
       "model_id": "7f55644dfe554ec69dc04f0090fcecd5",
       "version_major": 2,
       "version_minor": 0
      },
      "text/plain": [
       "Batches:   0%|          | 0/1 [00:00<?, ?it/s]"
      ]
     },
     "metadata": {},
     "output_type": "display_data"
    },
    {
     "name": "stderr",
     "output_type": "stream",
     "text": [
      "2025-01-28 17:27:11,541 - Node Texts Length: 192, Summarized Text Length: 631\n"
     ]
    },
    {
     "data": {
      "application/vnd.jupyter.widget-view+json": {
       "model_id": "da9bef81b63f40df9e1329e42c2ba8a2",
       "version_major": 2,
       "version_minor": 0
      },
      "text/plain": [
       "Batches:   0%|          | 0/1 [00:00<?, ?it/s]"
      ]
     },
     "metadata": {},
     "output_type": "display_data"
    },
    {
     "name": "stderr",
     "output_type": "stream",
     "text": [
      "2025-01-28 17:28:07,082 - Node Texts Length: 221, Summarized Text Length: 406\n"
     ]
    },
    {
     "data": {
      "application/vnd.jupyter.widget-view+json": {
       "model_id": "5de1863dc8f94572a41cbf1682ffb140",
       "version_major": 2,
       "version_minor": 0
      },
      "text/plain": [
       "Batches:   0%|          | 0/1 [00:00<?, ?it/s]"
      ]
     },
     "metadata": {},
     "output_type": "display_data"
    },
    {
     "name": "stderr",
     "output_type": "stream",
     "text": [
      "2025-01-28 17:28:07,610 - Constructing Layer 1\n",
      "i:\\AI_Project\\raptor\\.venv\\lib\\site-packages\\sklearn\\utils\\deprecation.py:151: FutureWarning: 'force_all_finite' was renamed to 'ensure_all_finite' in 1.6 and will be removed in 1.8.\n",
      "  warnings.warn(\n",
      "i:\\AI_Project\\raptor\\.venv\\lib\\site-packages\\sklearn\\utils\\deprecation.py:151: FutureWarning: 'force_all_finite' was renamed to 'ensure_all_finite' in 1.6 and will be removed in 1.8.\n",
      "  warnings.warn(\n",
      "2025-01-28 17:28:18,424 - Summarization Length: 100\n",
      "2025-01-28 17:33:36,270 - Node Texts Length: 2889, Summarized Text Length: 1437\n"
     ]
    },
    {
     "data": {
      "application/vnd.jupyter.widget-view+json": {
       "model_id": "a454be8118914ca3ad5eed72b5c5e62b",
       "version_major": 2,
       "version_minor": 0
      },
      "text/plain": [
       "Batches:   0%|          | 0/1 [00:00<?, ?it/s]"
      ]
     },
     "metadata": {},
     "output_type": "display_data"
    },
    {
     "name": "stderr",
     "output_type": "stream",
     "text": [
      "2025-01-28 17:38:03,577 - Node Texts Length: 2413, Summarized Text Length: 470\n"
     ]
    },
    {
     "data": {
      "application/vnd.jupyter.widget-view+json": {
       "model_id": "fb2ba0032cfa491e96801af20a40a7e3",
       "version_major": 2,
       "version_minor": 0
      },
      "text/plain": [
       "Batches:   0%|          | 0/1 [00:00<?, ?it/s]"
      ]
     },
     "metadata": {},
     "output_type": "display_data"
    },
    {
     "name": "stderr",
     "output_type": "stream",
     "text": [
      "2025-01-28 17:41:05,075 - Node Texts Length: 1174, Summarized Text Length: 975\n"
     ]
    },
    {
     "data": {
      "application/vnd.jupyter.widget-view+json": {
       "model_id": "b62c460938904a59a6287218e858246b",
       "version_major": 2,
       "version_minor": 0
      },
      "text/plain": [
       "Batches:   0%|          | 0/1 [00:00<?, ?it/s]"
      ]
     },
     "metadata": {},
     "output_type": "display_data"
    },
    {
     "name": "stderr",
     "output_type": "stream",
     "text": [
      "2025-01-28 17:41:58,915 - Node Texts Length: 459, Summarized Text Length: 222\n"
     ]
    },
    {
     "data": {
      "application/vnd.jupyter.widget-view+json": {
       "model_id": "fa2cab5c13e04149ad5636518ad72738",
       "version_major": 2,
       "version_minor": 0
      },
      "text/plain": [
       "Batches:   0%|          | 0/1 [00:00<?, ?it/s]"
      ]
     },
     "metadata": {},
     "output_type": "display_data"
    },
    {
     "name": "stderr",
     "output_type": "stream",
     "text": [
      "2025-01-28 17:45:46,143 - Node Texts Length: 1567, Summarized Text Length: 1429\n"
     ]
    },
    {
     "data": {
      "application/vnd.jupyter.widget-view+json": {
       "model_id": "d2e902ebfafe4c8094efbb36ead671f4",
       "version_major": 2,
       "version_minor": 0
      },
      "text/plain": [
       "Batches:   0%|          | 0/1 [00:00<?, ?it/s]"
      ]
     },
     "metadata": {},
     "output_type": "display_data"
    },
    {
     "name": "stderr",
     "output_type": "stream",
     "text": [
      "2025-01-28 17:46:28,132 - Node Texts Length: 409, Summarized Text Length: 175\n"
     ]
    },
    {
     "data": {
      "application/vnd.jupyter.widget-view+json": {
       "model_id": "1f784595b28842019d8e690f57381fe8",
       "version_major": 2,
       "version_minor": 0
      },
      "text/plain": [
       "Batches:   0%|          | 0/1 [00:00<?, ?it/s]"
      ]
     },
     "metadata": {},
     "output_type": "display_data"
    },
    {
     "name": "stderr",
     "output_type": "stream",
     "text": [
      "2025-01-28 17:46:28,394 - Constructing Layer 2\n",
      "2025-01-28 17:46:28,396 - Stopping Layer construction: Cannot Create More Layers. Total Layers in tree: 2\n",
      "2025-01-28 17:46:28,430 - Successfully initialized TreeRetriever with Config \n",
      "        TreeRetrieverConfig:\n",
      "            Tokenizer: <Encoding 'cl100k_base'>\n",
      "            Threshold: 0.5\n",
      "            Top K: 5\n",
      "            Selection Mode: top_k\n",
      "            Context Embedding Model: EMB\n",
      "            Embedding Model: <__main__.SBertEmbeddingModel object at 0x000001B3EAABC1F0>\n",
      "            Num Layers: None\n",
      "            Start Layer: None\n",
      "        \n"
     ]
    }
   ],
   "source": [
    "RA.add_documents(text)"
   ]
  },
  {
   "cell_type": "code",
   "execution_count": 4,
   "id": "b5f30bb1",
   "metadata": {},
   "outputs": [
    {
     "name": "stderr",
     "output_type": "stream",
     "text": [
      "2025-01-28 18:01:57,129 - Using collapsed_tree\n"
     ]
    },
    {
     "data": {
      "application/vnd.jupyter.widget-view+json": {
       "model_id": "d7471831ee5a44d2baa32f9264992832",
       "version_major": 2,
       "version_minor": 0
      },
      "text/plain": [
       "Batches:   0%|          | 0/1 [00:00<?, ?it/s]"
      ]
     },
     "metadata": {},
     "output_type": "display_data"
    },
    {
     "name": "stdout",
     "output_type": "stream",
     "text": [
      "Answer:  ('هشتاد و چهارمین خرید زمستانی استقلال سهرابیان  بود.', [{'node_index': 2, 'layer_number': 0}, {'node_index': 92, 'layer_number': 0}, {'node_index': 57, 'layer_number': 0}, {'node_index': 73, 'layer_number': 0}, {'node_index': 28, 'layer_number': 0}, {'node_index': 6, 'layer_number': 0}, {'node_index': 15, 'layer_number': 0}, {'node_index': 25, 'layer_number': 0}, {'node_index': 67, 'layer_number': 0}, {'node_index': 19, 'layer_number': 0}])\n"
     ]
    }
   ],
   "source": [
    "question = \"خریدهای زمستانی استقلال چه کسانی بودند؟\"\n",
    "answer = RA.answer_question(question=question, return_layer_information=True)\n",
    "print(\"Answer: \", answer)"
   ]
  },
  {
   "cell_type": "code",
   "execution_count": 7,
   "id": "f637b58b",
   "metadata": {},
   "outputs": [
    {
     "name": "stderr",
     "output_type": "stream",
     "text": [
      "2025-01-28 17:47:21,635 - Tree successfully saved to demo/football360\n"
     ]
    }
   ],
   "source": [
    "SAVE_PATH = \"demo/football360\"\n",
    "RA.save(SAVE_PATH)"
   ]
  },
  {
   "cell_type": "code",
   "execution_count": 5,
   "id": "51dab410",
   "metadata": {},
   "outputs": [
    {
     "data": {
      "application/vnd.plotly.v1+json": {
       "config": {
        "plotlyServerURL": "https://plot.ly"
       },
       "data": [
        {
         "hoverinfo": "text",
         "marker": {
          "color": "#6175c1",
          "line": {
           "color": "rgb(50,50,50)",
           "width": 1
          },
          "size": 18,
          "symbol": "circle-dot"
         },
         "mode": "markers",
         "name": "nodes",
         "opacity": 0.8,
         "text": [
          "Node Index: -1, Node Text: TOP_ROOT_NODE",
          "Node Index: 119, Node Text: این متن راجع به دو موضوع مختلف است: اولاً چالش‌های ل<br>یگ فوتبال ایران وDifficulty‌های بازیکنان و تیم‌ها، و ثانیاً نقل‌و حملات بازیکنان<br> فوتبال ایران در فصل 94-95.<br><br>در مورد چالش‌های لیگ فوتبال ایران، نویسنده می‌گوید که بازی‌های امسال بسیار سخت ب<br>وده و بسیاری از تیم‌ها یکدیگر را closely kennیده‌اند و امتیاز گرفتن از هر 팀 به ی<br>ک امتیاز هم سخت است. همچنین، Writer اشاره کرده و این موضوع را «ناباورانه و عجیب»<br> می‌گوید که آزاد امیرارسلان مطهری از یک تیم مدعی در لیگ برتر به تیمی در قعر جدول<br> لیگ آزادگان سقوط کرده‌است.<br><br>در مورد نقل‌و حملات بازیکنان فوتبال ایران در فصل 94-95،Writer به نقل از یک منبع،<br> می‌گوید که مهران احمدی، 27 ساله، با عقد قراردادی دو ساله به تیم استقلال پیوست و<br> ششمین خرید زمستانی استقلال محسوب می‌شود. همچنین، Writer می‌افirmedthat Ahmadie <br>در لیست Neratimesh است.<br><br>Writer همچنین به نقل از یک منبع، می‌گوید که سهرابیان به عنوان چهارمین خرید زمستا<br>نی استقلال معرفی می‌شود و به دلیل جذب آرمین سهرابیان، فرآیند انتقال عارف غلامی ب<br>ه استقلال را منفی می‌کند. در این متن، امیرارسلان را در کنار محبوبیت آبی‌ها، از ج<br>مله محبوبیت خود درวง موسیقی و گیتاریستی،Comparison می‌کند.<br><br>در meanwhile ، مهدی رحمتی، بازیکن سابق و حالا مربی تیم استقلال خوزستان، در این م<br>تن به یک مورد اشاره کرده‌است که قبل از آمدن او در 팀 استقلال، مهدی رحمتی تصمیم به<br> جدایی گرفت. مهدی رحمتی در این متن बतává rằng او قبل از آمدن himself به شوماش‌تe<br>hrان را ترک کرد و در لیست محبوب ترین بازیکنان شوماش تेहरان قرار گرفت.<br><br>در meanwhile ، بازیکنان دیگر از تیم استقلال جدا شدند و به 팀 های دیگر منتقل شدند <br>.  از آن جمله گوستاوو بلانکو، گئیل کاکوتا، آرمان رمضانی و میلاد زکی‌پور که از تی<br>م استقلال جدا شدند.   بिफوما که در این فصل به عنوان گل ساز مقابل تیم های چادرملو<br> اردakan ، مس رفسنجان و گلگهر سیرجان بازی کرد .<br><br>در این متن، بر основی فوتبال وspecifically bóngسازید است. در مورد اتفاقاتی که در<br> بازی رخ می‌دهد، تأکید بر آن دارد که تمام بازیکنان به دنبال resultado گرفتن هستن<br>د و فشار زیاد بر آنها قرار دارد.  بازیکنی را با نام \"عرضه گل‌گهر\" برای یک بازی م<br>ی‌خواهد که او می‌تواند روی باز خود انتخاب کند وfuture را برای خود تدوین کند. این<br> بازیکن نیز در تلاش برای پیشرفت است و همیشه یک chọn‌GOOD است که می‌تواند درuture<br> برای خود تاثیرگذار باشد.<br><br>در meanwhile، Manager‌های باشگاه استقلال در حال negotiations و معاوضه هستند تا ب<br>ازیکنی از بین رقبا جذب کنند",
          "Node Index: 106, Node Text: در این متن، پرسپولیس، یک باشگاه فوتبال ایران، در یک <br>بازی حساس با تراکتور، یک تیم شناخته‌شده اخراجی، قرار گرفت. این بازی برای سومین ب<br>ار در فصل Presspolis به این صورت بود که mereka مجبور شد دقایقی را با یک بازیکن ک<br>م‌تر ادامه دهد.<br><br>درขณะ же Samei Ramjani, یک بازیکن پرسپولیس, درConditionی با استقلال، توافق کرد و<br> توانایی بازی در پست دفاع میانی وDefense Left را دارد.",
          "Node Index: 42, Node Text: تنها نقطه تاریک پرسپولیس در مصاف با تراکتور؛ بازهم کا<br>رت قرمز در یک بازی حساس",
          "Node Index: 43, Node Text: پرسپولیس برای سومین‌بار در این فصل مقابل یک تیم شناخت<br>ه‌شده اخراجی داد و مجبور شد دقایق قابل توجهی را با یک بازیکن کم‌تر ادامه دهد",
          "Node Index: 60, Node Text:  در شرایطی کوجو و آزادی آبی‌پوش شدند که در سوی مقابل،<br> آرمان رمضانی و گوستاوو بلانکو قراردادشان با استقلال را فسخ کردند",
          "Node Index: 69, Node Text: سهرابیان در شرایطی با استقلال به توافق رسید که او هم <br>توانایی بازی در پست دفاع میانی و هم در پست دفاع چپ را دارد",
          "Node Index: 108, Node Text: در این متن، نویسنده به مورد چالش‌های بازی با استقلال<br> خوزستان اشاره کرده و گفت که این تیم در خانه خود، بسیاری از تیم‌های بزرگ را شکست<br> داده‌است.Writer همچنین می‌گوید که بازی‌های امسال بسیار سخت بوده و بسیاری از تیم<br>‌ها یکدیگر را closely kennیده‌اند و امتیاز گرفتن از هر 팀 به یک امتیاز هم سخت است<br>.<br><br>در ادامه، نویسنده می گوید که現在 कई تیم برای قهرمانی و برخی دیگر برای کسب سهمیه در<br> لیگ آزادگان تلاش están و این امر بسیار difícاست. Writer همچنین به سقوط آزاد امی<br>رارسلان مطهری از یک تیم مدعی در لیگ برتر به تیمی در قعر جدول لیگ آزادگان اشاره م<br>ی‌کند و این اتفاق را «ناباورانه و عجیب» می‌گوید.<br><br>به طور کلی، نویسنده در این متن با چالش‌های موجود در لیگ فوتبال ایران وDifficulty<br>‌های که بازیکن‌ها و تیم‌ها را αντι‌-face می‌کنند، مواجه است.",
          "Node Index: 8, Node Text:  بازی با استقلال خوزستان هم بازی سنگینی بود و بازی کرد<br>ن در زمین این تیم سخت است، دیدید که این تیم در خانه خود خیلی از تیم‌های بزرگ را <br>برده",
          "Node Index: 98, Node Text:  سقوط آزاد امیرارسلان مطهری از یک تیم مدعی در لیگ برت<br>ر به تیمی در قعر جدول لیگ آزادگان، آن‌هم در فاصله کمتر از یک فصل، ناباورانه و عج<br>یب است",
          "Node Index: 30, Node Text:  بازی‌های امسال خیلی سخت شدند و یعنی همه تیم‌ها به یک<br>دیگر نزدیک شدند و امتیاز گرفتن از هر تیم در حد یک امتیاز هم سخت است",
          "Node Index: 31, Node Text:  الان هم یک سری از تیم‌ها برای قهرمانی می‌جنگند و برخ<br>ی دیگر برای کسب سهمیه  واقعا امتیاز گرفتن در این وضعیت سخت است",
          "Node Index: 110, Node Text: این متن tentang دو موضوعdifferent است: اولین مورد مر<br>بوط به فخرالدینی، و دوم مربوط به مهران احمدی و 계약ش با تیم استقلال.<br><br>در مورد فخرالدینی، yazar این متن می‌گوید که او با توجه به سنین خود (34 سال) به ع<br>نوان یک مدافع سن بالایی، اما با تجربه خوبی و آمادگی بالایی، می‌تواند به کمک گل‌گ<br>هر来‌اید. همچنین، از مهم بودن بازی‌های اول برای همه تیم‌ها در sport به‌طور کلی، و<br> اینکه این دو بازی inaugural for گل‌گهر، برای شرایط جدولی کمک می‌کنند.<br><br>متن بعدی مربوط به مهران احمدی و 계약ش با استقلال. در این متن،Writer به نقل از یک م<br>نبع، می‌گوید که Ahmedi، 27 ساله، با عقد قراردادی دو ساله به تیم استقلال پیوست. ه<br>مچنین، Writer می‌افirmedthat Ahmadie ششمین خرید زمستانی استقلال محسوب می‌شود.<br><br>در کل، این متن در مورد دو موضوعdifferent است: فخرالدینی و مهران احمدی.",
          "Node Index: 2, Node Text: فخرالدینی اگر چه ۳۴ ساله است و این برای یک مدافع سن با<br>لایی محسوب می‌شود اما آمادگی بالای او به همراه تجربه خوبی که در تیم‌های مختلف کس<br>ب کرده، بدون تردید به کمک گل‌گهر خواهد آمد",
          "Node Index: 37, Node Text:  مهران احمدی بازیکن 27 ساله تیم خیبرخرم آباد با عقد ق<br>راردادی دو ساله به استقلال پیوست  احمدی ششمین خرید زمستانی استقلال محسوب می‌شد",
          "Node Index: 5, Node Text: معمولا بازی اول برای همه تیم‌ها سخت است چون تیم‌ها نزد<br>یک به 20 روز از شرایط بازی دور بودند و بردن در بازی‌های اول خیلی مهم است و خیلی <br>به تیم کمک خواهد کرد",
          "Node Index: 6, Node Text: *این دو بازی آغازین تو برای گل‌گهر چطور بود؟  این دو ب<br>ازی هم به شرایط جدولی ما خیلی کمک کرد",
          "Node Index: 15, Node Text:  این باشگاه و این تیم در چند سال گذشته نشان داده که ب<br>اشگاه بزرگی است و امکانات لازم را برای ارتقای جایگاه خود دارد",
          "Node Index: 28, Node Text:  من خودم اینجا از همه بیشتر می‌خواهم تفکرات سرمربی را<br> پیاده کنم و من دنبال این هستم که بدانم سرمربی از من چه می‌خواهد",
          "Node Index: 111, Node Text: در این متن، سهرابیان به عنوان چهارمین خرید زمستانی ا<br>ستقلال معرفی می‌شود و به دلیل جذب آرمین سهرابیان، فرآیند انتقال عارف غلامی به اس<br>تقلال را منفی می‌کند. همچنین به mentions می‌شود که امیرارسلان در فوتبال ایران، ن<br>اباورانه سقوط کرده‌است و این موضوع از طریق یک вопрос برای پاره کردن معمای pourqu<br>oi امیرارسلان بهsuchی شتابان می‌رود، مورد بحث قرار می‌گیرد.<br><br>در ادامه متن، امیرارسلان را در کنار محبوبیت آبی‌ها، از جمله محبوبیت خود درวง موس<br>یقی و گیتاریستی،Comparison می‌کند.",
          "Node Index: 25, Node Text:  تیمی بسیار دوست‌داشتنی است و انشالله بهترین نتایج را<br> بتوانند بگیرند *نظرت درباره ادامه فصل و کار کردن با آقای تارتار در سیرجان چیست؟",
          "Node Index: 67, Node Text: سهرابیان بعد از جوئل کوجو، محمدرضا آزادی و صالح حردان<br>ی، چهارمین خرید زمستانی استقلال محسوب می‌شود و با توجه به جذب آرمین سهرابیان، به<br> نظر می‌رسد که فرآیند انتقال عارف غلامی به استقلال منتفی شده باشد",
          "Node Index: 92, Node Text: سقوط آزاد ناباورانه امیرارسلان در فوتبال ایران؛ «به ک<br>جا چنین شتابان آقای گیتاریست؟» شورش امیرارسلان علیه محبوبیت نزد آبی‌ها",
          "Node Index: 112, Node Text: این متن tentang نقل‌و حملات بازیکنان فوتبال ایران در<br> فصل 94-95 discussing می‌شود. مهدی رحمتی، بازیکن سابق و حالا مربی تیم استقلال خو<br>زستان، در این متن به یک مورد اشاره کرده‌است که قبل از آمدن او در تیم استقلال، مه<br>دی رحمتی تصمیم به جدایی گرفت. مهدی رحمتی در این متن बतává rằng او قبل از آمدن hi<br>mself به شوماش‌تehrان را ترک کرد و در لیست محبوب ترین بازیکنان شوماش تेहरان قرار<br> گرفت. <br><br>در meanwhile ، بازیکنان دیگر از تیم استقلال جدا شدند و به تیم های دیگر منتقل شدن<br>د . <br>از آن جمله گوستاوو بلانکو، گئیل کاکوتا، آرمان رمضانی و میلاد زکی‌پور که از تیم ا<br>ستقلال جدا شدند.  <br>بифوما که در این فصل به عنوان گل ساز مقابل تیم های چادرملو اردakan ، مس رفسنجان <br>و گلگهر سیرجان بازی کرد .",
          "Node Index: 38, Node Text:  در آن‌سو گوستاوو بلانکو، گائل کاکوتا، آرمان رمضانی و<br> میلاد زکی‌پور از استقلال جدا شدند  سامان فلاح هم به صورت قرضی به ملوان رفت",
          "Node Index: 77, Node Text: بیفوما که کار خود در فوتبال ایران را با گلزنی برابر ا<br>ستقلال تهران آغاز کرد، سابقه گلزنی برابر شمس‌آذر قزوین و مس رفسنجان را هم دارد و<br> در نقش گل‌ساز مقابل تیم‌های چادرملو اردکان، مس رفسنجان و گل‌گهر سیرجان هم درخشی<br>ده و هفته گذشته، روی گل تیمش برابر آلومینیوم اراک هم نقش‌آفرین بود",
          "Node Index: 17, Node Text:  ممنونم از کادرفنی گل‌گهر که به من اعتقاد داشتند و من<br> را در لیستشان گذاشتند  انشالله بتوانم با عملکردم، جبران کنم و بتوانم برای تیم م<br>فید باشم",
          "Node Index: 18, Node Text: *مهدی رحمتی گفته بود که تو پیش از آمدنش تصمیم به جدای<br>ی گرفتی، درست است؟",
          "Node Index: 50, Node Text: گیورگی گولسیانی  سرخ‌پوشان تا زمان اخراج، عملکرد خوبی<br> داشت اما بعد از آن شاهد افت این تیم بودیم",
          "Node Index: 82, Node Text: گل‌گهر سیرجان، تیم دست به نقد برای خرید تیوی بیفوما ا<br>ست و گفته می‌شود مطابق با درخواست مهدی تارتار، سیرجانی‌ها وارد مذاکره با بیفوما <br>و باشگاه استقلال خوزستان شده‌اند و اگر در زمینه مسائل مالی به توافق برسند، انتقا<br>ل بیفوما به جمع سرمه‌ای‌پوشان سیرجانی دور از ذهن نیست",
          "Node Index: 21, Node Text: با این حال وقتی به نیم‌فصل رسیدیم، تصمیم به جدایی گرف<br>تم و همانطور که آقای رحمتی گفت، درست روز قبل از آمدن ایشان به شمس‌آذر من این تصم<br>یم را گرفتم و کارهای جدایی را انجام دادم",
          "Node Index: 23, Node Text:  من دیگر تصمیم را گرفته بودم و جایی که دیگر نتوانم کم<br>ک کنم، ترجیح می‌دهم از تیم جدا شوند  من این تصمیم را گرفتم و کارهایش را انجام دا<br>دیم",
          "Node Index: 24, Node Text:  من دیگر تصمیمم را گرفته بودم و رفتم  به هر حال جوان‌<br>ها الان باید به تیم کمک کنند و آرزوی موفقیت برای این تیم خوب و جوان دارم",
          "Node Index: 29, Node Text:  ما می‌خواهیم در ادامه فصل نتایج بهتری بگیریم",
          "Node Index: 94, Node Text: مطهری از ابتدای فصل به دنبال انتخاب تیم جدید بود و نا<br>م او در حوالی تیم‌های مختلف از جمله هوادار و مس رفسنجان به گوش می‌رسید",
          "Node Index: 114, Node Text: در این متن، بر основی فوتبال وspecifically bóngسازید<br> است. در مورد اتفاقاتی که در بازی رخ می‌دهد، تأکید بر آن دارد که تمام بازیکنان ب<br>ه دنبال نتیجه گرفتن هستند و فشار زیاد بر آنها قرار دارد.<br><br>بازیکنی را با نام \"عرضه گل‌گهر\" برای یک بازی می‌خواهد که او می‌تواند روی باز خود<br> انتخاب کند وfuture را برای خود تدوین کند. این بازیکن نیز در تلاش برای پیشرفت اس<br>ت و همیشه یک انتخاب خوب دارد که می‌تواند درuture برای خود تاثیرگذار باشد.<br><br>در مورد انتقال مهرداد محمدی از باشگاه استقلال به لیست نفرات تیم، مدیران باشگاه ا<br>ستقلال روز قبل از فعالیت نقل و انتقالاتی خود ادامه دادند و معاوضه مهمی بین دو با<br>شگاه استقلال و سپاهان انجام شد. در این معاوضه، مهرداد محمدی که previously عضو اس<br>تقلال بود اما با جدایی پرماجرایی به لیست نفرات نساجی می‌رسد، دوباره با قراردادی <br>یک سال و نیمه به جمع آبی‌پوشان پایتخت بازگشت.<br><br>در meanwhile، WINGER فرانسوی-کنگویی که بعد از گلزنی برابر استقلال تهران، قرارداد<br> خود را تمدید کرد، حالا به یک مهره درآمدزا برای استقلال خوزستان تبدیل شده است و <br>مدیران باشگاه استقلال درصدد هستند تا با دریافت 500 هزار دلار، رضایت‌نامه بیفوما <br>را صادر کنند.<br><br>مدیران باشگاه استقلال نیز در مورد جذب تیوی بیفوما تمایل دارند، اما اعتقادشان بر <br>این است که رقم درخواستی بیفوما بیش از رقمی است که آن‌ها برای جذب بازیکن خارجی در<br> نظر گرفته‌اند. aquatic های خوزستانی 500 هزار دلار می‌خواهند شانس گل‌گهر برای جذ<br>ب بیفوما را داشته باشند.<br><br>در meanwhile، بیشتر رقبا پیشنهاد استقلال هم روی میز هستند، اما نتیجتا این به این<br> می‌ رسد کهManager‌های باشگاه استقلال در حال negotiations و معاوضه هستند تا بازی<br>کنی از بین رقبان جذب کنند",
          "Node Index: 64, Node Text: در روزهای گذشته رایزنی‌های گسترده‌ای میان مدیران باشگ<br>اه استقلال و نساجی برای انتقال آرمین سهرابیان انجام شده بود که سرانجام جابه‌جایی<br> سهرابیان رسمی شد؛ آن‌هم در شرایطی‌که این مدافع باتجربه در ابتدای فصل عضو استقلا<br>ل بود اما جدایی پرماجرایی از استقلال به مقصد نساجی داشت و حالا او بعد از رایزنی‌<br>های انجام‌شده دوباره با قراردادی یک سال و نیمه به جمع آبی‌پوشان پایتخت بازگشت",
          "Node Index: 39, Node Text: بازگشت مهرداد محمدی باشگاه استقلال در بیانیه خود دربا<br>ره فعالیت‌های نقل‌وانتقالاتی از بازگشت مهرداد محمدی به لیست نفرات تیم خبر داد",
          "Node Index: 12, Node Text: در مورد اتفاقات بازی، هم واضح است که این فوتبال است و<br> همیشه اتفاقاتی پیش می‌آید  همه به دنبال نتیجه گرفتن هستند و فشار روی بازیکنان ز<br>یاد است",
          "Node Index: 14, Node Text: وقتی پیشنهاد گل‌گهر برای من رسید، با روی باز کاملا ان<br>تخاب کردم",
          "Node Index: 16, Node Text:  من هم دنبال پیشرفت هستم و سعی می‌کنم همیشه انتخابی د<br>اشته باشم که بتوانم در آینده برای خودم تاثیرگذار باشد",
          "Node Index: 80, Node Text: وینگر فرانسوی-کنگویی که بعد از گلزنی برابر استقلال ته<br>ران، قرارداد خود را به مدت 2 فصل دیگر تمدید کرد، حالا به یک مهره درآمدزا برای اس<br>تقلال خوزستان تبدیل شده و گفته می‌شود که مدیران باشگاه خوزستانی درصدد آن هستند ت<br>ا با دریافت 500 هزار دلار، رضایت‌نامه بیفوما را صادر کنند",
          "Node Index: 84, Node Text: مدیران باشگاه استقلال هم نسبت به جذب تیوی بیفوما تمای<br>ل دارند اما اعتقادشان بر این است که رقم درخواستی بیفوما بیش از رقمی است که آن‌ها<br> برای جذب بازیکن خارجی در نظر گرفته‌اند",
          "Node Index: 86, Node Text: آبی‌های خوزستانی 500 هزار دلار می‌خواهند شانس گل‌گهر <br>برای جذب بیفوما؛ بیشتر از همه رقبا پیشنهاد استقلال هم روی میز است اما ",
          "Node Index: 62, Node Text: مدیران باشگاه استقلال روز گذشته به فعالیت نقل‌وانتقال<br>اتی خود ادامه دادند و یک معاوضه مهم میان دو باشگاه استقلال و سپاهان انجام شد",
          "Node Index: 120, Node Text: The text provides information about the Persian club<br> Persepolis, specifically their recent match against Traktor, where they receive<br>d a red card in the 76th minute of the game. The team was trailing by one goal a<br>t that point and was led by coach Juan Carlos Garrido. In another incident, a mi<br>dfielder for Persepolis committed a careless mistake that left his team down to <br>10 players in the first half of their match against Sepahan.<br><br>Additionally, the text mentions announcements about four signings for Esteghlal <br>FC during the winter season, including reports about Armin Sahrabiyan's return a<br>nd Amirarslan football player. It seems that these announcements are related to <br>the final day of Winter Market in Tehran, Iran.<br><br>The text also discusses transfer news and agreements between teams in the League<br> 1 of Iran. Mohamedi was removed from the Esteghlal team due to injury, and it i<br>s possible that he will return to the team after recovering. Masoud Jamase, a fo<br>reign player in Team, has become an essential part of the Liga.<br><br>Furthermore, the text mentions the transfer of Mehdi Limouchi to Halftime in Lea<br>gue 1, which led to Garido's exile from the league. A contract between Esteghlal<br> and Sepahan has been signed by Armin Sahrabiyan, who will join the team after b<br>eing removed from Qaimshahri. Salih Hardani has also returned to Esteglhald afte<br>r a loan spell with Sepahan.<br><br>Other topics discussed in the text include:<br><br>* The departure of Amirarslan football player from the team<br>* Tiwi Beifoma's potential transfer to Esteghlal<br>* The contract cancellation of Masoud Jamshedi due to disputes with the club's m<br>anagement<br>* Armin Sahrabiyan's return to Esteghlal after being removed from Qaimshahri<br><br>The text also provides information about the season previous Esteghlal, includin<br>g their performance in League 1 and other competitions. Additionally, it discuss<br>es Amirarslan football player's career and his transfer history.<br><br>Overall, the text appears to be a collection of news and updates related to the <br>Persian club Persepolis and the Iranian team Esteghlal FC, covering various aspe<br>cts such as transfers, contracts, and league performances.",
          "Node Index: 104, Node Text: دetailed summary of the text:<br><br>The only dark spot for Persepolis was their match against Traktor; once again, t<br>hey received a red card in a crucial game on September 8th, 1403 at 20:30. A vet<br>eran midfielder from Persepolis was sent off by referee Hussein Kazemi in the 76<br>th minute of the match after making a controversial decision to remove him from <br>the game.<br><br>The experienced defender from Persepolis made a careless mistake and was shown a<br> red card for doing so. The team, under coach Juan Carlos Garrido, were trailing<br> by one goal at that point.<br><br>In another incident, a 25-year-old midfielder for Persepolis committed a foolish<br> error that left his team down to 10 players in the first half of their match ag<br>ainst Sepahan.",
          "Node Index: 41, Node Text: تنها نقطه تاریک پرسپولیس در مصاف با تراکتور؛ بازهم کا<br>رت قرمز در یک بازی حساس 08 بهمن 1403 ساعت 20:30 212 نظر",
          "Node Index: 52, Node Text: هافبک 25 ساله پرسپولیس در سومین بازی حساس این فصل با <br>اشتباهی بدهنگام تیمش را در نیمه نخست 10 نفره کرد",
          "Node Index: 46, Node Text: هافبک باتجربه پرسپولیس در دقیقه 76 دیدار رفت برابر تر<br>اکتور توسط وحید کاظمی و طی تصمیمی جنجالی از زمین اخراج شد و این اتفاق در حالی رخ<br> داد که تیم تحت هدایت خوان‌کارلوس گاریدو با یک گل عقب بود",
          "Node Index: 49, Node Text: مدافع باتجربه پرسپولیس در مصاف با سپاهان بی‌احتیاطی ب<br>دهنگامی را انجام داد و در دقیقه 35 با کارت قرمز مواجه شد و از زمین بیرون رفت تا <br>دیدار با طلایی‌پوشان وارد فاز جدیدی شود",
          "Node Index: 107, Node Text: تکzie Ramesh، یک خبرنگارSports، در مورد بازی‌های for<br>thcoming و اهداف تیم ملی فوتبال ایران برای مسابقات آینده spoke. <br><br>دلایل و اهداف این دیدbach را در ادامه می‌توانید पढید.<br><br>مهم‌ترین موضوع این گفتگو این است کهTeam IranFootball به‌طور کلی از نتایج مناسب د<br>ر سه بازی بعدی خودหวار می‌کند تا شرایط خود را در جدول مسابقات بهبود بخشند. <br><br>واحد دیگر این موضوع مربوط به بازی‌های مسابقه‌ای است که Team ایران در آن‌ها به سه<br>میه آسیایی می‌پردازند.",
          "Node Index: 32, Node Text:  انشالله بتوانیم در سه بازی بعدی نتیجه لازم را بگیریم<br> و شرایط خودمان را در جدول بهتر کنیم و قطعا یک نیم‌نگاه ویژه به سهمیه آسیایی دار<br>یم",
          "Node Index: 47, Node Text: سروش رفیعی",
          "Node Index: 63, Node Text: رسمی‌شدن بازگشت آرمین به استقلال",
          "Node Index: 109, Node Text: در این متن، announcements رسمی از چهارمین خرید زمستا<br>نی استقلال足球คลوب announced شده است. همچنین reports از بازگشت سهرابیان، TiVi در t<br>hree roadways influential را report کرده are و also news about Amirarslan footba<br>ll player، که به عنوان \"free-mason\" معروف بود، در football arena Iran، به‌عنوان <br>یک \"nabavdar\" (buyer) در market mentioned شده است.<br><br>It seems that these announcements and reports are related to the final day of Wi<br>nter Market in Tehran, Iran. The news is likely about the fourteenth purchase of<br> Esteghlal FC team during winter season.<br><br>However, without more information or context, it's difficult to provide a more d<br>etailed summary.",
          "Node Index: 72, Node Text: بیفوما، چهره ویژه روز پایانی بازار زمستانه؛ تیوی در س<br>ه راهی سرنوشت‌ساز 08 بهمن 1403 ساعت 09:30 60 نظر",
          "Node Index: 73, Node Text: بیفوما، چهره ویژه روز پایانی بازار زمستانه؛ تیوی در س<br>ه راهی سرنوشت‌ساز",
          "Node Index: 87, Node Text: سقوط آزاد ناباورانه امیرارسلان در فوتبال ایران؛ «به ک<br>جا چنین شتابان آقای گیتاریست؟» 08 بهمن 1403 ساعت 10:00 75 نظر",
          "Node Index: 56, Node Text: رونمایی رسمی از چهارمین خرید زمستانی استقلال؛ سهرابیا<br>ن به خانه بازگشت 08 بهمن 1403 ساعت 21:03 372 نظر",
          "Node Index: 57, Node Text: رونمایی رسمی از چهارمین خرید زمستانی استقلال؛ سهرابیا<br>ن به خانه بازگشت",
          "Node Index: 113, Node Text: این متن tentangTransfer و توافق‌های جدید بینTeams در<br> لیگ برتر ایران است. <br><br>Firstly، یک بازیکن به نام Mohamedi به دلیل مصدومیت از لیستEstقلال خارج شده بود و<br> این احتمال وجود دارد که او برای بازگشایی از مصادفتا می‌تواند به تیمEstقلال بازگ<br>ردد.<br><br>Secondly، مسعود Jamase، بازیکن خارجی Team در Liga استقلال، در این League ماندنی <br>شده است. <br><br>Thirdly، یک گل به نام Mehdi Limouchi به Halftime در لیگ برتر توسط Mohamed Khaled<br>ool occurred و این باعث شد که Garido beexiled از League be.<br><br>Fourthly، یک توافق بین دو تیم Estقلال و نساجی، Armin Sahrabiyan را از جمع قرمزپو<br>شان قائمشهری جدا کرد و به جمع آبی پوشان Paitch بازگشت و شاگرد پیتسو موسیمانه شد.<br><br>Fifthly، یک توافق بین دو تیم Estقلال و سپاهان، صالح Hardani را مجدداً به جمع آبی<br> پوشان پایتخت بازگشت و Miller Zakpour را مجدداً به سپاهان بازگشت تا در ادامه فصل<br> Jari کارش را در جمع شاگردان Patis Cartroon دنبال کند.<br><br>Sixthly، Armin Sahrabiyan که امروزه در ترکیب نساجی برابر Alumunium Arak هم به می<br>دان رفت، بعد از انجام این بازی، officially از جمع قرمزپوشان قائمشهری جدا شد و با<br> امضای قراردادی رسمی به Estقلال بازگشت تا در ادامه لیگ 24 کارش را در Collect آبی<br> پوشان پایتخت ادامه بدهد.<br><br>Seventhly، Tiwi Beifoma در آستانه جدایی از Estقلال Khuzestan است، اما همچنان باش<br>گاه Folad هم درصدد توافق با تیم هم‌anni خود است و Tiwi Beifoma را به عنوان دیگر <br>مشتری خرید Tiwi Beifoma در پنجره زمستانی یاد می‌کند.<br><br>Finally، این پروسه انتقال Biifoma به Estقلال Tehran پیچیده‌تر از 2 Team دیگر به <br>نظر می‌رسد اما احتمالاً طی ساعات future خبر جدایی بیفوما از استقلال خوزستان به ص<br>ورت رسمی اعلام خواهد شد و باید دید از میان 3 مقصد مذکور، ستاره گلزن و گل ساز آبی<br> پوشان Ahvazi کدام تیم را انتخاب می‌کند.",
          "Node Index: 66, Node Text: آرمین سهرابیان که امروز در ترکیب نساجی برابر آلومینیو<br>م اراک هم به میدان رفت، بعد از انجام این بازی، رسماً از جمع قرمزپوشان قائمشهری ج<br>دا شد و با امضای قراردادی رسمی به استقلال بازگشت تا در ادامه لیگ بیست‌وچهارم کار<br>ش را در جمع آبی‌پوشان پایتخت ادامه بدهد",
          "Node Index: 40, Node Text:  محمدی به دلیل مصدومیت از لیست استقلال خارج شده بود  <br>همچنین به نظر می‌رسد که مسعود جمعه بازیکن خارجی استقلال در این تیم ماندنی شده اس<br>ت",
          "Node Index: 81, Node Text: البته که خواسته‌های مالی خودِ این بازیکن باعث شده تا <br>پروسه جدایی‌اش از تیم خوزستانی پیچیده شود اما حالا در روز پایانی فعالیت بازار زم<br>ستانه، گفته می‌شود که تیوی بیفوما در آستانه جدایی از استقلال خوزستان است",
          "Node Index: 51, Node Text:  ماحصل برتری عددی سپاهان، گل مهدی لیموچی در نیمه دوم <br>بود که باعث شد گاریدو در آستانه اخراج قرار بگیرد محمد خدابنده‌لو",
          "Node Index: 83, Node Text: ضمن آنکه همچنان باشگاه فولاد هم درصدد توافق با تیم هم<br>‌استانی خود است و از قرمزپوشان اهوازی به عنوان دیگر مشتری خرید تیوی بیفوما در پن<br>جره زمستانی یاد می‌شود",
          "Node Index: 85, Node Text: با این اوصاف، پروسه انتقال بیفوما به استقلال تهران پی<br>چیده‌تر از 2 تیم دیگر به نظر می‌رسد اما با این وجود، احتمالاً طی ساعات آینده خبر<br> جدایی بیفوما از استقلال خوزستان به صورت رسمی اعلام خواهد شد و باید دید از میان <br>3 مقصد مذکور، ستاره گلزن و گل‌ساز آبی‌پوشان اهوازی کدام تیم را انتخاب می‌کند",
          "Node Index: 59, Node Text: براساس توافق انجام‌شده میان دو باشگاه استقلال و نساجی<br>، آرمین سهرابیان به جمع آبی‌پوشان پایتخت بازگشت و شاگرد پیتسو موسیمانه شد",
          "Node Index: 61, Node Text: براساس توافق انجام‌شده، صالح حردانی که در ابتدای فصل <br>از استقلال به سپاهان رفته بود، مجدداً به جمع آبی‌پوشان پایتخت بازگشت و در سوی مق<br>ابل، میلاد زکی‌پور که پیش از شروع لیگ بیست‌وچهارم آبی‌پوش شده بود، مجدداً به سپا<br>هان بازگشت تا در ادامه فصل جاری کارش را در جمع شاگردان پاتریس کارترون دنبال کند",
          "Node Index: 115, Node Text: در این متن، نویسنده به.about از sezon پیشین استقلال <br>در لیگ برترFootball ایران اشاره دارد و در مورد چندین موضوع مختلف نظیر اخراج محمد<br> خدابنده‌لو به دلیل ناتوانی او در تیم و تلاش مدیران باشگاه برای فسخ قرارداد مسعو<br>د جمعه، وینگر مهاجم استقلال خوزستان که احتمالاً از این تیم جدا می‌شود، و امیرارس<br>لان مطهری مهاجم سابق استقلال را مورد بحث قرار می‌دهد.<br><br>از جمله موضوعات مورد بحث در متن adalah اخراج محمد خدابنده‌لو به دلیل ناتوانی او <br>در تیم استقلال و اینکه مدیران باشگاه استقلال به دنبال việc جذب بازیکن خارجی باکی<br>فیت‌تر نسبت به جمعه هستند. همچنین، نویسنده به tentang فسخ قرارداد مسعود جمعه اشا<br>ره می‌کند که بر اساس últimasاخبه‌ها،Jamshid Jamshidi Contract of Jamshidi to be <br>cancelled by the club's management.<br><br>دругان دیگر مورد بحث در متن استقلال خوزستان و وینگر Mahaoud Beifouma که به عنوان<br> یکی از چهره‌های ویژه بازار زمستانه در نظر گرفته می‌شود. همچنین، نویسنده به关于 ام<br>یرارسلان مطهری مهاجم سابق استقلال اشاره می‌کند که به دلیل عدم رضایت جواد نکونام <br>از سطح فنی او، راهی تراکتور تبریز شد و به نظر می‌رسید که بتواند در جمع سرخ‌پوشان<br> تبریزی، عرض‌اندام کند.<br><br>مطوهری همچنین در یک دهه اخیر نزدیک به 300 بازی در لیگ برتر، جام حذفی، لیگ قهرمان<br>ان آسیا و سوپرجام فوتبال ایران با لباس تیم‌های نفت تهران، ذوب‌آهن اصفهان، استقلا<br>ل تهران و تراکتور تبریز انجام داد که 64 گل از جمله 4 گل او در داربی پایتخت در کا<br>رنامه این مهاجم گلزن دیده می‌شود.",
          "Node Index: 99, Node Text: مطهری در طول یک‌دهه اخیر نزدیک به 300 بازی در لیگ برت<br>ر، جام حذفی، لیگ قهرمانان آسیا و سوپرجام فوتبال ایران با لباس تیم‌های نفت تهران،<br> ذوب‌آهن اصفهان، استقلال تهران و تراکتور تبریز انجام داد که 64 گل از جمله 4 گل ا<br>و در داربی پایتخت در کارنامه این مهاجم گلزن دیده می‌شود و روی 25 گل هم در نقش گل<br>‌ساز یا پنالتی‌گیر درخشیده تا جمعاً روی 89 گل موثر باشد",
          "Node Index: 70, Node Text: البته که مدیران باشگاه درصدد آن هستند تا قرارداد مسعو<br>د جمعه را به صورت توافقی فسخ کنند؛ چرا که براساس آخرین خبرها، جمعه عملکرد قابل‌ق<br>بولی نداشته و همین مسئله باعث شده تا مدیران باشگاه استقلال به دنبال قطع همکاری ب<br>ا او و جذب بازیکن خارجی باکیفیت‌تر نسبت به جمعه باشند",
          "Node Index: 7, Node Text:  در بازی قبلی که من فقط یک روز تمرین کرده بودم و باز، <br>کادرفنی به من اعتماد کردند و به من بازی دادند که توانستیم آن مسابقه را ببریم",
          "Node Index: 75, Node Text: وینگر-مهاجم استقلال خوزستان احتمالاً قراردادش را با ا<br>ین تیم به‌زودی فسخ می‌کند و در روز پایانی پنجره زمستانه به دنبال ثبت یک انتقال خ<br>برساز است",
          "Node Index: 44, Node Text: یکی از معدود نکات تاریک این بازی برای تیم پایتخت‌نشین<br> اخراج زودهنگام محمد خدابنده‌لو بود که باعث شد این تیم یک نیمه را با یک بازیکن ک<br>متر بازی کند و عجیب است که این اخراج، اولین کارت قرمزی نبود که سرخ‌پوشان در دیدا<br>رهای مهم این فصل دریافت می‌کردند",
          "Node Index: 76, Node Text: تیوی بیفوما، وینگر-مهاجم استقلال خوزستان که در ابتدای<br> فصل به جمع آبی‌پوشان اهوازی پیوست، بعد از گذراندن یک نیم‌فصل پرماجرا در استقلال<br> خوزستان، حالا توجهات را بیش از پیش به سوی خود جلب کرده است؛ به‌طوری‌که می‌توان <br>از بیفوما به عنوان یکی از چهره‌های ویژه بازار زمستانه یاد کرد و از همان روز آغاز<br>ین فعالیت پنجره زمستانه، خبرهای ضدونقیض و پرشماری درباره آینده کاری تیوی بیفوما <br>به گوش می‌رسید که همچنان هم ادامه دارد و به نظر می‌رسد که او در جمع آبی‌پوشان اه<br>وازی ماندنی نیست",
          "Node Index: 19, Node Text: من در ابتدای فصل، فکر می‌کنم تنها یک روز قبل از پایان<br> نقل‌وانتقالات شمس‌آذر را انتخاب کردم چون دوستانم آنجا بودند",
          "Node Index: 90, Node Text: مهاجم اسبق استقلال که یکی از برترین گلزنان تاریخ دارب<br>ی پایتخت محسوب می‌شود، در نیم‌فصل نخست خانه‌نشین بود و به نظر می‌رسید که در نیم‌<br>فصل دوم به چرخه بازیکنان لیگ برتری بازگردد اما مسیری که مطهری در پیش گرفت، غیرقا<br>بل پیش‌بینی بود",
          "Node Index: 91, Node Text: امیرارسلان مطهری فصل گذشته و بعد از عدم رضایت جواد نک<br>ونام از سطح فنی او، راهی تراکتور تبریز شد و به نظر می‌رسید که بتواند در جمع سرخ‌<br>پوشان تبریزی، عرض‌اندام کند و به روزهای خوبش بازگردد اما شرایط کاملاً برخلاف تصو<br>رات پیش رفت؛ به‌طوری‌که مطهری در 8 بازی برای تراکتور در لیگ برتر و جام حذفی فقط <br>192 دقیقه فرصت بازی به‌دست آورد که در این فرصت هم او که در نقش گلزن درخشید و نه <br>در قامت گل‌ساز چهره موفقی بود تا پایان کابوس‌واری را در لیگ بیست‌وسوم تجربه کند",
          "Node Index: 93, Node Text: البته تمرکز اصلی امیرارسلان مطهری، محکوم‌کردن باشگاه <br>استقلال در دادگاه‌های بین‌المللی بود و او امید داشت که بتواند غرامت سنگینی از آب<br>ی‌ها بگیرد که این اصرار او به محکوم‌کردن آبی‌ها به مذاق هواداران استقلال خوش نیا<br>مد و مطهری که یکی از چهره‌های محبوب خط حمله استقلال در یک‌دهه اخیر بود، به سرعت <br>محبوبیت خود نزد آبی‌ها را از دست داد",
          "Node Index: 121, Node Text: این متن به بررسی برخی از eventos و توافقات مرتبط با <br>باشگاه فوتبال استقلال ایران در سال 1400 اشاره دارد. همچنین به گفتگوهای شخصی سعید<br> دقیقی، هم‌تیمی و هم‌بازی قدیمیش بود، با صalfa حردانی و محمدرضا آزادی اشاره شده <br>است.<br><br>سعید Stacyی پس از صحبت با ششم زلیخایی، متوجه شد که او ازش मदद نیاز دارد، در نتیج<br>ه رفتم برای کمک کردن به شمس‌آذر. این نشان دهنده آن است که سعید Stacyی پس از یک ب<br>ازی یا EVENT، بهReflection و تشکر در God می‌پردازد.<br><br>در این متن، سعید Stacyی خود را در حال Reflection و تشکر در God قرار داده است. او<br> می گوید که \"خدا را شکر در این بازی هم توانستیم به بازی برگردیم\" ، که نشان دهنده<br> آن است که او از God تشکر می کند که او را از یک وضعیت نامطلوب خارج کرده است.<br><br>سعید Stacyی همچنین سؤال می کند که \"در این بازی حقتان برد بود؟\" که نشان دهنده این<br> است که او در مورد ناکامیت خود Questioning می‌کند و wants to know why he wasn't <br>able to win the game.<br><br>در ادامه، سعید Stacyی خود را در حال Reflection و تشکر در situations و Conditions<br> قرار داده است که او را در این بازی Support کرده است. او Says \"خدا را شکر شرایطم<br> خوب است\" و \"here با اکثر بچه‌‎ها قبلا هم‌تیمی بودم و البته بیشتر رفیق بودم\".<br><br>سعید Stacyی به God Again تشکر می‌کند و Says \"خدا را شکر تیم خیلی خوبی داریم که ج<br>وی صمیمی دارد  امکانات خیلی خوبی هم داریم\". این نشان دهنده آن است که او در مورد <br>Team خود تشكر می‌کند و از God thankful is for providing him with a great team.<br><br>در انتها، سعید Stacyی با این جمله ends the message: \"روزهای روشن، خداحافظ\" که نش<br>ان دهنده آن است که او Hopeful است و Gods Blessings را expected is.<br><br>สรیعSummary:<br><br>این متن به بررسی برخی از eventos و توافقات مرتبط با باشگاه فوتبال استقلال ایران <br>در سال 1400 اشاره دارد. سعید Stacyی پس از یک بازی یا EVENT، بهReflection و تشکر <br>در God می‌پردازد. او خود را در حال Reflection و تشکر در God قرار داده است و از G<br>od thankful is for providing him with a great team.",
          "Node Index: 116, Node Text: در این متن به بررسی برخی از EVENT'S و توافقات مرتبط <br>با باشگاه فوتبال استقلال ایران در سال 1400 اشاره شده است. <br><br>همچنین در این متن به گفتگوهای شخصی که سعید دقیقی، هم‌تیمی و هم‌بازی قدیمیش بود ب<br>ا صalfa حردانی و محمدرضا آزادی به‌حساب می آید.<br>سعید Stacyی پس از صحبتی با ششم زلیخایی، متوجه شد که او ازش मदद نیاز دارد، در نتی<br>جه رفتم برای کمک کردن به شمس‌آذر.<br><br>دربار استقلال نیز از بازیکنانی مانند صالح حردانی، محمدرضا آزادی، آرمین سهرابیان،<br> جوئل کوجو، مهران احمدی و ابوالفضل زلیخایی نامبرده را برای جذب به تیم خود انتخاب<br> کرد. <br><br>به گفته برخی ازquelle‌ها، ایرانی‌ها پس از توافق با آرمین سهرابیان، احتمالاً استق<br>لال minimum یک بازیکن دیگر خارجی را جذب می‌کند.<br><br>مجموعا این متن اشاره به یک سری توافقات و حرکت‌هایTransfer و Signing در مورد بازی<br>کنان تیم ملی فوتبال ایران و همچنین برخی دیگر از اقدامات related to Transfer and <br>signings related to Other Iranian Football clubs.",
          "Node Index: 36, Node Text: صالح حردانی، محمدرضا آزادی، آرمین سهرابیان، جوئل کوجو<br>؛ مهران احمدی و ابوالفضل زلیخایی بازیکنانی بودند که استقلال موفق به جذب آنها شد",
          "Node Index: 68, Node Text: سهرابیان آمد، جذب غلامی منتفی شد؟ فعالیت نقل‌وانتقالا<br>تی آبی‌ها ادامه خواهد داشت",
          "Node Index: 71, Node Text:  بعد از توافق با آرمین سهرابیان، گفته می‌شود که احتما<br>لاً استقلالی‌ها حداقل یک بازیکن خارجی دیگر جذب می‌کنند",
          "Node Index: 11, Node Text: *در بازی با ملوان بحث‌های عجیبی صورت گرفت و ملوان 9 ن<br>فره شد، از اتفاقات آن مسابقه صحبت کنیم",
          "Node Index: 20, Node Text:  سعید دقیقی، هم‌تیمی و هم‌بازی قدیمی من بودند و پس از<br> صحبتی که داشتم، متوجه شدم به من نیاز دارند و رفتم برای کمک کردن به شمس‌آذر",
          "Node Index: 117, Node Text: این متن یک سندرمه ای از شخصی است که پس از یک بازی یا<br> EVENT، بهreflection و تشكر درGod می‌پردازد. او در این متن، خود را در حال Reflec<br>tion و تشکر در God قرار داده است.<br><br>او می گوید که \"خدا را شکر در این بازی هم توانستیم به بازی برگردیم\" ، که نشان دهن<br>ده آن است که او از God تشکر می کند که او را از یک وضعیت نامطلوب خارج کرده است.<br><br>در ادامه، او سؤال می کند که \"در این بازی حقتان برد بود؟\" که نشان دهنده این است ک<br>ه او در مورد ناکامیت خود Questioning می‌کند و wants to know why he wasn't able t<br>o win the game.<br><br>با того‌که به God تشکر می کند و از او سوال asks، او در ادامه، خود را در حال Refl<br>ection و تشكر در situations و Conditions قرار داده است که او را در این بازی Supp<br>ort کرده است. او Says \"خدا را شکر شرایطم خوب است\" و \"here با اکثر بچه‌‎ها قبلا ه<br>م‌تیمی بودم و البته بیشتر رفیق بودم\".<br><br>در ادامه، او به God Again تشکر می‌کند و Says \"خدا را شکر تیم خیلی خوبی داریم که <br>جوی صمیمی دارد  امکانات خیلی خوبی هم داریم\". این نشان دهنده آن است که او در مورد<br> Team خود تشكر می‌کند و از God thankful is for providing him with a great team.<br><br>در انتها، او با این جمله ends the message: \"روزهای روشن، خداحافظ\" که نشان دهنده <br>آن است که او Hopeful است و Gods Blessings را expected is.",
          "Node Index: 9, Node Text:  خدا را شکر در این بازی هم توانستیم به بازی برگردیم *د<br>ر این بازی حقتان برد بود؟",
          "Node Index: 26, Node Text: خدا را شکر شرایطم خوب است و اینجا با اکثر بچه‌‎ها قبل<br>ا هم‌تیمی بودم و البته بیشتر رفیق بودم",
          "Node Index: 27, Node Text:  خدا را شکر تیم خیلی خوبی داریم که جوی صمیمی دارد  ام<br>کانات خیلی خوبی هم داریم",
          "Node Index: 101, Node Text: روزهای روشن، خداحافظ",
          "Node Index: 122, Node Text: این متن به مورد یک بازی فوتبال در بازار زمستانه می‌پ<br>ردازد و detailing می‌ کند که پرسپولیس با رکورد 2-0 بر تراکتور برنده شد و این پیر<br>وزی باعث بهبود وضعیتPrespolis در جدول wurde. در نهایت، Prespolis به یک جایزه دیگ<br>ر دست یافت که Ahmadinejad Blue Back To Mohammadie در replaced Mohammadie became.<br> <br><br>در addition, این بازی به‌صورت surprise با یک گل extra بدست آورد و Prespolis برای<br> این برد با تمرکز-low بر ایک số بازیکن، توانست ببخشد.",
          "Node Index: 105, Node Text: این متن about یک بازی فوتبال در بازار زمستانه می‌گوی<br>د. در این بازی، پرسپولیس به Score 2-0 Against تراکتور برنده شد و این برد باعث ve<br>rbessashing وضعیت.presپولیس در جدول became.<br><br>دور دوم این مسابقه پس از اخراج یک بازیکن پرسپولیس ، توانستند گل extra را بدست آو<br>رند . <br><br>جایزه ای دیگر که به prespolis داده شده است این است که احمدی آبی پوش به جای محمدی<br> بازگشت. او ششمین خرید زمستانی استقلال محسوب می‌شود.<br><br>همچنین Prespolis در این بازی با تمرکز پایین برخی از بازیکنان، توانست به یک برد س<br>روسامان ببخشد. <br><br>پرسپولیس پس از جذب جوئل کوجو، محمدرضا آزادی و صالح حردانی ، برای تقویت فهرست خود<br> در روز پایانی فعالیت پنجره زمستانه Were.<br><br>ازجمله این موضوع که پیشتر او با عدم فسخ قرارداد خود، سد راه حضور کاوه رضایی هم د<br>ر جمع آبی پوشان شده بود.",
          "Node Index: 65, Node Text: آبی‌پوشان بعد از جذب جوئل کوجو، محمدرضا آزادی و صالح <br>حردانی، به دنبال تقویت فهرست خود در روز پایانی فعالیت پنجره زمستانه بودند",
          "Node Index: 33, Node Text: پایان روز پرماجرای آبی‌ها در بازار زمستانه؛ احمدی آبی<br>‌پوش شد، محمدی بازگشت 09 بهمن 1403 ساعت 01:00 46 نظر",
          "Node Index: 35, Node Text: پایان روز پرماجرای آبی‌ها در بازار زمستانه؛ احمدی آبی<br>‌پوش شد، محمدی بازگشت مهران احمدی، ششمین خرید زمستانی استقلال محسوب می‌شود",
          "Node Index: 53, Node Text: پرسپولیس همانند بازی رفت با تراکتور، پس از اخراج یک ب<br>ازیکنش، توانست به یک گل دیگر دست پیدا کند و با برد شیرین 2-0 در بالای جدول به وض<br>عیت خود سروسامان ببخشد",
          "Node Index: 54, Node Text: تمرکز پایین برخی از بازیکنان پرسپولیس در بازی‌های بزر<br>گ حسابی آن‌ها را در این فصل با چالش روبرو کرده و اسماعیل کارتال باید روی این قضی<br>ه بیش از پیش کار کند",
          "Node Index: 95, Node Text:  به‌ویژه آنکه او پیشتر با عدم فسخ قرارداد خود، سد راه<br> حضور کاوه رضایی هم در جمع آبی‌پوشان شده بود",
          "Node Index: 123, Node Text: این متن شرح داستانی را در مورد تاریخچه‌ای در فوتبال <br>ایران،Specifically در مورد امیرارسLAN مطهری، مهاجم 31 ساله، می‌گوید. Amirarslan <br>Mattari پس از یک سقوط آزاد ناباورانه در سنی 31 ساله به یکی از تیم‌های در حال سقو<br>ط به لیگ دو رفت.<br><br>در ابتدا، این بازیکن در سطح اول فوتبال ایران حضور داشت و شرایط بسیار خوب بود که <br>با 15 بازی در نیم‌فصل حضور داشت. اما پس از یک میچ ناکام و یک شکست در دقیقه 89 در<br>وازه‌بان ایوب عملیات را به خودی خود باز کرد. همچنین، Amirarslan Mattari در اوجFO<br>RM و برنده‌ترین حریف خود بود، اما با وجود شرایط فوق‌العاده، سقوط آزاد ناباورانه‌<br>ای را تجربه کرد.<br><br>بعد از آن، او را به یکی از تیم‌های در حال سقوط به لیگ دو رفتند. Amirarslan Matta<br>ri در نیم فصل House نشینی ناموفق بود و بعداً راهی نیروی زمینی تهران شد که در این<br> فصل فقط 12 امتیاز به دست آورد. با این وجود، او اکنون دیگر در سطح فوتبال ایران ب<br>ازی نخواهد کرد و باید دید Whether یاagain احیا خواهد شد و دوباره در چرخه بازیکنا<br>ن لیگ برتری باز می‌گردد.<br><br>در meanwhile, بازار نقل‌وانتقالات زمستانی فوتبال ایران در سال 1403 می‌پردازد. گل<br>-Gهر Sirjan activity خوبی را در بازار نقل‌وانتقاطات داشت و برای اضافه کردن مهدی <br>تارتار، مدافع با تجربه‌ای به تیمش فراخورد. میلاد فخرالدینی، بازیکن با سابقه‌ای ک<br>ه برای Teams دیگر در مدت اخیر بازی کرده بود، به خدمت گل-Gهر گرفت.<br><br>در ادامه، tentang Stanton status مطمئن تر شده است و همچنین از این نظر بسیار فعال<br> است. در meanwhile, استقلال در پنجره نقل‌وانتقالاتی زمستانی rất aktif نشان داد و<br> یک بازیکن دیگر هم جذب کرد. پرسپولیس نیز در مصاف حساس برابر تراکتور به برتری شیر<br>ین 2-0 دست یافت و فاصله‌اش با این تیم در بالای جدول کاهش پیدا کرد.<br><br>استقلال بعد از گذراندن یک نیم‌فصل ناامیدکننده، توپ پُر وارد بازار نقل‌وانتقالات <br>زمستانه شدند. جوئل کوجو و محمدرضا آزادی قرارداد خود را resmially با استقلال کردن<br>د تا سیمای خط حمله آبی‌پوشان نسبت به نیم‌ فصل نخست دستخوش تغییر و تحولی جدی شود.<br><br>در meanwhile, پنجره نقل‌وانتقالات زمستانه به روز پایانی کار خود رسیده و اگر بازی<br>کنی بخواهد از تیمی جدا شود، باید تا پایان وقت امروزสามารถ فسخ قرارداد خود را بگی<br>رد و از فردا فقط جابه‌جایی بازیکنان آزاد مجاز خواهد بود و بازیکنان دارای قرارداد<br> حتی در صورت فسخ قراردادشان هم نمی‌توانند تغییر تیم بدهند.<br><br>در آخر، بازار نقل‌وانتقالات Zemستانه فوتبال ایران روز گذشته تحت تأثیر یک خبر غیر<br>منتظره قرار گرفت؛ «امیرارسLAN مطهری به نیروی زمینی تهران پیوست».",
          "Node Index: 102, Node Text: این متن شرح داستانی را در مورد تاریخچه‌ای در فوتبال <br>ایران،Specifically در مورد امیرارسلان مطهری، مهاجم 31 ساله که پس از یک سقوط آزاد<br> ناباورانه در سنی 31 ساله به یکی از تیم‌های در حال سقوط به لیگ دو رفت. <br><br>در ابتدا این بازیکن در سطح اول فوتبال ایران حضور داشت و با شرایط بسیار خوب بود ک<br>ه به طور کلی پانزده بازی در نیم‌فصل حضور داشت، اما پس از یک میچ ناکام و یک شکست <br>در دقیقه 89 دروازه‌بان ایوب عملیات را به خودی خود باز کرد. <br><br>همچنین این بازیکن در اوجFORM و برنده‌ترین حریف خود بود، که با وجود شرایط فوق‌الع<br>اده، سقوط آزاد ناباورانه‌ای را تجربه کرد. بعد از آن، او را به یکی از تیم‌های در <br>حال سقوط به لیگ دو رفتند.<br><br>او در نیم فصل House نشینی، ناموفق بود و بعداً راهی نیروی زمینی تهران شد که در ای<br>ن فصل فقط 12 امتیاز به دست آورد. با این وجود، او اکنون دیگر در سطح فوتبال ایران <br>بازی نخواهد کرد و باید دید Whether یاagain احیا خواهد شد و دوباره در چرخه بازیکن<br>ان لیگ برتری باز می‌گردد.<br><br>در نتیجه سقوط آزاد او شتاب می‌گیرد و رستگاری او با فراز و فنا به طور جدی खतरه اس<br>ت.",
          "Node Index: 96, Node Text: مهاجم 31 ساله بعد از یک نیم‌فصل خانه‌نشینی، نه‌تنها ب<br>ازهم در انتخاب تیم لیگ برتری موفق نبود بلکه راه یکی از تیم‌های بحران‌زده لیگ آزا<br>دگان را در پیش گرفت و به نیروی زمینی تهران پیوست؛ تیمی که از 18 بازی در این فصل <br>فقط 12 امتیاز به‌دست آورده و در رتبه شانزدهم جدول 18 تیمی لیگ آزادگان است و در م<br>سیر سقوط به لیگ دسته دوم قرار دارد",
          "Node Index: 97, Node Text: نیم‌فصل خانه‌نشینی و ناگهان حضور در تیم کاندیدای سقوط<br> به لیگ 2",
          "Node Index: 100, Node Text: با این وجود، او حالا دیگر قرار نیست در سطح فوتبال ای<br>ران بازی کند و باید دید بعد از حضور در نیروی زمینی، مطهریِ 31 ساله احیا می‌شود و<br> دوباره به چرخه بازیکنان لیگ برتری باز می‌گردد یا سقوط آزاد او شتاب می‌گیرد و رف<br>ته‌رفته رسماً از صحنه فوتبال ایران کنار می‌رود",
          "Node Index: 13, Node Text:  با همه این موضوعات باید بدانیم که این حاشیه‌ها همیشه<br> هست و مشکل خاصی هم در این بازی به وجود نیامد *چه شد که پیشنهاد گل‌گهر را قبول ک<br>ردی؟",
          "Node Index: 79, Node Text:  حالا در ساعت حساس مانده تا لحظه پایان مهلت فعالیت تی<br>م‌ها در پنجره زمستانه، خبرهای ضدونقیضی از آینده بازیکنان مختلف به گوش می‌رسد",
          "Node Index: 48, Node Text:  با این حال تیم تهرانی بازگشت فوق‌العاده‌ای به بازی د<br>اشت و موفق شد در دقیقه 89 توسط ایوب العملود از شکست فرار کند و با امتیاز به خانه<br> بازگردد",
          "Node Index: 22, Node Text:  شرایط خیلی خوب بود و آنجا پانزده بازی در نیم‌فصل حضو<br>ر داشتم",
          "Node Index: 55, Node Text:  با این حال محمد خوش‌شانس بود که هم‌تیمی‌هایش در بهتر<br>ین فرم ممکن بودند و حریف از اوج آمادگی به دور بود",
          "Node Index: 88, Node Text: بعد از یک‌دهه حضور در سطح اول فوتبال ایران، امیرارسلا<br>ن مطهری در 31 سالگی یک سقوط آزاد ناباورانه را تجربه کرد و به یکی از تیم‌های در ح<br>ال سقوط به لیگ دو رفت",
          "Node Index: 103, Node Text: در این متن به نقل‌وانتقالات زمستانی فوتبال ایران در <br>سال 1403 می‌پردازد. گل‌گهر سیرجان activity خوبی را در بازار نقل‌وانتقالات داشت و<br> برای اضافه کردن مهدی تارتار، مدافع با تجربه‌ای به تیمش فراخورد. میلاد فخرالدینی<br>، بازیکن باسابقه‌ای که برایTeams khác در مدت اخیر بازی کرده بود، به خدمت گل‌گهر <br>گرفت.<br><br>در ادامه،についてสถานیت مهدی تارتار در تیم گل-Gهر و nasıl از این situation مطمئن تر <br>شده است می گوید. همچنین در بازار نقل‌وانتقالات فوتبال ایران، این activity activi<br>ty خوبی را نشان داده است و از این نظر بسیار فعال است.<br><br>در meanwhile, استقلال در پنجره نقل‌وانتقالاتی زمستان VERY aktif نشان داد و یک با<br>زیکن دیگر هم جذب کرد. پرسپولیس نیز در مصاف حساس برابر تراکتور به برتری شیرین 2-0<br> دست یافت و فاصله‌اش با این تیم در بالای جدول کاهش پیدا کرد.<br><br>استقلال بعد از گذراندن یک نیم‌فصل ناامیدکننده، توپ پُر وارد بازار نقل‌وانتقالات <br>زمستانه شدند. جوئل کوجو و محمدرضا آزادی قرارداد خود را resmi olarak با استقلال ک<br>ردند تا سیمای خط حمله آبی‌پوشان نسبت به نیم‌ فصل نخست دستخوش تغییر و تحولی جدی ش<br>ود.<br><br>در meanwhile, پنجره نقل‌وانتقالات زمستانه به روز پایانی کار خود رسیده و اگر بازی<br>کنی بخواهد از تیمی جدا شود، باید تا پایان وقت امروز بتواند فسخ قرارداد خود را بگ<br>یرد و از فردا فقط جابه‌جایی بازیکنان آزاد مجاز خواهد بود و بازیکنان دارای قراردا<br>د حتی در صورت فسخ قراردادشان هم نمی‌توانند تغییر تیم بدهند.<br><br>در آخر, بازار نقل‌وانتقالات Zemستانه فوتبال ایران روز گذشته تحت تأثیر یک خبر غیر<br>منتظره قرار گرفت؛ «امیرارسلان مطهری به نیروی زمینی تهران پیوست».",
          "Node Index: 0, Node Text: میلاد فخرالدینی در گفت‌وگو با «فوتبال 360»؛ با گل‌گهر <br>به آسیا فکر می‌کنیم 09 بهمن 1403 ساعت 08:00 6 نظر",
          "Node Index: 1, Node Text: به گزارش فوتبال 360، گل‌گهر سیرجان در بازار نقل‌وانتقا<br>لات زمستانی فوتبال ایران فعالیت خوبی داشت و در این فرایند، میلاد فخرالدینی بازیک<br>ن باسابقه تیم شمس‌آذر قزوین که در مدت اخیر برای تیم‌های متفاوتی بازی کرده را به <br>خدمت گرفت تا مهدی تارتار، یک مدافع‌ کنار باتجربه را به تیمش اضافه کند",
          "Node Index: 34, Node Text: به گزارش فوتبال 360، استقلال که در پنجره نقل‌وانتقالا<br>تی زمستان بسیار فعال نشان داد، در آخرین ساعات دوشنبه‌شب که آخرین روز مهلت نقل‌وا<br>نتقالات بود یک بازیکن دیگر هم جذب کرد",
          "Node Index: 3, Node Text: گل‌گهر در نیم‌فصل اول فقط مجید عیدی را در دفاع راست دا<br>شت و عملا ذخیره‌ای برای او نداشت و حالا با اضافه شدن میلاد فخرالدینی، تارتار از <br>این جناح خیال آسوده‌تری دارد و البته او در دو مسابقه اخیر این تیم در آغاز نیم‌فص<br>ل دوم به میدان رفت و در چنین شرایطی با او در فوتبال 360 گفت‌وگو داشتیم و درباره <br>وضعیتش در تیم جدیدش صحبت کردیم",
          "Node Index: 4, Node Text: میلاد فخرالدینی در گفت‌وگو با «فوتبال 360»؛ با گل‌گهر <br>به آسیا فکر می‌کنیم فخرالدینی از حضور در جمع شاگردان تارتار کاملا رضایت دارد",
          "Node Index: 74, Node Text: به گزارش فوتبال 360، پنجره نقل‌وانتقالات زمستانه به ر<br>وز پایانی کار خود رسیده و اگر بازیکنی بخواهد از تیمی جدا شود، باید تا پایان وقت <br>امروز بتواند فسخ قرارداد خود را بگیرد و از فردا (سه‌شنبه) فقط جابه‌جایی بازیکنان<br> آزاد مجاز خواهد بود و بازیکنان دارای قرارداد حتی در صورت فسخ قراردادشان هم نمی‌<br>توانند تغییر تیم بدهند",
          "Node Index: 45, Node Text: به گزارش فوتبال 360، پرسپولیس در مصاف حساس برابر تراک<br>تور به برتری شیرین 2 بر صفر دست یافت تا فاصله‌اش با این تیم در بالای جدول کاهش پ<br>یدا کند",
          "Node Index: 89, Node Text: به گزارش فوتبال 360، بازار نقل‌وانتقالات زمستانه فوتب<br>ال ایران روز گذشته و در دلِ حواشی پرشمار تقابل پرسپولیس - تراکتور، تحت‌تاثیر یک <br>خبر غیرمنتظره قرار گرفت؛ «امیرارسلان مطهری به نیروی زمینی تهران پیوست»",
          "Node Index: 58, Node Text: به گزارش فوتبال 360، استقلالی‌ها بعد از گذراندن یک نی<br>م‌فصل ناامیدکننده، با توپ پُر وارد بازار نقل‌وانتقالات زمستانه شدند و در گام نخس<br>ت، خط حمله استقلال تقویت شد؛ به‌طوری‌که جوئل کوجو و محمدرضا آزادی قرارداد خود با<br> استقلال را رسمی کردند تا سیمای خط حمله آبی‌پوشان نسبت به نیم‌فصل نخست دستخوش تغ<br>ییر و تحولی جدی شود",
          "Node Index: 124, Node Text: این متن به یک بازی بین دو تیم می‌پردازد که در نیمه د<br>وم می‌توانست 3 گل بزند و برنده شود، اما بازی با مساوی Ended شد. <br><br>در ادامه به تهدیدات بیفوما برای جدایی از استقلال خوزستان اشاره شده و تلاش‌های زی<br>ادی که از ابتدای پنجره زمستانی انجام داده است را توضیح داده شده است.",
          "Node Index: 118, Node Text: در Summary، به یک بازی بین دو تیم می‌پردازیم که در ن<br>یمه دوم بازی می توانست 3 گل بزند، اما بازی برنده نبرده وEnded با مساوی شد. در اد<br>امه متن به تهدیدات بیفوما برای جدایی از استقلال خوزستان اشاره می‌کند و تلاش‌هایی<br> را که از ابتدای پنجره زمستانی انجام داده است، توضیح می‌دهد.<br><br>در این Summary، دو بخش مهم وجود دارد:<br><br>1.  «توصیف بازی» در این متن به یک بازی بین دو تیم می‌پردازد که در نیمه دوم می‌تو<br>انست 3 گل بزند و برنده شود، اما بازی با مساوی Ended شد.<br>2.  «توصیف تهدیدات بیفوما» در این متن به تهدیدات بیفوما برای جدایی از استقلال خو<br>زستان اشاره دارد و تلاش‌های زیادی که برای تحقق این مسئله انجام داده است را توضیح<br> می‌دهد.",
          "Node Index: 10, Node Text: در نیمه دوم می‌توانستیم 3 گل بزنیم و برنده باشیم اما <br>متاسفانه نشد و بازی مساوی شد  خدا را شکر با همه این‌ها بازی را نباختیم",
          "Node Index: 78, Node Text: تیوی بیفوما بعد از ثبت 3 گل و 3 پاس گل، حالا در کانون<br> توجهات قرار گرفته و در مسیر جدایی از استقلال خوزستان است و تلاش‌های زیادی از اب<br>تدای پنجره زمستانی برای تحقق این مسئله انجام داده است"
         ],
         "type": "scatter",
         "x": [
          0,
          -52.794444444444444,
          -65.71111111111111,
          -67.21111111111111,
          -66.21111111111111,
          -65.21111111111111,
          -64.21111111111111,
          -61.71111111111111,
          -63.21111111111111,
          -62.21111111111111,
          -61.21111111111111,
          -60.21111111111111,
          -56.71111111111111,
          -59.21111111111111,
          -58.21111111111111,
          -57.21111111111111,
          -56.21111111111111,
          -55.21111111111111,
          -54.21111111111111,
          -52.21111111111111,
          -53.21111111111111,
          -52.21111111111111,
          -51.21111111111111,
          -45.21111111111111,
          -50.21111111111111,
          -49.21111111111111,
          -48.21111111111111,
          -47.21111111111111,
          -46.21111111111111,
          -45.21111111111111,
          -44.21111111111111,
          -43.21111111111111,
          -42.21111111111111,
          -41.21111111111111,
          -40.21111111111111,
          -35.21111111111111,
          -39.21111111111111,
          -38.21111111111111,
          -37.21111111111111,
          -36.21111111111111,
          -35.21111111111111,
          -34.21111111111111,
          -33.21111111111111,
          -32.21111111111111,
          -31.21111111111111,
          -19.111111111111107,
          -28.71111111111111,
          -30.21111111111111,
          -29.21111111111111,
          -28.21111111111111,
          -27.21111111111111,
          -25.21111111111111,
          -26.21111111111111,
          -25.21111111111111,
          -24.21111111111111,
          -21.21111111111111,
          -23.21111111111111,
          -22.21111111111111,
          -21.21111111111111,
          -20.21111111111111,
          -19.21111111111111,
          -14.711111111111107,
          -18.21111111111111,
          -17.21111111111111,
          -16.21111111111111,
          -15.211111111111107,
          -14.211111111111107,
          -13.211111111111107,
          -12.211111111111107,
          -11.211111111111107,
          -5.711111111111107,
          -10.211111111111107,
          -9.211111111111107,
          -8.211111111111107,
          -7.211111111111107,
          -6.211111111111107,
          -5.211111111111107,
          -4.211111111111107,
          -3.211111111111107,
          -2.211111111111107,
          -1.2111111111111068,
          4.038888888888891,
          1.7888888888888914,
          -0.21111111111110858,
          0.7888888888888914,
          1.7888888888888914,
          2.7888888888888914,
          3.7888888888888914,
          6.288888888888891,
          4.788888888888891,
          5.788888888888891,
          6.788888888888891,
          7.788888888888891,
          11.288888888888899,
          11.288888888888899,
          8.788888888888899,
          9.788888888888899,
          10.788888888888899,
          11.788888888888899,
          12.788888888888899,
          13.788888888888899,
          23.2888888888889,
          18.7888888888889,
          14.788888888888899,
          15.788888888888899,
          16.7888888888889,
          17.7888888888889,
          18.7888888888889,
          19.7888888888889,
          20.7888888888889,
          21.7888888888889,
          22.7888888888889,
          27.7888888888889,
          23.7888888888889,
          24.7888888888889,
          25.7888888888889,
          26.7888888888889,
          27.7888888888889,
          28.7888888888889,
          29.7888888888889,
          30.7888888888889,
          31.7888888888889,
          33.2888888888889,
          33.2888888888889,
          32.7888888888889,
          33.7888888888889
         ],
         "y": [
          6,
          5,
          4,
          3,
          3,
          3,
          3,
          4,
          3,
          3,
          3,
          3,
          4,
          3,
          3,
          3,
          3,
          3,
          3,
          4,
          3,
          3,
          3,
          4,
          3,
          3,
          3,
          3,
          3,
          3,
          3,
          3,
          3,
          3,
          3,
          4,
          3,
          3,
          3,
          3,
          3,
          3,
          3,
          3,
          3,
          5,
          4,
          3,
          3,
          3,
          3,
          4,
          3,
          3,
          3,
          4,
          3,
          3,
          3,
          3,
          3,
          4,
          3,
          3,
          3,
          3,
          3,
          3,
          3,
          3,
          4,
          3,
          3,
          3,
          3,
          3,
          3,
          3,
          3,
          3,
          3,
          5,
          4,
          3,
          3,
          3,
          3,
          3,
          4,
          3,
          3,
          3,
          3,
          5,
          4,
          3,
          3,
          3,
          3,
          3,
          3,
          5,
          4,
          3,
          3,
          3,
          3,
          3,
          3,
          3,
          3,
          3,
          4,
          3,
          3,
          3,
          3,
          3,
          3,
          3,
          3,
          3,
          5,
          4,
          3,
          3
         ]
        }
       ],
       "layout": {
        "annotations": [
         {
          "arrowcolor": "rgb(210,210,210)",
          "arrowhead": 2,
          "arrowsize": 1.5,
          "arrowwidth": 1,
          "ax": 0,
          "axref": "x",
          "ay": 6,
          "ayref": "y",
          "showarrow": true,
          "x": -52.794444444444444,
          "xref": "x",
          "y": 5,
          "yref": "y"
         },
         {
          "arrowcolor": "rgb(210,210,210)",
          "arrowhead": 2,
          "arrowsize": 1.5,
          "arrowwidth": 1,
          "ax": -52.794444444444444,
          "axref": "x",
          "ay": 5,
          "ayref": "y",
          "showarrow": true,
          "x": -65.71111111111111,
          "xref": "x",
          "y": 4,
          "yref": "y"
         },
         {
          "arrowcolor": "rgb(210,210,210)",
          "arrowhead": 2,
          "arrowsize": 1.5,
          "arrowwidth": 1,
          "ax": -65.71111111111111,
          "axref": "x",
          "ay": 4,
          "ayref": "y",
          "showarrow": true,
          "x": -67.21111111111111,
          "xref": "x",
          "y": 3,
          "yref": "y"
         },
         {
          "arrowcolor": "rgb(210,210,210)",
          "arrowhead": 2,
          "arrowsize": 1.5,
          "arrowwidth": 1,
          "ax": -65.71111111111111,
          "axref": "x",
          "ay": 4,
          "ayref": "y",
          "showarrow": true,
          "x": -66.21111111111111,
          "xref": "x",
          "y": 3,
          "yref": "y"
         },
         {
          "arrowcolor": "rgb(210,210,210)",
          "arrowhead": 2,
          "arrowsize": 1.5,
          "arrowwidth": 1,
          "ax": -65.71111111111111,
          "axref": "x",
          "ay": 4,
          "ayref": "y",
          "showarrow": true,
          "x": -65.21111111111111,
          "xref": "x",
          "y": 3,
          "yref": "y"
         },
         {
          "arrowcolor": "rgb(210,210,210)",
          "arrowhead": 2,
          "arrowsize": 1.5,
          "arrowwidth": 1,
          "ax": -65.71111111111111,
          "axref": "x",
          "ay": 4,
          "ayref": "y",
          "showarrow": true,
          "x": -64.21111111111111,
          "xref": "x",
          "y": 3,
          "yref": "y"
         },
         {
          "arrowcolor": "rgb(210,210,210)",
          "arrowhead": 2,
          "arrowsize": 1.5,
          "arrowwidth": 1,
          "ax": -52.794444444444444,
          "axref": "x",
          "ay": 5,
          "ayref": "y",
          "showarrow": true,
          "x": -61.71111111111111,
          "xref": "x",
          "y": 4,
          "yref": "y"
         },
         {
          "arrowcolor": "rgb(210,210,210)",
          "arrowhead": 2,
          "arrowsize": 1.5,
          "arrowwidth": 1,
          "ax": -61.71111111111111,
          "axref": "x",
          "ay": 4,
          "ayref": "y",
          "showarrow": true,
          "x": -63.21111111111111,
          "xref": "x",
          "y": 3,
          "yref": "y"
         },
         {
          "arrowcolor": "rgb(210,210,210)",
          "arrowhead": 2,
          "arrowsize": 1.5,
          "arrowwidth": 1,
          "ax": -61.71111111111111,
          "axref": "x",
          "ay": 4,
          "ayref": "y",
          "showarrow": true,
          "x": -62.21111111111111,
          "xref": "x",
          "y": 3,
          "yref": "y"
         },
         {
          "arrowcolor": "rgb(210,210,210)",
          "arrowhead": 2,
          "arrowsize": 1.5,
          "arrowwidth": 1,
          "ax": -61.71111111111111,
          "axref": "x",
          "ay": 4,
          "ayref": "y",
          "showarrow": true,
          "x": -61.21111111111111,
          "xref": "x",
          "y": 3,
          "yref": "y"
         },
         {
          "arrowcolor": "rgb(210,210,210)",
          "arrowhead": 2,
          "arrowsize": 1.5,
          "arrowwidth": 1,
          "ax": -61.71111111111111,
          "axref": "x",
          "ay": 4,
          "ayref": "y",
          "showarrow": true,
          "x": -60.21111111111111,
          "xref": "x",
          "y": 3,
          "yref": "y"
         },
         {
          "arrowcolor": "rgb(210,210,210)",
          "arrowhead": 2,
          "arrowsize": 1.5,
          "arrowwidth": 1,
          "ax": -52.794444444444444,
          "axref": "x",
          "ay": 5,
          "ayref": "y",
          "showarrow": true,
          "x": -56.71111111111111,
          "xref": "x",
          "y": 4,
          "yref": "y"
         },
         {
          "arrowcolor": "rgb(210,210,210)",
          "arrowhead": 2,
          "arrowsize": 1.5,
          "arrowwidth": 1,
          "ax": -56.71111111111111,
          "axref": "x",
          "ay": 4,
          "ayref": "y",
          "showarrow": true,
          "x": -59.21111111111111,
          "xref": "x",
          "y": 3,
          "yref": "y"
         },
         {
          "arrowcolor": "rgb(210,210,210)",
          "arrowhead": 2,
          "arrowsize": 1.5,
          "arrowwidth": 1,
          "ax": -56.71111111111111,
          "axref": "x",
          "ay": 4,
          "ayref": "y",
          "showarrow": true,
          "x": -58.21111111111111,
          "xref": "x",
          "y": 3,
          "yref": "y"
         },
         {
          "arrowcolor": "rgb(210,210,210)",
          "arrowhead": 2,
          "arrowsize": 1.5,
          "arrowwidth": 1,
          "ax": -56.71111111111111,
          "axref": "x",
          "ay": 4,
          "ayref": "y",
          "showarrow": true,
          "x": -57.21111111111111,
          "xref": "x",
          "y": 3,
          "yref": "y"
         },
         {
          "arrowcolor": "rgb(210,210,210)",
          "arrowhead": 2,
          "arrowsize": 1.5,
          "arrowwidth": 1,
          "ax": -56.71111111111111,
          "axref": "x",
          "ay": 4,
          "ayref": "y",
          "showarrow": true,
          "x": -56.21111111111111,
          "xref": "x",
          "y": 3,
          "yref": "y"
         },
         {
          "arrowcolor": "rgb(210,210,210)",
          "arrowhead": 2,
          "arrowsize": 1.5,
          "arrowwidth": 1,
          "ax": -56.71111111111111,
          "axref": "x",
          "ay": 4,
          "ayref": "y",
          "showarrow": true,
          "x": -55.21111111111111,
          "xref": "x",
          "y": 3,
          "yref": "y"
         },
         {
          "arrowcolor": "rgb(210,210,210)",
          "arrowhead": 2,
          "arrowsize": 1.5,
          "arrowwidth": 1,
          "ax": -56.71111111111111,
          "axref": "x",
          "ay": 4,
          "ayref": "y",
          "showarrow": true,
          "x": -54.21111111111111,
          "xref": "x",
          "y": 3,
          "yref": "y"
         },
         {
          "arrowcolor": "rgb(210,210,210)",
          "arrowhead": 2,
          "arrowsize": 1.5,
          "arrowwidth": 1,
          "ax": -52.794444444444444,
          "axref": "x",
          "ay": 5,
          "ayref": "y",
          "showarrow": true,
          "x": -52.21111111111111,
          "xref": "x",
          "y": 4,
          "yref": "y"
         },
         {
          "arrowcolor": "rgb(210,210,210)",
          "arrowhead": 2,
          "arrowsize": 1.5,
          "arrowwidth": 1,
          "ax": -52.21111111111111,
          "axref": "x",
          "ay": 4,
          "ayref": "y",
          "showarrow": true,
          "x": -53.21111111111111,
          "xref": "x",
          "y": 3,
          "yref": "y"
         },
         {
          "arrowcolor": "rgb(210,210,210)",
          "arrowhead": 2,
          "arrowsize": 1.5,
          "arrowwidth": 1,
          "ax": -52.21111111111111,
          "axref": "x",
          "ay": 4,
          "ayref": "y",
          "showarrow": true,
          "x": -52.21111111111111,
          "xref": "x",
          "y": 3,
          "yref": "y"
         },
         {
          "arrowcolor": "rgb(210,210,210)",
          "arrowhead": 2,
          "arrowsize": 1.5,
          "arrowwidth": 1,
          "ax": -52.21111111111111,
          "axref": "x",
          "ay": 4,
          "ayref": "y",
          "showarrow": true,
          "x": -51.21111111111111,
          "xref": "x",
          "y": 3,
          "yref": "y"
         },
         {
          "arrowcolor": "rgb(210,210,210)",
          "arrowhead": 2,
          "arrowsize": 1.5,
          "arrowwidth": 1,
          "ax": -52.794444444444444,
          "axref": "x",
          "ay": 5,
          "ayref": "y",
          "showarrow": true,
          "x": -45.21111111111111,
          "xref": "x",
          "y": 4,
          "yref": "y"
         },
         {
          "arrowcolor": "rgb(210,210,210)",
          "arrowhead": 2,
          "arrowsize": 1.5,
          "arrowwidth": 1,
          "ax": -45.21111111111111,
          "axref": "x",
          "ay": 4,
          "ayref": "y",
          "showarrow": true,
          "x": -50.21111111111111,
          "xref": "x",
          "y": 3,
          "yref": "y"
         },
         {
          "arrowcolor": "rgb(210,210,210)",
          "arrowhead": 2,
          "arrowsize": 1.5,
          "arrowwidth": 1,
          "ax": -45.21111111111111,
          "axref": "x",
          "ay": 4,
          "ayref": "y",
          "showarrow": true,
          "x": -49.21111111111111,
          "xref": "x",
          "y": 3,
          "yref": "y"
         },
         {
          "arrowcolor": "rgb(210,210,210)",
          "arrowhead": 2,
          "arrowsize": 1.5,
          "arrowwidth": 1,
          "ax": -45.21111111111111,
          "axref": "x",
          "ay": 4,
          "ayref": "y",
          "showarrow": true,
          "x": -48.21111111111111,
          "xref": "x",
          "y": 3,
          "yref": "y"
         },
         {
          "arrowcolor": "rgb(210,210,210)",
          "arrowhead": 2,
          "arrowsize": 1.5,
          "arrowwidth": 1,
          "ax": -45.21111111111111,
          "axref": "x",
          "ay": 4,
          "ayref": "y",
          "showarrow": true,
          "x": -47.21111111111111,
          "xref": "x",
          "y": 3,
          "yref": "y"
         },
         {
          "arrowcolor": "rgb(210,210,210)",
          "arrowhead": 2,
          "arrowsize": 1.5,
          "arrowwidth": 1,
          "ax": -45.21111111111111,
          "axref": "x",
          "ay": 4,
          "ayref": "y",
          "showarrow": true,
          "x": -46.21111111111111,
          "xref": "x",
          "y": 3,
          "yref": "y"
         },
         {
          "arrowcolor": "rgb(210,210,210)",
          "arrowhead": 2,
          "arrowsize": 1.5,
          "arrowwidth": 1,
          "ax": -45.21111111111111,
          "axref": "x",
          "ay": 4,
          "ayref": "y",
          "showarrow": true,
          "x": -45.21111111111111,
          "xref": "x",
          "y": 3,
          "yref": "y"
         },
         {
          "arrowcolor": "rgb(210,210,210)",
          "arrowhead": 2,
          "arrowsize": 1.5,
          "arrowwidth": 1,
          "ax": -45.21111111111111,
          "axref": "x",
          "ay": 4,
          "ayref": "y",
          "showarrow": true,
          "x": -44.21111111111111,
          "xref": "x",
          "y": 3,
          "yref": "y"
         },
         {
          "arrowcolor": "rgb(210,210,210)",
          "arrowhead": 2,
          "arrowsize": 1.5,
          "arrowwidth": 1,
          "ax": -45.21111111111111,
          "axref": "x",
          "ay": 4,
          "ayref": "y",
          "showarrow": true,
          "x": -43.21111111111111,
          "xref": "x",
          "y": 3,
          "yref": "y"
         },
         {
          "arrowcolor": "rgb(210,210,210)",
          "arrowhead": 2,
          "arrowsize": 1.5,
          "arrowwidth": 1,
          "ax": -45.21111111111111,
          "axref": "x",
          "ay": 4,
          "ayref": "y",
          "showarrow": true,
          "x": -42.21111111111111,
          "xref": "x",
          "y": 3,
          "yref": "y"
         },
         {
          "arrowcolor": "rgb(210,210,210)",
          "arrowhead": 2,
          "arrowsize": 1.5,
          "arrowwidth": 1,
          "ax": -45.21111111111111,
          "axref": "x",
          "ay": 4,
          "ayref": "y",
          "showarrow": true,
          "x": -41.21111111111111,
          "xref": "x",
          "y": 3,
          "yref": "y"
         },
         {
          "arrowcolor": "rgb(210,210,210)",
          "arrowhead": 2,
          "arrowsize": 1.5,
          "arrowwidth": 1,
          "ax": -45.21111111111111,
          "axref": "x",
          "ay": 4,
          "ayref": "y",
          "showarrow": true,
          "x": -40.21111111111111,
          "xref": "x",
          "y": 3,
          "yref": "y"
         },
         {
          "arrowcolor": "rgb(210,210,210)",
          "arrowhead": 2,
          "arrowsize": 1.5,
          "arrowwidth": 1,
          "ax": -52.794444444444444,
          "axref": "x",
          "ay": 5,
          "ayref": "y",
          "showarrow": true,
          "x": -35.21111111111111,
          "xref": "x",
          "y": 4,
          "yref": "y"
         },
         {
          "arrowcolor": "rgb(210,210,210)",
          "arrowhead": 2,
          "arrowsize": 1.5,
          "arrowwidth": 1,
          "ax": -35.21111111111111,
          "axref": "x",
          "ay": 4,
          "ayref": "y",
          "showarrow": true,
          "x": -39.21111111111111,
          "xref": "x",
          "y": 3,
          "yref": "y"
         },
         {
          "arrowcolor": "rgb(210,210,210)",
          "arrowhead": 2,
          "arrowsize": 1.5,
          "arrowwidth": 1,
          "ax": -35.21111111111111,
          "axref": "x",
          "ay": 4,
          "ayref": "y",
          "showarrow": true,
          "x": -38.21111111111111,
          "xref": "x",
          "y": 3,
          "yref": "y"
         },
         {
          "arrowcolor": "rgb(210,210,210)",
          "arrowhead": 2,
          "arrowsize": 1.5,
          "arrowwidth": 1,
          "ax": -35.21111111111111,
          "axref": "x",
          "ay": 4,
          "ayref": "y",
          "showarrow": true,
          "x": -37.21111111111111,
          "xref": "x",
          "y": 3,
          "yref": "y"
         },
         {
          "arrowcolor": "rgb(210,210,210)",
          "arrowhead": 2,
          "arrowsize": 1.5,
          "arrowwidth": 1,
          "ax": -35.21111111111111,
          "axref": "x",
          "ay": 4,
          "ayref": "y",
          "showarrow": true,
          "x": -36.21111111111111,
          "xref": "x",
          "y": 3,
          "yref": "y"
         },
         {
          "arrowcolor": "rgb(210,210,210)",
          "arrowhead": 2,
          "arrowsize": 1.5,
          "arrowwidth": 1,
          "ax": -35.21111111111111,
          "axref": "x",
          "ay": 4,
          "ayref": "y",
          "showarrow": true,
          "x": -35.21111111111111,
          "xref": "x",
          "y": 3,
          "yref": "y"
         },
         {
          "arrowcolor": "rgb(210,210,210)",
          "arrowhead": 2,
          "arrowsize": 1.5,
          "arrowwidth": 1,
          "ax": -35.21111111111111,
          "axref": "x",
          "ay": 4,
          "ayref": "y",
          "showarrow": true,
          "x": -34.21111111111111,
          "xref": "x",
          "y": 3,
          "yref": "y"
         },
         {
          "arrowcolor": "rgb(210,210,210)",
          "arrowhead": 2,
          "arrowsize": 1.5,
          "arrowwidth": 1,
          "ax": -35.21111111111111,
          "axref": "x",
          "ay": 4,
          "ayref": "y",
          "showarrow": true,
          "x": -33.21111111111111,
          "xref": "x",
          "y": 3,
          "yref": "y"
         },
         {
          "arrowcolor": "rgb(210,210,210)",
          "arrowhead": 2,
          "arrowsize": 1.5,
          "arrowwidth": 1,
          "ax": -35.21111111111111,
          "axref": "x",
          "ay": 4,
          "ayref": "y",
          "showarrow": true,
          "x": -32.21111111111111,
          "xref": "x",
          "y": 3,
          "yref": "y"
         },
         {
          "arrowcolor": "rgb(210,210,210)",
          "arrowhead": 2,
          "arrowsize": 1.5,
          "arrowwidth": 1,
          "ax": -35.21111111111111,
          "axref": "x",
          "ay": 4,
          "ayref": "y",
          "showarrow": true,
          "x": -31.21111111111111,
          "xref": "x",
          "y": 3,
          "yref": "y"
         },
         {
          "arrowcolor": "rgb(210,210,210)",
          "arrowhead": 2,
          "arrowsize": 1.5,
          "arrowwidth": 1,
          "ax": 0,
          "axref": "x",
          "ay": 6,
          "ayref": "y",
          "showarrow": true,
          "x": -19.111111111111107,
          "xref": "x",
          "y": 5,
          "yref": "y"
         },
         {
          "arrowcolor": "rgb(210,210,210)",
          "arrowhead": 2,
          "arrowsize": 1.5,
          "arrowwidth": 1,
          "ax": -19.111111111111107,
          "axref": "x",
          "ay": 5,
          "ayref": "y",
          "showarrow": true,
          "x": -28.71111111111111,
          "xref": "x",
          "y": 4,
          "yref": "y"
         },
         {
          "arrowcolor": "rgb(210,210,210)",
          "arrowhead": 2,
          "arrowsize": 1.5,
          "arrowwidth": 1,
          "ax": -28.71111111111111,
          "axref": "x",
          "ay": 4,
          "ayref": "y",
          "showarrow": true,
          "x": -30.21111111111111,
          "xref": "x",
          "y": 3,
          "yref": "y"
         },
         {
          "arrowcolor": "rgb(210,210,210)",
          "arrowhead": 2,
          "arrowsize": 1.5,
          "arrowwidth": 1,
          "ax": -28.71111111111111,
          "axref": "x",
          "ay": 4,
          "ayref": "y",
          "showarrow": true,
          "x": -29.21111111111111,
          "xref": "x",
          "y": 3,
          "yref": "y"
         },
         {
          "arrowcolor": "rgb(210,210,210)",
          "arrowhead": 2,
          "arrowsize": 1.5,
          "arrowwidth": 1,
          "ax": -28.71111111111111,
          "axref": "x",
          "ay": 4,
          "ayref": "y",
          "showarrow": true,
          "x": -28.21111111111111,
          "xref": "x",
          "y": 3,
          "yref": "y"
         },
         {
          "arrowcolor": "rgb(210,210,210)",
          "arrowhead": 2,
          "arrowsize": 1.5,
          "arrowwidth": 1,
          "ax": -28.71111111111111,
          "axref": "x",
          "ay": 4,
          "ayref": "y",
          "showarrow": true,
          "x": -27.21111111111111,
          "xref": "x",
          "y": 3,
          "yref": "y"
         },
         {
          "arrowcolor": "rgb(210,210,210)",
          "arrowhead": 2,
          "arrowsize": 1.5,
          "arrowwidth": 1,
          "ax": -19.111111111111107,
          "axref": "x",
          "ay": 5,
          "ayref": "y",
          "showarrow": true,
          "x": -25.21111111111111,
          "xref": "x",
          "y": 4,
          "yref": "y"
         },
         {
          "arrowcolor": "rgb(210,210,210)",
          "arrowhead": 2,
          "arrowsize": 1.5,
          "arrowwidth": 1,
          "ax": -25.21111111111111,
          "axref": "x",
          "ay": 4,
          "ayref": "y",
          "showarrow": true,
          "x": -26.21111111111111,
          "xref": "x",
          "y": 3,
          "yref": "y"
         },
         {
          "arrowcolor": "rgb(210,210,210)",
          "arrowhead": 2,
          "arrowsize": 1.5,
          "arrowwidth": 1,
          "ax": -25.21111111111111,
          "axref": "x",
          "ay": 4,
          "ayref": "y",
          "showarrow": true,
          "x": -25.21111111111111,
          "xref": "x",
          "y": 3,
          "yref": "y"
         },
         {
          "arrowcolor": "rgb(210,210,210)",
          "arrowhead": 2,
          "arrowsize": 1.5,
          "arrowwidth": 1,
          "ax": -25.21111111111111,
          "axref": "x",
          "ay": 4,
          "ayref": "y",
          "showarrow": true,
          "x": -24.21111111111111,
          "xref": "x",
          "y": 3,
          "yref": "y"
         },
         {
          "arrowcolor": "rgb(210,210,210)",
          "arrowhead": 2,
          "arrowsize": 1.5,
          "arrowwidth": 1,
          "ax": -19.111111111111107,
          "axref": "x",
          "ay": 5,
          "ayref": "y",
          "showarrow": true,
          "x": -21.21111111111111,
          "xref": "x",
          "y": 4,
          "yref": "y"
         },
         {
          "arrowcolor": "rgb(210,210,210)",
          "arrowhead": 2,
          "arrowsize": 1.5,
          "arrowwidth": 1,
          "ax": -21.21111111111111,
          "axref": "x",
          "ay": 4,
          "ayref": "y",
          "showarrow": true,
          "x": -23.21111111111111,
          "xref": "x",
          "y": 3,
          "yref": "y"
         },
         {
          "arrowcolor": "rgb(210,210,210)",
          "arrowhead": 2,
          "arrowsize": 1.5,
          "arrowwidth": 1,
          "ax": -21.21111111111111,
          "axref": "x",
          "ay": 4,
          "ayref": "y",
          "showarrow": true,
          "x": -22.21111111111111,
          "xref": "x",
          "y": 3,
          "yref": "y"
         },
         {
          "arrowcolor": "rgb(210,210,210)",
          "arrowhead": 2,
          "arrowsize": 1.5,
          "arrowwidth": 1,
          "ax": -21.21111111111111,
          "axref": "x",
          "ay": 4,
          "ayref": "y",
          "showarrow": true,
          "x": -21.21111111111111,
          "xref": "x",
          "y": 3,
          "yref": "y"
         },
         {
          "arrowcolor": "rgb(210,210,210)",
          "arrowhead": 2,
          "arrowsize": 1.5,
          "arrowwidth": 1,
          "ax": -21.21111111111111,
          "axref": "x",
          "ay": 4,
          "ayref": "y",
          "showarrow": true,
          "x": -20.21111111111111,
          "xref": "x",
          "y": 3,
          "yref": "y"
         },
         {
          "arrowcolor": "rgb(210,210,210)",
          "arrowhead": 2,
          "arrowsize": 1.5,
          "arrowwidth": 1,
          "ax": -21.21111111111111,
          "axref": "x",
          "ay": 4,
          "ayref": "y",
          "showarrow": true,
          "x": -19.21111111111111,
          "xref": "x",
          "y": 3,
          "yref": "y"
         },
         {
          "arrowcolor": "rgb(210,210,210)",
          "arrowhead": 2,
          "arrowsize": 1.5,
          "arrowwidth": 1,
          "ax": -19.111111111111107,
          "axref": "x",
          "ay": 5,
          "ayref": "y",
          "showarrow": true,
          "x": -14.711111111111107,
          "xref": "x",
          "y": 4,
          "yref": "y"
         },
         {
          "arrowcolor": "rgb(210,210,210)",
          "arrowhead": 2,
          "arrowsize": 1.5,
          "arrowwidth": 1,
          "ax": -14.711111111111107,
          "axref": "x",
          "ay": 4,
          "ayref": "y",
          "showarrow": true,
          "x": -18.21111111111111,
          "xref": "x",
          "y": 3,
          "yref": "y"
         },
         {
          "arrowcolor": "rgb(210,210,210)",
          "arrowhead": 2,
          "arrowsize": 1.5,
          "arrowwidth": 1,
          "ax": -14.711111111111107,
          "axref": "x",
          "ay": 4,
          "ayref": "y",
          "showarrow": true,
          "x": -17.21111111111111,
          "xref": "x",
          "y": 3,
          "yref": "y"
         },
         {
          "arrowcolor": "rgb(210,210,210)",
          "arrowhead": 2,
          "arrowsize": 1.5,
          "arrowwidth": 1,
          "ax": -14.711111111111107,
          "axref": "x",
          "ay": 4,
          "ayref": "y",
          "showarrow": true,
          "x": -16.21111111111111,
          "xref": "x",
          "y": 3,
          "yref": "y"
         },
         {
          "arrowcolor": "rgb(210,210,210)",
          "arrowhead": 2,
          "arrowsize": 1.5,
          "arrowwidth": 1,
          "ax": -14.711111111111107,
          "axref": "x",
          "ay": 4,
          "ayref": "y",
          "showarrow": true,
          "x": -15.211111111111107,
          "xref": "x",
          "y": 3,
          "yref": "y"
         },
         {
          "arrowcolor": "rgb(210,210,210)",
          "arrowhead": 2,
          "arrowsize": 1.5,
          "arrowwidth": 1,
          "ax": -14.711111111111107,
          "axref": "x",
          "ay": 4,
          "ayref": "y",
          "showarrow": true,
          "x": -14.211111111111107,
          "xref": "x",
          "y": 3,
          "yref": "y"
         },
         {
          "arrowcolor": "rgb(210,210,210)",
          "arrowhead": 2,
          "arrowsize": 1.5,
          "arrowwidth": 1,
          "ax": -14.711111111111107,
          "axref": "x",
          "ay": 4,
          "ayref": "y",
          "showarrow": true,
          "x": -13.211111111111107,
          "xref": "x",
          "y": 3,
          "yref": "y"
         },
         {
          "arrowcolor": "rgb(210,210,210)",
          "arrowhead": 2,
          "arrowsize": 1.5,
          "arrowwidth": 1,
          "ax": -14.711111111111107,
          "axref": "x",
          "ay": 4,
          "ayref": "y",
          "showarrow": true,
          "x": -12.211111111111107,
          "xref": "x",
          "y": 3,
          "yref": "y"
         },
         {
          "arrowcolor": "rgb(210,210,210)",
          "arrowhead": 2,
          "arrowsize": 1.5,
          "arrowwidth": 1,
          "ax": -14.711111111111107,
          "axref": "x",
          "ay": 4,
          "ayref": "y",
          "showarrow": true,
          "x": -11.211111111111107,
          "xref": "x",
          "y": 3,
          "yref": "y"
         },
         {
          "arrowcolor": "rgb(210,210,210)",
          "arrowhead": 2,
          "arrowsize": 1.5,
          "arrowwidth": 1,
          "ax": -19.111111111111107,
          "axref": "x",
          "ay": 5,
          "ayref": "y",
          "showarrow": true,
          "x": -5.711111111111107,
          "xref": "x",
          "y": 4,
          "yref": "y"
         },
         {
          "arrowcolor": "rgb(210,210,210)",
          "arrowhead": 2,
          "arrowsize": 1.5,
          "arrowwidth": 1,
          "ax": -5.711111111111107,
          "axref": "x",
          "ay": 4,
          "ayref": "y",
          "showarrow": true,
          "x": -10.211111111111107,
          "xref": "x",
          "y": 3,
          "yref": "y"
         },
         {
          "arrowcolor": "rgb(210,210,210)",
          "arrowhead": 2,
          "arrowsize": 1.5,
          "arrowwidth": 1,
          "ax": -5.711111111111107,
          "axref": "x",
          "ay": 4,
          "ayref": "y",
          "showarrow": true,
          "x": -9.211111111111107,
          "xref": "x",
          "y": 3,
          "yref": "y"
         },
         {
          "arrowcolor": "rgb(210,210,210)",
          "arrowhead": 2,
          "arrowsize": 1.5,
          "arrowwidth": 1,
          "ax": -5.711111111111107,
          "axref": "x",
          "ay": 4,
          "ayref": "y",
          "showarrow": true,
          "x": -8.211111111111107,
          "xref": "x",
          "y": 3,
          "yref": "y"
         },
         {
          "arrowcolor": "rgb(210,210,210)",
          "arrowhead": 2,
          "arrowsize": 1.5,
          "arrowwidth": 1,
          "ax": -5.711111111111107,
          "axref": "x",
          "ay": 4,
          "ayref": "y",
          "showarrow": true,
          "x": -7.211111111111107,
          "xref": "x",
          "y": 3,
          "yref": "y"
         },
         {
          "arrowcolor": "rgb(210,210,210)",
          "arrowhead": 2,
          "arrowsize": 1.5,
          "arrowwidth": 1,
          "ax": -5.711111111111107,
          "axref": "x",
          "ay": 4,
          "ayref": "y",
          "showarrow": true,
          "x": -6.211111111111107,
          "xref": "x",
          "y": 3,
          "yref": "y"
         },
         {
          "arrowcolor": "rgb(210,210,210)",
          "arrowhead": 2,
          "arrowsize": 1.5,
          "arrowwidth": 1,
          "ax": -5.711111111111107,
          "axref": "x",
          "ay": 4,
          "ayref": "y",
          "showarrow": true,
          "x": -5.211111111111107,
          "xref": "x",
          "y": 3,
          "yref": "y"
         },
         {
          "arrowcolor": "rgb(210,210,210)",
          "arrowhead": 2,
          "arrowsize": 1.5,
          "arrowwidth": 1,
          "ax": -5.711111111111107,
          "axref": "x",
          "ay": 4,
          "ayref": "y",
          "showarrow": true,
          "x": -4.211111111111107,
          "xref": "x",
          "y": 3,
          "yref": "y"
         },
         {
          "arrowcolor": "rgb(210,210,210)",
          "arrowhead": 2,
          "arrowsize": 1.5,
          "arrowwidth": 1,
          "ax": -5.711111111111107,
          "axref": "x",
          "ay": 4,
          "ayref": "y",
          "showarrow": true,
          "x": -3.211111111111107,
          "xref": "x",
          "y": 3,
          "yref": "y"
         },
         {
          "arrowcolor": "rgb(210,210,210)",
          "arrowhead": 2,
          "arrowsize": 1.5,
          "arrowwidth": 1,
          "ax": -5.711111111111107,
          "axref": "x",
          "ay": 4,
          "ayref": "y",
          "showarrow": true,
          "x": -2.211111111111107,
          "xref": "x",
          "y": 3,
          "yref": "y"
         },
         {
          "arrowcolor": "rgb(210,210,210)",
          "arrowhead": 2,
          "arrowsize": 1.5,
          "arrowwidth": 1,
          "ax": -5.711111111111107,
          "axref": "x",
          "ay": 4,
          "ayref": "y",
          "showarrow": true,
          "x": -1.2111111111111068,
          "xref": "x",
          "y": 3,
          "yref": "y"
         },
         {
          "arrowcolor": "rgb(210,210,210)",
          "arrowhead": 2,
          "arrowsize": 1.5,
          "arrowwidth": 1,
          "ax": 0,
          "axref": "x",
          "ay": 6,
          "ayref": "y",
          "showarrow": true,
          "x": 4.038888888888891,
          "xref": "x",
          "y": 5,
          "yref": "y"
         },
         {
          "arrowcolor": "rgb(210,210,210)",
          "arrowhead": 2,
          "arrowsize": 1.5,
          "arrowwidth": 1,
          "ax": 4.038888888888891,
          "axref": "x",
          "ay": 5,
          "ayref": "y",
          "showarrow": true,
          "x": 1.7888888888888914,
          "xref": "x",
          "y": 4,
          "yref": "y"
         },
         {
          "arrowcolor": "rgb(210,210,210)",
          "arrowhead": 2,
          "arrowsize": 1.5,
          "arrowwidth": 1,
          "ax": 1.7888888888888914,
          "axref": "x",
          "ay": 4,
          "ayref": "y",
          "showarrow": true,
          "x": -0.21111111111110858,
          "xref": "x",
          "y": 3,
          "yref": "y"
         },
         {
          "arrowcolor": "rgb(210,210,210)",
          "arrowhead": 2,
          "arrowsize": 1.5,
          "arrowwidth": 1,
          "ax": 1.7888888888888914,
          "axref": "x",
          "ay": 4,
          "ayref": "y",
          "showarrow": true,
          "x": 0.7888888888888914,
          "xref": "x",
          "y": 3,
          "yref": "y"
         },
         {
          "arrowcolor": "rgb(210,210,210)",
          "arrowhead": 2,
          "arrowsize": 1.5,
          "arrowwidth": 1,
          "ax": 1.7888888888888914,
          "axref": "x",
          "ay": 4,
          "ayref": "y",
          "showarrow": true,
          "x": 1.7888888888888914,
          "xref": "x",
          "y": 3,
          "yref": "y"
         },
         {
          "arrowcolor": "rgb(210,210,210)",
          "arrowhead": 2,
          "arrowsize": 1.5,
          "arrowwidth": 1,
          "ax": 1.7888888888888914,
          "axref": "x",
          "ay": 4,
          "ayref": "y",
          "showarrow": true,
          "x": 2.7888888888888914,
          "xref": "x",
          "y": 3,
          "yref": "y"
         },
         {
          "arrowcolor": "rgb(210,210,210)",
          "arrowhead": 2,
          "arrowsize": 1.5,
          "arrowwidth": 1,
          "ax": 1.7888888888888914,
          "axref": "x",
          "ay": 4,
          "ayref": "y",
          "showarrow": true,
          "x": 3.7888888888888914,
          "xref": "x",
          "y": 3,
          "yref": "y"
         },
         {
          "arrowcolor": "rgb(210,210,210)",
          "arrowhead": 2,
          "arrowsize": 1.5,
          "arrowwidth": 1,
          "ax": 4.038888888888891,
          "axref": "x",
          "ay": 5,
          "ayref": "y",
          "showarrow": true,
          "x": 6.288888888888891,
          "xref": "x",
          "y": 4,
          "yref": "y"
         },
         {
          "arrowcolor": "rgb(210,210,210)",
          "arrowhead": 2,
          "arrowsize": 1.5,
          "arrowwidth": 1,
          "ax": 6.288888888888891,
          "axref": "x",
          "ay": 4,
          "ayref": "y",
          "showarrow": true,
          "x": 4.788888888888891,
          "xref": "x",
          "y": 3,
          "yref": "y"
         },
         {
          "arrowcolor": "rgb(210,210,210)",
          "arrowhead": 2,
          "arrowsize": 1.5,
          "arrowwidth": 1,
          "ax": 6.288888888888891,
          "axref": "x",
          "ay": 4,
          "ayref": "y",
          "showarrow": true,
          "x": 5.788888888888891,
          "xref": "x",
          "y": 3,
          "yref": "y"
         },
         {
          "arrowcolor": "rgb(210,210,210)",
          "arrowhead": 2,
          "arrowsize": 1.5,
          "arrowwidth": 1,
          "ax": 6.288888888888891,
          "axref": "x",
          "ay": 4,
          "ayref": "y",
          "showarrow": true,
          "x": 6.788888888888891,
          "xref": "x",
          "y": 3,
          "yref": "y"
         },
         {
          "arrowcolor": "rgb(210,210,210)",
          "arrowhead": 2,
          "arrowsize": 1.5,
          "arrowwidth": 1,
          "ax": 6.288888888888891,
          "axref": "x",
          "ay": 4,
          "ayref": "y",
          "showarrow": true,
          "x": 7.788888888888891,
          "xref": "x",
          "y": 3,
          "yref": "y"
         },
         {
          "arrowcolor": "rgb(210,210,210)",
          "arrowhead": 2,
          "arrowsize": 1.5,
          "arrowwidth": 1,
          "ax": 0,
          "axref": "x",
          "ay": 6,
          "ayref": "y",
          "showarrow": true,
          "x": 11.288888888888899,
          "xref": "x",
          "y": 5,
          "yref": "y"
         },
         {
          "arrowcolor": "rgb(210,210,210)",
          "arrowhead": 2,
          "arrowsize": 1.5,
          "arrowwidth": 1,
          "ax": 11.288888888888899,
          "axref": "x",
          "ay": 5,
          "ayref": "y",
          "showarrow": true,
          "x": 11.288888888888899,
          "xref": "x",
          "y": 4,
          "yref": "y"
         },
         {
          "arrowcolor": "rgb(210,210,210)",
          "arrowhead": 2,
          "arrowsize": 1.5,
          "arrowwidth": 1,
          "ax": 11.288888888888899,
          "axref": "x",
          "ay": 4,
          "ayref": "y",
          "showarrow": true,
          "x": 8.788888888888899,
          "xref": "x",
          "y": 3,
          "yref": "y"
         },
         {
          "arrowcolor": "rgb(210,210,210)",
          "arrowhead": 2,
          "arrowsize": 1.5,
          "arrowwidth": 1,
          "ax": 11.288888888888899,
          "axref": "x",
          "ay": 4,
          "ayref": "y",
          "showarrow": true,
          "x": 9.788888888888899,
          "xref": "x",
          "y": 3,
          "yref": "y"
         },
         {
          "arrowcolor": "rgb(210,210,210)",
          "arrowhead": 2,
          "arrowsize": 1.5,
          "arrowwidth": 1,
          "ax": 11.288888888888899,
          "axref": "x",
          "ay": 4,
          "ayref": "y",
          "showarrow": true,
          "x": 10.788888888888899,
          "xref": "x",
          "y": 3,
          "yref": "y"
         },
         {
          "arrowcolor": "rgb(210,210,210)",
          "arrowhead": 2,
          "arrowsize": 1.5,
          "arrowwidth": 1,
          "ax": 11.288888888888899,
          "axref": "x",
          "ay": 4,
          "ayref": "y",
          "showarrow": true,
          "x": 11.788888888888899,
          "xref": "x",
          "y": 3,
          "yref": "y"
         },
         {
          "arrowcolor": "rgb(210,210,210)",
          "arrowhead": 2,
          "arrowsize": 1.5,
          "arrowwidth": 1,
          "ax": 11.288888888888899,
          "axref": "x",
          "ay": 4,
          "ayref": "y",
          "showarrow": true,
          "x": 12.788888888888899,
          "xref": "x",
          "y": 3,
          "yref": "y"
         },
         {
          "arrowcolor": "rgb(210,210,210)",
          "arrowhead": 2,
          "arrowsize": 1.5,
          "arrowwidth": 1,
          "ax": 11.288888888888899,
          "axref": "x",
          "ay": 4,
          "ayref": "y",
          "showarrow": true,
          "x": 13.788888888888899,
          "xref": "x",
          "y": 3,
          "yref": "y"
         },
         {
          "arrowcolor": "rgb(210,210,210)",
          "arrowhead": 2,
          "arrowsize": 1.5,
          "arrowwidth": 1,
          "ax": 0,
          "axref": "x",
          "ay": 6,
          "ayref": "y",
          "showarrow": true,
          "x": 23.2888888888889,
          "xref": "x",
          "y": 5,
          "yref": "y"
         },
         {
          "arrowcolor": "rgb(210,210,210)",
          "arrowhead": 2,
          "arrowsize": 1.5,
          "arrowwidth": 1,
          "ax": 23.2888888888889,
          "axref": "x",
          "ay": 5,
          "ayref": "y",
          "showarrow": true,
          "x": 18.7888888888889,
          "xref": "x",
          "y": 4,
          "yref": "y"
         },
         {
          "arrowcolor": "rgb(210,210,210)",
          "arrowhead": 2,
          "arrowsize": 1.5,
          "arrowwidth": 1,
          "ax": 18.7888888888889,
          "axref": "x",
          "ay": 4,
          "ayref": "y",
          "showarrow": true,
          "x": 14.788888888888899,
          "xref": "x",
          "y": 3,
          "yref": "y"
         },
         {
          "arrowcolor": "rgb(210,210,210)",
          "arrowhead": 2,
          "arrowsize": 1.5,
          "arrowwidth": 1,
          "ax": 18.7888888888889,
          "axref": "x",
          "ay": 4,
          "ayref": "y",
          "showarrow": true,
          "x": 15.788888888888899,
          "xref": "x",
          "y": 3,
          "yref": "y"
         },
         {
          "arrowcolor": "rgb(210,210,210)",
          "arrowhead": 2,
          "arrowsize": 1.5,
          "arrowwidth": 1,
          "ax": 18.7888888888889,
          "axref": "x",
          "ay": 4,
          "ayref": "y",
          "showarrow": true,
          "x": 16.7888888888889,
          "xref": "x",
          "y": 3,
          "yref": "y"
         },
         {
          "arrowcolor": "rgb(210,210,210)",
          "arrowhead": 2,
          "arrowsize": 1.5,
          "arrowwidth": 1,
          "ax": 18.7888888888889,
          "axref": "x",
          "ay": 4,
          "ayref": "y",
          "showarrow": true,
          "x": 17.7888888888889,
          "xref": "x",
          "y": 3,
          "yref": "y"
         },
         {
          "arrowcolor": "rgb(210,210,210)",
          "arrowhead": 2,
          "arrowsize": 1.5,
          "arrowwidth": 1,
          "ax": 18.7888888888889,
          "axref": "x",
          "ay": 4,
          "ayref": "y",
          "showarrow": true,
          "x": 18.7888888888889,
          "xref": "x",
          "y": 3,
          "yref": "y"
         },
         {
          "arrowcolor": "rgb(210,210,210)",
          "arrowhead": 2,
          "arrowsize": 1.5,
          "arrowwidth": 1,
          "ax": 18.7888888888889,
          "axref": "x",
          "ay": 4,
          "ayref": "y",
          "showarrow": true,
          "x": 19.7888888888889,
          "xref": "x",
          "y": 3,
          "yref": "y"
         },
         {
          "arrowcolor": "rgb(210,210,210)",
          "arrowhead": 2,
          "arrowsize": 1.5,
          "arrowwidth": 1,
          "ax": 18.7888888888889,
          "axref": "x",
          "ay": 4,
          "ayref": "y",
          "showarrow": true,
          "x": 20.7888888888889,
          "xref": "x",
          "y": 3,
          "yref": "y"
         },
         {
          "arrowcolor": "rgb(210,210,210)",
          "arrowhead": 2,
          "arrowsize": 1.5,
          "arrowwidth": 1,
          "ax": 18.7888888888889,
          "axref": "x",
          "ay": 4,
          "ayref": "y",
          "showarrow": true,
          "x": 21.7888888888889,
          "xref": "x",
          "y": 3,
          "yref": "y"
         },
         {
          "arrowcolor": "rgb(210,210,210)",
          "arrowhead": 2,
          "arrowsize": 1.5,
          "arrowwidth": 1,
          "ax": 18.7888888888889,
          "axref": "x",
          "ay": 4,
          "ayref": "y",
          "showarrow": true,
          "x": 22.7888888888889,
          "xref": "x",
          "y": 3,
          "yref": "y"
         },
         {
          "arrowcolor": "rgb(210,210,210)",
          "arrowhead": 2,
          "arrowsize": 1.5,
          "arrowwidth": 1,
          "ax": 23.2888888888889,
          "axref": "x",
          "ay": 5,
          "ayref": "y",
          "showarrow": true,
          "x": 27.7888888888889,
          "xref": "x",
          "y": 4,
          "yref": "y"
         },
         {
          "arrowcolor": "rgb(210,210,210)",
          "arrowhead": 2,
          "arrowsize": 1.5,
          "arrowwidth": 1,
          "ax": 27.7888888888889,
          "axref": "x",
          "ay": 4,
          "ayref": "y",
          "showarrow": true,
          "x": 23.7888888888889,
          "xref": "x",
          "y": 3,
          "yref": "y"
         },
         {
          "arrowcolor": "rgb(210,210,210)",
          "arrowhead": 2,
          "arrowsize": 1.5,
          "arrowwidth": 1,
          "ax": 27.7888888888889,
          "axref": "x",
          "ay": 4,
          "ayref": "y",
          "showarrow": true,
          "x": 24.7888888888889,
          "xref": "x",
          "y": 3,
          "yref": "y"
         },
         {
          "arrowcolor": "rgb(210,210,210)",
          "arrowhead": 2,
          "arrowsize": 1.5,
          "arrowwidth": 1,
          "ax": 27.7888888888889,
          "axref": "x",
          "ay": 4,
          "ayref": "y",
          "showarrow": true,
          "x": 25.7888888888889,
          "xref": "x",
          "y": 3,
          "yref": "y"
         },
         {
          "arrowcolor": "rgb(210,210,210)",
          "arrowhead": 2,
          "arrowsize": 1.5,
          "arrowwidth": 1,
          "ax": 27.7888888888889,
          "axref": "x",
          "ay": 4,
          "ayref": "y",
          "showarrow": true,
          "x": 26.7888888888889,
          "xref": "x",
          "y": 3,
          "yref": "y"
         },
         {
          "arrowcolor": "rgb(210,210,210)",
          "arrowhead": 2,
          "arrowsize": 1.5,
          "arrowwidth": 1,
          "ax": 27.7888888888889,
          "axref": "x",
          "ay": 4,
          "ayref": "y",
          "showarrow": true,
          "x": 27.7888888888889,
          "xref": "x",
          "y": 3,
          "yref": "y"
         },
         {
          "arrowcolor": "rgb(210,210,210)",
          "arrowhead": 2,
          "arrowsize": 1.5,
          "arrowwidth": 1,
          "ax": 27.7888888888889,
          "axref": "x",
          "ay": 4,
          "ayref": "y",
          "showarrow": true,
          "x": 28.7888888888889,
          "xref": "x",
          "y": 3,
          "yref": "y"
         },
         {
          "arrowcolor": "rgb(210,210,210)",
          "arrowhead": 2,
          "arrowsize": 1.5,
          "arrowwidth": 1,
          "ax": 27.7888888888889,
          "axref": "x",
          "ay": 4,
          "ayref": "y",
          "showarrow": true,
          "x": 29.7888888888889,
          "xref": "x",
          "y": 3,
          "yref": "y"
         },
         {
          "arrowcolor": "rgb(210,210,210)",
          "arrowhead": 2,
          "arrowsize": 1.5,
          "arrowwidth": 1,
          "ax": 27.7888888888889,
          "axref": "x",
          "ay": 4,
          "ayref": "y",
          "showarrow": true,
          "x": 30.7888888888889,
          "xref": "x",
          "y": 3,
          "yref": "y"
         },
         {
          "arrowcolor": "rgb(210,210,210)",
          "arrowhead": 2,
          "arrowsize": 1.5,
          "arrowwidth": 1,
          "ax": 27.7888888888889,
          "axref": "x",
          "ay": 4,
          "ayref": "y",
          "showarrow": true,
          "x": 31.7888888888889,
          "xref": "x",
          "y": 3,
          "yref": "y"
         },
         {
          "arrowcolor": "rgb(210,210,210)",
          "arrowhead": 2,
          "arrowsize": 1.5,
          "arrowwidth": 1,
          "ax": 0,
          "axref": "x",
          "ay": 6,
          "ayref": "y",
          "showarrow": true,
          "x": 33.2888888888889,
          "xref": "x",
          "y": 5,
          "yref": "y"
         },
         {
          "arrowcolor": "rgb(210,210,210)",
          "arrowhead": 2,
          "arrowsize": 1.5,
          "arrowwidth": 1,
          "ax": 33.2888888888889,
          "axref": "x",
          "ay": 5,
          "ayref": "y",
          "showarrow": true,
          "x": 33.2888888888889,
          "xref": "x",
          "y": 4,
          "yref": "y"
         },
         {
          "arrowcolor": "rgb(210,210,210)",
          "arrowhead": 2,
          "arrowsize": 1.5,
          "arrowwidth": 1,
          "ax": 33.2888888888889,
          "axref": "x",
          "ay": 4,
          "ayref": "y",
          "showarrow": true,
          "x": 32.7888888888889,
          "xref": "x",
          "y": 3,
          "yref": "y"
         },
         {
          "arrowcolor": "rgb(210,210,210)",
          "arrowhead": 2,
          "arrowsize": 1.5,
          "arrowwidth": 1,
          "ax": 33.2888888888889,
          "axref": "x",
          "ay": 4,
          "ayref": "y",
          "showarrow": true,
          "x": 33.7888888888889,
          "xref": "x",
          "y": 3,
          "yref": "y"
         }
        ],
        "font": {
         "size": 12
        },
        "hovermode": "closest",
        "margin": {
         "b": 85,
         "l": 40,
         "r": 40,
         "t": 100
        },
        "plot_bgcolor": "rgb(248,248,248)",
        "showlegend": false,
        "template": {
         "data": {
          "bar": [
           {
            "error_x": {
             "color": "#2a3f5f"
            },
            "error_y": {
             "color": "#2a3f5f"
            },
            "marker": {
             "line": {
              "color": "#E5ECF6",
              "width": 0.5
             },
             "pattern": {
              "fillmode": "overlay",
              "size": 10,
              "solidity": 0.2
             }
            },
            "type": "bar"
           }
          ],
          "barpolar": [
           {
            "marker": {
             "line": {
              "color": "#E5ECF6",
              "width": 0.5
             },
             "pattern": {
              "fillmode": "overlay",
              "size": 10,
              "solidity": 0.2
             }
            },
            "type": "barpolar"
           }
          ],
          "carpet": [
           {
            "aaxis": {
             "endlinecolor": "#2a3f5f",
             "gridcolor": "white",
             "linecolor": "white",
             "minorgridcolor": "white",
             "startlinecolor": "#2a3f5f"
            },
            "baxis": {
             "endlinecolor": "#2a3f5f",
             "gridcolor": "white",
             "linecolor": "white",
             "minorgridcolor": "white",
             "startlinecolor": "#2a3f5f"
            },
            "type": "carpet"
           }
          ],
          "choropleth": [
           {
            "colorbar": {
             "outlinewidth": 0,
             "ticks": ""
            },
            "type": "choropleth"
           }
          ],
          "contour": [
           {
            "colorbar": {
             "outlinewidth": 0,
             "ticks": ""
            },
            "colorscale": [
             [
              0,
              "#0d0887"
             ],
             [
              0.1111111111111111,
              "#46039f"
             ],
             [
              0.2222222222222222,
              "#7201a8"
             ],
             [
              0.3333333333333333,
              "#9c179e"
             ],
             [
              0.4444444444444444,
              "#bd3786"
             ],
             [
              0.5555555555555556,
              "#d8576b"
             ],
             [
              0.6666666666666666,
              "#ed7953"
             ],
             [
              0.7777777777777778,
              "#fb9f3a"
             ],
             [
              0.8888888888888888,
              "#fdca26"
             ],
             [
              1,
              "#f0f921"
             ]
            ],
            "type": "contour"
           }
          ],
          "contourcarpet": [
           {
            "colorbar": {
             "outlinewidth": 0,
             "ticks": ""
            },
            "type": "contourcarpet"
           }
          ],
          "heatmap": [
           {
            "colorbar": {
             "outlinewidth": 0,
             "ticks": ""
            },
            "colorscale": [
             [
              0,
              "#0d0887"
             ],
             [
              0.1111111111111111,
              "#46039f"
             ],
             [
              0.2222222222222222,
              "#7201a8"
             ],
             [
              0.3333333333333333,
              "#9c179e"
             ],
             [
              0.4444444444444444,
              "#bd3786"
             ],
             [
              0.5555555555555556,
              "#d8576b"
             ],
             [
              0.6666666666666666,
              "#ed7953"
             ],
             [
              0.7777777777777778,
              "#fb9f3a"
             ],
             [
              0.8888888888888888,
              "#fdca26"
             ],
             [
              1,
              "#f0f921"
             ]
            ],
            "type": "heatmap"
           }
          ],
          "heatmapgl": [
           {
            "colorbar": {
             "outlinewidth": 0,
             "ticks": ""
            },
            "colorscale": [
             [
              0,
              "#0d0887"
             ],
             [
              0.1111111111111111,
              "#46039f"
             ],
             [
              0.2222222222222222,
              "#7201a8"
             ],
             [
              0.3333333333333333,
              "#9c179e"
             ],
             [
              0.4444444444444444,
              "#bd3786"
             ],
             [
              0.5555555555555556,
              "#d8576b"
             ],
             [
              0.6666666666666666,
              "#ed7953"
             ],
             [
              0.7777777777777778,
              "#fb9f3a"
             ],
             [
              0.8888888888888888,
              "#fdca26"
             ],
             [
              1,
              "#f0f921"
             ]
            ],
            "type": "heatmapgl"
           }
          ],
          "histogram": [
           {
            "marker": {
             "pattern": {
              "fillmode": "overlay",
              "size": 10,
              "solidity": 0.2
             }
            },
            "type": "histogram"
           }
          ],
          "histogram2d": [
           {
            "colorbar": {
             "outlinewidth": 0,
             "ticks": ""
            },
            "colorscale": [
             [
              0,
              "#0d0887"
             ],
             [
              0.1111111111111111,
              "#46039f"
             ],
             [
              0.2222222222222222,
              "#7201a8"
             ],
             [
              0.3333333333333333,
              "#9c179e"
             ],
             [
              0.4444444444444444,
              "#bd3786"
             ],
             [
              0.5555555555555556,
              "#d8576b"
             ],
             [
              0.6666666666666666,
              "#ed7953"
             ],
             [
              0.7777777777777778,
              "#fb9f3a"
             ],
             [
              0.8888888888888888,
              "#fdca26"
             ],
             [
              1,
              "#f0f921"
             ]
            ],
            "type": "histogram2d"
           }
          ],
          "histogram2dcontour": [
           {
            "colorbar": {
             "outlinewidth": 0,
             "ticks": ""
            },
            "colorscale": [
             [
              0,
              "#0d0887"
             ],
             [
              0.1111111111111111,
              "#46039f"
             ],
             [
              0.2222222222222222,
              "#7201a8"
             ],
             [
              0.3333333333333333,
              "#9c179e"
             ],
             [
              0.4444444444444444,
              "#bd3786"
             ],
             [
              0.5555555555555556,
              "#d8576b"
             ],
             [
              0.6666666666666666,
              "#ed7953"
             ],
             [
              0.7777777777777778,
              "#fb9f3a"
             ],
             [
              0.8888888888888888,
              "#fdca26"
             ],
             [
              1,
              "#f0f921"
             ]
            ],
            "type": "histogram2dcontour"
           }
          ],
          "mesh3d": [
           {
            "colorbar": {
             "outlinewidth": 0,
             "ticks": ""
            },
            "type": "mesh3d"
           }
          ],
          "parcoords": [
           {
            "line": {
             "colorbar": {
              "outlinewidth": 0,
              "ticks": ""
             }
            },
            "type": "parcoords"
           }
          ],
          "pie": [
           {
            "automargin": true,
            "type": "pie"
           }
          ],
          "scatter": [
           {
            "fillpattern": {
             "fillmode": "overlay",
             "size": 10,
             "solidity": 0.2
            },
            "type": "scatter"
           }
          ],
          "scatter3d": [
           {
            "line": {
             "colorbar": {
              "outlinewidth": 0,
              "ticks": ""
             }
            },
            "marker": {
             "colorbar": {
              "outlinewidth": 0,
              "ticks": ""
             }
            },
            "type": "scatter3d"
           }
          ],
          "scattercarpet": [
           {
            "marker": {
             "colorbar": {
              "outlinewidth": 0,
              "ticks": ""
             }
            },
            "type": "scattercarpet"
           }
          ],
          "scattergeo": [
           {
            "marker": {
             "colorbar": {
              "outlinewidth": 0,
              "ticks": ""
             }
            },
            "type": "scattergeo"
           }
          ],
          "scattergl": [
           {
            "marker": {
             "colorbar": {
              "outlinewidth": 0,
              "ticks": ""
             }
            },
            "type": "scattergl"
           }
          ],
          "scattermapbox": [
           {
            "marker": {
             "colorbar": {
              "outlinewidth": 0,
              "ticks": ""
             }
            },
            "type": "scattermapbox"
           }
          ],
          "scatterpolar": [
           {
            "marker": {
             "colorbar": {
              "outlinewidth": 0,
              "ticks": ""
             }
            },
            "type": "scatterpolar"
           }
          ],
          "scatterpolargl": [
           {
            "marker": {
             "colorbar": {
              "outlinewidth": 0,
              "ticks": ""
             }
            },
            "type": "scatterpolargl"
           }
          ],
          "scatterternary": [
           {
            "marker": {
             "colorbar": {
              "outlinewidth": 0,
              "ticks": ""
             }
            },
            "type": "scatterternary"
           }
          ],
          "surface": [
           {
            "colorbar": {
             "outlinewidth": 0,
             "ticks": ""
            },
            "colorscale": [
             [
              0,
              "#0d0887"
             ],
             [
              0.1111111111111111,
              "#46039f"
             ],
             [
              0.2222222222222222,
              "#7201a8"
             ],
             [
              0.3333333333333333,
              "#9c179e"
             ],
             [
              0.4444444444444444,
              "#bd3786"
             ],
             [
              0.5555555555555556,
              "#d8576b"
             ],
             [
              0.6666666666666666,
              "#ed7953"
             ],
             [
              0.7777777777777778,
              "#fb9f3a"
             ],
             [
              0.8888888888888888,
              "#fdca26"
             ],
             [
              1,
              "#f0f921"
             ]
            ],
            "type": "surface"
           }
          ],
          "table": [
           {
            "cells": {
             "fill": {
              "color": "#EBF0F8"
             },
             "line": {
              "color": "white"
             }
            },
            "header": {
             "fill": {
              "color": "#C8D4E3"
             },
             "line": {
              "color": "white"
             }
            },
            "type": "table"
           }
          ]
         },
         "layout": {
          "annotationdefaults": {
           "arrowcolor": "#2a3f5f",
           "arrowhead": 0,
           "arrowwidth": 1
          },
          "autotypenumbers": "strict",
          "coloraxis": {
           "colorbar": {
            "outlinewidth": 0,
            "ticks": ""
           }
          },
          "colorscale": {
           "diverging": [
            [
             0,
             "#8e0152"
            ],
            [
             0.1,
             "#c51b7d"
            ],
            [
             0.2,
             "#de77ae"
            ],
            [
             0.3,
             "#f1b6da"
            ],
            [
             0.4,
             "#fde0ef"
            ],
            [
             0.5,
             "#f7f7f7"
            ],
            [
             0.6,
             "#e6f5d0"
            ],
            [
             0.7,
             "#b8e186"
            ],
            [
             0.8,
             "#7fbc41"
            ],
            [
             0.9,
             "#4d9221"
            ],
            [
             1,
             "#276419"
            ]
           ],
           "sequential": [
            [
             0,
             "#0d0887"
            ],
            [
             0.1111111111111111,
             "#46039f"
            ],
            [
             0.2222222222222222,
             "#7201a8"
            ],
            [
             0.3333333333333333,
             "#9c179e"
            ],
            [
             0.4444444444444444,
             "#bd3786"
            ],
            [
             0.5555555555555556,
             "#d8576b"
            ],
            [
             0.6666666666666666,
             "#ed7953"
            ],
            [
             0.7777777777777778,
             "#fb9f3a"
            ],
            [
             0.8888888888888888,
             "#fdca26"
            ],
            [
             1,
             "#f0f921"
            ]
           ],
           "sequentialminus": [
            [
             0,
             "#0d0887"
            ],
            [
             0.1111111111111111,
             "#46039f"
            ],
            [
             0.2222222222222222,
             "#7201a8"
            ],
            [
             0.3333333333333333,
             "#9c179e"
            ],
            [
             0.4444444444444444,
             "#bd3786"
            ],
            [
             0.5555555555555556,
             "#d8576b"
            ],
            [
             0.6666666666666666,
             "#ed7953"
            ],
            [
             0.7777777777777778,
             "#fb9f3a"
            ],
            [
             0.8888888888888888,
             "#fdca26"
            ],
            [
             1,
             "#f0f921"
            ]
           ]
          },
          "colorway": [
           "#636efa",
           "#EF553B",
           "#00cc96",
           "#ab63fa",
           "#FFA15A",
           "#19d3f3",
           "#FF6692",
           "#B6E880",
           "#FF97FF",
           "#FECB52"
          ],
          "font": {
           "color": "#2a3f5f"
          },
          "geo": {
           "bgcolor": "white",
           "lakecolor": "white",
           "landcolor": "#E5ECF6",
           "showlakes": true,
           "showland": true,
           "subunitcolor": "white"
          },
          "hoverlabel": {
           "align": "left"
          },
          "hovermode": "closest",
          "mapbox": {
           "style": "light"
          },
          "paper_bgcolor": "white",
          "plot_bgcolor": "#E5ECF6",
          "polar": {
           "angularaxis": {
            "gridcolor": "white",
            "linecolor": "white",
            "ticks": ""
           },
           "bgcolor": "#E5ECF6",
           "radialaxis": {
            "gridcolor": "white",
            "linecolor": "white",
            "ticks": ""
           }
          },
          "scene": {
           "xaxis": {
            "backgroundcolor": "#E5ECF6",
            "gridcolor": "white",
            "gridwidth": 2,
            "linecolor": "white",
            "showbackground": true,
            "ticks": "",
            "zerolinecolor": "white"
           },
           "yaxis": {
            "backgroundcolor": "#E5ECF6",
            "gridcolor": "white",
            "gridwidth": 2,
            "linecolor": "white",
            "showbackground": true,
            "ticks": "",
            "zerolinecolor": "white"
           },
           "zaxis": {
            "backgroundcolor": "#E5ECF6",
            "gridcolor": "white",
            "gridwidth": 2,
            "linecolor": "white",
            "showbackground": true,
            "ticks": "",
            "zerolinecolor": "white"
           }
          },
          "shapedefaults": {
           "line": {
            "color": "#2a3f5f"
           }
          },
          "ternary": {
           "aaxis": {
            "gridcolor": "white",
            "linecolor": "white",
            "ticks": ""
           },
           "baxis": {
            "gridcolor": "white",
            "linecolor": "white",
            "ticks": ""
           },
           "bgcolor": "#E5ECF6",
           "caxis": {
            "gridcolor": "white",
            "linecolor": "white",
            "ticks": ""
           }
          },
          "title": {
           "x": 0.05
          },
          "xaxis": {
           "automargin": true,
           "gridcolor": "white",
           "linecolor": "white",
           "ticks": "",
           "title": {
            "standoff": 15
           },
           "zerolinecolor": "white",
           "zerolinewidth": 2
          },
          "yaxis": {
           "automargin": true,
           "gridcolor": "white",
           "linecolor": "white",
           "ticks": "",
           "title": {
            "standoff": 15
           },
           "zerolinecolor": "white",
           "zerolinewidth": 2
          }
         }
        },
        "title": {
         "text": "Tree Visualization"
        },
        "xaxis": {
         "showgrid": false,
         "showline": false,
         "showticklabels": false,
         "zeroline": false
        },
        "yaxis": {
         "showgrid": false,
         "showline": false,
         "showticklabels": false,
         "zeroline": false
        }
       }
      }
     },
     "metadata": {},
     "output_type": "display_data"
    }
   ],
   "source": [
    "## Now see the tree build in action\n",
    "RA.visualize_tree()"
   ]
  }
 ],
 "metadata": {
  "kernelspec": {
   "display_name": ".venv",
   "language": "python",
   "name": "python3"
  },
  "language_info": {
   "codemirror_mode": {
    "name": "ipython",
    "version": 3
   },
   "file_extension": ".py",
   "mimetype": "text/x-python",
   "name": "python",
   "nbconvert_exporter": "python",
   "pygments_lexer": "ipython3",
   "version": "3.10.9"
  }
 },
 "nbformat": 4,
 "nbformat_minor": 5
}
