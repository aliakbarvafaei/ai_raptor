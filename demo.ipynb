{
 "cells": [
  {
   "cell_type": "markdown",
   "id": "912cd8c6-d405-4dfe-8897-46108e6a6af7",
   "metadata": {},
   "source": [
    "# RAPTOR: Recursive Abstractive Processing for Tree-Organized Retrieval"
   ]
  },
  {
   "cell_type": "code",
   "execution_count": 2,
   "id": "e2d7d995-7beb-40b5-9a44-afd350b7d221",
   "metadata": {},
   "outputs": [
    {
     "name": "stdout",
     "output_type": "stream",
     "text": [
      "The wife of a rich man fell sick, and as she felt that her end\n",
      "was drawing near, she called her only\n"
     ]
    }
   ],
   "source": [
    "# Cinderella story defined in sample.txt\n",
    "with open('demo/sample.txt', 'r') as file:\n",
    "    text = file.read()\n",
    "\n",
    "print(text[:100])"
   ]
  },
  {
   "cell_type": "markdown",
   "id": "c7d51ebd-5597-4fdd-8c37-32636395081b",
   "metadata": {},
   "source": [
    "1) **Building**: RAPTOR recursively embeds, clusters, and summarizes chunks of text to construct a tree with varying levels of summarization from the bottom up. You can create a tree from the text in 'sample.txt' using `RA.add_documents(text)`.\n",
    "\n",
    "2) **Querying**: At inference time, the RAPTOR model retrieves information from this tree, integrating data across lengthy documents at different abstraction levels. You can perform queries on the tree with `RA.answer_question`."
   ]
  },
  {
   "cell_type": "markdown",
   "id": "f4f58830-9004-48a4-b50e-61a855511d24",
   "metadata": {},
   "source": [
    "### Building the tree"
   ]
  },
  {
   "cell_type": "code",
   "execution_count": 3,
   "id": "3753fcf9-0a8e-4ab3-bf3a-6be38ef6cd1e",
   "metadata": {},
   "outputs": [
    {
     "name": "stderr",
     "output_type": "stream",
     "text": [
      "2025-01-27 22:54:15,114 - Loading faiss with AVX2 support.\n",
      "2025-01-27 22:54:15,419 - Successfully loaded faiss with AVX2 support.\n"
     ]
    }
   ],
   "source": [
    "from raptor import RetrievalAugmentation "
   ]
  },
  {
   "cell_type": "code",
   "execution_count": null,
   "id": "7e843edf",
   "metadata": {},
   "outputs": [],
   "source": [
    "RA = RetrievalAugmentation()\n",
    "\n",
    "# construct the tree\n",
    "RA.add_documents(text)"
   ]
  },
  {
   "cell_type": "markdown",
   "id": "f219d60a-1f0b-4cee-89eb-2ae026f13e63",
   "metadata": {},
   "source": [
    "### Querying from the tree\n",
    "\n",
    "```python\n",
    "question = # any question\n",
    "RA.answer_question(question)\n",
    "```"
   ]
  },
  {
   "cell_type": "code",
   "execution_count": null,
   "id": "1b4037c5-ad5a-424b-80e4-a67b8e00773b",
   "metadata": {},
   "outputs": [],
   "source": [
    "question = \"How did Cinderella reach her happy ending ?\"\n",
    "\n",
    "answer = RA.answer_question(question=question)\n",
    "\n",
    "print(\"Answer: \", answer)"
   ]
  },
  {
   "cell_type": "code",
   "execution_count": null,
   "id": "f5be7e57",
   "metadata": {},
   "outputs": [],
   "source": [
    "# Save the tree by calling RA.save(\"path/to/save\")\n",
    "SAVE_PATH = \"demo/cinderella\"\n",
    "RA.save(SAVE_PATH)"
   ]
  },
  {
   "cell_type": "code",
   "execution_count": null,
   "id": "2e845de9",
   "metadata": {},
   "outputs": [],
   "source": [
    "# load back the tree by passing it into RetrievalAugmentation\n",
    "\n",
    "RA = RetrievalAugmentation(tree=SAVE_PATH)\n",
    "\n",
    "answer = RA.answer_question(question=question)\n",
    "print(\"Answer: \", answer)"
   ]
  },
  {
   "cell_type": "markdown",
   "id": "277ab6ea-1c79-4ed1-97de-1c2e39d6db2e",
   "metadata": {},
   "source": [
    "## Using other Open Source Models for Summarization/QA/Embeddings\n",
    "\n",
    "If you want to use other models such as Llama or Mistral, you can very easily define your own models and use them with RAPTOR. "
   ]
  },
  {
   "cell_type": "code",
   "execution_count": 1,
   "id": "f86cbe7e",
   "metadata": {},
   "outputs": [
    {
     "name": "stderr",
     "output_type": "stream",
     "text": [
      "2025-01-28 18:01:16,680 - Loading faiss with AVX2 support.\n",
      "2025-01-28 18:01:16,799 - Successfully loaded faiss with AVX2 support.\n"
     ]
    }
   ],
   "source": [
    "import torch\n",
    "from raptor import BaseSummarizationModel, BaseQAModel, BaseEmbeddingModel, RetrievalAugmentationConfig, RetrievalAugmentation\n",
    "from transformers import AutoTokenizer, pipeline"
   ]
  },
  {
   "cell_type": "code",
   "execution_count": 3,
   "id": "fe5cef43",
   "metadata": {},
   "outputs": [
    {
     "data": {
      "application/vnd.jupyter.widget-view+json": {
       "model_id": "505bb7353d6145acbff5798308419d11",
       "version_major": 2,
       "version_minor": 0
      },
      "text/plain": [
       "VBox(children=(HTML(value='<center> <img\\nsrc=https://huggingface.co/front/assets/huggingface_logo-noborder.sv…"
      ]
     },
     "metadata": {},
     "output_type": "display_data"
    },
    {
     "name": "stderr",
     "output_type": "stream",
     "text": [
      "Token has not been saved to git credential helper.\n",
      "2025-01-28 13:30:31,671 - Token has not been saved to git credential helper.\n"
     ]
    }
   ],
   "source": [
    "# if you want to use the Gemma, you will need to authenticate with HuggingFace, Skip this step, if you have the model already downloaded\n",
    "from huggingface_hub import login\n",
    "login()"
   ]
  },
  {
   "cell_type": "code",
   "execution_count": 4,
   "id": "245b91a5",
   "metadata": {},
   "outputs": [],
   "source": [
    "from transformers import AutoTokenizer, pipeline\n",
    "import torch\n",
    "\n",
    "# You can define your own Summarization model by extending the base Summarization Class. \n",
    "class GEMMASummarizationModel(BaseSummarizationModel):\n",
    "    def __init__(self, model_name=\"google/gemma-2b-it\"):\n",
    "        # Initialize the tokenizer and the pipeline for the GEMMA model\n",
    "        self.tokenizer = AutoTokenizer.from_pretrained(model_name)\n",
    "        self.summarization_pipeline = pipeline(\n",
    "            \"text-generation\",\n",
    "            model=model_name,\n",
    "            model_kwargs={\"torch_dtype\": torch.bfloat16},\n",
    "            device=torch.device('cuda' if torch.cuda.is_available() else 'cpu'),  # Use \"cpu\" if CUDA is not available\n",
    "        )\n",
    "\n",
    "    def summarize(self, context, max_tokens=150):\n",
    "        # Format the prompt for summarization\n",
    "        messages=[\n",
    "            {\"role\": \"user\", \"content\": f\"Write a summary of the following, including as many key details as possible: {context}:\"}\n",
    "        ]\n",
    "        \n",
    "        prompt = self.tokenizer.apply_chat_template(messages, tokenize=False, add_generation_prompt=True)\n",
    "        \n",
    "        # Generate the summary using the pipeline\n",
    "        outputs = self.summarization_pipeline(\n",
    "            prompt,\n",
    "            max_new_tokens=max_tokens,\n",
    "            do_sample=True,\n",
    "            temperature=0.7,\n",
    "            top_k=50,\n",
    "            top_p=0.95\n",
    "        )\n",
    "        \n",
    "        # Extracting and returning the generated summary\n",
    "        summary = outputs[0][\"generated_text\"].strip()\n",
    "        return summary\n"
   ]
  },
  {
   "cell_type": "code",
   "execution_count": 5,
   "id": "a171496d",
   "metadata": {},
   "outputs": [],
   "source": [
    "class GEMMAQAModel(BaseQAModel):\n",
    "    def __init__(self, model_name= \"google/gemma-2b-it\"):\n",
    "        # Initialize the tokenizer and the pipeline for the model\n",
    "        self.tokenizer = AutoTokenizer.from_pretrained(model_name)\n",
    "        self.qa_pipeline = pipeline(\n",
    "            \"text-generation\",\n",
    "            model=model_name,\n",
    "            model_kwargs={\"torch_dtype\": torch.bfloat16},\n",
    "            device=torch.device('cuda' if torch.cuda.is_available() else 'cpu'),\n",
    "        )\n",
    "\n",
    "    def answer_question(self, context, question):\n",
    "        # Apply the chat template for the context and question\n",
    "        messages=[\n",
    "              {\"role\": \"user\", \"content\": f\"Given Context: {context} Give the best full answer amongst the option to question {question}\"}\n",
    "        ]\n",
    "        prompt = self.tokenizer.apply_chat_template(messages, tokenize=False, add_generation_prompt=True)\n",
    "        \n",
    "        # Generate the answer using the pipeline\n",
    "        outputs = self.qa_pipeline(\n",
    "            prompt,\n",
    "            max_new_tokens=256,\n",
    "            do_sample=True,\n",
    "            temperature=0.7,\n",
    "            top_k=50,\n",
    "            top_p=0.95\n",
    "        )\n",
    "        \n",
    "        # Extracting and returning the generated answer\n",
    "        answer = outputs[0][\"generated_text\"][len(prompt):]\n",
    "        return answer"
   ]
  },
  {
   "cell_type": "code",
   "execution_count": 2,
   "id": "878f7c7b",
   "metadata": {},
   "outputs": [],
   "source": [
    "from sentence_transformers import SentenceTransformer\n",
    "class SBertEmbeddingModel(BaseEmbeddingModel):\n",
    "    def __init__(self, model_name=\"BAAI/bge-small-en-v1.5\"):\n",
    "        self.model = SentenceTransformer(model_name)\n",
    "\n",
    "    def create_embedding(self, text):\n",
    "        return self.model.encode(text)\n"
   ]
  },
  {
   "cell_type": "code",
   "execution_count": 8,
   "id": "255791ce",
   "metadata": {},
   "outputs": [
    {
     "data": {
      "application/vnd.jupyter.widget-view+json": {
       "model_id": "02abb4c43a834ab4b3ce03090f4c6127",
       "version_major": 2,
       "version_minor": 0
      },
      "text/plain": [
       "Loading checkpoint shards:   0%|          | 0/2 [00:00<?, ?it/s]"
      ]
     },
     "metadata": {},
     "output_type": "display_data"
    },
    {
     "name": "stderr",
     "output_type": "stream",
     "text": [
      "Device set to use cpu\n"
     ]
    },
    {
     "data": {
      "application/vnd.jupyter.widget-view+json": {
       "model_id": "5149b0820871479081173cf85a267f6a",
       "version_major": 2,
       "version_minor": 0
      },
      "text/plain": [
       "Loading checkpoint shards:   0%|          | 0/2 [00:00<?, ?it/s]"
      ]
     },
     "metadata": {},
     "output_type": "display_data"
    },
    {
     "name": "stderr",
     "output_type": "stream",
     "text": [
      "Device set to use cpu\n",
      "2025-01-28 11:25:09,865 - Use pytorch device_name: cpu\n",
      "2025-01-28 11:25:09,868 - Load pretrained SentenceTransformer: BAAI/bge-small-en-v1.5\n"
     ]
    }
   ],
   "source": [
    "RAC = RetrievalAugmentationConfig(summarization_model=GEMMASummarizationModel(), qa_model=GEMMAQAModel(), embedding_model=SBertEmbeddingModel())"
   ]
  },
  {
   "cell_type": "code",
   "execution_count": 9,
   "id": "fee46f1d",
   "metadata": {},
   "outputs": [
    {
     "name": "stderr",
     "output_type": "stream",
     "text": [
      "2025-01-28 11:25:25,518 - Successfully initialized TreeBuilder with Config \n",
      "        TreeBuilderConfig:\n",
      "            Tokenizer: <Encoding 'cl100k_base'>\n",
      "            Max Tokens: 100\n",
      "            Num Layers: 5\n",
      "            Threshold: 0.5\n",
      "            Top K: 5\n",
      "            Selection Mode: top_k\n",
      "            Summarization Length: 100\n",
      "            Summarization Model: <__main__.GEMMASummarizationModel object at 0x000001AB0D0CF790>\n",
      "            Embedding Models: {'EMB': <__main__.SBertEmbeddingModel object at 0x000001AB18E50A60>}\n",
      "            Cluster Embedding Model: EMB\n",
      "        \n",
      "        Reduction Dimension: 10\n",
      "        Clustering Algorithm: RAPTOR_Clustering\n",
      "        Clustering Parameters: {}\n",
      "        \n",
      "2025-01-28 11:25:25,520 - Successfully initialized ClusterTreeBuilder with Config \n",
      "        TreeBuilderConfig:\n",
      "            Tokenizer: <Encoding 'cl100k_base'>\n",
      "            Max Tokens: 100\n",
      "            Num Layers: 5\n",
      "            Threshold: 0.5\n",
      "            Top K: 5\n",
      "            Selection Mode: top_k\n",
      "            Summarization Length: 100\n",
      "            Summarization Model: <__main__.GEMMASummarizationModel object at 0x000001AB0D0CF790>\n",
      "            Embedding Models: {'EMB': <__main__.SBertEmbeddingModel object at 0x000001AB18E50A60>}\n",
      "            Cluster Embedding Model: EMB\n",
      "        \n",
      "        Reduction Dimension: 10\n",
      "        Clustering Algorithm: RAPTOR_Clustering\n",
      "        Clustering Parameters: {}\n",
      "        \n",
      "2025-01-28 11:25:25,521 - Successfully initialized RetrievalAugmentation with Config \n",
      "        RetrievalAugmentationConfig:\n",
      "            \n",
      "        TreeBuilderConfig:\n",
      "            Tokenizer: <Encoding 'cl100k_base'>\n",
      "            Max Tokens: 100\n",
      "            Num Layers: 5\n",
      "            Threshold: 0.5\n",
      "            Top K: 5\n",
      "            Selection Mode: top_k\n",
      "            Summarization Length: 100\n",
      "            Summarization Model: <__main__.GEMMASummarizationModel object at 0x000001AB0D0CF790>\n",
      "            Embedding Models: {'EMB': <__main__.SBertEmbeddingModel object at 0x000001AB18E50A60>}\n",
      "            Cluster Embedding Model: EMB\n",
      "        \n",
      "        Reduction Dimension: 10\n",
      "        Clustering Algorithm: RAPTOR_Clustering\n",
      "        Clustering Parameters: {}\n",
      "        \n",
      "            \n",
      "            \n",
      "        TreeRetrieverConfig:\n",
      "            Tokenizer: <Encoding 'cl100k_base'>\n",
      "            Threshold: 0.5\n",
      "            Top K: 5\n",
      "            Selection Mode: top_k\n",
      "            Context Embedding Model: EMB\n",
      "            Embedding Model: <__main__.SBertEmbeddingModel object at 0x000001AB18E50A60>\n",
      "            Num Layers: None\n",
      "            Start Layer: None\n",
      "        \n",
      "            \n",
      "            QA Model: <__main__.GEMMAQAModel object at 0x000001AB18E50A90>\n",
      "            Tree Builder Type: cluster\n",
      "        \n"
     ]
    }
   ],
   "source": [
    "RA = RetrievalAugmentation(config=RAC)"
   ]
  },
  {
   "cell_type": "code",
   "execution_count": 18,
   "id": "afe05daf",
   "metadata": {},
   "outputs": [
    {
     "name": "stderr",
     "output_type": "stream",
     "text": [
      "2025-01-27 18:47:30,953 - Creating Leaf Nodes\n"
     ]
    },
    {
     "data": {
      "application/vnd.jupyter.widget-view+json": {
       "model_id": "a7d7e2726f354c588d24ea8a5693cafb",
       "version_major": 2,
       "version_minor": 0
      },
      "text/plain": [
       "Batches:   0%|          | 0/1 [00:00<?, ?it/s]"
      ]
     },
     "metadata": {},
     "output_type": "display_data"
    },
    {
     "data": {
      "application/vnd.jupyter.widget-view+json": {
       "model_id": "42b84b59cf344a54bc250b05317d0c98",
       "version_major": 2,
       "version_minor": 0
      },
      "text/plain": [
       "Batches:   0%|          | 0/1 [00:00<?, ?it/s]"
      ]
     },
     "metadata": {},
     "output_type": "display_data"
    },
    {
     "data": {
      "application/vnd.jupyter.widget-view+json": {
       "model_id": "8296522e0de048169d72b0fafa48e2cc",
       "version_major": 2,
       "version_minor": 0
      },
      "text/plain": [
       "Batches:   0%|          | 0/1 [00:00<?, ?it/s]"
      ]
     },
     "metadata": {},
     "output_type": "display_data"
    },
    {
     "data": {
      "application/vnd.jupyter.widget-view+json": {
       "model_id": "078835b946f842c8a69aa610643a056a",
       "version_major": 2,
       "version_minor": 0
      },
      "text/plain": [
       "Batches:   0%|          | 0/1 [00:00<?, ?it/s]"
      ]
     },
     "metadata": {},
     "output_type": "display_data"
    },
    {
     "data": {
      "application/vnd.jupyter.widget-view+json": {
       "model_id": "1c052e3b0790480289b18260436c67e2",
       "version_major": 2,
       "version_minor": 0
      },
      "text/plain": [
       "Batches:   0%|          | 0/1 [00:00<?, ?it/s]"
      ]
     },
     "metadata": {},
     "output_type": "display_data"
    },
    {
     "data": {
      "application/vnd.jupyter.widget-view+json": {
       "model_id": "cf62f42422c1492f90f54349549d3e14",
       "version_major": 2,
       "version_minor": 0
      },
      "text/plain": [
       "Batches:   0%|          | 0/1 [00:00<?, ?it/s]"
      ]
     },
     "metadata": {},
     "output_type": "display_data"
    },
    {
     "data": {
      "application/vnd.jupyter.widget-view+json": {
       "model_id": "828c569a8c4a4d81b4177ae1ef75b70c",
       "version_major": 2,
       "version_minor": 0
      },
      "text/plain": [
       "Batches:   0%|          | 0/1 [00:00<?, ?it/s]"
      ]
     },
     "metadata": {},
     "output_type": "display_data"
    },
    {
     "data": {
      "application/vnd.jupyter.widget-view+json": {
       "model_id": "cd04b044b9bd40ac9afb71f9a28a5ed5",
       "version_major": 2,
       "version_minor": 0
      },
      "text/plain": [
       "Batches:   0%|          | 0/1 [00:00<?, ?it/s]"
      ]
     },
     "metadata": {},
     "output_type": "display_data"
    },
    {
     "data": {
      "application/vnd.jupyter.widget-view+json": {
       "model_id": "d7e19b0ec46e4a11a7f3f8fe08b32890",
       "version_major": 2,
       "version_minor": 0
      },
      "text/plain": [
       "Batches:   0%|          | 0/1 [00:00<?, ?it/s]"
      ]
     },
     "metadata": {},
     "output_type": "display_data"
    },
    {
     "data": {
      "application/vnd.jupyter.widget-view+json": {
       "model_id": "628873ddd4174d8caab0d5b9b9969cb7",
       "version_major": 2,
       "version_minor": 0
      },
      "text/plain": [
       "Batches:   0%|          | 0/1 [00:00<?, ?it/s]"
      ]
     },
     "metadata": {},
     "output_type": "display_data"
    },
    {
     "data": {
      "application/vnd.jupyter.widget-view+json": {
       "model_id": "915fbc0cf5e944fabbc4acf8b13c94f8",
       "version_major": 2,
       "version_minor": 0
      },
      "text/plain": [
       "Batches:   0%|          | 0/1 [00:00<?, ?it/s]"
      ]
     },
     "metadata": {},
     "output_type": "display_data"
    },
    {
     "data": {
      "application/vnd.jupyter.widget-view+json": {
       "model_id": "86c38a20173a45ff90080519e909f878",
       "version_major": 2,
       "version_minor": 0
      },
      "text/plain": [
       "Batches:   0%|          | 0/1 [00:00<?, ?it/s]"
      ]
     },
     "metadata": {},
     "output_type": "display_data"
    },
    {
     "data": {
      "application/vnd.jupyter.widget-view+json": {
       "model_id": "83fd5e3e3be64d62869cf308ea3f579e",
       "version_major": 2,
       "version_minor": 0
      },
      "text/plain": [
       "Batches:   0%|          | 0/1 [00:00<?, ?it/s]"
      ]
     },
     "metadata": {},
     "output_type": "display_data"
    },
    {
     "data": {
      "application/vnd.jupyter.widget-view+json": {
       "model_id": "b55e73b1993c4e549e8e20f28a74a679",
       "version_major": 2,
       "version_minor": 0
      },
      "text/plain": [
       "Batches:   0%|          | 0/1 [00:00<?, ?it/s]"
      ]
     },
     "metadata": {},
     "output_type": "display_data"
    },
    {
     "data": {
      "application/vnd.jupyter.widget-view+json": {
       "model_id": "de2cc167f4674e7f86c64e159b256a23",
       "version_major": 2,
       "version_minor": 0
      },
      "text/plain": [
       "Batches:   0%|          | 0/1 [00:00<?, ?it/s]"
      ]
     },
     "metadata": {},
     "output_type": "display_data"
    },
    {
     "data": {
      "application/vnd.jupyter.widget-view+json": {
       "model_id": "8ad57953721c4f2ca71f11fddf6453a9",
       "version_major": 2,
       "version_minor": 0
      },
      "text/plain": [
       "Batches:   0%|          | 0/1 [00:00<?, ?it/s]"
      ]
     },
     "metadata": {},
     "output_type": "display_data"
    },
    {
     "data": {
      "application/vnd.jupyter.widget-view+json": {
       "model_id": "6250d58572b64ae79e393a9a3764641a",
       "version_major": 2,
       "version_minor": 0
      },
      "text/plain": [
       "Batches:   0%|          | 0/1 [00:00<?, ?it/s]"
      ]
     },
     "metadata": {},
     "output_type": "display_data"
    },
    {
     "data": {
      "application/vnd.jupyter.widget-view+json": {
       "model_id": "87046b3deda24e6eab6505dbd3795f67",
       "version_major": 2,
       "version_minor": 0
      },
      "text/plain": [
       "Batches:   0%|          | 0/1 [00:00<?, ?it/s]"
      ]
     },
     "metadata": {},
     "output_type": "display_data"
    },
    {
     "data": {
      "application/vnd.jupyter.widget-view+json": {
       "model_id": "1bb72c6f40184f00bd7f5af1a19ff7ba",
       "version_major": 2,
       "version_minor": 0
      },
      "text/plain": [
       "Batches:   0%|          | 0/1 [00:00<?, ?it/s]"
      ]
     },
     "metadata": {},
     "output_type": "display_data"
    },
    {
     "data": {
      "application/vnd.jupyter.widget-view+json": {
       "model_id": "658301e1d9b14200ab957877b6016828",
       "version_major": 2,
       "version_minor": 0
      },
      "text/plain": [
       "Batches:   0%|          | 0/1 [00:00<?, ?it/s]"
      ]
     },
     "metadata": {},
     "output_type": "display_data"
    },
    {
     "data": {
      "application/vnd.jupyter.widget-view+json": {
       "model_id": "86a543535e6448c991c518bb90e47dda",
       "version_major": 2,
       "version_minor": 0
      },
      "text/plain": [
       "Batches:   0%|          | 0/1 [00:00<?, ?it/s]"
      ]
     },
     "metadata": {},
     "output_type": "display_data"
    },
    {
     "data": {
      "application/vnd.jupyter.widget-view+json": {
       "model_id": "66d6407ae3dd41ac866763c1a28c6762",
       "version_major": 2,
       "version_minor": 0
      },
      "text/plain": [
       "Batches:   0%|          | 0/1 [00:00<?, ?it/s]"
      ]
     },
     "metadata": {},
     "output_type": "display_data"
    },
    {
     "data": {
      "application/vnd.jupyter.widget-view+json": {
       "model_id": "a4e174c5ba824439a0bb4839cae5a359",
       "version_major": 2,
       "version_minor": 0
      },
      "text/plain": [
       "Batches:   0%|          | 0/1 [00:00<?, ?it/s]"
      ]
     },
     "metadata": {},
     "output_type": "display_data"
    },
    {
     "data": {
      "application/vnd.jupyter.widget-view+json": {
       "model_id": "9f1357d946ef4933a407ff7d84e53613",
       "version_major": 2,
       "version_minor": 0
      },
      "text/plain": [
       "Batches:   0%|          | 0/1 [00:00<?, ?it/s]"
      ]
     },
     "metadata": {},
     "output_type": "display_data"
    },
    {
     "data": {
      "application/vnd.jupyter.widget-view+json": {
       "model_id": "abf369e7c0e84f808af83a3c77ed3578",
       "version_major": 2,
       "version_minor": 0
      },
      "text/plain": [
       "Batches:   0%|          | 0/1 [00:00<?, ?it/s]"
      ]
     },
     "metadata": {},
     "output_type": "display_data"
    },
    {
     "data": {
      "application/vnd.jupyter.widget-view+json": {
       "model_id": "5aa2075496334273a1c403e8aede6b44",
       "version_major": 2,
       "version_minor": 0
      },
      "text/plain": [
       "Batches:   0%|          | 0/1 [00:00<?, ?it/s]"
      ]
     },
     "metadata": {},
     "output_type": "display_data"
    },
    {
     "data": {
      "application/vnd.jupyter.widget-view+json": {
       "model_id": "862ee4af819e46f58ac9394cae4d343d",
       "version_major": 2,
       "version_minor": 0
      },
      "text/plain": [
       "Batches:   0%|          | 0/1 [00:00<?, ?it/s]"
      ]
     },
     "metadata": {},
     "output_type": "display_data"
    },
    {
     "data": {
      "application/vnd.jupyter.widget-view+json": {
       "model_id": "a501ed3c2d62433aa260ab15b3ad51ca",
       "version_major": 2,
       "version_minor": 0
      },
      "text/plain": [
       "Batches:   0%|          | 0/1 [00:00<?, ?it/s]"
      ]
     },
     "metadata": {},
     "output_type": "display_data"
    },
    {
     "data": {
      "application/vnd.jupyter.widget-view+json": {
       "model_id": "57593086a3264fb7af04bdce9ba37ae5",
       "version_major": 2,
       "version_minor": 0
      },
      "text/plain": [
       "Batches:   0%|          | 0/1 [00:00<?, ?it/s]"
      ]
     },
     "metadata": {},
     "output_type": "display_data"
    },
    {
     "data": {
      "application/vnd.jupyter.widget-view+json": {
       "model_id": "f44643bae4a543ac90e69ec08f0918c1",
       "version_major": 2,
       "version_minor": 0
      },
      "text/plain": [
       "Batches:   0%|          | 0/1 [00:00<?, ?it/s]"
      ]
     },
     "metadata": {},
     "output_type": "display_data"
    },
    {
     "data": {
      "application/vnd.jupyter.widget-view+json": {
       "model_id": "f3e19ea1dffe4d9c9a39fba67d2dc2b8",
       "version_major": 2,
       "version_minor": 0
      },
      "text/plain": [
       "Batches:   0%|          | 0/1 [00:00<?, ?it/s]"
      ]
     },
     "metadata": {},
     "output_type": "display_data"
    },
    {
     "data": {
      "application/vnd.jupyter.widget-view+json": {
       "model_id": "353e8e578fff4c169946fcfe71683737",
       "version_major": 2,
       "version_minor": 0
      },
      "text/plain": [
       "Batches:   0%|          | 0/1 [00:00<?, ?it/s]"
      ]
     },
     "metadata": {},
     "output_type": "display_data"
    },
    {
     "data": {
      "application/vnd.jupyter.widget-view+json": {
       "model_id": "851aff5790414a1cb694d07927f64caa",
       "version_major": 2,
       "version_minor": 0
      },
      "text/plain": [
       "Batches:   0%|          | 0/1 [00:00<?, ?it/s]"
      ]
     },
     "metadata": {},
     "output_type": "display_data"
    },
    {
     "data": {
      "application/vnd.jupyter.widget-view+json": {
       "model_id": "aa7e975bf2e14b1991d7ff22b94a32c8",
       "version_major": 2,
       "version_minor": 0
      },
      "text/plain": [
       "Batches:   0%|          | 0/1 [00:00<?, ?it/s]"
      ]
     },
     "metadata": {},
     "output_type": "display_data"
    },
    {
     "data": {
      "application/vnd.jupyter.widget-view+json": {
       "model_id": "45bd58073e63459e89e78634ec6b8455",
       "version_major": 2,
       "version_minor": 0
      },
      "text/plain": [
       "Batches:   0%|          | 0/1 [00:00<?, ?it/s]"
      ]
     },
     "metadata": {},
     "output_type": "display_data"
    },
    {
     "name": "stderr",
     "output_type": "stream",
     "text": [
      "2025-01-27 18:47:44,908 - Created 35 Leaf Embeddings\n",
      "2025-01-27 18:47:44,910 - Building All Nodes\n",
      "2025-01-27 18:47:44,919 - Using Cluster TreeBuilder\n",
      "2025-01-27 18:47:44,921 - Constructing Layer 0\n",
      "i:\\AI_Project\\raptor\\.venv\\lib\\site-packages\\sklearn\\utils\\deprecation.py:151: FutureWarning: 'force_all_finite' was renamed to 'ensure_all_finite' in 1.6 and will be removed in 1.8.\n",
      "  warnings.warn(\n",
      "i:\\AI_Project\\raptor\\.venv\\lib\\site-packages\\threadpoolctl.py:1214: RuntimeWarning: \n",
      "Found Intel OpenMP ('libiomp') and LLVM OpenMP ('libomp') loaded at\n",
      "the same time. Both libraries are known to be incompatible and this\n",
      "can cause random crashes or deadlocks on Linux when loaded in the\n",
      "same Python program.\n",
      "Using threadpoolctl may cause crashes or deadlocks. For more\n",
      "information and possible workarounds, please see\n",
      "    https://github.com/joblib/threadpoolctl/blob/master/multiple_openmp.md\n",
      "\n",
      "  warnings.warn(msg, RuntimeWarning)\n",
      "2025-01-27 18:48:12,514 - Summarization Length: 100\n"
     ]
    }
   ],
   "source": [
    "with open('demo/sample.txt', 'r') as file:\n",
    "    text = file.read()\n",
    "    \n",
    "RA.add_documents(text)"
   ]
  },
  {
   "cell_type": "code",
   "execution_count": null,
   "id": "7eee5847",
   "metadata": {},
   "outputs": [],
   "source": [
    "question = \"How did Cinderella reach her happy ending?\"\n",
    "\n",
    "answer = RA.answer_question(question=question)\n",
    "\n",
    "print(\"Answer: \", answer)"
   ]
  },
  {
   "cell_type": "code",
   "execution_count": 3,
   "id": "524c22ba",
   "metadata": {},
   "outputs": [
    {
     "name": "stderr",
     "output_type": "stream",
     "text": [
      "2025-01-28 18:01:31,000 - Use pytorch device_name: cpu\n",
      "2025-01-28 18:01:31,003 - Load pretrained SentenceTransformer: BAAI/bge-small-en-v1.5\n",
      "2025-01-28 18:01:37,385 - Successfully initialized TreeBuilder with Config \n",
      "        TreeBuilderConfig:\n",
      "            Tokenizer: <Encoding 'cl100k_base'>\n",
      "            Max Tokens: 100\n",
      "            Num Layers: 5\n",
      "            Threshold: 0.5\n",
      "            Top K: 5\n",
      "            Selection Mode: top_k\n",
      "            Summarization Length: 100\n",
      "            Summarization Model: <raptor.SummarizationModels.OllamaSummarizationModelV2 object at 0x000001E7B8173430>\n",
      "            Embedding Models: {'EMB': <__main__.SBertEmbeddingModel object at 0x000001E7B8173370>}\n",
      "            Cluster Embedding Model: EMB\n",
      "        \n",
      "        Reduction Dimension: 10\n",
      "        Clustering Algorithm: RAPTOR_Clustering\n",
      "        Clustering Parameters: {}\n",
      "        \n",
      "2025-01-28 18:01:37,387 - Successfully initialized ClusterTreeBuilder with Config \n",
      "        TreeBuilderConfig:\n",
      "            Tokenizer: <Encoding 'cl100k_base'>\n",
      "            Max Tokens: 100\n",
      "            Num Layers: 5\n",
      "            Threshold: 0.5\n",
      "            Top K: 5\n",
      "            Selection Mode: top_k\n",
      "            Summarization Length: 100\n",
      "            Summarization Model: <raptor.SummarizationModels.OllamaSummarizationModelV2 object at 0x000001E7B8173430>\n",
      "            Embedding Models: {'EMB': <__main__.SBertEmbeddingModel object at 0x000001E7B8173370>}\n",
      "            Cluster Embedding Model: EMB\n",
      "        \n",
      "        Reduction Dimension: 10\n",
      "        Clustering Algorithm: RAPTOR_Clustering\n",
      "        Clustering Parameters: {}\n",
      "        \n",
      "2025-01-28 18:01:37,388 - Successfully initialized TreeRetriever with Config \n",
      "        TreeRetrieverConfig:\n",
      "            Tokenizer: <Encoding 'cl100k_base'>\n",
      "            Threshold: 0.5\n",
      "            Top K: 5\n",
      "            Selection Mode: top_k\n",
      "            Context Embedding Model: EMB\n",
      "            Embedding Model: <__main__.SBertEmbeddingModel object at 0x000001E7B8173370>\n",
      "            Num Layers: None\n",
      "            Start Layer: None\n",
      "        \n",
      "2025-01-28 18:01:37,391 - Successfully initialized RetrievalAugmentation with Config \n",
      "        RetrievalAugmentationConfig:\n",
      "            \n",
      "        TreeBuilderConfig:\n",
      "            Tokenizer: <Encoding 'cl100k_base'>\n",
      "            Max Tokens: 100\n",
      "            Num Layers: 5\n",
      "            Threshold: 0.5\n",
      "            Top K: 5\n",
      "            Selection Mode: top_k\n",
      "            Summarization Length: 100\n",
      "            Summarization Model: <raptor.SummarizationModels.OllamaSummarizationModelV2 object at 0x000001E7B8173430>\n",
      "            Embedding Models: {'EMB': <__main__.SBertEmbeddingModel object at 0x000001E7B8173370>}\n",
      "            Cluster Embedding Model: EMB\n",
      "        \n",
      "        Reduction Dimension: 10\n",
      "        Clustering Algorithm: RAPTOR_Clustering\n",
      "        Clustering Parameters: {}\n",
      "        \n",
      "            \n",
      "            \n",
      "        TreeRetrieverConfig:\n",
      "            Tokenizer: <Encoding 'cl100k_base'>\n",
      "            Threshold: 0.5\n",
      "            Top K: 5\n",
      "            Selection Mode: top_k\n",
      "            Context Embedding Model: EMB\n",
      "            Embedding Model: <__main__.SBertEmbeddingModel object at 0x000001E7B8173370>\n",
      "            Num Layers: None\n",
      "            Start Layer: None\n",
      "        \n",
      "            \n",
      "            QA Model: <raptor.QAModels.OllamaQAModelV2 object at 0x000001E7B8173BE0>\n",
      "            Tree Builder Type: cluster\n",
      "        \n"
     ]
    }
   ],
   "source": [
    "from raptor import OllamaQAModelV2, OllamaSummarizationModelV2\n",
    "qa_llm = 'llama3.2:latest'\n",
    "qa_model = OllamaQAModelV2(model_name= qa_llm)\n",
    "summarization_llm = 'llama3.2:latest'\n",
    "summarization_model = OllamaSummarizationModelV2(model_name= summarization_llm)\n",
    "\n",
    "RAC = RetrievalAugmentationConfig(qa_model=qa_model, summarization_model=summarization_model, embedding_model=SBertEmbeddingModel())\n",
    "RA = RetrievalAugmentation(config=RAC, tree=\"demo/football360\")"
   ]
  },
  {
   "cell_type": "code",
   "execution_count": 5,
   "id": "fbb83621",
   "metadata": {},
   "outputs": [],
   "source": [
    "f = open(\"demo/data4.txt\", \"r\", encoding=\"utf-8\")\n",
    "text = \"\"\n",
    "for x in f:\n",
    "  text += x"
   ]
  },
  {
   "cell_type": "code",
   "execution_count": 6,
   "id": "49c4c14f",
   "metadata": {},
   "outputs": [
    {
     "name": "stderr",
     "output_type": "stream",
     "text": [
      "2025-01-28 17:00:41,397 - Creating Leaf Nodes\n"
     ]
    },
    {
     "data": {
      "application/vnd.jupyter.widget-view+json": {
       "model_id": "084c281d367b47e6aa59101486b34f7f",
       "version_major": 2,
       "version_minor": 0
      },
      "text/plain": [
       "Batches:   0%|          | 0/1 [00:00<?, ?it/s]"
      ]
     },
     "metadata": {},
     "output_type": "display_data"
    },
    {
     "data": {
      "application/vnd.jupyter.widget-view+json": {
       "model_id": "1bd592a9aa4b4c5ba944688d9d8fcd24",
       "version_major": 2,
       "version_minor": 0
      },
      "text/plain": [
       "Batches:   0%|          | 0/1 [00:00<?, ?it/s]"
      ]
     },
     "metadata": {},
     "output_type": "display_data"
    },
    {
     "data": {
      "application/vnd.jupyter.widget-view+json": {
       "model_id": "6c7f1be3a95e40fbbe5b453beb7b96b6",
       "version_major": 2,
       "version_minor": 0
      },
      "text/plain": [
       "Batches:   0%|          | 0/1 [00:00<?, ?it/s]"
      ]
     },
     "metadata": {},
     "output_type": "display_data"
    },
    {
     "data": {
      "application/vnd.jupyter.widget-view+json": {
       "model_id": "7f587e93d2a342d48f1083f160d7e8a2",
       "version_major": 2,
       "version_minor": 0
      },
      "text/plain": [
       "Batches:   0%|          | 0/1 [00:00<?, ?it/s]"
      ]
     },
     "metadata": {},
     "output_type": "display_data"
    },
    {
     "data": {
      "application/vnd.jupyter.widget-view+json": {
       "model_id": "4a1c0b8e29ab4c90bec0aa79e67bfdc4",
       "version_major": 2,
       "version_minor": 0
      },
      "text/plain": [
       "Batches:   0%|          | 0/1 [00:00<?, ?it/s]"
      ]
     },
     "metadata": {},
     "output_type": "display_data"
    },
    {
     "data": {
      "application/vnd.jupyter.widget-view+json": {
       "model_id": "eefdb800b0514ab999a84d40129bcbd7",
       "version_major": 2,
       "version_minor": 0
      },
      "text/plain": [
       "Batches:   0%|          | 0/1 [00:00<?, ?it/s]"
      ]
     },
     "metadata": {},
     "output_type": "display_data"
    },
    {
     "data": {
      "application/vnd.jupyter.widget-view+json": {
       "model_id": "ba1b100ad0914ddd96b94de1d8fcac39",
       "version_major": 2,
       "version_minor": 0
      },
      "text/plain": [
       "Batches:   0%|          | 0/1 [00:00<?, ?it/s]"
      ]
     },
     "metadata": {},
     "output_type": "display_data"
    },
    {
     "data": {
      "application/vnd.jupyter.widget-view+json": {
       "model_id": "fbd55aeab0ff4ce9b33eeaedab139d86",
       "version_major": 2,
       "version_minor": 0
      },
      "text/plain": [
       "Batches:   0%|          | 0/1 [00:00<?, ?it/s]"
      ]
     },
     "metadata": {},
     "output_type": "display_data"
    },
    {
     "data": {
      "application/vnd.jupyter.widget-view+json": {
       "model_id": "870b15968bd1445594369c87e9a57d1b",
       "version_major": 2,
       "version_minor": 0
      },
      "text/plain": [
       "Batches:   0%|          | 0/1 [00:00<?, ?it/s]"
      ]
     },
     "metadata": {},
     "output_type": "display_data"
    },
    {
     "data": {
      "application/vnd.jupyter.widget-view+json": {
       "model_id": "5eb7150938c14c89bbafcd9f2244ac05",
       "version_major": 2,
       "version_minor": 0
      },
      "text/plain": [
       "Batches:   0%|          | 0/1 [00:00<?, ?it/s]"
      ]
     },
     "metadata": {},
     "output_type": "display_data"
    },
    {
     "data": {
      "application/vnd.jupyter.widget-view+json": {
       "model_id": "4b859e1914b24c65a6b88e2ce4d7103f",
       "version_major": 2,
       "version_minor": 0
      },
      "text/plain": [
       "Batches:   0%|          | 0/1 [00:00<?, ?it/s]"
      ]
     },
     "metadata": {},
     "output_type": "display_data"
    },
    {
     "data": {
      "application/vnd.jupyter.widget-view+json": {
       "model_id": "146dea81b46e43e1a7c522dce25909ca",
       "version_major": 2,
       "version_minor": 0
      },
      "text/plain": [
       "Batches:   0%|          | 0/1 [00:00<?, ?it/s]"
      ]
     },
     "metadata": {},
     "output_type": "display_data"
    },
    {
     "data": {
      "application/vnd.jupyter.widget-view+json": {
       "model_id": "c8f158b768aa43919ab0f3adf2af3902",
       "version_major": 2,
       "version_minor": 0
      },
      "text/plain": [
       "Batches:   0%|          | 0/1 [00:00<?, ?it/s]"
      ]
     },
     "metadata": {},
     "output_type": "display_data"
    },
    {
     "data": {
      "application/vnd.jupyter.widget-view+json": {
       "model_id": "ffacba2d1e0f42b29952976a86971adb",
       "version_major": 2,
       "version_minor": 0
      },
      "text/plain": [
       "Batches:   0%|          | 0/1 [00:00<?, ?it/s]"
      ]
     },
     "metadata": {},
     "output_type": "display_data"
    },
    {
     "data": {
      "application/vnd.jupyter.widget-view+json": {
       "model_id": "7ce6cd6380c344c2b88862fc28d83b95",
       "version_major": 2,
       "version_minor": 0
      },
      "text/plain": [
       "Batches:   0%|          | 0/1 [00:00<?, ?it/s]"
      ]
     },
     "metadata": {},
     "output_type": "display_data"
    },
    {
     "data": {
      "application/vnd.jupyter.widget-view+json": {
       "model_id": "8a2b28e9bc9d44ee9dcb796c75e2d6fb",
       "version_major": 2,
       "version_minor": 0
      },
      "text/plain": [
       "Batches:   0%|          | 0/1 [00:00<?, ?it/s]"
      ]
     },
     "metadata": {},
     "output_type": "display_data"
    },
    {
     "data": {
      "application/vnd.jupyter.widget-view+json": {
       "model_id": "28f1aaa248d549bb8a6eca7eeb2857c3",
       "version_major": 2,
       "version_minor": 0
      },
      "text/plain": [
       "Batches:   0%|          | 0/1 [00:00<?, ?it/s]"
      ]
     },
     "metadata": {},
     "output_type": "display_data"
    },
    {
     "data": {
      "application/vnd.jupyter.widget-view+json": {
       "model_id": "5c731325c29f40009de079a556107ce4",
       "version_major": 2,
       "version_minor": 0
      },
      "text/plain": [
       "Batches:   0%|          | 0/1 [00:00<?, ?it/s]"
      ]
     },
     "metadata": {},
     "output_type": "display_data"
    },
    {
     "data": {
      "application/vnd.jupyter.widget-view+json": {
       "model_id": "927e2e6f761c49aa86875a4caeee573e",
       "version_major": 2,
       "version_minor": 0
      },
      "text/plain": [
       "Batches:   0%|          | 0/1 [00:00<?, ?it/s]"
      ]
     },
     "metadata": {},
     "output_type": "display_data"
    },
    {
     "data": {
      "application/vnd.jupyter.widget-view+json": {
       "model_id": "efc3695401054da194b8ca41b68e1691",
       "version_major": 2,
       "version_minor": 0
      },
      "text/plain": [
       "Batches:   0%|          | 0/1 [00:00<?, ?it/s]"
      ]
     },
     "metadata": {},
     "output_type": "display_data"
    },
    {
     "data": {
      "application/vnd.jupyter.widget-view+json": {
       "model_id": "c0672265a82b4d3cb6f6f24855711db7",
       "version_major": 2,
       "version_minor": 0
      },
      "text/plain": [
       "Batches:   0%|          | 0/1 [00:00<?, ?it/s]"
      ]
     },
     "metadata": {},
     "output_type": "display_data"
    },
    {
     "data": {
      "application/vnd.jupyter.widget-view+json": {
       "model_id": "304d1efa35ed4d5da2266e0a41928619",
       "version_major": 2,
       "version_minor": 0
      },
      "text/plain": [
       "Batches:   0%|          | 0/1 [00:00<?, ?it/s]"
      ]
     },
     "metadata": {},
     "output_type": "display_data"
    },
    {
     "data": {
      "application/vnd.jupyter.widget-view+json": {
       "model_id": "a8d8648cfd3b42eb9354267b1a822980",
       "version_major": 2,
       "version_minor": 0
      },
      "text/plain": [
       "Batches:   0%|          | 0/1 [00:00<?, ?it/s]"
      ]
     },
     "metadata": {},
     "output_type": "display_data"
    },
    {
     "data": {
      "application/vnd.jupyter.widget-view+json": {
       "model_id": "be36a0420ef94012ad574ea1f3b8fbf3",
       "version_major": 2,
       "version_minor": 0
      },
      "text/plain": [
       "Batches:   0%|          | 0/1 [00:00<?, ?it/s]"
      ]
     },
     "metadata": {},
     "output_type": "display_data"
    },
    {
     "data": {
      "application/vnd.jupyter.widget-view+json": {
       "model_id": "2170c59741be4870afaf72a68f0918c1",
       "version_major": 2,
       "version_minor": 0
      },
      "text/plain": [
       "Batches:   0%|          | 0/1 [00:00<?, ?it/s]"
      ]
     },
     "metadata": {},
     "output_type": "display_data"
    },
    {
     "data": {
      "application/vnd.jupyter.widget-view+json": {
       "model_id": "8bc3fd2adf6d4ee9a9d4b7fab8686051",
       "version_major": 2,
       "version_minor": 0
      },
      "text/plain": [
       "Batches:   0%|          | 0/1 [00:00<?, ?it/s]"
      ]
     },
     "metadata": {},
     "output_type": "display_data"
    },
    {
     "data": {
      "application/vnd.jupyter.widget-view+json": {
       "model_id": "01597c40474547e8b69b5ceaf7806dce",
       "version_major": 2,
       "version_minor": 0
      },
      "text/plain": [
       "Batches:   0%|          | 0/1 [00:00<?, ?it/s]"
      ]
     },
     "metadata": {},
     "output_type": "display_data"
    },
    {
     "data": {
      "application/vnd.jupyter.widget-view+json": {
       "model_id": "3de1f2f5724d40339cf5f6cfe68ebb13",
       "version_major": 2,
       "version_minor": 0
      },
      "text/plain": [
       "Batches:   0%|          | 0/1 [00:00<?, ?it/s]"
      ]
     },
     "metadata": {},
     "output_type": "display_data"
    },
    {
     "data": {
      "application/vnd.jupyter.widget-view+json": {
       "model_id": "46bd520ee1e7401385211a57065e4d51",
       "version_major": 2,
       "version_minor": 0
      },
      "text/plain": [
       "Batches:   0%|          | 0/1 [00:00<?, ?it/s]"
      ]
     },
     "metadata": {},
     "output_type": "display_data"
    },
    {
     "data": {
      "application/vnd.jupyter.widget-view+json": {
       "model_id": "73759cf3bc574f579baccef6aee7e32a",
       "version_major": 2,
       "version_minor": 0
      },
      "text/plain": [
       "Batches:   0%|          | 0/1 [00:00<?, ?it/s]"
      ]
     },
     "metadata": {},
     "output_type": "display_data"
    },
    {
     "data": {
      "application/vnd.jupyter.widget-view+json": {
       "model_id": "ef91fa26aab54878b4f27a55e50ea628",
       "version_major": 2,
       "version_minor": 0
      },
      "text/plain": [
       "Batches:   0%|          | 0/1 [00:00<?, ?it/s]"
      ]
     },
     "metadata": {},
     "output_type": "display_data"
    },
    {
     "data": {
      "application/vnd.jupyter.widget-view+json": {
       "model_id": "4e4eccd04b08422f82d6c834045183dc",
       "version_major": 2,
       "version_minor": 0
      },
      "text/plain": [
       "Batches:   0%|          | 0/1 [00:00<?, ?it/s]"
      ]
     },
     "metadata": {},
     "output_type": "display_data"
    },
    {
     "data": {
      "application/vnd.jupyter.widget-view+json": {
       "model_id": "c6616b4a60544c10a8337c2d55d3b74a",
       "version_major": 2,
       "version_minor": 0
      },
      "text/plain": [
       "Batches:   0%|          | 0/1 [00:00<?, ?it/s]"
      ]
     },
     "metadata": {},
     "output_type": "display_data"
    },
    {
     "data": {
      "application/vnd.jupyter.widget-view+json": {
       "model_id": "1186823a7b354e15b4ffc3cbfa361d2b",
       "version_major": 2,
       "version_minor": 0
      },
      "text/plain": [
       "Batches:   0%|          | 0/1 [00:00<?, ?it/s]"
      ]
     },
     "metadata": {},
     "output_type": "display_data"
    },
    {
     "data": {
      "application/vnd.jupyter.widget-view+json": {
       "model_id": "4e854cd639db4a9b83df7e9a74ad3c5c",
       "version_major": 2,
       "version_minor": 0
      },
      "text/plain": [
       "Batches:   0%|          | 0/1 [00:00<?, ?it/s]"
      ]
     },
     "metadata": {},
     "output_type": "display_data"
    },
    {
     "data": {
      "application/vnd.jupyter.widget-view+json": {
       "model_id": "11a599820b1140fcb5f74d326c1d305a",
       "version_major": 2,
       "version_minor": 0
      },
      "text/plain": [
       "Batches:   0%|          | 0/1 [00:00<?, ?it/s]"
      ]
     },
     "metadata": {},
     "output_type": "display_data"
    },
    {
     "data": {
      "application/vnd.jupyter.widget-view+json": {
       "model_id": "a8f62113f504499dafececda7f53383d",
       "version_major": 2,
       "version_minor": 0
      },
      "text/plain": [
       "Batches:   0%|          | 0/1 [00:00<?, ?it/s]"
      ]
     },
     "metadata": {},
     "output_type": "display_data"
    },
    {
     "data": {
      "application/vnd.jupyter.widget-view+json": {
       "model_id": "3740c94a457e42e2973556c8d4f8fddd",
       "version_major": 2,
       "version_minor": 0
      },
      "text/plain": [
       "Batches:   0%|          | 0/1 [00:00<?, ?it/s]"
      ]
     },
     "metadata": {},
     "output_type": "display_data"
    },
    {
     "data": {
      "application/vnd.jupyter.widget-view+json": {
       "model_id": "4d21bc254a9b43bea7aa6f4613f2fb7a",
       "version_major": 2,
       "version_minor": 0
      },
      "text/plain": [
       "Batches:   0%|          | 0/1 [00:00<?, ?it/s]"
      ]
     },
     "metadata": {},
     "output_type": "display_data"
    },
    {
     "data": {
      "application/vnd.jupyter.widget-view+json": {
       "model_id": "90cad7024a98426da4e9c6ad55280bc8",
       "version_major": 2,
       "version_minor": 0
      },
      "text/plain": [
       "Batches:   0%|          | 0/1 [00:00<?, ?it/s]"
      ]
     },
     "metadata": {},
     "output_type": "display_data"
    },
    {
     "data": {
      "application/vnd.jupyter.widget-view+json": {
       "model_id": "db20e3c7d1c249faaa270b6220895d45",
       "version_major": 2,
       "version_minor": 0
      },
      "text/plain": [
       "Batches:   0%|          | 0/1 [00:00<?, ?it/s]"
      ]
     },
     "metadata": {},
     "output_type": "display_data"
    },
    {
     "data": {
      "application/vnd.jupyter.widget-view+json": {
       "model_id": "57b6f367183a40f7b5bad56bfb6bf1eb",
       "version_major": 2,
       "version_minor": 0
      },
      "text/plain": [
       "Batches:   0%|          | 0/1 [00:00<?, ?it/s]"
      ]
     },
     "metadata": {},
     "output_type": "display_data"
    },
    {
     "data": {
      "application/vnd.jupyter.widget-view+json": {
       "model_id": "93e303ac82d5446c863d0374759b0f4a",
       "version_major": 2,
       "version_minor": 0
      },
      "text/plain": [
       "Batches:   0%|          | 0/1 [00:00<?, ?it/s]"
      ]
     },
     "metadata": {},
     "output_type": "display_data"
    },
    {
     "data": {
      "application/vnd.jupyter.widget-view+json": {
       "model_id": "209defce5374436a86e75bc4989c5ee3",
       "version_major": 2,
       "version_minor": 0
      },
      "text/plain": [
       "Batches:   0%|          | 0/1 [00:00<?, ?it/s]"
      ]
     },
     "metadata": {},
     "output_type": "display_data"
    },
    {
     "data": {
      "application/vnd.jupyter.widget-view+json": {
       "model_id": "d6b7dfe0d949417fa1c0672b630a1fc2",
       "version_major": 2,
       "version_minor": 0
      },
      "text/plain": [
       "Batches:   0%|          | 0/1 [00:00<?, ?it/s]"
      ]
     },
     "metadata": {},
     "output_type": "display_data"
    },
    {
     "data": {
      "application/vnd.jupyter.widget-view+json": {
       "model_id": "4f37824edb1b47d795d21e0d0c648f00",
       "version_major": 2,
       "version_minor": 0
      },
      "text/plain": [
       "Batches:   0%|          | 0/1 [00:00<?, ?it/s]"
      ]
     },
     "metadata": {},
     "output_type": "display_data"
    },
    {
     "data": {
      "application/vnd.jupyter.widget-view+json": {
       "model_id": "6f174e523a4c4622880ca8c3cf47ba9b",
       "version_major": 2,
       "version_minor": 0
      },
      "text/plain": [
       "Batches:   0%|          | 0/1 [00:00<?, ?it/s]"
      ]
     },
     "metadata": {},
     "output_type": "display_data"
    },
    {
     "data": {
      "application/vnd.jupyter.widget-view+json": {
       "model_id": "f0a2f765d10148f2af0d84cdbd9d37c6",
       "version_major": 2,
       "version_minor": 0
      },
      "text/plain": [
       "Batches:   0%|          | 0/1 [00:00<?, ?it/s]"
      ]
     },
     "metadata": {},
     "output_type": "display_data"
    },
    {
     "data": {
      "application/vnd.jupyter.widget-view+json": {
       "model_id": "416712605d6144e7931fd1b75349d3d6",
       "version_major": 2,
       "version_minor": 0
      },
      "text/plain": [
       "Batches:   0%|          | 0/1 [00:00<?, ?it/s]"
      ]
     },
     "metadata": {},
     "output_type": "display_data"
    },
    {
     "data": {
      "application/vnd.jupyter.widget-view+json": {
       "model_id": "0537b5c211284c9798e0ae35e4e4d54e",
       "version_major": 2,
       "version_minor": 0
      },
      "text/plain": [
       "Batches:   0%|          | 0/1 [00:00<?, ?it/s]"
      ]
     },
     "metadata": {},
     "output_type": "display_data"
    },
    {
     "data": {
      "application/vnd.jupyter.widget-view+json": {
       "model_id": "23ba4f1f052d4acda1705f44c097172d",
       "version_major": 2,
       "version_minor": 0
      },
      "text/plain": [
       "Batches:   0%|          | 0/1 [00:00<?, ?it/s]"
      ]
     },
     "metadata": {},
     "output_type": "display_data"
    },
    {
     "data": {
      "application/vnd.jupyter.widget-view+json": {
       "model_id": "0ce1bca2a1524cfdb333d6ecf0d7758c",
       "version_major": 2,
       "version_minor": 0
      },
      "text/plain": [
       "Batches:   0%|          | 0/1 [00:00<?, ?it/s]"
      ]
     },
     "metadata": {},
     "output_type": "display_data"
    },
    {
     "data": {
      "application/vnd.jupyter.widget-view+json": {
       "model_id": "e0381051b58c4178b37f2b9eb34ee220",
       "version_major": 2,
       "version_minor": 0
      },
      "text/plain": [
       "Batches:   0%|          | 0/1 [00:00<?, ?it/s]"
      ]
     },
     "metadata": {},
     "output_type": "display_data"
    },
    {
     "data": {
      "application/vnd.jupyter.widget-view+json": {
       "model_id": "11a4dd2493944d6994d93bef84dbdf6a",
       "version_major": 2,
       "version_minor": 0
      },
      "text/plain": [
       "Batches:   0%|          | 0/1 [00:00<?, ?it/s]"
      ]
     },
     "metadata": {},
     "output_type": "display_data"
    },
    {
     "data": {
      "application/vnd.jupyter.widget-view+json": {
       "model_id": "4d832862993d4da38de4e2f8a903e1ff",
       "version_major": 2,
       "version_minor": 0
      },
      "text/plain": [
       "Batches:   0%|          | 0/1 [00:00<?, ?it/s]"
      ]
     },
     "metadata": {},
     "output_type": "display_data"
    },
    {
     "data": {
      "application/vnd.jupyter.widget-view+json": {
       "model_id": "5ccca326b7794b01bfe003bea0808635",
       "version_major": 2,
       "version_minor": 0
      },
      "text/plain": [
       "Batches:   0%|          | 0/1 [00:00<?, ?it/s]"
      ]
     },
     "metadata": {},
     "output_type": "display_data"
    },
    {
     "data": {
      "application/vnd.jupyter.widget-view+json": {
       "model_id": "e1c88041c0d74dd2a9c7e52fee39c68d",
       "version_major": 2,
       "version_minor": 0
      },
      "text/plain": [
       "Batches:   0%|          | 0/1 [00:00<?, ?it/s]"
      ]
     },
     "metadata": {},
     "output_type": "display_data"
    },
    {
     "data": {
      "application/vnd.jupyter.widget-view+json": {
       "model_id": "b53f0dc3602b4788837a1c08be7aba66",
       "version_major": 2,
       "version_minor": 0
      },
      "text/plain": [
       "Batches:   0%|          | 0/1 [00:00<?, ?it/s]"
      ]
     },
     "metadata": {},
     "output_type": "display_data"
    },
    {
     "data": {
      "application/vnd.jupyter.widget-view+json": {
       "model_id": "db303f9381c94664afa5d59175753abc",
       "version_major": 2,
       "version_minor": 0
      },
      "text/plain": [
       "Batches:   0%|          | 0/1 [00:00<?, ?it/s]"
      ]
     },
     "metadata": {},
     "output_type": "display_data"
    },
    {
     "data": {
      "application/vnd.jupyter.widget-view+json": {
       "model_id": "a35236929fb74d539f88224a115246a2",
       "version_major": 2,
       "version_minor": 0
      },
      "text/plain": [
       "Batches:   0%|          | 0/1 [00:00<?, ?it/s]"
      ]
     },
     "metadata": {},
     "output_type": "display_data"
    },
    {
     "data": {
      "application/vnd.jupyter.widget-view+json": {
       "model_id": "2350516fe4c6486183d97cd4ebf28462",
       "version_major": 2,
       "version_minor": 0
      },
      "text/plain": [
       "Batches:   0%|          | 0/1 [00:00<?, ?it/s]"
      ]
     },
     "metadata": {},
     "output_type": "display_data"
    },
    {
     "data": {
      "application/vnd.jupyter.widget-view+json": {
       "model_id": "b9f558ec764d4e05955fc63da103e84a",
       "version_major": 2,
       "version_minor": 0
      },
      "text/plain": [
       "Batches:   0%|          | 0/1 [00:00<?, ?it/s]"
      ]
     },
     "metadata": {},
     "output_type": "display_data"
    },
    {
     "data": {
      "application/vnd.jupyter.widget-view+json": {
       "model_id": "60d52eba761b4700ae7a56795862c74a",
       "version_major": 2,
       "version_minor": 0
      },
      "text/plain": [
       "Batches:   0%|          | 0/1 [00:00<?, ?it/s]"
      ]
     },
     "metadata": {},
     "output_type": "display_data"
    },
    {
     "data": {
      "application/vnd.jupyter.widget-view+json": {
       "model_id": "add13f90d5f6400ab0a524ec06ac19ae",
       "version_major": 2,
       "version_minor": 0
      },
      "text/plain": [
       "Batches:   0%|          | 0/1 [00:00<?, ?it/s]"
      ]
     },
     "metadata": {},
     "output_type": "display_data"
    },
    {
     "data": {
      "application/vnd.jupyter.widget-view+json": {
       "model_id": "bc321a07bba744a5a31880988aceace6",
       "version_major": 2,
       "version_minor": 0
      },
      "text/plain": [
       "Batches:   0%|          | 0/1 [00:00<?, ?it/s]"
      ]
     },
     "metadata": {},
     "output_type": "display_data"
    },
    {
     "data": {
      "application/vnd.jupyter.widget-view+json": {
       "model_id": "700c6ac928974e73bc8c03fc2b47161b",
       "version_major": 2,
       "version_minor": 0
      },
      "text/plain": [
       "Batches:   0%|          | 0/1 [00:00<?, ?it/s]"
      ]
     },
     "metadata": {},
     "output_type": "display_data"
    },
    {
     "data": {
      "application/vnd.jupyter.widget-view+json": {
       "model_id": "d412542e5ea94a658938a79d57da4fa3",
       "version_major": 2,
       "version_minor": 0
      },
      "text/plain": [
       "Batches:   0%|          | 0/1 [00:00<?, ?it/s]"
      ]
     },
     "metadata": {},
     "output_type": "display_data"
    },
    {
     "data": {
      "application/vnd.jupyter.widget-view+json": {
       "model_id": "e724371b8a724a47937b4a72e4d2daa1",
       "version_major": 2,
       "version_minor": 0
      },
      "text/plain": [
       "Batches:   0%|          | 0/1 [00:00<?, ?it/s]"
      ]
     },
     "metadata": {},
     "output_type": "display_data"
    },
    {
     "data": {
      "application/vnd.jupyter.widget-view+json": {
       "model_id": "6d688a6c3556453cac2ad905c1fbdfe0",
       "version_major": 2,
       "version_minor": 0
      },
      "text/plain": [
       "Batches:   0%|          | 0/1 [00:00<?, ?it/s]"
      ]
     },
     "metadata": {},
     "output_type": "display_data"
    },
    {
     "data": {
      "application/vnd.jupyter.widget-view+json": {
       "model_id": "1186723aff5d4342a66c786a1866b116",
       "version_major": 2,
       "version_minor": 0
      },
      "text/plain": [
       "Batches:   0%|          | 0/1 [00:00<?, ?it/s]"
      ]
     },
     "metadata": {},
     "output_type": "display_data"
    },
    {
     "data": {
      "application/vnd.jupyter.widget-view+json": {
       "model_id": "89c0da4dbb0c4315bad7ab3d353077f4",
       "version_major": 2,
       "version_minor": 0
      },
      "text/plain": [
       "Batches:   0%|          | 0/1 [00:00<?, ?it/s]"
      ]
     },
     "metadata": {},
     "output_type": "display_data"
    },
    {
     "data": {
      "application/vnd.jupyter.widget-view+json": {
       "model_id": "a87e676af5df44268e0ee419a8e86438",
       "version_major": 2,
       "version_minor": 0
      },
      "text/plain": [
       "Batches:   0%|          | 0/1 [00:00<?, ?it/s]"
      ]
     },
     "metadata": {},
     "output_type": "display_data"
    },
    {
     "data": {
      "application/vnd.jupyter.widget-view+json": {
       "model_id": "3d745c74d0424b168d51d11078719bfc",
       "version_major": 2,
       "version_minor": 0
      },
      "text/plain": [
       "Batches:   0%|          | 0/1 [00:00<?, ?it/s]"
      ]
     },
     "metadata": {},
     "output_type": "display_data"
    },
    {
     "data": {
      "application/vnd.jupyter.widget-view+json": {
       "model_id": "bc7cadcdb5a94db5a8d41c0eef1befaf",
       "version_major": 2,
       "version_minor": 0
      },
      "text/plain": [
       "Batches:   0%|          | 0/1 [00:00<?, ?it/s]"
      ]
     },
     "metadata": {},
     "output_type": "display_data"
    },
    {
     "data": {
      "application/vnd.jupyter.widget-view+json": {
       "model_id": "9be270d4e74d4961aa13cc84966d2915",
       "version_major": 2,
       "version_minor": 0
      },
      "text/plain": [
       "Batches:   0%|          | 0/1 [00:00<?, ?it/s]"
      ]
     },
     "metadata": {},
     "output_type": "display_data"
    },
    {
     "data": {
      "application/vnd.jupyter.widget-view+json": {
       "model_id": "730841e0d1164b55808afa399c267d34",
       "version_major": 2,
       "version_minor": 0
      },
      "text/plain": [
       "Batches:   0%|          | 0/1 [00:00<?, ?it/s]"
      ]
     },
     "metadata": {},
     "output_type": "display_data"
    },
    {
     "data": {
      "application/vnd.jupyter.widget-view+json": {
       "model_id": "46fda35cc5ab416a811d6e2a6d5930d6",
       "version_major": 2,
       "version_minor": 0
      },
      "text/plain": [
       "Batches:   0%|          | 0/1 [00:00<?, ?it/s]"
      ]
     },
     "metadata": {},
     "output_type": "display_data"
    },
    {
     "data": {
      "application/vnd.jupyter.widget-view+json": {
       "model_id": "5c509e5bb80d4c358ed3f58f8231fdc3",
       "version_major": 2,
       "version_minor": 0
      },
      "text/plain": [
       "Batches:   0%|          | 0/1 [00:00<?, ?it/s]"
      ]
     },
     "metadata": {},
     "output_type": "display_data"
    },
    {
     "data": {
      "application/vnd.jupyter.widget-view+json": {
       "model_id": "eabc4a041ab14bbab36585c9d8f7610a",
       "version_major": 2,
       "version_minor": 0
      },
      "text/plain": [
       "Batches:   0%|          | 0/1 [00:00<?, ?it/s]"
      ]
     },
     "metadata": {},
     "output_type": "display_data"
    },
    {
     "data": {
      "application/vnd.jupyter.widget-view+json": {
       "model_id": "a6ac67a445e240a188071188113b4edf",
       "version_major": 2,
       "version_minor": 0
      },
      "text/plain": [
       "Batches:   0%|          | 0/1 [00:00<?, ?it/s]"
      ]
     },
     "metadata": {},
     "output_type": "display_data"
    },
    {
     "data": {
      "application/vnd.jupyter.widget-view+json": {
       "model_id": "beee9cf27ad14c6da2ad703aab9072f2",
       "version_major": 2,
       "version_minor": 0
      },
      "text/plain": [
       "Batches:   0%|          | 0/1 [00:00<?, ?it/s]"
      ]
     },
     "metadata": {},
     "output_type": "display_data"
    },
    {
     "data": {
      "application/vnd.jupyter.widget-view+json": {
       "model_id": "22cced89b65747579b1b89ab98368bba",
       "version_major": 2,
       "version_minor": 0
      },
      "text/plain": [
       "Batches:   0%|          | 0/1 [00:00<?, ?it/s]"
      ]
     },
     "metadata": {},
     "output_type": "display_data"
    },
    {
     "data": {
      "application/vnd.jupyter.widget-view+json": {
       "model_id": "7a0abe0db9314f3c812a608ed3b3c7b9",
       "version_major": 2,
       "version_minor": 0
      },
      "text/plain": [
       "Batches:   0%|          | 0/1 [00:00<?, ?it/s]"
      ]
     },
     "metadata": {},
     "output_type": "display_data"
    },
    {
     "data": {
      "application/vnd.jupyter.widget-view+json": {
       "model_id": "c1412a28994b4e4a9864ba774fb09832",
       "version_major": 2,
       "version_minor": 0
      },
      "text/plain": [
       "Batches:   0%|          | 0/1 [00:00<?, ?it/s]"
      ]
     },
     "metadata": {},
     "output_type": "display_data"
    },
    {
     "data": {
      "application/vnd.jupyter.widget-view+json": {
       "model_id": "f431c15f4d6048138bac029080e6723a",
       "version_major": 2,
       "version_minor": 0
      },
      "text/plain": [
       "Batches:   0%|          | 0/1 [00:00<?, ?it/s]"
      ]
     },
     "metadata": {},
     "output_type": "display_data"
    },
    {
     "data": {
      "application/vnd.jupyter.widget-view+json": {
       "model_id": "2d59a98866e94e19a191544dd2a9499f",
       "version_major": 2,
       "version_minor": 0
      },
      "text/plain": [
       "Batches:   0%|          | 0/1 [00:00<?, ?it/s]"
      ]
     },
     "metadata": {},
     "output_type": "display_data"
    },
    {
     "data": {
      "application/vnd.jupyter.widget-view+json": {
       "model_id": "4fb3d128ad484bef9cc1023caf3a5792",
       "version_major": 2,
       "version_minor": 0
      },
      "text/plain": [
       "Batches:   0%|          | 0/1 [00:00<?, ?it/s]"
      ]
     },
     "metadata": {},
     "output_type": "display_data"
    },
    {
     "data": {
      "application/vnd.jupyter.widget-view+json": {
       "model_id": "51cd6243c6544738bfe864bb6b889bd5",
       "version_major": 2,
       "version_minor": 0
      },
      "text/plain": [
       "Batches:   0%|          | 0/1 [00:00<?, ?it/s]"
      ]
     },
     "metadata": {},
     "output_type": "display_data"
    },
    {
     "data": {
      "application/vnd.jupyter.widget-view+json": {
       "model_id": "9be07973ce5347c58daa8a00995c843c",
       "version_major": 2,
       "version_minor": 0
      },
      "text/plain": [
       "Batches:   0%|          | 0/1 [00:00<?, ?it/s]"
      ]
     },
     "metadata": {},
     "output_type": "display_data"
    },
    {
     "data": {
      "application/vnd.jupyter.widget-view+json": {
       "model_id": "de909b72c9fd4489b0e400e618e25b5d",
       "version_major": 2,
       "version_minor": 0
      },
      "text/plain": [
       "Batches:   0%|          | 0/1 [00:00<?, ?it/s]"
      ]
     },
     "metadata": {},
     "output_type": "display_data"
    },
    {
     "data": {
      "application/vnd.jupyter.widget-view+json": {
       "model_id": "1a58e69d5d474c008e3032d147ed19f6",
       "version_major": 2,
       "version_minor": 0
      },
      "text/plain": [
       "Batches:   0%|          | 0/1 [00:00<?, ?it/s]"
      ]
     },
     "metadata": {},
     "output_type": "display_data"
    },
    {
     "data": {
      "application/vnd.jupyter.widget-view+json": {
       "model_id": "26da66a04e4d40139fbe9de37ba4dfda",
       "version_major": 2,
       "version_minor": 0
      },
      "text/plain": [
       "Batches:   0%|          | 0/1 [00:00<?, ?it/s]"
      ]
     },
     "metadata": {},
     "output_type": "display_data"
    },
    {
     "data": {
      "application/vnd.jupyter.widget-view+json": {
       "model_id": "5121e81ee9de4231a2e33bd3d62c6c51",
       "version_major": 2,
       "version_minor": 0
      },
      "text/plain": [
       "Batches:   0%|          | 0/1 [00:00<?, ?it/s]"
      ]
     },
     "metadata": {},
     "output_type": "display_data"
    },
    {
     "data": {
      "application/vnd.jupyter.widget-view+json": {
       "model_id": "94c57eb3d87f4d3cb17fa0781f0f704c",
       "version_major": 2,
       "version_minor": 0
      },
      "text/plain": [
       "Batches:   0%|          | 0/1 [00:00<?, ?it/s]"
      ]
     },
     "metadata": {},
     "output_type": "display_data"
    },
    {
     "data": {
      "application/vnd.jupyter.widget-view+json": {
       "model_id": "c13940b4d80c46558cfc396b840b3659",
       "version_major": 2,
       "version_minor": 0
      },
      "text/plain": [
       "Batches:   0%|          | 0/1 [00:00<?, ?it/s]"
      ]
     },
     "metadata": {},
     "output_type": "display_data"
    },
    {
     "data": {
      "application/vnd.jupyter.widget-view+json": {
       "model_id": "5769877cb35a4f4e87444ae88b8114a3",
       "version_major": 2,
       "version_minor": 0
      },
      "text/plain": [
       "Batches:   0%|          | 0/1 [00:00<?, ?it/s]"
      ]
     },
     "metadata": {},
     "output_type": "display_data"
    },
    {
     "data": {
      "application/vnd.jupyter.widget-view+json": {
       "model_id": "d1141c62b29449d2b257514f4e7a1586",
       "version_major": 2,
       "version_minor": 0
      },
      "text/plain": [
       "Batches:   0%|          | 0/1 [00:00<?, ?it/s]"
      ]
     },
     "metadata": {},
     "output_type": "display_data"
    },
    {
     "data": {
      "application/vnd.jupyter.widget-view+json": {
       "model_id": "599b9d99f41a4e7787b345eb62c134db",
       "version_major": 2,
       "version_minor": 0
      },
      "text/plain": [
       "Batches:   0%|          | 0/1 [00:00<?, ?it/s]"
      ]
     },
     "metadata": {},
     "output_type": "display_data"
    },
    {
     "data": {
      "application/vnd.jupyter.widget-view+json": {
       "model_id": "1d5127e96ae94c61b53c6f45fb52afcf",
       "version_major": 2,
       "version_minor": 0
      },
      "text/plain": [
       "Batches:   0%|          | 0/1 [00:00<?, ?it/s]"
      ]
     },
     "metadata": {},
     "output_type": "display_data"
    },
    {
     "data": {
      "application/vnd.jupyter.widget-view+json": {
       "model_id": "9abcf73190db42e58639688f73531efa",
       "version_major": 2,
       "version_minor": 0
      },
      "text/plain": [
       "Batches:   0%|          | 0/1 [00:00<?, ?it/s]"
      ]
     },
     "metadata": {},
     "output_type": "display_data"
    },
    {
     "data": {
      "application/vnd.jupyter.widget-view+json": {
       "model_id": "adf0ad9e343647f395ea286e4197a116",
       "version_major": 2,
       "version_minor": 0
      },
      "text/plain": [
       "Batches:   0%|          | 0/1 [00:00<?, ?it/s]"
      ]
     },
     "metadata": {},
     "output_type": "display_data"
    },
    {
     "data": {
      "application/vnd.jupyter.widget-view+json": {
       "model_id": "50136db938f04055840909bc6e66aa5e",
       "version_major": 2,
       "version_minor": 0
      },
      "text/plain": [
       "Batches:   0%|          | 0/1 [00:00<?, ?it/s]"
      ]
     },
     "metadata": {},
     "output_type": "display_data"
    },
    {
     "name": "stderr",
     "output_type": "stream",
     "text": [
      "2025-01-28 17:01:13,348 - Created 102 Leaf Embeddings\n",
      "2025-01-28 17:01:13,351 - Building All Nodes\n",
      "2025-01-28 17:01:13,368 - Using Cluster TreeBuilder\n",
      "2025-01-28 17:01:13,370 - Constructing Layer 0\n",
      "i:\\AI_Project\\raptor\\.venv\\lib\\site-packages\\sklearn\\utils\\deprecation.py:151: FutureWarning: 'force_all_finite' was renamed to 'ensure_all_finite' in 1.6 and will be removed in 1.8.\n",
      "  warnings.warn(\n",
      "i:\\AI_Project\\raptor\\.venv\\lib\\site-packages\\threadpoolctl.py:1214: RuntimeWarning: \n",
      "Found Intel OpenMP ('libiomp') and LLVM OpenMP ('libomp') loaded at\n",
      "the same time. Both libraries are known to be incompatible and this\n",
      "can cause random crashes or deadlocks on Linux when loaded in the\n",
      "same Python program.\n",
      "Using threadpoolctl may cause crashes or deadlocks. For more\n",
      "information and possible workarounds, please see\n",
      "    https://github.com/joblib/threadpoolctl/blob/master/multiple_openmp.md\n",
      "\n",
      "  warnings.warn(msg, RuntimeWarning)\n",
      "i:\\AI_Project\\raptor\\.venv\\lib\\site-packages\\sklearn\\utils\\deprecation.py:151: FutureWarning: 'force_all_finite' was renamed to 'ensure_all_finite' in 1.6 and will be removed in 1.8.\n",
      "  warnings.warn(\n",
      "i:\\AI_Project\\raptor\\.venv\\lib\\site-packages\\sklearn\\utils\\deprecation.py:151: FutureWarning: 'force_all_finite' was renamed to 'ensure_all_finite' in 1.6 and will be removed in 1.8.\n",
      "  warnings.warn(\n",
      "2025-01-28 17:01:52,409 - Summarization Length: 100\n",
      "2025-01-28 17:03:46,554 - Node Texts Length: 959, Summarized Text Length: 637\n"
     ]
    },
    {
     "data": {
      "application/vnd.jupyter.widget-view+json": {
       "model_id": "6eae4d2ce95c458a97f61eb408e95eda",
       "version_major": 2,
       "version_minor": 0
      },
      "text/plain": [
       "Batches:   0%|          | 0/1 [00:00<?, ?it/s]"
      ]
     },
     "metadata": {},
     "output_type": "display_data"
    },
    {
     "name": "stderr",
     "output_type": "stream",
     "text": [
      "2025-01-28 17:06:34,609 - Node Texts Length: 1400, Summarized Text Length: 929\n"
     ]
    },
    {
     "data": {
      "application/vnd.jupyter.widget-view+json": {
       "model_id": "f93fb467ba264122859c13fa85d4b98f",
       "version_major": 2,
       "version_minor": 0
      },
      "text/plain": [
       "Batches:   0%|          | 0/1 [00:00<?, ?it/s]"
      ]
     },
     "metadata": {},
     "output_type": "display_data"
    },
    {
     "name": "stderr",
     "output_type": "stream",
     "text": [
      "2025-01-28 17:07:35,762 - Node Texts Length: 398, Summarized Text Length: 168\n"
     ]
    },
    {
     "data": {
      "application/vnd.jupyter.widget-view+json": {
       "model_id": "c31e0ce1b7b84d67afb72346ea941acf",
       "version_major": 2,
       "version_minor": 0
      },
      "text/plain": [
       "Batches:   0%|          | 0/1 [00:00<?, ?it/s]"
      ]
     },
     "metadata": {},
     "output_type": "display_data"
    },
    {
     "name": "stderr",
     "output_type": "stream",
     "text": [
      "2025-01-28 17:08:54,634 - Node Texts Length: 553, Summarized Text Length: 456\n"
     ]
    },
    {
     "data": {
      "application/vnd.jupyter.widget-view+json": {
       "model_id": "7ca0af010c7f4d9a84ed99c876c21fb4",
       "version_major": 2,
       "version_minor": 0
      },
      "text/plain": [
       "Batches:   0%|          | 0/1 [00:00<?, ?it/s]"
      ]
     },
     "metadata": {},
     "output_type": "display_data"
    },
    {
     "name": "stderr",
     "output_type": "stream",
     "text": [
      "2025-01-28 17:09:35,165 - Node Texts Length: 302, Summarized Text Length: 223\n"
     ]
    },
    {
     "data": {
      "application/vnd.jupyter.widget-view+json": {
       "model_id": "0d8768a6eab54172a64b7d892dee84b1",
       "version_major": 2,
       "version_minor": 0
      },
      "text/plain": [
       "Batches:   0%|          | 0/1 [00:00<?, ?it/s]"
      ]
     },
     "metadata": {},
     "output_type": "display_data"
    },
    {
     "name": "stderr",
     "output_type": "stream",
     "text": [
      "2025-01-28 17:10:08,725 - Node Texts Length: 131, Summarized Text Length: 260\n"
     ]
    },
    {
     "data": {
      "application/vnd.jupyter.widget-view+json": {
       "model_id": "d358807dad71416695360520814bd277",
       "version_major": 2,
       "version_minor": 0
      },
      "text/plain": [
       "Batches:   0%|          | 0/1 [00:00<?, ?it/s]"
      ]
     },
     "metadata": {},
     "output_type": "display_data"
    },
    {
     "name": "stderr",
     "output_type": "stream",
     "text": [
      "2025-01-28 17:11:09,783 - Node Texts Length: 364, Summarized Text Length: 482\n"
     ]
    },
    {
     "data": {
      "application/vnd.jupyter.widget-view+json": {
       "model_id": "874b36b985e64328b4f659f6de62cf45",
       "version_major": 2,
       "version_minor": 0
      },
      "text/plain": [
       "Batches:   0%|          | 0/1 [00:00<?, ?it/s]"
      ]
     },
     "metadata": {},
     "output_type": "display_data"
    },
    {
     "name": "stderr",
     "output_type": "stream",
     "text": [
      "2025-01-28 17:12:03,845 - Node Texts Length: 339, Summarized Text Length: 200\n"
     ]
    },
    {
     "data": {
      "application/vnd.jupyter.widget-view+json": {
       "model_id": "5f88357af84e4a8594c246dd7d1d3640",
       "version_major": 2,
       "version_minor": 0
      },
      "text/plain": [
       "Batches:   0%|          | 0/1 [00:00<?, ?it/s]"
      ]
     },
     "metadata": {},
     "output_type": "display_data"
    },
    {
     "name": "stderr",
     "output_type": "stream",
     "text": [
      "2025-01-28 17:13:17,244 - Node Texts Length: 556, Summarized Text Length: 456\n"
     ]
    },
    {
     "data": {
      "application/vnd.jupyter.widget-view+json": {
       "model_id": "4438ebadd447407399807f316fc80511",
       "version_major": 2,
       "version_minor": 0
      },
      "text/plain": [
       "Batches:   0%|          | 0/1 [00:00<?, ?it/s]"
      ]
     },
     "metadata": {},
     "output_type": "display_data"
    },
    {
     "name": "stderr",
     "output_type": "stream",
     "text": [
      "2025-01-28 17:14:05,164 - Node Texts Length: 326, Summarized Text Length: 306\n"
     ]
    },
    {
     "data": {
      "application/vnd.jupyter.widget-view+json": {
       "model_id": "36d479b451244ba5a3e6356ee80b522c",
       "version_major": 2,
       "version_minor": 0
      },
      "text/plain": [
       "Batches:   0%|          | 0/1 [00:00<?, ?it/s]"
      ]
     },
     "metadata": {},
     "output_type": "display_data"
    },
    {
     "name": "stderr",
     "output_type": "stream",
     "text": [
      "2025-01-28 17:15:53,484 - Node Texts Length: 1144, Summarized Text Length: 451\n"
     ]
    },
    {
     "data": {
      "application/vnd.jupyter.widget-view+json": {
       "model_id": "d88986a986c2405e97bb42536a4ca5cb",
       "version_major": 2,
       "version_minor": 0
      },
      "text/plain": [
       "Batches:   0%|          | 0/1 [00:00<?, ?it/s]"
      ]
     },
     "metadata": {},
     "output_type": "display_data"
    },
    {
     "name": "stderr",
     "output_type": "stream",
     "text": [
      "2025-01-28 17:18:47,109 - Node Texts Length: 1105, Summarized Text Length: 924\n"
     ]
    },
    {
     "data": {
      "application/vnd.jupyter.widget-view+json": {
       "model_id": "8eaa31ff72ab415eaa217f5c33cb21be",
       "version_major": 2,
       "version_minor": 0
      },
      "text/plain": [
       "Batches:   0%|          | 0/1 [00:00<?, ?it/s]"
      ]
     },
     "metadata": {},
     "output_type": "display_data"
    },
    {
     "name": "stderr",
     "output_type": "stream",
     "text": [
      "2025-01-28 17:21:15,862 - Node Texts Length: 1050, Summarized Text Length: 969\n"
     ]
    },
    {
     "data": {
      "application/vnd.jupyter.widget-view+json": {
       "model_id": "8e97a7690a5843ce97d83645c0f783a7",
       "version_major": 2,
       "version_minor": 0
      },
      "text/plain": [
       "Batches:   0%|          | 0/1 [00:00<?, ?it/s]"
      ]
     },
     "metadata": {},
     "output_type": "display_data"
    },
    {
     "name": "stderr",
     "output_type": "stream",
     "text": [
      "2025-01-28 17:24:29,022 - Node Texts Length: 1945, Summarized Text Length: 851\n"
     ]
    },
    {
     "data": {
      "application/vnd.jupyter.widget-view+json": {
       "model_id": "e7885f31415f41e29fc72f259598709a",
       "version_major": 2,
       "version_minor": 0
      },
      "text/plain": [
       "Batches:   0%|          | 0/1 [00:00<?, ?it/s]"
      ]
     },
     "metadata": {},
     "output_type": "display_data"
    },
    {
     "name": "stderr",
     "output_type": "stream",
     "text": [
      "2025-01-28 17:25:47,806 - Node Texts Length: 412, Summarized Text Length: 542\n"
     ]
    },
    {
     "data": {
      "application/vnd.jupyter.widget-view+json": {
       "model_id": "7f55644dfe554ec69dc04f0090fcecd5",
       "version_major": 2,
       "version_minor": 0
      },
      "text/plain": [
       "Batches:   0%|          | 0/1 [00:00<?, ?it/s]"
      ]
     },
     "metadata": {},
     "output_type": "display_data"
    },
    {
     "name": "stderr",
     "output_type": "stream",
     "text": [
      "2025-01-28 17:27:11,541 - Node Texts Length: 192, Summarized Text Length: 631\n"
     ]
    },
    {
     "data": {
      "application/vnd.jupyter.widget-view+json": {
       "model_id": "da9bef81b63f40df9e1329e42c2ba8a2",
       "version_major": 2,
       "version_minor": 0
      },
      "text/plain": [
       "Batches:   0%|          | 0/1 [00:00<?, ?it/s]"
      ]
     },
     "metadata": {},
     "output_type": "display_data"
    },
    {
     "name": "stderr",
     "output_type": "stream",
     "text": [
      "2025-01-28 17:28:07,082 - Node Texts Length: 221, Summarized Text Length: 406\n"
     ]
    },
    {
     "data": {
      "application/vnd.jupyter.widget-view+json": {
       "model_id": "5de1863dc8f94572a41cbf1682ffb140",
       "version_major": 2,
       "version_minor": 0
      },
      "text/plain": [
       "Batches:   0%|          | 0/1 [00:00<?, ?it/s]"
      ]
     },
     "metadata": {},
     "output_type": "display_data"
    },
    {
     "name": "stderr",
     "output_type": "stream",
     "text": [
      "2025-01-28 17:28:07,610 - Constructing Layer 1\n",
      "i:\\AI_Project\\raptor\\.venv\\lib\\site-packages\\sklearn\\utils\\deprecation.py:151: FutureWarning: 'force_all_finite' was renamed to 'ensure_all_finite' in 1.6 and will be removed in 1.8.\n",
      "  warnings.warn(\n",
      "i:\\AI_Project\\raptor\\.venv\\lib\\site-packages\\sklearn\\utils\\deprecation.py:151: FutureWarning: 'force_all_finite' was renamed to 'ensure_all_finite' in 1.6 and will be removed in 1.8.\n",
      "  warnings.warn(\n",
      "2025-01-28 17:28:18,424 - Summarization Length: 100\n",
      "2025-01-28 17:33:36,270 - Node Texts Length: 2889, Summarized Text Length: 1437\n"
     ]
    },
    {
     "data": {
      "application/vnd.jupyter.widget-view+json": {
       "model_id": "a454be8118914ca3ad5eed72b5c5e62b",
       "version_major": 2,
       "version_minor": 0
      },
      "text/plain": [
       "Batches:   0%|          | 0/1 [00:00<?, ?it/s]"
      ]
     },
     "metadata": {},
     "output_type": "display_data"
    },
    {
     "name": "stderr",
     "output_type": "stream",
     "text": [
      "2025-01-28 17:38:03,577 - Node Texts Length: 2413, Summarized Text Length: 470\n"
     ]
    },
    {
     "data": {
      "application/vnd.jupyter.widget-view+json": {
       "model_id": "fb2ba0032cfa491e96801af20a40a7e3",
       "version_major": 2,
       "version_minor": 0
      },
      "text/plain": [
       "Batches:   0%|          | 0/1 [00:00<?, ?it/s]"
      ]
     },
     "metadata": {},
     "output_type": "display_data"
    },
    {
     "name": "stderr",
     "output_type": "stream",
     "text": [
      "2025-01-28 17:41:05,075 - Node Texts Length: 1174, Summarized Text Length: 975\n"
     ]
    },
    {
     "data": {
      "application/vnd.jupyter.widget-view+json": {
       "model_id": "b62c460938904a59a6287218e858246b",
       "version_major": 2,
       "version_minor": 0
      },
      "text/plain": [
       "Batches:   0%|          | 0/1 [00:00<?, ?it/s]"
      ]
     },
     "metadata": {},
     "output_type": "display_data"
    },
    {
     "name": "stderr",
     "output_type": "stream",
     "text": [
      "2025-01-28 17:41:58,915 - Node Texts Length: 459, Summarized Text Length: 222\n"
     ]
    },
    {
     "data": {
      "application/vnd.jupyter.widget-view+json": {
       "model_id": "fa2cab5c13e04149ad5636518ad72738",
       "version_major": 2,
       "version_minor": 0
      },
      "text/plain": [
       "Batches:   0%|          | 0/1 [00:00<?, ?it/s]"
      ]
     },
     "metadata": {},
     "output_type": "display_data"
    },
    {
     "name": "stderr",
     "output_type": "stream",
     "text": [
      "2025-01-28 17:45:46,143 - Node Texts Length: 1567, Summarized Text Length: 1429\n"
     ]
    },
    {
     "data": {
      "application/vnd.jupyter.widget-view+json": {
       "model_id": "d2e902ebfafe4c8094efbb36ead671f4",
       "version_major": 2,
       "version_minor": 0
      },
      "text/plain": [
       "Batches:   0%|          | 0/1 [00:00<?, ?it/s]"
      ]
     },
     "metadata": {},
     "output_type": "display_data"
    },
    {
     "name": "stderr",
     "output_type": "stream",
     "text": [
      "2025-01-28 17:46:28,132 - Node Texts Length: 409, Summarized Text Length: 175\n"
     ]
    },
    {
     "data": {
      "application/vnd.jupyter.widget-view+json": {
       "model_id": "1f784595b28842019d8e690f57381fe8",
       "version_major": 2,
       "version_minor": 0
      },
      "text/plain": [
       "Batches:   0%|          | 0/1 [00:00<?, ?it/s]"
      ]
     },
     "metadata": {},
     "output_type": "display_data"
    },
    {
     "name": "stderr",
     "output_type": "stream",
     "text": [
      "2025-01-28 17:46:28,394 - Constructing Layer 2\n",
      "2025-01-28 17:46:28,396 - Stopping Layer construction: Cannot Create More Layers. Total Layers in tree: 2\n",
      "2025-01-28 17:46:28,430 - Successfully initialized TreeRetriever with Config \n",
      "        TreeRetrieverConfig:\n",
      "            Tokenizer: <Encoding 'cl100k_base'>\n",
      "            Threshold: 0.5\n",
      "            Top K: 5\n",
      "            Selection Mode: top_k\n",
      "            Context Embedding Model: EMB\n",
      "            Embedding Model: <__main__.SBertEmbeddingModel object at 0x000001B3EAABC1F0>\n",
      "            Num Layers: None\n",
      "            Start Layer: None\n",
      "        \n"
     ]
    }
   ],
   "source": [
    "RA.add_documents(text)"
   ]
  },
  {
   "cell_type": "code",
   "execution_count": 4,
   "id": "b5f30bb1",
   "metadata": {},
   "outputs": [
    {
     "name": "stderr",
     "output_type": "stream",
     "text": [
      "2025-01-28 18:01:57,129 - Using collapsed_tree\n"
     ]
    },
    {
     "data": {
      "application/vnd.jupyter.widget-view+json": {
       "model_id": "d7471831ee5a44d2baa32f9264992832",
       "version_major": 2,
       "version_minor": 0
      },
      "text/plain": [
       "Batches:   0%|          | 0/1 [00:00<?, ?it/s]"
      ]
     },
     "metadata": {},
     "output_type": "display_data"
    },
    {
     "name": "stdout",
     "output_type": "stream",
     "text": [
      "Answer:  ('هشتاد و چهارمین خرید زمستانی استقلال سهرابیان  بود.', [{'node_index': 2, 'layer_number': 0}, {'node_index': 92, 'layer_number': 0}, {'node_index': 57, 'layer_number': 0}, {'node_index': 73, 'layer_number': 0}, {'node_index': 28, 'layer_number': 0}, {'node_index': 6, 'layer_number': 0}, {'node_index': 15, 'layer_number': 0}, {'node_index': 25, 'layer_number': 0}, {'node_index': 67, 'layer_number': 0}, {'node_index': 19, 'layer_number': 0}])\n"
     ]
    }
   ],
   "source": [
    "question = \"خریدهای زمستانی استقلال چه کسانی بودند؟\"\n",
    "answer = RA.answer_question(question=question, return_layer_information=True)\n",
    "print(\"Answer: \", answer)"
   ]
  },
  {
   "cell_type": "code",
   "execution_count": 7,
   "id": "f637b58b",
   "metadata": {},
   "outputs": [
    {
     "name": "stderr",
     "output_type": "stream",
     "text": [
      "2025-01-28 17:47:21,635 - Tree successfully saved to demo/football360\n"
     ]
    }
   ],
   "source": [
    "SAVE_PATH = \"demo/football360\"\n",
    "RA.save(SAVE_PATH)"
   ]
  },
  {
   "cell_type": "code",
   "execution_count": 5,
   "id": "51dab410",
   "metadata": {},
   "outputs": [
    {
     "data": {
      "application/vnd.plotly.v1+json": {
       "config": {
        "plotlyServerURL": "https://plot.ly"
       },
       "data": [
        {
         "hoverinfo": "text",
         "marker": {
          "color": "#6175c1",
          "line": {
           "color": "rgb(50,50,50)",
           "width": 1
          },
          "size": 18,
          "symbol": "circle-dot"
         },
         "mode": "markers",
         "name": "nodes",
         "opacity": 0.8,
         "text": [
          "Node Index: -1, Node Text: TOP_ROOT_NODE",
          "Node Index: 119, Node Text: این متن راجع به دو موضوع مختلف است: اولاً چالش‌های ل<br>یگ فوتبال ایران وDifficulty‌های بازیکنان و تیم‌ها، و ثانیاً نقل‌و حملات بازیکنان<br> فوتبال ایران در فصل 94-95.<br><br>در مورد چالش‌های لیگ فوتبال ایران، نویسنده می‌گوید که بازی‌های امسال بسیار سخت ب<br>وده و بسیاری از تیم‌ها یکدیگر را closely kennیده‌اند و امتیاز گرفتن از هر 팀 به ی<br>ک امتیاز هم سخت است. همچنین، Writer اشاره کرده و این موضوع را «ناباورانه و عجیب»<br> می‌گوید که آزاد امیرارسلان مطهری از یک تیم مدعی در لیگ برتر به تیمی در قعر جدول<br> لیگ آزادگان سقوط کرده‌است.<br><br>در مورد نقل‌و حملات بازیکنان فوتبال ایران در فصل 94-95،Writer به نقل از یک منبع،<br> می‌گوید که مهران احمدی، 27 ساله، با عقد قراردادی دو ساله به تیم استقلال پیوست و<br> ششمین خرید زمستانی استقلال محسوب می‌شود. همچنین، Writer می‌افirmedthat Ahmadie <br>در لیست Neratimesh است.<br><br>Writer همچنین به نقل از یک منبع، می‌گوید که سهرابیان به عنوان چهارمین خرید زمستا<br>نی استقلال معرفی می‌شود و به دلیل جذب آرمین سهرابیان، فرآیند انتقال عارف غلامی ب<br>ه استقلال را منفی می‌کند. در این متن، امیرارسلان را در کنار محبوبیت آبی‌ها، از ج<br>مله محبوبیت خود درวง موسیقی و گیتاریستی،Comparison می‌کند.<br><br>در meanwhile ، مهدی رحمتی، بازیکن سابق و حالا مربی تیم استقلال خوزستان، در این م<br>تن به یک مورد اشاره کرده‌است که قبل از آمدن او در 팀 استقلال، مهدی رحمتی تصمیم به<br> جدایی گرفت. مهدی رحمتی در این متن बतává rằng او قبل از آمدن himself به شوماش‌تe<br>hrان را ترک کرد و در لیست محبوب ترین بازیکنان شوماش تेहरان قرار گرفت.<br><br>در meanwhile ، بازیکنان دیگر از تیم استقلال جدا شدند و به 팀 های دیگر منتقل شدند <br>.  از آن جمله گوستاوو بلانکو، گئیل کاکوتا، آرمان رمضانی و میلاد زکی‌پور که از تی<br>م استقلال جدا شدند.   بिफوما که در این فصل به عنوان گل ساز مقابل تیم های چادرملو<br> اردakan ، مس رفسنجان و گلگهر سیرجان بازی کرد .<br><br>در این متن، بر основی فوتبال وspecifically bóngسازید است. در مورد اتفاقاتی که در<br> بازی رخ می‌دهد، تأکید بر آن دارد که تمام بازیکنان به دنبال resultado گرفتن هستن<br>د و فشار زیاد بر آنها قرار دارد.  بازیکنی را با نام \"عرضه گل‌گهر\" برای یک بازی م<br>ی‌خواهد که او می‌تواند روی باز خود انتخاب کند وfuture را برای خود تدوین کند. این<br> بازیکن نیز در تلاش برای پیشرفت است و همیشه یک chọn‌GOOD است که می‌تواند درuture<br> برای خود تاثیرگذار باشد.<br><br>در meanwhile، Manager‌های باشگاه استقلال در حال negotiations و معاوضه هستند تا ب<br>ازیکنی از بین رقبا جذب کنند",
          "Node Index: 106, Node Text: در این متن، پرسپولیس، یک باشگاه فوتبال ایران، در یک <br>بازی حساس با تراکتور، یک تیم شناخته‌شده اخراجی، قرار گرفت. این بازی برای سومین ب<br>ار در فصل Presspolis به این صورت بود که mereka مجبور شد دقایقی را با یک بازیکن ک<br>م‌تر ادامه دهد.<br><br>درขณะ же Samei Ramjani, یک بازیکن پرسپولیس, درConditionی با استقلال، توافق کرد و<br> توانایی بازی در پست دفاع میانی وDefense Left را دارد.",
          "Node Index: 42, Node Text: تنها نقطه تاریک پرسپولیس در مصاف با تراکتور؛ بازهم کا<br>رت قرمز در یک بازی حساس",
          "Node Index: 43, Node Text: پرسپولیس برای سومین‌بار در این فصل مقابل یک تیم شناخت<br>ه‌شده اخراجی داد و مجبور شد دقایق قابل توجهی را با یک بازیکن کم‌تر ادامه دهد",
          "Node Index: 60, Node Text:  در شرایطی کوجو و آزادی آبی‌پوش شدند که در سوی مقابل،<br> آرمان رمضانی و گوستاوو بلانکو قراردادشان با استقلال را فسخ کردند",
          "Node Index: 69, Node Text: سهرابیان در شرایطی با استقلال به توافق رسید که او هم <br>توانایی بازی در پست دفاع میانی و هم در پست دفاع چپ را دارد",
          "Node Index: 108, Node Text: در این متن، نویسنده به مورد چالش‌های بازی با استقلال<br> خوزستان اشاره کرده و گفت که این تیم در خانه خود، بسیاری از تیم‌های بزرگ را شکست<br> داده‌است.Writer همچنین می‌گوید که بازی‌های امسال بسیار سخت بوده و بسیاری از تیم<br>‌ها یکدیگر را closely kennیده‌اند و امتیاز گرفتن از هر 팀 به یک امتیاز هم سخت است<br>.<br><br>در ادامه، نویسنده می گوید که現在 कई تیم برای قهرمانی و برخی دیگر برای کسب سهمیه در<br> لیگ آزادگان تلاش están و این امر بسیار difícاست. Writer همچنین به سقوط آزاد امی<br>رارسلان مطهری از یک تیم مدعی در لیگ برتر به تیمی در قعر جدول لیگ آزادگان اشاره م<br>ی‌کند و این اتفاق را «ناباورانه و عجیب» می‌گوید.<br><br>به طور کلی، نویسنده در این متن با چالش‌های موجود در لیگ فوتبال ایران وDifficulty<br>‌های که بازیکن‌ها و تیم‌ها را αντι‌-face می‌کنند، مواجه است.",
          "Node Index: 8, Node Text:  بازی با استقلال خوزستان هم بازی سنگینی بود و بازی کرد<br>ن در زمین این تیم سخت است، دیدید که این تیم در خانه خود خیلی از تیم‌های بزرگ را <br>برده",
          "Node Index: 98, Node Text:  سقوط آزاد امیرارسلان مطهری از یک تیم مدعی در لیگ برت<br>ر به تیمی در قعر جدول لیگ آزادگان، آن‌هم در فاصله کمتر از یک فصل، ناباورانه و عج<br>یب است",
          "Node Index: 30, Node Text:  بازی‌های امسال خیلی سخت شدند و یعنی همه تیم‌ها به یک<br>دیگر نزدیک شدند و امتیاز گرفتن از هر تیم در حد یک امتیاز هم سخت است",
          "Node Index: 31, Node Text:  الان هم یک سری از تیم‌ها برای قهرمانی می‌جنگند و برخ<br>ی دیگر برای کسب سهمیه  واقعا امتیاز گرفتن در این وضعیت سخت است",
          "Node Index: 110, Node Text: این متن tentang دو موضوعdifferent است: اولین مورد مر<br>بوط به فخرالدینی، و دوم مربوط به مهران احمدی و 계약ش با تیم استقلال.<br><br>در مورد فخرالدینی، yazar این متن می‌گوید که او با توجه به سنین خود (34 سال) به ع<br>نوان یک مدافع سن بالایی، اما با تجربه خوبی و آمادگی بالایی، می‌تواند به کمک گل‌گ<br>هر来‌اید. همچنین، از مهم بودن بازی‌های اول برای همه تیم‌ها در sport به‌طور کلی، و<br> اینکه این دو بازی inaugural for گل‌گهر، برای شرایط جدولی کمک می‌کنند.<br><br>متن بعدی مربوط به مهران احمدی و 계약ش با استقلال. در این متن،Writer به نقل از یک م<br>نبع، می‌گوید که Ahmedi، 27 ساله، با عقد قراردادی دو ساله به تیم استقلال پیوست. ه<br>مچنین، Writer می‌افirmedthat Ahmadie ششمین خرید زمستانی استقلال محسوب می‌شود.<br><br>در کل، این متن در مورد دو موضوعdifferent است: فخرالدینی و مهران احمدی.",
          "Node Index: 2, Node Text: فخرالدینی اگر چه ۳۴ ساله است و این برای یک مدافع سن با<br>لایی محسوب می‌شود اما آمادگی بالای او به همراه تجربه خوبی که در تیم‌های مختلف کس<br>ب کرده، بدون تردید به کمک گل‌گهر خواهد آمد",
          "Node Index: 37, Node Text:  مهران احمدی بازیکن 27 ساله تیم خیبرخرم آباد با عقد ق<br>راردادی دو ساله به استقلال پیوست  احمدی ششمین خرید زمستانی استقلال محسوب می‌شد",
          "Node Index: 5, Node Text: معمولا بازی اول برای همه تیم‌ها سخت است چون تیم‌ها نزد<br>یک به 20 روز از شرایط بازی دور بودند و بردن در بازی‌های اول خیلی مهم است و خیلی <br>به تیم کمک خواهد کرد",
          "Node Index: 6, Node Text: *این دو بازی آغازین تو برای گل‌گهر چطور بود؟  این دو ب<br>ازی هم به شرایط جدولی ما خیلی کمک کرد",
          "Node Index: 15, Node Text:  این باشگاه و این تیم در چند سال گذشته نشان داده که ب<br>اشگاه بزرگی است و امکانات لازم را برای ارتقای جایگاه خود دارد",
          "Node Index: 28, Node Text:  من خودم اینجا از همه بیشتر می‌خواهم تفکرات سرمربی را<br> پیاده کنم و من دنبال این هستم که بدانم سرمربی از من چه می‌خواهد",
          "Node Index: 111, Node Text: در این متن، سهرابیان به عنوان چهارمین خرید زمستانی ا<br>ستقلال معرفی می‌شود و به دلیل جذب آرمین سهرابیان، فرآیند انتقال عارف غلامی به اس<br>تقلال را منفی می‌کند. همچنین به mentions می‌شود که امیرارسلان در فوتبال ایران، ن<br>اباورانه سقوط کرده‌است و این موضوع از طریق یک вопрос برای پاره کردن معمای pourqu<br>oi امیرارسلان بهsuchی شتابان می‌رود، مورد بحث قرار می‌گیرد.<br><br>در ادامه متن، امیرارسلان را در کنار محبوبیت آبی‌ها، از جمله محبوبیت خود درวง موس<br>یقی و گیتاریستی،Comparison می‌کند.",
          "Node Index: 25, Node Text:  تیمی بسیار دوست‌داشتنی است و انشالله بهترین نتایج را<br> بتوانند بگیرند *نظرت درباره ادامه فصل و کار کردن با آقای تارتار در سیرجان چیست؟",
          "Node Index: 67, Node Text: سهرابیان بعد از جوئل کوجو، محمدرضا آزادی و صالح حردان<br>ی، چهارمین خرید زمستانی استقلال محسوب می‌شود و با توجه به جذب آرمین سهرابیان، به<br> نظر می‌رسد که فرآیند انتقال عارف غلامی به استقلال منتفی شده باشد",
          "Node Index: 92, Node Text: سقوط آزاد ناباورانه امیرارسلان در فوتبال ایران؛ «به ک<br>جا چنین شتابان آقای گیتاریست؟» شورش امیرارسلان علیه محبوبیت نزد آبی‌ها",
          "Node Index: 112, Node Text: این متن tentang نقل‌و حملات بازیکنان فوتبال ایران در<br> فصل 94-95 discussing می‌شود. مهدی رحمتی، بازیکن سابق و حالا مربی تیم استقلال خو<br>زستان، در این متن به یک مورد اشاره کرده‌است که قبل از آمدن او در تیم استقلال، مه<br>دی رحمتی تصمیم به جدایی گرفت. مهدی رحمتی در این متن बतává rằng او قبل از آمدن hi<br>mself به شوماش‌تehrان را ترک کرد و در لیست محبوب ترین بازیکنان شوماش تेहरان قرار<br> گرفت. <br><br>در meanwhile ، بازیکنان دیگر از تیم استقلال جدا شدند و به تیم های دیگر منتقل شدن<br>د . <br>از آن جمله گوستاوو بلانکو، گئیل کاکوتا، آرمان رمضانی و میلاد زکی‌پور که از تیم ا<br>ستقلال جدا شدند.  <br>بифوما که در این فصل به عنوان گل ساز مقابل تیم های چادرملو اردakan ، مس رفسنجان <br>و گلگهر سیرجان بازی کرد .",
          "Node Index: 38, Node Text:  در آن‌سو گوستاوو بلانکو، گائل کاکوتا، آرمان رمضانی و<br> میلاد زکی‌پور از استقلال جدا شدند  سامان فلاح هم به صورت قرضی به ملوان رفت",
          "Node Index: 77, Node Text: بیفوما که کار خود در فوتبال ایران را با گلزنی برابر ا<br>ستقلال تهران آغاز کرد، سابقه گلزنی برابر شمس‌آذر قزوین و مس رفسنجان را هم دارد و<br> در نقش گل‌ساز مقابل تیم‌های چادرملو اردکان، مس رفسنجان و گل‌گهر سیرجان هم درخشی<br>ده و هفته گذشته، روی گل تیمش برابر آلومینیوم اراک هم نقش‌آفرین بود",
          "Node Index: 17, Node Text:  ممنونم از کادرفنی گل‌گهر که به من اعتقاد داشتند و من<br> را در لیستشان گذاشتند  انشالله بتوانم با عملکردم، جبران کنم و بتوانم برای تیم م<br>فید باشم",
          "Node Index: 18, Node Text: *مهدی رحمتی گفته بود که تو پیش از آمدنش تصمیم به جدای<br>ی گرفتی، درست است؟",
          "Node Index: 50, Node Text: گیورگی گولسیانی  سرخ‌پوشان تا زمان اخراج، عملکرد خوبی<br> داشت اما بعد از آن شاهد افت این تیم بودیم",
          "Node Index: 82, Node Text: گل‌گهر سیرجان، تیم دست به نقد برای خرید تیوی بیفوما ا<br>ست و گفته می‌شود مطابق با درخواست مهدی تارتار، سیرجانی‌ها وارد مذاکره با بیفوما <br>و باشگاه استقلال خوزستان شده‌اند و اگر در زمینه مسائل مالی به توافق برسند، انتقا<br>ل بیفوما به جمع سرمه‌ای‌پوشان سیرجانی دور از ذهن نیست",
          "Node Index: 21, Node Text: با این حال وقتی به نیم‌فصل رسیدیم، تصمیم به جدایی گرف<br>تم و همانطور که آقای رحمتی گفت، درست روز قبل از آمدن ایشان به شمس‌آذر من این تصم<br>یم را گرفتم و کارهای جدایی را انجام دادم",
          "Node Index: 23, Node Text:  من دیگر تصمیم را گرفته بودم و جایی که دیگر نتوانم کم<br>ک کنم، ترجیح می‌دهم از تیم جدا شوند  من این تصمیم را گرفتم و کارهایش را انجام دا<br>دیم",
          "Node Index: 24, Node Text:  من دیگر تصمیمم را گرفته بودم و رفتم  به هر حال جوان‌<br>ها الان باید به تیم کمک کنند و آرزوی موفقیت برای این تیم خوب و جوان دارم",
          "Node Index: 29, Node Text:  ما می‌خواهیم در ادامه فصل نتایج بهتری بگیریم",
          "Node Index: 94, Node Text: مطهری از ابتدای فصل به دنبال انتخاب تیم جدید بود و نا<br>م او در حوالی تیم‌های مختلف از جمله هوادار و مس رفسنجان به گوش می‌رسید",
          "Node Index: 114, Node Text: در این متن، بر основی فوتبال وspecifically bóngسازید<br> است. در مورد اتفاقاتی که در بازی رخ می‌دهد، تأکید بر آن دارد که تمام بازیکنان ب<br>ه دنبال نتیجه گرفتن هستند و فشار زیاد بر آنها قرار دارد.<br><br>بازیکنی را با نام \"عرضه گل‌گهر\" برای یک بازی می‌خواهد که او می‌تواند روی باز خود<br> انتخاب کند وfuture را برای خود تدوین کند. این بازیکن نیز در تلاش برای پیشرفت اس<br>ت و همیشه یک انتخاب خوب دارد که می‌تواند درuture برای خود تاثیرگذار باشد.<br><br>در مورد انتقال مهرداد محمدی از باشگاه استقلال به لیست نفرات تیم، مدیران باشگاه ا<br>ستقلال روز قبل از فعالیت نقل و انتقالاتی خود ادامه دادند و معاوضه مهمی بین دو با<br>شگاه استقلال و سپاهان انجام شد. در این معاوضه، مهرداد محمدی که previously عضو اس<br>تقلال بود اما با جدایی پرماجرایی به لیست نفرات نساجی می‌رسد، دوباره با قراردادی <br>یک سال و نیمه به جمع آبی‌پوشان پایتخت بازگشت.<br><br>در meanwhile، WINGER فرانسوی-کنگویی که بعد از گلزنی برابر استقلال تهران، قرارداد<br> خود را تمدید کرد، حالا به یک مهره درآمدزا برای استقلال خوزستان تبدیل شده است و <br>مدیران باشگاه استقلال درصدد هستند تا با دریافت 500 هزار دلار، رضایت‌نامه بیفوما <br>را صادر کنند.<br><br>مدیران باشگاه استقلال نیز در مورد جذب تیوی بیفوما تمایل دارند، اما اعتقادشان بر <br>این است که رقم درخواستی بیفوما بیش از رقمی است که آن‌ها برای جذب بازیکن خارجی در<br> نظر گرفته‌اند. aquatic های خوزستانی 500 هزار دلار می‌خواهند شانس گل‌گهر برای جذ<br>ب بیفوما را داشته باشند.<br><br>در meanwhile، بیشتر رقبا پیشنهاد استقلال هم روی میز هستند، اما نتیجتا این به این<br> می‌ رسد کهManager‌های باشگاه استقلال در حال negotiations و معاوضه هستند تا بازی<br>کنی از بین رقبان جذب کنند",
          "Node Index: 64, Node Text: در روزهای گذشته رایزنی‌های گسترده‌ای میان مدیران باشگ<br>اه استقلال و نساجی برای انتقال آرمین سهرابیان انجام شده بود که سرانجام جابه‌جایی<br> سهرابیان رسمی شد؛ آن‌هم در شرایطی‌که این مدافع باتجربه در ابتدای فصل عضو استقلا<br>ل بود اما جدایی پرماجرایی از استقلال به مقصد نساجی داشت و حالا او بعد از رایزنی‌<br>های انجام‌شده دوباره با قراردادی یک سال و نیمه به جمع آبی‌پوشان پایتخت بازگشت",
          "Node Index: 39, Node Text: بازگشت مهرداد محمدی باشگاه استقلال در بیانیه خود دربا<br>ره فعالیت‌های نقل‌وانتقالاتی از بازگشت مهرداد محمدی به لیست نفرات تیم خبر داد",
          "Node Index: 12, Node Text: در مورد اتفاقات بازی، هم واضح است که این فوتبال است و<br> همیشه اتفاقاتی پیش می‌آید  همه به دنبال نتیجه گرفتن هستند و فشار روی بازیکنان ز<br>یاد است",
          "Node Index: 14, Node Text: وقتی پیشنهاد گل‌گهر برای من رسید، با روی باز کاملا ان<br>تخاب کردم",
          "Node Index: 16, Node Text:  من هم دنبال پیشرفت هستم و سعی می‌کنم همیشه انتخابی د<br>اشته باشم که بتوانم در آینده برای خودم تاثیرگذار باشد",
          "Node Index: 80, Node Text: وینگر فرانسوی-کنگویی که بعد از گلزنی برابر استقلال ته<br>ران، قرارداد خود را به مدت 2 فصل دیگر تمدید کرد، حالا به یک مهره درآمدزا برای اس<br>تقلال خوزستان تبدیل شده و گفته می‌شود که مدیران باشگاه خوزستانی درصدد آن هستند ت<br>ا با دریافت 500 هزار دلار، رضایت‌نامه بیفوما را صادر کنند",
          "Node Index: 84, Node Text: مدیران باشگاه استقلال هم نسبت به جذب تیوی بیفوما تمای<br>ل دارند اما اعتقادشان بر این است که رقم درخواستی بیفوما بیش از رقمی است که آن‌ها<br> برای جذب بازیکن خارجی در نظر گرفته‌اند",
          "Node Index: 86, Node Text: آبی‌های خوزستانی 500 هزار دلار می‌خواهند شانس گل‌گهر <br>برای جذب بیفوما؛ بیشتر از همه رقبا پیشنهاد استقلال هم روی میز است اما ",
          "Node Index: 62, Node Text: مدیران باشگاه استقلال روز گذشته به فعالیت نقل‌وانتقال<br>اتی خود ادامه دادند و یک معاوضه مهم میان دو باشگاه استقلال و سپاهان انجام شد",
          "Node Index: 120, Node Text: The text provides information about the Persian club<br> Persepolis, specifically their recent match against Traktor, where they receive<br>d a red card in the 76th minute of the game. The team was trailing by one goal a<br>t that point and was led by coach Juan Carlos Garrido. In another incident, a mi<br>dfielder for Persepolis committed a careless mistake that left his team down to <br>10 players in the first half of their match against Sepahan.<br><br>Additionally, the text mentions announcements about four signings for Esteghlal <br>FC during the winter season, including reports about Armin Sahrabiyan's return a<br>nd Amirarslan football player. It seems that these announcements are related to <br>the final day of Winter Market in Tehran, Iran.<br><br>The text also discusses transfer news and agreements between teams in the League<br> 1 of Iran. Mohamedi was removed from the Esteghlal team due to injury, and it i<br>s possible that he will return to the team after recovering. Masoud Jamase, a fo<br>reign player in Team, has become an essential part of the Liga.<br><br>Furthermore, the text mentions the transfer of Mehdi Limouchi to Halftime in Lea<br>gue 1, which led to Garido's exile from the league. A contract between Esteghlal<br> and Sepahan has been signed by Armin Sahrabiyan, who will join the team after b<br>eing removed from Qaimshahri. Salih Hardani has also returned to Esteglhald afte<br>r a loan spell with Sepahan.<br><br>Other topics discussed in the text include:<br><br>* The departure of Amirarslan football player from the team<br>* Tiwi Beifoma's potential transfer to Esteghlal<br>* The contract cancellation of Masoud Jamshedi due to disputes with the club's m<br>anagement<br>* Armin Sahrabiyan's return to Esteghlal after being removed from Qaimshahri<br><br>The text also provides information about the season previous Esteghlal, includin<br>g their performance in League 1 and other competitions. Additionally, it discuss<br>es Amirarslan football player's career and his transfer history.<br><br>Overall, the text appears to be a collection of news and updates related to the <br>Persian club Persepolis and the Iranian team Esteghlal FC, covering various aspe<br>cts such as transfers, contracts, and league performances.",
          "Node Index: 104, Node Text: دetailed summary of the text:<br><br>The only dark spot for Persepolis was their match against Traktor; once again, t<br>hey received a red card in a crucial game on September 8th, 1403 at 20:30. A vet<br>eran midfielder from Persepolis was sent off by referee Hussein Kazemi in the 76<br>th minute of the match after making a controversial decision to remove him from <br>the game.<br><br>The experienced defender from Persepolis made a careless mistake and was shown a<br> red card for doing so. The team, under coach Juan Carlos Garrido, were trailing<br> by one goal at that point.<br><br>In another incident, a 25-year-old midfielder for Persepolis committed a foolish<br> error that left his team down to 10 players in the first half of their match ag<br>ainst Sepahan.",
          "Node Index: 41, Node Text: تنها نقطه تاریک پرسپولیس در مصاف با تراکتور؛ بازهم کا<br>رت قرمز در یک بازی حساس 08 بهمن 1403 ساعت 20:30 212 نظر",
          "Node Index: 52, Node Text: هافبک 25 ساله پرسپولیس در سومین بازی حساس این فصل با <br>اشتباهی بدهنگام تیمش را در نیمه نخست 10 نفره کرد",
          "Node Index: 46, Node Text: هافبک باتجربه پرسپولیس در دقیقه 76 دیدار رفت برابر تر<br>اکتور توسط وحید کاظمی و طی تصمیمی جنجالی از زمین اخراج شد و این اتفاق در حالی رخ<br> داد که تیم تحت هدایت خوان‌کارلوس گاریدو با یک گل عقب بود",
          "Node Index: 49, Node Text: مدافع باتجربه پرسپولیس در مصاف با سپاهان بی‌احتیاطی ب<br>دهنگامی را انجام داد و در دقیقه 35 با کارت قرمز مواجه شد و از زمین بیرون رفت تا <br>دیدار با طلایی‌پوشان وارد فاز جدیدی شود",
          "Node Index: 107, Node Text: تکzie Ramesh، یک خبرنگارSports، در مورد بازی‌های for<br>thcoming و اهداف تیم ملی فوتبال ایران برای مسابقات آینده spoke. <br><br>دلایل و اهداف این دیدbach را در ادامه می‌توانید पढید.<br><br>مهم‌ترین موضوع این گفتگو این است کهTeam IranFootball به‌طور کلی از نتایج مناسب د<br>ر سه بازی بعدی خودหวار می‌کند تا شرایط خود را در جدول مسابقات بهبود بخشند. <br><br>واحد دیگر این موضوع مربوط به بازی‌های مسابقه‌ای است که Team ایران در آن‌ها به سه<br>میه آسیایی می‌پردازند.",
          "Node Index: 32, Node Text:  انشالله بتوانیم در سه بازی بعدی نتیجه لازم را بگیریم<br> و شرایط خودمان را در جدول بهتر کنیم و قطعا یک نیم‌نگاه ویژه به سهمیه آسیایی دار<br>یم",
          "Node Index: 47, Node Text: سروش رفیعی",
          "Node Index: 63, Node Text: رسمی‌شدن بازگشت آرمین به استقلال",
          "Node Index: 109, Node Text: در این متن، announcements رسمی از چهارمین خرید زمستا<br>نی استقلال足球คลوب announced شده است. همچنین reports از بازگشت سهرابیان، TiVi در t<br>hree roadways influential را report کرده are و also news about Amirarslan footba<br>ll player، که به عنوان \"free-mason\" معروف بود، در football arena Iran، به‌عنوان <br>یک \"nabavdar\" (buyer) در market mentioned شده است.<br><br>It seems that these announcements and reports are related to the final day of Wi<br>nter Market in Tehran, Iran. The news is likely about the fourteenth purchase of<br> Esteghlal FC team during winter season.<br><br>However, without more information or context, it's difficult to provide a more d<br>etailed summary.",
          "Node Index: 72, Node Text: بیفوما، چهره ویژه روز پایانی بازار زمستانه؛ تیوی در س<br>ه راهی سرنوشت‌ساز 08 بهمن 1403 ساعت 09:30 60 نظر",
          "Node Index: 73, Node Text: بیفوما، چهره ویژه روز پایانی بازار زمستانه؛ تیوی در س<br>ه راهی سرنوشت‌ساز",
          "Node Index: 87, Node Text: سقوط آزاد ناباورانه امیرارسلان در فوتبال ایران؛ «به ک<br>جا چنین شتابان آقای گیتاریست؟» 08 بهمن 1403 ساعت 10:00 75 نظر",
          "Node Index: 56, Node Text: رونمایی رسمی از چهارمین خرید زمستانی استقلال؛ سهرابیا<br>ن به خانه بازگشت 08 بهمن 1403 ساعت 21:03 372 نظر",
          "Node Index: 57, Node Text: رونمایی رسمی از چهارمین خرید زمستانی استقلال؛ سهرابیا<br>ن به خانه بازگشت",
          "Node Index: 113, Node Text: این متن tentangTransfer و توافق‌های جدید بینTeams در<br> لیگ برتر ایران است. <br><br>Firstly، یک بازیکن به نام Mohamedi به دلیل مصدومیت از لیستEstقلال خارج شده بود و<br> این احتمال وجود دارد که او برای بازگشایی از مصادفتا می‌تواند به تیمEstقلال بازگ<br>ردد.<br><br>Secondly، مسعود Jamase، بازیکن خارجی Team در Liga استقلال، در این League ماندنی <br>شده است. <br><br>Thirdly، یک گل به نام Mehdi Limouchi به Halftime در لیگ برتر توسط Mohamed Khaled<br>ool occurred و این باعث شد که Garido beexiled از League be.<br><br>Fourthly، یک توافق بین دو تیم Estقلال و نساجی، Armin Sahrabiyan را از جمع قرمزپو<br>شان قائمشهری جدا کرد و به جمع آبی پوشان Paitch بازگشت و شاگرد پیتسو موسیمانه شد.<br><br>Fifthly، یک توافق بین دو تیم Estقلال و سپاهان، صالح Hardani را مجدداً به جمع آبی<br> پوشان پایتخت بازگشت و Miller Zakpour را مجدداً به سپاهان بازگشت تا در ادامه فصل<br> Jari کارش را در جمع شاگردان Patis Cartroon دنبال کند.<br><br>Sixthly، Armin Sahrabiyan که امروزه در ترکیب نساجی برابر Alumunium Arak هم به می<br>دان رفت، بعد از انجام این بازی، officially از جمع قرمزپوشان قائمشهری جدا شد و با<br> امضای قراردادی رسمی به Estقلال بازگشت تا در ادامه لیگ 24 کارش را در Collect آبی<br> پوشان پایتخت ادامه بدهد.<br><br>Seventhly، Tiwi Beifoma در آستانه جدایی از Estقلال Khuzestan است، اما همچنان باش<br>گاه Folad هم درصدد توافق با تیم هم‌anni خود است و Tiwi Beifoma را به عنوان دیگر <br>مشتری خرید Tiwi Beifoma در پنجره زمستانی یاد می‌کند.<br><br>Finally، این پروسه انتقال Biifoma به Estقلال Tehran پیچیده‌تر از 2 Team دیگر به <br>نظر می‌رسد اما احتمالاً طی ساعات future خبر جدایی بیفوما از استقلال خوزستان به ص<br>ورت رسمی اعلام خواهد شد و باید دید از میان 3 مقصد مذکور، ستاره گلزن و گل ساز آبی<br> پوشان Ahvazi کدام تیم را انتخاب می‌کند.",
          "Node Index: 66, Node Text: آرمین سهرابیان که امروز در ترکیب نساجی برابر آلومینیو<br>م اراک هم به میدان رفت، بعد از انجام این بازی، رسماً از جمع قرمزپوشان قائمشهری ج<br>دا شد و با امضای قراردادی رسمی به استقلال بازگشت تا در ادامه لیگ بیست‌وچهارم کار<br>ش را در جمع آبی‌پوشان پایتخت ادامه بدهد",
          "Node Index: 40, Node Text:  محمدی به دلیل مصدومیت از لیست استقلال خارج شده بود  <br>همچنین به نظر می‌رسد که مسعود جمعه بازیکن خارجی استقلال در این تیم ماندنی شده اس<br>ت",
          "Node Index: 81, Node Text: البته که خواسته‌های مالی خودِ این بازیکن باعث شده تا <br>پروسه جدایی‌اش از تیم خوزستانی پیچیده شود اما حالا در روز پایانی فعالیت بازار زم<br>ستانه، گفته می‌شود که تیوی بیفوما در آستانه جدایی از استقلال خوزستان است",
          "Node Index: 51, Node Text:  ماحصل برتری عددی سپاهان، گل مهدی لیموچی در نیمه دوم <br>بود که باعث شد گاریدو در آستانه اخراج قرار بگیرد محمد خدابنده‌لو",
          "Node Index: 83, Node Text: ضمن آنکه همچنان باشگاه فولاد هم درصدد توافق با تیم هم<br>‌استانی خود است و از قرمزپوشان اهوازی به عنوان دیگر مشتری خرید تیوی بیفوما در پن<br>جره زمستانی یاد می‌شود",
          "Node Index: 85, Node Text: با این اوصاف، پروسه انتقال بیفوما به استقلال تهران پی<br>چیده‌تر از 2 تیم دیگر به نظر می‌رسد اما با این وجود، احتمالاً طی ساعات آینده خبر<br> جدایی بیفوما از استقلال خوزستان به صورت رسمی اعلام خواهد شد و باید دید از میان <br>3 مقصد مذکور، ستاره گلزن و گل‌ساز آبی‌پوشان اهوازی کدام تیم را انتخاب می‌کند",
          "Node Index: 59, Node Text: براساس توافق انجام‌شده میان دو باشگاه استقلال و نساجی<br>، آرمین سهرابیان به جمع آبی‌پوشان پایتخت بازگشت و شاگرد پیتسو موسیمانه شد",
          "Node Index: 61, Node Text: براساس توافق انجام‌شده، صالح حردانی که در ابتدای فصل <br>از استقلال به سپاهان رفته بود، مجدداً به جمع آبی‌پوشان پایتخت بازگشت و در سوی مق<br>ابل، میلاد زکی‌پور که پیش از شروع لیگ بیست‌وچهارم آبی‌پوش شده بود، مجدداً به سپا<br>هان بازگشت تا در ادامه فصل جاری کارش را در جمع شاگردان پاتریس کارترون دنبال کند",
          "Node Index: 115, Node Text: در این متن، نویسنده به.about از sezon پیشین استقلال <br>در لیگ برترFootball ایران اشاره دارد و در مورد چندین موضوع مختلف نظیر اخراج محمد<br> خدابنده‌لو به دلیل ناتوانی او در تیم و تلاش مدیران باشگاه برای فسخ قرارداد مسعو<br>د جمعه، وینگر مهاجم استقلال خوزستان که احتمالاً از این تیم جدا می‌شود، و امیرارس<br>لان مطهری مهاجم سابق استقلال را مورد بحث قرار می‌دهد.<br><br>از جمله موضوعات مورد بحث در متن adalah اخراج محمد خدابنده‌لو به دلیل ناتوانی او <br>در تیم استقلال و اینکه مدیران باشگاه استقلال به دنبال việc جذب بازیکن خارجی باکی<br>فیت‌تر نسبت به جمعه هستند. همچنین، نویسنده به tentang فسخ قرارداد مسعود جمعه اشا<br>ره می‌کند که بر اساس últimasاخبه‌ها،Jamshid Jamshidi Contract of Jamshidi to be <br>cancelled by the club's management.<br><br>دругان دیگر مورد بحث در متن استقلال خوزستان و وینگر Mahaoud Beifouma که به عنوان<br> یکی از چهره‌های ویژه بازار زمستانه در نظر گرفته می‌شود. همچنین، نویسنده به关于 ام<br>یرارسلان مطهری مهاجم سابق استقلال اشاره می‌کند که به دلیل عدم رضایت جواد نکونام <br>از سطح فنی او، راهی تراکتور تبریز شد و به نظر می‌رسید که بتواند در جمع سرخ‌پوشان<br> تبریزی، عرض‌اندام کند.<br><br>مطوهری همچنین در یک دهه اخیر نزدیک به 300 بازی در لیگ برتر، جام حذفی، لیگ قهرمان<br>ان آسیا و سوپرجام فوتبال ایران با لباس تیم‌های نفت تهران، ذوب‌آهن اصفهان، استقلا<br>ل تهران و تراکتور تبریز انجام داد که 64 گل از جمله 4 گل او در داربی پایتخت در کا<br>رنامه این مهاجم گلزن دیده می‌شود.",
          "Node Index: 99, Node Text: مطهری در طول یک‌دهه اخیر نزدیک به 300 بازی در لیگ برت<br>ر، جام حذفی، لیگ قهرمانان آسیا و سوپرجام فوتبال ایران با لباس تیم‌های نفت تهران،<br> ذوب‌آهن اصفهان، استقلال تهران و تراکتور تبریز انجام داد که 64 گل از جمله 4 گل ا<br>و در داربی پایتخت در کارنامه این مهاجم گلزن دیده می‌شود و روی 25 گل هم در نقش گل<br>‌ساز یا پنالتی‌گیر درخشیده تا جمعاً روی 89 گل موثر باشد",
          "Node Index: 70, Node Text: البته که مدیران باشگاه درصدد آن هستند تا قرارداد مسعو<br>د جمعه را به صورت توافقی فسخ کنند؛ چرا که براساس آخرین خبرها، جمعه عملکرد قابل‌ق<br>بولی نداشته و همین مسئله باعث شده تا مدیران باشگاه استقلال به دنبال قطع همکاری ب<br>ا او و جذب بازیکن خارجی باکیفیت‌تر نسبت به جمعه باشند",
          "Node Index: 7, Node Text:  در بازی قبلی که من فقط یک روز تمرین کرده بودم و باز، <br>کادرفنی به من اعتماد کردند و به من بازی دادند که توانستیم آن مسابقه را ببریم",
          "Node Index: 75, Node Text: وینگر-مهاجم استقلال خوزستان احتمالاً قراردادش را با ا<br>ین تیم به‌زودی فسخ می‌کند و در روز پایانی پنجره زمستانه به دنبال ثبت یک انتقال خ<br>برساز است",
          "Node Index: 44, Node Text: یکی از معدود نکات تاریک این بازی برای تیم پایتخت‌نشین<br> اخراج زودهنگام محمد خدابنده‌لو بود که باعث شد این تیم یک نیمه را با یک بازیکن ک<br>متر بازی کند و عجیب است که این اخراج، اولین کارت قرمزی نبود که سرخ‌پوشان در دیدا<br>رهای مهم این فصل دریافت می‌کردند",
          "Node Index: 76, Node Text: تیوی بیفوما، وینگر-مهاجم استقلال خوزستان که در ابتدای<br> فصل به جمع آبی‌پوشان اهوازی پیوست، بعد از گذراندن یک نیم‌فصل پرماجرا در استقلال<br> خوزستان، حالا توجهات را بیش از پیش به سوی خود جلب کرده است؛ به‌طوری‌که می‌توان <br>از بیفوما به عنوان یکی از چهره‌های ویژه بازار زمستانه یاد کرد و از همان روز آغاز<br>ین فعالیت پنجره زمستانه، خبرهای ضدونقیض و پرشماری درباره آینده کاری تیوی بیفوما <br>به گوش می‌رسید که همچنان هم ادامه دارد و به نظر می‌رسد که او در جمع آبی‌پوشان اه<br>وازی ماندنی نیست",
          "Node Index: 19, Node Text: من در ابتدای فصل، فکر می‌کنم تنها یک روز قبل از پایان<br> نقل‌وانتقالات شمس‌آذر را انتخاب کردم چون دوستانم آنجا بودند",
          "Node Index: 90, Node Text: مهاجم اسبق استقلال که یکی از برترین گلزنان تاریخ دارب<br>ی پایتخت محسوب می‌شود، در نیم‌فصل نخست خانه‌نشین بود و به نظر می‌رسید که در نیم‌<br>فصل دوم به چرخه بازیکنان لیگ برتری بازگردد اما مسیری که مطهری در پیش گرفت، غیرقا<br>بل پیش‌بینی بود",
          "Node Index: 91, Node Text: امیرارسلان مطهری فصل گذشته و بعد از عدم رضایت جواد نک<br>ونام از سطح فنی او، راهی تراکتور تبریز شد و به نظر می‌رسید که بتواند در جمع سرخ‌<br>پوشان تبریزی، عرض‌اندام کند و به روزهای خوبش بازگردد اما شرایط کاملاً برخلاف تصو<br>رات پیش رفت؛ به‌طوری‌که مطهری در 8 بازی برای تراکتور در لیگ برتر و جام حذفی فقط <br>192 دقیقه فرصت بازی به‌دست آورد که در این فرصت هم او که در نقش گلزن درخشید و نه <br>در قامت گل‌ساز چهره موفقی بود تا پایان کابوس‌واری را در لیگ بیست‌وسوم تجربه کند",
          "Node Index: 93, Node Text: البته تمرکز اصلی امیرارسلان مطهری، محکوم‌کردن باشگاه <br>استقلال در دادگاه‌های بین‌المللی بود و او امید داشت که بتواند غرامت سنگینی از آب<br>ی‌ها بگیرد که این اصرار او به محکوم‌کردن آبی‌ها به مذاق هواداران استقلال خوش نیا<br>مد و مطهری که یکی از چهره‌های محبوب خط حمله استقلال در یک‌دهه اخیر بود، به سرعت <br>محبوبیت خود نزد آبی‌ها را از دست داد",
          "Node Index: 121, Node Text: این متن به بررسی برخی از eventos و توافقات مرتبط با <br>باشگاه فوتبال استقلال ایران در سال 1400 اشاره دارد. همچنین به گفتگوهای شخصی سعید<br> دقیقی، هم‌تیمی و هم‌بازی قدیمیش بود، با صalfa حردانی و محمدرضا آزادی اشاره شده <br>است.<br><br>سعید Stacyی پس از صحبت با ششم زلیخایی، متوجه شد که او ازش मदद نیاز دارد، در نتیج<br>ه رفتم برای کمک کردن به شمس‌آذر. این نشان دهنده آن است که سعید Stacyی پس از یک ب<br>ازی یا EVENT، بهReflection و تشکر در God می‌پردازد.<br><br>در این متن، سعید Stacyی خود را در حال Reflection و تشکر در God قرار داده است. او<br> می گوید که \"خدا را شکر در این بازی هم توانستیم به بازی برگردیم\" ، که نشان دهنده<br> آن است که او از God تشکر می کند که او را از یک وضعیت نامطلوب خارج کرده است.<br><br>سعید Stacyی همچنین سؤال می کند که \"در این بازی حقتان برد بود؟\" که نشان دهنده این<br> است که او در مورد ناکامیت خود Questioning می‌کند و wants to know why he wasn't <br>able to win the game.<br><br>در ادامه، سعید Stacyی خود را در حال Reflection و تشکر در situations و Conditions<br> قرار داده است که او را در این بازی Support کرده است. او Says \"خدا را شکر شرایطم<br> خوب است\" و \"here با اکثر بچه‌‎ها قبلا هم‌تیمی بودم و البته بیشتر رفیق بودم\".<br><br>سعید Stacyی به God Again تشکر می‌کند و Says \"خدا را شکر تیم خیلی خوبی داریم که ج<br>وی صمیمی دارد  امکانات خیلی خوبی هم داریم\". این نشان دهنده آن است که او در مورد <br>Team خود تشكر می‌کند و از God thankful is for providing him with a great team.<br><br>در انتها، سعید Stacyی با این جمله ends the message: \"روزهای روشن، خداحافظ\" که نش<br>ان دهنده آن است که او Hopeful است و Gods Blessings را expected is.<br><br>สรیعSummary:<br><br>این متن به بررسی برخی از eventos و توافقات مرتبط با باشگاه فوتبال استقلال ایران <br>در سال 1400 اشاره دارد. سعید Stacyی پس از یک بازی یا EVENT، بهReflection و تشکر <br>در God می‌پردازد. او خود را در حال Reflection و تشکر در God قرار داده است و از G<br>od thankful is for providing him with a great team.",
          "Node Index: 116, Node Text: در این متن به بررسی برخی از EVENT'S و توافقات مرتبط <br>با باشگاه فوتبال استقلال ایران در سال 1400 اشاره شده است. <br><br>همچنین در این متن به گفتگوهای شخصی که سعید دقیقی، هم‌تیمی و هم‌بازی قدیمیش بود ب<br>ا صalfa حردانی و محمدرضا آزادی به‌حساب می آید.<br>سعید Stacyی پس از صحبتی با ششم زلیخایی، متوجه شد که او ازش मदद نیاز دارد، در نتی<br>جه رفتم برای کمک کردن به شمس‌آذر.<br><br>دربار استقلال نیز از بازیکنانی مانند صالح حردانی، محمدرضا آزادی، آرمین سهرابیان،<br> جوئل کوجو، مهران احمدی و ابوالفضل زلیخایی نامبرده را برای جذب به تیم خود انتخاب<br> کرد. <br><br>به گفته برخی ازquelle‌ها، ایرانی‌ها پس از توافق با آرمین سهرابیان، احتمالاً استق<br>لال minimum یک بازیکن دیگر خارجی را جذب می‌کند.<br><br>مجموعا این متن اشاره به یک سری توافقات و حرکت‌هایTransfer و Signing در مورد بازی<br>کنان تیم ملی فوتبال ایران و همچنین برخی دیگر از اقدامات related to Transfer and <br>signings related to Other Iranian Football clubs.",
          "Node Index: 36, Node Text: صالح حردانی، محمدرضا آزادی، آرمین سهرابیان، جوئل کوجو<br>؛ مهران احمدی و ابوالفضل زلیخایی بازیکنانی بودند که استقلال موفق به جذب آنها شد",
          "Node Index: 68, Node Text: سهرابیان آمد، جذب غلامی منتفی شد؟ فعالیت نقل‌وانتقالا<br>تی آبی‌ها ادامه خواهد داشت",
          "Node Index: 71, Node Text:  بعد از توافق با آرمین سهرابیان، گفته می‌شود که احتما<br>لاً استقلالی‌ها حداقل یک بازیکن خارجی دیگر جذب می‌کنند",
          "Node Index: 11, Node Text: *در بازی با ملوان بحث‌های عجیبی صورت گرفت و ملوان 9 ن<br>فره شد، از اتفاقات آن مسابقه صحبت کنیم",
          "Node Index: 20, Node Text:  سعید دقیقی، هم‌تیمی و هم‌بازی قدیمی من بودند و پس از<br> صحبتی که داشتم، متوجه شدم به من نیاز دارند و رفتم برای کمک کردن به شمس‌آذر",
          "Node Index: 117, Node Text: این متن یک سندرمه ای از شخصی است که پس از یک بازی یا<br> EVENT، بهreflection و تشكر درGod می‌پردازد. او در این متن، خود را در حال Reflec<br>tion و تشکر در God قرار داده است.<br><br>او می گوید که \"خدا را شکر در این بازی هم توانستیم به بازی برگردیم\" ، که نشان دهن<br>ده آن است که او از God تشکر می کند که او را از یک وضعیت نامطلوب خارج کرده است.<br><br>در ادامه، او سؤال می کند که \"در این بازی حقتان برد بود؟\" که نشان دهنده این است ک<br>ه او در مورد ناکامیت خود Questioning می‌کند و wants to know why he wasn't able t<br>o win the game.<br><br>با того‌که به God تشکر می کند و از او سوال asks، او در ادامه، خود را در حال Refl<br>ection و تشكر در situations و Conditions قرار داده است که او را در این بازی Supp<br>ort کرده است. او Says \"خدا را شکر شرایطم خوب است\" و \"here با اکثر بچه‌‎ها قبلا ه<br>م‌تیمی بودم و البته بیشتر رفیق بودم\".<br><br>در ادامه، او به God Again تشکر می‌کند و Says \"خدا را شکر تیم خیلی خوبی داریم که <br>جوی صمیمی دارد  امکانات خیلی خوبی هم داریم\". این نشان دهنده آن است که او در مورد<br> Team خود تشكر می‌کند و از God thankful is for providing him with a great team.<br><br>در انتها، او با این جمله ends the message: \"روزهای روشن، خداحافظ\" که نشان دهنده <br>آن است که او Hopeful است و Gods Blessings را expected is.",
          "Node Index: 9, Node Text:  خدا را شکر در این بازی هم توانستیم به بازی برگردیم *د<br>ر این بازی حقتان برد بود؟",
          "Node Index: 26, Node Text: خدا را شکر شرایطم خوب است و اینجا با اکثر بچه‌‎ها قبل<br>ا هم‌تیمی بودم و البته بیشتر رفیق بودم",
          "Node Index: 27, Node Text:  خدا را شکر تیم خیلی خوبی داریم که جوی صمیمی دارد  ام<br>کانات خیلی خوبی هم داریم",
          "Node Index: 101, Node Text: روزهای روشن، خداحافظ",
          "Node Index: 122, Node Text: این متن به مورد یک بازی فوتبال در بازار زمستانه می‌پ<br>ردازد و detailing می‌ کند که پرسپولیس با رکورد 2-0 بر تراکتور برنده شد و این پیر<br>وزی باعث بهبود وضعیتPrespolis در جدول wurde. در نهایت، Prespolis به یک جایزه دیگ<br>ر دست یافت که Ahmadinejad Blue Back To Mohammadie در replaced Mohammadie became.<br> <br><br>در addition, این بازی به‌صورت surprise با یک گل extra بدست آورد و Prespolis برای<br> این برد با تمرکز-low بر ایک số بازیکن، توانست ببخشد.",
          "Node Index: 105, Node Text: این متن about یک بازی فوتبال در بازار زمستانه می‌گوی<br>د. در این بازی، پرسپولیس به Score 2-0 Against تراکتور برنده شد و این برد باعث ve<br>rbessashing وضعیت.presپولیس در جدول became.<br><br>دور دوم این مسابقه پس از اخراج یک بازیکن پرسپولیس ، توانستند گل extra را بدست آو<br>رند . <br><br>جایزه ای دیگر که به prespolis داده شده است این است که احمدی آبی پوش به جای محمدی<br> بازگشت. او ششمین خرید زمستانی استقلال محسوب می‌شود.<br><br>همچنین Prespolis در این بازی با تمرکز پایین برخی از بازیکنان، توانست به یک برد س<br>روسامان ببخشد. <br><br>پرسپولیس پس از جذب جوئل کوجو، محمدرضا آزادی و صالح حردانی ، برای تقویت فهرست خود<br> در روز پایانی فعالیت پنجره زمستانه Were.<br><br>ازجمله این موضوع که پیشتر او با عدم فسخ قرارداد خود، سد راه حضور کاوه رضایی هم د<br>ر جمع آبی پوشان شده بود.",
          "Node Index: 65, Node Text: آبی‌پوشان بعد از جذب جوئل کوجو، محمدرضا آزادی و صالح <br>حردانی، به دنبال تقویت فهرست خود در روز پایانی فعالیت پنجره زمستانه بودند",
          "Node Index: 33, Node Text: پایان روز پرماجرای آبی‌ها در بازار زمستانه؛ احمدی آبی<br>‌پوش شد، محمدی بازگشت 09 بهمن 1403 ساعت 01:00 46 نظر",
          "Node Index: 35, Node Text: پایان روز پرماجرای آبی‌ها در بازار زمستانه؛ احمدی آبی<br>‌پوش شد، محمدی بازگشت مهران احمدی، ششمین خرید زمستانی استقلال محسوب می‌شود",
          "Node Index: 53, Node Text: پرسپولیس همانند بازی رفت با تراکتور، پس از اخراج یک ب<br>ازیکنش، توانست به یک گل دیگر دست پیدا کند و با برد شیرین 2-0 در بالای جدول به وض<br>عیت خود سروسامان ببخشد",
          "Node Index: 54, Node Text: تمرکز پایین برخی از بازیکنان پرسپولیس در بازی‌های بزر<br>گ حسابی آن‌ها را در این فصل با چالش روبرو کرده و اسماعیل کارتال باید روی این قضی<br>ه بیش از پیش کار کند",
          "Node Index: 95, Node Text:  به‌ویژه آنکه او پیشتر با عدم فسخ قرارداد خود، سد راه<br> حضور کاوه رضایی هم در جمع آبی‌پوشان شده بود",
          "Node Index: 123, Node Text: این متن شرح داستانی را در مورد تاریخچه‌ای در فوتبال <br>ایران،Specifically در مورد امیرارسLAN مطهری، مهاجم 31 ساله، می‌گوید. Amirarslan <br>Mattari پس از یک سقوط آزاد ناباورانه در سنی 31 ساله به یکی از تیم‌های در حال سقو<br>ط به لیگ دو رفت.<br><br>در ابتدا، این بازیکن در سطح اول فوتبال ایران حضور داشت و شرایط بسیار خوب بود که <br>با 15 بازی در نیم‌فصل حضور داشت. اما پس از یک میچ ناکام و یک شکست در دقیقه 89 در<br>وازه‌بان ایوب عملیات را به خودی خود باز کرد. همچنین، Amirarslan Mattari در اوجFO<br>RM و برنده‌ترین حریف خود بود، اما با وجود شرایط فوق‌العاده، سقوط آزاد ناباورانه‌<br>ای را تجربه کرد.<br><br>بعد از آن، او را به یکی از تیم‌های در حال سقوط به لیگ دو رفتند. Amirarslan Matta<br>ri در نیم فصل House نشینی ناموفق بود و بعداً راهی نیروی زمینی تهران شد که در این<br> فصل فقط 12 امتیاز به دست آورد. با این وجود، او اکنون دیگر در سطح فوتبال ایران ب<br>ازی نخواهد کرد و باید دید Whether یاagain احیا خواهد شد و دوباره در چرخه بازیکنا<br>ن لیگ برتری باز می‌گردد.<br><br>در meanwhile, بازار نقل‌وانتقالات زمستانی فوتبال ایران در سال 1403 می‌پردازد. گل<br>-Gهر Sirjan activity خوبی را در بازار نقل‌وانتقاطات داشت و برای اضافه کردن مهدی <br>تارتار، مدافع با تجربه‌ای به تیمش فراخورد. میلاد فخرالدینی، بازیکن با سابقه‌ای ک<br>ه برای Teams دیگر در مدت اخیر بازی کرده بود، به خدمت گل-Gهر گرفت.<br><br>در ادامه، tentang Stanton status مطمئن تر شده است و همچنین از این نظر بسیار فعال<br> است. در meanwhile, استقلال در پنجره نقل‌وانتقالاتی زمستانی rất aktif نشان داد و<br> یک بازیکن دیگر هم جذب کرد. پرسپولیس نیز در مصاف حساس برابر تراکتور به برتری شیر<br>ین 2-0 دست یافت و فاصله‌اش با این تیم در بالای جدول کاهش پیدا کرد.<br><br>استقلال بعد از گذراندن یک نیم‌فصل ناامیدکننده، توپ پُر وارد بازار نقل‌وانتقالات <br>زمستانه شدند. جوئل کوجو و محمدرضا آزادی قرارداد خود را resmially با استقلال کردن<br>د تا سیمای خط حمله آبی‌پوشان نسبت به نیم‌ فصل نخست دستخوش تغییر و تحولی جدی شود.<br><br>در meanwhile, پنجره نقل‌وانتقالات زمستانه به روز پایانی کار خود رسیده و اگر بازی<br>کنی بخواهد از تیمی جدا شود، باید تا پایان وقت امروزสามารถ فسخ قرارداد خود را بگی<br>رد و از فردا فقط جابه‌جایی بازیکنان آزاد مجاز خواهد بود و بازیکنان دارای قرارداد<br> حتی در صورت فسخ قراردادشان هم نمی‌توانند تغییر تیم بدهند.<br><br>در آخر، بازار نقل‌وانتقالات Zemستانه فوتبال ایران روز گذشته تحت تأثیر یک خبر غیر<br>منتظره قرار گرفت؛ «امیرارسLAN مطهری به نیروی زمینی تهران پیوست».",
          "Node Index: 102, Node Text: این متن شرح داستانی را در مورد تاریخچه‌ای در فوتبال <br>ایران،Specifically در مورد امیرارسلان مطهری، مهاجم 31 ساله که پس از یک سقوط آزاد<br> ناباورانه در سنی 31 ساله به یکی از تیم‌های در حال سقوط به لیگ دو رفت. <br><br>در ابتدا این بازیکن در سطح اول فوتبال ایران حضور داشت و با شرایط بسیار خوب بود ک<br>ه به طور کلی پانزده بازی در نیم‌فصل حضور داشت، اما پس از یک میچ ناکام و یک شکست <br>در دقیقه 89 دروازه‌بان ایوب عملیات را به خودی خود باز کرد. <br><br>همچنین این بازیکن در اوجFORM و برنده‌ترین حریف خود بود، که با وجود شرایط فوق‌الع<br>اده، سقوط آزاد ناباورانه‌ای را تجربه کرد. بعد از آن، او را به یکی از تیم‌های در <br>حال سقوط به لیگ دو رفتند.<br><br>او در نیم فصل House نشینی، ناموفق بود و بعداً راهی نیروی زمینی تهران شد که در ای<br>ن فصل فقط 12 امتیاز به دست آورد. با این وجود، او اکنون دیگر در سطح فوتبال ایران <br>بازی نخواهد کرد و باید دید Whether یاagain احیا خواهد شد و دوباره در چرخه بازیکن<br>ان لیگ برتری باز می‌گردد.<br><br>در نتیجه سقوط آزاد او شتاب می‌گیرد و رستگاری او با فراز و فنا به طور جدی खतरه اس<br>ت.",
          "Node Index: 96, Node Text: مهاجم 31 ساله بعد از یک نیم‌فصل خانه‌نشینی، نه‌تنها ب<br>ازهم در انتخاب تیم لیگ برتری موفق نبود بلکه راه یکی از تیم‌های بحران‌زده لیگ آزا<br>دگان را در پیش گرفت و به نیروی زمینی تهران پیوست؛ تیمی که از 18 بازی در این فصل <br>فقط 12 امتیاز به‌دست آورده و در رتبه شانزدهم جدول 18 تیمی لیگ آزادگان است و در م<br>سیر سقوط به لیگ دسته دوم قرار دارد",
          "Node Index: 97, Node Text: نیم‌فصل خانه‌نشینی و ناگهان حضور در تیم کاندیدای سقوط<br> به لیگ 2",
          "Node Index: 100, Node Text: با این وجود، او حالا دیگر قرار نیست در سطح فوتبال ای<br>ران بازی کند و باید دید بعد از حضور در نیروی زمینی، مطهریِ 31 ساله احیا می‌شود و<br> دوباره به چرخه بازیکنان لیگ برتری باز می‌گردد یا سقوط آزاد او شتاب می‌گیرد و رف<br>ته‌رفته رسماً از صحنه فوتبال ایران کنار می‌رود",
          "Node Index: 13, Node Text:  با همه این موضوعات باید بدانیم که این حاشیه‌ها همیشه<br> هست و مشکل خاصی هم در این بازی به وجود نیامد *چه شد که پیشنهاد گل‌گهر را قبول ک<br>ردی؟",
          "Node Index: 79, Node Text:  حالا در ساعت حساس مانده تا لحظه پایان مهلت فعالیت تی<br>م‌ها در پنجره زمستانه، خبرهای ضدونقیضی از آینده بازیکنان مختلف به گوش می‌رسد",
          "Node Index: 48, Node Text:  با این حال تیم تهرانی بازگشت فوق‌العاده‌ای به بازی د<br>اشت و موفق شد در دقیقه 89 توسط ایوب العملود از شکست فرار کند و با امتیاز به خانه<br> بازگردد",
          "Node Index: 22, Node Text:  شرایط خیلی خوب بود و آنجا پانزده بازی در نیم‌فصل حضو<br>ر داشتم",
          "Node Index: 55, Node Text:  با این حال محمد خوش‌شانس بود که هم‌تیمی‌هایش در بهتر<br>ین فرم ممکن بودند و حریف از اوج آمادگی به دور بود",
          "Node Index: 88, Node Text: بعد از یک‌دهه حضور در سطح اول فوتبال ایران، امیرارسلا<br>ن مطهری در 31 سالگی یک سقوط آزاد ناباورانه را تجربه کرد و به یکی از تیم‌های در ح<br>ال سقوط به لیگ دو رفت",
          "Node Index: 103, Node Text: در این متن به نقل‌وانتقالات زمستانی فوتبال ایران در <br>سال 1403 می‌پردازد. گل‌گهر سیرجان activity خوبی را در بازار نقل‌وانتقالات داشت و<br> برای اضافه کردن مهدی تارتار، مدافع با تجربه‌ای به تیمش فراخورد. میلاد فخرالدینی<br>، بازیکن باسابقه‌ای که برایTeams khác در مدت اخیر بازی کرده بود، به خدمت گل‌گهر <br>گرفت.<br><br>در ادامه،についてสถานیت مهدی تارتار در تیم گل-Gهر و nasıl از این situation مطمئن تر <br>شده است می گوید. همچنین در بازار نقل‌وانتقالات فوتبال ایران، این activity activi<br>ty خوبی را نشان داده است و از این نظر بسیار فعال است.<br><br>در meanwhile, استقلال در پنجره نقل‌وانتقالاتی زمستان VERY aktif نشان داد و یک با<br>زیکن دیگر هم جذب کرد. پرسپولیس نیز در مصاف حساس برابر تراکتور به برتری شیرین 2-0<br> دست یافت و فاصله‌اش با این تیم در بالای جدول کاهش پیدا کرد.<br><br>استقلال بعد از گذراندن یک نیم‌فصل ناامیدکننده، توپ پُر وارد بازار نقل‌وانتقالات <br>زمستانه شدند. جوئل کوجو و محمدرضا آزادی قرارداد خود را resmi olarak با استقلال ک<br>ردند تا سیمای خط حمله آبی‌پوشان نسبت به نیم‌ فصل نخست دستخوش تغییر و تحولی جدی ش<br>ود.<br><br>در meanwhile, پنجره نقل‌وانتقالات زمستانه به روز پایانی کار خود رسیده و اگر بازی<br>کنی بخواهد از تیمی جدا شود، باید تا پایان وقت امروز بتواند فسخ قرارداد خود را بگ<br>یرد و از فردا فقط جابه‌جایی بازیکنان آزاد مجاز خواهد بود و بازیکنان دارای قراردا<br>د حتی در صورت فسخ قراردادشان هم نمی‌توانند تغییر تیم بدهند.<br><br>در آخر, بازار نقل‌وانتقالات Zemستانه فوتبال ایران روز گذشته تحت تأثیر یک خبر غیر<br>منتظره قرار گرفت؛ «امیرارسلان مطهری به نیروی زمینی تهران پیوست».",
          "Node Index: 0, Node Text: میلاد فخرالدینی در گفت‌وگو با «فوتبال 360»؛ با گل‌گهر <br>به آسیا فکر می‌کنیم 09 بهمن 1403 ساعت 08:00 6 نظر",
          "Node Index: 1, Node Text: به گزارش فوتبال 360، گل‌گهر سیرجان در بازار نقل‌وانتقا<br>لات زمستانی فوتبال ایران فعالیت خوبی داشت و در این فرایند، میلاد فخرالدینی بازیک<br>ن باسابقه تیم شمس‌آذر قزوین که در مدت اخیر برای تیم‌های متفاوتی بازی کرده را به <br>خدمت گرفت تا مهدی تارتار، یک مدافع‌ کنار باتجربه را به تیمش اضافه کند",
          "Node Index: 34, Node Text: به گزارش فوتبال 360، استقلال که در پنجره نقل‌وانتقالا<br>تی زمستان بسیار فعال نشان داد، در آخرین ساعات دوشنبه‌شب که آخرین روز مهلت نقل‌وا<br>نتقالات بود یک بازیکن دیگر هم جذب کرد",
          "Node Index: 3, Node Text: گل‌گهر در نیم‌فصل اول فقط مجید عیدی را در دفاع راست دا<br>شت و عملا ذخیره‌ای برای او نداشت و حالا با اضافه شدن میلاد فخرالدینی، تارتار از <br>این جناح خیال آسوده‌تری دارد و البته او در دو مسابقه اخیر این تیم در آغاز نیم‌فص<br>ل دوم به میدان رفت و در چنین شرایطی با او در فوتبال 360 گفت‌وگو داشتیم و درباره <br>وضعیتش در تیم جدیدش صحبت کردیم",
          "Node Index: 4, Node Text: میلاد فخرالدینی در گفت‌وگو با «فوتبال 360»؛ با گل‌گهر <br>به آسیا فکر می‌کنیم فخرالدینی از حضور در جمع شاگردان تارتار کاملا رضایت دارد",
          "Node Index: 74, Node Text: به گزارش فوتبال 360، پنجره نقل‌وانتقالات زمستانه به ر<br>وز پایانی کار خود رسیده و اگر بازیکنی بخواهد از تیمی جدا شود، باید تا پایان وقت <br>امروز بتواند فسخ قرارداد خود را بگیرد و از فردا (سه‌شنبه) فقط جابه‌جایی بازیکنان<br> آزاد مجاز خواهد بود و بازیکنان دارای قرارداد حتی در صورت فسخ قراردادشان هم نمی‌<br>توانند تغییر تیم بدهند",
          "Node Index: 45, Node Text: به گزارش فوتبال 360، پرسپولیس در مصاف حساس برابر تراک<br>تور به برتری شیرین 2 بر صفر دست یافت تا فاصله‌اش با این تیم در بالای جدول کاهش پ<br>یدا کند",
          "Node Index: 89, Node Text: به گزارش فوتبال 360، بازار نقل‌وانتقالات زمستانه فوتب<br>ال ایران روز گذشته و در دلِ حواشی پرشمار تقابل پرسپولیس - تراکتور، تحت‌تاثیر یک <br>خبر غیرمنتظره قرار گرفت؛ «امیرارسلان مطهری به نیروی زمینی تهران پیوست»",
          "Node Index: 58, Node Text: به گزارش فوتبال 360، استقلالی‌ها بعد از گذراندن یک نی<br>م‌فصل ناامیدکننده، با توپ پُر وارد بازار نقل‌وانتقالات زمستانه شدند و در گام نخس<br>ت، خط حمله استقلال تقویت شد؛ به‌طوری‌که جوئل کوجو و محمدرضا آزادی قرارداد خود با<br> استقلال را رسمی کردند تا سیمای خط حمله آبی‌پوشان نسبت به نیم‌فصل نخست دستخوش تغ<br>ییر و تحولی جدی شود",
          "Node Index: 124, Node Text: این متن به یک بازی بین دو تیم می‌پردازد که در نیمه د<br>وم می‌توانست 3 گل بزند و برنده شود، اما بازی با مساوی Ended شد. <br><br>در ادامه به تهدیدات بیفوما برای جدایی از استقلال خوزستان اشاره شده و تلاش‌های زی<br>ادی که از ابتدای پنجره زمستانی انجام داده است را توضیح داده شده است.",
          "Node Index: 118, Node Text: در Summary، به یک بازی بین دو تیم می‌پردازیم که در ن<br>یمه دوم بازی می توانست 3 گل بزند، اما بازی برنده نبرده وEnded با مساوی شد. در اد<br>امه متن به تهدیدات بیفوما برای جدایی از استقلال خوزستان اشاره می‌کند و تلاش‌هایی<br> را که از ابتدای پنجره زمستانی انجام داده است، توضیح می‌دهد.<br><br>در این Summary، دو بخش مهم وجود دارد:<br><br>1.  «توصیف بازی» در این متن به یک بازی بین دو تیم می‌پردازد که در نیمه دوم می‌تو<br>انست 3 گل بزند و برنده شود، اما بازی با مساوی Ended شد.<br>2.  «توصیف تهدیدات بیفوما» در این متن به تهدیدات بیفوما برای جدایی از استقلال خو<br>زستان اشاره دارد و تلاش‌های زیادی که برای تحقق این مسئله انجام داده است را توضیح<br> می‌دهد.",
          "Node Index: 10, Node Text: در نیمه دوم می‌توانستیم 3 گل بزنیم و برنده باشیم اما <br>متاسفانه نشد و بازی مساوی شد  خدا را شکر با همه این‌ها بازی را نباختیم",
          "Node Index: 78, Node Text: تیوی بیفوما بعد از ثبت 3 گل و 3 پاس گل، حالا در کانون<br> توجهات قرار گرفته و در مسیر جدایی از استقلال خوزستان است و تلاش‌های زیادی از اب<br>تدای پنجره زمستانی برای تحقق این مسئله انجام داده است"
         ],
         "type": "scatter",
         "x": [
          0,
          -52.794444444444444,
          -65.71111111111111,
          -67.21111111111111,
          -66.21111111111111,
          -65.21111111111111,
          -64.21111111111111,
          -61.71111111111111,
          -63.21111111111111,
          -62.21111111111111,
          -61.21111111111111,
          -60.21111111111111,
          -56.71111111111111,
          -59.21111111111111,
          -58.21111111111111,
          -57.21111111111111,
          -56.21111111111111,
          -55.21111111111111,
          -54.21111111111111,
          -52.21111111111111,
          -53.21111111111111,
          -52.21111111111111,
          -51.21111111111111,
          -45.21111111111111,
          -50.21111111111111,
          -49.21111111111111,
          -48.21111111111111,
          -47.21111111111111,
          -46.21111111111111,
          -45.21111111111111,
          -44.21111111111111,
          -43.21111111111111,
          -42.21111111111111,
          -41.21111111111111,
          -40.21111111111111,
          -35.21111111111111,
          -39.21111111111111,
          -38.21111111111111,
          -37.21111111111111,
          -36.21111111111111,
          -35.21111111111111,
          -34.21111111111111,
          -33.21111111111111,
          -32.21111111111111,
          -31.21111111111111,
          -19.111111111111107,
          -28.71111111111111,
          -30.21111111111111,
          -29.21111111111111,
          -28.21111111111111,
          -27.21111111111111,
          -25.21111111111111,
          -26.21111111111111,
          -25.21111111111111,
          -24.21111111111111,
          -21.21111111111111,
          -23.21111111111111,
          -22.21111111111111,
          -21.21111111111111,
          -20.21111111111111,
          -19.21111111111111,
          -14.711111111111107,
          -18.21111111111111,
          -17.21111111111111,
          -16.21111111111111,
          -15.211111111111107,
          -14.211111111111107,
          -13.211111111111107,
          -12.211111111111107,
          -11.211111111111107,
          -5.711111111111107,
          -10.211111111111107,
          -9.211111111111107,
          -8.211111111111107,
          -7.211111111111107,
          -6.211111111111107,
          -5.211111111111107,
          -4.211111111111107,
          -3.211111111111107,
          -2.211111111111107,
          -1.2111111111111068,
          4.038888888888891,
          1.7888888888888914,
          -0.21111111111110858,
          0.7888888888888914,
          1.7888888888888914,
          2.7888888888888914,
          3.7888888888888914,
          6.288888888888891,
          4.788888888888891,
          5.788888888888891,
          6.788888888888891,
          7.788888888888891,
          11.288888888888899,
          11.288888888888899,
          8.788888888888899,
          9.788888888888899,
          10.788888888888899,
          11.788888888888899,
          12.788888888888899,
          13.788888888888899,
          23.2888888888889,
          18.7888888888889,
          14.788888888888899,
          15.788888888888899,
          16.7888888888889,
          17.7888888888889,
          18.7888888888889,
          19.7888888888889,
          20.7888888888889,
          21.7888888888889,
          22.7888888888889,
          27.7888888888889,
          23.7888888888889,
          24.7888888888889,
          25.7888888888889,
          26.7888888888889,
          27.7888888888889,
          28.7888888888889,
          29.7888888888889,
          30.7888888888889,
          31.7888888888889,
          33.2888888888889,
          33.2888888888889,
          32.7888888888889,
          33.7888888888889
         ],
         "y": [
          6,
          5,
          4,
          3,
          3,
          3,
          3,
          4,
          3,
          3,
          3,
          3,
          4,
          3,
          3,
          3,
          3,
          3,
          3,
          4,
          3,
          3,
          3,
          4,
          3,
          3,
          3,
          3,
          3,
          3,
          3,
          3,
          3,
          3,
          3,
          4,
          3,
          3,
          3,
          3,
          3,
          3,
          3,
          3,
          3,
          5,
          4,
          3,
          3,
          3,
          3,
          4,
          3,
          3,
          3,
          4,
          3,
          3,
          3,
          3,
          3,
          4,
          3,
          3,
          3,
          3,
          3,
          3,
          3,
          3,
          4,
          3,
          3,
          3,
          3,
          3,
          3,
          3,
          3,
          3,
          3,
          5,
          4,
          3,
          3,
          3,
          3,
          3,
          4,
          3,
          3,
          3,
          3,
          5,
          4,
          3,
          3,
          3,
          3,
          3,
          3,
          5,
          4,
          3,
          3,
          3,
          3,
          3,
          3,
          3,
          3,
          3,
          4,
          3,
          3,
          3,
          3,
          3,
          3,
          3,
          3,
          3,
          5,
          4,
          3,
          3
         ]
        }
       ],
       "layout": {
        "annotations": [
         {
          "arrowcolor": "rgb(210,210,210)",
          "arrowhead": 2,
          "arrowsize": 1.5,
          "arrowwidth": 1,
          "ax": 0,
          "axref": "x",
          "ay": 6,
          "ayref": "y",
          "showarrow": true,
          "x": -52.794444444444444,
          "xref": "x",
          "y": 5,
          "yref": "y"
         },
         {
          "arrowcolor": "rgb(210,210,210)",
          "arrowhead": 2,
          "arrowsize": 1.5,
          "arrowwidth": 1,
          "ax": -52.794444444444444,
          "axref": "x",
          "ay": 5,
          "ayref": "y",
          "showarrow": true,
          "x": -65.71111111111111,
          "xref": "x",
          "y": 4,
          "yref": "y"
         },
         {
          "arrowcolor": "rgb(210,210,210)",
          "arrowhead": 2,
          "arrowsize": 1.5,
          "arrowwidth": 1,
          "ax": -65.71111111111111,
          "axref": "x",
          "ay": 4,
          "ayref": "y",
          "showarrow": true,
          "x": -67.21111111111111,
          "xref": "x",
          "y": 3,
          "yref": "y"
         },
         {
          "arrowcolor": "rgb(210,210,210)",
          "arrowhead": 2,
          "arrowsize": 1.5,
          "arrowwidth": 1,
          "ax": -65.71111111111111,
          "axref": "x",
          "ay": 4,
          "ayref": "y",
          "showarrow": true,
          "x": -66.21111111111111,
          "xref": "x",
          "y": 3,
          "yref": "y"
         },
         {
          "arrowcolor": "rgb(210,210,210)",
          "arrowhead": 2,
          "arrowsize": 1.5,
          "arrowwidth": 1,
          "ax": -65.71111111111111,
          "axref": "x",
          "ay": 4,
          "ayref": "y",
          "showarrow": true,
          "x": -65.21111111111111,
          "xref": "x",
          "y": 3,
          "yref": "y"
         },
         {
          "arrowcolor": "rgb(210,210,210)",
          "arrowhead": 2,
          "arrowsize": 1.5,
          "arrowwidth": 1,
          "ax": -65.71111111111111,
          "axref": "x",
          "ay": 4,
          "ayref": "y",
          "showarrow": true,
          "x": -64.21111111111111,
          "xref": "x",
          "y": 3,
          "yref": "y"
         },
         {
          "arrowcolor": "rgb(210,210,210)",
          "arrowhead": 2,
          "arrowsize": 1.5,
          "arrowwidth": 1,
          "ax": -52.794444444444444,
          "axref": "x",
          "ay": 5,
          "ayref": "y",
          "showarrow": true,
          "x": -61.71111111111111,
          "xref": "x",
          "y": 4,
          "yref": "y"
         },
         {
          "arrowcolor": "rgb(210,210,210)",
          "arrowhead": 2,
          "arrowsize": 1.5,
          "arrowwidth": 1,
          "ax": -61.71111111111111,
          "axref": "x",
          "ay": 4,
          "ayref": "y",
          "showarrow": true,
          "x": -63.21111111111111,
          "xref": "x",
          "y": 3,
          "yref": "y"
         },
         {
          "arrowcolor": "rgb(210,210,210)",
          "arrowhead": 2,
          "arrowsize": 1.5,
          "arrowwidth": 1,
          "ax": -61.71111111111111,
          "axref": "x",
          "ay": 4,
          "ayref": "y",
          "showarrow": true,
          "x": -62.21111111111111,
          "xref": "x",
          "y": 3,
          "yref": "y"
         },
         {
          "arrowcolor": "rgb(210,210,210)",
          "arrowhead": 2,
          "arrowsize": 1.5,
          "arrowwidth": 1,
          "ax": -61.71111111111111,
          "axref": "x",
          "ay": 4,
          "ayref": "y",
          "showarrow": true,
          "x": -61.21111111111111,
          "xref": "x",
          "y": 3,
          "yref": "y"
         },
         {
          "arrowcolor": "rgb(210,210,210)",
          "arrowhead": 2,
          "arrowsize": 1.5,
          "arrowwidth": 1,
          "ax": -61.71111111111111,
          "axref": "x",
          "ay": 4,
          "ayref": "y",
          "showarrow": true,
          "x": -60.21111111111111,
          "xref": "x",
          "y": 3,
          "yref": "y"
         },
         {
          "arrowcolor": "rgb(210,210,210)",
          "arrowhead": 2,
          "arrowsize": 1.5,
          "arrowwidth": 1,
          "ax": -52.794444444444444,
          "axref": "x",
          "ay": 5,
          "ayref": "y",
          "showarrow": true,
          "x": -56.71111111111111,
          "xref": "x",
          "y": 4,
          "yref": "y"
         },
         {
          "arrowcolor": "rgb(210,210,210)",
          "arrowhead": 2,
          "arrowsize": 1.5,
          "arrowwidth": 1,
          "ax": -56.71111111111111,
          "axref": "x",
          "ay": 4,
          "ayref": "y",
          "showarrow": true,
          "x": -59.21111111111111,
          "xref": "x",
          "y": 3,
          "yref": "y"
         },
         {
          "arrowcolor": "rgb(210,210,210)",
          "arrowhead": 2,
          "arrowsize": 1.5,
          "arrowwidth": 1,
          "ax": -56.71111111111111,
          "axref": "x",
          "ay": 4,
          "ayref": "y",
          "showarrow": true,
          "x": -58.21111111111111,
          "xref": "x",
          "y": 3,
          "yref": "y"
         },
         {
          "arrowcolor": "rgb(210,210,210)",
          "arrowhead": 2,
          "arrowsize": 1.5,
          "arrowwidth": 1,
          "ax": -56.71111111111111,
          "axref": "x",
          "ay": 4,
          "ayref": "y",
          "showarrow": true,
          "x": -57.21111111111111,
          "xref": "x",
          "y": 3,
          "yref": "y"
         },
         {
          "arrowcolor": "rgb(210,210,210)",
          "arrowhead": 2,
          "arrowsize": 1.5,
          "arrowwidth": 1,
          "ax": -56.71111111111111,
          "axref": "x",
          "ay": 4,
          "ayref": "y",
          "showarrow": true,
          "x": -56.21111111111111,
          "xref": "x",
          "y": 3,
          "yref": "y"
         },
         {
          "arrowcolor": "rgb(210,210,210)",
          "arrowhead": 2,
          "arrowsize": 1.5,
          "arrowwidth": 1,
          "ax": -56.71111111111111,
          "axref": "x",
          "ay": 4,
          "ayref": "y",
          "showarrow": true,
          "x": -55.21111111111111,
          "xref": "x",
          "y": 3,
          "yref": "y"
         },
         {
          "arrowcolor": "rgb(210,210,210)",
          "arrowhead": 2,
          "arrowsize": 1.5,
          "arrowwidth": 1,
          "ax": -56.71111111111111,
          "axref": "x",
          "ay": 4,
          "ayref": "y",
          "showarrow": true,
          "x": -54.21111111111111,
          "xref": "x",
          "y": 3,
          "yref": "y"
         },
         {
          "arrowcolor": "rgb(210,210,210)",
          "arrowhead": 2,
          "arrowsize": 1.5,
          "arrowwidth": 1,
          "ax": -52.794444444444444,
          "axref": "x",
          "ay": 5,
          "ayref": "y",
          "showarrow": true,
          "x": -52.21111111111111,
          "xref": "x",
          "y": 4,
          "yref": "y"
         },
         {
          "arrowcolor": "rgb(210,210,210)",
          "arrowhead": 2,
          "arrowsize": 1.5,
          "arrowwidth": 1,
          "ax": -52.21111111111111,
          "axref": "x",
          "ay": 4,
          "ayref": "y",
          "showarrow": true,
          "x": -53.21111111111111,
          "xref": "x",
          "y": 3,
          "yref": "y"
         },
         {
          "arrowcolor": "rgb(210,210,210)",
          "arrowhead": 2,
          "arrowsize": 1.5,
          "arrowwidth": 1,
          "ax": -52.21111111111111,
          "axref": "x",
          "ay": 4,
          "ayref": "y",
          "showarrow": true,
          "x": -52.21111111111111,
          "xref": "x",
          "y": 3,
          "yref": "y"
         },
         {
          "arrowcolor": "rgb(210,210,210)",
          "arrowhead": 2,
          "arrowsize": 1.5,
          "arrowwidth": 1,
          "ax": -52.21111111111111,
          "axref": "x",
          "ay": 4,
          "ayref": "y",
          "showarrow": true,
          "x": -51.21111111111111,
          "xref": "x",
          "y": 3,
          "yref": "y"
         },
         {
          "arrowcolor": "rgb(210,210,210)",
          "arrowhead": 2,
          "arrowsize": 1.5,
          "arrowwidth": 1,
          "ax": -52.794444444444444,
          "axref": "x",
          "ay": 5,
          "ayref": "y",
          "showarrow": true,
          "x": -45.21111111111111,
          "xref": "x",
          "y": 4,
          "yref": "y"
         },
         {
          "arrowcolor": "rgb(210,210,210)",
          "arrowhead": 2,
          "arrowsize": 1.5,
          "arrowwidth": 1,
          "ax": -45.21111111111111,
          "axref": "x",
          "ay": 4,
          "ayref": "y",
          "showarrow": true,
          "x": -50.21111111111111,
          "xref": "x",
          "y": 3,
          "yref": "y"
         },
         {
          "arrowcolor": "rgb(210,210,210)",
          "arrowhead": 2,
          "arrowsize": 1.5,
          "arrowwidth": 1,
          "ax": -45.21111111111111,
          "axref": "x",
          "ay": 4,
          "ayref": "y",
          "showarrow": true,
          "x": -49.21111111111111,
          "xref": "x",
          "y": 3,
          "yref": "y"
         },
         {
          "arrowcolor": "rgb(210,210,210)",
          "arrowhead": 2,
          "arrowsize": 1.5,
          "arrowwidth": 1,
          "ax": -45.21111111111111,
          "axref": "x",
          "ay": 4,
          "ayref": "y",
          "showarrow": true,
          "x": -48.21111111111111,
          "xref": "x",
          "y": 3,
          "yref": "y"
         },
         {
          "arrowcolor": "rgb(210,210,210)",
          "arrowhead": 2,
          "arrowsize": 1.5,
          "arrowwidth": 1,
          "ax": -45.21111111111111,
          "axref": "x",
          "ay": 4,
          "ayref": "y",
          "showarrow": true,
          "x": -47.21111111111111,
          "xref": "x",
          "y": 3,
          "yref": "y"
         },
         {
          "arrowcolor": "rgb(210,210,210)",
          "arrowhead": 2,
          "arrowsize": 1.5,
          "arrowwidth": 1,
          "ax": -45.21111111111111,
          "axref": "x",
          "ay": 4,
          "ayref": "y",
          "showarrow": true,
          "x": -46.21111111111111,
          "xref": "x",
          "y": 3,
          "yref": "y"
         },
         {
          "arrowcolor": "rgb(210,210,210)",
          "arrowhead": 2,
          "arrowsize": 1.5,
          "arrowwidth": 1,
          "ax": -45.21111111111111,
          "axref": "x",
          "ay": 4,
          "ayref": "y",
          "showarrow": true,
          "x": -45.21111111111111,
          "xref": "x",
          "y": 3,
          "yref": "y"
         },
         {
          "arrowcolor": "rgb(210,210,210)",
          "arrowhead": 2,
          "arrowsize": 1.5,
          "arrowwidth": 1,
          "ax": -45.21111111111111,
          "axref": "x",
          "ay": 4,
          "ayref": "y",
          "showarrow": true,
          "x": -44.21111111111111,
          "xref": "x",
          "y": 3,
          "yref": "y"
         },
         {
          "arrowcolor": "rgb(210,210,210)",
          "arrowhead": 2,
          "arrowsize": 1.5,
          "arrowwidth": 1,
          "ax": -45.21111111111111,
          "axref": "x",
          "ay": 4,
          "ayref": "y",
          "showarrow": true,
          "x": -43.21111111111111,
          "xref": "x",
          "y": 3,
          "yref": "y"
         },
         {
          "arrowcolor": "rgb(210,210,210)",
          "arrowhead": 2,
          "arrowsize": 1.5,
          "arrowwidth": 1,
          "ax": -45.21111111111111,
          "axref": "x",
          "ay": 4,
          "ayref": "y",
          "showarrow": true,
          "x": -42.21111111111111,
          "xref": "x",
          "y": 3,
          "yref": "y"
         },
         {
          "arrowcolor": "rgb(210,210,210)",
          "arrowhead": 2,
          "arrowsize": 1.5,
          "arrowwidth": 1,
          "ax": -45.21111111111111,
          "axref": "x",
          "ay": 4,
          "ayref": "y",
          "showarrow": true,
          "x": -41.21111111111111,
          "xref": "x",
          "y": 3,
          "yref": "y"
         },
         {
          "arrowcolor": "rgb(210,210,210)",
          "arrowhead": 2,
          "arrowsize": 1.5,
          "arrowwidth": 1,
          "ax": -45.21111111111111,
          "axref": "x",
          "ay": 4,
          "ayref": "y",
          "showarrow": true,
          "x": -40.21111111111111,
          "xref": "x",
          "y": 3,
          "yref": "y"
         },
         {
          "arrowcolor": "rgb(210,210,210)",
          "arrowhead": 2,
          "arrowsize": 1.5,
          "arrowwidth": 1,
          "ax": -52.794444444444444,
          "axref": "x",
          "ay": 5,
          "ayref": "y",
          "showarrow": true,
          "x": -35.21111111111111,
          "xref": "x",
          "y": 4,
          "yref": "y"
         },
         {
          "arrowcolor": "rgb(210,210,210)",
          "arrowhead": 2,
          "arrowsize": 1.5,
          "arrowwidth": 1,
          "ax": -35.21111111111111,
          "axref": "x",
          "ay": 4,
          "ayref": "y",
          "showarrow": true,
          "x": -39.21111111111111,
          "xref": "x",
          "y": 3,
          "yref": "y"
         },
         {
          "arrowcolor": "rgb(210,210,210)",
          "arrowhead": 2,
          "arrowsize": 1.5,
          "arrowwidth": 1,
          "ax": -35.21111111111111,
          "axref": "x",
          "ay": 4,
          "ayref": "y",
          "showarrow": true,
          "x": -38.21111111111111,
          "xref": "x",
          "y": 3,
          "yref": "y"
         },
         {
          "arrowcolor": "rgb(210,210,210)",
          "arrowhead": 2,
          "arrowsize": 1.5,
          "arrowwidth": 1,
          "ax": -35.21111111111111,
          "axref": "x",
          "ay": 4,
          "ayref": "y",
          "showarrow": true,
          "x": -37.21111111111111,
          "xref": "x",
          "y": 3,
          "yref": "y"
         },
         {
          "arrowcolor": "rgb(210,210,210)",
          "arrowhead": 2,
          "arrowsize": 1.5,
          "arrowwidth": 1,
          "ax": -35.21111111111111,
          "axref": "x",
          "ay": 4,
          "ayref": "y",
          "showarrow": true,
          "x": -36.21111111111111,
          "xref": "x",
          "y": 3,
          "yref": "y"
         },
         {
          "arrowcolor": "rgb(210,210,210)",
          "arrowhead": 2,
          "arrowsize": 1.5,
          "arrowwidth": 1,
          "ax": -35.21111111111111,
          "axref": "x",
          "ay": 4,
          "ayref": "y",
          "showarrow": true,
          "x": -35.21111111111111,
          "xref": "x",
          "y": 3,
          "yref": "y"
         },
         {
          "arrowcolor": "rgb(210,210,210)",
          "arrowhead": 2,
          "arrowsize": 1.5,
          "arrowwidth": 1,
          "ax": -35.21111111111111,
          "axref": "x",
          "ay": 4,
          "ayref": "y",
          "showarrow": true,
          "x": -34.21111111111111,
          "xref": "x",
          "y": 3,
          "yref": "y"
         },
         {
          "arrowcolor": "rgb(210,210,210)",
          "arrowhead": 2,
          "arrowsize": 1.5,
          "arrowwidth": 1,
          "ax": -35.21111111111111,
          "axref": "x",
          "ay": 4,
          "ayref": "y",
          "showarrow": true,
          "x": -33.21111111111111,
          "xref": "x",
          "y": 3,
          "yref": "y"
         },
         {
          "arrowcolor": "rgb(210,210,210)",
          "arrowhead": 2,
          "arrowsize": 1.5,
          "arrowwidth": 1,
          "ax": -35.21111111111111,
          "axref": "x",
          "ay": 4,
          "ayref": "y",
          "showarrow": true,
          "x": -32.21111111111111,
          "xref": "x",
          "y": 3,
          "yref": "y"
         },
         {
          "arrowcolor": "rgb(210,210,210)",
          "arrowhead": 2,
          "arrowsize": 1.5,
          "arrowwidth": 1,
          "ax": -35.21111111111111,
          "axref": "x",
          "ay": 4,
          "ayref": "y",
          "showarrow": true,
          "x": -31.21111111111111,
          "xref": "x",
          "y": 3,
          "yref": "y"
         },
         {
          "arrowcolor": "rgb(210,210,210)",
          "arrowhead": 2,
          "arrowsize": 1.5,
          "arrowwidth": 1,
          "ax": 0,
          "axref": "x",
          "ay": 6,
          "ayref": "y",
          "showarrow": true,
          "x": -19.111111111111107,
          "xref": "x",
          "y": 5,
          "yref": "y"
         },
         {
          "arrowcolor": "rgb(210,210,210)",
          "arrowhead": 2,
          "arrowsize": 1.5,
          "arrowwidth": 1,
          "ax": -19.111111111111107,
          "axref": "x",
          "ay": 5,
          "ayref": "y",
          "showarrow": true,
          "x": -28.71111111111111,
          "xref": "x",
          "y": 4,
          "yref": "y"
         },
         {
          "arrowcolor": "rgb(210,210,210)",
          "arrowhead": 2,
          "arrowsize": 1.5,
          "arrowwidth": 1,
          "ax": -28.71111111111111,
          "axref": "x",
          "ay": 4,
          "ayref": "y",
          "showarrow": true,
          "x": -30.21111111111111,
          "xref": "x",
          "y": 3,
          "yref": "y"
         },
         {
          "arrowcolor": "rgb(210,210,210)",
          "arrowhead": 2,
          "arrowsize": 1.5,
          "arrowwidth": 1,
          "ax": -28.71111111111111,
          "axref": "x",
          "ay": 4,
          "ayref": "y",
          "showarrow": true,
          "x": -29.21111111111111,
          "xref": "x",
          "y": 3,
          "yref": "y"
         },
         {
          "arrowcolor": "rgb(210,210,210)",
          "arrowhead": 2,
          "arrowsize": 1.5,
          "arrowwidth": 1,
          "ax": -28.71111111111111,
          "axref": "x",
          "ay": 4,
          "ayref": "y",
          "showarrow": true,
          "x": -28.21111111111111,
          "xref": "x",
          "y": 3,
          "yref": "y"
         },
         {
          "arrowcolor": "rgb(210,210,210)",
          "arrowhead": 2,
          "arrowsize": 1.5,
          "arrowwidth": 1,
          "ax": -28.71111111111111,
          "axref": "x",
          "ay": 4,
          "ayref": "y",
          "showarrow": true,
          "x": -27.21111111111111,
          "xref": "x",
          "y": 3,
          "yref": "y"
         },
         {
          "arrowcolor": "rgb(210,210,210)",
          "arrowhead": 2,
          "arrowsize": 1.5,
          "arrowwidth": 1,
          "ax": -19.111111111111107,
          "axref": "x",
          "ay": 5,
          "ayref": "y",
          "showarrow": true,
          "x": -25.21111111111111,
          "xref": "x",
          "y": 4,
          "yref": "y"
         },
         {
          "arrowcolor": "rgb(210,210,210)",
          "arrowhead": 2,
          "arrowsize": 1.5,
          "arrowwidth": 1,
          "ax": -25.21111111111111,
          "axref": "x",
          "ay": 4,
          "ayref": "y",
          "showarrow": true,
          "x": -26.21111111111111,
          "xref": "x",
          "y": 3,
          "yref": "y"
         },
         {
          "arrowcolor": "rgb(210,210,210)",
          "arrowhead": 2,
          "arrowsize": 1.5,
          "arrowwidth": 1,
          "ax": -25.21111111111111,
          "axref": "x",
          "ay": 4,
          "ayref": "y",
          "showarrow": true,
          "x": -25.21111111111111,
          "xref": "x",
          "y": 3,
          "yref": "y"
         },
         {
          "arrowcolor": "rgb(210,210,210)",
          "arrowhead": 2,
          "arrowsize": 1.5,
          "arrowwidth": 1,
          "ax": -25.21111111111111,
          "axref": "x",
          "ay": 4,
          "ayref": "y",
          "showarrow": true,
          "x": -24.21111111111111,
          "xref": "x",
          "y": 3,
          "yref": "y"
         },
         {
          "arrowcolor": "rgb(210,210,210)",
          "arrowhead": 2,
          "arrowsize": 1.5,
          "arrowwidth": 1,
          "ax": -19.111111111111107,
          "axref": "x",
          "ay": 5,
          "ayref": "y",
          "showarrow": true,
          "x": -21.21111111111111,
          "xref": "x",
          "y": 4,
          "yref": "y"
         },
         {
          "arrowcolor": "rgb(210,210,210)",
          "arrowhead": 2,
          "arrowsize": 1.5,
          "arrowwidth": 1,
          "ax": -21.21111111111111,
          "axref": "x",
          "ay": 4,
          "ayref": "y",
          "showarrow": true,
          "x": -23.21111111111111,
          "xref": "x",
          "y": 3,
          "yref": "y"
         },
         {
          "arrowcolor": "rgb(210,210,210)",
          "arrowhead": 2,
          "arrowsize": 1.5,
          "arrowwidth": 1,
          "ax": -21.21111111111111,
          "axref": "x",
          "ay": 4,
          "ayref": "y",
          "showarrow": true,
          "x": -22.21111111111111,
          "xref": "x",
          "y": 3,
          "yref": "y"
         },
         {
          "arrowcolor": "rgb(210,210,210)",
          "arrowhead": 2,
          "arrowsize": 1.5,
          "arrowwidth": 1,
          "ax": -21.21111111111111,
          "axref": "x",
          "ay": 4,
          "ayref": "y",
          "showarrow": true,
          "x": -21.21111111111111,
          "xref": "x",
          "y": 3,
          "yref": "y"
         },
         {
          "arrowcolor": "rgb(210,210,210)",
          "arrowhead": 2,
          "arrowsize": 1.5,
          "arrowwidth": 1,
          "ax": -21.21111111111111,
          "axref": "x",
          "ay": 4,
          "ayref": "y",
          "showarrow": true,
          "x": -20.21111111111111,
          "xref": "x",
          "y": 3,
          "yref": "y"
         },
         {
          "arrowcolor": "rgb(210,210,210)",
          "arrowhead": 2,
          "arrowsize": 1.5,
          "arrowwidth": 1,
          "ax": -21.21111111111111,
          "axref": "x",
          "ay": 4,
          "ayref": "y",
          "showarrow": true,
          "x": -19.21111111111111,
          "xref": "x",
          "y": 3,
          "yref": "y"
         },
         {
          "arrowcolor": "rgb(210,210,210)",
          "arrowhead": 2,
          "arrowsize": 1.5,
          "arrowwidth": 1,
          "ax": -19.111111111111107,
          "axref": "x",
          "ay": 5,
          "ayref": "y",
          "showarrow": true,
          "x": -14.711111111111107,
          "xref": "x",
          "y": 4,
          "yref": "y"
         },
         {
          "arrowcolor": "rgb(210,210,210)",
          "arrowhead": 2,
          "arrowsize": 1.5,
          "arrowwidth": 1,
          "ax": -14.711111111111107,
          "axref": "x",
          "ay": 4,
          "ayref": "y",
          "showarrow": true,
          "x": -18.21111111111111,
          "xref": "x",
          "y": 3,
          "yref": "y"
         },
         {
          "arrowcolor": "rgb(210,210,210)",
          "arrowhead": 2,
          "arrowsize": 1.5,
          "arrowwidth": 1,
          "ax": -14.711111111111107,
          "axref": "x",
          "ay": 4,
          "ayref": "y",
          "showarrow": true,
          "x": -17.21111111111111,
          "xref": "x",
          "y": 3,
          "yref": "y"
         },
         {
          "arrowcolor": "rgb(210,210,210)",
          "arrowhead": 2,
          "arrowsize": 1.5,
          "arrowwidth": 1,
          "ax": -14.711111111111107,
          "axref": "x",
          "ay": 4,
          "ayref": "y",
          "showarrow": true,
          "x": -16.21111111111111,
          "xref": "x",
          "y": 3,
          "yref": "y"
         },
         {
          "arrowcolor": "rgb(210,210,210)",
          "arrowhead": 2,
          "arrowsize": 1.5,
          "arrowwidth": 1,
          "ax": -14.711111111111107,
          "axref": "x",
          "ay": 4,
          "ayref": "y",
          "showarrow": true,
          "x": -15.211111111111107,
          "xref": "x",
          "y": 3,
          "yref": "y"
         },
         {
          "arrowcolor": "rgb(210,210,210)",
          "arrowhead": 2,
          "arrowsize": 1.5,
          "arrowwidth": 1,
          "ax": -14.711111111111107,
          "axref": "x",
          "ay": 4,
          "ayref": "y",
          "showarrow": true,
          "x": -14.211111111111107,
          "xref": "x",
          "y": 3,
          "yref": "y"
         },
         {
          "arrowcolor": "rgb(210,210,210)",
          "arrowhead": 2,
          "arrowsize": 1.5,
          "arrowwidth": 1,
          "ax": -14.711111111111107,
          "axref": "x",
          "ay": 4,
          "ayref": "y",
          "showarrow": true,
          "x": -13.211111111111107,
          "xref": "x",
          "y": 3,
          "yref": "y"
         },
         {
          "arrowcolor": "rgb(210,210,210)",
          "arrowhead": 2,
          "arrowsize": 1.5,
          "arrowwidth": 1,
          "ax": -14.711111111111107,
          "axref": "x",
          "ay": 4,
          "ayref": "y",
          "showarrow": true,
          "x": -12.211111111111107,
          "xref": "x",
          "y": 3,
          "yref": "y"
         },
         {
          "arrowcolor": "rgb(210,210,210)",
          "arrowhead": 2,
          "arrowsize": 1.5,
          "arrowwidth": 1,
          "ax": -14.711111111111107,
          "axref": "x",
          "ay": 4,
          "ayref": "y",
          "showarrow": true,
          "x": -11.211111111111107,
          "xref": "x",
          "y": 3,
          "yref": "y"
         },
         {
          "arrowcolor": "rgb(210,210,210)",
          "arrowhead": 2,
          "arrowsize": 1.5,
          "arrowwidth": 1,
          "ax": -19.111111111111107,
          "axref": "x",
          "ay": 5,
          "ayref": "y",
          "showarrow": true,
          "x": -5.711111111111107,
          "xref": "x",
          "y": 4,
          "yref": "y"
         },
         {
          "arrowcolor": "rgb(210,210,210)",
          "arrowhead": 2,
          "arrowsize": 1.5,
          "arrowwidth": 1,
          "ax": -5.711111111111107,
          "axref": "x",
          "ay": 4,
          "ayref": "y",
          "showarrow": true,
          "x": -10.211111111111107,
          "xref": "x",
          "y": 3,
          "yref": "y"
         },
         {
          "arrowcolor": "rgb(210,210,210)",
          "arrowhead": 2,
          "arrowsize": 1.5,
          "arrowwidth": 1,
          "ax": -5.711111111111107,
          "axref": "x",
          "ay": 4,
          "ayref": "y",
          "showarrow": true,
          "x": -9.211111111111107,
          "xref": "x",
          "y": 3,
          "yref": "y"
         },
         {
          "arrowcolor": "rgb(210,210,210)",
          "arrowhead": 2,
          "arrowsize": 1.5,
          "arrowwidth": 1,
          "ax": -5.711111111111107,
          "axref": "x",
          "ay": 4,
          "ayref": "y",
          "showarrow": true,
          "x": -8.211111111111107,
          "xref": "x",
          "y": 3,
          "yref": "y"
         },
         {
          "arrowcolor": "rgb(210,210,210)",
          "arrowhead": 2,
          "arrowsize": 1.5,
          "arrowwidth": 1,
          "ax": -5.711111111111107,
          "axref": "x",
          "ay": 4,
          "ayref": "y",
          "showarrow": true,
          "x": -7.211111111111107,
          "xref": "x",
          "y": 3,
          "yref": "y"
         },
         {
          "arrowcolor": "rgb(210,210,210)",
          "arrowhead": 2,
          "arrowsize": 1.5,
          "arrowwidth": 1,
          "ax": -5.711111111111107,
          "axref": "x",
          "ay": 4,
          "ayref": "y",
          "showarrow": true,
          "x": -6.211111111111107,
          "xref": "x",
          "y": 3,
          "yref": "y"
         },
         {
          "arrowcolor": "rgb(210,210,210)",
          "arrowhead": 2,
          "arrowsize": 1.5,
          "arrowwidth": 1,
          "ax": -5.711111111111107,
          "axref": "x",
          "ay": 4,
          "ayref": "y",
          "showarrow": true,
          "x": -5.211111111111107,
          "xref": "x",
          "y": 3,
          "yref": "y"
         },
         {
          "arrowcolor": "rgb(210,210,210)",
          "arrowhead": 2,
          "arrowsize": 1.5,
          "arrowwidth": 1,
          "ax": -5.711111111111107,
          "axref": "x",
          "ay": 4,
          "ayref": "y",
          "showarrow": true,
          "x": -4.211111111111107,
          "xref": "x",
          "y": 3,
          "yref": "y"
         },
         {
          "arrowcolor": "rgb(210,210,210)",
          "arrowhead": 2,
          "arrowsize": 1.5,
          "arrowwidth": 1,
          "ax": -5.711111111111107,
          "axref": "x",
          "ay": 4,
          "ayref": "y",
          "showarrow": true,
          "x": -3.211111111111107,
          "xref": "x",
          "y": 3,
          "yref": "y"
         },
         {
          "arrowcolor": "rgb(210,210,210)",
          "arrowhead": 2,
          "arrowsize": 1.5,
          "arrowwidth": 1,
          "ax": -5.711111111111107,
          "axref": "x",
          "ay": 4,
          "ayref": "y",
          "showarrow": true,
          "x": -2.211111111111107,
          "xref": "x",
          "y": 3,
          "yref": "y"
         },
         {
          "arrowcolor": "rgb(210,210,210)",
          "arrowhead": 2,
          "arrowsize": 1.5,
          "arrowwidth": 1,
          "ax": -5.711111111111107,
          "axref": "x",
          "ay": 4,
          "ayref": "y",
          "showarrow": true,
          "x": -1.2111111111111068,
          "xref": "x",
          "y": 3,
          "yref": "y"
         },
         {
          "arrowcolor": "rgb(210,210,210)",
          "arrowhead": 2,
          "arrowsize": 1.5,
          "arrowwidth": 1,
          "ax": 0,
          "axref": "x",
          "ay": 6,
          "ayref": "y",
          "showarrow": true,
          "x": 4.038888888888891,
          "xref": "x",
          "y": 5,
          "yref": "y"
         },
         {
          "arrowcolor": "rgb(210,210,210)",
          "arrowhead": 2,
          "arrowsize": 1.5,
          "arrowwidth": 1,
          "ax": 4.038888888888891,
          "axref": "x",
          "ay": 5,
          "ayref": "y",
          "showarrow": true,
          "x": 1.7888888888888914,
          "xref": "x",
          "y": 4,
          "yref": "y"
         },
         {
          "arrowcolor": "rgb(210,210,210)",
          "arrowhead": 2,
          "arrowsize": 1.5,
          "arrowwidth": 1,
          "ax": 1.7888888888888914,
          "axref": "x",
          "ay": 4,
          "ayref": "y",
          "showarrow": true,
          "x": -0.21111111111110858,
          "xref": "x",
          "y": 3,
          "yref": "y"
         },
         {
          "arrowcolor": "rgb(210,210,210)",
          "arrowhead": 2,
          "arrowsize": 1.5,
          "arrowwidth": 1,
          "ax": 1.7888888888888914,
          "axref": "x",
          "ay": 4,
          "ayref": "y",
          "showarrow": true,
          "x": 0.7888888888888914,
          "xref": "x",
          "y": 3,
          "yref": "y"
         },
         {
          "arrowcolor": "rgb(210,210,210)",
          "arrowhead": 2,
          "arrowsize": 1.5,
          "arrowwidth": 1,
          "ax": 1.7888888888888914,
          "axref": "x",
          "ay": 4,
          "ayref": "y",
          "showarrow": true,
          "x": 1.7888888888888914,
          "xref": "x",
          "y": 3,
          "yref": "y"
         },
         {
          "arrowcolor": "rgb(210,210,210)",
          "arrowhead": 2,
          "arrowsize": 1.5,
          "arrowwidth": 1,
          "ax": 1.7888888888888914,
          "axref": "x",
          "ay": 4,
          "ayref": "y",
          "showarrow": true,
          "x": 2.7888888888888914,
          "xref": "x",
          "y": 3,
          "yref": "y"
         },
         {
          "arrowcolor": "rgb(210,210,210)",
          "arrowhead": 2,
          "arrowsize": 1.5,
          "arrowwidth": 1,
          "ax": 1.7888888888888914,
          "axref": "x",
          "ay": 4,
          "ayref": "y",
          "showarrow": true,
          "x": 3.7888888888888914,
          "xref": "x",
          "y": 3,
          "yref": "y"
         },
         {
          "arrowcolor": "rgb(210,210,210)",
          "arrowhead": 2,
          "arrowsize": 1.5,
          "arrowwidth": 1,
          "ax": 4.038888888888891,
          "axref": "x",
          "ay": 5,
          "ayref": "y",
          "showarrow": true,
          "x": 6.288888888888891,
          "xref": "x",
          "y": 4,
          "yref": "y"
         },
         {
          "arrowcolor": "rgb(210,210,210)",
          "arrowhead": 2,
          "arrowsize": 1.5,
          "arrowwidth": 1,
          "ax": 6.288888888888891,
          "axref": "x",
          "ay": 4,
          "ayref": "y",
          "showarrow": true,
          "x": 4.788888888888891,
          "xref": "x",
          "y": 3,
          "yref": "y"
         },
         {
          "arrowcolor": "rgb(210,210,210)",
          "arrowhead": 2,
          "arrowsize": 1.5,
          "arrowwidth": 1,
          "ax": 6.288888888888891,
          "axref": "x",
          "ay": 4,
          "ayref": "y",
          "showarrow": true,
          "x": 5.788888888888891,
          "xref": "x",
          "y": 3,
          "yref": "y"
         },
         {
          "arrowcolor": "rgb(210,210,210)",
          "arrowhead": 2,
          "arrowsize": 1.5,
          "arrowwidth": 1,
          "ax": 6.288888888888891,
          "axref": "x",
          "ay": 4,
          "ayref": "y",
          "showarrow": true,
          "x": 6.788888888888891,
          "xref": "x",
          "y": 3,
          "yref": "y"
         },
         {
          "arrowcolor": "rgb(210,210,210)",
          "arrowhead": 2,
          "arrowsize": 1.5,
          "arrowwidth": 1,
          "ax": 6.288888888888891,
          "axref": "x",
          "ay": 4,
          "ayref": "y",
          "showarrow": true,
          "x": 7.788888888888891,
          "xref": "x",
          "y": 3,
          "yref": "y"
         },
         {
          "arrowcolor": "rgb(210,210,210)",
          "arrowhead": 2,
          "arrowsize": 1.5,
          "arrowwidth": 1,
          "ax": 0,
          "axref": "x",
          "ay": 6,
          "ayref": "y",
          "showarrow": true,
          "x": 11.288888888888899,
          "xref": "x",
          "y": 5,
          "yref": "y"
         },
         {
          "arrowcolor": "rgb(210,210,210)",
          "arrowhead": 2,
          "arrowsize": 1.5,
          "arrowwidth": 1,
          "ax": 11.288888888888899,
          "axref": "x",
          "ay": 5,
          "ayref": "y",
          "showarrow": true,
          "x": 11.288888888888899,
          "xref": "x",
          "y": 4,
          "yref": "y"
         },
         {
          "arrowcolor": "rgb(210,210,210)",
          "arrowhead": 2,
          "arrowsize": 1.5,
          "arrowwidth": 1,
          "ax": 11.288888888888899,
          "axref": "x",
          "ay": 4,
          "ayref": "y",
          "showarrow": true,
          "x": 8.788888888888899,
          "xref": "x",
          "y": 3,
          "yref": "y"
         },
         {
          "arrowcolor": "rgb(210,210,210)",
          "arrowhead": 2,
          "arrowsize": 1.5,
          "arrowwidth": 1,
          "ax": 11.288888888888899,
          "axref": "x",
          "ay": 4,
          "ayref": "y",
          "showarrow": true,
          "x": 9.788888888888899,
          "xref": "x",
          "y": 3,
          "yref": "y"
         },
         {
          "arrowcolor": "rgb(210,210,210)",
          "arrowhead": 2,
          "arrowsize": 1.5,
          "arrowwidth": 1,
          "ax": 11.288888888888899,
          "axref": "x",
          "ay": 4,
          "ayref": "y",
          "showarrow": true,
          "x": 10.788888888888899,
          "xref": "x",
          "y": 3,
          "yref": "y"
         },
         {
          "arrowcolor": "rgb(210,210,210)",
          "arrowhead": 2,
          "arrowsize": 1.5,
          "arrowwidth": 1,
          "ax": 11.288888888888899,
          "axref": "x",
          "ay": 4,
          "ayref": "y",
          "showarrow": true,
          "x": 11.788888888888899,
          "xref": "x",
          "y": 3,
          "yref": "y"
         },
         {
          "arrowcolor": "rgb(210,210,210)",
          "arrowhead": 2,
          "arrowsize": 1.5,
          "arrowwidth": 1,
          "ax": 11.288888888888899,
          "axref": "x",
          "ay": 4,
          "ayref": "y",
          "showarrow": true,
          "x": 12.788888888888899,
          "xref": "x",
          "y": 3,
          "yref": "y"
         },
         {
          "arrowcolor": "rgb(210,210,210)",
          "arrowhead": 2,
          "arrowsize": 1.5,
          "arrowwidth": 1,
          "ax": 11.288888888888899,
          "axref": "x",
          "ay": 4,
          "ayref": "y",
          "showarrow": true,
          "x": 13.788888888888899,
          "xref": "x",
          "y": 3,
          "yref": "y"
         },
         {
          "arrowcolor": "rgb(210,210,210)",
          "arrowhead": 2,
          "arrowsize": 1.5,
          "arrowwidth": 1,
          "ax": 0,
          "axref": "x",
          "ay": 6,
          "ayref": "y",
          "showarrow": true,
          "x": 23.2888888888889,
          "xref": "x",
          "y": 5,
          "yref": "y"
         },
         {
          "arrowcolor": "rgb(210,210,210)",
          "arrowhead": 2,
          "arrowsize": 1.5,
          "arrowwidth": 1,
          "ax": 23.2888888888889,
          "axref": "x",
          "ay": 5,
          "ayref": "y",
          "showarrow": true,
          "x": 18.7888888888889,
          "xref": "x",
          "y": 4,
          "yref": "y"
         },
         {
          "arrowcolor": "rgb(210,210,210)",
          "arrowhead": 2,
          "arrowsize": 1.5,
          "arrowwidth": 1,
          "ax": 18.7888888888889,
          "axref": "x",
          "ay": 4,
          "ayref": "y",
          "showarrow": true,
          "x": 14.788888888888899,
          "xref": "x",
          "y": 3,
          "yref": "y"
         },
         {
          "arrowcolor": "rgb(210,210,210)",
          "arrowhead": 2,
          "arrowsize": 1.5,
          "arrowwidth": 1,
          "ax": 18.7888888888889,
          "axref": "x",
          "ay": 4,
          "ayref": "y",
          "showarrow": true,
          "x": 15.788888888888899,
          "xref": "x",
          "y": 3,
          "yref": "y"
         },
         {
          "arrowcolor": "rgb(210,210,210)",
          "arrowhead": 2,
          "arrowsize": 1.5,
          "arrowwidth": 1,
          "ax": 18.7888888888889,
          "axref": "x",
          "ay": 4,
          "ayref": "y",
          "showarrow": true,
          "x": 16.7888888888889,
          "xref": "x",
          "y": 3,
          "yref": "y"
         },
         {
          "arrowcolor": "rgb(210,210,210)",
          "arrowhead": 2,
          "arrowsize": 1.5,
          "arrowwidth": 1,
          "ax": 18.7888888888889,
          "axref": "x",
          "ay": 4,
          "ayref": "y",
          "showarrow": true,
          "x": 17.7888888888889,
          "xref": "x",
          "y": 3,
          "yref": "y"
         },
         {
          "arrowcolor": "rgb(210,210,210)",
          "arrowhead": 2,
          "arrowsize": 1.5,
          "arrowwidth": 1,
          "ax": 18.7888888888889,
          "axref": "x",
          "ay": 4,
          "ayref": "y",
          "showarrow": true,
          "x": 18.7888888888889,
          "xref": "x",
          "y": 3,
          "yref": "y"
         },
         {
          "arrowcolor": "rgb(210,210,210)",
          "arrowhead": 2,
          "arrowsize": 1.5,
          "arrowwidth": 1,
          "ax": 18.7888888888889,
          "axref": "x",
          "ay": 4,
          "ayref": "y",
          "showarrow": true,
          "x": 19.7888888888889,
          "xref": "x",
          "y": 3,
          "yref": "y"
         },
         {
          "arrowcolor": "rgb(210,210,210)",
          "arrowhead": 2,
          "arrowsize": 1.5,
          "arrowwidth": 1,
          "ax": 18.7888888888889,
          "axref": "x",
          "ay": 4,
          "ayref": "y",
          "showarrow": true,
          "x": 20.7888888888889,
          "xref": "x",
          "y": 3,
          "yref": "y"
         },
         {
          "arrowcolor": "rgb(210,210,210)",
          "arrowhead": 2,
          "arrowsize": 1.5,
          "arrowwidth": 1,
          "ax": 18.7888888888889,
          "axref": "x",
          "ay": 4,
          "ayref": "y",
          "showarrow": true,
          "x": 21.7888888888889,
          "xref": "x",
          "y": 3,
          "yref": "y"
         },
         {
          "arrowcolor": "rgb(210,210,210)",
          "arrowhead": 2,
          "arrowsize": 1.5,
          "arrowwidth": 1,
          "ax": 18.7888888888889,
          "axref": "x",
          "ay": 4,
          "ayref": "y",
          "showarrow": true,
          "x": 22.7888888888889,
          "xref": "x",
          "y": 3,
          "yref": "y"
         },
         {
          "arrowcolor": "rgb(210,210,210)",
          "arrowhead": 2,
          "arrowsize": 1.5,
          "arrowwidth": 1,
          "ax": 23.2888888888889,
          "axref": "x",
          "ay": 5,
          "ayref": "y",
          "showarrow": true,
          "x": 27.7888888888889,
          "xref": "x",
          "y": 4,
          "yref": "y"
         },
         {
          "arrowcolor": "rgb(210,210,210)",
          "arrowhead": 2,
          "arrowsize": 1.5,
          "arrowwidth": 1,
          "ax": 27.7888888888889,
          "axref": "x",
          "ay": 4,
          "ayref": "y",
          "showarrow": true,
          "x": 23.7888888888889,
          "xref": "x",
          "y": 3,
          "yref": "y"
         },
         {
          "arrowcolor": "rgb(210,210,210)",
          "arrowhead": 2,
          "arrowsize": 1.5,
          "arrowwidth": 1,
          "ax": 27.7888888888889,
          "axref": "x",
          "ay": 4,
          "ayref": "y",
          "showarrow": true,
          "x": 24.7888888888889,
          "xref": "x",
          "y": 3,
          "yref": "y"
         },
         {
          "arrowcolor": "rgb(210,210,210)",
          "arrowhead": 2,
          "arrowsize": 1.5,
          "arrowwidth": 1,
          "ax": 27.7888888888889,
          "axref": "x",
          "ay": 4,
          "ayref": "y",
          "showarrow": true,
          "x": 25.7888888888889,
          "xref": "x",
          "y": 3,
          "yref": "y"
         },
         {
          "arrowcolor": "rgb(210,210,210)",
          "arrowhead": 2,
          "arrowsize": 1.5,
          "arrowwidth": 1,
          "ax": 27.7888888888889,
          "axref": "x",
          "ay": 4,
          "ayref": "y",
          "showarrow": true,
          "x": 26.7888888888889,
          "xref": "x",
          "y": 3,
          "yref": "y"
         },
         {
          "arrowcolor": "rgb(210,210,210)",
          "arrowhead": 2,
          "arrowsize": 1.5,
          "arrowwidth": 1,
          "ax": 27.7888888888889,
          "axref": "x",
          "ay": 4,
          "ayref": "y",
          "showarrow": true,
          "x": 27.7888888888889,
          "xref": "x",
          "y": 3,
          "yref": "y"
         },
         {
          "arrowcolor": "rgb(210,210,210)",
          "arrowhead": 2,
          "arrowsize": 1.5,
          "arrowwidth": 1,
          "ax": 27.7888888888889,
          "axref": "x",
          "ay": 4,
          "ayref": "y",
          "showarrow": true,
          "x": 28.7888888888889,
          "xref": "x",
          "y": 3,
          "yref": "y"
         },
         {
          "arrowcolor": "rgb(210,210,210)",
          "arrowhead": 2,
          "arrowsize": 1.5,
          "arrowwidth": 1,
          "ax": 27.7888888888889,
          "axref": "x",
          "ay": 4,
          "ayref": "y",
          "showarrow": true,
          "x": 29.7888888888889,
          "xref": "x",
          "y": 3,
          "yref": "y"
         },
         {
          "arrowcolor": "rgb(210,210,210)",
          "arrowhead": 2,
          "arrowsize": 1.5,
          "arrowwidth": 1,
          "ax": 27.7888888888889,
          "axref": "x",
          "ay": 4,
          "ayref": "y",
          "showarrow": true,
          "x": 30.7888888888889,
          "xref": "x",
          "y": 3,
          "yref": "y"
         },
         {
          "arrowcolor": "rgb(210,210,210)",
          "arrowhead": 2,
          "arrowsize": 1.5,
          "arrowwidth": 1,
          "ax": 27.7888888888889,
          "axref": "x",
          "ay": 4,
          "ayref": "y",
          "showarrow": true,
          "x": 31.7888888888889,
          "xref": "x",
          "y": 3,
          "yref": "y"
         },
         {
          "arrowcolor": "rgb(210,210,210)",
          "arrowhead": 2,
          "arrowsize": 1.5,
          "arrowwidth": 1,
          "ax": 0,
          "axref": "x",
          "ay": 6,
          "ayref": "y",
          "showarrow": true,
          "x": 33.2888888888889,
          "xref": "x",
          "y": 5,
          "yref": "y"
         },
         {
          "arrowcolor": "rgb(210,210,210)",
          "arrowhead": 2,
          "arrowsize": 1.5,
          "arrowwidth": 1,
          "ax": 33.2888888888889,
          "axref": "x",
          "ay": 5,
          "ayref": "y",
          "showarrow": true,
          "x": 33.2888888888889,
          "xref": "x",
          "y": 4,
          "yref": "y"
         },
         {
          "arrowcolor": "rgb(210,210,210)",
          "arrowhead": 2,
          "arrowsize": 1.5,
          "arrowwidth": 1,
          "ax": 33.2888888888889,
          "axref": "x",
          "ay": 4,
          "ayref": "y",
          "showarrow": true,
          "x": 32.7888888888889,
          "xref": "x",
          "y": 3,
          "yref": "y"
         },
         {
          "arrowcolor": "rgb(210,210,210)",
          "arrowhead": 2,
          "arrowsize": 1.5,
          "arrowwidth": 1,
          "ax": 33.2888888888889,
          "axref": "x",
          "ay": 4,
          "ayref": "y",
          "showarrow": true,
          "x": 33.7888888888889,
          "xref": "x",
          "y": 3,
          "yref": "y"
         }
        ],
        "font": {
         "size": 12
        },
        "hovermode": "closest",
        "margin": {
         "b": 85,
         "l": 40,
         "r": 40,
         "t": 100
        },
        "plot_bgcolor": "rgb(248,248,248)",
        "showlegend": false,
        "template": {
         "data": {
          "bar": [
           {
            "error_x": {
             "color": "#2a3f5f"
            },
            "error_y": {
             "color": "#2a3f5f"
            },
            "marker": {
             "line": {
              "color": "#E5ECF6",
              "width": 0.5
             },
             "pattern": {
              "fillmode": "overlay",
              "size": 10,
              "solidity": 0.2
             }
            },
            "type": "bar"
           }
          ],
          "barpolar": [
           {
            "marker": {
             "line": {
              "color": "#E5ECF6",
              "width": 0.5
             },
             "pattern": {
              "fillmode": "overlay",
              "size": 10,
              "solidity": 0.2
             }
            },
            "type": "barpolar"
           }
          ],
          "carpet": [
           {
            "aaxis": {
             "endlinecolor": "#2a3f5f",
             "gridcolor": "white",
             "linecolor": "white",
             "minorgridcolor": "white",
             "startlinecolor": "#2a3f5f"
            },
            "baxis": {
             "endlinecolor": "#2a3f5f",
             "gridcolor": "white",
             "linecolor": "white",
             "minorgridcolor": "white",
             "startlinecolor": "#2a3f5f"
            },
            "type": "carpet"
           }
          ],
          "choropleth": [
           {
            "colorbar": {
             "outlinewidth": 0,
             "ticks": ""
            },
            "type": "choropleth"
           }
          ],
          "contour": [
           {
            "colorbar": {
             "outlinewidth": 0,
             "ticks": ""
            },
            "colorscale": [
             [
              0,
              "#0d0887"
             ],
             [
              0.1111111111111111,
              "#46039f"
             ],
             [
              0.2222222222222222,
              "#7201a8"
             ],
             [
              0.3333333333333333,
              "#9c179e"
             ],
             [
              0.4444444444444444,
              "#bd3786"
             ],
             [
              0.5555555555555556,
              "#d8576b"
             ],
             [
              0.6666666666666666,
              "#ed7953"
             ],
             [
              0.7777777777777778,
              "#fb9f3a"
             ],
             [
              0.8888888888888888,
              "#fdca26"
             ],
             [
              1,
              "#f0f921"
             ]
            ],
            "type": "contour"
           }
          ],
          "contourcarpet": [
           {
            "colorbar": {
             "outlinewidth": 0,
             "ticks": ""
            },
            "type": "contourcarpet"
           }
          ],
          "heatmap": [
           {
            "colorbar": {
             "outlinewidth": 0,
             "ticks": ""
            },
            "colorscale": [
             [
              0,
              "#0d0887"
             ],
             [
              0.1111111111111111,
              "#46039f"
             ],
             [
              0.2222222222222222,
              "#7201a8"
             ],
             [
              0.3333333333333333,
              "#9c179e"
             ],
             [
              0.4444444444444444,
              "#bd3786"
             ],
             [
              0.5555555555555556,
              "#d8576b"
             ],
             [
              0.6666666666666666,
              "#ed7953"
             ],
             [
              0.7777777777777778,
              "#fb9f3a"
             ],
             [
              0.8888888888888888,
              "#fdca26"
             ],
             [
              1,
              "#f0f921"
             ]
            ],
            "type": "heatmap"
           }
          ],
          "heatmapgl": [
           {
            "colorbar": {
             "outlinewidth": 0,
             "ticks": ""
            },
            "colorscale": [
             [
              0,
              "#0d0887"
             ],
             [
              0.1111111111111111,
              "#46039f"
             ],
             [
              0.2222222222222222,
              "#7201a8"
             ],
             [
              0.3333333333333333,
              "#9c179e"
             ],
             [
              0.4444444444444444,
              "#bd3786"
             ],
             [
              0.5555555555555556,
              "#d8576b"
             ],
             [
              0.6666666666666666,
              "#ed7953"
             ],
             [
              0.7777777777777778,
              "#fb9f3a"
             ],
             [
              0.8888888888888888,
              "#fdca26"
             ],
             [
              1,
              "#f0f921"
             ]
            ],
            "type": "heatmapgl"
           }
          ],
          "histogram": [
           {
            "marker": {
             "pattern": {
              "fillmode": "overlay",
              "size": 10,
              "solidity": 0.2
             }
            },
            "type": "histogram"
           }
          ],
          "histogram2d": [
           {
            "colorbar": {
             "outlinewidth": 0,
             "ticks": ""
            },
            "colorscale": [
             [
              0,
              "#0d0887"
             ],
             [
              0.1111111111111111,
              "#46039f"
             ],
             [
              0.2222222222222222,
              "#7201a8"
             ],
             [
              0.3333333333333333,
              "#9c179e"
             ],
             [
              0.4444444444444444,
              "#bd3786"
             ],
             [
              0.5555555555555556,
              "#d8576b"
             ],
             [
              0.6666666666666666,
              "#ed7953"
             ],
             [
              0.7777777777777778,
              "#fb9f3a"
             ],
             [
              0.8888888888888888,
              "#fdca26"
             ],
             [
              1,
              "#f0f921"
             ]
            ],
            "type": "histogram2d"
           }
          ],
          "histogram2dcontour": [
           {
            "colorbar": {
             "outlinewidth": 0,
             "ticks": ""
            },
            "colorscale": [
             [
              0,
              "#0d0887"
             ],
             [
              0.1111111111111111,
              "#46039f"
             ],
             [
              0.2222222222222222,
              "#7201a8"
             ],
             [
              0.3333333333333333,
              "#9c179e"
             ],
             [
              0.4444444444444444,
              "#bd3786"
             ],
             [
              0.5555555555555556,
              "#d8576b"
             ],
             [
              0.6666666666666666,
              "#ed7953"
             ],
             [
              0.7777777777777778,
              "#fb9f3a"
             ],
             [
              0.8888888888888888,
              "#fdca26"
             ],
             [
              1,
              "#f0f921"
             ]
            ],
            "type": "histogram2dcontour"
           }
          ],
          "mesh3d": [
           {
            "colorbar": {
             "outlinewidth": 0,
             "ticks": ""
            },
            "type": "mesh3d"
           }
          ],
          "parcoords": [
           {
            "line": {
             "colorbar": {
              "outlinewidth": 0,
              "ticks": ""
             }
            },
            "type": "parcoords"
           }
          ],
          "pie": [
           {
            "automargin": true,
            "type": "pie"
           }
          ],
          "scatter": [
           {
            "fillpattern": {
             "fillmode": "overlay",
             "size": 10,
             "solidity": 0.2
            },
            "type": "scatter"
           }
          ],
          "scatter3d": [
           {
            "line": {
             "colorbar": {
              "outlinewidth": 0,
              "ticks": ""
             }
            },
            "marker": {
             "colorbar": {
              "outlinewidth": 0,
              "ticks": ""
             }
            },
            "type": "scatter3d"
           }
          ],
          "scattercarpet": [
           {
            "marker": {
             "colorbar": {
              "outlinewidth": 0,
              "ticks": ""
             }
            },
            "type": "scattercarpet"
           }
          ],
          "scattergeo": [
           {
            "marker": {
             "colorbar": {
              "outlinewidth": 0,
              "ticks": ""
             }
            },
            "type": "scattergeo"
           }
          ],
          "scattergl": [
           {
            "marker": {
             "colorbar": {
              "outlinewidth": 0,
              "ticks": ""
             }
            },
            "type": "scattergl"
           }
          ],
          "scattermapbox": [
           {
            "marker": {
             "colorbar": {
              "outlinewidth": 0,
              "ticks": ""
             }
            },
            "type": "scattermapbox"
           }
          ],
          "scatterpolar": [
           {
            "marker": {
             "colorbar": {
              "outlinewidth": 0,
              "ticks": ""
             }
            },
            "type": "scatterpolar"
           }
          ],
          "scatterpolargl": [
           {
            "marker": {
             "colorbar": {
              "outlinewidth": 0,
              "ticks": ""
             }
            },
            "type": "scatterpolargl"
           }
          ],
          "scatterternary": [
           {
            "marker": {
             "colorbar": {
              "outlinewidth": 0,
              "ticks": ""
             }
            },
            "type": "scatterternary"
           }
          ],
          "surface": [
           {
            "colorbar": {
             "outlinewidth": 0,
             "ticks": ""
            },
            "colorscale": [
             [
              0,
              "#0d0887"
             ],
             [
              0.1111111111111111,
              "#46039f"
             ],
             [
              0.2222222222222222,
              "#7201a8"
             ],
             [
              0.3333333333333333,
              "#9c179e"
             ],
             [
              0.4444444444444444,
              "#bd3786"
             ],
             [
              0.5555555555555556,
              "#d8576b"
             ],
             [
              0.6666666666666666,
              "#ed7953"
             ],
             [
              0.7777777777777778,
              "#fb9f3a"
             ],
             [
              0.8888888888888888,
              "#fdca26"
             ],
             [
              1,
              "#f0f921"
             ]
            ],
            "type": "surface"
           }
          ],
          "table": [
           {
            "cells": {
             "fill": {
              "color": "#EBF0F8"
             },
             "line": {
              "color": "white"
             }
            },
            "header": {
             "fill": {
              "color": "#C8D4E3"
             },
             "line": {
              "color": "white"
             }
            },
            "type": "table"
           }
          ]
         },
         "layout": {
          "annotationdefaults": {
           "arrowcolor": "#2a3f5f",
           "arrowhead": 0,
           "arrowwidth": 1
          },
          "autotypenumbers": "strict",
          "coloraxis": {
           "colorbar": {
            "outlinewidth": 0,
            "ticks": ""
           }
          },
          "colorscale": {
           "diverging": [
            [
             0,
             "#8e0152"
            ],
            [
             0.1,
             "#c51b7d"
            ],
            [
             0.2,
             "#de77ae"
            ],
            [
             0.3,
             "#f1b6da"
            ],
            [
             0.4,
             "#fde0ef"
            ],
            [
             0.5,
             "#f7f7f7"
            ],
            [
             0.6,
             "#e6f5d0"
            ],
            [
             0.7,
             "#b8e186"
            ],
            [
             0.8,
             "#7fbc41"
            ],
            [
             0.9,
             "#4d9221"
            ],
            [
             1,
             "#276419"
            ]
           ],
           "sequential": [
            [
             0,
             "#0d0887"
            ],
            [
             0.1111111111111111,
             "#46039f"
            ],
            [
             0.2222222222222222,
             "#7201a8"
            ],
            [
             0.3333333333333333,
             "#9c179e"
            ],
            [
             0.4444444444444444,
             "#bd3786"
            ],
            [
             0.5555555555555556,
             "#d8576b"
            ],
            [
             0.6666666666666666,
             "#ed7953"
            ],
            [
             0.7777777777777778,
             "#fb9f3a"
            ],
            [
             0.8888888888888888,
             "#fdca26"
            ],
            [
             1,
             "#f0f921"
            ]
           ],
           "sequentialminus": [
            [
             0,
             "#0d0887"
            ],
            [
             0.1111111111111111,
             "#46039f"
            ],
            [
             0.2222222222222222,
             "#7201a8"
            ],
            [
             0.3333333333333333,
             "#9c179e"
            ],
            [
             0.4444444444444444,
             "#bd3786"
            ],
            [
             0.5555555555555556,
             "#d8576b"
            ],
            [
             0.6666666666666666,
             "#ed7953"
            ],
            [
             0.7777777777777778,
             "#fb9f3a"
            ],
            [
             0.8888888888888888,
             "#fdca26"
            ],
            [
             1,
             "#f0f921"
            ]
           ]
          },
          "colorway": [
           "#636efa",
           "#EF553B",
           "#00cc96",
           "#ab63fa",
           "#FFA15A",
           "#19d3f3",
           "#FF6692",
           "#B6E880",
           "#FF97FF",
           "#FECB52"
          ],
          "font": {
           "color": "#2a3f5f"
          },
          "geo": {
           "bgcolor": "white",
           "lakecolor": "white",
           "landcolor": "#E5ECF6",
           "showlakes": true,
           "showland": true,
           "subunitcolor": "white"
          },
          "hoverlabel": {
           "align": "left"
          },
          "hovermode": "closest",
          "mapbox": {
           "style": "light"
          },
          "paper_bgcolor": "white",
          "plot_bgcolor": "#E5ECF6",
          "polar": {
           "angularaxis": {
            "gridcolor": "white",
            "linecolor": "white",
            "ticks": ""
           },
           "bgcolor": "#E5ECF6",
           "radialaxis": {
            "gridcolor": "white",
            "linecolor": "white",
            "ticks": ""
           }
          },
          "scene": {
           "xaxis": {
            "backgroundcolor": "#E5ECF6",
            "gridcolor": "white",
            "gridwidth": 2,
            "linecolor": "white",
            "showbackground": true,
            "ticks": "",
            "zerolinecolor": "white"
           },
           "yaxis": {
            "backgroundcolor": "#E5ECF6",
            "gridcolor": "white",
            "gridwidth": 2,
            "linecolor": "white",
            "showbackground": true,
            "ticks": "",
            "zerolinecolor": "white"
           },
           "zaxis": {
            "backgroundcolor": "#E5ECF6",
            "gridcolor": "white",
            "gridwidth": 2,
            "linecolor": "white",
            "showbackground": true,
            "ticks": "",
            "zerolinecolor": "white"
           }
          },
          "shapedefaults": {
           "line": {
            "color": "#2a3f5f"
           }
          },
          "ternary": {
           "aaxis": {
            "gridcolor": "white",
            "linecolor": "white",
            "ticks": ""
           },
           "baxis": {
            "gridcolor": "white",
            "linecolor": "white",
            "ticks": ""
           },
           "bgcolor": "#E5ECF6",
           "caxis": {
            "gridcolor": "white",
            "linecolor": "white",
            "ticks": ""
           }
          },
          "title": {
           "x": 0.05
          },
          "xaxis": {
           "automargin": true,
           "gridcolor": "white",
           "linecolor": "white",
           "ticks": "",
           "title": {
            "standoff": 15
           },
           "zerolinecolor": "white",
           "zerolinewidth": 2
          },
          "yaxis": {
           "automargin": true,
           "gridcolor": "white",
           "linecolor": "white",
           "ticks": "",
           "title": {
            "standoff": 15
           },
           "zerolinecolor": "white",
           "zerolinewidth": 2
          }
         }
        },
        "title": {
         "text": "Tree Visualization"
        },
        "xaxis": {
         "showgrid": false,
         "showline": false,
         "showticklabels": false,
         "zeroline": false
        },
        "yaxis": {
         "showgrid": false,
         "showline": false,
         "showticklabels": false,
         "zeroline": false
        }
       }
      }
     },
     "metadata": {},
     "output_type": "display_data"
    }
   ],
   "source": [
    "## Now see the tree build in action\n",
    "RA.visualize_tree()"
   ]
  }
 ],
 "metadata": {
  "kernelspec": {
   "display_name": ".venv",
   "language": "python",
   "name": "python3"
  },
  "language_info": {
   "codemirror_mode": {
    "name": "ipython",
    "version": 3
   },
   "file_extension": ".py",
   "mimetype": "text/x-python",
   "name": "python",
   "nbconvert_exporter": "python",
   "pygments_lexer": "ipython3",
   "version": "3.10.9"
  }
 },
 "nbformat": 4,
 "nbformat_minor": 5
}
